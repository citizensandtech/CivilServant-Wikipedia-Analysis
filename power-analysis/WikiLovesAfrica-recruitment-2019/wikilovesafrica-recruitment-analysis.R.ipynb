{
 "cells": [
  {
   "cell_type": "markdown",
   "metadata": {},
   "source": [
    "# WikiLovesAfrica Recruitment Analysis\n",
    "[J. Nathan Matias](https://natematias.com), February 2019\n",
    "\n",
    "This code carries out the following functions:\n",
    "- generates the treatment message for the WikiLovesAfrica experiment\n",
    "- carries out randomizations, based on data about previous contributors to WikiLovesAfrica ([code](https://paws.wmflabs.org/paws/user/CS_natematias/notebooks/Query%20WikiLovesAfrica%20Images%20and%20How%20Often%20They%20Were%20Viewed.ipynb)) ([data](https://paws.wmflabs.org/paws/user/CS_natematias/edit/wikilovesafrica_all_contributor_stats_20190120.csv))"
   ]
  },
  {
   "cell_type": "markdown",
   "metadata": {},
   "source": [
    "## Load Data about WikiLovesAfrica Contributors"
   ]
  },
  {
   "cell_type": "code",
   "execution_count": 64,
   "metadata": {},
   "outputs": [],
   "source": [
    "## Load from CS_natematias PAWS account\n",
    "wla.contributors <- read.csv(url(\"https://paws-public.wmflabs.org/paws-public/User:CS_natematias/wikilovesafrica_all_contributor_stats_20190120.csv\"))\n",
    "wla.images <- read.csv(url(\"https://paws-public.wmflabs.org/paws-public/User:CS_natematias/wikilovesafrica_all_images_usage_view_metadata_20190120.csv\"))"
   ]
  },
  {
   "cell_type": "markdown",
   "metadata": {},
   "source": [
    "## Load Data about WikiLovesAfrica Views"
   ]
  },
  {
   "cell_type": "code",
   "execution_count": 13,
   "metadata": {},
   "outputs": [],
   "source": [
    "data.dir = \"~/Tresors/CivilServant/projects/wikipedia-integration/wikipedia-loves-africa/mediacounts\""
   ]
  },
  {
   "cell_type": "code",
   "execution_count": 21,
   "metadata": {},
   "outputs": [],
   "source": [
    "wla.views <- read.csv(file.path(data.dir, \"wla-mediacounts-by-file-2015-2018.csv\"))\n",
    "wla.views$img_name <- wla.views$filename_unquoted "
   ]
  },
  {
   "cell_type": "code",
   "execution_count": 47,
   "metadata": {},
   "outputs": [],
   "source": [
    "wla.image.views <- merge(x=wla.images, y=wla.views, by=\"img_name\", all.x = TRUE)"
   ]
  },
  {
   "cell_type": "code",
   "execution_count": 48,
   "metadata": {},
   "outputs": [
    {
     "name": "stdout",
     "output_type": "stream",
     "text": [
      "[1] \"Images:  39085\"\n",
      "[1] \"View records:  35606\"\n",
      "[1] \"Image + View records:  39085\"\n"
     ]
    }
   ],
   "source": [
    "print(paste(\"Images: \", nrow(wla.images)))\n",
    "print(paste(\"View records: \", nrow(wla.views)))\n",
    "print(paste(\"Image + View records: \", nrow(wla.image.views)))"
   ]
  },
  {
   "cell_type": "markdown",
   "metadata": {},
   "source": [
    "## Produce Report about Transfers\n",
    "The included transfers are from 2015-2018."
   ]
  },
  {
   "cell_type": "code",
   "execution_count": 61,
   "metadata": {},
   "outputs": [
    {
     "name": "stdout",
     "output_type": "stream",
     "text": [
      "[1] \"39,085 WikiLovesAfrica submissions from 4,658 contributors had 7,457 article appearances as of Jan 2019 and had received 278,859,973 views between 2015 through the end of 2018.\"\n"
     ]
    }
   ],
   "source": [
    "print(paste(prettyNum(nrow(wla.image.views), big.mark=\",\"), \n",
    "            \"WikiLovesAfrica submissions from\",\n",
    "            prettyNum(length(unique(wla.images$img_user)), big.mark=\",\"),\n",
    "            \"contributors had\",\n",
    "            prettyNum(sum(wla.images$article_usage_count), big.mark=\",\"),\n",
    "            \"article appearances as of Jan 2019 and had received\", \n",
    "            prettyNum(sum(wla.views$total_transfers),big.mark = \",\"),\n",
    "            \"views between 2015 through the end of 2018.\"))"
   ]
  },
  {
   "cell_type": "code",
   "execution_count": 116,
   "metadata": {},
   "outputs": [],
   "source": [
    "### Probability to Return At Least Once\n",
    "wla.contributors$returned <- wla.contributors$last_wla_year > wla.contributors$first_wla_year"
   ]
  },
  {
   "cell_type": "code",
   "execution_count": 117,
   "metadata": {},
   "outputs": [
    {
     "data": {
      "text/plain": [
       "   Mode   FALSE    TRUE \n",
       "logical    4529     129 "
      ]
     },
     "metadata": {},
     "output_type": "display_data"
    }
   ],
   "source": [
    "summary(wla.contributors$returned)"
   ]
  },
  {
   "cell_type": "markdown",
   "metadata": {},
   "source": [
    "# Carry out Randomizations"
   ]
  },
  {
   "cell_type": "code",
   "execution_count": 128,
   "metadata": {},
   "outputs": [],
   "source": [
    "library(blockTools)    # For matching pairs based on Mahalanobis distance\n",
    "set.seed(1550547161)   # Set random seed\n",
    "options(repr.plot.width=7, repr.plot.height=3.5)"
   ]
  },
  {
   "cell_type": "code",
   "execution_count": 109,
   "metadata": {},
   "outputs": [
    {
     "name": "stdout",
     "output_type": "stream",
     "text": [
      "[1] \"FIRST WLA YEAR\"\n",
      "2014 2015 2016 2017 \n",
      " 844  690  771 2353 \n",
      "[1] \"LAST WLA YEAR\"\n",
      "2014 2015 2016 2017 \n",
      " 798  665  748 2447 \n",
      "[1] \"TOTAL IMAGE ARTICLE USAGE COUNT\"\n"
     ]
    },
    {
     "data": {
      "image/png": "[encoded data removed]",
      "text/plain": [
       "Plot with title “Histogram of log1p(wla.contributors$usage_count)”"
      ]
     },
     "metadata": {},
     "output_type": "display_data"
    }
   ],
   "source": [
    "print(\"FIRST WLA YEAR\")\n",
    "print(summary(factor(wla.contributors$first_wla_year)))\n",
    "print(\"LAST WLA YEAR\")\n",
    "print(summary(factor(wla.contributors$last_wla_year)))\n",
    "print(\"TOTAL IMAGE ARTICLE USAGE COUNT\")\n",
    "hist(log1p(wla.contributors$usage_count))"
   ]
  },
  {
   "cell_type": "code",
   "execution_count": 110,
   "metadata": {},
   "outputs": [],
   "source": [
    "wla.contributors$id <- seq(1,nrow(wla.contributors))"
   ]
  },
  {
   "cell_type": "code",
   "execution_count": 138,
   "metadata": {},
   "outputs": [],
   "source": [
    "wla.contributors$blocks <- \n",
    "    createBlockIDs(obj <- block(data=wla.contributors[c(\"last_wla_year\", \"username\", \"image_count\", \"returned\")],\n",
    "                            n.tr=3,\n",
    "                            id.vars=\"username\",\n",
    "                            groups=c(\"last_wla_year\"),\n",
    "                            block_vars=c(\"image_count\"),\n",
    "                            distance=\"mahalanobis\"),\n",
    "                   data = wla.contributors,\n",
    "                   id.var = \"username\")"
   ]
  },
  {
   "cell_type": "code",
   "execution_count": 142,
   "metadata": {},
   "outputs": [],
   "source": [
    "wla.assignments <- assignment(obj, seed = 1550547161, namesCol=c(\"Control\", \"Altruism\", \"Competition\"))"
   ]
  },
  {
   "cell_type": "code",
   "execution_count": 150,
   "metadata": {},
   "outputs": [
    {
     "data": {
      "text/plain": [
       "\n",
       "Units differing by at least  and no\n",
       "more than  on image_count:\n",
       "\n",
       "Group: 2014 \n",
       "      [,1]                                           \n",
       "[1,]  No units with different treatments are suspect.\n",
       "\n",
       "Group: 2015 \n",
       "      [,1]                                           \n",
       "[1,]  No units with different treatments are suspect.\n",
       "\n",
       "Group: 2016 \n",
       "      [,1]                                           \n",
       "[1,]  No units with different treatments are suspect.\n",
       "\n",
       "Group: 2017 \n",
       "      [,1]                                           \n",
       "[1,]  No units with different treatments are suspect.\n"
      ]
     },
     "metadata": {},
     "output_type": "display_data"
    }
   ],
   "source": [
    "diagnose(wla.assignments, data = wla.contributors, \n",
    "         id.vars=\"username\", suspect.var=\"image_count\")"
   ]
  },
  {
   "cell_type": "markdown",
   "metadata": {},
   "source": [
    "### Write assignments to CSV:"
   ]
  },
  {
   "cell_type": "code",
   "execution_count": 166,
   "metadata": {},
   "outputs": [],
   "source": [
    "write.csv(wla.assignments$assg$\"2014\", \n",
    "          file=file.path(\"random-assignments\",\n",
    "                         \"2014.randomizations.csv\"),\n",
    "          fileEncoding = \"UTF-8\")\n",
    "\n",
    "write.csv(wla.assignments$assg$\"2015\", \n",
    "          file=file.path(\"random-assignments\",\n",
    "                         \"2015.randomizations.csv\"),\n",
    "          fileEncoding = \"UTF-8\")\n",
    "\n",
    "write.csv(wla.assignments$assg$\"2016\", \n",
    "          file=file.path(\"random-assignments\",\n",
    "                         \"2016.randomizations.csv\"),\n",
    "          fileEncoding = \"UTF-8\")\n",
    "\n",
    "write.csv(wla.assignments$assg$\"2017\", \n",
    "          file=file.path(\"random-assignments\",\n",
    "                         \"2017.randomizations.csv\"),\n",
    "          fileEncoding = \"UTF-8\")"
   ]
  },
  {
   "cell_type": "code",
   "execution_count": null,
   "metadata": {},
   "outputs": [],
   "source": []
  }
 ],
 "metadata": {
  "kernelspec": {
   "display_name": "R",
   "language": "R",
   "name": "ir"
  },
  "language_info": {
   "codemirror_mode": "r",
   "file_extension": ".r",
   "mimetype": "text/x-r-source",
   "name": "R",
   "pygments_lexer": "r",
   "version": "3.5.1"
  }
 },
 "nbformat": 4,
 "nbformat_minor": 2
}
