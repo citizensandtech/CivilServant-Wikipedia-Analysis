{
 "cells": [
  {
   "cell_type": "markdown",
   "metadata": {},
   "source": [
    "# Reporting Thanker and Thankee Power Analyses May 2019\n",
    "[J. Nathan Matias](https://natematias.com) May 27, 2019\n",
    "\n",
    "This document reports the results of two power analyses related to CivilServant's Wikipedia research:\n",
    "* Thanks Recipient Study:\n",
    "  * Experiment Plan: [The Effect of Receiving Thanks on Wikipedia](https://www.overleaf.com/project/5c379e06f882d02f5b8c9f44)\n",
    "  * Power Analysis: [thanks-recipient-experiment-power-analysis-R.ipynb](thanks-recipient-experiment-power-analysis-R.ipynb)\n",
    "* Thanks Sender Study:\n",
    "  * Experiment Plan: [Mentoring and Protection in Wikipedia Moderation](https://www.overleaf.com/project/5c376605f882d02f5b8c714a)\n",
    "  * Power Analysis: [../thanker-experiment-2019/thanker-experiment-power-analysis-R.ipynb](../thanker-experiment-2019/thanker-experiment-power-analysis-R.ipynb)\n",
    "  \n",
    "As of the date above, the experiment plans have been synchronized with this power analysis."
   ]
  },
  {
   "cell_type": "markdown",
   "metadata": {},
   "source": [
    "## Power Analysis: The Effect of Receiving Thanks on Wikipedia"
   ]
  },
  {
   "cell_type": "markdown",
   "metadata": {},
   "source": []
  },
  {
   "cell_type": "markdown",
   "metadata": {},
   "source": [
    "## Power Analysis: The Effect of Sending Thanks on Wikipedia"
   ]
  },
  {
   "cell_type": "code",
   "execution_count": null,
   "metadata": {},
   "outputs": [],
   "source": []
  }
 ],
 "metadata": {
  "kernelspec": {
   "display_name": "R",
   "language": "R",
   "name": "ir"
  },
  "language_info": {
   "codemirror_mode": "r",
   "file_extension": ".r",
   "mimetype": "text/x-r-source",
   "name": "R",
   "pygments_lexer": "r",
   "version": "3.5.1"
  }
 },
 "nbformat": 4,
 "nbformat_minor": 2
}
