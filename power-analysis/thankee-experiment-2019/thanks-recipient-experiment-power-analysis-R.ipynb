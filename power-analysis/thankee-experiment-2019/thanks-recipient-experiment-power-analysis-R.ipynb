{
 "cells": [
  {
   "cell_type": "markdown",
   "metadata": {},
   "source": [
    "# Thanks Recipient Experiment Power Analysis\n",
    "[J. Nathan Matias](https://github.com/natematias)\n",
    "February 2019\n",
    "\n",
    "Some components of this are drawn from [github.com/natematias/poweranalysis-onlinebehavior](https://github.com/natematias/poweranalysis-onlinebehavior).\n",
    "\n",
    "Eventually, this power analysis code will ask a series of questions of [historical data prepared by Max Klein](https://docs.google.com/document/d/1RKJZqoWKQuWDoKk94drIEsJWK6kBUeZ8KIJOyEqDTTE/edit) and produce a series of answers used for power analysis and study design in CivilServant's research with Wikipedians on [the effects of giving thanks to other Wikipedians](https://meta.wikimedia.org/wiki/Research:Testing_capacity_of_expressions_of_gratitude_to_enhance_experience_and_motivation_of_editors):\n",
    "* The experiment plan is on Overleaf: [Experiment Plan: Mentoring and Protection in Wikipedia Moderation](https://www.overleaf.com/project/5c379e06f882d02f5b8c9f44)\n",
    "\n",
    "This analysis will define and report the following:\n",
    "\n",
    "* Assumptions about minimum observable treatment effects for each DV\n",
    "* Reports on the statistical power, bias, and type S error rate for all possible estimators, given the above assumptions\n",
    "* Data-driven decisions:\n",
    "    * Decisions about the final set of measures to use\n",
    "    * Decisions about the randomization procedure\n",
    "    * Decisions about the final estimators to use\n",
    "    * Decisions about the sample size to specify for the experiment\n",
    "    * Decisions about any stop rules to use in the experiment\n",
    "\n",
    "**Note:** Since the thanks recipient study will involve participants on multiple language Wikipedias, this code defines a procedure that can be reproduced for the following language wikipedias:\n",
    "* German\n",
    "* Persian\n",
    "* Arabic\n",
    "* Plish"
   ]
  },
  {
   "cell_type": "markdown",
   "metadata": {},
   "source": [
    "# Load Libraries"
   ]
  },
  {
   "cell_type": "code",
   "execution_count": 77,
   "metadata": {},
   "outputs": [
    {
     "data": {
      "text/plain": [
       "R version 3.5.1 (2018-07-02)\n",
       "Platform: x86_64-pc-linux-gnu (64-bit)\n",
       "Running under: Ubuntu 16.04.5 LTS\n",
       "\n",
       "Matrix products: default\n",
       "BLAS: /usr/lib/libblas/libblas.so.3.6.0\n",
       "LAPACK: /usr/lib/lapack/liblapack.so.3.6.0\n",
       "\n",
       "locale:\n",
       " [1] LC_CTYPE=en_US.UTF-8       LC_NUMERIC=C              \n",
       " [3] LC_TIME=en_US.UTF-8        LC_COLLATE=en_US.UTF-8    \n",
       " [5] LC_MONETARY=en_US.UTF-8    LC_MESSAGES=en_US.UTF-8   \n",
       " [7] LC_PAPER=en_US.UTF-8       LC_NAME=C                 \n",
       " [9] LC_ADDRESS=C               LC_TELEPHONE=C            \n",
       "[11] LC_MEASUREMENT=en_US.UTF-8 LC_IDENTIFICATION=C       \n",
       "\n",
       "attached base packages:\n",
       "[1] stats     graphics  grDevices utils     datasets  methods   base     \n",
       "\n",
       "other attached packages:\n",
       " [1] DeclareDesign_0.12.0 estimatr_0.14        fabricatr_0.6.0     \n",
       " [4] randomizr_0.16.1     viridis_0.5.1        viridisLite_0.3.0   \n",
       " [7] forcats_0.3.0        stringr_1.3.1        purrr_0.2.5         \n",
       "[10] readr_1.2.1          tidyr_0.8.2          tibble_1.4.2        \n",
       "[13] tidyverse_1.2.1      rlang_0.3.0.1        ggplot2_3.1.0       \n",
       "[16] MASS_7.3-51.1        dplyr_0.7.8         \n",
       "\n",
       "loaded via a namespace (and not attached):\n",
       " [1] pbdZMQ_0.3-3     tidyselect_0.2.5 repr_0.18        haven_2.0.0     \n",
       " [5] lattice_0.20-38  colorspace_1.3-2 generics_0.0.2   htmltools_0.3.6 \n",
       " [9] base64enc_0.1-3  pillar_1.3.0     glue_1.3.0       withr_2.1.2     \n",
       "[13] modelr_0.1.2     readxl_1.1.0     bindrcpp_0.2.2   uuid_0.1-2      \n",
       "[17] bindr_0.1.1      plyr_1.8.4       munsell_0.5.0    gtable_0.2.0    \n",
       "[21] cellranger_1.1.0 rvest_0.3.2      evaluate_0.12    labeling_0.3    \n",
       "[25] broom_0.5.1      IRdisplay_0.7.0  Rcpp_1.0.0       scales_1.0.0    \n",
       "[29] backports_1.1.2  IRkernel_0.8.14  jsonlite_1.6     gridExtra_2.3   \n",
       "[33] hms_0.4.2        digest_0.6.18    stringi_1.2.4    grid_3.5.1      \n",
       "[37] cli_1.0.1        tools_3.5.1      magrittr_1.5     lazyeval_0.2.1  \n",
       "[41] Formula_1.2-3    crayon_1.3.4     pkgconfig_2.0.2  xml2_1.2.0      \n",
       "[45] lubridate_1.7.4  assertthat_0.2.0 httr_1.3.1       rstudioapi_0.8  \n",
       "[49] R6_2.3.0         nlme_3.1-137     compiler_3.5.1  "
      ]
     },
     "metadata": {},
     "output_type": "display_data"
    }
   ],
   "source": [
    "options(\"scipen\"=9, \"digits\"=4)\n",
    "library(dplyr)\n",
    "library(MASS)\n",
    "library(ggplot2)\n",
    "library(rlang)\n",
    "library(tidyverse)\n",
    "library(viridis)\n",
    "library(DeclareDesign)\n",
    "## Installed DeclareDesign 0.13 using the following command:\n",
    "# install.packages(\"DeclareDesign\", dependencies = TRUE,\n",
    "#                 repos = c(\"http://R.declaredesign.org\", \"https://cloud.r-project.org\"))\n",
    "\n",
    "## DOCUMENTATION AT: https://cran.r-project.org/web/packages/DeclareDesign/DeclareDesign.pdf\n",
    "cbPalette <- c(\"#999999\", \"#E69F00\", \"#56B4E9\", \"#009E73\", \"#F0E442\", \"#0072B2\", \"#D55E00\", \"#CC79A7\")\n",
    "options(repr.plot.width=7, repr.plot.height=3.5)\n",
    "sessionInfo()"
   ]
  },
  {
   "cell_type": "markdown",
   "metadata": {},
   "source": [
    "# Utility Methods"
   ]
  },
  {
   "cell_type": "code",
   "execution_count": 2,
   "metadata": {},
   "outputs": [],
   "source": [
    "# Return the difference in mu associated with an incidence rate ratio\n",
    "# from a negative binomial model. This difference can then be used to\n",
    "# simulate a negative binomial distribution for the effect of a given irr\n",
    "#                                                                       \n",
    "#` @param mu The baseline mu in question                               \n",
    "#` @param irr The incidence rate ratio in question\n",
    "mu.diff.from.mu.irr <- function(mu, irr){\n",
    "    mu*(irr-1)\n",
    "}\n",
    "\n",
    "# Return the total sum of betas for a\n",
    "# logistic regression, given a probability\n",
    "#\n",
    "#` @param p the probability in question\n",
    "betas.logit.from.prob <- function(p){\n",
    "    log(p/(1-p))\n",
    "}\n",
    "\n",
    "\n",
    "# Return the total sum of betas for a\n",
    "# logistic regression, given a probability\n",
    "#\n",
    "#` @param Y list of observed Ys\n",
    "betas.logit.from.mean <- function(Y){\n",
    "    p = mean(Y)\n",
    "    log(p/(1-p))\n",
    "}\n",
    "\n",
    "# Return the minimum power reported in a diagnosis\n",
    "# \n",
    "#` @param diagnosis\n",
    "min.diagnosis.power <- function(diagnosis){\n",
    "    min(diagnosis$diagnosands_df['power'])\n",
    "}"
   ]
  },
  {
   "cell_type": "code",
   "execution_count": 3,
   "metadata": {},
   "outputs": [],
   "source": [
    "# Conduct a binary search for a certain level of statistical power\n",
    "# within the constraints of a configuration file\n",
    "#\n",
    "#` @param config.df The configuration file in question\n",
    "#` @diagnosis.method The method that conducts a single DeclareDesign diagnosis and returns the diagnosis\n",
    "#` @target.power The statistical power that ideally should be the minimum across the study\n",
    "#` @target.tolerance How close to the desired statistical power is close enough?\n",
    "#` @min.sample.diff If the search is close enough that the change is less than min.sample.diff, end the search\n",
    "#` @start.sample.size if specified, use the starting value as the initial sample size to use\n",
    "\n",
    "search.for.power <- function(config.df, diagnosis.method = diagnose.experiment, \n",
    "                             target.power = 0.85, target.tolerance = 0.01, \n",
    "                             min.sample.diff = 100,\n",
    "                             start.sample.size = NA){  \n",
    "    max.sample.size = config.df$n.max\n",
    "    min.sample.size = config.df$n.min\n",
    "    if(is.na(start.sample.size)){\n",
    "        current.sample.size = as.integer(max.sample.size / 2)\n",
    "    }else{\n",
    "        current.sample.size = start.sample.size\n",
    "    }\n",
    "    current.power = 0.0\n",
    "\n",
    "    ## Initialize first iteration\n",
    "    print(paste(\"min:\", min.sample.size, \"max:\", max.sample.size, \"current:\", current.sample.size))\n",
    "    flush.console()\n",
    "\n",
    "    ptm = proc.time() #record time the simulation started\n",
    "    ddf <- diagnosis.method(current.sample.size, config.df)\n",
    "    ddf$diagnosands$n <- current.sample.size\n",
    "    diagnoses.df = ddf$diagnosands\n",
    "    current.power <- min.diagnosis.power(ddf)\n",
    "\n",
    "    ## output elapsed time for this iteration\n",
    "    time.elapsed <- proc.time() -  ptm\n",
    "    print(paste(\"     seconds:\", as.integer(time.elapsed['elapsed'])))\n",
    "\n",
    "    \n",
    "    if(current.power < target.power){\n",
    "        min.sample.size = current.sample.size\n",
    "        print(paste(current.power, \"<\", target.power))\n",
    "    }else{\n",
    "        max.sample.size = current.sample.size\n",
    "        print(paste(current.power, \">\", target.power))\n",
    "    }\n",
    "\n",
    "    current.sample.size = min.sample.size + as.integer((max.sample.size - min.sample.size)/2)\n",
    "    while(all.equal(target.power, current.power, tolerance = target.tolerance)!=TRUE){\n",
    "        print(paste(\"min:\", min.sample.size, \"max:\", max.sample.size, \"current:\", current.sample.size))\n",
    "        flush.console()\n",
    "\n",
    "        ptm = proc.time() #record time the simulation started\n",
    "\n",
    "        ## conduct simulations\n",
    "        ddf <- diagnosis.method(current.sample.size, config.df)\n",
    "        ddf$diagnosands$n <- current.sample.size\n",
    "        ## append simulation results to dataframe\n",
    "        diagnoses.df <- rbind(diagnoses.df, ddf$diagnosands)\n",
    "        \n",
    "        ## output elapsed time for this iteration\n",
    "        time.elapsed <- proc.time() -  ptm\n",
    "        print(paste(\"     seconds:\", as.integer(time.elapsed['elapsed'])))\n",
    "\n",
    "\n",
    "        ## check the current statistical power and\n",
    "        ## carry out the binary search by first updating the boundaries\n",
    "        current.power <- min.diagnosis.power(ddf)\n",
    "        if(current.power < target.power){\n",
    "            min.sample.size = current.sample.size\n",
    "            print(paste(current.power, \"<\", target.power))\n",
    "        }else{\n",
    "            max.sample.size = current.sample.size\n",
    "            print(paste(current.power, \">\", target.power))\n",
    "        }\n",
    "        ## update the current pointer, or break if\n",
    "        ## the sample size difference is less than or equal\n",
    "        ## to ten\n",
    "        sample.size.diff <- as.integer((max.sample.size - min.sample.size)/2)\n",
    "        if(abs(sample.size.diff) <= min.sample.diff){\n",
    "            print(paste(\"Sample size difference \", abs(sample.size.diff), \n",
    "                        \" <= \", min.sample.diff, \". Ending cycle.\", sep=\"\"))\n",
    "            break\n",
    "        }\n",
    "        current.sample.size = min.sample.size + sample.size.diff\n",
    "    }\n",
    "    diagnoses.df\n",
    "}"
   ]
  },
  {
   "cell_type": "code",
   "execution_count": 4,
   "metadata": {},
   "outputs": [],
   "source": [
    "# Iterate linearly for a certain level of statistical power\n",
    "# within the constraints of a configuration file\n",
    "# at a certain sample size increment. Useful for\n",
    "# illustrating ideas, or for comparing estimators with\n",
    "# very different statistical power, where the binary search\n",
    "# will optimize for the worst estimator but not show useful\n",
    "# indormation about more efficient estimators\n",
    "#\n",
    "#` @param config.df The configuration file in question\n",
    "#` @diagnosis.method The method that conducts a single DeclareDesign diagnosis and returns the diagnosis\n",
    "#` @iteration.interval when iterating, use this interval between sample sizes\n",
    "\n",
    "iterate.for.power <- function(config.df, diagnosis.method = diagnose.experiment, \n",
    "                             iteration.interval){  \n",
    "    max.sample.size = config.df$n.max\n",
    "    min.sample.size = config.df$n.min\n",
    "    current.sample.size = min.sample.size\n",
    "    \n",
    "    iteration.count = ceiling((max.sample.size - min.sample.size) / iteration.interval)\n",
    "\n",
    "    ## Initialize first iteration\n",
    "    print(paste(\"min:\", min.sample.size, \"max:\", max.sample.size, \"current:\", current.sample.size))\n",
    "    flush.console()\n",
    "\n",
    "    ptm = proc.time()\n",
    "    ddf <- diagnosis.method(current.sample.size, config.df)\n",
    "    ddf$diagnosands$n <- current.sample.size\n",
    "    diagnoses.df = ddf$diagnosands\n",
    "    current.power <- min.diagnosis.power(ddf)\n",
    "    time.elapsed <- proc.time() -  ptm\n",
    "    print(paste(\"     seconds:\", as.integer(time.elapsed['elapsed'])))\n",
    "    \n",
    "    for(i in seq(1, iteration.count)){\n",
    "        current.sample.size = current.sample.size + iteration.interval\n",
    "        print(paste(\"min:\", min.sample.size, \"max:\", max.sample.size, \"current:\", current.sample.size))\n",
    "        flush.console()\n",
    "    \n",
    "        ptm = proc.time()\n",
    "        ## conduct simulations\n",
    "        ddf <- diagnosis.method(current.sample.size, config.df)\n",
    "        ddf$diagnosands$n <- current.sample.size\n",
    "        ## append simulation results to dataframe\n",
    "        diagnoses.df <- rbind(diagnoses.df, ddf$diagnosands)\n",
    "        time.elapsed <- proc.time() -  ptm\n",
    "        print(paste(\"     seconds:\", as.integer(time.elapsed['elapsed'])))\n",
    "    }\n",
    "    diagnoses.df\n",
    "}"
   ]
  },
  {
   "cell_type": "code",
   "execution_count": 5,
   "metadata": {},
   "outputs": [],
   "source": [
    "# Create a plot of a power search or iteration output\n",
    "# Especially useful in cases with multiple DVs or estimators\n",
    "#\n",
    "#' @param diagnoses Dataframe of diagnosis info\n",
    "#` @param config.df the power analysis config dataframe\n",
    "\n",
    "plot.power.results <- function(diagnoses, config.df){\n",
    "    for(estimator_label in unique(diagnoses$estimator_label)){\n",
    "        estimator.diagnoses <- diagnoses[diagnoses$estimator_label==estimator_label,]\n",
    "        estimator_min_sample = min(estimator.diagnoses$n[estimator.diagnoses$power>0.8])\n",
    "        p <- ggplot(data=estimator.diagnoses, aes(n, power)) +\n",
    "                geom_point(color=\"coral\") +\n",
    "                xlab(\"sample size\") +\n",
    "                ylim(0,1) +\n",
    "                geom_hline(aes(yintercept=0.8), linetype=\"dashed\") +\n",
    "                theme_light() +\n",
    "                ggtitle(paste(config.df$pa.label, \": statistical Power for Estimator \", estimator_label, \"\\n\",\n",
    "                              \"Minimum sample: \", estimator_min_sample, sep=\"\")) +\n",
    "                ggsave(paste(\"figures/power.analysis.\", make.names(estimator_label), \".\", config.df$pa.label, \".png\", sep=\"\"))\n",
    "    }\n",
    "}"
   ]
  },
  {
   "cell_type": "markdown",
   "metadata": {},
   "source": [
    "# Load Power Analysis Dataframes and Review The Data"
   ]
  },
  {
   "cell_type": "code",
   "execution_count": 13,
   "metadata": {},
   "outputs": [],
   "source": [
    "data.path <- \"~/Tresors/CivilServant/projects/wikipedia-integration/gratitude-study/datasets/power_analysis\"\n",
    "de.power.df <- read.csv(file.path(data.path, \"de_gratitude_power-analysis_dataset_sim_date_20180306_v1.csv\"))\n",
    "fa.ar.pl.power.df <- de.power.df <- read.csv(file.path(data.path, \"gratitude_power-analysis_dataset_sim_date_20180306_v1.csv\"))\n",
    "fa.power.df <- subset(fa.ar.pl.power.df, lang=\"fa\")\n",
    "ar.power.df <- subset(fa.ar.pl.power.df, lang=\"ar\")\n",
    "pl.power.df <- subset(subset(fa.ar.pl.power.df, lang=\"fa\"))\n",
    "\n",
    "simulated.treatment.date <- as.Date(\"20180306\", \"%Y%M%D\")"
   ]
  },
  {
   "cell_type": "markdown",
   "metadata": {},
   "source": [
    "## Issues with the dataset\n",
    "This is a list of discrepancies between the specification and the data file, Feb 2019\n",
    "* `num_prev_thanks_before_treatment` should be called `num_prev_thanks_pre_treatment`, as specified in the \"data needed\" file\n",
    "* `newcomer` should be defined in the CSV\n",
    "* `labor` should be spelled consistently"
   ]
  },
  {
   "cell_type": "markdown",
   "metadata": {},
   "source": [
    "## Review Blocking & Assignment Variables"
   ]
  },
  {
   "cell_type": "code",
   "execution_count": 62,
   "metadata": {},
   "outputs": [
    {
     "data": {
      "text/html": [
       "<dl class=dl-horizontal>\n",
       "\t<dt>0</dt>\n",
       "\t\t<dd>1387</dd>\n",
       "\t<dt>90</dt>\n",
       "\t\t<dd>1200</dd>\n",
       "\t<dt>180</dt>\n",
       "\t\t<dd>1200</dd>\n",
       "\t<dt>365</dt>\n",
       "\t\t<dd>1200</dd>\n",
       "\t<dt>730</dt>\n",
       "\t\t<dd>1200</dd>\n",
       "\t<dt>1460</dt>\n",
       "\t\t<dd>1200</dd>\n",
       "\t<dt>2920</dt>\n",
       "\t\t<dd>1200</dd>\n",
       "</dl>\n"
      ],
      "text/latex": [
       "\\begin{description*}\n",
       "\\item[0] 1387\n",
       "\\item[90] 1200\n",
       "\\item[180] 1200\n",
       "\\item[365] 1200\n",
       "\\item[730] 1200\n",
       "\\item[1460] 1200\n",
       "\\item[2920] 1200\n",
       "\\end{description*}\n"
      ],
      "text/markdown": [
       "0\n",
       ":   138790\n",
       ":   1200180\n",
       ":   1200365\n",
       ":   1200730\n",
       ":   12001460\n",
       ":   12002920\n",
       ":   1200\n",
       "\n"
      ],
      "text/plain": [
       "   0   90  180  365  730 1460 2920 \n",
       "1387 1200 1200 1200 1200 1200 1200 "
      ]
     },
     "metadata": {},
     "output_type": "display_data"
    }
   ],
   "source": [
    "# VARIABLE: experience_level_pre_treatment: Definition: \n",
    "#  the elapsed number of days between registration \n",
    "#  and last edit in the observation period up to the simulated treatment date\n",
    "\n",
    "de.power.df$prev_experience <- as.integer(gsub(\"bin_\", \"\", de.power.df$experience_level_pre_treatment))\n",
    "de.power.df$prev_experience <- factor(de.power.df$prev_experience, \n",
    "                                      levels = sort(unique(de.power.df$prev_experience)))\n",
    "\n",
    "summary(factor(de.power.df$prev_experience))\n",
    "\n",
    "# VARIABLE: newcomer: accounts that were created within in the last 90 days, \n",
    "#   and which have made at least 3 edits since starting their account\n",
    "de.power.df$newcomer <- de.power.df$experience_level_pre_treatment == \"bin_0\" & \n",
    "    de.power.df$num_edits_90_pre_treatment >= 3\n",
    "\n",
    "# VARIABLE: num_prev_thanks_pre_treatment\n",
    "de.power.df$num_prev_thanks_pre_treatment <- de.power.df$num_prev_thanks_before_treatment"
   ]
  },
  {
   "cell_type": "markdown",
   "metadata": {},
   "source": [
    "Notice that active Wikipedia editors who have been around for longer and who are part of this sample tend to write more edits and put in more labor hours on average. This is a *very* good reason to block on those characteristics."
   ]
  },
  {
   "cell_type": "code",
   "execution_count": 64,
   "metadata": {},
   "outputs": [
    {
     "data": {
      "text/html": [
       "<table>\n",
       "<thead><tr><th scope=col>Group.1</th><th scope=col>num_edits_90_pre_treatment</th></tr></thead>\n",
       "<tbody>\n",
       "\t<tr><td>0     </td><td> 3.969</td></tr>\n",
       "\t<tr><td>90    </td><td>13.292</td></tr>\n",
       "\t<tr><td>180   </td><td>41.049</td></tr>\n",
       "\t<tr><td>365   </td><td>45.230</td></tr>\n",
       "\t<tr><td>730   </td><td>80.653</td></tr>\n",
       "\t<tr><td>1460  </td><td>74.476</td></tr>\n",
       "\t<tr><td>2920  </td><td>98.986</td></tr>\n",
       "</tbody>\n",
       "</table>\n"
      ],
      "text/latex": [
       "\\begin{tabular}{r|ll}\n",
       " Group.1 & num\\_edits\\_90\\_pre\\_treatment\\\\\n",
       "\\hline\n",
       "\t 0      &  3.969\\\\\n",
       "\t 90     & 13.292\\\\\n",
       "\t 180    & 41.049\\\\\n",
       "\t 365    & 45.230\\\\\n",
       "\t 730    & 80.653\\\\\n",
       "\t 1460   & 74.476\\\\\n",
       "\t 2920   & 98.986\\\\\n",
       "\\end{tabular}\n"
      ],
      "text/markdown": [
       "\n",
       "Group.1 | num_edits_90_pre_treatment | \n",
       "|---|---|---|---|---|---|---|\n",
       "| 0      |  3.969 | \n",
       "| 90     | 13.292 | \n",
       "| 180    | 41.049 | \n",
       "| 365    | 45.230 | \n",
       "| 730    | 80.653 | \n",
       "| 1460   | 74.476 | \n",
       "| 2920   | 98.986 | \n",
       "\n",
       "\n"
      ],
      "text/plain": [
       "  Group.1 num_edits_90_pre_treatment\n",
       "1 0        3.969                    \n",
       "2 90      13.292                    \n",
       "3 180     41.049                    \n",
       "4 365     45.230                    \n",
       "5 730     80.653                    \n",
       "6 1460    74.476                    \n",
       "7 2920    98.986                    "
      ]
     },
     "metadata": {},
     "output_type": "display_data"
    },
    {
     "data": {
      "text/html": [
       "<table>\n",
       "<thead><tr><th scope=col>Group.1</th><th scope=col>labour_hours_90_pre_treatment</th></tr></thead>\n",
       "<tbody>\n",
       "\t<tr><td>0     </td><td> 1.865</td></tr>\n",
       "\t<tr><td>90    </td><td> 3.959</td></tr>\n",
       "\t<tr><td>180   </td><td> 4.960</td></tr>\n",
       "\t<tr><td>365   </td><td> 6.633</td></tr>\n",
       "\t<tr><td>730   </td><td> 7.893</td></tr>\n",
       "\t<tr><td>1460  </td><td> 9.635</td></tr>\n",
       "\t<tr><td>2920  </td><td>14.685</td></tr>\n",
       "</tbody>\n",
       "</table>\n"
      ],
      "text/latex": [
       "\\begin{tabular}{r|ll}\n",
       " Group.1 & labour\\_hours\\_90\\_pre\\_treatment\\\\\n",
       "\\hline\n",
       "\t 0      &  1.865\\\\\n",
       "\t 90     &  3.959\\\\\n",
       "\t 180    &  4.960\\\\\n",
       "\t 365    &  6.633\\\\\n",
       "\t 730    &  7.893\\\\\n",
       "\t 1460   &  9.635\\\\\n",
       "\t 2920   & 14.685\\\\\n",
       "\\end{tabular}\n"
      ],
      "text/markdown": [
       "\n",
       "Group.1 | labour_hours_90_pre_treatment | \n",
       "|---|---|---|---|---|---|---|\n",
       "| 0      |  1.865 | \n",
       "| 90     |  3.959 | \n",
       "| 180    |  4.960 | \n",
       "| 365    |  6.633 | \n",
       "| 730    |  7.893 | \n",
       "| 1460   |  9.635 | \n",
       "| 2920   | 14.685 | \n",
       "\n",
       "\n"
      ],
      "text/plain": [
       "  Group.1 labour_hours_90_pre_treatment\n",
       "1 0        1.865                       \n",
       "2 90       3.959                       \n",
       "3 180      4.960                       \n",
       "4 365      6.633                       \n",
       "5 730      7.893                       \n",
       "6 1460     9.635                       \n",
       "7 2920    14.685                       "
      ]
     },
     "metadata": {},
     "output_type": "display_data"
    }
   ],
   "source": [
    "## SHOW NUM EDITS BY EXPERIENCE GROUP:\n",
    "aggregate(de.power.df[c(\"num_edits_90_pre_treatment\")],\n",
    "          FUN=mean, by = list(de.power.df$prev_experience))\n",
    "\n",
    "## SHOW LABOR HOURS BY EXPERIENCE GROUP:\n",
    "aggregate(de.power.df[c(\"labour_hours_90_pre_treatment\")],\n",
    "          FUN=mean, by = list(de.power.df$prev_experience))"
   ]
  },
  {
   "cell_type": "markdown",
   "metadata": {},
   "source": [
    "Notice that the number of previous thanks are strongly correlated with the experience groups. This will simplify our paired matching based on Mahalanobis distance."
   ]
  },
  {
   "cell_type": "code",
   "execution_count": 65,
   "metadata": {},
   "outputs": [
    {
     "data": {
      "text/html": [
       "<table>\n",
       "<thead><tr><th scope=col>Group.1</th><th scope=col>num_prev_thanks_pre_treatment</th></tr></thead>\n",
       "<tbody>\n",
       "\t<tr><td>0       </td><td> 0.04182</td></tr>\n",
       "\t<tr><td>90      </td><td> 0.30583</td></tr>\n",
       "\t<tr><td>180     </td><td> 0.71250</td></tr>\n",
       "\t<tr><td>365     </td><td> 1.63667</td></tr>\n",
       "\t<tr><td>730     </td><td> 3.22750</td></tr>\n",
       "\t<tr><td>1460    </td><td>10.43250</td></tr>\n",
       "\t<tr><td>2920    </td><td>19.13167</td></tr>\n",
       "</tbody>\n",
       "</table>\n"
      ],
      "text/latex": [
       "\\begin{tabular}{r|ll}\n",
       " Group.1 & num\\_prev\\_thanks\\_pre\\_treatment\\\\\n",
       "\\hline\n",
       "\t 0        &  0.04182\\\\\n",
       "\t 90       &  0.30583\\\\\n",
       "\t 180      &  0.71250\\\\\n",
       "\t 365      &  1.63667\\\\\n",
       "\t 730      &  3.22750\\\\\n",
       "\t 1460     & 10.43250\\\\\n",
       "\t 2920     & 19.13167\\\\\n",
       "\\end{tabular}\n"
      ],
      "text/markdown": [
       "\n",
       "Group.1 | num_prev_thanks_pre_treatment | \n",
       "|---|---|---|---|---|---|---|\n",
       "| 0        |  0.04182 | \n",
       "| 90       |  0.30583 | \n",
       "| 180      |  0.71250 | \n",
       "| 365      |  1.63667 | \n",
       "| 730      |  3.22750 | \n",
       "| 1460     | 10.43250 | \n",
       "| 2920     | 19.13167 | \n",
       "\n",
       "\n"
      ],
      "text/plain": [
       "  Group.1 num_prev_thanks_pre_treatment\n",
       "1 0        0.04182                     \n",
       "2 90       0.30583                     \n",
       "3 180      0.71250                     \n",
       "4 365      1.63667                     \n",
       "5 730      3.22750                     \n",
       "6 1460    10.43250                     \n",
       "7 2920    19.13167                     "
      ]
     },
     "metadata": {},
     "output_type": "display_data"
    }
   ],
   "source": [
    "## SHOW PREVIOUS THANKS BY EXPERIENCE GROUP:\n",
    "aggregate(de.power.df[c(\"num_prev_thanks_pre_treatment\")],\n",
    "          FUN=mean, by = list(de.power.df$prev_experience))"
   ]
  },
  {
   "cell_type": "markdown",
   "metadata": {},
   "source": [
    "## Construct and Review Behavioral Dependent Variables"
   ]
  },
  {
   "cell_type": "code",
   "execution_count": 72,
   "metadata": {},
   "outputs": [],
   "source": [
    "# VARIABLE: num.edit.diff: the number of edits\n",
    "# in the 90 days after treatment minutes the number in the 90 before treatment\n",
    "de.power.df$num.edit.diff <- de.power.df$num_edits_90_post_treatment - \n",
    "    de.power.df$num_edits_90_pre_treatment\n",
    "\n",
    "# VARIABLE: num.edit.diff: the number of edits\n",
    "# in the 90 days after treatment minutes the number in the 90 before treatment\n",
    "de.power.df$labor.hour.diff <- de.power.df$labour_hours_90_post_treatment - \n",
    "    de.power.df$labour_hours_90_pre_treatment"
   ]
  },
  {
   "cell_type": "markdown",
   "metadata": {},
   "source": [
    "Here we see that the average number of edits 90 days before and after imagined treatment is declining for every group except the groups that have been around for 730 to 1460 days."
   ]
  },
  {
   "cell_type": "code",
   "execution_count": 75,
   "metadata": {},
   "outputs": [
    {
     "data": {
      "text/html": [
       "<table>\n",
       "<thead><tr><th scope=col>Group.1</th><th scope=col>num.edit.diff</th></tr></thead>\n",
       "<tbody>\n",
       "\t<tr><td>0      </td><td> -1.657</td></tr>\n",
       "\t<tr><td>90     </td><td> -5.921</td></tr>\n",
       "\t<tr><td>180    </td><td> -5.971</td></tr>\n",
       "\t<tr><td>365    </td><td> -5.104</td></tr>\n",
       "\t<tr><td>730    </td><td>-12.426</td></tr>\n",
       "\t<tr><td>1460   </td><td> 14.837</td></tr>\n",
       "\t<tr><td>2920   </td><td>-15.012</td></tr>\n",
       "</tbody>\n",
       "</table>\n"
      ],
      "text/latex": [
       "\\begin{tabular}{r|ll}\n",
       " Group.1 & num.edit.diff\\\\\n",
       "\\hline\n",
       "\t 0       &  -1.657\\\\\n",
       "\t 90      &  -5.921\\\\\n",
       "\t 180     &  -5.971\\\\\n",
       "\t 365     &  -5.104\\\\\n",
       "\t 730     & -12.426\\\\\n",
       "\t 1460    &  14.837\\\\\n",
       "\t 2920    & -15.012\\\\\n",
       "\\end{tabular}\n"
      ],
      "text/markdown": [
       "\n",
       "Group.1 | num.edit.diff | \n",
       "|---|---|---|---|---|---|---|\n",
       "| 0       |  -1.657 | \n",
       "| 90      |  -5.921 | \n",
       "| 180     |  -5.971 | \n",
       "| 365     |  -5.104 | \n",
       "| 730     | -12.426 | \n",
       "| 1460    |  14.837 | \n",
       "| 2920    | -15.012 | \n",
       "\n",
       "\n"
      ],
      "text/plain": [
       "  Group.1 num.edit.diff\n",
       "1 0        -1.657      \n",
       "2 90       -5.921      \n",
       "3 180      -5.971      \n",
       "4 365      -5.104      \n",
       "5 730     -12.426      \n",
       "6 1460     14.837      \n",
       "7 2920    -15.012      "
      ]
     },
     "metadata": {},
     "output_type": "display_data"
    }
   ],
   "source": [
    "## SHOW NUM EDIT DIFF BY EXPERIENCE GROUP:\n",
    "aggregate(de.power.df[c(\"num.edit.diff\")],\n",
    "          FUN=mean, by = list(de.power.df$prev_experience))"
   ]
  },
  {
   "cell_type": "markdown",
   "metadata": {},
   "source": [
    "Here we see that the average number of labor hours 90 days before and after is declining for every group."
   ]
  },
  {
   "cell_type": "code",
   "execution_count": 76,
   "metadata": {},
   "outputs": [
    {
     "data": {
      "text/html": [
       "<table>\n",
       "<thead><tr><th scope=col>Group.1</th><th scope=col>labor.hour.diff</th></tr></thead>\n",
       "<tbody>\n",
       "\t<tr><td>0      </td><td>-1.1435</td></tr>\n",
       "\t<tr><td>90     </td><td>-2.0424</td></tr>\n",
       "\t<tr><td>180    </td><td>-0.9263</td></tr>\n",
       "\t<tr><td>365    </td><td>-1.2137</td></tr>\n",
       "\t<tr><td>730    </td><td>-1.3326</td></tr>\n",
       "\t<tr><td>1460   </td><td>-0.1311</td></tr>\n",
       "\t<tr><td>2920   </td><td>-1.7913</td></tr>\n",
       "</tbody>\n",
       "</table>\n"
      ],
      "text/latex": [
       "\\begin{tabular}{r|ll}\n",
       " Group.1 & labor.hour.diff\\\\\n",
       "\\hline\n",
       "\t 0       & -1.1435\\\\\n",
       "\t 90      & -2.0424\\\\\n",
       "\t 180     & -0.9263\\\\\n",
       "\t 365     & -1.2137\\\\\n",
       "\t 730     & -1.3326\\\\\n",
       "\t 1460    & -0.1311\\\\\n",
       "\t 2920    & -1.7913\\\\\n",
       "\\end{tabular}\n"
      ],
      "text/markdown": [
       "\n",
       "Group.1 | labor.hour.diff | \n",
       "|---|---|---|---|---|---|---|\n",
       "| 0       | -1.1435 | \n",
       "| 90      | -2.0424 | \n",
       "| 180     | -0.9263 | \n",
       "| 365     | -1.2137 | \n",
       "| 730     | -1.3326 | \n",
       "| 1460    | -0.1311 | \n",
       "| 2920    | -1.7913 | \n",
       "\n",
       "\n"
      ],
      "text/plain": [
       "  Group.1 labor.hour.diff\n",
       "1 0       -1.1435        \n",
       "2 90      -2.0424        \n",
       "3 180     -0.9263        \n",
       "4 365     -1.2137        \n",
       "5 730     -1.3326        \n",
       "6 1460    -0.1311        \n",
       "7 2920    -1.7913        "
      ]
     },
     "metadata": {},
     "output_type": "display_data"
    }
   ],
   "source": [
    "## SHOW LABOR HOUR DIFF BY EXPERIENCE GROUP:\n",
    "aggregate(de.power.df[c(\"labor.hour.diff\")],\n",
    "          FUN=mean, by = list(de.power.df$prev_experience))"
   ]
  },
  {
   "cell_type": "markdown",
   "metadata": {},
   "source": [
    "## Construct and Review a Person-Period Dataset for Survival Analysis"
   ]
  },
  {
   "cell_type": "code",
   "execution_count": null,
   "metadata": {},
   "outputs": [],
   "source": []
  }
 ],
 "metadata": {
  "kernelspec": {
   "display_name": "R",
   "language": "R",
   "name": "ir"
  },
  "language_info": {
   "codemirror_mode": "r",
   "file_extension": ".r",
   "mimetype": "text/x-r-source",
   "name": "R",
   "pygments_lexer": "r",
   "version": "3.5.1"
  }
 },
 "nbformat": 4,
 "nbformat_minor": 2
}
