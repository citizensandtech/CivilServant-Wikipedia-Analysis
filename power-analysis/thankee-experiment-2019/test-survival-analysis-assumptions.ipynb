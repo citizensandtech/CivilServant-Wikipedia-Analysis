{
 "cells": [
  {
   "cell_type": "markdown",
   "metadata": {},
   "source": [
    "# Test Assumptions of Survival Analysis\n",
    "[J. Nathan Matias](https://github.com/natematias)\n",
    "February 2019\n",
    "\n",
    "Retention measures and survival analyses both make the assumption that if someone doesn't edit in a given period, that they are finished with Wikipedia, or at least are unlikely to be an editor who makes regular contributions to Wikipedia. \n",
    "\n",
    "How true is this? If accounts leave Wikipedia and come back the next week or month, then estimates of retention or survival analyses might be under-counting participation in Wikipedia.\n",
    "\n",
    "In this short analysis, I compare the assumptions of several possible measures to try to develop a valid, usable measure of retention. The dataset analyzed in this code is [historical data prepared by Max Klein](https://docs.google.com/document/d/1RKJZqoWKQuWDoKk94drIEsJWK6kBUeZ8KIJOyEqDTTE/edit)."
   ]
  },
  {
   "cell_type": "markdown",
   "metadata": {},
   "source": [
    "## Load Libraries"
   ]
  },
  {
   "cell_type": "code",
   "execution_count": 1,
   "metadata": {},
   "outputs": [
    {
     "data": {
      "text/plain": [
       "131072"
      ]
     },
     "execution_count": 1,
     "metadata": {},
     "output_type": "execute_result"
    }
   ],
   "source": [
    "import os, sys, csv\n",
    "import matplotlib as plt\n",
    "import seaborn as sns\n",
    "\n",
    "## temporarily, until Max fixes the problem with lots of serialized timestamp objects within lines\n",
    "csv.field_size_limit(sys.maxsize)"
   ]
  },
  {
   "cell_type": "markdown",
   "metadata": {},
   "source": [
    "## Load Files"
   ]
  },
  {
   "cell_type": "code",
   "execution_count": 2,
   "metadata": {},
   "outputs": [],
   "source": [
    "homedir = \"/home/civilservant\"\n",
    "data_path = \"Tresors/CivilServant/projects/wikipedia-integration/gratitude-study/datasets/power_analysis\"\n",
    "\n",
    "de_power_df = []\n",
    "\n",
    "with open(os.path.join(homedir, data_path, \n",
    "                       \"de_gratitude_power-analysis_dataset_sim_date_20180306_v1.csv\"), \n",
    "          \"r\") as f:\n",
    "#    for line in f:\n",
    "#        de_power_df.append(line)\n",
    "    for row in csv.DictReader(f):\n",
    "        for key in row.keys():\n",
    "            if key.find(\"num\")>-1:\n",
    "                row[key] = int(float(row[key]))\n",
    "            elif key.find(\"any\") >-1:\n",
    "                row[key] = row[key] == \"True\"\n",
    "            elif key.find(\"hours\") >-1:\n",
    "                row[key] = float(row[key])\n",
    "        de_power_df.append(row)"
   ]
  },
  {
   "cell_type": "markdown",
   "metadata": {},
   "source": [
    "# Diagnostic Analyses"
   ]
  },
  {
   "cell_type": "markdown",
   "metadata": {},
   "source": [
    "## One Week Windows\n",
    "When looking retention in week windows, within experience groups, estimate the number of weeks with at least one edit that follow at least one observation of 0 edits in a week, over at least a month-long period"
   ]
  },
  {
   "cell_type": "code",
   "execution_count": 3,
   "metadata": {},
   "outputs": [],
   "source": [
    "week_range = [1,2,3,4,5,6,7,8,9,10,11,12]\n",
    "max_zero_eligible = 8"
   ]
  },
  {
   "cell_type": "code",
   "execution_count": 4,
   "metadata": {},
   "outputs": [],
   "source": [
    "def week_key(week):\n",
    "    return \"any_edits_week_\" + str(week) + \"_post_treatment\"\n",
    "\n",
    "for participant in de_power_df:\n",
    "    participant['any_edits_one_week_eligible_zeroes'] = None\n",
    "    participant['any_edits_one_week_false_dropouts'] = None\n",
    "\n",
    "for participant in de_power_df:\n",
    "\n",
    "    eligible_zeroes = 0\n",
    "    num_false_dropouts = 0\n",
    "    for week in week_range:\n",
    "        any_edits = participant[week_key(week)]\n",
    "        if(week <= max_zero_eligible):\n",
    "            if(any_edits == False):\n",
    "                eligible_zeroes +=1\n",
    "        if(eligible_zeroes > 0 and any_edits == True):\n",
    "            num_false_dropouts += 1\n",
    "    participant['any_edits_one_week_eligible_zeroes'] = eligible_zeroes\n",
    "    participant['any_edits_one_week_false_dropouts'] = num_false_dropouts\n"
   ]
  },
  {
   "cell_type": "code",
   "execution_count": 5,
   "metadata": {},
   "outputs": [],
   "source": [
    "# print the false dropout rate for a subset of Wikipedians in the sample\n",
    "# df: dataframe\n",
    "# lang: string of the language used (for subsampling and output)\n",
    "# newcomer: binary indicator for whether to subselect on newcomers\n",
    "def print_false_dropout_rate(df, dropout_key, weeks, lang, newcomer):\n",
    "    if(newcomer):\n",
    "        dropout_sum = sum([1 for x in df if \n",
    "                                   x[dropout_key] and\n",
    "                                   x['lang'] == lang and\n",
    "                                   x['experience_level_pre_treatment']==\"bin_0\"])*100 / \\\n",
    "                          len([x for x in df if \n",
    "                                   x['lang'] == lang and \n",
    "                                   x['experience_level_pre_treatment']==\"bin_0\"])\n",
    "    else:\n",
    "        dropout_sum = sum([1 for x in df if \n",
    "                                   x[dropout_key] and\n",
    "                                   x['lang'] == lang])*100 / \\\n",
    "                          len([x for x in df if \n",
    "                                   x['lang'] == lang])        \n",
    "    \n",
    "    newcomer_string = \"\"\n",
    "    if(newcomer):\n",
    "        newcomer_string = \" newcomer\"\n",
    "    \n",
    "    print(\"A total of {:.1f}% of sampled \".format(dropout_sum) + \n",
    "          lang + newcomer_string + \n",
    "          \" Wikipedia accounts have false dropouts over 4 weeks with \" +\n",
    "          weeks + \" week observation windows.\")\n"
   ]
  },
  {
   "cell_type": "code",
   "execution_count": 6,
   "metadata": {},
   "outputs": [
    {
     "name": "stdout",
     "output_type": "stream",
     "text": [
      "A total of 3.0% of sampled de newcomer Wikipedia accounts have false dropouts over 4 weeks with one week observation windows.\n",
      "\n",
      "A total of 15.0% of sampled de Wikipedia accounts have false dropouts over 4 weeks with one week observation windows.\n"
     ]
    }
   ],
   "source": [
    "print_false_dropout_rate(de_power_df, 'any_edits_one_week_false_dropouts', \n",
    "                         \"one\", \"de\", True)\n",
    "print()\n",
    "print_false_dropout_rate(de_power_df, 'any_edits_one_week_false_dropouts', \n",
    "                         \"one\", \"de\", False)"
   ]
  },
  {
   "cell_type": "markdown",
   "metadata": {},
   "source": [
    "## When looking retention in 2 week windows, estimate the number of 2 week periods with at least one edit that follow at least one observation of 0 edits, over at least a month-long period"
   ]
  },
  {
   "cell_type": "code",
   "execution_count": 7,
   "metadata": {},
   "outputs": [],
   "source": [
    "for participant in de_power_df:\n",
    "    participant['any_edits_two_week_eligible_zeroes'] = None\n",
    "    participant['any_edits_two_week_false_dropouts'] = None\n",
    "    \n",
    "for participant in de_power_df:\n",
    "\n",
    "    eligible_zeroes = 0\n",
    "    num_false_dropouts = 0\n",
    "    for week in range(1,week_range[-1]+1, 2):\n",
    "        any_edits = participant[week_key(week)] or participant[week_key(week+1)]\n",
    "        if(week < max_zero_eligible-1):\n",
    "            if(any_edits == False):\n",
    "                eligible_zeroes +=1\n",
    "        if(eligible_zeroes > 0 and any_edits == True):\n",
    "            num_false_dropouts += 1\n",
    "    participant['any_edits_two_week_eligible_zeroes'] = eligible_zeroes\n",
    "    participant['any_edits_two_week_false_dropouts'] = num_false_dropouts"
   ]
  },
  {
   "cell_type": "code",
   "execution_count": 8,
   "metadata": {},
   "outputs": [
    {
     "name": "stdout",
     "output_type": "stream",
     "text": [
      "A total of 2.3% of sampled de newcomer Wikipedia accounts have false dropouts over 4 weeks with two week observation windows.\n",
      "\n",
      "A total of 11.8% of sampled de Wikipedia accounts have false dropouts over 4 weeks with two week observation windows.\n"
     ]
    }
   ],
   "source": [
    "print_false_dropout_rate(de_power_df, 'any_edits_two_week_false_dropouts', \n",
    "                         \"two\", \"de\", True)\n",
    "print()\n",
    "print_false_dropout_rate(de_power_df, 'any_edits_two_week_false_dropouts', \n",
    "                         \"two\", \"de\", False)"
   ]
  },
  {
   "cell_type": "markdown",
   "metadata": {},
   "source": [
    "## When looking retention in 3 week windows, estimate the number of 3 week periods with at least one edit that follow at least one observation of 0 edits, over at least a month-long period"
   ]
  },
  {
   "cell_type": "code",
   "execution_count": 9,
   "metadata": {},
   "outputs": [],
   "source": [
    "for participant in de_power_df:\n",
    "    participant['any_edits_three_week_eligible_zeroes'] = None\n",
    "    participant['any_edits_three_week_false_dropouts'] = None\n",
    "    \n",
    "for participant in de_power_df:\n",
    "\n",
    "    eligible_zeroes = 0\n",
    "    num_false_dropouts = 0\n",
    "    for week in range(1,week_range[-3]+1, 3):\n",
    "        any_edits = participant[week_key(week)] or participant[week_key(week+1)] or participant[week_key(week+2)]\n",
    "        if(week < max_zero_eligible-2):\n",
    "            if(any_edits == False):\n",
    "                eligible_zeroes +=1\n",
    "        if(eligible_zeroes > 0 and any_edits == True):\n",
    "            num_false_dropouts += 1\n",
    "    participant['any_edits_three_week_eligible_zeroes'] = eligible_zeroes\n",
    "    participant['any_edits_three_week_false_dropouts'] = num_false_dropouts\n"
   ]
  },
  {
   "cell_type": "code",
   "execution_count": 10,
   "metadata": {},
   "outputs": [
    {
     "name": "stdout",
     "output_type": "stream",
     "text": [
      "A total of 1.7% of sampled de newcomer Wikipedia accounts have false dropouts over 4 weeks with three week observation windows.\n",
      "\n",
      "A total of 8.9% of sampled de Wikipedia accounts have false dropouts over 4 weeks with three week observation windows.\n"
     ]
    }
   ],
   "source": [
    "print_false_dropout_rate(de_power_df, 'any_edits_three_week_false_dropouts', \n",
    "                         \"three\", \"de\", True)\n",
    "print()\n",
    "print_false_dropout_rate(de_power_df, 'any_edits_three_week_false_dropouts', \n",
    "                         \"three\", \"de\", False)"
   ]
  },
  {
   "cell_type": "markdown",
   "metadata": {},
   "source": [
    "### ## When looking retention in 4 week windows, estimate the number of 4 week periods with at least one edit that follow at least one observation of 0 edits, over at least a month-long period"
   ]
  },
  {
   "cell_type": "code",
   "execution_count": 11,
   "metadata": {},
   "outputs": [],
   "source": [
    "for participant in de_power_df:\n",
    "    participant['any_edits_four_week_eligible_zeroes'] = None\n",
    "    participant['any_edits_four_week_false_dropouts'] = None\n",
    "    \n",
    "for participant in de_power_df:\n",
    "    eligible_zeroes = 0\n",
    "    num_false_dropouts = 0\n",
    "    for week in range(1,week_range[-4]+1, 4):\n",
    "        any_edits = participant[week_key(week)] or participant[week_key(week+1)] or participant[week_key(week+2)] or participant[week_key(week+3)]\n",
    "        if(week < max_zero_eligible-4):\n",
    "            if(any_edits == False):\n",
    "                eligible_zeroes +=1\n",
    "        if(eligible_zeroes > 0 and any_edits == True):\n",
    "            num_false_dropouts += 1\n",
    "    participant['any_edits_four_week_eligible_zeroes'] = eligible_zeroes\n",
    "    participant['any_edits_four_week_false_dropouts'] = num_false_dropouts\n"
   ]
  },
  {
   "cell_type": "code",
   "execution_count": 12,
   "metadata": {},
   "outputs": [
    {
     "name": "stdout",
     "output_type": "stream",
     "text": [
      "A total of 1.7% of sampled de newcomer Wikipedia accounts have false dropouts over 4 weeks with four week observation windows.\n",
      "\n",
      "A total of 6.0% of sampled de Wikipedia accounts have false dropouts over 4 weeks with four week observation windows.\n"
     ]
    }
   ],
   "source": [
    "print_false_dropout_rate(de_power_df, 'any_edits_four_week_false_dropouts', \n",
    "                         \"four\", \"de\", True)\n",
    "print()\n",
    "print_false_dropout_rate(de_power_df, 'any_edits_four_week_false_dropouts', \n",
    "                         \"four\", \"de\", False)"
   ]
  }
 ],
 "metadata": {
  "kernelspec": {
   "display_name": "Python 3",
   "language": "python",
   "name": "python3"
  },
  "language_info": {
   "codemirror_mode": {
    "name": "ipython",
    "version": 3
   },
   "file_extension": ".py",
   "mimetype": "text/x-python",
   "name": "python",
   "nbconvert_exporter": "python",
   "pygments_lexer": "ipython3",
   "version": "3.5.2"
  }
 },
 "nbformat": 4,
 "nbformat_minor": 2
}
