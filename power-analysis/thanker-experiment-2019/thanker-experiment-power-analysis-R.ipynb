{
 "cells": [
  {
   "cell_type": "markdown",
   "metadata": {},
   "source": [
    "# Thanker Experiment Power Analysis\n",
    "[J. Nathan Matias](https://github.com/natematias)\n",
    "February 2019\n",
    "\n",
    "Some components of this are drawn from [github.com/natematias/poweranalysis-onlinebehavior](https://github.com/natematias/poweranalysis-onlinebehavior).\n",
    "\n",
    "Eventually, this power analysis code will ask a series of questions of [historical data prepared by Max Klein](https://docs.google.com/document/d/1VTisnIBafttzCNPAlEV149Mhyqc7D2Q_96OA9hKmp_M/edit#) and produce a series of answers used for power analysis and study design in CivilServant's research with Wikipedians on [the effects of giving thanks to other Wikipedians](https://meta.wikimedia.org/wiki/Research:Testing_capacity_of_expressions_of_gratitude_to_enhance_experience_and_motivation_of_editors):\n",
    "* The experiment plan is on Overleaf: [Experiment Plan: Mentoring and Protection in Wikipedia Moderation](https://www.overleaf.com/project/5c376605f882d02f5b8c714a)\n",
    "\n",
    "This analysis will define and report the following:\n",
    "\n",
    "* Assumptions about minimum observable treatment effects for each DV\n",
    "* Reports on the statistical power, bias, and type S error rate for all possible estimators, given the above assumptions\n",
    "* Data-driven decisions:\n",
    "    * Decisions about the final set of measures to use\n",
    "    * Decisions about the final estimators to use\n",
    "    * Decisions about the sample size to specify for the experiment\n",
    "    * Decisions about any stop rules to use in the experiment\n",
    "\n",
    "**Note:** Since the thanker study will involve a single group of participants from multiple language Wikipedias, this document reports a single power analysis. The experiment for thanks recipients covers multiple language Wikipedias."
   ]
  },
  {
   "cell_type": "code",
   "execution_count": 9,
   "metadata": {},
   "outputs": [
    {
     "data": {
      "text/plain": [
       "R version 3.5.1 (2018-07-02)\n",
       "Platform: x86_64-pc-linux-gnu (64-bit)\n",
       "Running under: Ubuntu 16.04.5 LTS\n",
       "\n",
       "Matrix products: default\n",
       "BLAS: /usr/lib/libblas/libblas.so.3.6.0\n",
       "LAPACK: /usr/lib/lapack/liblapack.so.3.6.0\n",
       "\n",
       "locale:\n",
       " [1] LC_CTYPE=en_US.UTF-8       LC_NUMERIC=C              \n",
       " [3] LC_TIME=en_US.UTF-8        LC_COLLATE=en_US.UTF-8    \n",
       " [5] LC_MONETARY=en_US.UTF-8    LC_MESSAGES=en_US.UTF-8   \n",
       " [7] LC_PAPER=en_US.UTF-8       LC_NAME=C                 \n",
       " [9] LC_ADDRESS=C               LC_TELEPHONE=C            \n",
       "[11] LC_MEASUREMENT=en_US.UTF-8 LC_IDENTIFICATION=C       \n",
       "\n",
       "attached base packages:\n",
       "[1] stats     graphics  grDevices utils     datasets  methods   base     \n",
       "\n",
       "other attached packages:\n",
       " [1] skimr_1.0.4          DeclareDesign_0.12.0 estimatr_0.14       \n",
       " [4] fabricatr_0.6.0      randomizr_0.16.1     viridis_0.5.1       \n",
       " [7] viridisLite_0.3.0    forcats_0.3.0        stringr_1.3.1       \n",
       "[10] purrr_0.2.5          readr_1.2.1          tidyr_0.8.2         \n",
       "[13] tibble_1.4.2         tidyverse_1.2.1      rlang_0.3.0.1       \n",
       "[16] ggplot2_3.1.0        MASS_7.3-51.1        dplyr_0.7.8         \n",
       "\n",
       "loaded via a namespace (and not attached):\n",
       " [1] pbdZMQ_0.3-3     tidyselect_0.2.5 repr_0.18        haven_2.0.0     \n",
       " [5] lattice_0.20-38  colorspace_1.3-2 generics_0.0.2   htmltools_0.3.6 \n",
       " [9] base64enc_0.1-3  pillar_1.3.0     glue_1.3.0       withr_2.1.2     \n",
       "[13] modelr_0.1.2     readxl_1.1.0     bindrcpp_0.2.2   uuid_0.1-2      \n",
       "[17] bindr_0.1.1      plyr_1.8.4       munsell_0.5.0    gtable_0.2.0    \n",
       "[21] cellranger_1.1.0 rvest_0.3.2      evaluate_0.12    broom_0.5.1     \n",
       "[25] IRdisplay_0.7.0  Rcpp_1.0.0       scales_1.0.0     backports_1.1.2 \n",
       "[29] IRkernel_0.8.14  jsonlite_1.6     gridExtra_2.3    hms_0.4.2       \n",
       "[33] digest_0.6.18    stringi_1.2.4    grid_3.5.1       cli_1.0.1       \n",
       "[37] tools_3.5.1      magrittr_1.5     lazyeval_0.2.1   Formula_1.2-3   \n",
       "[41] crayon_1.3.4     pkgconfig_2.0.2  xml2_1.2.0       lubridate_1.7.4 \n",
       "[45] assertthat_0.2.0 httr_1.3.1       rstudioapi_0.8   R6_2.3.0        \n",
       "[49] nlme_3.1-137     compiler_3.5.1  "
      ]
     },
     "metadata": {},
     "output_type": "display_data"
    }
   ],
   "source": [
    "## LOAD LIBRARIES\n",
    "options(\"scipen\"=9, \"digits\"=4)\n",
    "library(dplyr)\n",
    "library(MASS)\n",
    "library(ggplot2)\n",
    "library(rlang)\n",
    "library(tidyverse)\n",
    "library(viridis)\n",
    "library(DeclareDesign)\n",
    "library(skimr)\n",
    "# ## Installed DeclareDesign 0.13 using the following command:\n",
    "# # install.packages(\"DeclareDesign\", dependencies = TRUE,\n",
    "# #                 repos = c(\"http://R.declaredesign.org\", \"https://cloud.r-project.org\"))\n",
    "\n",
    "## DOCUMENTATION AT: https://cran.r-project.org/web/packages/DeclareDesign/DeclareDesign.pdf\n",
    "options(repr.plot.width=7, repr.plot.height=3.5)\n",
    "sessionInfo()"
   ]
  },
  {
   "cell_type": "markdown",
   "metadata": {},
   "source": [
    "# Configuration Settings"
   ]
  },
  {
   "cell_type": "code",
   "execution_count": 4,
   "metadata": {},
   "outputs": [],
   "source": [
    "#data.dir = \"~/Tresors/CivilServant/projects/wikipedia-integration/gratitude-study/datasets/power_analysis\""
   ]
  },
  {
   "cell_type": "markdown",
   "metadata": {},
   "source": [
    "# Step one: Creating a Plausible Population to Draw From\n",
    "\n",
    "In this study, we will publish banner ads to the following groups:\n",
    "* In Arabic Wikipedia, accounts that have \"autoreviewer\" status.\n",
    "* In German Wikipedia accounts that have permission to flag revisions.\n",
    "* In Persian Wikipedia, accounts registered for at least one year with at least 500 edits.\n",
    "* In Polish Wikipedia, accounts with permission to flag revisions."
   ]
  },
  {
   "cell_type": "markdown",
   "metadata": {},
   "source": [
    "### Load Thankee Power Analysis Datasets As Proxy for Thankers"
   ]
  },
  {
   "cell_type": "code",
   "execution_count": null,
   "metadata": {},
   "outputs": [],
   "source": []
  }
 ],
 "metadata": {
  "kernelspec": {
   "display_name": "R",
   "language": "R",
   "name": "ir"
  },
  "language_info": {
   "codemirror_mode": "r",
   "file_extension": ".r",
   "mimetype": "text/x-r-source",
   "name": "R",
   "pygments_lexer": "r",
   "version": "3.5.1"
  }
 },
 "nbformat": 4,
 "nbformat_minor": 2
}
