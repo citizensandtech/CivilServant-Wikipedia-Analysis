{
 "cells": [
  {
   "cell_type": "markdown",
   "metadata": {},
   "source": [
    "# Simulate Survey Answers for the Thanker Experiment\n",
    "[J. Nathan Matias](https://natematias.com) April 2019\n",
    "\n",
    "The purpose of this code is to take input from Engineering (Max) and generate survey answers\n",
    "* Input: List of account names from multiple language Wikipedias, for accounts that meet the inclusion criteria of the study\n",
    "* Output: Survey answers associated with Wikipedia accounts"
   ]
  },
  {
   "cell_type": "markdown",
   "metadata": {},
   "source": [
    "## Libraries and Configuration Settings"
   ]
  },
  {
   "cell_type": "code",
   "execution_count": 2,
   "metadata": {},
   "outputs": [
    {
     "data": {
      "text/plain": [
       "R version 3.5.1 (2018-07-02)\n",
       "Platform: x86_64-pc-linux-gnu (64-bit)\n",
       "Running under: Ubuntu 16.04.5 LTS\n",
       "\n",
       "Matrix products: default\n",
       "BLAS: /usr/lib/libblas/libblas.so.3.6.0\n",
       "LAPACK: /usr/lib/lapack/liblapack.so.3.6.0\n",
       "\n",
       "locale:\n",
       " [1] LC_CTYPE=en_US.UTF-8       LC_NUMERIC=C              \n",
       " [3] LC_TIME=en_US.UTF-8        LC_COLLATE=en_US.UTF-8    \n",
       " [5] LC_MONETARY=en_US.UTF-8    LC_MESSAGES=en_US.UTF-8   \n",
       " [7] LC_PAPER=en_US.UTF-8       LC_NAME=C                 \n",
       " [9] LC_ADDRESS=C               LC_TELEPHONE=C            \n",
       "[11] LC_MEASUREMENT=en_US.UTF-8 LC_IDENTIFICATION=C       \n",
       "\n",
       "attached base packages:\n",
       "[1] stats     graphics  grDevices utils     datasets  methods   base     \n",
       "\n",
       "other attached packages:\n",
       " [1] skimr_1.0.4          DeclareDesign_0.12.0 estimatr_0.14       \n",
       " [4] fabricatr_0.6.0      randomizr_0.16.1     gmodels_2.18.1      \n",
       " [7] viridis_0.5.1        viridisLite_0.3.0    forcats_0.3.0       \n",
       "[10] stringr_1.3.1        purrr_0.2.5          readr_1.2.1         \n",
       "[13] tidyr_0.8.2          tibble_1.4.2         tidyverse_1.2.1     \n",
       "[16] rlang_0.3.0.1        ggplot2_3.1.0        MASS_7.3-51.1       \n",
       "[19] dplyr_0.7.8         \n",
       "\n",
       "loaded via a namespace (and not attached):\n",
       " [1] Rcpp_1.0.0       lubridate_1.7.4  lattice_0.20-38  gtools_3.8.1    \n",
       " [5] assertthat_0.2.0 digest_0.6.18    IRdisplay_0.7.0  R6_2.3.0        \n",
       " [9] cellranger_1.1.0 plyr_1.8.4       repr_0.18        backports_1.1.2 \n",
       "[13] evaluate_0.12    httr_1.3.1       pillar_1.3.0     lazyeval_0.2.1  \n",
       "[17] uuid_0.1-2       readxl_1.1.0     rstudioapi_0.8   gdata_2.18.0    \n",
       "[21] munsell_0.5.0    broom_0.5.1      compiler_3.5.1   modelr_0.1.2    \n",
       "[25] pkgconfig_2.0.2  base64enc_0.1-3  htmltools_0.3.6  tidyselect_0.2.5\n",
       "[29] gridExtra_2.3    crayon_1.3.4     withr_2.1.2      grid_3.5.1      \n",
       "[33] nlme_3.1-137     jsonlite_1.6     gtable_0.2.0     magrittr_1.5    \n",
       "[37] scales_1.0.0     cli_1.0.1        stringi_1.2.4    bindrcpp_0.2.2  \n",
       "[41] xml2_1.2.0       generics_0.0.2   IRkernel_0.8.14  Formula_1.2-3   \n",
       "[45] tools_3.5.1      glue_1.3.0       hms_0.4.2        colorspace_1.3-2\n",
       "[49] rvest_0.3.2      pbdZMQ_0.3-3     bindr_0.1.1      haven_2.0.0     "
      ]
     },
     "metadata": {},
     "output_type": "display_data"
    }
   ],
   "source": [
    "## LOAD LIBRARIES\n",
    "options(\"scipen\"=9, \"digits\"=4)\n",
    "library(dplyr)\n",
    "library(MASS)\n",
    "library(ggplot2)\n",
    "library(rlang)\n",
    "library(tidyverse)\n",
    "library(viridis)\n",
    "library(gmodels)\n",
    "library(DeclareDesign)\n",
    "library(skimr)\n",
    "# ## Installed DeclareDesign 0.13 using the following command:\n",
    "# # install.packages(\"DeclareDesign\", dependencies = TRUE,\n",
    "# #                 repos = c(\"http://R.declaredesign.org\", \"https://cloud.r-project.org\"))\n",
    "\n",
    "## DOCUMENTATION AT: https://cran.r-project.org/web/packages/DeclareDesign/DeclareDesign.pdf\n",
    "options(repr.plot.width=7, repr.plot.height=3.5)\n",
    "sessionInfo()"
   ]
  },
  {
   "cell_type": "code",
   "execution_count": 4,
   "metadata": {},
   "outputs": [],
   "source": [
    "## LOAD THE DATA PATH\n",
    "data.path <- \"~/Tresors/CivilServant/projects/wikipedia-integration/gratitude-study/datasets/power_analysis\""
   ]
  },
  {
   "cell_type": "code",
   "execution_count": null,
   "metadata": {},
   "outputs": [],
   "source": []
  }
 ],
 "metadata": {
  "kernelspec": {
   "display_name": "R",
   "language": "R",
   "name": "ir"
  },
  "language_info": {
   "codemirror_mode": "r",
   "file_extension": ".r",
   "mimetype": "text/x-r-source",
   "name": "R",
   "pygments_lexer": "r",
   "version": "3.5.1"
  }
 },
 "nbformat": 4,
 "nbformat_minor": 2
}
