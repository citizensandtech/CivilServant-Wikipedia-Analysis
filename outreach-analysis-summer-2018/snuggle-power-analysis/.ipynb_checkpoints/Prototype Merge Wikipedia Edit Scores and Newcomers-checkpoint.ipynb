{
 "cells": [
  {
   "cell_type": "markdown",
   "metadata": {},
   "source": [
    "# Prototype: Merging Newcomer Dataframes with ORES scores for Newcomer Contributions\n",
    "June 8, 2018 J. Nathan Matias\n",
    "\n",
    "Using data sources from http://paws-public.wmflabs.org/paws-public/User:Juliakamin/Querying%20new%20editors%20via%20sql.ipynb"
   ]
  },
  {
   "cell_type": "code",
   "execution_count": 1,
   "metadata": {},
   "outputs": [],
   "source": [
    "%matplotlib inline \n",
    "import os, time, datetime, csv, glob, math, datetime, pprint\n",
    "from collections import defaultdict, Counter\n",
    "import matplotlib.pyplot as plt   # Matplotlib for plotting\n",
    "import pandas as pd\n",
    "import numpy as np\n",
    "from dateutil import parser\n",
    "lang = 'es'\n",
    "newcomer_file = os.path.join(\"data\", lang+\"_newcomer_list.csv\")\n",
    "newcomer_revisions_files = glob.glob(\n",
    "    os.path.join('data', lang + \"_newcomer_revisions*.csv\"))"
   ]
  },
  {
   "cell_type": "code",
   "execution_count": 2,
   "metadata": {},
   "outputs": [],
   "source": [
    "newcomers = {}\n",
    "counter = 0\n",
    "with open(newcomer_file, \"r\") as f:\n",
    "    for newcomer in csv.DictReader(f.readlines()):\n",
    "        ## REMOVE OUT THE PANDAS SEQUENTIAL INDEX\n",
    "        ## IF IT EXISTS\n",
    "        if '' in newcomer.keys():\n",
    "            del newcomer['']\n",
    "        newcomer['wiki']  = lang\n",
    "        newcomer['registration.date'] = datetime.datetime.strptime(\n",
    "        newcomer['registration'].replace(\"b'\",\"\").replace(\"'\",\"\"), \n",
    "        \"%Y%m%d%H%M%S\")\n",
    "        newcomers[newcomer['user id']] = newcomer\n",
    "        counter += 1"
   ]
  },
  {
   "cell_type": "code",
   "execution_count": 3,
   "metadata": {},
   "outputs": [
    {
     "name": "stdout",
     "output_type": "stream",
     "text": [
      "data/es_newcomer_revisions_4.csv\n",
      "data/es_newcomer_revisions_3.csv\n",
      "data/es_newcomer_revisions_2.csv\n",
      "data/es_newcomer_revisions_0.csv\n",
      "data/es_newcomer_revisions_1.csv\n"
     ]
    }
   ],
   "source": [
    "newcomer_revisions = defaultdict(list)\n",
    "all_ids = set()\n",
    "for filename in newcomer_revisions_files:\n",
    "    with open(filename, \"r\") as f:\n",
    "        print(filename)\n",
    "        for revision in csv.DictReader(f.readlines()):\n",
    "            revision['wiki'] = lang\n",
    "            revision_id = revision['revision id']\n",
    "            if('' in revision.keys()):\n",
    "                del revision['']\n",
    "            if(revision_id not in all_ids):\n",
    "                newcomer_revisions[revision['user id']].append(revision)\n",
    "                all_ids.add(revision_id)\n",
    "              \n",
    "for key, revisions in newcomer_revisions.items():\n",
    "    newcomer_revisions[key] = sorted(revisions, \n",
    "                                     key=lambda x:parser.parse(x['revision time']))"
   ]
  },
  {
   "cell_type": "markdown",
   "metadata": {},
   "source": [
    "### Data Validation\n",
    "Here, we confirm that every newcomer has at least one revision\n",
    "And that there aren't any revisions that have no newcomer"
   ]
  },
  {
   "cell_type": "code",
   "execution_count": 4,
   "metadata": {},
   "outputs": [
    {
     "name": "stdout",
     "output_type": "stream",
     "text": [
      "34357 total unique newcomers\n",
      "6348 total newcomers with edit records in the dataset\n"
     ]
    }
   ],
   "source": [
    "print(\"{0} total unique newcomers\".format(len(set([x for x in newcomers.keys()]))))\n",
    "print(\"{0} total newcomers with edit records in the dataset\".format(\n",
    "        len(newcomer_revisions.keys())))"
   ]
  },
  {
   "cell_type": "code",
   "execution_count": 5,
   "metadata": {},
   "outputs": [],
   "source": [
    "#list(newcomers.values())[-1]['registration']"
   ]
  },
  {
   "cell_type": "code",
   "execution_count": 6,
   "metadata": {},
   "outputs": [
    {
     "name": "stdout",
     "output_type": "stream",
     "text": [
      "6348 newcomers in revision set\n",
      "0 revisions not in newcomer set\n",
      "1 newcomers not in revision set\n"
     ]
    }
   ],
   "source": [
    "newcomers_in_revision_set = set()\n",
    "revisions_not_in_newcomer_set = set()\n",
    "newcomers_not_in_revision_set = set()\n",
    "for user_id, revisions in newcomer_revisions.items():\n",
    "    if user_id in newcomers.keys():\n",
    "        newcomers_in_revision_set.add(user_id)\n",
    "    else:\n",
    "        revisions_not_in_newcomer_set.add(user_id)\n",
    "\n",
    "for user_id in newcomers.keys():\n",
    "    if user_id not in newcomer_revisions.keys():\n",
    "        newcomers_not_in_revision_set.add(key)\n",
    "        \n",
    "print(\"{0} newcomers in revision set\".format(len(newcomers_in_revision_set)))\n",
    "print(\"{0} revisions not in newcomer set\".format(len(revisions_not_in_newcomer_set)))\n",
    "print(\"{0} newcomers not in revision set\".format(len(newcomers_not_in_revision_set)))"
   ]
  },
  {
   "cell_type": "markdown",
   "metadata": {},
   "source": [
    "### Create Revision Dataframe with Information on users"
   ]
  },
  {
   "cell_type": "code",
   "execution_count": 7,
   "metadata": {},
   "outputs": [],
   "source": [
    "all_revisions = []\n",
    "for user_id, revisions in newcomer_revisions.items():\n",
    "    newcomer = newcomers[user_id]\n",
    "    first_revision_time = None\n",
    "    if(len(revisions)>0):\n",
    "        first_revision_time = parser.parse(revisions[0]['revision time'])\n",
    "        treat_time = first_revision_time + datetime.timedelta(hours=48)\n",
    "    for revision in revisions:\n",
    "        revision_time = parser.parse(revision['revision time'])\n",
    "        revision['registration'] = newcomer['registration.date']\n",
    "        revision['days.since.registration'] = (revision_time - \n",
    "                                               revision['registration']).days\n",
    "        revision['days.since.simulated.treat'] = (revision_time - treat_time).days\n",
    "        revision['edits.6.months'] = newcomer['edit count']\n",
    "        all_revisions.append(revision)"
   ]
  },
  {
   "cell_type": "code",
   "execution_count": 8,
   "metadata": {},
   "outputs": [],
   "source": [
    "pd.DataFrame(all_revisions).to_csv(os.path.join(\n",
    "        \"data\", lang+\"_revisions_with_user_11.2017.csv\"))"
   ]
  },
  {
   "cell_type": "markdown",
   "metadata": {},
   "source": [
    "### Create User Dataframe with Summary Stats on Revisions\n",
    "For the power analysis, assume that the participant will be 'treated' within 2 days (48 hrs) of making their first edit. Then count the following information starting 2 days after their first edit:\n",
    "* edits in the 7 day period between 3-4 weeks\n",
    "* edits in the 4 week period between 1-2 months\n",
    "* edits in the 12 week period betwen 2-6 months"
   ]
  },
  {
   "cell_type": "code",
   "execution_count": 9,
   "metadata": {},
   "outputs": [],
   "source": [
    "for user_id, newcomer in newcomers.items():\n",
    "    for key in ['first.n.goodfaith.mean',\n",
    "                'first.n.goodfaith.median',\n",
    "                'first.n.damaging.mean',\n",
    "                'first.n.damaging.median',\n",
    "                'first.goodfaith.score',\n",
    "                'first.damaging.score']:\n",
    "        newcomer[key] = None\n",
    "\n",
    "    newcomer['ORES.rated.revisions'] = 0\n",
    "    \n",
    "    ## edits counted from registration time\n",
    "    newcomer['edits.6.months'] = 0\n",
    "    newcomer['edits.2.weeks']  = 0\n",
    "    newcomer['edits.4.weeks'] = 0\n",
    "    newcomer['edits.8.weeks'] = 0\n",
    "    newcomer['edits.12.weeks'] = 0\n",
    "    \n",
    "    ## time interval simulation for power analysis\n",
    "    ## following the outcome variables used in this paper:\n",
    "    ## https://osf.io/preprints/socarxiv/8qsv6/\n",
    "    newcomer['edits.3.4.weeks'] = 0\n",
    "    newcomer['edits.4.8.weeks'] = 0\n",
    "    newcomer['edits.8.24.weeks'] = 0\n",
    "\n",
    "    ## SURVIVAL MEASURE OVER 20 WEEK PERIODS (5 MONTHS)\n",
    "    ## BASED ON WHETHER THEY MADE AT LEAST ONE EDIT\n",
    "    ## AT ANY TIME AFTER THE OBSERVED PERIOD\n",
    "    ## This measure uses days.since.simulated.treat\n",
    "    ## for calculation\n",
    "    ## We only consider 5 months, since we only have six\n",
    "    ## months of information, and since some joined at the end of Nov\n",
    "    survival_weeks = 20\n",
    "    for i in range(1, survival_weeks+1):\n",
    "        newcomer['survival.week.period.' + str(i)] = False\n",
    "        \n",
    "    if user_id in newcomer_revisions:\n",
    "        revisions = newcomer_revisions[user_id]\n",
    "        \n",
    "        ### COUNT REVISIONS OVER A PERIOD OF TIME\n",
    "        newcomer['edits.6.months'] = len(revisions)\n",
    "        newcomer['edits.2.weeks'] = len([x for x in revisions if x['days.since.registration'] <= 7*2])\n",
    "        newcomer['edits.4.weeks'] = len([x for x in revisions if x['days.since.registration'] <= 7*4])\n",
    "        newcomer['edits.8.weeks'] = len([x for x in revisions if x['days.since.registration'] <= 7*8])\n",
    "        newcomer['edits.12.weeks'] = len([x for x in revisions if x['days.since.registration'] <= 7*12])\n",
    "        \n",
    "        ## SET TIME INTERVAL SIMULATION FOR POWER ANALYSIS\n",
    "        newcomer['edits.3.4.weeks'] = len([x for x in revisions if \n",
    "                                           x['days.since.simulated.treat'] >= 7*3 and\n",
    "                                           x['days.since.simulated.treat'] < 7*4 ])\n",
    "        newcomer['edits.4.8.weeks'] = len([x for x in revisions if \n",
    "                                           x['days.since.simulated.treat'] >= 7*4 and\n",
    "                                           x['days.since.simulated.treat'] < 7*8 ])\n",
    "        newcomer['edits.8.24.weeks'] = len([x for x in revisions if \n",
    "                                           x['days.since.simulated.treat'] >= 8*4 and\n",
    "                                           x['days.since.simulated.treat'] < 7*24 ])\n",
    "        \n",
    "        ## SET SURVIVAL COLUMNS\n",
    "        ## first, find eligible revisions \n",
    "        ## Negative day scores are for edits made in the 48 hours from the point of the first edit\n",
    "        ## and include the first edit\n",
    "        survival_revision_days = [x['days.since.simulated.treat'] for x in revisions if \n",
    "                              math.ceil(x['days.since.simulated.treat'] / 7) <= survival_weeks and \n",
    "                              x['days.since.simulated.treat'] > 0]\n",
    "        ## If there is at least one eligible revision\n",
    "        ## then we should update all appropriate survival periods to True\n",
    "        if(len(survival_revision_days)>0):\n",
    "            final_revision_day = survival_revision_days[-1]\n",
    "            final_revision_period = math.ceil(final_revision_day / 7)\n",
    "            for i in range(1, final_revision_period+1):\n",
    "                newcomer['survival.week.period.' + str(i)] = True\n",
    "        \n",
    "        ### AGGREGATE ORES SCORES\n",
    "        eligible_revisions = [x for x in revisions if \n",
    "                              x['goodfaith']!='na' and x['damaging']!='na' and\n",
    "                              x['goodfaith']!='error' and x['damaging']!='error']\n",
    "        newcomer['ORES.rated.revisions'] = len(eligible_revisions)\n",
    "        if(len(eligible_revisions)>0):\n",
    "            newcomer['first.goodfaith.score'] = float(eligible_revisions[0]['goodfaith'])\n",
    "            newcomer['first.damaging.score'] = float(eligible_revisions[0]['damaging'])\n",
    "            newcomer['first.n.goodfaith.mean'] = np.mean([float(x['goodfaith']) for x in eligible_revisions])\n",
    "            newcomer['first.n.goodfaith.median'] = np.median([float(x['goodfaith']) for x in eligible_revisions]) \n",
    "            newcomer['first.n.damaging.mean'] = np.mean([float(x['damaging']) for x in eligible_revisions])\n",
    "            newcomer['first.n.damaging.median'] = np.median([float(x['damaging']) for x in eligible_revisions])\n"
   ]
  },
  {
   "cell_type": "code",
   "execution_count": 10,
   "metadata": {},
   "outputs": [],
   "source": [
    "pd.DataFrame(list(newcomers.values())).to_csv(os.path.join(\n",
    "        \"data\", lang+\"_newcomers_with_ores_scores_11.2017.csv\"))"
   ]
  },
  {
   "cell_type": "markdown",
   "metadata": {},
   "source": [
    "### Make Survival Dataframe"
   ]
  },
  {
   "cell_type": "code",
   "execution_count": 11,
   "metadata": {},
   "outputs": [
    {
     "name": "stdout",
     "output_type": "stream",
     "text": [
      "Generated 183120 survival week periods\n"
     ]
    }
   ],
   "source": [
    "survival_week_records = []\n",
    "for user_id, newcomer in newcomers.items():\n",
    "    if(int(newcomer['edit count'])>0):        \n",
    "        for i in range(1, survival_weeks+1):\n",
    "            survival_week_records.append({\"user.id\": user_id,\n",
    "                                   \"week\":i,\n",
    "                                   \"first.goodfaith.score\":newcomer['first.goodfaith.score'],\n",
    "                                   \"first.damaging.score\":newcomer['first.damaging.score'],                                      \n",
    "                                   \"survived\":int(newcomer[\"survival.week.period.\"+str(i)])})\n",
    "print(\"Generated {0} survival week periods\".format(len(survival_week_records)))"
   ]
  },
  {
   "cell_type": "code",
   "execution_count": 12,
   "metadata": {},
   "outputs": [],
   "source": [
    "pd.DataFrame(survival_week_records).to_csv(os.path.join(\n",
    "        \"data\", lang+\"_newcomer_survival_week_periods.2017.csv\"))"
   ]
  },
  {
   "cell_type": "code",
   "execution_count": null,
   "metadata": {},
   "outputs": [],
   "source": []
  }
 ],
 "metadata": {
  "kernelspec": {
   "display_name": "Python 3",
   "language": "python",
   "name": "python3"
  },
  "language_info": {
   "codemirror_mode": {
    "name": "ipython",
    "version": 3
   },
   "file_extension": ".py",
   "mimetype": "text/x-python",
   "name": "python",
   "nbconvert_exporter": "python",
   "pygments_lexer": "ipython3",
   "version": "3.4.2"
  }
 },
 "nbformat": 4,
 "nbformat_minor": 1
}
