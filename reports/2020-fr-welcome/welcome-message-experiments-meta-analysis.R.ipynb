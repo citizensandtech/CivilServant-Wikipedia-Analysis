{
 "cells": [
  {
   "cell_type": "markdown",
   "metadata": {},
   "source": [
    "# Welcome Message Experiments Meta-Analysis\n",
    "[J. Nathan Matias](https://twitter.com/natematias), \n",
    "June 2021\n",
    "\n",
    "\n",
    "In addition to CAT Lab's Wikipedia welcome experiment, other communities have also done similar studies. More details are available [here](https://de.wikipedia.org/wiki/Wikipedia:WikiProjekt_Begr%C3%BC%C3%9Fung_von_Neulingen). This notebook attempts a meta-analysis of the two studies."
   ]
  },
  {
   "cell_type": "code",
   "execution_count": 5,
   "metadata": {},
   "outputs": [
    {
     "name": "stderr",
     "output_type": "stream",
     "text": [
      "Warning message:\n",
      "“package ‘ggpubr’ was built under R version 3.5.2”\n",
      "Loading required package: magrittr\n",
      "\n",
      "Loading required package: Matrix\n",
      "\n",
      "Warning message:\n",
      "“package ‘knitr’ was built under R version 3.5.2”\n",
      "\n",
      "Attaching package: ‘lmerTest’\n",
      "\n",
      "\n",
      "The following object is masked from ‘package:lme4’:\n",
      "\n",
      "    lmer\n",
      "\n",
      "\n",
      "The following object is masked from ‘package:stats’:\n",
      "\n",
      "    step\n",
      "\n",
      "\n",
      "Version:  1.36.23\n",
      "Date:     2017-03-03\n",
      "Author:   Philip Leifeld (University of Glasgow)\n",
      "\n",
      "Please cite the JSS article in your publications -- see citation(\"texreg\").\n",
      "\n",
      "\n",
      "Attaching package: ‘texreg’\n",
      "\n",
      "\n",
      "The following object is masked from ‘package:magrittr’:\n",
      "\n",
      "    extract\n",
      "\n",
      "\n",
      "Warning message:\n",
      "“package ‘plm’ was built under R version 3.5.2”\n"
     ]
    }
   ],
   "source": [
    "library(ggplot2)\n",
    "library(ggpubr)\n",
    "library(MASS)\n",
    "library(gmodels)\n",
    "library(lme4)\n",
    "library(broom)\n",
    "library(knitr)\n",
    "library(lmerTest)\n",
    "library(texreg)\n",
    "library(stringr)\n",
    "library(png)\n",
    "library(MASS)\n",
    "library(grid)\n",
    "library(gridExtra)\n",
    "library(plm)\n",
    "\n",
    "\n",
    "\n",
    "### Add Source Sans as a font for ggplot2\n",
    "library(sysfonts) # to load source sans pro\n",
    "# https://rdrr.io/github/kjhealy/sourcesans/src/R/sourcesans.r\n",
    "\n",
    "## Set visual style\n",
    "\n",
    "\n",
    "cat.logo.filename <- \"../../assets/CAT-Logo-Horizontal-social-media-preview-color.png\"\n",
    "logo.img <- readPNG(cat.logo.filename)\n",
    "logo.pngob <- rasterGrob(logo.img)"
   ]
  },
  {
   "cell_type": "markdown",
   "metadata": {},
   "source": [
    "## Simulate the EN Teahouse experiment \n",
    "The following random assignment was conducted:\n",
    " \n",
    "* control group: 3,092 participants \n",
    "  * 247 accounts made at least one edit over 2-3 weeks\n",
    "* treatment group: 11,674 participants\n",
    "  * 1068 treatment accounts made at least one edit\n",
    "  \n",
    "The measurement period was 3-4 weeks, longer than the FR Wikipedia study but shorter than the DE Wikipedia study. The researchers found a positive, statistically-significant effect only in the 3-4 week period, not in the 1-2 month period or the 2-6 month period. They also did not adjust their results for multiple comparisons. \n",
    "  "
   ]
  },
  {
   "cell_type": "code",
   "execution_count": 9,
   "metadata": {},
   "outputs": [
    {
     "name": "stdout",
     "output_type": "stream",
     "text": [
      "\n",
      " \n",
      "   Cell Contents\n",
      "|-------------------------|\n",
      "|                       N |\n",
      "|-------------------------|\n",
      "\n",
      " \n",
      "Total Observations in Table:  14768 \n",
      "\n",
      " \n",
      "                      | en.participants$activation \n",
      "en.participants$TREAT |         0 |         1 | Row Total | \n",
      "----------------------|-----------|-----------|-----------|\n",
      "                    0 |      2846 |       247 |      3093 | \n",
      "----------------------|-----------|-----------|-----------|\n",
      "                    1 |     10608 |      1067 |     11675 | \n",
      "----------------------|-----------|-----------|-----------|\n",
      "         Column Total |     13454 |      1314 |     14768 | \n",
      "----------------------|-----------|-----------|-----------|\n",
      "\n",
      " \n"
     ]
    }
   ],
   "source": [
    "en.treat.group <- data.frame(TREAT=1, counter=seq(0,11674))\n",
    "en.treat.group$activation <- as.integer(en.treat.group$counter <1067)\n",
    "en.control.group <- data.frame(TREAT=0, counter=seq(0,3092))\n",
    "en.control.group$activation <- as.integer(en.control.group$counter <247)    \n",
    "\n",
    "en.participants <- rbind(en.treat.group,en.control.group)\n",
    "en.participants$study <- \"EN\"\n",
    "\n",
    "CrossTable(en.participants$TREAT, en.participants$activation, prop.t=FALSE, prop.chisq=FALSE, prop.r=FALSE, prop.c=FALSE)\n",
    "                                                  "
   ]
  },
  {
   "cell_type": "code",
   "execution_count": 10,
   "metadata": {},
   "outputs": [
    {
     "data": {
      "text/plain": [
       "\n",
       "Call:\n",
       "lm(formula = activation ~ TREAT, data = en.participants)\n",
       "\n",
       "Residuals:\n",
       "     Min       1Q   Median       3Q      Max \n",
       "-0.09139 -0.09139 -0.09139 -0.07986  0.92014 \n",
       "\n",
       "Coefficients:\n",
       "            Estimate Std. Error t value Pr(>|t|)    \n",
       "(Intercept) 0.079858   0.005119  15.600   <2e-16 ***\n",
       "TREAT       0.011534   0.005757   2.003   0.0452 *  \n",
       "---\n",
       "Signif. codes:  0 ‘***’ 0.001 ‘**’ 0.01 ‘*’ 0.05 ‘.’ 0.1 ‘ ’ 1\n",
       "\n",
       "Residual standard error: 0.2847 on 14766 degrees of freedom\n",
       "Multiple R-squared:  0.0002717,\tAdjusted R-squared:  0.000204 \n",
       "F-statistic: 4.014 on 1 and 14766 DF,  p-value: 0.04515\n"
      ]
     },
     "metadata": {},
     "output_type": "display_data"
    }
   ],
   "source": [
    "summary(lm(activation ~ TREAT, data=en.participants))"
   ]
  },
  {
   "cell_type": "markdown",
   "metadata": {},
   "source": [
    "## Simulate the DE experiment\n",
    "The following random assignment was conducted:\n",
    "* Treatment group received no welcome message (N=7209)\n",
    "* Control group received an automated welcome message, with a signature from a rotating cast of experienced, self-selected accounts (N=7329)\n",
    "\n",
    "Observations were made over a 56 day period (much longer than our 7 day activation period), and the system recorded whether they made at least one edit in that period."
   ]
  },
  {
   "cell_type": "code",
   "execution_count": 11,
   "metadata": {},
   "outputs": [
    {
     "data": {
      "text/html": [
       "<dl class=dl-horizontal>\n",
       "\t<dt>0</dt>\n",
       "\t\t<dd>6527</dd>\n",
       "\t<dt>1</dt>\n",
       "\t\t<dd>683</dd>\n",
       "</dl>\n"
      ],
      "text/latex": [
       "\\begin{description*}\n",
       "\\item[0] 6527\n",
       "\\item[1] 683\n",
       "\\end{description*}\n"
      ],
      "text/markdown": [
       "0\n",
       ":   65271\n",
       ":   683\n",
       "\n"
      ],
      "text/plain": [
       "   0    1 \n",
       "6527  683 "
      ]
     },
     "metadata": {},
     "output_type": "display_data"
    },
    {
     "name": "stdout",
     "output_type": "stream",
     "text": [
      "\n",
      " \n",
      "   Cell Contents\n",
      "|-------------------------|\n",
      "|                       N |\n",
      "|-------------------------|\n",
      "\n",
      " \n",
      "Total Observations in Table:  14540 \n",
      "\n",
      " \n",
      "                      | de.participants$activation \n",
      "de.participants$TREAT |         0 |         1 | Row Total | \n",
      "----------------------|-----------|-----------|-----------|\n",
      "                    0 |      6631 |       699 |      7330 | \n",
      "----------------------|-----------|-----------|-----------|\n",
      "                    1 |      6527 |       683 |      7210 | \n",
      "----------------------|-----------|-----------|-----------|\n",
      "         Column Total |     13158 |      1382 |     14540 | \n",
      "----------------------|-----------|-----------|-----------|\n",
      "\n",
      " \n"
     ]
    }
   ],
   "source": [
    "de.treat.group            <- data.frame(TREAT=1, counter=seq(0,7209))\n",
    "de.treat.group$activation <- as.integer(de.treat.group$counter < 683)\n",
    "summary(factor(de.treat.group$activation))\n",
    "\n",
    "de.control.group            <- data.frame(TREAT=0, counter=seq(0,7329))\n",
    "de.control.group$activation <- as.integer(de.control.group$counter < 699)\n",
    "\n",
    "de.participants <- rbind(de.treat.group, de.control.group)\n",
    "de.participants$study <- \"DE\"\n",
    "\n",
    "CrossTable(de.participants$TREAT, de.participants$activation, prop.t=FALSE, prop.chisq=FALSE, prop.r=FALSE, prop.c=FALSE)"
   ]
  },
  {
   "cell_type": "code",
   "execution_count": 12,
   "metadata": {
    "scrolled": true
   },
   "outputs": [
    {
     "data": {
      "text/plain": [
       "\n",
       "Call:\n",
       "lm(formula = activation ~ TREAT, data = de.participants)\n",
       "\n",
       "Residuals:\n",
       "     Min       1Q   Median       3Q      Max \n",
       "-0.09536 -0.09536 -0.09473 -0.09473  0.90527 \n",
       "\n",
       "Coefficients:\n",
       "             Estimate Std. Error t value Pr(>|t|)    \n",
       "(Intercept)  0.095362   0.003426   27.84   <2e-16 ***\n",
       "TREAT       -0.000632   0.004865   -0.13    0.897    \n",
       "---\n",
       "Signif. codes:  0 ‘***’ 0.001 ‘**’ 0.01 ‘*’ 0.05 ‘.’ 0.1 ‘ ’ 1\n",
       "\n",
       "Residual standard error: 0.2933 on 14538 degrees of freedom\n",
       "Multiple R-squared:  1.161e-06,\tAdjusted R-squared:  -6.762e-05 \n",
       "F-statistic: 0.01688 on 1 and 14538 DF,  p-value: 0.8966\n"
      ]
     },
     "metadata": {},
     "output_type": "display_data"
    }
   ],
   "source": [
    "summary(lm(activation ~ TREAT, data=de.participants))"
   ]
  },
  {
   "cell_type": "markdown",
   "metadata": {},
   "source": [
    "## Load the FR Experiment Data"
   ]
  },
  {
   "cell_type": "code",
   "execution_count": 13,
   "metadata": {},
   "outputs": [],
   "source": [
    "data.dir = \"~/Tresors/CivilServant/projects/wikipedia-integration/fr-newcomer-study/datasets/post-experiment/\"\n",
    "filename = \"frwiki-welcome-post-treatment-vars.csv\"\n",
    "\n",
    "## French Participants\n",
    "participants <- read.csv(paste(data.dir, filename, sep=\"\"),  na.string = \"\" )"
   ]
  },
  {
   "cell_type": "markdown",
   "metadata": {},
   "source": [
    "### Identify and Remove Incomplete Blocks"
   ]
  },
  {
   "cell_type": "code",
   "execution_count": 14,
   "metadata": {},
   "outputs": [
    {
     "name": "stdout",
     "output_type": "stream",
     "text": [
      "[1] \"Removing the following block for being incomplete: 1\"   \n",
      "[2] \"Removing the following block for being incomplete: 9516\"\n"
     ]
    }
   ],
   "source": [
    "participants$counter <- 1\n",
    "block.sizes <- aggregate(participants[c(\"counter\")], by=list(participants$randomization.block.id), FUN=sum)\n",
    "incomplete.blocks <- subset(block.sizes, counter!=6)$Group.1\n",
    "print(paste(\"Removing the following block for being incomplete:\", incomplete.blocks))\n",
    "removed.participants <- subset(participants, (randomization.block.id %in% c(incomplete.blocks)))\n",
    "participants <- subset(participants, (randomization.block.id %in% c(incomplete.blocks))!=TRUE)"
   ]
  },
  {
   "cell_type": "code",
   "execution_count": 15,
   "metadata": {},
   "outputs": [],
   "source": [
    "participants$control = ifelse(participants$randomization.arm == 0, 1, 0)\n",
    "participants$treat.one = ifelse(participants$randomization.arm == 1, 1, 0)\n",
    "participants$treat.two = ifelse(participants$randomization.arm == 2, 1, 0)\n",
    "\n",
    "## for this meta-analysis, we care about whether someone received any welcome or not\n",
    "participants$TREAT <- participants$randomization.arm > 0 \n",
    "\n",
    "## setting the same variable as the DE study\n",
    "participants$activation = ifelse(participants$seven.day.activation == \"True\", 1, 0)\n",
    "participants$study = \"FR\""
   ]
  },
  {
   "cell_type": "markdown",
   "metadata": {},
   "source": [
    "## Merge FR and DE and EN Data"
   ]
  },
  {
   "cell_type": "code",
   "execution_count": 16,
   "metadata": {},
   "outputs": [],
   "source": [
    "all.participants <- rbind(participants[c('TREAT', 'activation', 'study')], \n",
    "                          de.participants[c(\"TREAT\", 'activation', 'study')],\n",
    "                          en.participants[c(\"TREAT\", 'activation', 'study')])"
   ]
  },
  {
   "cell_type": "code",
   "execution_count": 17,
   "metadata": {},
   "outputs": [
    {
     "name": "stdout",
     "output_type": "stream",
     "text": [
      "\n",
      " \n",
      "   Cell Contents\n",
      "|-------------------------|\n",
      "|                       N |\n",
      "|-------------------------|\n",
      "\n",
      " \n",
      "Total Observations in Table:  86392 \n",
      "\n",
      " \n",
      "                       | all.participants$study \n",
      "all.participants$TREAT |        DE |        EN |        FR | Row Total | \n",
      "-----------------------|-----------|-----------|-----------|-----------|\n",
      "                     0 |      7330 |      3093 |     19028 |     29451 | \n",
      "-----------------------|-----------|-----------|-----------|-----------|\n",
      "                     1 |      7210 |     11675 |     38056 |     56941 | \n",
      "-----------------------|-----------|-----------|-----------|-----------|\n",
      "          Column Total |     14540 |     14768 |     57084 |     86392 | \n",
      "-----------------------|-----------|-----------|-----------|-----------|\n",
      "\n",
      " \n"
     ]
    }
   ],
   "source": [
    "CrossTable(all.participants$TREAT, all.participants$study, prop.t=FALSE, prop.chisq=FALSE, prop.r=FALSE, prop.c=FALSE)"
   ]
  },
  {
   "cell_type": "code",
   "execution_count": 18,
   "metadata": {},
   "outputs": [
    {
     "data": {
      "text/plain": [
       "\n",
       "Call:\n",
       "lm(formula = activation ~ TREAT, data = participants)\n",
       "\n",
       "Residuals:\n",
       "    Min      1Q  Median      3Q     Max \n",
       "-0.3707 -0.3707 -0.3686  0.6293  0.6314 \n",
       "\n",
       "Coefficients:\n",
       "            Estimate Std. Error t value Pr(>|t|)    \n",
       "(Intercept) 0.368562   0.003500 105.299   <2e-16 ***\n",
       "TREATTRUE   0.002181   0.004287   0.509    0.611    \n",
       "---\n",
       "Signif. codes:  0 ‘***’ 0.001 ‘**’ 0.01 ‘*’ 0.05 ‘.’ 0.1 ‘ ’ 1\n",
       "\n",
       "Residual standard error: 0.4828 on 57082 degrees of freedom\n",
       "Multiple R-squared:  4.535e-06,\tAdjusted R-squared:  -1.298e-05 \n",
       "F-statistic: 0.2589 on 1 and 57082 DF,  p-value: 0.6109\n"
      ]
     },
     "metadata": {},
     "output_type": "display_data"
    },
    {
     "data": {
      "text/plain": [
       "\n",
       "Call:\n",
       "lm(formula = activation ~ TREAT, data = de.participants)\n",
       "\n",
       "Residuals:\n",
       "     Min       1Q   Median       3Q      Max \n",
       "-0.09536 -0.09536 -0.09473 -0.09473  0.90527 \n",
       "\n",
       "Coefficients:\n",
       "             Estimate Std. Error t value Pr(>|t|)    \n",
       "(Intercept)  0.095362   0.003426   27.84   <2e-16 ***\n",
       "TREAT       -0.000632   0.004865   -0.13    0.897    \n",
       "---\n",
       "Signif. codes:  0 ‘***’ 0.001 ‘**’ 0.01 ‘*’ 0.05 ‘.’ 0.1 ‘ ’ 1\n",
       "\n",
       "Residual standard error: 0.2933 on 14538 degrees of freedom\n",
       "Multiple R-squared:  1.161e-06,\tAdjusted R-squared:  -6.762e-05 \n",
       "F-statistic: 0.01688 on 1 and 14538 DF,  p-value: 0.8966\n"
      ]
     },
     "metadata": {},
     "output_type": "display_data"
    },
    {
     "data": {
      "text/plain": [
       "\n",
       "Call:\n",
       "lm(formula = activation ~ TREAT, data = de.participants)\n",
       "\n",
       "Residuals:\n",
       "     Min       1Q   Median       3Q      Max \n",
       "-0.09536 -0.09536 -0.09473 -0.09473  0.90527 \n",
       "\n",
       "Coefficients:\n",
       "             Estimate Std. Error t value Pr(>|t|)    \n",
       "(Intercept)  0.095362   0.003426   27.84   <2e-16 ***\n",
       "TREAT       -0.000632   0.004865   -0.13    0.897    \n",
       "---\n",
       "Signif. codes:  0 ‘***’ 0.001 ‘**’ 0.01 ‘*’ 0.05 ‘.’ 0.1 ‘ ’ 1\n",
       "\n",
       "Residual standard error: 0.2933 on 14538 degrees of freedom\n",
       "Multiple R-squared:  1.161e-06,\tAdjusted R-squared:  -6.762e-05 \n",
       "F-statistic: 0.01688 on 1 and 14538 DF,  p-value: 0.8966\n"
      ]
     },
     "metadata": {},
     "output_type": "display_data"
    },
    {
     "data": {
      "text/plain": [
       "Linear mixed model fit by REML. t-tests use Satterthwaite's method [\n",
       "lmerModLmerTest]\n",
       "Formula: activation ~ TREAT + (1 | study)\n",
       "   Data: all.participants\n",
       "\n",
       "REML criterion at convergence: 98187.3\n",
       "\n",
       "Scaled residuals: \n",
       "    Min      1Q  Median      3Q     Max \n",
       "-0.8686 -0.8686 -0.2194  1.4730  2.1385 \n",
       "\n",
       "Random effects:\n",
       " Groups   Name        Variance Std.Dev.\n",
       " study    (Intercept) 0.02576  0.1605  \n",
       " Residual             0.18236  0.4270  \n",
       "Number of obs: 86392, groups:  study, 3\n",
       "\n",
       "Fixed effects:\n",
       "             Estimate Std. Error        df t value Pr(>|t|)\n",
       "(Intercept) 1.828e-01  9.270e-02 2.002e+00   1.972    0.187\n",
       "TREAT       2.856e-03  3.117e-03 8.639e+04   0.916    0.360\n",
       "\n",
       "Correlation of Fixed Effects:\n",
       "      (Intr)\n",
       "TREAT -0.022"
      ]
     },
     "metadata": {},
     "output_type": "display_data"
    }
   ],
   "source": [
    "## FR model\n",
    "summary(fr.1 <- lm(activation ~ TREAT, data=participants))\n",
    "\n",
    "## DE model\n",
    "summary(de.1 <- lm(activation ~ TREAT, data=de.participants))\n",
    "\n",
    "## en model\n",
    "summary(en.1 <- lm(activation ~ TREAT, data=de.participants))\n",
    "\n",
    "\n",
    "## combined model\n",
    "summary(re.1 <- lmer(activation ~ TREAT + (1|study), data=all.participants))"
   ]
  },
  {
   "cell_type": "code",
   "execution_count": null,
   "metadata": {},
   "outputs": [],
   "source": []
  }
 ],
 "metadata": {
  "kernelspec": {
   "display_name": "R",
   "language": "R",
   "name": "ir"
  },
  "language_info": {
   "codemirror_mode": "r",
   "file_extension": ".r",
   "mimetype": "text/x-r-source",
   "name": "R",
   "pygments_lexer": "r",
   "version": "3.5.1"
  }
 },
 "nbformat": 4,
 "nbformat_minor": 4
}
