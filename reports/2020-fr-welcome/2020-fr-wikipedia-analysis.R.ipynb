{
 "cells": [
  {
   "cell_type": "markdown",
   "metadata": {},
   "source": [
    "# FR Wikipedia Newcomer Experiment Analysis 2020\n",
    "Julia Kamin\n",
    "\n",
    "* [Pre-analysis plan](https://osf.io/g8vrw/)\n",
    "* [Lab Notebook](https://docs.google.com/document/d/1mNMqYsE6w0OPG9eoSc7rsrMHxeoBqwGJZFiz_tepY8E/edit)\n",
    "* [Datafile description](https://docs.google.com/document/d/1YCsWf2G89ABSyE3MMB5bWqaSyOkvvYp2IPwBkI1mlMs/edit)\n",
    "* Datafile: ~/Tresors/CivilServant/projects/wikipedia-integration/fr-newcomer-study/datasets/post-experiment/frwiki-welcome-post-treatment-vars.csv"
   ]
  },
  {
   "cell_type": "code",
   "execution_count": 52,
   "metadata": {},
   "outputs": [],
   "source": [
    "## Load Libraries\n",
    "library(ggplot2)\n",
    "library(ggpubr)  # contains ggarrange\n",
    "library(gmodels) # contains CrossTable\n",
    "library(estimatr)\n",
    "library(corrplot)\n",
    "library(lme4)\n",
    "library(broom)\n",
    "library(knitr)\n",
    "library(lmerTest)\n",
    "library(texreg)\n",
    "library(stringr)\n",
    "library(png)\n",
    "library(MASS)\n",
    "library(gridExtra)\n",
    "\n",
    "\n",
    "### Add Source Sans as a font for ggplot2\n",
    "library(sysfonts) # to load source sans pro\n",
    "# https://rdrr.io/github/kjhealy/sourcesans/src/R/sourcesans.r\n",
    "\n",
    "## Set visual style\n",
    "catpalette   <- c(\"#333333\", \"#ea5324\", \"#005073\", \"#7D868C\", \"#BDBBBB\", \"#F2F2F2\",\"#F6F2EB\")\n",
    "chartpalette <- c(\"#ea5324\", \"#005073\", \"#7D868C\", \"#333333\", \"#F2F2F2\",\"#BDBBBB\", \"#F6F2EB\")\n",
    "\n",
    "cat.theme <-  theme_bw() +\n",
    "              theme(plot.title = element_text(size=13, face=\"bold\", color=catpalette[3]),\n",
    "                    axis.title.x =element_text(size=10, hjust = -0.01, color = catpalette[1]),\n",
    "                    axis.title.y =element_text(size=10, color = catpalette[1]),\n",
    "                    panel.background = element_rect(fill=catpalette[6]))\n",
    "\n",
    "\n",
    "\n",
    "end.caption.text = \"\n",
    "\n",
    "Citizens & Technology Lab - citizensandtech.org\n",
    "© Creative Commons International Attribution 4.0\""
   ]
  },
  {
   "cell_type": "markdown",
   "metadata": {},
   "source": [
    "## Loading and setting up data for analysis"
   ]
  },
  {
   "cell_type": "code",
   "execution_count": 1,
   "metadata": {},
   "outputs": [],
   "source": [
    "data.dir = \"~/Tresors/CivilServant/projects/wikipedia-integration/fr-newcomer-study/datasets/post-experiment/\"\n",
    "filename = \"frwiki-welcome-post-treatment-vars.csv\"\n",
    "participants <- read.csv(paste(data.dir, filename, sep=\"\"),  na.string = \"\" )"
   ]
  },
  {
   "cell_type": "code",
   "execution_count": null,
   "metadata": {},
   "outputs": [],
   "source": [
    "cat.logo.filename <- \"../../assets/CAT-Logo-Horizontal-social-media-preview-color.png\"\n",
    "logo.img <- readPNG(cat.logo.filename)\n",
    "logo.pngob <- rasterGrob(logo.img)"
   ]
  },
  {
   "cell_type": "markdown",
   "metadata": {},
   "source": [
    "### Identify and remove incomplete blocks"
   ]
  },
  {
   "cell_type": "code",
   "execution_count": 2,
   "metadata": {},
   "outputs": [
    {
     "name": "stdout",
     "output_type": "stream",
     "text": [
      "[1] \"Removing the following block for being incomplete: 1\"   \n",
      "[2] \"Removing the following block for being incomplete: 9516\"\n"
     ]
    }
   ],
   "source": [
    "participants$counter <- 1\n",
    "block.sizes <- aggregate(participants[c(\"counter\")], by=list(participants$randomization.block.id), FUN=sum)\n",
    "incomplete.blocks <- subset(block.sizes, counter!=6)$Group.1\n",
    "print(paste(\"Removing the following block for being incomplete:\", incomplete.blocks))\n",
    "removed.participants <- subset(participants, (randomization.block.id %in% c(incomplete.blocks)))\n",
    "participants <- subset(participants, (randomization.block.id %in% c(incomplete.blocks))!=TRUE)\n"
   ]
  },
  {
   "cell_type": "markdown",
   "metadata": {},
   "source": [
    "### Set up Variables"
   ]
  },
  {
   "cell_type": "code",
   "execution_count": 4,
   "metadata": {},
   "outputs": [],
   "source": [
    "# create variable for each treatment arm\n",
    "participants$control = ifelse(participants$randomization.arm == 0, 1, 0)\n",
    "participants$treat.one = ifelse(participants$randomization.arm == 1, 1, 0)\n",
    "participants$treat.two = ifelse(participants$randomization.arm == 2, 1, 0)"
   ]
  },
  {
   "cell_type": "code",
   "execution_count": 5,
   "metadata": {},
   "outputs": [],
   "source": [
    "participants$labor.minutes <- round(participants$labor.hours.nontruncated*60)"
   ]
  },
  {
   "cell_type": "code",
   "execution_count": 6,
   "metadata": {},
   "outputs": [],
   "source": [
    "participants$survey.consent = ifelse(participants$survey.consent == NA, 0, 1)"
   ]
  },
  {
   "cell_type": "code",
   "execution_count": 7,
   "metadata": {},
   "outputs": [],
   "source": [
    "# transform variables to numerics\n",
    "participants$seven.day.activation = ifelse(participants$seven.day.activation == \"True\", 1, 0)\n",
    "participants$four.week.retention = ifelse(participants$four.week.retention == \"True\", 1, 0)\n",
    "participants$mentor.respond = ifelse(participants$mentor.respond == \"True\", 1, 0)\n",
    "participants$forum.des.nouveaux = ifelse(participants$forum.des.nouveaux == \"True\", 1, 0)\n",
    "participants$social.response = ifelse(participants$social.response == \"True\", 1, 0)\n",
    "participants$sandbox = ifelse(participants$sandbox == \"True\", 1, 0)"
   ]
  },
  {
   "cell_type": "code",
   "execution_count": 8,
   "metadata": {},
   "outputs": [],
   "source": [
    "# change variable name\n",
    "participants$community.friendliness = participants$friendliness"
   ]
  },
  {
   "cell_type": "code",
   "execution_count": 12,
   "metadata": {},
   "outputs": [],
   "source": [
    "# create subset of survey compliers\n",
    "complier.participants = subset(participants, complier == 1)"
   ]
  },
  {
   "cell_type": "code",
   "execution_count": 10,
   "metadata": {},
   "outputs": [
    {
     "data": {
      "text/html": [
       "<ol class=list-inline>\n",
       "\t<li>'private.anonymous.id'</li>\n",
       "\t<li>'seven.day.activation'</li>\n",
       "\t<li>'labor.hours'</li>\n",
       "\t<li>'efficacy'</li>\n",
       "\t<li>'friendliness'</li>\n",
       "\t<li>'four.week.retention'</li>\n",
       "\t<li>'labor.hours.nontruncated'</li>\n",
       "\t<li>'mentor.respond'</li>\n",
       "\t<li>'forum.des.nouveaux'</li>\n",
       "\t<li>'social.response'</li>\n",
       "\t<li>'sandbox'</li>\n",
       "\t<li>'help'</li>\n",
       "\t<li>'role'</li>\n",
       "\t<li>'trust'</li>\n",
       "\t<li>'close.community'</li>\n",
       "\t<li>'close.individuals.1'</li>\n",
       "\t<li>'close.individuals.2'</li>\n",
       "\t<li>'close.individuals.3'</li>\n",
       "\t<li>'randomization.arm'</li>\n",
       "\t<li>'randomization.block.id'</li>\n",
       "\t<li>'control.accidentally.treated'</li>\n",
       "\t<li>'failed.to.treat'</li>\n",
       "\t<li>'failed.to.treat.already.created'</li>\n",
       "\t<li>'failed.to.treat.blocked'</li>\n",
       "\t<li>'block.failed.to.treat'</li>\n",
       "\t<li>'block.control.accidentally.treated'</li>\n",
       "\t<li>'survey.invitation'</li>\n",
       "\t<li>'complier'</li>\n",
       "\t<li>'survey.consent'</li>\n",
       "\t<li>'manipulation.check'</li>\n",
       "\t<li>'lang'</li>\n",
       "\t<li>'user.registration'</li>\n",
       "\t<li>'counter'</li>\n",
       "\t<li>'control'</li>\n",
       "\t<li>'treat.one'</li>\n",
       "\t<li>'treat.two'</li>\n",
       "\t<li>'labor.minutes'</li>\n",
       "\t<li>'community.friendliness'</li>\n",
       "</ol>\n"
      ],
      "text/latex": [
       "\\begin{enumerate*}\n",
       "\\item 'private.anonymous.id'\n",
       "\\item 'seven.day.activation'\n",
       "\\item 'labor.hours'\n",
       "\\item 'efficacy'\n",
       "\\item 'friendliness'\n",
       "\\item 'four.week.retention'\n",
       "\\item 'labor.hours.nontruncated'\n",
       "\\item 'mentor.respond'\n",
       "\\item 'forum.des.nouveaux'\n",
       "\\item 'social.response'\n",
       "\\item 'sandbox'\n",
       "\\item 'help'\n",
       "\\item 'role'\n",
       "\\item 'trust'\n",
       "\\item 'close.community'\n",
       "\\item 'close.individuals.1'\n",
       "\\item 'close.individuals.2'\n",
       "\\item 'close.individuals.3'\n",
       "\\item 'randomization.arm'\n",
       "\\item 'randomization.block.id'\n",
       "\\item 'control.accidentally.treated'\n",
       "\\item 'failed.to.treat'\n",
       "\\item 'failed.to.treat.already.created'\n",
       "\\item 'failed.to.treat.blocked'\n",
       "\\item 'block.failed.to.treat'\n",
       "\\item 'block.control.accidentally.treated'\n",
       "\\item 'survey.invitation'\n",
       "\\item 'complier'\n",
       "\\item 'survey.consent'\n",
       "\\item 'manipulation.check'\n",
       "\\item 'lang'\n",
       "\\item 'user.registration'\n",
       "\\item 'counter'\n",
       "\\item 'control'\n",
       "\\item 'treat.one'\n",
       "\\item 'treat.two'\n",
       "\\item 'labor.minutes'\n",
       "\\item 'community.friendliness'\n",
       "\\end{enumerate*}\n"
      ],
      "text/markdown": [
       "1. 'private.anonymous.id'\n",
       "2. 'seven.day.activation'\n",
       "3. 'labor.hours'\n",
       "4. 'efficacy'\n",
       "5. 'friendliness'\n",
       "6. 'four.week.retention'\n",
       "7. 'labor.hours.nontruncated'\n",
       "8. 'mentor.respond'\n",
       "9. 'forum.des.nouveaux'\n",
       "10. 'social.response'\n",
       "11. 'sandbox'\n",
       "12. 'help'\n",
       "13. 'role'\n",
       "14. 'trust'\n",
       "15. 'close.community'\n",
       "16. 'close.individuals.1'\n",
       "17. 'close.individuals.2'\n",
       "18. 'close.individuals.3'\n",
       "19. 'randomization.arm'\n",
       "20. 'randomization.block.id'\n",
       "21. 'control.accidentally.treated'\n",
       "22. 'failed.to.treat'\n",
       "23. 'failed.to.treat.already.created'\n",
       "24. 'failed.to.treat.blocked'\n",
       "25. 'block.failed.to.treat'\n",
       "26. 'block.control.accidentally.treated'\n",
       "27. 'survey.invitation'\n",
       "28. 'complier'\n",
       "29. 'survey.consent'\n",
       "30. 'manipulation.check'\n",
       "31. 'lang'\n",
       "32. 'user.registration'\n",
       "33. 'counter'\n",
       "34. 'control'\n",
       "35. 'treat.one'\n",
       "36. 'treat.two'\n",
       "37. 'labor.minutes'\n",
       "38. 'community.friendliness'\n",
       "\n",
       "\n"
      ],
      "text/plain": [
       " [1] \"private.anonymous.id\"               \"seven.day.activation\"              \n",
       " [3] \"labor.hours\"                        \"efficacy\"                          \n",
       " [5] \"friendliness\"                       \"four.week.retention\"               \n",
       " [7] \"labor.hours.nontruncated\"           \"mentor.respond\"                    \n",
       " [9] \"forum.des.nouveaux\"                 \"social.response\"                   \n",
       "[11] \"sandbox\"                            \"help\"                              \n",
       "[13] \"role\"                               \"trust\"                             \n",
       "[15] \"close.community\"                    \"close.individuals.1\"               \n",
       "[17] \"close.individuals.2\"                \"close.individuals.3\"               \n",
       "[19] \"randomization.arm\"                  \"randomization.block.id\"            \n",
       "[21] \"control.accidentally.treated\"       \"failed.to.treat\"                   \n",
       "[23] \"failed.to.treat.already.created\"    \"failed.to.treat.blocked\"           \n",
       "[25] \"block.failed.to.treat\"              \"block.control.accidentally.treated\"\n",
       "[27] \"survey.invitation\"                  \"complier\"                          \n",
       "[29] \"survey.consent\"                     \"manipulation.check\"                \n",
       "[31] \"lang\"                               \"user.registration\"                 \n",
       "[33] \"counter\"                            \"control\"                           \n",
       "[35] \"treat.one\"                          \"treat.two\"                         \n",
       "[37] \"labor.minutes\"                      \"community.friendliness\"            "
      ]
     },
     "metadata": {},
     "output_type": "display_data"
    }
   ],
   "source": [
    "colnames(participants)"
   ]
  },
  {
   "cell_type": "code",
   "execution_count": 11,
   "metadata": {},
   "outputs": [
    {
     "data": {
      "text/plain": [
       "                           private.anonymous.id seven.day.activation\n",
       " 0001d563-ee56-5fdf-8b0e-06a28487cfa5:    1     Min.   :0.00        \n",
       " 0001f81a-b61e-5179-bc7c-fb7ee6d55bce:    1     1st Qu.:0.00        \n",
       " 0002e13a-476a-5e3f-a3c9-030041435cdc:    1     Median :0.00        \n",
       " 00030bfd-2e1d-5012-b8f1-43b0b9b4d73c:    1     Mean   :0.37        \n",
       " 0003be2d-a874-59c0-a998-b95e4858487c:    1     3rd Qu.:1.00        \n",
       " 000487e1-d47c-5db1-a1d8-03f063c0d046:    1     Max.   :1.00        \n",
       " (Other)                             :57078                         \n",
       "  labor.hours          efficacy      friendliness   four.week.retention\n",
       " Min.   :  0.0000   Min.   :1.00    Min.   :1.00    Min.   :0.00000    \n",
       " 1st Qu.:  0.0000   1st Qu.:3.00    1st Qu.:3.00    1st Qu.:0.00000    \n",
       " Median :  0.0000   Median :4.00    Median :4.00    Median :0.00000    \n",
       " Mean   :  0.2583   Mean   :3.85    Mean   :3.58    Mean   :0.04408    \n",
       " 3rd Qu.:  0.0000   3rd Qu.:5.00    3rd Qu.:4.00    3rd Qu.:0.00000    \n",
       " Max.   :520.0000   Max.   :5.00    Max.   :5.00    Max.   :1.00000    \n",
       "                    NA's   :56223   NA's   :56223                      \n",
       " labor.hours.nontruncated mentor.respond     forum.des.nouveaux\n",
       " Min.   :  0.0000         Min.   :0.000000   Min.   :0.00000   \n",
       " 1st Qu.:  0.0000         1st Qu.:0.000000   1st Qu.:0.00000   \n",
       " Median :  0.0000         Median :0.000000   Median :0.00000   \n",
       " Mean   :  0.3589         Mean   :0.003171   Mean   :0.00522   \n",
       " 3rd Qu.:  0.1194         3rd Qu.:0.000000   3rd Qu.:0.00000   \n",
       " Max.   :520.0369         Max.   :1.000000   Max.   :1.00000   \n",
       "                                                               \n",
       " social.response       sandbox             help            role      \n",
       " Min.   :0.000000   Min.   :0.00000   Min.   :1.00    Min.   :1.00   \n",
       " 1st Qu.:0.000000   1st Qu.:0.00000   1st Qu.:2.00    1st Qu.:3.00   \n",
       " Median :0.000000   Median :0.00000   Median :3.00    Median :4.00   \n",
       " Mean   :0.008023   Mean   :0.03423   Mean   :3.29    Mean   :3.78   \n",
       " 3rd Qu.:0.000000   3rd Qu.:0.00000   3rd Qu.:4.00    3rd Qu.:5.00   \n",
       " Max.   :1.000000   Max.   :1.00000   Max.   :5.00    Max.   :5.00   \n",
       "                                      NA's   :56223   NA's   :56223  \n",
       "     trust       close.community close.individuals.1 close.individuals.2\n",
       " Min.   :1.00    Min.   :1.00    Min.   :1.0         Min.   :1.00       \n",
       " 1st Qu.:3.00    1st Qu.:2.00    1st Qu.:1.0         1st Qu.:1.00       \n",
       " Median :3.00    Median :3.00    Median :2.0         Median :2.00       \n",
       " Mean   :3.33    Mean   :3.06    Mean   :2.2         Mean   :2.24       \n",
       " 3rd Qu.:4.00    3rd Qu.:4.00    3rd Qu.:3.0         3rd Qu.:3.00       \n",
       " Max.   :5.00    Max.   :6.00    Max.   :5.0         Max.   :5.00       \n",
       " NA's   :56223   NA's   :56223   NA's   :56223       NA's   :56223      \n",
       " close.individuals.3 randomization.arm randomization.block.id\n",
       " Min.   :1.00        Min.   :0         Min.   :   2          \n",
       " 1st Qu.:1.00        1st Qu.:0         1st Qu.:2380          \n",
       " Median :2.00        Median :1         Median :4758          \n",
       " Mean   :2.48        Mean   :1         Mean   :4758          \n",
       " 3rd Qu.:4.00        3rd Qu.:2         3rd Qu.:7137          \n",
       " Max.   :5.00        Max.   :2         Max.   :9515          \n",
       " NA's   :56223                                               \n",
       " control.accidentally.treated failed.to.treat failed.to.treat.already.created\n",
       " False:18094                  False:56592     False:56597                    \n",
       " True :  934                  True :  492     True :  487                    \n",
       " NA's :38056                                                                 \n",
       "                                                                             \n",
       "                                                                             \n",
       "                                                                             \n",
       "                                                                             \n",
       " failed.to.treat.blocked block.failed.to.treat\n",
       " False:57079             False:54648          \n",
       " True :    5             True : 2436          \n",
       "                                              \n",
       "                                              \n",
       "                                              \n",
       "                                              \n",
       "                                              \n",
       " block.control.accidentally.treated survey.invitation    complier    \n",
       " False:53448                        False: 2710       Min.   :0.00   \n",
       " True : 3636                        True :54374       1st Qu.:0.00   \n",
       "                                                      Median :1.00   \n",
       "                                                      Mean   :0.69   \n",
       "                                                      3rd Qu.:1.00   \n",
       "                                                      Max.   :1.00   \n",
       "                                                      NA's   :55853  \n",
       " survey.consent manipulation.check lang                 user.registration\n",
       " Mode:logical   Min.   :0.00       fr:57084   2020-04-06 12:56:56:    3  \n",
       " NA's:57084     1st Qu.:0.00                  2020-04-07 09:44:59:    3  \n",
       "                Median :0.00                  2020-04-16 18:47:28:    3  \n",
       "                Mean   :0.26                  2020-01-30 22:50:12:    2  \n",
       "                3rd Qu.:1.00                  2020-01-31 16:45:50:    2  \n",
       "                Max.   :1.00                  2020-01-31 20:02:04:    2  \n",
       "                NA's   :56230                 (Other)            :57069  \n",
       "    counter     control         treat.one        treat.two     \n",
       " Min.   :1   Min.   :0.0000   Min.   :0.0000   Min.   :0.0000  \n",
       " 1st Qu.:1   1st Qu.:0.0000   1st Qu.:0.0000   1st Qu.:0.0000  \n",
       " Median :1   Median :0.0000   Median :0.0000   Median :0.0000  \n",
       " Mean   :1   Mean   :0.3333   Mean   :0.3333   Mean   :0.3333  \n",
       " 3rd Qu.:1   3rd Qu.:1.0000   3rd Qu.:1.0000   3rd Qu.:1.0000  \n",
       " Max.   :1   Max.   :1.0000   Max.   :1.0000   Max.   :1.0000  \n",
       "                                                               \n",
       " labor.minutes     community.friendliness\n",
       " Min.   :    0.0   Min.   :1.00          \n",
       " 1st Qu.:    0.0   1st Qu.:3.00          \n",
       " Median :    0.0   Median :4.00          \n",
       " Mean   :   21.5   Mean   :3.58          \n",
       " 3rd Qu.:    7.0   3rd Qu.:4.00          \n",
       " Max.   :31202.0   Max.   :5.00          \n",
       "                   NA's   :56223         "
      ]
     },
     "metadata": {},
     "output_type": "display_data"
    }
   ],
   "source": [
    "summary(participants)"
   ]
  },
  {
   "cell_type": "markdown",
   "metadata": {},
   "source": [
    "### Create Dataframe for storing p values"
   ]
  },
  {
   "cell_type": "code",
   "execution_count": 12,
   "metadata": {},
   "outputs": [],
   "source": [
    "p.values <- data.frame(\"model\"=character(),  \"p.value\"= double(), \"adjusted.value\"=double())"
   ]
  },
  {
   "cell_type": "markdown",
   "metadata": {},
   "source": [
    "## Main Outcomes"
   ]
  },
  {
   "cell_type": "code",
   "execution_count": 13,
   "metadata": {},
   "outputs": [
    {
     "data": {
      "text/html": [
       "<table>\n",
       "<thead><tr><th scope=col>Group.1</th><th scope=col>seven.day.activation</th></tr></thead>\n",
       "<tbody>\n",
       "\t<tr><td>0        </td><td>0.3685621</td></tr>\n",
       "\t<tr><td>1        </td><td>0.3714526</td></tr>\n",
       "\t<tr><td>2        </td><td>0.3700336</td></tr>\n",
       "</tbody>\n",
       "</table>\n"
      ],
      "text/latex": [
       "\\begin{tabular}{r|ll}\n",
       " Group.1 & seven.day.activation\\\\\n",
       "\\hline\n",
       "\t 0         & 0.3685621\\\\\n",
       "\t 1         & 0.3714526\\\\\n",
       "\t 2         & 0.3700336\\\\\n",
       "\\end{tabular}\n"
      ],
      "text/markdown": [
       "\n",
       "Group.1 | seven.day.activation | \n",
       "|---|---|---|\n",
       "| 0         | 0.3685621 | \n",
       "| 1         | 0.3714526 | \n",
       "| 2         | 0.3700336 | \n",
       "\n",
       "\n"
      ],
      "text/plain": [
       "  Group.1 seven.day.activation\n",
       "1 0       0.3685621           \n",
       "2 1       0.3714526           \n",
       "3 2       0.3700336           "
      ]
     },
     "metadata": {},
     "output_type": "display_data"
    }
   ],
   "source": [
    "aggregate(participants[c(\"seven.day.activation\")], \n",
    "          by = list(participants$randomization.arm), \n",
    "                    FUN=mean)"
   ]
  },
  {
   "cell_type": "code",
   "execution_count": 14,
   "metadata": {},
   "outputs": [
    {
     "name": "stdout",
     "output_type": "stream",
     "text": [
      "[1] \"7 day activation: Treatment 1 compared to Control\"\n"
     ]
    },
    {
     "data": {
      "text/html": [
       "<dl>\n",
       "\t<dt>$coefficients</dt>\n",
       "\t\t<dd><table>\n",
       "<thead><tr><th></th><th scope=col>Estimate</th><th scope=col>Std. Error</th><th scope=col>t value</th><th scope=col>Pr(&gt;|t|)</th><th scope=col>CI Lower</th><th scope=col>CI Upper</th><th scope=col>DF</th></tr></thead>\n",
       "<tbody>\n",
       "\t<tr><th scope=row>treat.one</th><td>0.002890477 </td><td>0.00494995  </td><td>0.5839407   </td><td>0.5592637   </td><td>-0.006811555</td><td>0.01259251  </td><td>38053.9     </td></tr>\n",
       "</tbody>\n",
       "</table>\n",
       "</dd>\n",
       "\t<dt>$design</dt>\n",
       "\t\t<dd>'Standard'</dd>\n",
       "</dl>\n"
      ],
      "text/latex": [
       "\\begin{description}\n",
       "\\item[\\$coefficients] \\begin{tabular}{r|lllllll}\n",
       "  & Estimate & Std. Error & t value & Pr(>\\textbar{}t\\textbar{}) & CI Lower & CI Upper & DF\\\\\n",
       "\\hline\n",
       "\ttreat.one & 0.002890477  & 0.00494995   & 0.5839407    & 0.5592637    & -0.006811555 & 0.01259251   & 38053.9     \\\\\n",
       "\\end{tabular}\n",
       "\n",
       "\\item[\\$design] 'Standard'\n",
       "\\end{description}\n"
      ],
      "text/markdown": [
       "$coefficients\n",
       ":   \n",
       "| <!--/--> | Estimate | Std. Error | t value | Pr(>|t|) | CI Lower | CI Upper | DF | \n",
       "|---|\n",
       "| treat.one | 0.002890477  | 0.00494995   | 0.5839407    | 0.5592637    | -0.006811555 | 0.01259251   | 38053.9      | \n",
       "\n",
       "\n",
       "\n",
       "$design\n",
       ":   'Standard'\n",
       "\n",
       "\n"
      ],
      "text/plain": [
       "$coefficients\n",
       "             Estimate Std. Error   t value  Pr(>|t|)     CI Lower   CI Upper\n",
       "treat.one 0.002890477 0.00494995 0.5839407 0.5592637 -0.006811555 0.01259251\n",
       "               DF\n",
       "treat.one 38053.9\n",
       "\n",
       "$design\n",
       "[1] \"Standard\"\n"
      ]
     },
     "metadata": {},
     "output_type": "display_data"
    },
    {
     "name": "stdout",
     "output_type": "stream",
     "text": [
      "[1] \"7 day activation: Treatment 2 compared to Treatment 1\"\n"
     ]
    },
    {
     "data": {
      "text/html": [
       "<dl>\n",
       "\t<dt>$coefficients</dt>\n",
       "\t\t<dd><table>\n",
       "<thead><tr><th></th><th scope=col>Estimate</th><th scope=col>Std. Error</th><th scope=col>t value</th><th scope=col>Pr(&gt;|t|)</th><th scope=col>CI Lower</th><th scope=col>CI Upper</th><th scope=col>DF</th></tr></thead>\n",
       "<tbody>\n",
       "\t<tr><th scope=row>treat.two</th><td>-0.001418962</td><td>0.004951992 </td><td>-0.2865436  </td><td>0.7744634   </td><td>-0.011125   </td><td>0.008287073 </td><td>38053.98    </td></tr>\n",
       "</tbody>\n",
       "</table>\n",
       "</dd>\n",
       "\t<dt>$design</dt>\n",
       "\t\t<dd>'Standard'</dd>\n",
       "</dl>\n"
      ],
      "text/latex": [
       "\\begin{description}\n",
       "\\item[\\$coefficients] \\begin{tabular}{r|lllllll}\n",
       "  & Estimate & Std. Error & t value & Pr(>\\textbar{}t\\textbar{}) & CI Lower & CI Upper & DF\\\\\n",
       "\\hline\n",
       "\ttreat.two & -0.001418962 & 0.004951992  & -0.2865436   & 0.7744634    & -0.011125    & 0.008287073  & 38053.98    \\\\\n",
       "\\end{tabular}\n",
       "\n",
       "\\item[\\$design] 'Standard'\n",
       "\\end{description}\n"
      ],
      "text/markdown": [
       "$coefficients\n",
       ":   \n",
       "| <!--/--> | Estimate | Std. Error | t value | Pr(>|t|) | CI Lower | CI Upper | DF | \n",
       "|---|\n",
       "| treat.two | -0.001418962 | 0.004951992  | -0.2865436   | 0.7744634    | -0.011125    | 0.008287073  | 38053.98     | \n",
       "\n",
       "\n",
       "\n",
       "$design\n",
       ":   'Standard'\n",
       "\n",
       "\n"
      ],
      "text/plain": [
       "$coefficients\n",
       "              Estimate  Std. Error    t value  Pr(>|t|)  CI Lower    CI Upper\n",
       "treat.two -0.001418962 0.004951992 -0.2865436 0.7744634 -0.011125 0.008287073\n",
       "                DF\n",
       "treat.two 38053.98\n",
       "\n",
       "$design\n",
       "[1] \"Standard\"\n"
      ]
     },
     "metadata": {},
     "output_type": "display_data"
    }
   ],
   "source": [
    "# main outcome: 7 day activation\n",
    "# Treatment 1 -> model.1, Treatment 2 -> model.2\n",
    "model.1 = difference_in_means(seven.day.activation ~ treat.one, \n",
    "                              data =subset(participants, treat.two==0))\n",
    "model.2 = difference_in_means(seven.day.activation ~ treat.two, data =subset(participants, control==0))\n",
    "print(\"7 day activation: Treatment 1 compared to Control\")\n",
    "summary(model.1)\n",
    "print(\"7 day activation: Treatment 2 compared to Treatment 1\")\n",
    "summary(model.2)\n",
    "\n",
    "p.values <- rbind(p.values,\n",
    "                data.frame(\"model\" = c(\"model.1\", \"model.2\"), \n",
    "                           \"pvalue\"=c(summary(model.1)$coefficients['treat.one',]['Pr(>|t|)'],\n",
    "                                      summary(model.2)$coefficients['treat.two',]['Pr(>|t|)']))\n",
    "                 )"
   ]
  },
  {
   "cell_type": "markdown",
   "metadata": {},
   "source": [
    "### Labor Hours"
   ]
  },
  {
   "cell_type": "code",
   "execution_count": 15,
   "metadata": {},
   "outputs": [
    {
     "data": {
      "text/plain": [
       "\n",
       "Call:\n",
       "glm.nb(formula = labor.minutes ~ factor(randomization.arm), data = participants, \n",
       "    init.theta = 0.09179498313, link = log)\n",
       "\n",
       "Deviance Residuals: \n",
       "    Min       1Q   Median       3Q      Max  \n",
       "-1.0069  -1.0005  -0.9959  -0.2730  16.3221  \n",
       "\n",
       "Coefficients:\n",
       "                           Estimate Std. Error z value Pr(>|z|)    \n",
       "(Intercept)                 3.13040    0.02398 130.568  < 2e-16 ***\n",
       "factor(randomization.arm)1 -0.07009    0.03391  -2.067 0.038729 *  \n",
       "factor(randomization.arm)2 -0.12093    0.03391  -3.566 0.000362 ***\n",
       "---\n",
       "Signif. codes:  0 ‘***’ 0.001 ‘**’ 0.01 ‘*’ 0.05 ‘.’ 0.1 ‘ ’ 1\n",
       "\n",
       "(Dispersion parameter for Negative Binomial(0.0918) family taken to be 1)\n",
       "\n",
       "    Null deviance: 42652  on 57083  degrees of freedom\n",
       "Residual deviance: 42639  on 57081  degrees of freedom\n",
       "AIC: 282704\n",
       "\n",
       "Number of Fisher Scoring iterations: 1\n",
       "\n",
       "\n",
       "              Theta:  0.091795 \n",
       "          Std. Err.:  0.000699 \n",
       "\n",
       " 2 x log-likelihood:  -282695.738000 "
      ]
     },
     "metadata": {},
     "output_type": "display_data"
    },
    {
     "data": {
      "text/html": [
       "<dl>\n",
       "\t<dt>$fit</dt>\n",
       "\t\t<dd><dl class=dl-horizontal>\n",
       "\t<dt>1</dt>\n",
       "\t\t<dd>22.8831721673208</dd>\n",
       "\t<dt>2</dt>\n",
       "\t\t<dd>21.3341917174575</dd>\n",
       "\t<dt>3</dt>\n",
       "\t\t<dd>20.2766974984131</dd>\n",
       "</dl>\n",
       "</dd>\n",
       "\t<dt>$se.fit</dt>\n",
       "\t\t<dd><dl class=dl-horizontal>\n",
       "\t<dt>1</dt>\n",
       "\t\t<dd>0.548629958559446</dd>\n",
       "\t<dt>2</dt>\n",
       "\t\t<dd>0.511566936765616</dd>\n",
       "\t<dt>3</dt>\n",
       "\t\t<dd>0.486263878814309</dd>\n",
       "</dl>\n",
       "</dd>\n",
       "\t<dt>$residual.scale</dt>\n",
       "\t\t<dd>1</dd>\n",
       "</dl>\n"
      ],
      "text/latex": [
       "\\begin{description}\n",
       "\\item[\\$fit] \\begin{description*}\n",
       "\\item[1] 22.8831721673208\n",
       "\\item[2] 21.3341917174575\n",
       "\\item[3] 20.2766974984131\n",
       "\\end{description*}\n",
       "\n",
       "\\item[\\$se.fit] \\begin{description*}\n",
       "\\item[1] 0.548629958559446\n",
       "\\item[2] 0.511566936765616\n",
       "\\item[3] 0.486263878814309\n",
       "\\end{description*}\n",
       "\n",
       "\\item[\\$residual.scale] 1\n",
       "\\end{description}\n"
      ],
      "text/markdown": [
       "$fit\n",
       ":   1\n",
       ":   22.88317216732082\n",
       ":   21.33419171745753\n",
       ":   20.2766974984131\n",
       "\n",
       "\n",
       "$se.fit\n",
       ":   1\n",
       ":   0.5486299585594462\n",
       ":   0.5115669367656163\n",
       ":   0.486263878814309\n",
       "\n",
       "\n",
       "$residual.scale\n",
       ":   1\n",
       "\n",
       "\n"
      ],
      "text/plain": [
       "$fit\n",
       "       1        2        3 \n",
       "22.88317 21.33419 20.27670 \n",
       "\n",
       "$se.fit\n",
       "        1         2         3 \n",
       "0.5486300 0.5115669 0.4862639 \n",
       "\n",
       "$residual.scale\n",
       "[1] 1\n"
      ]
     },
     "metadata": {},
     "output_type": "display_data"
    }
   ],
   "source": [
    "# ggplot(participants, aes(labor.hours, fill=randomization.arm)) +\n",
    "#     geom_histogram(binwidth=1) +\n",
    "#     facet_grid(randomization.arm ~ 1)\n",
    "#tail(sort(participants$labor.hours.nontruncated))\n",
    "\n",
    "\n",
    "## estimate base rates for reporting\n",
    "summary(baserate.lm <- glm.nb(labor.minutes ~ factor(randomization.arm), data=participants))\n",
    "predict(baserate.lm, data.frame(randomization.arm=c(0,1,2)), type=\"response\", se.fit=TRUE)"
   ]
  },
  {
   "cell_type": "code",
   "execution_count": 16,
   "metadata": {},
   "outputs": [
    {
     "name": "stdout",
     "output_type": "stream",
     "text": [
      "[1] \"Labor Minutes: Treatment 1 compared to Control\"\n"
     ]
    },
    {
     "data": {
      "text/plain": [
       "\n",
       "Call:\n",
       "glm.nb(formula = labor.minutes ~ treat.one, data = subset(participants, \n",
       "    treat.two == 0), init.theta = 0.09098893265, link = log)\n",
       "\n",
       "Deviance Residuals: \n",
       "    Min       1Q   Median       3Q      Max  \n",
       "-1.0033  -1.0033  -0.9969  -0.2828  16.2504  \n",
       "\n",
       "Coefficients:\n",
       "            Estimate Std. Error z value Pr(>|z|)    \n",
       "(Intercept)  3.13040    0.02408 129.996   <2e-16 ***\n",
       "treat.one   -0.07009    0.03406  -2.058   0.0396 *  \n",
       "---\n",
       "Signif. codes:  0 ‘***’ 0.001 ‘**’ 0.01 ‘*’ 0.05 ‘.’ 0.1 ‘ ’ 1\n",
       "\n",
       "(Dispersion parameter for Negative Binomial(0.091) family taken to be 1)\n",
       "\n",
       "    Null deviance: 28415  on 38055  degrees of freedom\n",
       "Residual deviance: 28411  on 38054  degrees of freedom\n",
       "AIC: 188681\n",
       "\n",
       "Number of Fisher Scoring iterations: 1\n",
       "\n",
       "\n",
       "              Theta:  0.090989 \n",
       "          Std. Err.:  0.000847 \n",
       "\n",
       " 2 x log-likelihood:  -188675.210000 "
      ]
     },
     "metadata": {},
     "output_type": "display_data"
    },
    {
     "name": "stdout",
     "output_type": "stream",
     "text": [
      "[1] \"Labor Minutes: Treatment 2 compared to Treatment 1\"\n"
     ]
    },
    {
     "data": {
      "text/plain": [
       "\n",
       "Call:\n",
       "glm.nb(formula = labor.minutes ~ treat.two, data = subset(participants, \n",
       "    control == 0), init.theta = 0.09285682565, link = log)\n",
       "\n",
       "Deviance Residuals: \n",
       "    Min       1Q   Median       3Q      Max  \n",
       "-1.0053  -1.0053  -1.0006  -0.2746  16.4160  \n",
       "\n",
       "Coefficients:\n",
       "            Estimate Std. Error z value Pr(>|z|)    \n",
       "(Intercept)  3.06031    0.02384 128.359   <2e-16 ***\n",
       "treat.two   -0.05084    0.03372  -1.508    0.132    \n",
       "---\n",
       "Signif. codes:  0 ‘***’ 0.001 ‘**’ 0.01 ‘*’ 0.05 ‘.’ 0.1 ‘ ’ 1\n",
       "\n",
       "(Dispersion parameter for Negative Binomial(0.0929) family taken to be 1)\n",
       "\n",
       "    Null deviance: 28469  on 38055  degrees of freedom\n",
       "Residual deviance: 28467  on 38054  degrees of freedom\n",
       "AIC: 188349\n",
       "\n",
       "Number of Fisher Scoring iterations: 1\n",
       "\n",
       "\n",
       "              Theta:  0.092857 \n",
       "          Std. Err.:  0.000867 \n",
       "\n",
       " 2 x log-likelihood:  -188343.183000 "
      ]
     },
     "metadata": {},
     "output_type": "display_data"
    }
   ],
   "source": [
    "# main outcome: labor hours\n",
    "\n",
    "# Treatment 1 -> model.3, Treatment 2 -> model.4\n",
    "model.3 = glm.nb(labor.minutes ~ treat.one, data = subset(participants,treat.two==0))\n",
    "model.4 = glm.nb(labor.minutes ~ treat.two, data = subset(participants,control==0))\n",
    "print(\"Labor Minutes: Treatment 1 compared to Control\")\n",
    "summary(model.3)\n",
    "print(\"Labor Minutes: Treatment 2 compared to Treatment 1\")\n",
    "summary(model.4)"
   ]
  },
  {
   "cell_type": "code",
   "execution_count": 17,
   "metadata": {},
   "outputs": [],
   "source": [
    "p.values <- rbind(p.values,\n",
    "                data.frame(\"model\" = c(\"model.3\", \"model.4\"), \n",
    "                           \"pvalue\"=c(summary(model.3)$coefficients['treat.one',]['Pr(>|z|)'],\n",
    "                                      summary(model.4)$coefficients['treat.two',]['Pr(>|z|)']))\n",
    "                 )"
   ]
  },
  {
   "cell_type": "markdown",
   "metadata": {},
   "source": [
    "# Exploratory Analyses"
   ]
  },
  {
   "cell_type": "code",
   "execution_count": 18,
   "metadata": {},
   "outputs": [
    {
     "name": "stdout",
     "output_type": "stream",
     "text": [
      "[1] \"Treatment 2 compared to Control\"\n"
     ]
    },
    {
     "data": {
      "text/plain": [
       "\n",
       "Call:\n",
       "glm.nb(formula = labor.hours ~ treat.two, data = subset(participants, \n",
       "    treat.one == 0), init.theta = 0.01989318315, link = log)\n",
       "\n",
       "Deviance Residuals: \n",
       "    Min       1Q   Median       3Q      Max  \n",
       "-0.3288  -0.3288  -0.3193  -0.3193   8.2644  \n",
       "\n",
       "Coefficients:\n",
       "            Estimate Std. Error z value Pr(>|z|)    \n",
       "(Intercept) -1.26882    0.05319  -23.86   <2e-16 ***\n",
       "treat.two   -0.16593    0.07544   -2.20   0.0278 *  \n",
       "---\n",
       "Signif. codes:  0 ‘***’ 0.001 ‘**’ 0.01 ‘*’ 0.05 ‘.’ 0.1 ‘ ’ 1\n",
       "\n",
       "(Dispersion parameter for Negative Binomial(0.0199) family taken to be 1)\n",
       "\n",
       "    Null deviance: 5015.6  on 38055  degrees of freedom\n",
       "Residual deviance: 5010.7  on 38054  degrees of freedom\n",
       "AIC: 23805\n",
       "\n",
       "Number of Fisher Scoring iterations: 1\n",
       "\n",
       "\n",
       "              Theta:  0.019893 \n",
       "          Std. Err.:  0.000559 \n",
       "\n",
       " 2 x log-likelihood:  -23799.290000 "
      ]
     },
     "metadata": {},
     "output_type": "display_data"
    }
   ],
   "source": [
    "# NOT a model in experiment plan, but thought FR liaisons may be interested in this analysis\n",
    "# main outcome: labor hours\n",
    "# Treatment 2 compared to Control -> model.5\n",
    "model.5 = glm.nb(labor.hours ~ treat.two, data = subset(participants,treat.one==0))\n",
    "print(\"Treatment 2 compared to Control\")\n",
    "summary(model.5)"
   ]
  },
  {
   "cell_type": "code",
   "execution_count": 19,
   "metadata": {},
   "outputs": [
    {
     "name": "stdout",
     "output_type": "stream",
     "text": [
      "[1] \"Efficacy: Treatment 1 compared to Control\"\n"
     ]
    },
    {
     "data": {
      "text/html": [
       "<dl>\n",
       "\t<dt>$coefficients</dt>\n",
       "\t\t<dd><table>\n",
       "<thead><tr><th></th><th scope=col>Estimate</th><th scope=col>Std. Error</th><th scope=col>t value</th><th scope=col>Pr(&gt;|t|)</th><th scope=col>CI Lower</th><th scope=col>CI Upper</th><th scope=col>DF</th></tr></thead>\n",
       "<tbody>\n",
       "\t<tr><th scope=row>treat.one</th><td>0.1142938  </td><td>0.08953726 </td><td>1.276494   </td><td>0.2023125  </td><td>-0.06157799</td><td>0.2901656  </td><td>557.2259   </td></tr>\n",
       "</tbody>\n",
       "</table>\n",
       "</dd>\n",
       "\t<dt>$design</dt>\n",
       "\t\t<dd>'Standard'</dd>\n",
       "</dl>\n"
      ],
      "text/latex": [
       "\\begin{description}\n",
       "\\item[\\$coefficients] \\begin{tabular}{r|lllllll}\n",
       "  & Estimate & Std. Error & t value & Pr(>\\textbar{}t\\textbar{}) & CI Lower & CI Upper & DF\\\\\n",
       "\\hline\n",
       "\ttreat.one & 0.1142938   & 0.08953726  & 1.276494    & 0.2023125   & -0.06157799 & 0.2901656   & 557.2259   \\\\\n",
       "\\end{tabular}\n",
       "\n",
       "\\item[\\$design] 'Standard'\n",
       "\\end{description}\n"
      ],
      "text/markdown": [
       "$coefficients\n",
       ":   \n",
       "| <!--/--> | Estimate | Std. Error | t value | Pr(>|t|) | CI Lower | CI Upper | DF | \n",
       "|---|\n",
       "| treat.one | 0.1142938   | 0.08953726  | 1.276494    | 0.2023125   | -0.06157799 | 0.2901656   | 557.2259    | \n",
       "\n",
       "\n",
       "\n",
       "$design\n",
       ":   'Standard'\n",
       "\n",
       "\n"
      ],
      "text/plain": [
       "$coefficients\n",
       "           Estimate Std. Error  t value  Pr(>|t|)    CI Lower  CI Upper\n",
       "treat.one 0.1142938 0.08953726 1.276494 0.2023125 -0.06157799 0.2901656\n",
       "                DF\n",
       "treat.one 557.2259\n",
       "\n",
       "$design\n",
       "[1] \"Standard\"\n"
      ]
     },
     "metadata": {},
     "output_type": "display_data"
    },
    {
     "name": "stdout",
     "output_type": "stream",
     "text": [
      "[1] \"Efficacy: Treatment 2 compared to Treatment 1\"\n"
     ]
    },
    {
     "data": {
      "text/html": [
       "<dl>\n",
       "\t<dt>$coefficients</dt>\n",
       "\t\t<dd><table>\n",
       "<thead><tr><th></th><th scope=col>Estimate</th><th scope=col>Std. Error</th><th scope=col>t value</th><th scope=col>Pr(&gt;|t|)</th><th scope=col>CI Lower</th><th scope=col>CI Upper</th><th scope=col>DF</th></tr></thead>\n",
       "<tbody>\n",
       "\t<tr><th scope=row>treat.two</th><td>-0.0413051</td><td>0.09676653</td><td>-0.4268532</td><td>0.6696619 </td><td>-0.2314038</td><td>0.1487936 </td><td>523.118   </td></tr>\n",
       "</tbody>\n",
       "</table>\n",
       "</dd>\n",
       "\t<dt>$design</dt>\n",
       "\t\t<dd>'Standard'</dd>\n",
       "</dl>\n"
      ],
      "text/latex": [
       "\\begin{description}\n",
       "\\item[\\$coefficients] \\begin{tabular}{r|lllllll}\n",
       "  & Estimate & Std. Error & t value & Pr(>\\textbar{}t\\textbar{}) & CI Lower & CI Upper & DF\\\\\n",
       "\\hline\n",
       "\ttreat.two & -0.0413051 & 0.09676653 & -0.4268532 & 0.6696619  & -0.2314038 & 0.1487936  & 523.118   \\\\\n",
       "\\end{tabular}\n",
       "\n",
       "\\item[\\$design] 'Standard'\n",
       "\\end{description}\n"
      ],
      "text/markdown": [
       "$coefficients\n",
       ":   \n",
       "| <!--/--> | Estimate | Std. Error | t value | Pr(>|t|) | CI Lower | CI Upper | DF | \n",
       "|---|\n",
       "| treat.two | -0.0413051 | 0.09676653 | -0.4268532 | 0.6696619  | -0.2314038 | 0.1487936  | 523.118    | \n",
       "\n",
       "\n",
       "\n",
       "$design\n",
       ":   'Standard'\n",
       "\n",
       "\n"
      ],
      "text/plain": [
       "$coefficients\n",
       "            Estimate Std. Error    t value  Pr(>|t|)   CI Lower  CI Upper\n",
       "treat.two -0.0413051 0.09676653 -0.4268532 0.6696619 -0.2314038 0.1487936\n",
       "               DF\n",
       "treat.two 523.118\n",
       "\n",
       "$design\n",
       "[1] \"Standard\"\n"
      ]
     },
     "metadata": {},
     "output_type": "display_data"
    }
   ],
   "source": [
    "# main outcome: efficacy\n",
    "# Treatment 1 -> model.6, Treatment 2 -> model.7\n",
    "model.6 = difference_in_means(efficacy ~ treat.one, data =subset(complier.participants, treat.two==0))\n",
    "model.7 = difference_in_means(efficacy ~ treat.two, data =subset(complier.participants, control==0))\n",
    "print(\"Efficacy: Treatment 1 compared to Control\")\n",
    "summary(model.6)\n",
    "print(\"Efficacy: Treatment 2 compared to Treatment 1\")\n",
    "summary(model.7)"
   ]
  },
  {
   "cell_type": "code",
   "execution_count": 20,
   "metadata": {},
   "outputs": [
    {
     "name": "stdout",
     "output_type": "stream",
     "text": [
      "[1] \"Community friendliness: Treatment 1 compared to Control\"\n"
     ]
    },
    {
     "data": {
      "text/html": [
       "<dl>\n",
       "\t<dt>$coefficients</dt>\n",
       "\t\t<dd><table>\n",
       "<thead><tr><th></th><th scope=col>Estimate</th><th scope=col>Std. Error</th><th scope=col>t value</th><th scope=col>Pr(&gt;|t|)</th><th scope=col>CI Lower</th><th scope=col>CI Upper</th><th scope=col>DF</th></tr></thead>\n",
       "<tbody>\n",
       "\t<tr><th scope=row>treat.one</th><td>0.1090471  </td><td>0.09087024 </td><td>1.200031   </td><td>0.2306336  </td><td>-0.06944011</td><td>0.2875343  </td><td>561.3986   </td></tr>\n",
       "</tbody>\n",
       "</table>\n",
       "</dd>\n",
       "\t<dt>$design</dt>\n",
       "\t\t<dd>'Standard'</dd>\n",
       "</dl>\n"
      ],
      "text/latex": [
       "\\begin{description}\n",
       "\\item[\\$coefficients] \\begin{tabular}{r|lllllll}\n",
       "  & Estimate & Std. Error & t value & Pr(>\\textbar{}t\\textbar{}) & CI Lower & CI Upper & DF\\\\\n",
       "\\hline\n",
       "\ttreat.one & 0.1090471   & 0.09087024  & 1.200031    & 0.2306336   & -0.06944011 & 0.2875343   & 561.3986   \\\\\n",
       "\\end{tabular}\n",
       "\n",
       "\\item[\\$design] 'Standard'\n",
       "\\end{description}\n"
      ],
      "text/markdown": [
       "$coefficients\n",
       ":   \n",
       "| <!--/--> | Estimate | Std. Error | t value | Pr(>|t|) | CI Lower | CI Upper | DF | \n",
       "|---|\n",
       "| treat.one | 0.1090471   | 0.09087024  | 1.200031    | 0.2306336   | -0.06944011 | 0.2875343   | 561.3986    | \n",
       "\n",
       "\n",
       "\n",
       "$design\n",
       ":   'Standard'\n",
       "\n",
       "\n"
      ],
      "text/plain": [
       "$coefficients\n",
       "           Estimate Std. Error  t value  Pr(>|t|)    CI Lower  CI Upper\n",
       "treat.one 0.1090471 0.09087024 1.200031 0.2306336 -0.06944011 0.2875343\n",
       "                DF\n",
       "treat.one 561.3986\n",
       "\n",
       "$design\n",
       "[1] \"Standard\"\n"
      ]
     },
     "metadata": {},
     "output_type": "display_data"
    },
    {
     "name": "stdout",
     "output_type": "stream",
     "text": [
      "[1] \"Community friendliness: Treatment 2 compared to Treatment 1\"\n"
     ]
    },
    {
     "data": {
      "text/html": [
       "<dl>\n",
       "\t<dt>$coefficients</dt>\n",
       "\t\t<dd><table>\n",
       "<thead><tr><th></th><th scope=col>Estimate</th><th scope=col>Std. Error</th><th scope=col>t value</th><th scope=col>Pr(&gt;|t|)</th><th scope=col>CI Lower</th><th scope=col>CI Upper</th><th scope=col>DF</th></tr></thead>\n",
       "<tbody>\n",
       "\t<tr><th scope=row>treat.two</th><td>-0.0723707</td><td>0.09608753</td><td>-0.7531748</td><td>0.4516832 </td><td>-0.2611349</td><td>0.1163935 </td><td>523.8724  </td></tr>\n",
       "</tbody>\n",
       "</table>\n",
       "</dd>\n",
       "\t<dt>$design</dt>\n",
       "\t\t<dd>'Standard'</dd>\n",
       "</dl>\n"
      ],
      "text/latex": [
       "\\begin{description}\n",
       "\\item[\\$coefficients] \\begin{tabular}{r|lllllll}\n",
       "  & Estimate & Std. Error & t value & Pr(>\\textbar{}t\\textbar{}) & CI Lower & CI Upper & DF\\\\\n",
       "\\hline\n",
       "\ttreat.two & -0.0723707 & 0.09608753 & -0.7531748 & 0.4516832  & -0.2611349 & 0.1163935  & 523.8724  \\\\\n",
       "\\end{tabular}\n",
       "\n",
       "\\item[\\$design] 'Standard'\n",
       "\\end{description}\n"
      ],
      "text/markdown": [
       "$coefficients\n",
       ":   \n",
       "| <!--/--> | Estimate | Std. Error | t value | Pr(>|t|) | CI Lower | CI Upper | DF | \n",
       "|---|\n",
       "| treat.two | -0.0723707 | 0.09608753 | -0.7531748 | 0.4516832  | -0.2611349 | 0.1163935  | 523.8724   | \n",
       "\n",
       "\n",
       "\n",
       "$design\n",
       ":   'Standard'\n",
       "\n",
       "\n"
      ],
      "text/plain": [
       "$coefficients\n",
       "            Estimate Std. Error    t value  Pr(>|t|)   CI Lower  CI Upper\n",
       "treat.two -0.0723707 0.09608753 -0.7531748 0.4516832 -0.2611349 0.1163935\n",
       "                DF\n",
       "treat.two 523.8724\n",
       "\n",
       "$design\n",
       "[1] \"Standard\"\n"
      ]
     },
     "metadata": {},
     "output_type": "display_data"
    }
   ],
   "source": [
    "# main outcome: reported community friendliness\n",
    "# Treatment 1 -> model.8, Treatment 2 -> model.9\n",
    "model.8 = difference_in_means(community.friendliness ~ treat.one, data =subset(complier.participants, treat.two==0))\n",
    "model.9 = difference_in_means(community.friendliness ~ treat.two, data =subset(complier.participants, control==0))\n",
    "print(\"Community friendliness: Treatment 1 compared to Control\")\n",
    "summary(model.8)\n",
    "print(\"Community friendliness: Treatment 2 compared to Treatment 1\")\n",
    "summary(model.9)"
   ]
  },
  {
   "cell_type": "code",
   "execution_count": 21,
   "metadata": {},
   "outputs": [
    {
     "data": {
      "text/html": [
       "0.451683209487783"
      ],
      "text/latex": [
       "0.451683209487783"
      ],
      "text/markdown": [
       "0.451683209487783"
      ],
      "text/plain": [
       "[1] 0.4516832"
      ]
     },
     "metadata": {},
     "output_type": "display_data"
    }
   ],
   "source": [
    "summary(model.9)$coefficients['treat.two',][['Pr(>|t|)']]"
   ]
  },
  {
   "cell_type": "code",
   "execution_count": 22,
   "metadata": {},
   "outputs": [
    {
     "name": "stdout",
     "output_type": "stream",
     "text": [
      "[1] \"Four week retention: Treatment 1 compared to Control\"\n"
     ]
    },
    {
     "data": {
      "text/html": [
       "<dl>\n",
       "\t<dt>$coefficients</dt>\n",
       "\t\t<dd><table>\n",
       "<thead><tr><th></th><th scope=col>Estimate</th><th scope=col>Std. Error</th><th scope=col>t value</th><th scope=col>Pr(&gt;|t|)</th><th scope=col>CI Lower</th><th scope=col>CI Upper</th><th scope=col>DF</th></tr></thead>\n",
       "<tbody>\n",
       "\t<tr><th scope=row>treat.one</th><td>-0.0005780954</td><td>0.00210066   </td><td>-0.2751971   </td><td>0.7831663    </td><td>-0.004695444 </td><td>0.003539253  </td><td>38052.5      </td></tr>\n",
       "</tbody>\n",
       "</table>\n",
       "</dd>\n",
       "\t<dt>$design</dt>\n",
       "\t\t<dd>'Standard'</dd>\n",
       "</dl>\n"
      ],
      "text/latex": [
       "\\begin{description}\n",
       "\\item[\\$coefficients] \\begin{tabular}{r|lllllll}\n",
       "  & Estimate & Std. Error & t value & Pr(>\\textbar{}t\\textbar{}) & CI Lower & CI Upper & DF\\\\\n",
       "\\hline\n",
       "\ttreat.one & -0.0005780954 & 0.00210066    & -0.2751971    & 0.7831663     & -0.004695444  & 0.003539253   & 38052.5      \\\\\n",
       "\\end{tabular}\n",
       "\n",
       "\\item[\\$design] 'Standard'\n",
       "\\end{description}\n"
      ],
      "text/markdown": [
       "$coefficients\n",
       ":   \n",
       "| <!--/--> | Estimate | Std. Error | t value | Pr(>|t|) | CI Lower | CI Upper | DF | \n",
       "|---|\n",
       "| treat.one | -0.0005780954 | 0.00210066    | -0.2751971    | 0.7831663     | -0.004695444  | 0.003539253   | 38052.5       | \n",
       "\n",
       "\n",
       "\n",
       "$design\n",
       ":   'Standard'\n",
       "\n",
       "\n"
      ],
      "text/plain": [
       "$coefficients\n",
       "               Estimate Std. Error    t value  Pr(>|t|)     CI Lower\n",
       "treat.one -0.0005780954 0.00210066 -0.2751971 0.7831663 -0.004695444\n",
       "             CI Upper      DF\n",
       "treat.one 0.003539253 38052.5\n",
       "\n",
       "$design\n",
       "[1] \"Standard\"\n"
      ]
     },
     "metadata": {},
     "output_type": "display_data"
    },
    {
     "name": "stdout",
     "output_type": "stream",
     "text": [
      "[1] \"Four week retention: Treatment 2 compared to Treatment 1\"\n"
     ]
    },
    {
     "data": {
      "text/html": [
       "<dl>\n",
       "\t<dt>$coefficients</dt>\n",
       "\t\t<dd><table>\n",
       "<thead><tr><th></th><th scope=col>Estimate</th><th scope=col>Std. Error</th><th scope=col>t value</th><th scope=col>Pr(&gt;|t|)</th><th scope=col>CI Lower</th><th scope=col>CI Upper</th><th scope=col>DF</th></tr></thead>\n",
       "<tbody>\n",
       "\t<tr><th scope=row>treat.two</th><td>0.000788312 </td><td>0.002103055 </td><td>0.3748414   </td><td>0.7077805   </td><td>-0.003333731</td><td>0.004910355 </td><td>38051.22    </td></tr>\n",
       "</tbody>\n",
       "</table>\n",
       "</dd>\n",
       "\t<dt>$design</dt>\n",
       "\t\t<dd>'Standard'</dd>\n",
       "</dl>\n"
      ],
      "text/latex": [
       "\\begin{description}\n",
       "\\item[\\$coefficients] \\begin{tabular}{r|lllllll}\n",
       "  & Estimate & Std. Error & t value & Pr(>\\textbar{}t\\textbar{}) & CI Lower & CI Upper & DF\\\\\n",
       "\\hline\n",
       "\ttreat.two & 0.000788312  & 0.002103055  & 0.3748414    & 0.7077805    & -0.003333731 & 0.004910355  & 38051.22    \\\\\n",
       "\\end{tabular}\n",
       "\n",
       "\\item[\\$design] 'Standard'\n",
       "\\end{description}\n"
      ],
      "text/markdown": [
       "$coefficients\n",
       ":   \n",
       "| <!--/--> | Estimate | Std. Error | t value | Pr(>|t|) | CI Lower | CI Upper | DF | \n",
       "|---|\n",
       "| treat.two | 0.000788312  | 0.002103055  | 0.3748414    | 0.7077805    | -0.003333731 | 0.004910355  | 38051.22     | \n",
       "\n",
       "\n",
       "\n",
       "$design\n",
       ":   'Standard'\n",
       "\n",
       "\n"
      ],
      "text/plain": [
       "$coefficients\n",
       "             Estimate  Std. Error   t value  Pr(>|t|)     CI Lower    CI Upper\n",
       "treat.two 0.000788312 0.002103055 0.3748414 0.7077805 -0.003333731 0.004910355\n",
       "                DF\n",
       "treat.two 38051.22\n",
       "\n",
       "$design\n",
       "[1] \"Standard\"\n"
      ]
     },
     "metadata": {},
     "output_type": "display_data"
    },
    {
     "name": "stdout",
     "output_type": "stream",
     "text": [
      "[1] \"Four week retention: Treatment 2 compared to Control\"\n"
     ]
    },
    {
     "data": {
      "text/html": [
       "<dl>\n",
       "\t<dt>$coefficients</dt>\n",
       "\t\t<dd><table>\n",
       "<thead><tr><th></th><th scope=col>Estimate</th><th scope=col>Std. Error</th><th scope=col>t value</th><th scope=col>Pr(&gt;|t|)</th><th scope=col>CI Lower</th><th scope=col>CI Upper</th><th scope=col>DF</th></tr></thead>\n",
       "<tbody>\n",
       "\t<tr><th scope=row>treat.two</th><td>0.0002102165</td><td>0.002109634 </td><td>0.09964598  </td><td>0.9206259   </td><td>-0.003924721</td><td>0.004345154 </td><td>38053.81    </td></tr>\n",
       "</tbody>\n",
       "</table>\n",
       "</dd>\n",
       "\t<dt>$design</dt>\n",
       "\t\t<dd>'Standard'</dd>\n",
       "</dl>\n"
      ],
      "text/latex": [
       "\\begin{description}\n",
       "\\item[\\$coefficients] \\begin{tabular}{r|lllllll}\n",
       "  & Estimate & Std. Error & t value & Pr(>\\textbar{}t\\textbar{}) & CI Lower & CI Upper & DF\\\\\n",
       "\\hline\n",
       "\ttreat.two & 0.0002102165 & 0.002109634  & 0.09964598   & 0.9206259    & -0.003924721 & 0.004345154  & 38053.81    \\\\\n",
       "\\end{tabular}\n",
       "\n",
       "\\item[\\$design] 'Standard'\n",
       "\\end{description}\n"
      ],
      "text/markdown": [
       "$coefficients\n",
       ":   \n",
       "| <!--/--> | Estimate | Std. Error | t value | Pr(>|t|) | CI Lower | CI Upper | DF | \n",
       "|---|\n",
       "| treat.two | 0.0002102165 | 0.002109634  | 0.09964598   | 0.9206259    | -0.003924721 | 0.004345154  | 38053.81     | \n",
       "\n",
       "\n",
       "\n",
       "$design\n",
       ":   'Standard'\n",
       "\n",
       "\n"
      ],
      "text/plain": [
       "$coefficients\n",
       "              Estimate  Std. Error    t value  Pr(>|t|)     CI Lower\n",
       "treat.two 0.0002102165 0.002109634 0.09964598 0.9206259 -0.003924721\n",
       "             CI Upper       DF\n",
       "treat.two 0.004345154 38053.81\n",
       "\n",
       "$design\n",
       "[1] \"Standard\"\n"
      ]
     },
     "metadata": {},
     "output_type": "display_data"
    }
   ],
   "source": [
    "# four week retention\n",
    "# Treatment 1 -> model.10, Treatment 2 -> model.11, Treatment compared to control -> model.12\n",
    "model.10 = difference_in_means(four.week.retention ~ treat.one, data =subset(participants, treat.two==0))\n",
    "model.11 = difference_in_means(four.week.retention ~ treat.two, data =subset(participants, control==0))\n",
    "model.12 = difference_in_means(four.week.retention ~ treat.two, data =subset(participants, treat.one==0))\n",
    "print(\"Four week retention: Treatment 1 compared to Control\")\n",
    "summary(model.10)\n",
    "print(\"Four week retention: Treatment 2 compared to Treatment 1\")\n",
    "summary(model.11)\n",
    "print(\"Four week retention: Treatment 2 compared to Control\")\n",
    "summary(model.12)"
   ]
  },
  {
   "cell_type": "code",
   "execution_count": 23,
   "metadata": {},
   "outputs": [
    {
     "name": "stdout",
     "output_type": "stream",
     "text": [
      "[1] \"Labor hours nontruncated: Treatment 1 compared to Control\"\n"
     ]
    },
    {
     "data": {
      "text/plain": [
       "\n",
       "Call:\n",
       "lm(formula = log1p(labor.hours.nontruncated) ~ treat.one, data = subset(participants, \n",
       "    treat.two == 0))\n",
       "\n",
       "Residuals:\n",
       "    Min      1Q  Median      3Q     Max \n",
       "-0.1384 -0.1384 -0.1368 -0.0240  6.1190 \n",
       "\n",
       "Coefficients:\n",
       "             Estimate Std. Error t value Pr(>|t|)    \n",
       "(Intercept)  0.138413   0.002566  53.938   <2e-16 ***\n",
       "treat.one   -0.001605   0.003629  -0.442    0.658    \n",
       "---\n",
       "Signif. codes:  0 ‘***’ 0.001 ‘**’ 0.01 ‘*’ 0.05 ‘.’ 0.1 ‘ ’ 1\n",
       "\n",
       "Residual standard error: 0.354 on 38054 degrees of freedom\n",
       "Multiple R-squared:  5.14e-06,\tAdjusted R-squared:  -2.114e-05 \n",
       "F-statistic: 0.1956 on 1 and 38054 DF,  p-value: 0.6583\n"
      ]
     },
     "metadata": {},
     "output_type": "display_data"
    },
    {
     "name": "stdout",
     "output_type": "stream",
     "text": [
      "[1] \"Labor hours nontruncated: Treatment 2 compared to Treatment 1\"\n"
     ]
    },
    {
     "data": {
      "text/plain": [
       "\n",
       "Call:\n",
       "lm(formula = log1p(labor.hours.nontruncated) ~ treat.two, data = subset(participants, \n",
       "    control == 0))\n",
       "\n",
       "Residuals:\n",
       "    Min      1Q  Median      3Q     Max \n",
       "-0.1368 -0.1368 -0.1368 -0.0240  6.1190 \n",
       "\n",
       "Coefficients:\n",
       "             Estimate Std. Error t value Pr(>|t|)    \n",
       "(Intercept) 1.368e-01  2.536e-03  53.951   <2e-16 ***\n",
       "treat.two   2.381e-05  3.586e-03   0.007    0.995    \n",
       "---\n",
       "Signif. codes:  0 ‘***’ 0.001 ‘**’ 0.01 ‘*’ 0.05 ‘.’ 0.1 ‘ ’ 1\n",
       "\n",
       "Residual standard error: 0.3498 on 38054 degrees of freedom\n",
       "Multiple R-squared:  1.158e-09,\tAdjusted R-squared:  -2.628e-05 \n",
       "F-statistic: 4.408e-05 on 1 and 38054 DF,  p-value: 0.9947\n"
      ]
     },
     "metadata": {},
     "output_type": "display_data"
    },
    {
     "name": "stdout",
     "output_type": "stream",
     "text": [
      "[1] \"Labor hours nontruncated: Treatment 2 compared to Control\"\n"
     ]
    },
    {
     "data": {
      "text/plain": [
       "\n",
       "Call:\n",
       "lm(formula = log1p(labor.hours.nontruncated) ~ treat.two, data = subset(participants, \n",
       "    treat.one == 0))\n",
       "\n",
       "Residuals:\n",
       "    Min      1Q  Median      3Q     Max \n",
       "-0.1384 -0.1384 -0.1368 -0.0240  6.0830 \n",
       "\n",
       "Coefficients:\n",
       "             Estimate Std. Error t value Pr(>|t|)    \n",
       "(Intercept)  0.138413   0.002568  53.889   <2e-16 ***\n",
       "treat.two   -0.001581   0.003632  -0.435    0.663    \n",
       "---\n",
       "Signif. codes:  0 ‘***’ 0.001 ‘**’ 0.01 ‘*’ 0.05 ‘.’ 0.1 ‘ ’ 1\n",
       "\n",
       "Residual standard error: 0.3543 on 38054 degrees of freedom\n",
       "Multiple R-squared:  4.98e-06,\tAdjusted R-squared:  -2.13e-05 \n",
       "F-statistic: 0.1895 on 1 and 38054 DF,  p-value: 0.6633\n"
      ]
     },
     "metadata": {},
     "output_type": "display_data"
    }
   ],
   "source": [
    "# labor hours nontruncated\n",
    "## note: could not run with glm.nb\n",
    "# Treatment 1 -> model.3, Treatment 2 -> model.4\n",
    "model.13 = lm(log1p(labor.hours.nontruncated) ~ treat.one, data = subset(participants,treat.two==0))\n",
    "model.14 = lm(log1p(labor.hours.nontruncated) ~ treat.two, data = subset(participants,control==0))\n",
    "model.15 = lm(log1p(labor.hours.nontruncated) ~ treat.two, data = subset(participants,treat.one==0))\n",
    "print(\"Labor hours nontruncated: Treatment 1 compared to Control\")\n",
    "summary(model.13)\n",
    "print(\"Labor hours nontruncated: Treatment 2 compared to Treatment 1\")\n",
    "summary(model.14)\n",
    "print(\"Labor hours nontruncated: Treatment 2 compared to Control\")\n",
    "summary(model.15)"
   ]
  },
  {
   "cell_type": "code",
   "execution_count": 24,
   "metadata": {},
   "outputs": [
    {
     "name": "stdout",
     "output_type": "stream",
     "text": [
      "[1] \"Took survey: Treatment 1 compared to Control\"\n"
     ]
    },
    {
     "data": {
      "text/html": [
       "<dl>\n",
       "\t<dt>$coefficients</dt>\n",
       "\t\t<dd><table>\n",
       "<thead><tr><th></th><th scope=col>Estimate</th><th scope=col>Std. Error</th><th scope=col>t value</th><th scope=col>Pr(&gt;|t|)</th><th scope=col>CI Lower</th><th scope=col>CI Upper</th><th scope=col>DF</th></tr></thead>\n",
       "<tbody>\n",
       "\t<tr><th scope=row>treat.one</th><td>-0.02998367</td><td>0.0319893  </td><td>-0.9373032 </td><td>0.3488839  </td><td>-0.092776  </td><td>0.03280866 </td><td>804.6479   </td></tr>\n",
       "</tbody>\n",
       "</table>\n",
       "</dd>\n",
       "\t<dt>$design</dt>\n",
       "\t\t<dd>'Standard'</dd>\n",
       "</dl>\n"
      ],
      "text/latex": [
       "\\begin{description}\n",
       "\\item[\\$coefficients] \\begin{tabular}{r|lllllll}\n",
       "  & Estimate & Std. Error & t value & Pr(>\\textbar{}t\\textbar{}) & CI Lower & CI Upper & DF\\\\\n",
       "\\hline\n",
       "\ttreat.one & -0.02998367 & 0.0319893   & -0.9373032  & 0.3488839   & -0.092776   & 0.03280866  & 804.6479   \\\\\n",
       "\\end{tabular}\n",
       "\n",
       "\\item[\\$design] 'Standard'\n",
       "\\end{description}\n"
      ],
      "text/markdown": [
       "$coefficients\n",
       ":   \n",
       "| <!--/--> | Estimate | Std. Error | t value | Pr(>|t|) | CI Lower | CI Upper | DF | \n",
       "|---|\n",
       "| treat.one | -0.02998367 | 0.0319893   | -0.9373032  | 0.3488839   | -0.092776   | 0.03280866  | 804.6479    | \n",
       "\n",
       "\n",
       "\n",
       "$design\n",
       ":   'Standard'\n",
       "\n",
       "\n"
      ],
      "text/plain": [
       "$coefficients\n",
       "             Estimate Std. Error    t value  Pr(>|t|)  CI Lower   CI Upper\n",
       "treat.one -0.02998367  0.0319893 -0.9373032 0.3488839 -0.092776 0.03280866\n",
       "                DF\n",
       "treat.one 804.6479\n",
       "\n",
       "$design\n",
       "[1] \"Standard\"\n"
      ]
     },
     "metadata": {},
     "output_type": "display_data"
    },
    {
     "name": "stdout",
     "output_type": "stream",
     "text": [
      "[1] \"Took survey: Treatment 2 compared to Treatment 1\"\n"
     ]
    },
    {
     "data": {
      "text/html": [
       "<dl>\n",
       "\t<dt>$coefficients</dt>\n",
       "\t\t<dd><table>\n",
       "<thead><tr><th></th><th scope=col>Estimate</th><th scope=col>Std. Error</th><th scope=col>t value</th><th scope=col>Pr(&gt;|t|)</th><th scope=col>CI Lower</th><th scope=col>CI Upper</th><th scope=col>DF</th></tr></thead>\n",
       "<tbody>\n",
       "\t<tr><th scope=row>treat.two</th><td>0.022524   </td><td>0.03355434 </td><td>0.6712693  </td><td>0.502252   </td><td>-0.04334571</td><td>0.08839371 </td><td>763.5309   </td></tr>\n",
       "</tbody>\n",
       "</table>\n",
       "</dd>\n",
       "\t<dt>$design</dt>\n",
       "\t\t<dd>'Standard'</dd>\n",
       "</dl>\n"
      ],
      "text/latex": [
       "\\begin{description}\n",
       "\\item[\\$coefficients] \\begin{tabular}{r|lllllll}\n",
       "  & Estimate & Std. Error & t value & Pr(>\\textbar{}t\\textbar{}) & CI Lower & CI Upper & DF\\\\\n",
       "\\hline\n",
       "\ttreat.two & 0.022524    & 0.03355434  & 0.6712693   & 0.502252    & -0.04334571 & 0.08839371  & 763.5309   \\\\\n",
       "\\end{tabular}\n",
       "\n",
       "\\item[\\$design] 'Standard'\n",
       "\\end{description}\n"
      ],
      "text/markdown": [
       "$coefficients\n",
       ":   \n",
       "| <!--/--> | Estimate | Std. Error | t value | Pr(>|t|) | CI Lower | CI Upper | DF | \n",
       "|---|\n",
       "| treat.two | 0.022524    | 0.03355434  | 0.6712693   | 0.502252    | -0.04334571 | 0.08839371  | 763.5309    | \n",
       "\n",
       "\n",
       "\n",
       "$design\n",
       ":   'Standard'\n",
       "\n",
       "\n"
      ],
      "text/plain": [
       "$coefficients\n",
       "          Estimate Std. Error   t value Pr(>|t|)    CI Lower   CI Upper\n",
       "treat.two 0.022524 0.03355434 0.6712693 0.502252 -0.04334571 0.08839371\n",
       "                DF\n",
       "treat.two 763.5309\n",
       "\n",
       "$design\n",
       "[1] \"Standard\"\n"
      ]
     },
     "metadata": {},
     "output_type": "display_data"
    },
    {
     "name": "stdout",
     "output_type": "stream",
     "text": [
      "[1] \"Took survey: Treatment 2 compared to Control\"\n"
     ]
    },
    {
     "data": {
      "text/html": [
       "<dl>\n",
       "\t<dt>$coefficients</dt>\n",
       "\t\t<dd><table>\n",
       "<thead><tr><th></th><th scope=col>Estimate</th><th scope=col>Std. Error</th><th scope=col>t value</th><th scope=col>Pr(&gt;|t|)</th><th scope=col>CI Lower</th><th scope=col>CI Upper</th><th scope=col>DF</th></tr></thead>\n",
       "<tbody>\n",
       "\t<tr><th scope=row>treat.two</th><td>-0.007459677</td><td>0.03159678  </td><td>-0.2360898  </td><td>0.8134223   </td><td>-0.06948037 </td><td>0.05456102  </td><td>814.6445    </td></tr>\n",
       "</tbody>\n",
       "</table>\n",
       "</dd>\n",
       "\t<dt>$design</dt>\n",
       "\t\t<dd>'Standard'</dd>\n",
       "</dl>\n"
      ],
      "text/latex": [
       "\\begin{description}\n",
       "\\item[\\$coefficients] \\begin{tabular}{r|lllllll}\n",
       "  & Estimate & Std. Error & t value & Pr(>\\textbar{}t\\textbar{}) & CI Lower & CI Upper & DF\\\\\n",
       "\\hline\n",
       "\ttreat.two & -0.007459677 & 0.03159678   & -0.2360898   & 0.8134223    & -0.06948037  & 0.05456102   & 814.6445    \\\\\n",
       "\\end{tabular}\n",
       "\n",
       "\\item[\\$design] 'Standard'\n",
       "\\end{description}\n"
      ],
      "text/markdown": [
       "$coefficients\n",
       ":   \n",
       "| <!--/--> | Estimate | Std. Error | t value | Pr(>|t|) | CI Lower | CI Upper | DF | \n",
       "|---|\n",
       "| treat.two | -0.007459677 | 0.03159678   | -0.2360898   | 0.8134223    | -0.06948037  | 0.05456102   | 814.6445     | \n",
       "\n",
       "\n",
       "\n",
       "$design\n",
       ":   'Standard'\n",
       "\n",
       "\n"
      ],
      "text/plain": [
       "$coefficients\n",
       "              Estimate Std. Error    t value  Pr(>|t|)    CI Lower   CI Upper\n",
       "treat.two -0.007459677 0.03159678 -0.2360898 0.8134223 -0.06948037 0.05456102\n",
       "                DF\n",
       "treat.two 814.6445\n",
       "\n",
       "$design\n",
       "[1] \"Standard\"\n"
      ]
     },
     "metadata": {},
     "output_type": "display_data"
    }
   ],
   "source": [
    "# Did treatments make newcomers more likely to take and complete the survey?\n",
    "# Note: tried to run model looking at participants who *started* survey, but variable was all NAs\n",
    "model.16 = difference_in_means(complier ~ treat.one, data =subset(participants, treat.two==0))\n",
    "model.17 = difference_in_means(complier ~ treat.two, data =subset(participants, control==0))\n",
    "model.18 = difference_in_means(complier ~ treat.two, data =subset(participants, treat.one==0))\n",
    "print(\"Took survey: Treatment 1 compared to Control\")\n",
    "summary(model.16)\n",
    "print(\"Took survey: Treatment 2 compared to Treatment 1\")\n",
    "summary(model.17)\n",
    "print(\"Took survey: Treatment 2 compared to Control\")\n",
    "summary(model.18)"
   ]
  },
  {
   "cell_type": "code",
   "execution_count": 25,
   "metadata": {},
   "outputs": [
    {
     "name": "stdout",
     "output_type": "stream",
     "text": [
      "[1] \"Mentor respond: Treatment 2 compared to Treatment 1\"\n"
     ]
    },
    {
     "data": {
      "text/html": [
       "<dl>\n",
       "\t<dt>$coefficients</dt>\n",
       "\t\t<dd><table>\n",
       "<thead><tr><th></th><th scope=col>Estimate</th><th scope=col>Std. Error</th><th scope=col>t value</th><th scope=col>Pr(&gt;|t|)</th><th scope=col>CI Lower</th><th scope=col>CI Upper</th><th scope=col>DF</th></tr></thead>\n",
       "<tbody>\n",
       "\t<tr><th scope=row>treat.two</th><td>0.001839395 </td><td>0.0007053156</td><td>2.607903    </td><td>0.009113571 </td><td>0.0004569558</td><td>0.003221833 </td><td>36694.51    </td></tr>\n",
       "</tbody>\n",
       "</table>\n",
       "</dd>\n",
       "\t<dt>$design</dt>\n",
       "\t\t<dd>'Standard'</dd>\n",
       "</dl>\n"
      ],
      "text/latex": [
       "\\begin{description}\n",
       "\\item[\\$coefficients] \\begin{tabular}{r|lllllll}\n",
       "  & Estimate & Std. Error & t value & Pr(>\\textbar{}t\\textbar{}) & CI Lower & CI Upper & DF\\\\\n",
       "\\hline\n",
       "\ttreat.two & 0.001839395  & 0.0007053156 & 2.607903     & 0.009113571  & 0.0004569558 & 0.003221833  & 36694.51    \\\\\n",
       "\\end{tabular}\n",
       "\n",
       "\\item[\\$design] 'Standard'\n",
       "\\end{description}\n"
      ],
      "text/markdown": [
       "$coefficients\n",
       ":   \n",
       "| <!--/--> | Estimate | Std. Error | t value | Pr(>|t|) | CI Lower | CI Upper | DF | \n",
       "|---|\n",
       "| treat.two | 0.001839395  | 0.0007053156 | 2.607903     | 0.009113571  | 0.0004569558 | 0.003221833  | 36694.51     | \n",
       "\n",
       "\n",
       "\n",
       "$design\n",
       ":   'Standard'\n",
       "\n",
       "\n"
      ],
      "text/plain": [
       "$coefficients\n",
       "             Estimate   Std. Error  t value    Pr(>|t|)     CI Lower\n",
       "treat.two 0.001839395 0.0007053156 2.607903 0.009113571 0.0004569558\n",
       "             CI Upper       DF\n",
       "treat.two 0.003221833 36694.51\n",
       "\n",
       "$design\n",
       "[1] \"Standard\"\n"
      ]
     },
     "metadata": {},
     "output_type": "display_data"
    }
   ],
   "source": [
    "# Did treatment 2 make newcomers more likely to contact mentors?\n",
    "model.19 = difference_in_means(mentor.respond ~ treat.two, data =subset(participants, control==0))\n",
    "print(\"Mentor respond: Treatment 2 compared to Treatment 1\")\n",
    "summary(model.19)"
   ]
  },
  {
   "cell_type": "code",
   "execution_count": 26,
   "metadata": {},
   "outputs": [
    {
     "name": "stdout",
     "output_type": "stream",
     "text": [
      "[1] \"Mentor respond: Treatment 2\"\n"
     ]
    },
    {
     "data": {
      "text/plain": [
       "\n",
       "Call:\n",
       "lm(formula = mentor.respond ~ treat.two, data = subset(participants, \n",
       "    control == 0))\n",
       "\n",
       "Residuals:\n",
       "     Min       1Q   Median       3Q      Max \n",
       "-0.00568 -0.00568 -0.00384 -0.00384  0.99616 \n",
       "\n",
       "Coefficients:\n",
       "             Estimate Std. Error t value Pr(>|t|)    \n",
       "(Intercept) 0.0038365  0.0004987   7.692 1.48e-14 ***\n",
       "treat.two   0.0018394  0.0007053   2.608  0.00911 ** \n",
       "---\n",
       "Signif. codes:  0 ‘***’ 0.001 ‘**’ 0.01 ‘*’ 0.05 ‘.’ 0.1 ‘ ’ 1\n",
       "\n",
       "Residual standard error: 0.0688 on 38054 degrees of freedom\n",
       "Multiple R-squared:  0.0001787,\tAdjusted R-squared:  0.0001524 \n",
       "F-statistic: 6.801 on 1 and 38054 DF,  p-value: 0.009113\n"
      ]
     },
     "metadata": {},
     "output_type": "display_data"
    }
   ],
   "source": [
    "# Running model above with linear model to see baseline\n",
    "# NOTE: Not included in adjustment analysis since duplicative of model.19\n",
    "model.20 = lm(mentor.respond ~ treat.two, data =subset(participants, control==0))\n",
    "print(\"Mentor respond: Treatment 2\")\n",
    "summary(model.20)"
   ]
  },
  {
   "cell_type": "code",
   "execution_count": 27,
   "metadata": {},
   "outputs": [
    {
     "name": "stdout",
     "output_type": "stream",
     "text": [
      "[1] \"Forum des nouveau: Treatment 1\"\n"
     ]
    },
    {
     "data": {
      "text/html": [
       "<dl>\n",
       "\t<dt>$coefficients</dt>\n",
       "\t\t<dd><table>\n",
       "<thead><tr><th></th><th scope=col>Estimate</th><th scope=col>Std. Error</th><th scope=col>t value</th><th scope=col>Pr(&gt;|t|)</th><th scope=col>CI Lower</th><th scope=col>CI Upper</th><th scope=col>DF</th></tr></thead>\n",
       "<tbody>\n",
       "\t<tr><th scope=row>treat.one</th><td>0.0001051083</td><td>0.0007034365</td><td>0.1494211   </td><td>0.8812221   </td><td>-0.001273646</td><td>0.001483862 </td><td>38049.35    </td></tr>\n",
       "</tbody>\n",
       "</table>\n",
       "</dd>\n",
       "\t<dt>$design</dt>\n",
       "\t\t<dd>'Standard'</dd>\n",
       "</dl>\n"
      ],
      "text/latex": [
       "\\begin{description}\n",
       "\\item[\\$coefficients] \\begin{tabular}{r|lllllll}\n",
       "  & Estimate & Std. Error & t value & Pr(>\\textbar{}t\\textbar{}) & CI Lower & CI Upper & DF\\\\\n",
       "\\hline\n",
       "\ttreat.one & 0.0001051083 & 0.0007034365 & 0.1494211    & 0.8812221    & -0.001273646 & 0.001483862  & 38049.35    \\\\\n",
       "\\end{tabular}\n",
       "\n",
       "\\item[\\$design] 'Standard'\n",
       "\\end{description}\n"
      ],
      "text/markdown": [
       "$coefficients\n",
       ":   \n",
       "| <!--/--> | Estimate | Std. Error | t value | Pr(>|t|) | CI Lower | CI Upper | DF | \n",
       "|---|\n",
       "| treat.one | 0.0001051083 | 0.0007034365 | 0.1494211    | 0.8812221    | -0.001273646 | 0.001483862  | 38049.35     | \n",
       "\n",
       "\n",
       "\n",
       "$design\n",
       ":   'Standard'\n",
       "\n",
       "\n"
      ],
      "text/plain": [
       "$coefficients\n",
       "              Estimate   Std. Error   t value  Pr(>|t|)     CI Lower\n",
       "treat.one 0.0001051083 0.0007034365 0.1494211 0.8812221 -0.001273646\n",
       "             CI Upper       DF\n",
       "treat.one 0.001483862 38049.35\n",
       "\n",
       "$design\n",
       "[1] \"Standard\"\n"
      ]
     },
     "metadata": {},
     "output_type": "display_data"
    },
    {
     "name": "stdout",
     "output_type": "stream",
     "text": [
      "[1] \"Forum des nouveau: Treatment 2 compared to Treatment 1\"\n"
     ]
    },
    {
     "data": {
      "text/html": [
       "<dl>\n",
       "\t<dt>$coefficients</dt>\n",
       "\t\t<dd><table>\n",
       "<thead><tr><th></th><th scope=col>Estimate</th><th scope=col>Std. Error</th><th scope=col>t value</th><th scope=col>Pr(&gt;|t|)</th><th scope=col>CI Lower</th><th scope=col>CI Upper</th><th scope=col>DF</th></tr></thead>\n",
       "<tbody>\n",
       "\t<tr><th scope=row>treat.two</th><td>0.001418962 </td><td>0.0007576621</td><td>1.872816    </td><td>0.06110161  </td><td>-6.60769e-05</td><td>0.002904    </td><td>37435.99    </td></tr>\n",
       "</tbody>\n",
       "</table>\n",
       "</dd>\n",
       "\t<dt>$design</dt>\n",
       "\t\t<dd>'Standard'</dd>\n",
       "</dl>\n"
      ],
      "text/latex": [
       "\\begin{description}\n",
       "\\item[\\$coefficients] \\begin{tabular}{r|lllllll}\n",
       "  & Estimate & Std. Error & t value & Pr(>\\textbar{}t\\textbar{}) & CI Lower & CI Upper & DF\\\\\n",
       "\\hline\n",
       "\ttreat.two & 0.001418962  & 0.0007576621 & 1.872816     & 0.06110161   & -6.60769e-05 & 0.002904     & 37435.99    \\\\\n",
       "\\end{tabular}\n",
       "\n",
       "\\item[\\$design] 'Standard'\n",
       "\\end{description}\n"
      ],
      "text/markdown": [
       "$coefficients\n",
       ":   \n",
       "| <!--/--> | Estimate | Std. Error | t value | Pr(>|t|) | CI Lower | CI Upper | DF | \n",
       "|---|\n",
       "| treat.two | 0.001418962  | 0.0007576621 | 1.872816     | 0.06110161   | -6.60769e-05 | 0.002904     | 37435.99     | \n",
       "\n",
       "\n",
       "\n",
       "$design\n",
       ":   'Standard'\n",
       "\n",
       "\n"
      ],
      "text/plain": [
       "$coefficients\n",
       "             Estimate   Std. Error  t value   Pr(>|t|)     CI Lower CI Upper\n",
       "treat.two 0.001418962 0.0007576621 1.872816 0.06110161 -6.60769e-05 0.002904\n",
       "                DF\n",
       "treat.two 37435.99\n",
       "\n",
       "$design\n",
       "[1] \"Standard\"\n"
      ]
     },
     "metadata": {},
     "output_type": "display_data"
    },
    {
     "name": "stdout",
     "output_type": "stream",
     "text": [
      "[1] \"Forum des nouveau: Treatment 2 compared to control\"\n"
     ]
    },
    {
     "data": {
      "text/html": [
       "<dl>\n",
       "\t<dt>$coefficients</dt>\n",
       "\t\t<dd><table>\n",
       "<thead><tr><th></th><th scope=col>Estimate</th><th scope=col>Std. Error</th><th scope=col>t value</th><th scope=col>Pr(&gt;|t|)</th><th scope=col>CI Lower</th><th scope=col>CI Upper</th><th scope=col>DF</th></tr></thead>\n",
       "<tbody>\n",
       "\t<tr><th scope=row>treat.two</th><td>0.00152407  </td><td>0.0007540424</td><td>2.021199    </td><td>0.04326629  </td><td>4.612592e-05</td><td>0.003002014 </td><td>37329.17    </td></tr>\n",
       "</tbody>\n",
       "</table>\n",
       "</dd>\n",
       "\t<dt>$design</dt>\n",
       "\t\t<dd>'Standard'</dd>\n",
       "</dl>\n"
      ],
      "text/latex": [
       "\\begin{description}\n",
       "\\item[\\$coefficients] \\begin{tabular}{r|lllllll}\n",
       "  & Estimate & Std. Error & t value & Pr(>\\textbar{}t\\textbar{}) & CI Lower & CI Upper & DF\\\\\n",
       "\\hline\n",
       "\ttreat.two & 0.00152407   & 0.0007540424 & 2.021199     & 0.04326629   & 4.612592e-05 & 0.003002014  & 37329.17    \\\\\n",
       "\\end{tabular}\n",
       "\n",
       "\\item[\\$design] 'Standard'\n",
       "\\end{description}\n"
      ],
      "text/markdown": [
       "$coefficients\n",
       ":   \n",
       "| <!--/--> | Estimate | Std. Error | t value | Pr(>|t|) | CI Lower | CI Upper | DF | \n",
       "|---|\n",
       "| treat.two | 0.00152407   | 0.0007540424 | 2.021199     | 0.04326629   | 4.612592e-05 | 0.003002014  | 37329.17     | \n",
       "\n",
       "\n",
       "\n",
       "$design\n",
       ":   'Standard'\n",
       "\n",
       "\n"
      ],
      "text/plain": [
       "$coefficients\n",
       "            Estimate   Std. Error  t value   Pr(>|t|)     CI Lower    CI Upper\n",
       "treat.two 0.00152407 0.0007540424 2.021199 0.04326629 4.612592e-05 0.003002014\n",
       "                DF\n",
       "treat.two 37329.17\n",
       "\n",
       "$design\n",
       "[1] \"Standard\"\n"
      ]
     },
     "metadata": {},
     "output_type": "display_data"
    }
   ],
   "source": [
    "# Did treatment make newcomers more likely to go to forum des nouveaux?\n",
    "model.21 = difference_in_means(forum.des.nouveaux ~ treat.one, data =subset(participants, treat.two==0))\n",
    "model.22 = difference_in_means(forum.des.nouveaux ~ treat.two, data =subset(participants, control==0))\n",
    "model.23 = difference_in_means(forum.des.nouveaux ~ treat.two, data =subset(participants, treat.one==0))\n",
    "print(\"Forum des nouveau: Treatment 1\")\n",
    "summary(model.21)\n",
    "print(\"Forum des nouveau: Treatment 2 compared to Treatment 1\")\n",
    "summary(model.22)\n",
    "print(\"Forum des nouveau: Treatment 2 compared to control\")\n",
    "summary(model.23)"
   ]
  },
  {
   "cell_type": "code",
   "execution_count": 28,
   "metadata": {},
   "outputs": [
    {
     "name": "stdout",
     "output_type": "stream",
     "text": [
      "[1] \"Social response: Treatment 1\"\n"
     ]
    },
    {
     "data": {
      "text/html": [
       "<dl>\n",
       "\t<dt>$coefficients</dt>\n",
       "\t\t<dd><table>\n",
       "<thead><tr><th></th><th scope=col>Estimate</th><th scope=col>Std. Error</th><th scope=col>t value</th><th scope=col>Pr(&gt;|t|)</th><th scope=col>CI Lower</th><th scope=col>CI Upper</th><th scope=col>DF</th></tr></thead>\n",
       "<tbody>\n",
       "\t<tr><th scope=row>treat.one</th><td>0.003573681 </td><td>0.0008214282</td><td>4.35057     </td><td>1.361639e-05</td><td>0.001963656 </td><td>0.005183706 </td><td>35382.83    </td></tr>\n",
       "</tbody>\n",
       "</table>\n",
       "</dd>\n",
       "\t<dt>$design</dt>\n",
       "\t\t<dd>'Standard'</dd>\n",
       "</dl>\n"
      ],
      "text/latex": [
       "\\begin{description}\n",
       "\\item[\\$coefficients] \\begin{tabular}{r|lllllll}\n",
       "  & Estimate & Std. Error & t value & Pr(>\\textbar{}t\\textbar{}) & CI Lower & CI Upper & DF\\\\\n",
       "\\hline\n",
       "\ttreat.one & 0.003573681  & 0.0008214282 & 4.35057      & 1.361639e-05 & 0.001963656  & 0.005183706  & 35382.83    \\\\\n",
       "\\end{tabular}\n",
       "\n",
       "\\item[\\$design] 'Standard'\n",
       "\\end{description}\n"
      ],
      "text/markdown": [
       "$coefficients\n",
       ":   \n",
       "| <!--/--> | Estimate | Std. Error | t value | Pr(>|t|) | CI Lower | CI Upper | DF | \n",
       "|---|\n",
       "| treat.one | 0.003573681  | 0.0008214282 | 4.35057      | 1.361639e-05 | 0.001963656  | 0.005183706  | 35382.83     | \n",
       "\n",
       "\n",
       "\n",
       "$design\n",
       ":   'Standard'\n",
       "\n",
       "\n"
      ],
      "text/plain": [
       "$coefficients\n",
       "             Estimate   Std. Error t value     Pr(>|t|)    CI Lower    CI Upper\n",
       "treat.one 0.003573681 0.0008214282 4.35057 1.361639e-05 0.001963656 0.005183706\n",
       "                DF\n",
       "treat.one 35382.83\n",
       "\n",
       "$design\n",
       "[1] \"Standard\"\n"
      ]
     },
     "metadata": {},
     "output_type": "display_data"
    },
    {
     "name": "stdout",
     "output_type": "stream",
     "text": [
      "[1] \"Social response: Treatment 2 compared to Treatment 1\"\n"
     ]
    },
    {
     "data": {
      "text/html": [
       "<dl>\n",
       "\t<dt>$coefficients</dt>\n",
       "\t\t<dd><table>\n",
       "<thead><tr><th></th><th scope=col>Estimate</th><th scope=col>Std. Error</th><th scope=col>t value</th><th scope=col>Pr(&gt;|t|)</th><th scope=col>CI Lower</th><th scope=col>CI Upper</th><th scope=col>DF</th></tr></thead>\n",
       "<tbody>\n",
       "\t<tr><th scope=row>treat.two</th><td>0.002890477 </td><td>0.001004543 </td><td>2.877406    </td><td>0.004011874 </td><td>0.0009215456</td><td>0.004859409 </td><td>37242.38    </td></tr>\n",
       "</tbody>\n",
       "</table>\n",
       "</dd>\n",
       "\t<dt>$design</dt>\n",
       "\t\t<dd>'Standard'</dd>\n",
       "</dl>\n"
      ],
      "text/latex": [
       "\\begin{description}\n",
       "\\item[\\$coefficients] \\begin{tabular}{r|lllllll}\n",
       "  & Estimate & Std. Error & t value & Pr(>\\textbar{}t\\textbar{}) & CI Lower & CI Upper & DF\\\\\n",
       "\\hline\n",
       "\ttreat.two & 0.002890477  & 0.001004543  & 2.877406     & 0.004011874  & 0.0009215456 & 0.004859409  & 37242.38    \\\\\n",
       "\\end{tabular}\n",
       "\n",
       "\\item[\\$design] 'Standard'\n",
       "\\end{description}\n"
      ],
      "text/markdown": [
       "$coefficients\n",
       ":   \n",
       "| <!--/--> | Estimate | Std. Error | t value | Pr(>|t|) | CI Lower | CI Upper | DF | \n",
       "|---|\n",
       "| treat.two | 0.002890477  | 0.001004543  | 2.877406     | 0.004011874  | 0.0009215456 | 0.004859409  | 37242.38     | \n",
       "\n",
       "\n",
       "\n",
       "$design\n",
       ":   'Standard'\n",
       "\n",
       "\n"
      ],
      "text/plain": [
       "$coefficients\n",
       "             Estimate  Std. Error  t value    Pr(>|t|)     CI Lower    CI Upper\n",
       "treat.two 0.002890477 0.001004543 2.877406 0.004011874 0.0009215456 0.004859409\n",
       "                DF\n",
       "treat.two 37242.38\n",
       "\n",
       "$design\n",
       "[1] \"Standard\"\n"
      ]
     },
     "metadata": {},
     "output_type": "display_data"
    },
    {
     "name": "stdout",
     "output_type": "stream",
     "text": [
      "[1] \"Social response: Treatment 2 compared to control\"\n"
     ]
    },
    {
     "data": {
      "text/html": [
       "<dl>\n",
       "\t<dt>$coefficients</dt>\n",
       "\t\t<dd><table>\n",
       "<thead><tr><th></th><th scope=col>Estimate</th><th scope=col>Std. Error</th><th scope=col>t value</th><th scope=col>Pr(&gt;|t|)</th><th scope=col>CI Lower</th><th scope=col>CI Upper</th><th scope=col>DF</th></tr></thead>\n",
       "<tbody>\n",
       "\t<tr><th scope=row>treat.two</th><td>0.006464158 </td><td>0.0009075863</td><td>7.122362    </td><td>1.082836e-12</td><td>0.004685256 </td><td>0.00824306  </td><td>32670.79    </td></tr>\n",
       "</tbody>\n",
       "</table>\n",
       "</dd>\n",
       "\t<dt>$design</dt>\n",
       "\t\t<dd>'Standard'</dd>\n",
       "</dl>\n"
      ],
      "text/latex": [
       "\\begin{description}\n",
       "\\item[\\$coefficients] \\begin{tabular}{r|lllllll}\n",
       "  & Estimate & Std. Error & t value & Pr(>\\textbar{}t\\textbar{}) & CI Lower & CI Upper & DF\\\\\n",
       "\\hline\n",
       "\ttreat.two & 0.006464158  & 0.0009075863 & 7.122362     & 1.082836e-12 & 0.004685256  & 0.00824306   & 32670.79    \\\\\n",
       "\\end{tabular}\n",
       "\n",
       "\\item[\\$design] 'Standard'\n",
       "\\end{description}\n"
      ],
      "text/markdown": [
       "$coefficients\n",
       ":   \n",
       "| <!--/--> | Estimate | Std. Error | t value | Pr(>|t|) | CI Lower | CI Upper | DF | \n",
       "|---|\n",
       "| treat.two | 0.006464158  | 0.0009075863 | 7.122362     | 1.082836e-12 | 0.004685256  | 0.00824306   | 32670.79     | \n",
       "\n",
       "\n",
       "\n",
       "$design\n",
       ":   'Standard'\n",
       "\n",
       "\n"
      ],
      "text/plain": [
       "$coefficients\n",
       "             Estimate   Std. Error  t value     Pr(>|t|)    CI Lower   CI Upper\n",
       "treat.two 0.006464158 0.0009075863 7.122362 1.082836e-12 0.004685256 0.00824306\n",
       "                DF\n",
       "treat.two 32670.79\n",
       "\n",
       "$design\n",
       "[1] \"Standard\"\n"
      ]
     },
     "metadata": {},
     "output_type": "display_data"
    }
   ],
   "source": [
    "# Did treatment make newcomers more likely to go to respond to mentor or go to forum des nouveaux?\n",
    "# NOTE: Only include model.25 in adjustment, since other two compare to control who have no mentors\n",
    "model.24 = difference_in_means(social.response ~ treat.one, data =subset(participants, treat.two==0))\n",
    "model.25 = difference_in_means(social.response ~ treat.two, data =subset(participants, control==0))\n",
    "model.26 = difference_in_means(social.response ~ treat.two, data =subset(participants, treat.one==0))\n",
    "print(\"Social response: Treatment 1\")\n",
    "summary(model.24)\n",
    "print(\"Social response: Treatment 2 compared to Treatment 1\")\n",
    "summary(model.25)\n",
    "print(\"Social response: Treatment 2 compared to control\")\n",
    "summary(model.26)"
   ]
  },
  {
   "cell_type": "code",
   "execution_count": 29,
   "metadata": {},
   "outputs": [
    {
     "name": "stdout",
     "output_type": "stream",
     "text": [
      "[1] \"Sandbox: Treatment 1\"\n"
     ]
    },
    {
     "data": {
      "text/html": [
       "<dl>\n",
       "\t<dt>$coefficients</dt>\n",
       "\t\t<dd><table>\n",
       "<thead><tr><th></th><th scope=col>Estimate</th><th scope=col>Std. Error</th><th scope=col>t value</th><th scope=col>Pr(&gt;|t|)</th><th scope=col>CI Lower</th><th scope=col>CI Upper</th><th scope=col>DF</th></tr></thead>\n",
       "<tbody>\n",
       "\t<tr><th scope=row>treat.one</th><td>-0.001366407</td><td>0.001853944 </td><td>-0.7370275  </td><td>0.4611102   </td><td>-0.005000186</td><td>0.002267371 </td><td>38039.57    </td></tr>\n",
       "</tbody>\n",
       "</table>\n",
       "</dd>\n",
       "\t<dt>$design</dt>\n",
       "\t\t<dd>'Standard'</dd>\n",
       "</dl>\n"
      ],
      "text/latex": [
       "\\begin{description}\n",
       "\\item[\\$coefficients] \\begin{tabular}{r|lllllll}\n",
       "  & Estimate & Std. Error & t value & Pr(>\\textbar{}t\\textbar{}) & CI Lower & CI Upper & DF\\\\\n",
       "\\hline\n",
       "\ttreat.one & -0.001366407 & 0.001853944  & -0.7370275   & 0.4611102    & -0.005000186 & 0.002267371  & 38039.57    \\\\\n",
       "\\end{tabular}\n",
       "\n",
       "\\item[\\$design] 'Standard'\n",
       "\\end{description}\n"
      ],
      "text/markdown": [
       "$coefficients\n",
       ":   \n",
       "| <!--/--> | Estimate | Std. Error | t value | Pr(>|t|) | CI Lower | CI Upper | DF | \n",
       "|---|\n",
       "| treat.one | -0.001366407 | 0.001853944  | -0.7370275   | 0.4611102    | -0.005000186 | 0.002267371  | 38039.57     | \n",
       "\n",
       "\n",
       "\n",
       "$design\n",
       ":   'Standard'\n",
       "\n",
       "\n"
      ],
      "text/plain": [
       "$coefficients\n",
       "              Estimate  Std. Error    t value  Pr(>|t|)     CI Lower\n",
       "treat.one -0.001366407 0.001853944 -0.7370275 0.4611102 -0.005000186\n",
       "             CI Upper       DF\n",
       "treat.one 0.002267371 38039.57\n",
       "\n",
       "$design\n",
       "[1] \"Standard\"\n"
      ]
     },
     "metadata": {},
     "output_type": "display_data"
    },
    {
     "name": "stdout",
     "output_type": "stream",
     "text": [
      "[1] \"Sandbox: Treatment 2 compared to Treatment 1\"\n"
     ]
    },
    {
     "data": {
      "text/html": [
       "<dl>\n",
       "\t<dt>$coefficients</dt>\n",
       "\t\t<dd><table>\n",
       "<thead><tr><th></th><th scope=col>Estimate</th><th scope=col>Std. Error</th><th scope=col>t value</th><th scope=col>Pr(&gt;|t|)</th><th scope=col>CI Lower</th><th scope=col>CI Upper</th><th scope=col>DF</th></tr></thead>\n",
       "<tbody>\n",
       "\t<tr><th scope=row>treat.two</th><td>0.001839395</td><td>0.001860171</td><td>0.9888307  </td><td>0.3227523  </td><td>-0.00180659</td><td>0.005485379</td><td>38028.23   </td></tr>\n",
       "</tbody>\n",
       "</table>\n",
       "</dd>\n",
       "\t<dt>$design</dt>\n",
       "\t\t<dd>'Standard'</dd>\n",
       "</dl>\n"
      ],
      "text/latex": [
       "\\begin{description}\n",
       "\\item[\\$coefficients] \\begin{tabular}{r|lllllll}\n",
       "  & Estimate & Std. Error & t value & Pr(>\\textbar{}t\\textbar{}) & CI Lower & CI Upper & DF\\\\\n",
       "\\hline\n",
       "\ttreat.two & 0.001839395 & 0.001860171 & 0.9888307   & 0.3227523   & -0.00180659 & 0.005485379 & 38028.23   \\\\\n",
       "\\end{tabular}\n",
       "\n",
       "\\item[\\$design] 'Standard'\n",
       "\\end{description}\n"
      ],
      "text/markdown": [
       "$coefficients\n",
       ":   \n",
       "| <!--/--> | Estimate | Std. Error | t value | Pr(>|t|) | CI Lower | CI Upper | DF | \n",
       "|---|\n",
       "| treat.two | 0.001839395 | 0.001860171 | 0.9888307   | 0.3227523   | -0.00180659 | 0.005485379 | 38028.23    | \n",
       "\n",
       "\n",
       "\n",
       "$design\n",
       ":   'Standard'\n",
       "\n",
       "\n"
      ],
      "text/plain": [
       "$coefficients\n",
       "             Estimate  Std. Error   t value  Pr(>|t|)    CI Lower    CI Upper\n",
       "treat.two 0.001839395 0.001860171 0.9888307 0.3227523 -0.00180659 0.005485379\n",
       "                DF\n",
       "treat.two 38028.23\n",
       "\n",
       "$design\n",
       "[1] \"Standard\"\n"
      ]
     },
     "metadata": {},
     "output_type": "display_data"
    },
    {
     "name": "stdout",
     "output_type": "stream",
     "text": [
      "[1] \"Sandbox: Treatment 2 compared to control\"\n"
     ]
    },
    {
     "data": {
      "text/html": [
       "<dl>\n",
       "\t<dt>$coefficients</dt>\n",
       "\t\t<dd><table>\n",
       "<thead><tr><th></th><th scope=col>Estimate</th><th scope=col>Std. Error</th><th scope=col>t value</th><th scope=col>Pr(&gt;|t|)</th><th scope=col>CI Lower</th><th scope=col>CI Upper</th><th scope=col>DF</th></tr></thead>\n",
       "<tbody>\n",
       "\t<tr><th scope=row>treat.two</th><td>0.0004729872</td><td>0.001878082 </td><td>0.2518459   </td><td>0.8011615   </td><td>-0.003208102</td><td>0.004154077 </td><td>38052.36    </td></tr>\n",
       "</tbody>\n",
       "</table>\n",
       "</dd>\n",
       "\t<dt>$design</dt>\n",
       "\t\t<dd>'Standard'</dd>\n",
       "</dl>\n"
      ],
      "text/latex": [
       "\\begin{description}\n",
       "\\item[\\$coefficients] \\begin{tabular}{r|lllllll}\n",
       "  & Estimate & Std. Error & t value & Pr(>\\textbar{}t\\textbar{}) & CI Lower & CI Upper & DF\\\\\n",
       "\\hline\n",
       "\ttreat.two & 0.0004729872 & 0.001878082  & 0.2518459    & 0.8011615    & -0.003208102 & 0.004154077  & 38052.36    \\\\\n",
       "\\end{tabular}\n",
       "\n",
       "\\item[\\$design] 'Standard'\n",
       "\\end{description}\n"
      ],
      "text/markdown": [
       "$coefficients\n",
       ":   \n",
       "| <!--/--> | Estimate | Std. Error | t value | Pr(>|t|) | CI Lower | CI Upper | DF | \n",
       "|---|\n",
       "| treat.two | 0.0004729872 | 0.001878082  | 0.2518459    | 0.8011615    | -0.003208102 | 0.004154077  | 38052.36     | \n",
       "\n",
       "\n",
       "\n",
       "$design\n",
       ":   'Standard'\n",
       "\n",
       "\n"
      ],
      "text/plain": [
       "$coefficients\n",
       "              Estimate  Std. Error   t value  Pr(>|t|)     CI Lower    CI Upper\n",
       "treat.two 0.0004729872 0.001878082 0.2518459 0.8011615 -0.003208102 0.004154077\n",
       "                DF\n",
       "treat.two 38052.36\n",
       "\n",
       "$design\n",
       "[1] \"Standard\"\n"
      ]
     },
     "metadata": {},
     "output_type": "display_data"
    }
   ],
   "source": [
    "# Did treatment make newcomers more likely to go to use the sandbox?\n",
    "model.27 = difference_in_means(sandbox ~ treat.one, data =subset(participants, treat.two==0))\n",
    "model.28 = difference_in_means(sandbox ~ treat.two, data =subset(participants, control==0))\n",
    "model.29 = difference_in_means(sandbox ~ treat.two, data =subset(participants, treat.one==0))\n",
    "print(\"Sandbox: Treatment 1\")\n",
    "summary(model.27)\n",
    "print(\"Sandbox: Treatment 2 compared to Treatment 1\")\n",
    "summary(model.28)\n",
    "print(\"Sandbox: Treatment 2 compared to control\")\n",
    "summary(model.29)"
   ]
  },
  {
   "cell_type": "code",
   "execution_count": 30,
   "metadata": {},
   "outputs": [
    {
     "name": "stdout",
     "output_type": "stream",
     "text": [
      "[1] \"Help: Treatment 1\"\n"
     ]
    },
    {
     "data": {
      "text/html": [
       "<dl>\n",
       "\t<dt>$coefficients</dt>\n",
       "\t\t<dd><table>\n",
       "<thead><tr><th></th><th scope=col>Estimate</th><th scope=col>Std. Error</th><th scope=col>t value</th><th scope=col>Pr(&gt;|t|)</th><th scope=col>CI Lower</th><th scope=col>CI Upper</th><th scope=col>DF</th></tr></thead>\n",
       "<tbody>\n",
       "\t<tr><th scope=row>treat.one</th><td>0.1392985  </td><td>0.1061559  </td><td>1.312208   </td><td>0.1899959  </td><td>-0.06922075</td><td>0.3478178  </td><td>551.4723   </td></tr>\n",
       "</tbody>\n",
       "</table>\n",
       "</dd>\n",
       "\t<dt>$design</dt>\n",
       "\t\t<dd>'Standard'</dd>\n",
       "</dl>\n"
      ],
      "text/latex": [
       "\\begin{description}\n",
       "\\item[\\$coefficients] \\begin{tabular}{r|lllllll}\n",
       "  & Estimate & Std. Error & t value & Pr(>\\textbar{}t\\textbar{}) & CI Lower & CI Upper & DF\\\\\n",
       "\\hline\n",
       "\ttreat.one & 0.1392985   & 0.1061559   & 1.312208    & 0.1899959   & -0.06922075 & 0.3478178   & 551.4723   \\\\\n",
       "\\end{tabular}\n",
       "\n",
       "\\item[\\$design] 'Standard'\n",
       "\\end{description}\n"
      ],
      "text/markdown": [
       "$coefficients\n",
       ":   \n",
       "| <!--/--> | Estimate | Std. Error | t value | Pr(>|t|) | CI Lower | CI Upper | DF | \n",
       "|---|\n",
       "| treat.one | 0.1392985   | 0.1061559   | 1.312208    | 0.1899959   | -0.06922075 | 0.3478178   | 551.4723    | \n",
       "\n",
       "\n",
       "\n",
       "$design\n",
       ":   'Standard'\n",
       "\n",
       "\n"
      ],
      "text/plain": [
       "$coefficients\n",
       "           Estimate Std. Error  t value  Pr(>|t|)    CI Lower  CI Upper\n",
       "treat.one 0.1392985  0.1061559 1.312208 0.1899959 -0.06922075 0.3478178\n",
       "                DF\n",
       "treat.one 551.4723\n",
       "\n",
       "$design\n",
       "[1] \"Standard\"\n"
      ]
     },
     "metadata": {},
     "output_type": "display_data"
    },
    {
     "name": "stdout",
     "output_type": "stream",
     "text": [
      "[1] \"Help: Treatment 2 compared to Treatment 1\"\n"
     ]
    },
    {
     "data": {
      "text/html": [
       "<dl>\n",
       "\t<dt>$coefficients</dt>\n",
       "\t\t<dd><table>\n",
       "<thead><tr><th></th><th scope=col>Estimate</th><th scope=col>Std. Error</th><th scope=col>t value</th><th scope=col>Pr(&gt;|t|)</th><th scope=col>CI Lower</th><th scope=col>CI Upper</th><th scope=col>DF</th></tr></thead>\n",
       "<tbody>\n",
       "\t<tr><th scope=row>treat.two</th><td>-0.02435497</td><td>0.1119736  </td><td>-0.2175063 </td><td>0.8278985  </td><td>-0.2443277 </td><td>0.1956177  </td><td>523.6224   </td></tr>\n",
       "</tbody>\n",
       "</table>\n",
       "</dd>\n",
       "\t<dt>$design</dt>\n",
       "\t\t<dd>'Standard'</dd>\n",
       "</dl>\n"
      ],
      "text/latex": [
       "\\begin{description}\n",
       "\\item[\\$coefficients] \\begin{tabular}{r|lllllll}\n",
       "  & Estimate & Std. Error & t value & Pr(>\\textbar{}t\\textbar{}) & CI Lower & CI Upper & DF\\\\\n",
       "\\hline\n",
       "\ttreat.two & -0.02435497 & 0.1119736   & -0.2175063  & 0.8278985   & -0.2443277  & 0.1956177   & 523.6224   \\\\\n",
       "\\end{tabular}\n",
       "\n",
       "\\item[\\$design] 'Standard'\n",
       "\\end{description}\n"
      ],
      "text/markdown": [
       "$coefficients\n",
       ":   \n",
       "| <!--/--> | Estimate | Std. Error | t value | Pr(>|t|) | CI Lower | CI Upper | DF | \n",
       "|---|\n",
       "| treat.two | -0.02435497 | 0.1119736   | -0.2175063  | 0.8278985   | -0.2443277  | 0.1956177   | 523.6224    | \n",
       "\n",
       "\n",
       "\n",
       "$design\n",
       ":   'Standard'\n",
       "\n",
       "\n"
      ],
      "text/plain": [
       "$coefficients\n",
       "             Estimate Std. Error    t value  Pr(>|t|)   CI Lower  CI Upper\n",
       "treat.two -0.02435497  0.1119736 -0.2175063 0.8278985 -0.2443277 0.1956177\n",
       "                DF\n",
       "treat.two 523.6224\n",
       "\n",
       "$design\n",
       "[1] \"Standard\"\n"
      ]
     },
     "metadata": {},
     "output_type": "display_data"
    },
    {
     "name": "stdout",
     "output_type": "stream",
     "text": [
      "[1] \"Help: Treatment 2 compared to control\"\n"
     ]
    },
    {
     "data": {
      "text/html": [
       "<dl>\n",
       "\t<dt>$coefficients</dt>\n",
       "\t\t<dd><table>\n",
       "<thead><tr><th></th><th scope=col>Estimate</th><th scope=col>Std. Error</th><th scope=col>t value</th><th scope=col>Pr(&gt;|t|)</th><th scope=col>CI Lower</th><th scope=col>CI Upper</th><th scope=col>DF</th></tr></thead>\n",
       "<tbody>\n",
       "\t<tr><th scope=row>treat.two</th><td>0.1149436  </td><td>0.1056963  </td><td>1.087489   </td><td>0.2772822  </td><td>-0.09266004</td><td>0.3225472  </td><td>567.5905   </td></tr>\n",
       "</tbody>\n",
       "</table>\n",
       "</dd>\n",
       "\t<dt>$design</dt>\n",
       "\t\t<dd>'Standard'</dd>\n",
       "</dl>\n"
      ],
      "text/latex": [
       "\\begin{description}\n",
       "\\item[\\$coefficients] \\begin{tabular}{r|lllllll}\n",
       "  & Estimate & Std. Error & t value & Pr(>\\textbar{}t\\textbar{}) & CI Lower & CI Upper & DF\\\\\n",
       "\\hline\n",
       "\ttreat.two & 0.1149436   & 0.1056963   & 1.087489    & 0.2772822   & -0.09266004 & 0.3225472   & 567.5905   \\\\\n",
       "\\end{tabular}\n",
       "\n",
       "\\item[\\$design] 'Standard'\n",
       "\\end{description}\n"
      ],
      "text/markdown": [
       "$coefficients\n",
       ":   \n",
       "| <!--/--> | Estimate | Std. Error | t value | Pr(>|t|) | CI Lower | CI Upper | DF | \n",
       "|---|\n",
       "| treat.two | 0.1149436   | 0.1056963   | 1.087489    | 0.2772822   | -0.09266004 | 0.3225472   | 567.5905    | \n",
       "\n",
       "\n",
       "\n",
       "$design\n",
       ":   'Standard'\n",
       "\n",
       "\n"
      ],
      "text/plain": [
       "$coefficients\n",
       "           Estimate Std. Error  t value  Pr(>|t|)    CI Lower  CI Upper\n",
       "treat.two 0.1149436  0.1056963 1.087489 0.2772822 -0.09266004 0.3225472\n",
       "                DF\n",
       "treat.two 567.5905\n",
       "\n",
       "$design\n",
       "[1] \"Standard\"\n"
      ]
     },
     "metadata": {},
     "output_type": "display_data"
    }
   ],
   "source": [
    "# Were newcomers in treatment conditions more likely to say they knew where to get help?\n",
    "model.30 = difference_in_means(help ~ treat.one, data =subset(complier.participants, treat.two==0))\n",
    "model.31 = difference_in_means(help ~ treat.two, data =subset(complier.participants, control==0))\n",
    "model.32 = difference_in_means(help ~ treat.two, data =subset(complier.participants, treat.one==0))\n",
    "print(\"Help: Treatment 1\")\n",
    "summary(model.30)\n",
    "print(\"Help: Treatment 2 compared to Treatment 1\")\n",
    "summary(model.31)\n",
    "print(\"Help: Treatment 2 compared to control\")\n",
    "summary(model.32)"
   ]
  },
  {
   "cell_type": "code",
   "execution_count": 31,
   "metadata": {},
   "outputs": [
    {
     "name": "stdout",
     "output_type": "stream",
     "text": [
      "[1] \"Role: Treatment 1\"\n"
     ]
    },
    {
     "data": {
      "text/html": [
       "<dl>\n",
       "\t<dt>$coefficients</dt>\n",
       "\t\t<dd><table>\n",
       "<thead><tr><th></th><th scope=col>Estimate</th><th scope=col>Std. Error</th><th scope=col>t value</th><th scope=col>Pr(&gt;|t|)</th><th scope=col>CI Lower</th><th scope=col>CI Upper</th><th scope=col>DF</th></tr></thead>\n",
       "<tbody>\n",
       "\t<tr><th scope=row>treat.one</th><td>0.07501418</td><td>0.09459384</td><td>0.7930134 </td><td>0.4281046 </td><td>-0.1107864</td><td>0.2608147 </td><td>562.1473  </td></tr>\n",
       "</tbody>\n",
       "</table>\n",
       "</dd>\n",
       "\t<dt>$design</dt>\n",
       "\t\t<dd>'Standard'</dd>\n",
       "</dl>\n"
      ],
      "text/latex": [
       "\\begin{description}\n",
       "\\item[\\$coefficients] \\begin{tabular}{r|lllllll}\n",
       "  & Estimate & Std. Error & t value & Pr(>\\textbar{}t\\textbar{}) & CI Lower & CI Upper & DF\\\\\n",
       "\\hline\n",
       "\ttreat.one & 0.07501418 & 0.09459384 & 0.7930134  & 0.4281046  & -0.1107864 & 0.2608147  & 562.1473  \\\\\n",
       "\\end{tabular}\n",
       "\n",
       "\\item[\\$design] 'Standard'\n",
       "\\end{description}\n"
      ],
      "text/markdown": [
       "$coefficients\n",
       ":   \n",
       "| <!--/--> | Estimate | Std. Error | t value | Pr(>|t|) | CI Lower | CI Upper | DF | \n",
       "|---|\n",
       "| treat.one | 0.07501418 | 0.09459384 | 0.7930134  | 0.4281046  | -0.1107864 | 0.2608147  | 562.1473   | \n",
       "\n",
       "\n",
       "\n",
       "$design\n",
       ":   'Standard'\n",
       "\n",
       "\n"
      ],
      "text/plain": [
       "$coefficients\n",
       "            Estimate Std. Error   t value  Pr(>|t|)   CI Lower  CI Upper\n",
       "treat.one 0.07501418 0.09459384 0.7930134 0.4281046 -0.1107864 0.2608147\n",
       "                DF\n",
       "treat.one 562.1473\n",
       "\n",
       "$design\n",
       "[1] \"Standard\"\n"
      ]
     },
     "metadata": {},
     "output_type": "display_data"
    },
    {
     "name": "stdout",
     "output_type": "stream",
     "text": [
      "[1] \"Role: Treatment 2 compared to Treatment 1\"\n"
     ]
    },
    {
     "data": {
      "text/html": [
       "<dl>\n",
       "\t<dt>$coefficients</dt>\n",
       "\t\t<dd><table>\n",
       "<thead><tr><th></th><th scope=col>Estimate</th><th scope=col>Std. Error</th><th scope=col>t value</th><th scope=col>Pr(&gt;|t|)</th><th scope=col>CI Lower</th><th scope=col>CI Upper</th><th scope=col>DF</th></tr></thead>\n",
       "<tbody>\n",
       "\t<tr><th scope=row>treat.two</th><td>-0.07601527</td><td>0.100111   </td><td>-0.7593096 </td><td>0.448009   </td><td>-0.2726838 </td><td>0.1206532  </td><td>523.7829   </td></tr>\n",
       "</tbody>\n",
       "</table>\n",
       "</dd>\n",
       "\t<dt>$design</dt>\n",
       "\t\t<dd>'Standard'</dd>\n",
       "</dl>\n"
      ],
      "text/latex": [
       "\\begin{description}\n",
       "\\item[\\$coefficients] \\begin{tabular}{r|lllllll}\n",
       "  & Estimate & Std. Error & t value & Pr(>\\textbar{}t\\textbar{}) & CI Lower & CI Upper & DF\\\\\n",
       "\\hline\n",
       "\ttreat.two & -0.07601527 & 0.100111    & -0.7593096  & 0.448009    & -0.2726838  & 0.1206532   & 523.7829   \\\\\n",
       "\\end{tabular}\n",
       "\n",
       "\\item[\\$design] 'Standard'\n",
       "\\end{description}\n"
      ],
      "text/markdown": [
       "$coefficients\n",
       ":   \n",
       "| <!--/--> | Estimate | Std. Error | t value | Pr(>|t|) | CI Lower | CI Upper | DF | \n",
       "|---|\n",
       "| treat.two | -0.07601527 | 0.100111    | -0.7593096  | 0.448009    | -0.2726838  | 0.1206532   | 523.7829    | \n",
       "\n",
       "\n",
       "\n",
       "$design\n",
       ":   'Standard'\n",
       "\n",
       "\n"
      ],
      "text/plain": [
       "$coefficients\n",
       "             Estimate Std. Error    t value Pr(>|t|)   CI Lower  CI Upper\n",
       "treat.two -0.07601527   0.100111 -0.7593096 0.448009 -0.2726838 0.1206532\n",
       "                DF\n",
       "treat.two 523.7829\n",
       "\n",
       "$design\n",
       "[1] \"Standard\"\n"
      ]
     },
     "metadata": {},
     "output_type": "display_data"
    },
    {
     "name": "stdout",
     "output_type": "stream",
     "text": [
      "[1] \"Role: Treatment 2 compared to control\"\n"
     ]
    },
    {
     "data": {
      "text/html": [
       "<dl>\n",
       "\t<dt>$coefficients</dt>\n",
       "\t\t<dd><table>\n",
       "<thead><tr><th></th><th scope=col>Estimate</th><th scope=col>Std. Error</th><th scope=col>t value</th><th scope=col>Pr(&gt;|t|)</th><th scope=col>CI Lower</th><th scope=col>CI Upper</th><th scope=col>DF</th></tr></thead>\n",
       "<tbody>\n",
       "\t<tr><th scope=row>treat.two</th><td>-0.001001092</td><td>0.09666049  </td><td>-0.01035679 </td><td>0.9917403   </td><td>-0.1908572  </td><td>0.1888551   </td><td>567.2649    </td></tr>\n",
       "</tbody>\n",
       "</table>\n",
       "</dd>\n",
       "\t<dt>$design</dt>\n",
       "\t\t<dd>'Standard'</dd>\n",
       "</dl>\n"
      ],
      "text/latex": [
       "\\begin{description}\n",
       "\\item[\\$coefficients] \\begin{tabular}{r|lllllll}\n",
       "  & Estimate & Std. Error & t value & Pr(>\\textbar{}t\\textbar{}) & CI Lower & CI Upper & DF\\\\\n",
       "\\hline\n",
       "\ttreat.two & -0.001001092 & 0.09666049   & -0.01035679  & 0.9917403    & -0.1908572   & 0.1888551    & 567.2649    \\\\\n",
       "\\end{tabular}\n",
       "\n",
       "\\item[\\$design] 'Standard'\n",
       "\\end{description}\n"
      ],
      "text/markdown": [
       "$coefficients\n",
       ":   \n",
       "| <!--/--> | Estimate | Std. Error | t value | Pr(>|t|) | CI Lower | CI Upper | DF | \n",
       "|---|\n",
       "| treat.two | -0.001001092 | 0.09666049   | -0.01035679  | 0.9917403    | -0.1908572   | 0.1888551    | 567.2649     | \n",
       "\n",
       "\n",
       "\n",
       "$design\n",
       ":   'Standard'\n",
       "\n",
       "\n"
      ],
      "text/plain": [
       "$coefficients\n",
       "              Estimate Std. Error     t value  Pr(>|t|)   CI Lower  CI Upper\n",
       "treat.two -0.001001092 0.09666049 -0.01035679 0.9917403 -0.1908572 0.1888551\n",
       "                DF\n",
       "treat.two 567.2649\n",
       "\n",
       "$design\n",
       "[1] \"Standard\"\n"
      ]
     },
     "metadata": {},
     "output_type": "display_data"
    }
   ],
   "source": [
    "# Were newcomers in treatment conditions more likely to say they knew what tasks they should do?\n",
    "model.33 = difference_in_means(role ~ treat.one, data =subset(complier.participants, treat.two==0))\n",
    "model.34 = difference_in_means(role ~ treat.two, data =subset(complier.participants, control==0))\n",
    "model.35 = difference_in_means(role ~ treat.two, data =subset(complier.participants, treat.one==0))\n",
    "print(\"Role: Treatment 1\")\n",
    "summary(model.33)\n",
    "print(\"Role: Treatment 2 compared to Treatment 1\")\n",
    "summary(model.34)\n",
    "print(\"Role: Treatment 2 compared to control\")\n",
    "summary(model.35)"
   ]
  },
  {
   "cell_type": "code",
   "execution_count": 32,
   "metadata": {},
   "outputs": [
    {
     "name": "stdout",
     "output_type": "stream",
     "text": [
      "[1] \"Trust: Treatment 1\"\n"
     ]
    },
    {
     "data": {
      "text/html": [
       "<dl>\n",
       "\t<dt>$coefficients</dt>\n",
       "\t\t<dd><table>\n",
       "<thead><tr><th></th><th scope=col>Estimate</th><th scope=col>Std. Error</th><th scope=col>t value</th><th scope=col>Pr(&gt;|t|)</th><th scope=col>CI Lower</th><th scope=col>CI Upper</th><th scope=col>DF</th></tr></thead>\n",
       "<tbody>\n",
       "\t<tr><th scope=row>treat.one</th><td>0.1617272  </td><td>0.09094708 </td><td>1.778256   </td><td>0.0759135  </td><td>-0.01691845</td><td>0.3403728  </td><td>550.7173   </td></tr>\n",
       "</tbody>\n",
       "</table>\n",
       "</dd>\n",
       "\t<dt>$design</dt>\n",
       "\t\t<dd>'Standard'</dd>\n",
       "</dl>\n"
      ],
      "text/latex": [
       "\\begin{description}\n",
       "\\item[\\$coefficients] \\begin{tabular}{r|lllllll}\n",
       "  & Estimate & Std. Error & t value & Pr(>\\textbar{}t\\textbar{}) & CI Lower & CI Upper & DF\\\\\n",
       "\\hline\n",
       "\ttreat.one & 0.1617272   & 0.09094708  & 1.778256    & 0.0759135   & -0.01691845 & 0.3403728   & 550.7173   \\\\\n",
       "\\end{tabular}\n",
       "\n",
       "\\item[\\$design] 'Standard'\n",
       "\\end{description}\n"
      ],
      "text/markdown": [
       "$coefficients\n",
       ":   \n",
       "| <!--/--> | Estimate | Std. Error | t value | Pr(>|t|) | CI Lower | CI Upper | DF | \n",
       "|---|\n",
       "| treat.one | 0.1617272   | 0.09094708  | 1.778256    | 0.0759135   | -0.01691845 | 0.3403728   | 550.7173    | \n",
       "\n",
       "\n",
       "\n",
       "$design\n",
       ":   'Standard'\n",
       "\n",
       "\n"
      ],
      "text/plain": [
       "$coefficients\n",
       "           Estimate Std. Error  t value  Pr(>|t|)    CI Lower  CI Upper\n",
       "treat.one 0.1617272 0.09094708 1.778256 0.0759135 -0.01691845 0.3403728\n",
       "                DF\n",
       "treat.one 550.7173\n",
       "\n",
       "$design\n",
       "[1] \"Standard\"\n"
      ]
     },
     "metadata": {},
     "output_type": "display_data"
    },
    {
     "name": "stdout",
     "output_type": "stream",
     "text": [
      "[1] \"Trust: Treatment 2 compared to Treatment 1\"\n"
     ]
    },
    {
     "data": {
      "text/html": [
       "<dl>\n",
       "\t<dt>$coefficients</dt>\n",
       "\t\t<dd><table>\n",
       "<thead><tr><th></th><th scope=col>Estimate</th><th scope=col>Std. Error</th><th scope=col>t value</th><th scope=col>Pr(&gt;|t|)</th><th scope=col>CI Lower</th><th scope=col>CI Upper</th><th scope=col>DF</th></tr></thead>\n",
       "<tbody>\n",
       "\t<tr><th scope=row>treat.two</th><td>0.04208608</td><td>0.09455184</td><td>0.4451112 </td><td>0.6564239 </td><td>-0.1436627</td><td>0.2278348 </td><td>522.1694  </td></tr>\n",
       "</tbody>\n",
       "</table>\n",
       "</dd>\n",
       "\t<dt>$design</dt>\n",
       "\t\t<dd>'Standard'</dd>\n",
       "</dl>\n"
      ],
      "text/latex": [
       "\\begin{description}\n",
       "\\item[\\$coefficients] \\begin{tabular}{r|lllllll}\n",
       "  & Estimate & Std. Error & t value & Pr(>\\textbar{}t\\textbar{}) & CI Lower & CI Upper & DF\\\\\n",
       "\\hline\n",
       "\ttreat.two & 0.04208608 & 0.09455184 & 0.4451112  & 0.6564239  & -0.1436627 & 0.2278348  & 522.1694  \\\\\n",
       "\\end{tabular}\n",
       "\n",
       "\\item[\\$design] 'Standard'\n",
       "\\end{description}\n"
      ],
      "text/markdown": [
       "$coefficients\n",
       ":   \n",
       "| <!--/--> | Estimate | Std. Error | t value | Pr(>|t|) | CI Lower | CI Upper | DF | \n",
       "|---|\n",
       "| treat.two | 0.04208608 | 0.09455184 | 0.4451112  | 0.6564239  | -0.1436627 | 0.2278348  | 522.1694   | \n",
       "\n",
       "\n",
       "\n",
       "$design\n",
       ":   'Standard'\n",
       "\n",
       "\n"
      ],
      "text/plain": [
       "$coefficients\n",
       "            Estimate Std. Error   t value  Pr(>|t|)   CI Lower  CI Upper\n",
       "treat.two 0.04208608 0.09455184 0.4451112 0.6564239 -0.1436627 0.2278348\n",
       "                DF\n",
       "treat.two 522.1694\n",
       "\n",
       "$design\n",
       "[1] \"Standard\"\n"
      ]
     },
     "metadata": {},
     "output_type": "display_data"
    },
    {
     "name": "stdout",
     "output_type": "stream",
     "text": [
      "[1] \"Trust: Treatment 2 compared to control\"\n"
     ]
    },
    {
     "data": {
      "text/html": [
       "<dl>\n",
       "\t<dt>$coefficients</dt>\n",
       "\t\t<dd><table>\n",
       "<thead><tr><th></th><th scope=col>Estimate</th><th scope=col>Std. Error</th><th scope=col>t value</th><th scope=col>Pr(&gt;|t|)</th><th scope=col>CI Lower</th><th scope=col>CI Upper</th><th scope=col>DF</th></tr></thead>\n",
       "<tbody>\n",
       "\t<tr><th scope=row>treat.two</th><td>0.2038133 </td><td>0.08895361</td><td>2.291231  </td><td>0.02231144</td><td>0.02909902</td><td>0.3785275 </td><td>574.04    </td></tr>\n",
       "</tbody>\n",
       "</table>\n",
       "</dd>\n",
       "\t<dt>$design</dt>\n",
       "\t\t<dd>'Standard'</dd>\n",
       "</dl>\n"
      ],
      "text/latex": [
       "\\begin{description}\n",
       "\\item[\\$coefficients] \\begin{tabular}{r|lllllll}\n",
       "  & Estimate & Std. Error & t value & Pr(>\\textbar{}t\\textbar{}) & CI Lower & CI Upper & DF\\\\\n",
       "\\hline\n",
       "\ttreat.two & 0.2038133  & 0.08895361 & 2.291231   & 0.02231144 & 0.02909902 & 0.3785275  & 574.04    \\\\\n",
       "\\end{tabular}\n",
       "\n",
       "\\item[\\$design] 'Standard'\n",
       "\\end{description}\n"
      ],
      "text/markdown": [
       "$coefficients\n",
       ":   \n",
       "| <!--/--> | Estimate | Std. Error | t value | Pr(>|t|) | CI Lower | CI Upper | DF | \n",
       "|---|\n",
       "| treat.two | 0.2038133  | 0.08895361 | 2.291231   | 0.02231144 | 0.02909902 | 0.3785275  | 574.04     | \n",
       "\n",
       "\n",
       "\n",
       "$design\n",
       ":   'Standard'\n",
       "\n",
       "\n"
      ],
      "text/plain": [
       "$coefficients\n",
       "           Estimate Std. Error  t value   Pr(>|t|)   CI Lower  CI Upper     DF\n",
       "treat.two 0.2038133 0.08895361 2.291231 0.02231144 0.02909902 0.3785275 574.04\n",
       "\n",
       "$design\n",
       "[1] \"Standard\"\n"
      ]
     },
     "metadata": {},
     "output_type": "display_data"
    }
   ],
   "source": [
    "# Were newcomers in treatment conditions more likely to agree that other wikipedians trust them?\n",
    "model.36 = difference_in_means(trust ~ treat.one, data =subset(complier.participants, treat.two==0))\n",
    "model.37 = difference_in_means(trust ~ treat.two, data =subset(complier.participants, control==0))\n",
    "model.38 = difference_in_means(trust ~ treat.two, data =subset(complier.participants, treat.one==0))\n",
    "print(\"Trust: Treatment 1\")\n",
    "summary(model.36)\n",
    "print(\"Trust: Treatment 2 compared to Treatment 1\")\n",
    "summary(model.37)\n",
    "print(\"Trust: Treatment 2 compared to control\")\n",
    "summary(model.38)"
   ]
  },
  {
   "cell_type": "code",
   "execution_count": 33,
   "metadata": {},
   "outputs": [
    {
     "name": "stdout",
     "output_type": "stream",
     "text": [
      "[1] \"close.community: Treatment 1\"\n"
     ]
    },
    {
     "data": {
      "text/html": [
       "<dl>\n",
       "\t<dt>$coefficients</dt>\n",
       "\t\t<dd><table>\n",
       "<thead><tr><th></th><th scope=col>Estimate</th><th scope=col>Std. Error</th><th scope=col>t value</th><th scope=col>Pr(&gt;|t|)</th><th scope=col>CI Lower</th><th scope=col>CI Upper</th><th scope=col>DF</th></tr></thead>\n",
       "<tbody>\n",
       "\t<tr><th scope=row>treat.one</th><td>0.1113159 </td><td>0.1256636 </td><td>0.8858246 </td><td>0.3760958 </td><td>-0.1355186</td><td>0.3581505 </td><td>554.9169  </td></tr>\n",
       "</tbody>\n",
       "</table>\n",
       "</dd>\n",
       "\t<dt>$design</dt>\n",
       "\t\t<dd>'Standard'</dd>\n",
       "</dl>\n"
      ],
      "text/latex": [
       "\\begin{description}\n",
       "\\item[\\$coefficients] \\begin{tabular}{r|lllllll}\n",
       "  & Estimate & Std. Error & t value & Pr(>\\textbar{}t\\textbar{}) & CI Lower & CI Upper & DF\\\\\n",
       "\\hline\n",
       "\ttreat.one & 0.1113159  & 0.1256636  & 0.8858246  & 0.3760958  & -0.1355186 & 0.3581505  & 554.9169  \\\\\n",
       "\\end{tabular}\n",
       "\n",
       "\\item[\\$design] 'Standard'\n",
       "\\end{description}\n"
      ],
      "text/markdown": [
       "$coefficients\n",
       ":   \n",
       "| <!--/--> | Estimate | Std. Error | t value | Pr(>|t|) | CI Lower | CI Upper | DF | \n",
       "|---|\n",
       "| treat.one | 0.1113159  | 0.1256636  | 0.8858246  | 0.3760958  | -0.1355186 | 0.3581505  | 554.9169   | \n",
       "\n",
       "\n",
       "\n",
       "$design\n",
       ":   'Standard'\n",
       "\n",
       "\n"
      ],
      "text/plain": [
       "$coefficients\n",
       "           Estimate Std. Error   t value  Pr(>|t|)   CI Lower  CI Upper\n",
       "treat.one 0.1113159  0.1256636 0.8858246 0.3760958 -0.1355186 0.3581505\n",
       "                DF\n",
       "treat.one 554.9169\n",
       "\n",
       "$design\n",
       "[1] \"Standard\"\n"
      ]
     },
     "metadata": {},
     "output_type": "display_data"
    },
    {
     "name": "stdout",
     "output_type": "stream",
     "text": [
      "[1] \"close.community: Treatment 2 compared to Treatment 1\"\n"
     ]
    },
    {
     "data": {
      "text/html": [
       "<dl>\n",
       "\t<dt>$coefficients</dt>\n",
       "\t\t<dd><table>\n",
       "<thead><tr><th></th><th scope=col>Estimate</th><th scope=col>Std. Error</th><th scope=col>t value</th><th scope=col>Pr(&gt;|t|)</th><th scope=col>CI Lower</th><th scope=col>CI Upper</th><th scope=col>DF</th></tr></thead>\n",
       "<tbody>\n",
       "\t<tr><th scope=row>treat.two</th><td>0.0413051 </td><td>0.1333716 </td><td>0.3096994 </td><td>0.7569127 </td><td>-0.2207036</td><td>0.3033138 </td><td>523.9975  </td></tr>\n",
       "</tbody>\n",
       "</table>\n",
       "</dd>\n",
       "\t<dt>$design</dt>\n",
       "\t\t<dd>'Standard'</dd>\n",
       "</dl>\n"
      ],
      "text/latex": [
       "\\begin{description}\n",
       "\\item[\\$coefficients] \\begin{tabular}{r|lllllll}\n",
       "  & Estimate & Std. Error & t value & Pr(>\\textbar{}t\\textbar{}) & CI Lower & CI Upper & DF\\\\\n",
       "\\hline\n",
       "\ttreat.two & 0.0413051  & 0.1333716  & 0.3096994  & 0.7569127  & -0.2207036 & 0.3033138  & 523.9975  \\\\\n",
       "\\end{tabular}\n",
       "\n",
       "\\item[\\$design] 'Standard'\n",
       "\\end{description}\n"
      ],
      "text/markdown": [
       "$coefficients\n",
       ":   \n",
       "| <!--/--> | Estimate | Std. Error | t value | Pr(>|t|) | CI Lower | CI Upper | DF | \n",
       "|---|\n",
       "| treat.two | 0.0413051  | 0.1333716  | 0.3096994  | 0.7569127  | -0.2207036 | 0.3033138  | 523.9975   | \n",
       "\n",
       "\n",
       "\n",
       "$design\n",
       ":   'Standard'\n",
       "\n",
       "\n"
      ],
      "text/plain": [
       "$coefficients\n",
       "           Estimate Std. Error   t value  Pr(>|t|)   CI Lower  CI Upper\n",
       "treat.two 0.0413051  0.1333716 0.3096994 0.7569127 -0.2207036 0.3033138\n",
       "                DF\n",
       "treat.two 523.9975\n",
       "\n",
       "$design\n",
       "[1] \"Standard\"\n"
      ]
     },
     "metadata": {},
     "output_type": "display_data"
    },
    {
     "name": "stdout",
     "output_type": "stream",
     "text": [
      "[1] \"close.community: Treatment 2 compared to control\"\n"
     ]
    },
    {
     "data": {
      "text/html": [
       "<dl>\n",
       "\t<dt>$coefficients</dt>\n",
       "\t\t<dd><table>\n",
       "<thead><tr><th></th><th scope=col>Estimate</th><th scope=col>Std. Error</th><th scope=col>t value</th><th scope=col>Pr(&gt;|t|)</th><th scope=col>CI Lower</th><th scope=col>CI Upper</th><th scope=col>DF</th></tr></thead>\n",
       "<tbody>\n",
       "\t<tr><th scope=row>treat.two</th><td>0.152621   </td><td>0.1268531  </td><td>1.203133   </td><td>0.2294288  </td><td>-0.09654005</td><td>0.4017821  </td><td>565.0755   </td></tr>\n",
       "</tbody>\n",
       "</table>\n",
       "</dd>\n",
       "\t<dt>$design</dt>\n",
       "\t\t<dd>'Standard'</dd>\n",
       "</dl>\n"
      ],
      "text/latex": [
       "\\begin{description}\n",
       "\\item[\\$coefficients] \\begin{tabular}{r|lllllll}\n",
       "  & Estimate & Std. Error & t value & Pr(>\\textbar{}t\\textbar{}) & CI Lower & CI Upper & DF\\\\\n",
       "\\hline\n",
       "\ttreat.two & 0.152621    & 0.1268531   & 1.203133    & 0.2294288   & -0.09654005 & 0.4017821   & 565.0755   \\\\\n",
       "\\end{tabular}\n",
       "\n",
       "\\item[\\$design] 'Standard'\n",
       "\\end{description}\n"
      ],
      "text/markdown": [
       "$coefficients\n",
       ":   \n",
       "| <!--/--> | Estimate | Std. Error | t value | Pr(>|t|) | CI Lower | CI Upper | DF | \n",
       "|---|\n",
       "| treat.two | 0.152621    | 0.1268531   | 1.203133    | 0.2294288   | -0.09654005 | 0.4017821   | 565.0755    | \n",
       "\n",
       "\n",
       "\n",
       "$design\n",
       ":   'Standard'\n",
       "\n",
       "\n"
      ],
      "text/plain": [
       "$coefficients\n",
       "          Estimate Std. Error  t value  Pr(>|t|)    CI Lower  CI Upper       DF\n",
       "treat.two 0.152621  0.1268531 1.203133 0.2294288 -0.09654005 0.4017821 565.0755\n",
       "\n",
       "$design\n",
       "[1] \"Standard\"\n"
      ]
     },
     "metadata": {},
     "output_type": "display_data"
    }
   ],
   "source": [
    "# Were newcomers in treatment conditions more likely to feel close to the community?\n",
    "model.39 = difference_in_means(close.community ~ treat.one, data =subset(complier.participants, treat.two==0))\n",
    "model.40 = difference_in_means(close.community ~ treat.two, data =subset(complier.participants, control==0))\n",
    "model.41 = difference_in_means(close.community ~ treat.two, data =subset(complier.participants, treat.one==0))\n",
    "print(\"close.community: Treatment 1\")\n",
    "summary(model.39)\n",
    "print(\"close.community: Treatment 2 compared to Treatment 1\")\n",
    "summary(model.40)\n",
    "print(\"close.community: Treatment 2 compared to control\")\n",
    "summary(model.41)"
   ]
  },
  {
   "cell_type": "code",
   "execution_count": 34,
   "metadata": {},
   "outputs": [
    {
     "name": "stdout",
     "output_type": "stream",
     "text": [
      "[1] \"close.individuals.1: Treatment 1\"\n"
     ]
    },
    {
     "data": {
      "text/html": [
       "<dl>\n",
       "\t<dt>$coefficients</dt>\n",
       "\t\t<dd><table>\n",
       "<thead><tr><th></th><th scope=col>Estimate</th><th scope=col>Std. Error</th><th scope=col>t value</th><th scope=col>Pr(&gt;|t|)</th><th scope=col>CI Lower</th><th scope=col>CI Upper</th><th scope=col>DF</th></tr></thead>\n",
       "<tbody>\n",
       "\t<tr><th scope=row>treat.one</th><td>0.1352571  </td><td>0.1154288  </td><td>1.17178    </td><td>0.2417951  </td><td>-0.09148039</td><td>0.3619947  </td><td>547.4298   </td></tr>\n",
       "</tbody>\n",
       "</table>\n",
       "</dd>\n",
       "\t<dt>$design</dt>\n",
       "\t\t<dd>'Standard'</dd>\n",
       "</dl>\n"
      ],
      "text/latex": [
       "\\begin{description}\n",
       "\\item[\\$coefficients] \\begin{tabular}{r|lllllll}\n",
       "  & Estimate & Std. Error & t value & Pr(>\\textbar{}t\\textbar{}) & CI Lower & CI Upper & DF\\\\\n",
       "\\hline\n",
       "\ttreat.one & 0.1352571   & 0.1154288   & 1.17178     & 0.2417951   & -0.09148039 & 0.3619947   & 547.4298   \\\\\n",
       "\\end{tabular}\n",
       "\n",
       "\\item[\\$design] 'Standard'\n",
       "\\end{description}\n"
      ],
      "text/markdown": [
       "$coefficients\n",
       ":   \n",
       "| <!--/--> | Estimate | Std. Error | t value | Pr(>|t|) | CI Lower | CI Upper | DF | \n",
       "|---|\n",
       "| treat.one | 0.1352571   | 0.1154288   | 1.17178     | 0.2417951   | -0.09148039 | 0.3619947   | 547.4298    | \n",
       "\n",
       "\n",
       "\n",
       "$design\n",
       ":   'Standard'\n",
       "\n",
       "\n"
      ],
      "text/plain": [
       "$coefficients\n",
       "           Estimate Std. Error t value  Pr(>|t|)    CI Lower  CI Upper       DF\n",
       "treat.one 0.1352571  0.1154288 1.17178 0.2417951 -0.09148039 0.3619947 547.4298\n",
       "\n",
       "$design\n",
       "[1] \"Standard\"\n"
      ]
     },
     "metadata": {},
     "output_type": "display_data"
    },
    {
     "name": "stdout",
     "output_type": "stream",
     "text": [
      "[1] \"close.individuals.1: Treatment 2 compared to Treatment 1\"\n"
     ]
    },
    {
     "data": {
      "text/html": [
       "<dl>\n",
       "\t<dt>$coefficients</dt>\n",
       "\t\t<dd><table>\n",
       "<thead><tr><th></th><th scope=col>Estimate</th><th scope=col>Std. Error</th><th scope=col>t value</th><th scope=col>Pr(&gt;|t|)</th><th scope=col>CI Lower</th><th scope=col>CI Upper</th><th scope=col>DF</th></tr></thead>\n",
       "<tbody>\n",
       "\t<tr><th scope=row>treat.two</th><td>0.0205947 </td><td>0.1253615 </td><td>0.1642825 </td><td>0.8695721 </td><td>-0.2256783</td><td>0.2668677 </td><td>523.8454  </td></tr>\n",
       "</tbody>\n",
       "</table>\n",
       "</dd>\n",
       "\t<dt>$design</dt>\n",
       "\t\t<dd>'Standard'</dd>\n",
       "</dl>\n"
      ],
      "text/latex": [
       "\\begin{description}\n",
       "\\item[\\$coefficients] \\begin{tabular}{r|lllllll}\n",
       "  & Estimate & Std. Error & t value & Pr(>\\textbar{}t\\textbar{}) & CI Lower & CI Upper & DF\\\\\n",
       "\\hline\n",
       "\ttreat.two & 0.0205947  & 0.1253615  & 0.1642825  & 0.8695721  & -0.2256783 & 0.2668677  & 523.8454  \\\\\n",
       "\\end{tabular}\n",
       "\n",
       "\\item[\\$design] 'Standard'\n",
       "\\end{description}\n"
      ],
      "text/markdown": [
       "$coefficients\n",
       ":   \n",
       "| <!--/--> | Estimate | Std. Error | t value | Pr(>|t|) | CI Lower | CI Upper | DF | \n",
       "|---|\n",
       "| treat.two | 0.0205947  | 0.1253615  | 0.1642825  | 0.8695721  | -0.2256783 | 0.2668677  | 523.8454   | \n",
       "\n",
       "\n",
       "\n",
       "$design\n",
       ":   'Standard'\n",
       "\n",
       "\n"
      ],
      "text/plain": [
       "$coefficients\n",
       "           Estimate Std. Error   t value  Pr(>|t|)   CI Lower  CI Upper\n",
       "treat.two 0.0205947  0.1253615 0.1642825 0.8695721 -0.2256783 0.2668677\n",
       "                DF\n",
       "treat.two 523.8454\n",
       "\n",
       "$design\n",
       "[1] \"Standard\"\n"
      ]
     },
     "metadata": {},
     "output_type": "display_data"
    },
    {
     "name": "stdout",
     "output_type": "stream",
     "text": [
      "[1] \"close.individuals.1: Treatment 2 compared to control\"\n"
     ]
    },
    {
     "data": {
      "text/html": [
       "<dl>\n",
       "\t<dt>$coefficients</dt>\n",
       "\t\t<dd><table>\n",
       "<thead><tr><th></th><th scope=col>Estimate</th><th scope=col>Std. Error</th><th scope=col>t value</th><th scope=col>Pr(&gt;|t|)</th><th scope=col>CI Lower</th><th scope=col>CI Upper</th><th scope=col>DF</th></tr></thead>\n",
       "<tbody>\n",
       "\t<tr><th scope=row>treat.two</th><td>0.1558518  </td><td>0.1178713  </td><td>1.322221   </td><td>0.1866419  </td><td>-0.07567895</td><td>0.3873826  </td><td>552.3619   </td></tr>\n",
       "</tbody>\n",
       "</table>\n",
       "</dd>\n",
       "\t<dt>$design</dt>\n",
       "\t\t<dd>'Standard'</dd>\n",
       "</dl>\n"
      ],
      "text/latex": [
       "\\begin{description}\n",
       "\\item[\\$coefficients] \\begin{tabular}{r|lllllll}\n",
       "  & Estimate & Std. Error & t value & Pr(>\\textbar{}t\\textbar{}) & CI Lower & CI Upper & DF\\\\\n",
       "\\hline\n",
       "\ttreat.two & 0.1558518   & 0.1178713   & 1.322221    & 0.1866419   & -0.07567895 & 0.3873826   & 552.3619   \\\\\n",
       "\\end{tabular}\n",
       "\n",
       "\\item[\\$design] 'Standard'\n",
       "\\end{description}\n"
      ],
      "text/markdown": [
       "$coefficients\n",
       ":   \n",
       "| <!--/--> | Estimate | Std. Error | t value | Pr(>|t|) | CI Lower | CI Upper | DF | \n",
       "|---|\n",
       "| treat.two | 0.1558518   | 0.1178713   | 1.322221    | 0.1866419   | -0.07567895 | 0.3873826   | 552.3619    | \n",
       "\n",
       "\n",
       "\n",
       "$design\n",
       ":   'Standard'\n",
       "\n",
       "\n"
      ],
      "text/plain": [
       "$coefficients\n",
       "           Estimate Std. Error  t value  Pr(>|t|)    CI Lower  CI Upper\n",
       "treat.two 0.1558518  0.1178713 1.322221 0.1866419 -0.07567895 0.3873826\n",
       "                DF\n",
       "treat.two 552.3619\n",
       "\n",
       "$design\n",
       "[1] \"Standard\"\n"
      ]
     },
     "metadata": {},
     "output_type": "display_data"
    }
   ],
   "source": [
    "# Were newcomers in treatment conditions more likely to say they knew individuals in the community?\n",
    "model.42 = difference_in_means(close.individuals.1 ~ treat.one, data =subset(complier.participants, treat.two==0))\n",
    "model.43 = difference_in_means(close.individuals.1 ~ treat.two, data =subset(complier.participants, control==0))\n",
    "model.44 = difference_in_means(close.individuals.1 ~ treat.two, data =subset(complier.participants, treat.one==0))\n",
    "print(\"close.individuals.1: Treatment 1\")\n",
    "summary(model.42)\n",
    "print(\"close.individuals.1: Treatment 2 compared to Treatment 1\")\n",
    "summary(model.43)\n",
    "print(\"close.individuals.1: Treatment 2 compared to control\")\n",
    "summary(model.44)"
   ]
  },
  {
   "cell_type": "code",
   "execution_count": 35,
   "metadata": {},
   "outputs": [
    {
     "name": "stdout",
     "output_type": "stream",
     "text": [
      "[1] \"close.individuals.2: Treatment 1\"\n"
     ]
    },
    {
     "data": {
      "text/html": [
       "<dl>\n",
       "\t<dt>$coefficients</dt>\n",
       "\t\t<dd><table>\n",
       "<thead><tr><th></th><th scope=col>Estimate</th><th scope=col>Std. Error</th><th scope=col>t value</th><th scope=col>Pr(&gt;|t|)</th><th scope=col>CI Lower</th><th scope=col>CI Upper</th><th scope=col>DF</th></tr></thead>\n",
       "<tbody>\n",
       "\t<tr><th scope=row>treat.one</th><td>-0.0695311</td><td>0.118232  </td><td>-0.5880903</td><td>0.5567093 </td><td>-0.3017647</td><td>0.1627025 </td><td>558.6773  </td></tr>\n",
       "</tbody>\n",
       "</table>\n",
       "</dd>\n",
       "\t<dt>$design</dt>\n",
       "\t\t<dd>'Standard'</dd>\n",
       "</dl>\n"
      ],
      "text/latex": [
       "\\begin{description}\n",
       "\\item[\\$coefficients] \\begin{tabular}{r|lllllll}\n",
       "  & Estimate & Std. Error & t value & Pr(>\\textbar{}t\\textbar{}) & CI Lower & CI Upper & DF\\\\\n",
       "\\hline\n",
       "\ttreat.one & -0.0695311 & 0.118232   & -0.5880903 & 0.5567093  & -0.3017647 & 0.1627025  & 558.6773  \\\\\n",
       "\\end{tabular}\n",
       "\n",
       "\\item[\\$design] 'Standard'\n",
       "\\end{description}\n"
      ],
      "text/markdown": [
       "$coefficients\n",
       ":   \n",
       "| <!--/--> | Estimate | Std. Error | t value | Pr(>|t|) | CI Lower | CI Upper | DF | \n",
       "|---|\n",
       "| treat.one | -0.0695311 | 0.118232   | -0.5880903 | 0.5567093  | -0.3017647 | 0.1627025  | 558.6773   | \n",
       "\n",
       "\n",
       "\n",
       "$design\n",
       ":   'Standard'\n",
       "\n",
       "\n"
      ],
      "text/plain": [
       "$coefficients\n",
       "            Estimate Std. Error    t value  Pr(>|t|)   CI Lower  CI Upper\n",
       "treat.one -0.0695311   0.118232 -0.5880903 0.5567093 -0.3017647 0.1627025\n",
       "                DF\n",
       "treat.one 558.6773\n",
       "\n",
       "$design\n",
       "[1] \"Standard\"\n"
      ]
     },
     "metadata": {},
     "output_type": "display_data"
    },
    {
     "name": "stdout",
     "output_type": "stream",
     "text": [
      "[1] \"close.individuals.2: Treatment 2 compared to Treatment 1\"\n"
     ]
    },
    {
     "data": {
      "text/html": [
       "<dl>\n",
       "\t<dt>$coefficients</dt>\n",
       "\t\t<dd><table>\n",
       "<thead><tr><th></th><th scope=col>Estimate</th><th scope=col>Std. Error</th><th scope=col>t value</th><th scope=col>Pr(&gt;|t|)</th><th scope=col>CI Lower</th><th scope=col>CI Upper</th><th scope=col>DF</th></tr></thead>\n",
       "<tbody>\n",
       "\t<tr><th scope=row>treat.two</th><td>-0.01183038</td><td>0.1258661  </td><td>-0.09399182</td><td>0.9251516  </td><td>-0.2590947 </td><td>0.2354339  </td><td>523.8339   </td></tr>\n",
       "</tbody>\n",
       "</table>\n",
       "</dd>\n",
       "\t<dt>$design</dt>\n",
       "\t\t<dd>'Standard'</dd>\n",
       "</dl>\n"
      ],
      "text/latex": [
       "\\begin{description}\n",
       "\\item[\\$coefficients] \\begin{tabular}{r|lllllll}\n",
       "  & Estimate & Std. Error & t value & Pr(>\\textbar{}t\\textbar{}) & CI Lower & CI Upper & DF\\\\\n",
       "\\hline\n",
       "\ttreat.two & -0.01183038 & 0.1258661   & -0.09399182 & 0.9251516   & -0.2590947  & 0.2354339   & 523.8339   \\\\\n",
       "\\end{tabular}\n",
       "\n",
       "\\item[\\$design] 'Standard'\n",
       "\\end{description}\n"
      ],
      "text/markdown": [
       "$coefficients\n",
       ":   \n",
       "| <!--/--> | Estimate | Std. Error | t value | Pr(>|t|) | CI Lower | CI Upper | DF | \n",
       "|---|\n",
       "| treat.two | -0.01183038 | 0.1258661   | -0.09399182 | 0.9251516   | -0.2590947  | 0.2354339   | 523.8339    | \n",
       "\n",
       "\n",
       "\n",
       "$design\n",
       ":   'Standard'\n",
       "\n",
       "\n"
      ],
      "text/plain": [
       "$coefficients\n",
       "             Estimate Std. Error     t value  Pr(>|t|)   CI Lower  CI Upper\n",
       "treat.two -0.01183038  0.1258661 -0.09399182 0.9251516 -0.2590947 0.2354339\n",
       "                DF\n",
       "treat.two 523.8339\n",
       "\n",
       "$design\n",
       "[1] \"Standard\"\n"
      ]
     },
     "metadata": {},
     "output_type": "display_data"
    },
    {
     "name": "stdout",
     "output_type": "stream",
     "text": [
      "[1] \"close.individuals.2: Treatment 2 compared to control\"\n"
     ]
    },
    {
     "data": {
      "text/html": [
       "<dl>\n",
       "\t<dt>$coefficients</dt>\n",
       "\t\t<dd><table>\n",
       "<thead><tr><th></th><th scope=col>Estimate</th><th scope=col>Std. Error</th><th scope=col>t value</th><th scope=col>Pr(&gt;|t|)</th><th scope=col>CI Lower</th><th scope=col>CI Upper</th><th scope=col>DF</th></tr></thead>\n",
       "<tbody>\n",
       "\t<tr><th scope=row>treat.two</th><td>-0.08136149</td><td>0.120678   </td><td>-0.6742029 </td><td>0.5004585  </td><td>-0.3183946 </td><td>0.1556717  </td><td>564.1206   </td></tr>\n",
       "</tbody>\n",
       "</table>\n",
       "</dd>\n",
       "\t<dt>$design</dt>\n",
       "\t\t<dd>'Standard'</dd>\n",
       "</dl>\n"
      ],
      "text/latex": [
       "\\begin{description}\n",
       "\\item[\\$coefficients] \\begin{tabular}{r|lllllll}\n",
       "  & Estimate & Std. Error & t value & Pr(>\\textbar{}t\\textbar{}) & CI Lower & CI Upper & DF\\\\\n",
       "\\hline\n",
       "\ttreat.two & -0.08136149 & 0.120678    & -0.6742029  & 0.5004585   & -0.3183946  & 0.1556717   & 564.1206   \\\\\n",
       "\\end{tabular}\n",
       "\n",
       "\\item[\\$design] 'Standard'\n",
       "\\end{description}\n"
      ],
      "text/markdown": [
       "$coefficients\n",
       ":   \n",
       "| <!--/--> | Estimate | Std. Error | t value | Pr(>|t|) | CI Lower | CI Upper | DF | \n",
       "|---|\n",
       "| treat.two | -0.08136149 | 0.120678    | -0.6742029  | 0.5004585   | -0.3183946  | 0.1556717   | 564.1206    | \n",
       "\n",
       "\n",
       "\n",
       "$design\n",
       ":   'Standard'\n",
       "\n",
       "\n"
      ],
      "text/plain": [
       "$coefficients\n",
       "             Estimate Std. Error    t value  Pr(>|t|)   CI Lower  CI Upper\n",
       "treat.two -0.08136149   0.120678 -0.6742029 0.5004585 -0.3183946 0.1556717\n",
       "                DF\n",
       "treat.two 564.1206\n",
       "\n",
       "$design\n",
       "[1] \"Standard\"\n"
      ]
     },
     "metadata": {},
     "output_type": "display_data"
    }
   ],
   "source": [
    "# Were newcomers in treatment conditions more likely to say they were known by individuals in the community?\n",
    "model.45 = difference_in_means(close.individuals.2 ~ treat.one, data =subset(complier.participants, treat.two==0))\n",
    "model.46 = difference_in_means(close.individuals.2 ~ treat.two, data =subset(complier.participants, control==0))\n",
    "model.47 = difference_in_means(close.individuals.2 ~ treat.two, data =subset(complier.participants, treat.one==0))\n",
    "print(\"close.individuals.2: Treatment 1\")\n",
    "summary(model.45)\n",
    "print(\"close.individuals.2: Treatment 2 compared to Treatment 1\")\n",
    "summary(model.46)\n",
    "print(\"close.individuals.2: Treatment 2 compared to control\")\n",
    "summary(model.47)"
   ]
  },
  {
   "cell_type": "code",
   "execution_count": 36,
   "metadata": {},
   "outputs": [
    {
     "name": "stdout",
     "output_type": "stream",
     "text": [
      "[1] \"close.individuals.3: Treatment 1\"\n"
     ]
    },
    {
     "data": {
      "text/html": [
       "<dl>\n",
       "\t<dt>$coefficients</dt>\n",
       "\t\t<dd><table>\n",
       "<thead><tr><th></th><th scope=col>Estimate</th><th scope=col>Std. Error</th><th scope=col>t value</th><th scope=col>Pr(&gt;|t|)</th><th scope=col>CI Lower</th><th scope=col>CI Upper</th><th scope=col>DF</th></tr></thead>\n",
       "<tbody>\n",
       "\t<tr><th scope=row>treat.one</th><td>0.1845339  </td><td>0.1179525  </td><td>1.564477   </td><td>0.1182819  </td><td>-0.04715956</td><td>0.4162274  </td><td>548.8525   </td></tr>\n",
       "</tbody>\n",
       "</table>\n",
       "</dd>\n",
       "\t<dt>$design</dt>\n",
       "\t\t<dd>'Standard'</dd>\n",
       "</dl>\n"
      ],
      "text/latex": [
       "\\begin{description}\n",
       "\\item[\\$coefficients] \\begin{tabular}{r|lllllll}\n",
       "  & Estimate & Std. Error & t value & Pr(>\\textbar{}t\\textbar{}) & CI Lower & CI Upper & DF\\\\\n",
       "\\hline\n",
       "\ttreat.one & 0.1845339   & 0.1179525   & 1.564477    & 0.1182819   & -0.04715956 & 0.4162274   & 548.8525   \\\\\n",
       "\\end{tabular}\n",
       "\n",
       "\\item[\\$design] 'Standard'\n",
       "\\end{description}\n"
      ],
      "text/markdown": [
       "$coefficients\n",
       ":   \n",
       "| <!--/--> | Estimate | Std. Error | t value | Pr(>|t|) | CI Lower | CI Upper | DF | \n",
       "|---|\n",
       "| treat.one | 0.1845339   | 0.1179525   | 1.564477    | 0.1182819   | -0.04715956 | 0.4162274   | 548.8525    | \n",
       "\n",
       "\n",
       "\n",
       "$design\n",
       ":   'Standard'\n",
       "\n",
       "\n"
      ],
      "text/plain": [
       "$coefficients\n",
       "           Estimate Std. Error  t value  Pr(>|t|)    CI Lower  CI Upper\n",
       "treat.one 0.1845339  0.1179525 1.564477 0.1182819 -0.04715956 0.4162274\n",
       "                DF\n",
       "treat.one 548.8525\n",
       "\n",
       "$design\n",
       "[1] \"Standard\"\n"
      ]
     },
     "metadata": {},
     "output_type": "display_data"
    },
    {
     "name": "stdout",
     "output_type": "stream",
     "text": [
      "[1] \"close.individuals.3: Treatment 2 compared to Treatment 1\"\n"
     ]
    },
    {
     "data": {
      "text/html": [
       "<dl>\n",
       "\t<dt>$coefficients</dt>\n",
       "\t\t<dd><table>\n",
       "<thead><tr><th></th><th scope=col>Estimate</th><th scope=col>Std. Error</th><th scope=col>t value</th><th scope=col>Pr(&gt;|t|)</th><th scope=col>CI Lower</th><th scope=col>CI Upper</th><th scope=col>DF</th></tr></thead>\n",
       "<tbody>\n",
       "\t<tr><th scope=row>treat.two</th><td>0.009313896</td><td>0.1252873  </td><td>0.07434028 </td><td>0.940768   </td><td>-0.2368135 </td><td>0.2554413  </td><td>523.7496   </td></tr>\n",
       "</tbody>\n",
       "</table>\n",
       "</dd>\n",
       "\t<dt>$design</dt>\n",
       "\t\t<dd>'Standard'</dd>\n",
       "</dl>\n"
      ],
      "text/latex": [
       "\\begin{description}\n",
       "\\item[\\$coefficients] \\begin{tabular}{r|lllllll}\n",
       "  & Estimate & Std. Error & t value & Pr(>\\textbar{}t\\textbar{}) & CI Lower & CI Upper & DF\\\\\n",
       "\\hline\n",
       "\ttreat.two & 0.009313896 & 0.1252873   & 0.07434028  & 0.940768    & -0.2368135  & 0.2554413   & 523.7496   \\\\\n",
       "\\end{tabular}\n",
       "\n",
       "\\item[\\$design] 'Standard'\n",
       "\\end{description}\n"
      ],
      "text/markdown": [
       "$coefficients\n",
       ":   \n",
       "| <!--/--> | Estimate | Std. Error | t value | Pr(>|t|) | CI Lower | CI Upper | DF | \n",
       "|---|\n",
       "| treat.two | 0.009313896 | 0.1252873   | 0.07434028  | 0.940768    | -0.2368135  | 0.2554413   | 523.7496    | \n",
       "\n",
       "\n",
       "\n",
       "$design\n",
       ":   'Standard'\n",
       "\n",
       "\n"
      ],
      "text/plain": [
       "$coefficients\n",
       "             Estimate Std. Error    t value Pr(>|t|)   CI Lower  CI Upper\n",
       "treat.two 0.009313896  0.1252873 0.07434028 0.940768 -0.2368135 0.2554413\n",
       "                DF\n",
       "treat.two 523.7496\n",
       "\n",
       "$design\n",
       "[1] \"Standard\"\n"
      ]
     },
     "metadata": {},
     "output_type": "display_data"
    },
    {
     "name": "stdout",
     "output_type": "stream",
     "text": [
      "[1] \"close.individuals.3: Treatment 2 compared to control\"\n"
     ]
    },
    {
     "data": {
      "text/html": [
       "<dl>\n",
       "\t<dt>$coefficients</dt>\n",
       "\t\t<dd><table>\n",
       "<thead><tr><th></th><th scope=col>Estimate</th><th scope=col>Std. Error</th><th scope=col>t value</th><th scope=col>Pr(&gt;|t|)</th><th scope=col>CI Lower</th><th scope=col>CI Upper</th><th scope=col>DF</th></tr></thead>\n",
       "<tbody>\n",
       "\t<tr><th scope=row>treat.two</th><td>0.1938478  </td><td>0.1177675  </td><td>1.646021   </td><td>0.1003166  </td><td>-0.03746874</td><td>0.4251644  </td><td>563.9511   </td></tr>\n",
       "</tbody>\n",
       "</table>\n",
       "</dd>\n",
       "\t<dt>$design</dt>\n",
       "\t\t<dd>'Standard'</dd>\n",
       "</dl>\n"
      ],
      "text/latex": [
       "\\begin{description}\n",
       "\\item[\\$coefficients] \\begin{tabular}{r|lllllll}\n",
       "  & Estimate & Std. Error & t value & Pr(>\\textbar{}t\\textbar{}) & CI Lower & CI Upper & DF\\\\\n",
       "\\hline\n",
       "\ttreat.two & 0.1938478   & 0.1177675   & 1.646021    & 0.1003166   & -0.03746874 & 0.4251644   & 563.9511   \\\\\n",
       "\\end{tabular}\n",
       "\n",
       "\\item[\\$design] 'Standard'\n",
       "\\end{description}\n"
      ],
      "text/markdown": [
       "$coefficients\n",
       ":   \n",
       "| <!--/--> | Estimate | Std. Error | t value | Pr(>|t|) | CI Lower | CI Upper | DF | \n",
       "|---|\n",
       "| treat.two | 0.1938478   | 0.1177675   | 1.646021    | 0.1003166   | -0.03746874 | 0.4251644   | 563.9511    | \n",
       "\n",
       "\n",
       "\n",
       "$design\n",
       ":   'Standard'\n",
       "\n",
       "\n"
      ],
      "text/plain": [
       "$coefficients\n",
       "           Estimate Std. Error  t value  Pr(>|t|)    CI Lower  CI Upper\n",
       "treat.two 0.1938478  0.1177675 1.646021 0.1003166 -0.03746874 0.4251644\n",
       "                DF\n",
       "treat.two 563.9511\n",
       "\n",
       "$design\n",
       "[1] \"Standard\"\n"
      ]
     },
     "metadata": {},
     "output_type": "display_data"
    }
   ],
   "source": [
    "# Were newcomers in treatment conditions more likely to say if they reached out to someone in the community they'd respond?\n",
    "model.48 = difference_in_means(close.individuals.3 ~ treat.one, data =subset(complier.participants, treat.two==0))\n",
    "model.49 = difference_in_means(close.individuals.3 ~ treat.two, data =subset(complier.participants, control==0))\n",
    "model.50 = difference_in_means(close.individuals.3 ~ treat.two, data =subset(complier.participants, treat.one==0))\n",
    "print(\"close.individuals.3: Treatment 1\")\n",
    "summary(model.48)\n",
    "print(\"close.individuals.3: Treatment 2 compared to Treatment 1\")\n",
    "summary(model.49)\n",
    "print(\"close.individuals.3: Treatment 2 compared to control\")\n",
    "summary(model.50)"
   ]
  },
  {
   "cell_type": "code",
   "execution_count": 37,
   "metadata": {},
   "outputs": [
    {
     "name": "stdout",
     "output_type": "stream",
     "text": [
      "[1] \"manipulation.check: Treatment 1\"\n"
     ]
    },
    {
     "data": {
      "text/html": [
       "<dl>\n",
       "\t<dt>$coefficients</dt>\n",
       "\t\t<dd><table>\n",
       "<thead><tr><th></th><th scope=col>Estimate</th><th scope=col>Std. Error</th><th scope=col>t value</th><th scope=col>Pr(&gt;|t|)</th><th scope=col>CI Lower</th><th scope=col>CI Upper</th><th scope=col>DF</th></tr></thead>\n",
       "<tbody>\n",
       "\t<tr><th scope=row>treat.one</th><td>0.1304594   </td><td>0.03653304  </td><td>3.570999    </td><td>0.0003898185</td><td>0.05868308  </td><td>0.2022358   </td><td>502.3782    </td></tr>\n",
       "</tbody>\n",
       "</table>\n",
       "</dd>\n",
       "\t<dt>$design</dt>\n",
       "\t\t<dd>'Standard'</dd>\n",
       "</dl>\n"
      ],
      "text/latex": [
       "\\begin{description}\n",
       "\\item[\\$coefficients] \\begin{tabular}{r|lllllll}\n",
       "  & Estimate & Std. Error & t value & Pr(>\\textbar{}t\\textbar{}) & CI Lower & CI Upper & DF\\\\\n",
       "\\hline\n",
       "\ttreat.one & 0.1304594    & 0.03653304   & 3.570999     & 0.0003898185 & 0.05868308   & 0.2022358    & 502.3782    \\\\\n",
       "\\end{tabular}\n",
       "\n",
       "\\item[\\$design] 'Standard'\n",
       "\\end{description}\n"
      ],
      "text/markdown": [
       "$coefficients\n",
       ":   \n",
       "| <!--/--> | Estimate | Std. Error | t value | Pr(>|t|) | CI Lower | CI Upper | DF | \n",
       "|---|\n",
       "| treat.one | 0.1304594    | 0.03653304   | 3.570999     | 0.0003898185 | 0.05868308   | 0.2022358    | 502.3782     | \n",
       "\n",
       "\n",
       "\n",
       "$design\n",
       ":   'Standard'\n",
       "\n",
       "\n"
      ],
      "text/plain": [
       "$coefficients\n",
       "           Estimate Std. Error  t value     Pr(>|t|)   CI Lower  CI Upper\n",
       "treat.one 0.1304594 0.03653304 3.570999 0.0003898185 0.05868308 0.2022358\n",
       "                DF\n",
       "treat.one 502.3782\n",
       "\n",
       "$design\n",
       "[1] \"Standard\"\n"
      ]
     },
     "metadata": {},
     "output_type": "display_data"
    },
    {
     "name": "stdout",
     "output_type": "stream",
     "text": [
      "[1] \"manipulation.check: Treatment 2 compared to control\"\n"
     ]
    },
    {
     "data": {
      "text/html": [
       "<dl>\n",
       "\t<dt>$coefficients</dt>\n",
       "\t\t<dd><table>\n",
       "<thead><tr><th></th><th scope=col>Estimate</th><th scope=col>Std. Error</th><th scope=col>t value</th><th scope=col>Pr(&gt;|t|)</th><th scope=col>CI Lower</th><th scope=col>CI Upper</th><th scope=col>DF</th></tr></thead>\n",
       "<tbody>\n",
       "\t<tr><th scope=row>treat.two</th><td>0.09219148 </td><td>0.03531545 </td><td>2.610514   </td><td>0.009294145</td><td>0.02281748 </td><td>0.1615655  </td><td>534.8553   </td></tr>\n",
       "</tbody>\n",
       "</table>\n",
       "</dd>\n",
       "\t<dt>$design</dt>\n",
       "\t\t<dd>'Standard'</dd>\n",
       "</dl>\n"
      ],
      "text/latex": [
       "\\begin{description}\n",
       "\\item[\\$coefficients] \\begin{tabular}{r|lllllll}\n",
       "  & Estimate & Std. Error & t value & Pr(>\\textbar{}t\\textbar{}) & CI Lower & CI Upper & DF\\\\\n",
       "\\hline\n",
       "\ttreat.two & 0.09219148  & 0.03531545  & 2.610514    & 0.009294145 & 0.02281748  & 0.1615655   & 534.8553   \\\\\n",
       "\\end{tabular}\n",
       "\n",
       "\\item[\\$design] 'Standard'\n",
       "\\end{description}\n"
      ],
      "text/markdown": [
       "$coefficients\n",
       ":   \n",
       "| <!--/--> | Estimate | Std. Error | t value | Pr(>|t|) | CI Lower | CI Upper | DF | \n",
       "|---|\n",
       "| treat.two | 0.09219148  | 0.03531545  | 2.610514    | 0.009294145 | 0.02281748  | 0.1615655   | 534.8553    | \n",
       "\n",
       "\n",
       "\n",
       "$design\n",
       ":   'Standard'\n",
       "\n",
       "\n"
      ],
      "text/plain": [
       "$coefficients\n",
       "            Estimate Std. Error  t value    Pr(>|t|)   CI Lower  CI Upper\n",
       "treat.two 0.09219148 0.03531545 2.610514 0.009294145 0.02281748 0.1615655\n",
       "                DF\n",
       "treat.two 534.8553\n",
       "\n",
       "$design\n",
       "[1] \"Standard\"\n"
      ]
     },
     "metadata": {},
     "output_type": "display_data"
    }
   ],
   "source": [
    "# Did newcomers in treatment conditions recall receiving a welcome message?\n",
    "model.51 = difference_in_means(manipulation.check ~ treat.one, data =subset(complier.participants, treat.two==0))\n",
    "model.52 = difference_in_means(manipulation.check ~ treat.two, data =subset(complier.participants, treat.one==0))\n",
    "print(\"manipulation.check: Treatment 1\")\n",
    "summary(model.51)\n",
    "print(\"manipulation.check: Treatment 2 compared to control\")\n",
    "summary(model.52)"
   ]
  },
  {
   "cell_type": "markdown",
   "metadata": {},
   "source": [
    "#### Comparing the \"contact me\" message to control on labor minutes"
   ]
  },
  {
   "cell_type": "code",
   "execution_count": 57,
   "metadata": {},
   "outputs": [
    {
     "data": {
      "text/plain": [
       "\n",
       "Call:\n",
       "glm.nb(formula = labor.minutes ~ treat.two, data = subset(participants, \n",
       "    treat.one == 0), init.theta = 0.09155927505, link = log)\n",
       "\n",
       "Deviance Residuals: \n",
       "    Min       1Q   Median       3Q      Max  \n",
       "-1.0059  -1.0059  -0.9948  -0.2727  15.4675  \n",
       "\n",
       "Coefficients:\n",
       "            Estimate Std. Error z value Pr(>|z|)    \n",
       "(Intercept)  3.13040    0.02401 130.401  < 2e-16 ***\n",
       "treat.two   -0.12093    0.03395  -3.562 0.000369 ***\n",
       "---\n",
       "Signif. codes:  0 ‘***’ 0.001 ‘**’ 0.01 ‘*’ 0.05 ‘.’ 0.1 ‘ ’ 1\n",
       "\n",
       "(Dispersion parameter for Negative Binomial(0.0916) family taken to be 1)\n",
       "\n",
       "    Null deviance: 28413  on 38055  degrees of freedom\n",
       "Residual deviance: 28400  on 38054  degrees of freedom\n",
       "AIC: 188377\n",
       "\n",
       "Number of Fisher Scoring iterations: 1\n",
       "\n",
       "\n",
       "              Theta:  0.091559 \n",
       "          Std. Err.:  0.000855 \n",
       "\n",
       " 2 x log-likelihood:  -188370.596000 "
      ]
     },
     "metadata": {},
     "output_type": "display_data"
    }
   ],
   "source": [
    "model.53 = glm.nb(labor.minutes ~ treat.two, data=subset(participants, treat.one==0))\n",
    "summary(model.53)"
   ]
  },
  {
   "cell_type": "markdown",
   "metadata": {},
   "source": [
    "# Add P Values to List"
   ]
  },
  {
   "cell_type": "code",
   "execution_count": 38,
   "metadata": {},
   "outputs": [],
   "source": [
    "pvalue.dataframe <- function(model.object, model.name){\n",
    "    if(\"treat.one\" %in% rownames(summary(model.object)$coefficients)){\n",
    "        coefficient = \"treat.one\"\n",
    "    }else{\n",
    "        coefficient = \"treat.two\"\n",
    "    }\n",
    "    \n",
    "    if('Pr(>|t|)' %in% colnames(summary(model.object)$coefficients)){\n",
    "        p.col = 'Pr(>|t|)'\n",
    "    }else{\n",
    "        p.col = 'Pr(>|z|)'\n",
    "    }\n",
    "#    print(coefficient)\n",
    "#    print(p.col)\n",
    "   return(data.frame(\"model\"=model.name, \n",
    "                     \"pvalue\" = summary(model.object)$coefficients[coefficient,][[p.col]]))\n",
    "}"
   ]
  },
  {
   "cell_type": "code",
   "execution_count": 39,
   "metadata": {},
   "outputs": [
    {
     "data": {
      "text/html": [
       "<table>\n",
       "<thead><tr><th scope=col>model</th><th scope=col>pvalue</th></tr></thead>\n",
       "<tbody>\n",
       "\t<tr><td>model.1   </td><td>0.55926368</td></tr>\n",
       "\t<tr><td>model.2   </td><td>0.77446336</td></tr>\n",
       "\t<tr><td>model.3   </td><td>0.03959087</td></tr>\n",
       "\t<tr><td>model.4   </td><td>0.13163091</td></tr>\n",
       "</tbody>\n",
       "</table>\n"
      ],
      "text/latex": [
       "\\begin{tabular}{r|ll}\n",
       " model & pvalue\\\\\n",
       "\\hline\n",
       "\t model.1    & 0.55926368\\\\\n",
       "\t model.2    & 0.77446336\\\\\n",
       "\t model.3    & 0.03959087\\\\\n",
       "\t model.4    & 0.13163091\\\\\n",
       "\\end{tabular}\n"
      ],
      "text/markdown": [
       "\n",
       "model | pvalue | \n",
       "|---|---|---|---|\n",
       "| model.1    | 0.55926368 | \n",
       "| model.2    | 0.77446336 | \n",
       "| model.3    | 0.03959087 | \n",
       "| model.4    | 0.13163091 | \n",
       "\n",
       "\n"
      ],
      "text/plain": [
       "  model   pvalue    \n",
       "1 model.1 0.55926368\n",
       "2 model.2 0.77446336\n",
       "3 model.3 0.03959087\n",
       "4 model.4 0.13163091"
      ]
     },
     "metadata": {},
     "output_type": "display_data"
    }
   ],
   "source": [
    "p.values"
   ]
  },
  {
   "cell_type": "code",
   "execution_count": 92,
   "metadata": {},
   "outputs": [],
   "source": [
    "all.pvalues <- \n",
    "    rbind(\n",
    "    p.values,\n",
    "    pvalue.dataframe(model.5, \"model.5\"),\n",
    "    pvalue.dataframe(model.6, \"model.6\"),\n",
    "    pvalue.dataframe(model.7, \"model.7\"),\n",
    "    pvalue.dataframe(model.8, \"model.8\"),\n",
    "    pvalue.dataframe(model.9, \"model.9\"),\n",
    "    pvalue.dataframe(model.10, \"model.10\"),\n",
    "    pvalue.dataframe(model.11, \"model.11\"),\n",
    "    pvalue.dataframe(model.12, \"model.12\"),\n",
    "    pvalue.dataframe(model.13, \"model.13\"),\n",
    "    pvalue.dataframe(model.14, \"model.14\"),\n",
    "    pvalue.dataframe(model.15, \"model.15\"),\n",
    "    pvalue.dataframe(model.16, \"model.16\"),\n",
    "    pvalue.dataframe(model.17, \"model.17\"),\n",
    "    pvalue.dataframe(model.18, \"model.18\"),\n",
    "    pvalue.dataframe(model.19, \"model.19\"),\n",
    "    pvalue.dataframe(model.21, \"model.21\"),\n",
    "    pvalue.dataframe(model.22, \"model.22\"),\n",
    "    pvalue.dataframe(model.23, \"model.23\"),\n",
    "    pvalue.dataframe(model.25, \"model.25\"),\n",
    "    pvalue.dataframe(model.27, \"model.27\"),\n",
    "    pvalue.dataframe(model.28, \"model.28\"),\n",
    "    pvalue.dataframe(model.29, \"model.29\"),\n",
    "    pvalue.dataframe(model.30, \"model.30\"),\n",
    "    pvalue.dataframe(model.31, \"model.31\"),\n",
    "    pvalue.dataframe(model.32, \"model.32\"),\n",
    "    pvalue.dataframe(model.33, \"model.33\"),\n",
    "    pvalue.dataframe(model.34, \"model.34\"),\n",
    "    pvalue.dataframe(model.35, \"model.35\"),\n",
    "    pvalue.dataframe(model.36, \"model.36\"),\n",
    "    pvalue.dataframe(model.37, \"model.37\"),\n",
    "    pvalue.dataframe(model.38, \"model.38\"),\n",
    "    pvalue.dataframe(model.39, \"model.39\"),\n",
    "    pvalue.dataframe(model.40, \"model.40\"),\n",
    "    pvalue.dataframe(model.41, \"model.41\"),\n",
    "    pvalue.dataframe(model.42, \"model.42\"),\n",
    "    pvalue.dataframe(model.43, \"model.43\"),\n",
    "    pvalue.dataframe(model.44, \"model.44\"),\n",
    "    pvalue.dataframe(model.45, \"model.45\"),\n",
    "    pvalue.dataframe(model.46, \"model.46\"),\n",
    "    pvalue.dataframe(model.47, \"model.47\"),\n",
    "    pvalue.dataframe(model.48, \"model.48\"),\n",
    "    pvalue.dataframe(model.49, \"model.49\"),\n",
    "    pvalue.dataframe(model.50, \"model.50\"),\n",
    "    pvalue.dataframe(model.51, \"model.51\"),\n",
    "    pvalue.dataframe(model.52, \"model.52\"),\n",
    "    pvalue.dataframe(model.53, \"model.53\"))\n",
    "confirmatory.p.values <- p.values"
   ]
  },
  {
   "cell_type": "markdown",
   "metadata": {},
   "source": [
    "#### Confirmatory P Value Adjustments"
   ]
  },
  {
   "cell_type": "code",
   "execution_count": 62,
   "metadata": {},
   "outputs": [
    {
     "data": {
      "text/html": [
       "<table>\n",
       "<thead><tr><th scope=col>model</th><th scope=col>pvalue</th><th scope=col>p.adjusted</th></tr></thead>\n",
       "<tbody>\n",
       "\t<tr><td>model.1   </td><td>0.55926368</td><td>1.0000000 </td></tr>\n",
       "\t<tr><td>model.2   </td><td>0.77446336</td><td>1.0000000 </td></tr>\n",
       "\t<tr><td>model.3   </td><td>0.03959087</td><td>0.1583635 </td></tr>\n",
       "\t<tr><td>model.4   </td><td>0.13163091</td><td>0.3948927 </td></tr>\n",
       "</tbody>\n",
       "</table>\n"
      ],
      "text/latex": [
       "\\begin{tabular}{r|lll}\n",
       " model & pvalue & p.adjusted\\\\\n",
       "\\hline\n",
       "\t model.1    & 0.55926368 & 1.0000000 \\\\\n",
       "\t model.2    & 0.77446336 & 1.0000000 \\\\\n",
       "\t model.3    & 0.03959087 & 0.1583635 \\\\\n",
       "\t model.4    & 0.13163091 & 0.3948927 \\\\\n",
       "\\end{tabular}\n"
      ],
      "text/markdown": [
       "\n",
       "model | pvalue | p.adjusted | \n",
       "|---|---|---|---|\n",
       "| model.1    | 0.55926368 | 1.0000000  | \n",
       "| model.2    | 0.77446336 | 1.0000000  | \n",
       "| model.3    | 0.03959087 | 0.1583635  | \n",
       "| model.4    | 0.13163091 | 0.3948927  | \n",
       "\n",
       "\n"
      ],
      "text/plain": [
       "  model   pvalue     p.adjusted\n",
       "1 model.1 0.55926368 1.0000000 \n",
       "2 model.2 0.77446336 1.0000000 \n",
       "3 model.3 0.03959087 0.1583635 \n",
       "4 model.4 0.13163091 0.3948927 "
      ]
     },
     "metadata": {},
     "output_type": "display_data"
    }
   ],
   "source": [
    "confirmatory.p.values$p.adjusted <- p.adjust(confirmatory.p.values$pvalue, method=\"holm\", n=nrow(confirmatory.p.values))\n",
    "confirmatory.p.values"
   ]
  },
  {
   "cell_type": "markdown",
   "metadata": {},
   "source": [
    "#### All P Value Adjustments"
   ]
  },
  {
   "cell_type": "code",
   "execution_count": 93,
   "metadata": {},
   "outputs": [
    {
     "data": {
      "text/html": [
       "<table>\n",
       "<thead><tr><th scope=col>model</th><th scope=col>pvalue</th><th scope=col>p.adjusted</th></tr></thead>\n",
       "<tbody>\n",
       "\t<tr><td>model.1     </td><td>0.5592636806</td><td>1.00000000  </td></tr>\n",
       "\t<tr><td>model.2     </td><td>0.7744633632</td><td>1.00000000  </td></tr>\n",
       "\t<tr><td>model.3     </td><td>0.0395908687</td><td>1.00000000  </td></tr>\n",
       "\t<tr><td>model.4     </td><td>0.1316309137</td><td>1.00000000  </td></tr>\n",
       "\t<tr><td>model.5     </td><td>0.0278397269</td><td>1.00000000  </td></tr>\n",
       "\t<tr><td>model.6     </td><td>0.2023125169</td><td>1.00000000  </td></tr>\n",
       "\t<tr><td>model.7     </td><td>0.6696618713</td><td>1.00000000  </td></tr>\n",
       "\t<tr><td>model.8     </td><td>0.2306335580</td><td>1.00000000  </td></tr>\n",
       "\t<tr><td>model.9     </td><td>0.4516832095</td><td>1.00000000  </td></tr>\n",
       "\t<tr><td>model.10    </td><td>0.7831663058</td><td>1.00000000  </td></tr>\n",
       "\t<tr><td>model.11    </td><td>0.7077805472</td><td>1.00000000  </td></tr>\n",
       "\t<tr><td>model.12    </td><td>0.9206259161</td><td>1.00000000  </td></tr>\n",
       "\t<tr><td>model.13    </td><td>0.6582997697</td><td>1.00000000  </td></tr>\n",
       "\t<tr><td>model.14    </td><td>0.9947028177</td><td>1.00000000  </td></tr>\n",
       "\t<tr><td>model.15    </td><td>0.6633387583</td><td>1.00000000  </td></tr>\n",
       "\t<tr><td>model.16    </td><td>0.3488838662</td><td>1.00000000  </td></tr>\n",
       "\t<tr><td>model.17    </td><td>0.5022520253</td><td>1.00000000  </td></tr>\n",
       "\t<tr><td>model.18    </td><td>0.8134223306</td><td>1.00000000  </td></tr>\n",
       "\t<tr><td>model.19    </td><td>0.0091135712</td><td>0.42833784  </td></tr>\n",
       "\t<tr><td>model.21    </td><td>0.8812221431</td><td>1.00000000  </td></tr>\n",
       "\t<tr><td>model.22    </td><td>0.0611016146</td><td>1.00000000  </td></tr>\n",
       "\t<tr><td>model.23    </td><td>0.0432662859</td><td>1.00000000  </td></tr>\n",
       "\t<tr><td>model.25    </td><td>0.0040118737</td><td>0.19256994  </td></tr>\n",
       "\t<tr><td>model.27    </td><td>0.4611101955</td><td>1.00000000  </td></tr>\n",
       "\t<tr><td>model.28    </td><td>0.3227522645</td><td>1.00000000  </td></tr>\n",
       "\t<tr><td>model.29    </td><td>0.8011615277</td><td>1.00000000  </td></tr>\n",
       "\t<tr><td>model.30    </td><td>0.1899959364</td><td>1.00000000  </td></tr>\n",
       "\t<tr><td>model.31    </td><td>0.8278985110</td><td>1.00000000  </td></tr>\n",
       "\t<tr><td>model.32    </td><td>0.2772822491</td><td>1.00000000  </td></tr>\n",
       "\t<tr><td>model.33    </td><td>0.4281045991</td><td>1.00000000  </td></tr>\n",
       "\t<tr><td>model.34    </td><td>0.4480089617</td><td>1.00000000  </td></tr>\n",
       "\t<tr><td>model.35    </td><td>0.9917402682</td><td>1.00000000  </td></tr>\n",
       "\t<tr><td>model.36    </td><td>0.0759135020</td><td>1.00000000  </td></tr>\n",
       "\t<tr><td>model.37    </td><td>0.6564238573</td><td>1.00000000  </td></tr>\n",
       "\t<tr><td>model.38    </td><td>0.0223114423</td><td>1.00000000  </td></tr>\n",
       "\t<tr><td>model.39    </td><td>0.3760957511</td><td>1.00000000  </td></tr>\n",
       "\t<tr><td>model.40    </td><td>0.7569126626</td><td>1.00000000  </td></tr>\n",
       "\t<tr><td>model.41    </td><td>0.2294288468</td><td>1.00000000  </td></tr>\n",
       "\t<tr><td>model.42    </td><td>0.2417950778</td><td>1.00000000  </td></tr>\n",
       "\t<tr><td>model.43    </td><td>0.8695720875</td><td>1.00000000  </td></tr>\n",
       "\t<tr><td>model.44    </td><td>0.1866419488</td><td>1.00000000  </td></tr>\n",
       "\t<tr><td>model.45    </td><td>0.5567093403</td><td>1.00000000  </td></tr>\n",
       "\t<tr><td>model.46    </td><td>0.9251515924</td><td>1.00000000  </td></tr>\n",
       "\t<tr><td>model.47    </td><td>0.5004584857</td><td>1.00000000  </td></tr>\n",
       "\t<tr><td>model.48    </td><td>0.1182818885</td><td>1.00000000  </td></tr>\n",
       "\t<tr><td>model.49    </td><td>0.9407680107</td><td>1.00000000  </td></tr>\n",
       "\t<tr><td>model.50    </td><td>0.1003166015</td><td>1.00000000  </td></tr>\n",
       "\t<tr><td>model.51    </td><td>0.0003898185</td><td>0.01910111  </td></tr>\n",
       "\t<tr><td>model.52    </td><td>0.0092941447</td><td>0.42833784  </td></tr>\n",
       "\t<tr><td>model.53    </td><td>0.0003686354</td><td>0.01843177  </td></tr>\n",
       "</tbody>\n",
       "</table>\n"
      ],
      "text/latex": [
       "\\begin{tabular}{r|lll}\n",
       " model & pvalue & p.adjusted\\\\\n",
       "\\hline\n",
       "\t model.1      & 0.5592636806 & 1.00000000  \\\\\n",
       "\t model.2      & 0.7744633632 & 1.00000000  \\\\\n",
       "\t model.3      & 0.0395908687 & 1.00000000  \\\\\n",
       "\t model.4      & 0.1316309137 & 1.00000000  \\\\\n",
       "\t model.5      & 0.0278397269 & 1.00000000  \\\\\n",
       "\t model.6      & 0.2023125169 & 1.00000000  \\\\\n",
       "\t model.7      & 0.6696618713 & 1.00000000  \\\\\n",
       "\t model.8      & 0.2306335580 & 1.00000000  \\\\\n",
       "\t model.9      & 0.4516832095 & 1.00000000  \\\\\n",
       "\t model.10     & 0.7831663058 & 1.00000000  \\\\\n",
       "\t model.11     & 0.7077805472 & 1.00000000  \\\\\n",
       "\t model.12     & 0.9206259161 & 1.00000000  \\\\\n",
       "\t model.13     & 0.6582997697 & 1.00000000  \\\\\n",
       "\t model.14     & 0.9947028177 & 1.00000000  \\\\\n",
       "\t model.15     & 0.6633387583 & 1.00000000  \\\\\n",
       "\t model.16     & 0.3488838662 & 1.00000000  \\\\\n",
       "\t model.17     & 0.5022520253 & 1.00000000  \\\\\n",
       "\t model.18     & 0.8134223306 & 1.00000000  \\\\\n",
       "\t model.19     & 0.0091135712 & 0.42833784  \\\\\n",
       "\t model.21     & 0.8812221431 & 1.00000000  \\\\\n",
       "\t model.22     & 0.0611016146 & 1.00000000  \\\\\n",
       "\t model.23     & 0.0432662859 & 1.00000000  \\\\\n",
       "\t model.25     & 0.0040118737 & 0.19256994  \\\\\n",
       "\t model.27     & 0.4611101955 & 1.00000000  \\\\\n",
       "\t model.28     & 0.3227522645 & 1.00000000  \\\\\n",
       "\t model.29     & 0.8011615277 & 1.00000000  \\\\\n",
       "\t model.30     & 0.1899959364 & 1.00000000  \\\\\n",
       "\t model.31     & 0.8278985110 & 1.00000000  \\\\\n",
       "\t model.32     & 0.2772822491 & 1.00000000  \\\\\n",
       "\t model.33     & 0.4281045991 & 1.00000000  \\\\\n",
       "\t model.34     & 0.4480089617 & 1.00000000  \\\\\n",
       "\t model.35     & 0.9917402682 & 1.00000000  \\\\\n",
       "\t model.36     & 0.0759135020 & 1.00000000  \\\\\n",
       "\t model.37     & 0.6564238573 & 1.00000000  \\\\\n",
       "\t model.38     & 0.0223114423 & 1.00000000  \\\\\n",
       "\t model.39     & 0.3760957511 & 1.00000000  \\\\\n",
       "\t model.40     & 0.7569126626 & 1.00000000  \\\\\n",
       "\t model.41     & 0.2294288468 & 1.00000000  \\\\\n",
       "\t model.42     & 0.2417950778 & 1.00000000  \\\\\n",
       "\t model.43     & 0.8695720875 & 1.00000000  \\\\\n",
       "\t model.44     & 0.1866419488 & 1.00000000  \\\\\n",
       "\t model.45     & 0.5567093403 & 1.00000000  \\\\\n",
       "\t model.46     & 0.9251515924 & 1.00000000  \\\\\n",
       "\t model.47     & 0.5004584857 & 1.00000000  \\\\\n",
       "\t model.48     & 0.1182818885 & 1.00000000  \\\\\n",
       "\t model.49     & 0.9407680107 & 1.00000000  \\\\\n",
       "\t model.50     & 0.1003166015 & 1.00000000  \\\\\n",
       "\t model.51     & 0.0003898185 & 0.01910111  \\\\\n",
       "\t model.52     & 0.0092941447 & 0.42833784  \\\\\n",
       "\t model.53     & 0.0003686354 & 0.01843177  \\\\\n",
       "\\end{tabular}\n"
      ],
      "text/markdown": [
       "\n",
       "model | pvalue | p.adjusted | \n",
       "|---|---|---|---|---|---|---|---|---|---|---|---|---|---|---|---|---|---|---|---|---|---|---|---|---|---|---|---|---|---|---|---|---|---|---|---|---|---|---|---|---|---|---|---|---|---|---|---|---|---|\n",
       "| model.1      | 0.5592636806 | 1.00000000   | \n",
       "| model.2      | 0.7744633632 | 1.00000000   | \n",
       "| model.3      | 0.0395908687 | 1.00000000   | \n",
       "| model.4      | 0.1316309137 | 1.00000000   | \n",
       "| model.5      | 0.0278397269 | 1.00000000   | \n",
       "| model.6      | 0.2023125169 | 1.00000000   | \n",
       "| model.7      | 0.6696618713 | 1.00000000   | \n",
       "| model.8      | 0.2306335580 | 1.00000000   | \n",
       "| model.9      | 0.4516832095 | 1.00000000   | \n",
       "| model.10     | 0.7831663058 | 1.00000000   | \n",
       "| model.11     | 0.7077805472 | 1.00000000   | \n",
       "| model.12     | 0.9206259161 | 1.00000000   | \n",
       "| model.13     | 0.6582997697 | 1.00000000   | \n",
       "| model.14     | 0.9947028177 | 1.00000000   | \n",
       "| model.15     | 0.6633387583 | 1.00000000   | \n",
       "| model.16     | 0.3488838662 | 1.00000000   | \n",
       "| model.17     | 0.5022520253 | 1.00000000   | \n",
       "| model.18     | 0.8134223306 | 1.00000000   | \n",
       "| model.19     | 0.0091135712 | 0.42833784   | \n",
       "| model.21     | 0.8812221431 | 1.00000000   | \n",
       "| model.22     | 0.0611016146 | 1.00000000   | \n",
       "| model.23     | 0.0432662859 | 1.00000000   | \n",
       "| model.25     | 0.0040118737 | 0.19256994   | \n",
       "| model.27     | 0.4611101955 | 1.00000000   | \n",
       "| model.28     | 0.3227522645 | 1.00000000   | \n",
       "| model.29     | 0.8011615277 | 1.00000000   | \n",
       "| model.30     | 0.1899959364 | 1.00000000   | \n",
       "| model.31     | 0.8278985110 | 1.00000000   | \n",
       "| model.32     | 0.2772822491 | 1.00000000   | \n",
       "| model.33     | 0.4281045991 | 1.00000000   | \n",
       "| model.34     | 0.4480089617 | 1.00000000   | \n",
       "| model.35     | 0.9917402682 | 1.00000000   | \n",
       "| model.36     | 0.0759135020 | 1.00000000   | \n",
       "| model.37     | 0.6564238573 | 1.00000000   | \n",
       "| model.38     | 0.0223114423 | 1.00000000   | \n",
       "| model.39     | 0.3760957511 | 1.00000000   | \n",
       "| model.40     | 0.7569126626 | 1.00000000   | \n",
       "| model.41     | 0.2294288468 | 1.00000000   | \n",
       "| model.42     | 0.2417950778 | 1.00000000   | \n",
       "| model.43     | 0.8695720875 | 1.00000000   | \n",
       "| model.44     | 0.1866419488 | 1.00000000   | \n",
       "| model.45     | 0.5567093403 | 1.00000000   | \n",
       "| model.46     | 0.9251515924 | 1.00000000   | \n",
       "| model.47     | 0.5004584857 | 1.00000000   | \n",
       "| model.48     | 0.1182818885 | 1.00000000   | \n",
       "| model.49     | 0.9407680107 | 1.00000000   | \n",
       "| model.50     | 0.1003166015 | 1.00000000   | \n",
       "| model.51     | 0.0003898185 | 0.01910111   | \n",
       "| model.52     | 0.0092941447 | 0.42833784   | \n",
       "| model.53     | 0.0003686354 | 0.01843177   | \n",
       "\n",
       "\n"
      ],
      "text/plain": [
       "   model    pvalue       p.adjusted\n",
       "1  model.1  0.5592636806 1.00000000\n",
       "2  model.2  0.7744633632 1.00000000\n",
       "3  model.3  0.0395908687 1.00000000\n",
       "4  model.4  0.1316309137 1.00000000\n",
       "5  model.5  0.0278397269 1.00000000\n",
       "6  model.6  0.2023125169 1.00000000\n",
       "7  model.7  0.6696618713 1.00000000\n",
       "8  model.8  0.2306335580 1.00000000\n",
       "9  model.9  0.4516832095 1.00000000\n",
       "10 model.10 0.7831663058 1.00000000\n",
       "11 model.11 0.7077805472 1.00000000\n",
       "12 model.12 0.9206259161 1.00000000\n",
       "13 model.13 0.6582997697 1.00000000\n",
       "14 model.14 0.9947028177 1.00000000\n",
       "15 model.15 0.6633387583 1.00000000\n",
       "16 model.16 0.3488838662 1.00000000\n",
       "17 model.17 0.5022520253 1.00000000\n",
       "18 model.18 0.8134223306 1.00000000\n",
       "19 model.19 0.0091135712 0.42833784\n",
       "20 model.21 0.8812221431 1.00000000\n",
       "21 model.22 0.0611016146 1.00000000\n",
       "22 model.23 0.0432662859 1.00000000\n",
       "23 model.25 0.0040118737 0.19256994\n",
       "24 model.27 0.4611101955 1.00000000\n",
       "25 model.28 0.3227522645 1.00000000\n",
       "26 model.29 0.8011615277 1.00000000\n",
       "27 model.30 0.1899959364 1.00000000\n",
       "28 model.31 0.8278985110 1.00000000\n",
       "29 model.32 0.2772822491 1.00000000\n",
       "30 model.33 0.4281045991 1.00000000\n",
       "31 model.34 0.4480089617 1.00000000\n",
       "32 model.35 0.9917402682 1.00000000\n",
       "33 model.36 0.0759135020 1.00000000\n",
       "34 model.37 0.6564238573 1.00000000\n",
       "35 model.38 0.0223114423 1.00000000\n",
       "36 model.39 0.3760957511 1.00000000\n",
       "37 model.40 0.7569126626 1.00000000\n",
       "38 model.41 0.2294288468 1.00000000\n",
       "39 model.42 0.2417950778 1.00000000\n",
       "40 model.43 0.8695720875 1.00000000\n",
       "41 model.44 0.1866419488 1.00000000\n",
       "42 model.45 0.5567093403 1.00000000\n",
       "43 model.46 0.9251515924 1.00000000\n",
       "44 model.47 0.5004584857 1.00000000\n",
       "45 model.48 0.1182818885 1.00000000\n",
       "46 model.49 0.9407680107 1.00000000\n",
       "47 model.50 0.1003166015 1.00000000\n",
       "48 model.51 0.0003898185 0.01910111\n",
       "49 model.52 0.0092941447 0.42833784\n",
       "50 model.53 0.0003686354 0.01843177"
      ]
     },
     "metadata": {},
     "output_type": "display_data"
    }
   ],
   "source": [
    "all.pvalues$p.adjusted <- p.adjust(all.pvalues$pvalue, method=\"holm\", n=nrow(all.pvalues))\n",
    "all.pvalues"
   ]
  },
  {
   "cell_type": "markdown",
   "metadata": {},
   "source": [
    "## Follow-Up: Complier Average Causal Effect\n",
    "In this experiment, not everyone ultimately received the intervention we designed:\n",
    "* (Control.accidentally.treated) Some people were sent a welcome message by third parties\n",
    "* (failed.to.treat) Some people never received the welcome message, due to software errors\n",
    "\n",
    "To estimate the actual effect of receiving the intervention, we can calculate the Complier Average Causal Effect (see Gerber & Green chapter 6)."
   ]
  },
  {
   "cell_type": "code",
   "execution_count": 43,
   "metadata": {},
   "outputs": [],
   "source": [
    "participants$treat.one.received <- participants$treat.one & participants$failed.to.treat==\"False\"\n",
    "participants$treat.two.received <- participants$treat.two & participants$failed.to.treat==\"False\""
   ]
  },
  {
   "cell_type": "code",
   "execution_count": 44,
   "metadata": {},
   "outputs": [
    {
     "name": "stdout",
     "output_type": "stream",
     "text": [
      "\n",
      " \n",
      "   Cell Contents\n",
      "|-------------------------|\n",
      "|                       N |\n",
      "|-------------------------|\n",
      "\n",
      " \n",
      "Total Observations in Table:  57084 \n",
      "\n",
      " \n",
      "                       | participants$treat.one.received \n",
      "participants$treat.one |     FALSE |      TRUE | Row Total | \n",
      "-----------------------|-----------|-----------|-----------|\n",
      "                     0 |     38056 |         0 |     38056 | \n",
      "-----------------------|-----------|-----------|-----------|\n",
      "                     1 |       249 |     18779 |     19028 | \n",
      "-----------------------|-----------|-----------|-----------|\n",
      "          Column Total |     38305 |     18779 |     57084 | \n",
      "-----------------------|-----------|-----------|-----------|\n",
      "\n",
      " \n",
      "\n",
      " \n",
      "   Cell Contents\n",
      "|-------------------------|\n",
      "|                       N |\n",
      "|-------------------------|\n",
      "\n",
      " \n",
      "Total Observations in Table:  57084 \n",
      "\n",
      " \n",
      "                       | participants$treat.two.received \n",
      "participants$treat.two |     FALSE |      TRUE | Row Total | \n",
      "-----------------------|-----------|-----------|-----------|\n",
      "                     0 |     38056 |         0 |     38056 | \n",
      "-----------------------|-----------|-----------|-----------|\n",
      "                     1 |       243 |     18785 |     19028 | \n",
      "-----------------------|-----------|-----------|-----------|\n",
      "          Column Total |     38299 |     18785 |     57084 | \n",
      "-----------------------|-----------|-----------|-----------|\n",
      "\n",
      " \n",
      "\n",
      " \n",
      "   Cell Contents\n",
      "|-------------------------|\n",
      "|                       N |\n",
      "|-------------------------|\n",
      "\n",
      " \n",
      "Total Observations in Table:  19028 \n",
      "\n",
      " \n",
      "                     | participants$control.accidentally.treated \n",
      "participants$control |     False |      True | Row Total | \n",
      "---------------------|-----------|-----------|-----------|\n",
      "                   0 |         0 |         0 |         0 | \n",
      "---------------------|-----------|-----------|-----------|\n",
      "                   1 |     18094 |       934 |     19028 | \n",
      "---------------------|-----------|-----------|-----------|\n",
      "        Column Total |     18094 |       934 |     19028 | \n",
      "---------------------|-----------|-----------|-----------|\n",
      "\n",
      " \n"
     ]
    }
   ],
   "source": [
    "CrossTable(participants$treat.one, participants$treat.one.received,\n",
    "           prop.t=FALSE, prop.r=FALSE, prop.c=FALSE, prop.chisq=FALSE)\n",
    "\n",
    "CrossTable(participants$treat.two, participants$treat.two.received,\n",
    "           prop.t=FALSE, prop.r=FALSE, prop.c=FALSE, prop.chisq=FALSE)\n",
    "\n",
    "CrossTable(participants$control, participants$control.accidentally.treated,\n",
    "           prop.t=FALSE, prop.r=FALSE, prop.c=FALSE, prop.chisq=FALSE)"
   ]
  },
  {
   "cell_type": "code",
   "execution_count": 45,
   "metadata": {},
   "outputs": [],
   "source": [
    "#model.1 = difference_in_means(seven.day.activation ~ treat.one, data =subset(participants, treat.two==0))\n",
    "#model.2 = difference_in_means(seven.day.activation ~ treat.two, data =subset(participants, control==0))\n"
   ]
  },
  {
   "cell_type": "markdown",
   "metadata": {},
   "source": [
    "### Seven Day Activation (CACE)"
   ]
  },
  {
   "cell_type": "code",
   "execution_count": 46,
   "metadata": {},
   "outputs": [
    {
     "data": {
      "text/html": [
       "<table>\n",
       "<thead><tr><th scope=col>term</th><th scope=col>estimate</th><th scope=col>std.error</th><th scope=col>statistic</th><th scope=col>p.value</th><th scope=col>conf.low</th><th scope=col>conf.high</th><th scope=col>df</th><th scope=col>outcome</th></tr></thead>\n",
       "<tbody>\n",
       "\t<tr><td>(Intercept)           </td><td> 0.37189397           </td><td>0.003481109           </td><td>106.8320453           </td><td>0.0000000             </td><td> 0.36507090           </td><td>0.37871703            </td><td>38054                 </td><td>seven.day.activation  </td></tr>\n",
       "\t<tr><td>treat.one.receivedTRUE</td><td>-0.00382325           </td><td>0.004950219           </td><td> -0.7723395           </td><td>0.4399182             </td><td>-0.01352581           </td><td>0.00587931            </td><td>38054                 </td><td>seven.day.activation  </td></tr>\n",
       "</tbody>\n",
       "</table>\n"
      ],
      "text/latex": [
       "\\begin{tabular}{r|lllllllll}\n",
       " term & estimate & std.error & statistic & p.value & conf.low & conf.high & df & outcome\\\\\n",
       "\\hline\n",
       "\t (Intercept)            &  0.37189397            & 0.003481109            & 106.8320453            & 0.0000000              &  0.36507090            & 0.37871703             & 38054                  & seven.day.activation  \\\\\n",
       "\t treat.one.receivedTRUE & -0.00382325            & 0.004950219            &  -0.7723395            & 0.4399182              & -0.01352581            & 0.00587931             & 38054                  & seven.day.activation  \\\\\n",
       "\\end{tabular}\n"
      ],
      "text/markdown": [
       "\n",
       "term | estimate | std.error | statistic | p.value | conf.low | conf.high | df | outcome | \n",
       "|---|---|\n",
       "| (Intercept)            |  0.37189397            | 0.003481109            | 106.8320453            | 0.0000000              |  0.36507090            | 0.37871703             | 38054                  | seven.day.activation   | \n",
       "| treat.one.receivedTRUE | -0.00382325            | 0.004950219            |  -0.7723395            | 0.4399182              | -0.01352581            | 0.00587931             | 38054                  | seven.day.activation   | \n",
       "\n",
       "\n"
      ],
      "text/plain": [
       "  term                   estimate    std.error   statistic   p.value  \n",
       "1 (Intercept)             0.37189397 0.003481109 106.8320453 0.0000000\n",
       "2 treat.one.receivedTRUE -0.00382325 0.004950219  -0.7723395 0.4399182\n",
       "  conf.low    conf.high  df    outcome             \n",
       "1  0.36507090 0.37871703 38054 seven.day.activation\n",
       "2 -0.01352581 0.00587931 38054 seven.day.activation"
      ]
     },
     "metadata": {},
     "output_type": "display_data"
    }
   ],
   "source": [
    "tidy(iv_robust(seven.day.activation ~ treat.one.received | treat.one.received + treat.one, data = subset(participants, treat.two==0)))"
   ]
  },
  {
   "cell_type": "code",
   "execution_count": 47,
   "metadata": {},
   "outputs": [
    {
     "data": {
      "text/html": [
       "<table>\n",
       "<thead><tr><th scope=col>term</th><th scope=col>estimate</th><th scope=col>std.error</th><th scope=col>statistic</th><th scope=col>p.value</th><th scope=col>conf.low</th><th scope=col>conf.high</th><th scope=col>df</th><th scope=col>outcome</th></tr></thead>\n",
       "<tbody>\n",
       "\t<tr><td>(Intercept)           </td><td> 0.371594624          </td><td>0.003481078           </td><td>106.7469863           </td><td>0.0000000             </td><td> 0.3647716            </td><td>0.378417629           </td><td>38054                 </td><td>seven.day.activation  </td></tr>\n",
       "\t<tr><td>treat.two.receivedTRUE</td><td>-0.004652915          </td><td>0.004948189           </td><td> -0.9403269           </td><td>0.3470559             </td><td>-0.0143515            </td><td>0.005045666           </td><td>38054                 </td><td>seven.day.activation  </td></tr>\n",
       "</tbody>\n",
       "</table>\n"
      ],
      "text/latex": [
       "\\begin{tabular}{r|lllllllll}\n",
       " term & estimate & std.error & statistic & p.value & conf.low & conf.high & df & outcome\\\\\n",
       "\\hline\n",
       "\t (Intercept)            &  0.371594624           & 0.003481078            & 106.7469863            & 0.0000000              &  0.3647716             & 0.378417629            & 38054                  & seven.day.activation  \\\\\n",
       "\t treat.two.receivedTRUE & -0.004652915           & 0.004948189            &  -0.9403269            & 0.3470559              & -0.0143515             & 0.005045666            & 38054                  & seven.day.activation  \\\\\n",
       "\\end{tabular}\n"
      ],
      "text/markdown": [
       "\n",
       "term | estimate | std.error | statistic | p.value | conf.low | conf.high | df | outcome | \n",
       "|---|---|\n",
       "| (Intercept)            |  0.371594624           | 0.003481078            | 106.7469863            | 0.0000000              |  0.3647716             | 0.378417629            | 38054                  | seven.day.activation   | \n",
       "| treat.two.receivedTRUE | -0.004652915           | 0.004948189            |  -0.9403269            | 0.3470559              | -0.0143515             | 0.005045666            | 38054                  | seven.day.activation   | \n",
       "\n",
       "\n"
      ],
      "text/plain": [
       "  term                   estimate     std.error   statistic   p.value  \n",
       "1 (Intercept)             0.371594624 0.003481078 106.7469863 0.0000000\n",
       "2 treat.two.receivedTRUE -0.004652915 0.004948189  -0.9403269 0.3470559\n",
       "  conf.low   conf.high   df    outcome             \n",
       "1  0.3647716 0.378417629 38054 seven.day.activation\n",
       "2 -0.0143515 0.005045666 38054 seven.day.activation"
      ]
     },
     "metadata": {},
     "output_type": "display_data"
    }
   ],
   "source": [
    "tidy(iv_robust(seven.day.activation ~ treat.two.received | treat.two.received + treat.two, data = subset(participants, treat.one==0)))"
   ]
  },
  {
   "cell_type": "markdown",
   "metadata": {},
   "source": [
    "### Labor Minutes"
   ]
  },
  {
   "cell_type": "code",
   "execution_count": 48,
   "metadata": {},
   "outputs": [],
   "source": [
    "participants$treat.one.2s.fitted <- fitted.values(lm(treat.one.received ~ treat.one, data=participants))\n",
    "participants$treat.two.2s.fitted <- fitted.values(lm(treat.two.received ~ treat.two, data=participants))"
   ]
  },
  {
   "cell_type": "code",
   "execution_count": 52,
   "metadata": {},
   "outputs": [
    {
     "data": {
      "text/plain": [
       "\n",
       "Call:\n",
       "glm.nb(formula = labor.minutes ~ treat.one.2s.fitted, data = subset(participants, \n",
       "    treat.two == 0), init.theta = 0.09098893265, link = log)\n",
       "\n",
       "Deviance Residuals: \n",
       "    Min       1Q   Median       3Q      Max  \n",
       "-1.0033  -1.0033  -0.9969  -0.2828  16.2504  \n",
       "\n",
       "Coefficients:\n",
       "                    Estimate Std. Error z value Pr(>|z|)    \n",
       "(Intercept)          3.13040    0.02408 129.996   <2e-16 ***\n",
       "treat.one.2s.fitted -0.07102    0.03451  -2.058   0.0396 *  \n",
       "---\n",
       "Signif. codes:  0 ‘***’ 0.001 ‘**’ 0.01 ‘*’ 0.05 ‘.’ 0.1 ‘ ’ 1\n",
       "\n",
       "(Dispersion parameter for Negative Binomial(0.091) family taken to be 1)\n",
       "\n",
       "    Null deviance: 28415  on 38055  degrees of freedom\n",
       "Residual deviance: 28411  on 38054  degrees of freedom\n",
       "AIC: 188681\n",
       "\n",
       "Number of Fisher Scoring iterations: 1\n",
       "\n",
       "\n",
       "              Theta:  0.090989 \n",
       "          Std. Err.:  0.000847 \n",
       "\n",
       " 2 x log-likelihood:  -188675.210000 "
      ]
     },
     "metadata": {},
     "output_type": "display_data"
    }
   ],
   "source": [
    "summary(glm.nb(labor.minutes ~ treat.one.2s.fitted, data=subset(participants, treat.two==0)))"
   ]
  },
  {
   "cell_type": "code",
   "execution_count": 54,
   "metadata": {},
   "outputs": [
    {
     "data": {
      "text/plain": [
       "\n",
       "Call:\n",
       "glm.nb(formula = labor.minutes ~ treat.two.2s.fitted, data = subset(participants, \n",
       "    treat.one == 0), init.theta = 0.09155927505, link = log)\n",
       "\n",
       "Deviance Residuals: \n",
       "    Min       1Q   Median       3Q      Max  \n",
       "-1.0059  -1.0059  -0.9948  -0.2727  15.4675  \n",
       "\n",
       "Coefficients:\n",
       "                    Estimate Std. Error z value Pr(>|z|)    \n",
       "(Intercept)          3.13040    0.02401 130.401  < 2e-16 ***\n",
       "treat.two.2s.fitted -0.12249    0.03439  -3.562 0.000369 ***\n",
       "---\n",
       "Signif. codes:  0 ‘***’ 0.001 ‘**’ 0.01 ‘*’ 0.05 ‘.’ 0.1 ‘ ’ 1\n",
       "\n",
       "(Dispersion parameter for Negative Binomial(0.0916) family taken to be 1)\n",
       "\n",
       "    Null deviance: 28413  on 38055  degrees of freedom\n",
       "Residual deviance: 28400  on 38054  degrees of freedom\n",
       "AIC: 188377\n",
       "\n",
       "Number of Fisher Scoring iterations: 1\n",
       "\n",
       "\n",
       "              Theta:  0.091559 \n",
       "          Std. Err.:  0.000855 \n",
       "\n",
       " 2 x log-likelihood:  -188370.596000 "
      ]
     },
     "metadata": {},
     "output_type": "display_data"
    }
   ],
   "source": [
    "summary(glm.nb(labor.minutes ~ treat.two.2s.fitted, data=subset(participants, treat.one==0)))"
   ]
  },
  {
   "cell_type": "code",
   "execution_count": 53,
   "metadata": {},
   "outputs": [
    {
     "data": {
      "text/plain": [
       "\n",
       "Call:\n",
       "glm.nb(formula = labor.minutes ~ treat.two.2s.fitted, data = subset(participants, \n",
       "    control == 0), init.theta = 0.09285682565, link = log)\n",
       "\n",
       "Deviance Residuals: \n",
       "    Min       1Q   Median       3Q      Max  \n",
       "-1.0053  -1.0053  -1.0006  -0.2746  16.4160  \n",
       "\n",
       "Coefficients:\n",
       "                    Estimate Std. Error z value Pr(>|z|)    \n",
       "(Intercept)          3.06031    0.02384 128.359   <2e-16 ***\n",
       "treat.two.2s.fitted -0.05150    0.03416  -1.508    0.132    \n",
       "---\n",
       "Signif. codes:  0 ‘***’ 0.001 ‘**’ 0.01 ‘*’ 0.05 ‘.’ 0.1 ‘ ’ 1\n",
       "\n",
       "(Dispersion parameter for Negative Binomial(0.0929) family taken to be 1)\n",
       "\n",
       "    Null deviance: 28469  on 38055  degrees of freedom\n",
       "Residual deviance: 28467  on 38054  degrees of freedom\n",
       "AIC: 188349\n",
       "\n",
       "Number of Fisher Scoring iterations: 1\n",
       "\n",
       "\n",
       "              Theta:  0.092857 \n",
       "          Std. Err.:  0.000867 \n",
       "\n",
       " 2 x log-likelihood:  -188343.183000 "
      ]
     },
     "metadata": {},
     "output_type": "display_data"
    }
   ],
   "source": [
    "summary(glm.nb(labor.minutes ~ treat.two.2s.fitted, data=subset(participants, control==0)))"
   ]
  },
  {
   "cell_type": "markdown",
   "metadata": {},
   "source": [
    "# Blog Post Descriptives"
   ]
  },
  {
   "cell_type": "markdown",
   "metadata": {},
   "source": [
    "### Followup analysis of differences in albor minutes among blocks that didn't include extreme values"
   ]
  },
  {
   "cell_type": "code",
   "execution_count": 91,
   "metadata": {},
   "outputs": [
    {
     "data": {
      "text/html": [
       "<ol class=list-inline>\n",
       "\t<li>122.553055555556</li>\n",
       "\t<li>129.474166666667</li>\n",
       "\t<li>132.411944444444</li>\n",
       "\t<li>144.227222222222</li>\n",
       "\t<li>148.873333333333</li>\n",
       "\t<li>150.838333333333</li>\n",
       "\t<li>155.943333333333</li>\n",
       "\t<li>269.727222222222</li>\n",
       "\t<li>502.405277777779</li>\n",
       "\t<li>520.036944444445</li>\n",
       "</ol>\n"
      ],
      "text/latex": [
       "\\begin{enumerate*}\n",
       "\\item 122.553055555556\n",
       "\\item 129.474166666667\n",
       "\\item 132.411944444444\n",
       "\\item 144.227222222222\n",
       "\\item 148.873333333333\n",
       "\\item 150.838333333333\n",
       "\\item 155.943333333333\n",
       "\\item 269.727222222222\n",
       "\\item 502.405277777779\n",
       "\\item 520.036944444445\n",
       "\\end{enumerate*}\n"
      ],
      "text/markdown": [
       "1. 122.553055555556\n",
       "2. 129.474166666667\n",
       "3. 132.411944444444\n",
       "4. 144.227222222222\n",
       "5. 148.873333333333\n",
       "6. 150.838333333333\n",
       "7. 155.943333333333\n",
       "8. 269.727222222222\n",
       "9. 502.405277777779\n",
       "10. 520.036944444445\n",
       "\n",
       "\n"
      ],
      "text/plain": [
       " [1] 122.5531 129.4742 132.4119 144.2272 148.8733 150.8383 155.9433 269.7272\n",
       " [9] 502.4053 520.0369"
      ]
     },
     "metadata": {},
     "output_type": "display_data"
    },
    {
     "name": "stdout",
     "output_type": "stream",
     "text": [
      "[1] \"Cutoff: 200 labor hours\"\n",
      "[1] \"Total Participants: 57084\"\n",
      "[1] \"Participants in blocks without extreme values: 57066\"\n"
     ]
    },
    {
     "data": {
      "text/plain": [
       "\n",
       "Call:\n",
       "glm.nb(formula = labor.minutes ~ factor(randomization.arm), data = subset(participants, \n",
       "    (randomization.block.id %in% extreme.lh.blocks) != TRUE), \n",
       "    init.theta = 0.09357365413, link = log)\n",
       "\n",
       "Deviance Residuals: \n",
       "    Min       1Q   Median       3Q      Max  \n",
       "-1.0045  -1.0037  -1.0010  -0.2692   9.1700  \n",
       "\n",
       "Coefficients:\n",
       "                            Estimate Std. Error z value Pr(>|z|)    \n",
       "(Intercept)                 3.018137   0.023757 127.044   <2e-16 ***\n",
       "factor(randomization.arm)1 -0.037600   0.033599  -1.119    0.263    \n",
       "factor(randomization.arm)2 -0.008482   0.033597  -0.252    0.801    \n",
       "---\n",
       "Signif. codes:  0 ‘***’ 0.001 ‘**’ 0.01 ‘*’ 0.05 ‘.’ 0.1 ‘ ’ 1\n",
       "\n",
       "(Dispersion parameter for Negative Binomial(0.0936) family taken to be 1)\n",
       "\n",
       "    Null deviance: 42654  on 57065  degrees of freedom\n",
       "Residual deviance: 42653  on 57063  degrees of freedom\n",
       "AIC: 281863\n",
       "\n",
       "Number of Fisher Scoring iterations: 1\n",
       "\n",
       "\n",
       "              Theta:  0.093574 \n",
       "          Std. Err.:  0.000715 \n",
       "\n",
       " 2 x log-likelihood:  -281854.598000 "
      ]
     },
     "metadata": {},
     "output_type": "display_data"
    }
   ],
   "source": [
    "tail(sort(participants$labor.hours.nontruncated), n=10)\n",
    "cutoff = 200\n",
    "extreme.lh.blocks <- unique(subset(participants, labor.hours.nontruncated>cutoff)$randomization.block.id)\n",
    "print(paste(\"Cutoff:\", cutoff, \"labor hours\"))\n",
    "print(paste(\"Total Participants:\", nrow(participants)))\n",
    "print(paste(\"Participants in blocks without extreme values:\", nrow(subset(participants, \n",
    "                                                                          (randomization.block.id %in% extreme.lh.blocks)!=TRUE))))\n",
    "\n",
    "\n",
    "\n",
    "summary(glm.nb(labor.minutes ~ factor(randomization.arm), data=subset(participants, \n",
    "                                                             (randomization.block.id %in% extreme.lh.blocks)!=TRUE)))"
   ]
  },
  {
   "cell_type": "code",
   "execution_count": 8,
   "metadata": {},
   "outputs": [
    {
     "name": "stdout",
     "output_type": "stream",
     "text": [
      "[1] \"Number of participants:\"\n"
     ]
    },
    {
     "data": {
      "text/html": [
       "57084"
      ],
      "text/latex": [
       "57084"
      ],
      "text/markdown": [
       "57084"
      ],
      "text/plain": [
       "[1] 57084"
      ]
     },
     "metadata": {},
     "output_type": "display_data"
    },
    {
     "name": "stdout",
     "output_type": "stream",
     "text": [
      "[1] \"Number who consented to take survey:\"\n"
     ]
    },
    {
     "data": {
      "text/html": [
       "<table>\n",
       "<thead><tr><th scope=col>Var1</th><th scope=col>Freq</th></tr></thead>\n",
       "<tbody>\n",
       "\t<tr><td>1   </td><td>1231</td></tr>\n",
       "</tbody>\n",
       "</table>\n"
      ],
      "text/latex": [
       "\\begin{tabular}{r|ll}\n",
       " Var1 & Freq\\\\\n",
       "\\hline\n",
       "\t 1    & 1231\\\\\n",
       "\\end{tabular}\n"
      ],
      "text/markdown": [
       "\n",
       "Var1 | Freq | \n",
       "|---|\n",
       "| 1    | 1231 | \n",
       "\n",
       "\n"
      ],
      "text/plain": [
       "  Var1 Freq\n",
       "1 1    1231"
      ]
     },
     "metadata": {},
     "output_type": "display_data"
    },
    {
     "name": "stdout",
     "output_type": "stream",
     "text": [
      "[1] \"Number who completed survey:\"\n"
     ]
    },
    {
     "data": {
      "text/html": [
       "<table>\n",
       "<thead><tr><th scope=col>Var1</th><th scope=col>Freq</th></tr></thead>\n",
       "<tbody>\n",
       "\t<tr><td>0  </td><td>377</td></tr>\n",
       "\t<tr><td>1  </td><td>854</td></tr>\n",
       "</tbody>\n",
       "</table>\n"
      ],
      "text/latex": [
       "\\begin{tabular}{r|ll}\n",
       " Var1 & Freq\\\\\n",
       "\\hline\n",
       "\t 0   & 377\\\\\n",
       "\t 1   & 854\\\\\n",
       "\\end{tabular}\n"
      ],
      "text/markdown": [
       "\n",
       "Var1 | Freq | \n",
       "|---|---|\n",
       "| 0   | 377 | \n",
       "| 1   | 854 | \n",
       "\n",
       "\n"
      ],
      "text/plain": [
       "  Var1 Freq\n",
       "1 0    377 \n",
       "2 1    854 "
      ]
     },
     "metadata": {},
     "output_type": "display_data"
    }
   ],
   "source": [
    "# number of participants\n",
    "print(\"Number of participants:\")\n",
    "nrow(participants)\n",
    "# number of survey takers\n",
    "print(\"Number who consented to take survey:\")\n",
    "as.data.frame(table(participants$survey.consent))\n",
    "print(\"Number who completed survey:\")\n",
    "as.data.frame(table(participants$complier))"
   ]
  },
  {
   "cell_type": "code",
   "execution_count": 48,
   "metadata": {},
   "outputs": [
    {
     "name": "stderr",
     "output_type": "stream",
     "text": [
      "Warning message:\n",
      "“Removed 1 rows containing missing values (geom_bar).”Warning message:\n",
      "“Removed 1 rows containing missing values (geom_bar).”"
     ]
    },
    {
     "data": {
      "image/png": "[encoded data removed]",
      "text/plain": [
       "plot without title"
      ]
     },
     "metadata": {},
     "output_type": "display_data"
    }
   ],
   "source": [
    "# survey outcome histograms\n",
    "# hist(complier.participants$efficacy)\n",
    "plot.efficacy = ggplot(complier.participants, aes(efficacy)) +\n",
    "    geom_histogram(binwidth=1,color=\"black\", fill=\"lightblue\") +\n",
    "    theme_minimal() +\n",
    "    ylim(0,400) +\n",
    "    labs(x = \"Agreement\", y = \"n\") +\n",
    "    ggtitle(\"Efficacy\")\n",
    "\n",
    "plot.friendliness = ggplot(complier.participants, aes(friendliness)) +\n",
    "    geom_histogram(binwidth=1,color=\"black\", fill=\"white\") +\n",
    "    theme_minimal() +\n",
    "    ylim(0,400) +\n",
    "    labs(x = \"Agreement\", y = \"n\") +\n",
    "    ggtitle(\"Friendliness\")\n",
    "\n",
    "plot.help = ggplot(complier.participants, aes(help)) +\n",
    "    geom_histogram(binwidth=1, color=\"black\", fill=\"lightblue\") +\n",
    "    theme_minimal() +\n",
    "    ylim(0,400) +\n",
    "    labs(x = \"Agreement\", y = \"n\") +\n",
    "    ggtitle(\"Help\")\n",
    "\n",
    "plot.role = ggplot(complier.participants, aes(role)) +\n",
    "    geom_histogram(binwidth=1, color=\"black\", fill=\"lightblue\") +\n",
    "    theme_minimal() +\n",
    "    ylim(0,400) +\n",
    "    labs(x = \"Agreement\", y = \"n\") +\n",
    "    ggtitle(\"Role\")\n",
    "\n",
    "plot.trust = ggplot(complier.participants, aes(trust)) +\n",
    "    geom_histogram(binwidth=1, color=\"black\", fill=\"lightblue\") +\n",
    "    theme_minimal() +\n",
    "    ylim(0,400) +\n",
    "    labs(x = \"Agreement\", y = \"n\") +\n",
    "    ggtitle(\"Trust\")\n",
    "\n",
    "plot.close.community = ggplot(complier.participants, aes(close.community)) +\n",
    "    geom_histogram(binwidth=1, color=\"black\", fill=\"lightblue\") +\n",
    "    theme_minimal() +\n",
    "    ylim(0,400) +\n",
    "    labs(x = \"Agreement\", y = \"n\") +\n",
    "    ggtitle(\"Close Community\")\n",
    "\n",
    "plot.close.individuals.1 = ggplot(complier.participants, aes(close.individuals.1)) +\n",
    "    geom_histogram(binwidth=1, color=\"black\", fill=\"lightblue\") +\n",
    "    theme_minimal() +\n",
    "    ylim(0,400) +\n",
    "    labs(x = \"Agreement\", y = \"n\") +\n",
    "    ggtitle(\"Close Individuals 1\")\n",
    "\n",
    "plot.close.individuals.2 = ggplot(complier.participants, aes(close.individuals.2)) +\n",
    "    geom_histogram(binwidth=1, color=\"black\", fill=\"lightblue\") +\n",
    "    theme_minimal() +\n",
    "    ylim(0,400) +\n",
    "    labs(x = \"Agreement\", y = \"n\") +\n",
    "    ggtitle(\"Close Individuals 2\")\n",
    "\n",
    "plot.close.individuals.3 = ggplot(complier.participants, aes(close.individuals.3)) +\n",
    "    geom_histogram(binwidth=1, color=\"black\", fill=\"lightblue\") +\n",
    "    theme_minimal() +\n",
    "    ylim(0,400) +\n",
    "    labs(x = \"Agreement\", y = \"n\") +\n",
    "    ggtitle(\"Close Individuals 3\")\n",
    "\n",
    "grid.arrange(plot.efficacy, plot.friendliness, plot.help, \n",
    "             plot.role, plot.trust, plot.close.community, \n",
    "             plot.close.individuals.1, plot.close.individuals.2, plot.close.individuals.3, ncol=3)"
   ]
  },
  {
   "cell_type": "code",
   "execution_count": null,
   "metadata": {},
   "outputs": [],
   "source": [
    "glm.nb(labor.minutes ~ factor(randomization.arm), data=participants)"
   ]
  }
 ],
 "metadata": {
  "kernelspec": {
   "display_name": "R",
   "language": "R",
   "name": "ir"
  },
  "language_info": {
   "codemirror_mode": "r",
   "file_extension": ".r",
   "mimetype": "text/x-r-source",
   "name": "R",
   "pygments_lexer": "r",
   "version": "3.6.3"
  }
 },
 "nbformat": 4,
 "nbformat_minor": 2
}
