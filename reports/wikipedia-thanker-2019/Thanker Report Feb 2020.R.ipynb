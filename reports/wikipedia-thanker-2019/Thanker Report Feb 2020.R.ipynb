{
 "cells": [
  {
   "cell_type": "markdown",
   "metadata": {},
   "source": [
    "# Thanker Experiment Report Feb 2020\n",
    "[J. Nathan Matias](https://natematias.com), [Citizens and Technology Lab](https://citizensandtech.org)\n",
    "\n",
    "\n",
    "### References\n",
    "* [Experiment Plan: The Effect of Sending Thanks on Wikipedia](https://osf.io/e5r3q/)\n"
   ]
  },
  {
   "cell_type": "markdown",
   "metadata": {},
   "source": [
    "# Analysis Code"
   ]
  },
  {
   "cell_type": "code",
   "execution_count": 442,
   "metadata": {},
   "outputs": [],
   "source": [
    "## Load Libraries\n",
    "library(ggplot2)\n",
    "library(ggpubr)  # contains ggarrange\n",
    "library(gmodels) # contains CrossTable\n",
    "library(estimatr)\n",
    "library(corrplot)\n",
    "library(lme4)\n",
    "library(broom)\n",
    "library(knitr)\n",
    "library(lmerTest)\n",
    "library(texreg)\n",
    "\n",
    "## Set visual style\n",
    "catpalette   <- c(\"#333333\", \"#ea5324\", \"#005073\", \"#7D868C\", \"#BDBBBB\", \"#F2F2F2\",\"#F6F2EB\")\n",
    "chartpalette <- c(\"#ea5324\", \"#005073\", \"#7D868C\", \"#333333\", \"#F2F2F2\",\"#BDBBBB\", \"#F6F2EB\")\n",
    "\n",
    "cat.theme <-  theme_bw() +\n",
    "              theme(plot.title = element_text(size=13, face=\"bold\", color=catpalette[3]),\n",
    "                    axis.title.x =element_text(size=10, hjust = -0.01, color = catpalette[1]),\n",
    "                    axis.title.y =element_text(size=10, color = catpalette[1]),\n",
    "                    panel.background = element_rect(fill=catpalette[6]))\n",
    "options(repr.plot.width=6, repr.plot.height=4.5)"
   ]
  },
  {
   "cell_type": "markdown",
   "metadata": {},
   "source": [
    "### Load Experiment Results Data"
   ]
  },
  {
   "cell_type": "code",
   "execution_count": 443,
   "metadata": {},
   "outputs": [],
   "source": [
    "data.dir = \"~/Tresors/CivilServant/projects/wikipedia-integration/gratitude-study/Data Drills/thanker_hardlaunch/post_experiment_analysis/\"\n",
    "filename = \"all-pre_and_post_treatment_vars_with_post_survey_R_columns.csv\"\n",
    "participant <- read.csv(paste(data.dir, filename, sep=\"\"))\n",
    "\n",
    "## 38 participants accessed & used the system before the experiment started\n",
    "## we have assigned them randomization.block.id = -1 and omitted them from the analysis\n",
    "participant <- subset(participant, randomization.block.id!=-1)\n",
    "\n",
    "participant$complier <- participant$complier == \"True\"\n",
    "participant$complier.int <- as.integer(participant$complier)\n",
    "participant$complier.app.int <- as.integer(participant$complier.app==\"True\")\n",
    "participant$complier.app.logged.in.int <- as.integer(participant$complier.app.logged.in==\"True\")\n",
    "participant$TREAT <- participant$randomization.arm\n",
    "\n",
    "## inclusive compliers are participants that:\n",
    "### among control, logged in\n",
    "### among treatment, completed the task\n",
    "participant$complier.app.inclusive <- (participant$T==1 & participant$complier.app==\"True\") | \n",
    "                                         (participant$TREAT==0 & participant$complier.app.logged.in==\"True\")\n",
    "\n",
    "\n",
    "participant$diff.labor.hours <- participant$labor.hours.56.post.treatment - participant$labor.hours.56.pre.treatment\n",
    "\n",
    "participant$diff.newcomer.capability <- participant$post.newcomer.capability - participant$pre.newcomer.capability\n",
    "participant$diff.newcomer.intent <- participant$post.newcomer.intent - participant$pre.newcomer.intent\n",
    "\n",
    "participant$diff.thanks.sent <- participant$wikithanks.56.post.treatment - participant$wikithanks.56.pre.treatment\n",
    "\n",
    "participant$diff.emotionally.draining <- participant$post.emotionally.draining - participant$pre.emotionally.draining\n",
    "participant$diff.monitoring.damaging.content <- participant$post.monitoring.damaging.content - participant$pre.monitoring.damaging.content\n",
    "participant$diff.mentoring <- participant$post.mentoring - participant$pre.mentoring\n",
    "\n",
    "## ZEROED OUT SURVEY PREDICTORS\n",
    "participant$pre.emotionally.draining.zeroed <- participant$pre.emotionally.draining-3\n",
    "participant$previous.positive.feeling.zeroed <- participant$previous.positive.feeling-3\n",
    "\n",
    "## individual participants that complied with the app\n",
    "behavioral.compliers.exclusive <- subset(participant, complier.app!=\"False\")\n",
    "behavioral.compliers.inclusive <- subset(participant, complier.app.inclusive)\n",
    "behavioral.compliers.login <- subset(participant, complier.app.logged.in!=\"False\")\n",
    "\n",
    "## individual participants that complied with the survey\n",
    "survey.compliers <- subset(participant, complier)\n",
    "\n",
    "## dataframe with a sum of how many block members complied\n",
    "behavioral.block.compliance <- aggregate(participant[c('complier.app.logged.in.int')], by=list(participant$randomization.block.id), FUN=sum)\n",
    "survey.block.compliance <- aggregate(participant[c('complier.int')], by=list(participant$randomization.block.id), FUN=sum)\n",
    "\n",
    "## accounts in blocks where every block participant complied with the app\n",
    "behavioral.block.compliers <- subset(participant, randomization.block.id %in% subset(behavioral.block.compliance, complier.app.logged.in.int==1)$Group.1)\n",
    "\n",
    "## accounts in blocks where every block participant complied with the survey\n",
    "survey.block.compliers <- subset(participant, randomization.block.id %in% subset(survey.block.compliance, complier.int==2)$Group.1)"
   ]
  },
  {
   "cell_type": "markdown",
   "metadata": {},
   "source": [
    "### Load Full Initial Survey Taking Group"
   ]
  },
  {
   "cell_type": "code",
   "execution_count": 444,
   "metadata": {},
   "outputs": [],
   "source": [
    "data.path <- \"~/Tresors/CivilServant/projects/wikipedia-integration/gratitude-study/Data Drills/thanker_hardlaunch/historical_survey_merged\"\n",
    "de.filename = \"de-merged-20190729.csv\"\n",
    "ar.filename = \"ar-merged-20190729.csv\"\n",
    "fa.filename = \"fa-merged-20190729.csv\"\n",
    "pl.filename = \"pl-merged-20190729.csv\"\n",
    "thankers.df <- rbind(read.csv(file.path(data.path,de.filename), sep=\",\"),\n",
    "                     read.csv(file.path(data.path,ar.filename), sep=\",\"),\n",
    "                     read.csv(file.path(data.path,pl.filename), sep=\",\"))\n",
    "fa.thankers.df <- read.csv(file.path(data.path,fa.filename), sep=\",\")\n",
    "\n",
    "\n",
    "thankers.df <- rbind(thankers.df, \n",
    "                 fa.thankers.df[colnames(thankers.df)])"
   ]
  },
  {
   "cell_type": "markdown",
   "metadata": {},
   "source": [
    "#### Zeroing 1-5 Scale Items About Activity into 0-4 scales for reporting\n",
    "Note: it's important to do this *after* calculting the \"diff\" variables for these items."
   ]
  },
  {
   "cell_type": "code",
   "execution_count": 445,
   "metadata": {},
   "outputs": [],
   "source": [
    "if(min(participant$pre.mentoring)==1){\n",
    "    participant$pre.mentoring <- participant$pre.mentoring -1\n",
    "}\n",
    "\n",
    "if(min(participant$pre.monitoring.damaging.content)==1){\n",
    "    participant$pre.monitoring.damaging.content <- participant$pre.monitoring.damaging.content -1\n",
    "}\n",
    "\n",
    "if(min(participant$pre.newcomer.capability)==1){\n",
    "    participant$pre.newcomer.capability <- participant$pre.newcomer.capability -1\n",
    "}\n",
    "\n",
    "if(min(participant$pre.newcomer.intent)==1){\n",
    "    participant$pre.newcomer.intent <- participant$pre.newcomer.intent -1\n",
    "}"
   ]
  },
  {
   "cell_type": "markdown",
   "metadata": {},
   "source": [
    "#### Monitoring-Mentoring Subgroups"
   ]
  },
  {
   "cell_type": "code",
   "execution_count": 446,
   "metadata": {},
   "outputs": [],
   "source": [
    "participant$mentor.monitor <- NA\n",
    "participant[(participant$pre.mentoring > 0 & \n",
    "            participant$pre.monitoring.damaging.content > 0),]$mentor.monitor <- \"Monitor & Mentor\"\n",
    "participant[(participant$pre.mentoring == 0 & \n",
    "            participant$pre.monitoring.damaging.content > 0),]$mentor.monitor <- \"Monitor Only\"\n",
    "participant[(participant$pre.mentoring > 0 & \n",
    "            participant$pre.monitoring.damaging.content == 0),]$mentor.monitor <- \"Mentor Only\"\n",
    "participant[(participant$pre.mentoring == 0 & \n",
    "            participant$pre.monitoring.damaging.content == 0),]$mentor.monitor <- \"Neither\"\n",
    "participant$mentor.monitor <- factor(participant$mentor.monitor)"
   ]
  },
  {
   "cell_type": "code",
   "execution_count": 447,
   "metadata": {},
   "outputs": [
    {
     "data": {
      "text/html": [
       "<dl class=dl-horizontal>\n",
       "\t<dt>Mentor Only</dt>\n",
       "\t\t<dd>12</dd>\n",
       "\t<dt>Monitor &amp; Mentor</dt>\n",
       "\t\t<dd>148</dd>\n",
       "\t<dt>Monitor Only</dt>\n",
       "\t\t<dd>150</dd>\n",
       "\t<dt>Neither</dt>\n",
       "\t\t<dd>90</dd>\n",
       "</dl>\n"
      ],
      "text/latex": [
       "\\begin{description*}\n",
       "\\item[Mentor Only] 12\n",
       "\\item[Monitor \\textbackslash{}\\& Mentor] 148\n",
       "\\item[Monitor Only] 150\n",
       "\\item[Neither] 90\n",
       "\\end{description*}\n"
      ],
      "text/markdown": [
       "Mentor Only\n",
       ":   12Monitor &amp;amp; Mentor\n",
       ":   148Monitor Only\n",
       ":   150Neither\n",
       ":   90\n",
       "\n"
      ],
      "text/plain": [
       "     Mentor Only Monitor & Mentor     Monitor Only          Neither \n",
       "              12              148              150               90 "
      ]
     },
     "metadata": {},
     "output_type": "display_data"
    }
   ],
   "source": [
    "summary(participant$mentor.monitor)"
   ]
  },
  {
   "cell_type": "markdown",
   "metadata": {},
   "source": [
    "# Introduction Analysis"
   ]
  },
  {
   "cell_type": "markdown",
   "metadata": {},
   "source": [
    "### Full Group Count"
   ]
  },
  {
   "cell_type": "code",
   "execution_count": 448,
   "metadata": {},
   "outputs": [
    {
     "data": {
      "text/html": [
       "447"
      ],
      "text/latex": [
       "447"
      ],
      "text/markdown": [
       "447"
      ],
      "text/plain": [
       "[1] 447"
      ]
     },
     "metadata": {},
     "output_type": "display_data"
    }
   ],
   "source": [
    "nrow(thankers.df)"
   ]
  },
  {
   "cell_type": "markdown",
   "metadata": {},
   "source": [
    "### Who Participated in the Study"
   ]
  },
  {
   "cell_type": "code",
   "execution_count": 449,
   "metadata": {},
   "outputs": [
    {
     "name": "stdout",
     "output_type": "stream",
     "text": [
      "[1] \"400 volunteers\"\n",
      "[1] \"238 accounts logged in\"\n",
      "[1] \"205 accounts in the 'inclusive' app sample\"\n",
      "[1] \"154 accounts in the 'exclusive' app sample\"\n",
      "[1] \"172 behavioral block compliers (logged in)\"\n",
      "[1] \"140 accounts completed post-survey\"\n",
      "[1] \"342 thanks sent\"\n",
      "[1] \"89 accounts sent thanks\"\n",
      "[1] \"489 accounts skipped\"\n"
     ]
    }
   ],
   "source": [
    "print(paste(nrow(participant), \"volunteers\"))\n",
    "print(paste(nrow(subset(participant, complier.app.logged.in==\"True\")), \"accounts logged in\"))\n",
    "print(paste(nrow(subset(participant, complier.app.inclusive)), \"accounts in the 'inclusive' app sample\"))\n",
    "print(paste(nrow(subset(participant, complier.app.int==1)), \"accounts in the 'exclusive' app sample\"))\n",
    "print(paste(nrow(behavioral.block.compliers), \"behavioral block compliers (logged in)\"))\n",
    "print(paste(nrow(subset(participant, complier.survey==\"True\")), \"accounts completed post-survey\"))\n",
    "print(paste(sum(participant$num.thank.actions, na.rm=TRUE), \"thanks sent\"))\n",
    "print(paste(sum(as.integer(participant$num.thank.actions > 0), na.rm=TRUE), \"accounts sent thanks\"))\n",
    "print(paste(sum(participant$num.thankees.skipped, na.rm=TRUE), \"accounts skipped\"))"
   ]
  },
  {
   "cell_type": "code",
   "execution_count": 451,
   "metadata": {},
   "outputs": [
    {
     "name": "stdout",
     "output_type": "stream",
     "text": [
      "[1] \"Year joined\"\n"
     ]
    },
    {
     "data": {
      "text/plain": [
       "   Min. 1st Qu.  Median    Mean 3rd Qu.    Max. \n",
       "  0.000   5.000   9.000   8.498  12.000  17.000 "
      ]
     },
     "metadata": {},
     "output_type": "display_data"
    },
    {
     "name": "stdout",
     "output_type": "stream",
     "text": [
      "[1] \"Edits in the 56 days before treatment\"\n"
     ]
    },
    {
     "data": {
      "text/plain": [
       "   Min. 1st Qu.  Median    Mean 3rd Qu.    Max. \n",
       "   0.00    8.75   53.50  194.56  210.00 4109.00 "
      ]
     },
     "metadata": {},
     "output_type": "display_data"
    },
    {
     "name": "stdout",
     "output_type": "stream",
     "text": [
      "[1] \"Labor Hours in the 56 days before treatment\"\n"
     ]
    },
    {
     "data": {
      "text/plain": [
       "    Min.  1st Qu.   Median     Mean  3rd Qu.     Max. \n",
       "  0.0000   0.9106   6.4926  22.1485  27.7571 299.2500 "
      ]
     },
     "metadata": {},
     "output_type": "display_data"
    },
    {
     "name": "stdout",
     "output_type": "stream",
     "text": [
      "[1] \"Reverts in the 56 days before treatment\"\n"
     ]
    },
    {
     "data": {
      "text/plain": [
       "   Mode   FALSE    TRUE \n",
       "logical     182     218 "
      ]
     },
     "metadata": {},
     "output_type": "display_data"
    },
    {
     "data": {
      "image/png": "[encoded data removed]",
      "text/plain": [
       "Plot with title “Histogram of participant$year.joined”"
      ]
     },
     "metadata": {},
     "output_type": "display_data"
    }
   ],
   "source": [
    "print(\"Year joined\")\n",
    "summary(2019-participant$year.joined)\n",
    "hist(participant$year.joined)\n",
    "print(\"Edits in the 56 days before treatment\")\n",
    "summary(participant$total.edits.56.pre.treatment)\n",
    "\n",
    "print(\"Labor Hours in the 56 days before treatment\")\n",
    "summary(participant$labor.hours.56.pre.treatment)\n",
    "\n",
    "\n",
    "print(\"Reverts in the 56 days before treatment\")\n",
    "summary(participant$num.reverts.56.pre.treatment>0)"
   ]
  },
  {
   "cell_type": "markdown",
   "metadata": {},
   "source": [
    "## Mentoring and Monitoring"
   ]
  },
  {
   "cell_type": "markdown",
   "metadata": {},
   "source": [
    "### Baseline Rates of Monitoring and Mentoring, Comparing Rates"
   ]
  },
  {
   "cell_type": "code",
   "execution_count": 365,
   "metadata": {},
   "outputs": [
    {
     "data": {
      "text/plain": [
       "   Min. 1st Qu.  Median    Mean 3rd Qu.    Max. \n",
       " 0.0000  0.0000  0.0000  0.5725  1.0000  4.0000 "
      ]
     },
     "metadata": {},
     "output_type": "display_data"
    },
    {
     "data": {
      "text/plain": [
       "   Min. 1st Qu.  Median    Mean 3rd Qu.    Max. \n",
       "  0.000   0.000   1.000   1.337   2.000   4.000 "
      ]
     },
     "metadata": {},
     "output_type": "display_data"
    },
    {
     "data": {
      "text/plain": [
       "   Mode   FALSE    TRUE \n",
       "logical     393       7 "
      ]
     },
     "metadata": {},
     "output_type": "display_data"
    },
    {
     "data": {
      "text/plain": [
       "   Mode   FALSE    TRUE \n",
       "logical     385      15 "
      ]
     },
     "metadata": {},
     "output_type": "display_data"
    },
    {
     "data": {
      "text/plain": [
       "\n",
       "\tWelch Two Sample t-test\n",
       "\n",
       "data:  participant$pre.mentoring and participant$pre.monitoring\n",
       "t = -10.769, df = 752.71, p-value < 2.2e-16\n",
       "alternative hypothesis: true difference in means is not equal to 0\n",
       "95 percent confidence interval:\n",
       " -0.9044501 -0.6255499\n",
       "sample estimates:\n",
       "mean of x mean of y \n",
       "   0.5725    1.3375 \n"
      ]
     },
     "metadata": {},
     "output_type": "display_data"
    }
   ],
   "source": [
    "summary((participant$pre.mentoring))\n",
    "summary((participant$pre.monitoring))\n",
    "summary(participant$pre.mentoring>3)\n",
    "summary(participant$pre.monitoring>3)\n",
    "\n",
    "t.test(participant$pre.mentoring, participant$pre.monitoring)"
   ]
  },
  {
   "cell_type": "markdown",
   "metadata": {},
   "source": [
    "### Correlations Between Supportive Activity, Monitoring Activity, and Mentoring Activity"
   ]
  },
  {
   "cell_type": "code",
   "execution_count": 366,
   "metadata": {},
   "outputs": [
    {
     "name": "stdout",
     "output_type": "stream",
     "text": [
      "[1] \"60% of participants report never doing any mentoring\"\n",
      "[1] \"25.5% of participants report never doing any monitoring\"\n",
      "[1] \"50% of participants who monitor report never doing any mentoring\"\n",
      "[1] \"---\"\n",
      "[1] \"22% of participants report never doing any mentoring or monitoring\"\n",
      "[1] \"37% of participants monitor but never do any mentoring\"\n",
      "[1] \"37% of participants monitor and mentor\"\n",
      "[1] \"3% of participants mentor but not monitor\"\n"
     ]
    }
   ],
   "source": [
    "print(paste(\n",
    "    nrow(subset(participant, pre.mentoring==0)) / nrow(participant)*100, \"%\",\n",
    "    \" of participants report never doing any mentoring\",\n",
    "    sep=\"\"))\n",
    "\n",
    "print(paste(\n",
    "    nrow(subset(participant, pre.monitoring.damaging.content==0)) / nrow(participant)*100, \"%\",\n",
    "    \" of participants report never doing any monitoring\",\n",
    "    sep=\"\"))\n",
    "\n",
    "print(paste(\n",
    "    as.integer(nrow(subset(participant, pre.monitoring.damaging.content>0 & pre.mentoring==0)) / nrow(subset(participant, pre.monitoring.damaging.content>0))*100), \"%\",\n",
    "    \" of participants who monitor report never doing any mentoring\",\n",
    "    sep=\"\"))\n",
    "print(\"---\")\n",
    "print(paste(\n",
    "    as.integer(nrow(subset(participant, pre.monitoring.damaging.content==0 & pre.mentoring==0)) / nrow(participant)*100), \"%\",\n",
    "    \" of participants report never doing any mentoring or monitoring\",\n",
    "    sep=\"\"))\n",
    "\n",
    "\n",
    "print(paste(\n",
    "    as.integer(nrow(subset(participant, pre.monitoring.damaging.content>0 & pre.mentoring==0)) / nrow(participant)*100), \"%\",\n",
    "    \" of participants monitor but never do any mentoring\",\n",
    "    sep=\"\"))\n",
    "\n",
    "print(paste(\n",
    "    as.integer(nrow(subset(participant, pre.monitoring.damaging.content>0 & pre.mentoring>0)) / nrow(participant)*100), \"%\",\n",
    "    \" of participants monitor and mentor\",\n",
    "    sep=\"\"))\n",
    "\n",
    "print(paste(\n",
    "    as.integer(nrow(subset(participant, pre.monitoring.damaging.content==0 & pre.mentoring>0)) / nrow(participant)*100), \"%\",\n",
    "    \" of participants mentor but not monitor\",\n",
    "    sep=\"\"))"
   ]
  },
  {
   "cell_type": "code",
   "execution_count": 367,
   "metadata": {},
   "outputs": [
    {
     "name": "stdout",
     "output_type": "stream",
     "text": [
      "[1] \"fa\"\n",
      "[1] \"58% of participants report doing some mentoring\"\n",
      "[1] \"----\"\n",
      "[1] \"de\"\n",
      "[1] \"37% of participants report doing some mentoring\"\n",
      "[1] \"----\"\n",
      "[1] \"pl\"\n",
      "[1] \"40% of participants report doing some mentoring\"\n",
      "[1] \"----\"\n"
     ]
    }
   ],
   "source": [
    "for(l in unique(participant$lang)){\n",
    "    print(l)\n",
    "    print(paste(\n",
    "    round(nrow(subset(participant, pre.mentoring>0 & lang==l)) / nrow(subset(participant, lang==l))*100), \"%\",\n",
    "    \" of participants report doing some mentoring\",\n",
    "    sep=\"\"))\n",
    "\n",
    "    print(\"----\")\n",
    "}"
   ]
  },
  {
   "cell_type": "code",
   "execution_count": 601,
   "metadata": {},
   "outputs": [
    {
     "data": {
      "text/html": [
       "<table>\n",
       "<thead><tr><th scope=col>Group.1</th><th scope=col>num.reverts.56.pre.treatment</th><th scope=col>previous.supportive.actions</th><th scope=col>labor.hours.56.pre.treatment</th><th scope=col>pre.emotionally.draining</th><th scope=col>pre.newcomer.intent</th><th scope=col>pre.newcomer.capability</th></tr></thead>\n",
       "<tbody>\n",
       "\t<tr><td>Mentor Only     </td><td>30.250000       </td><td>36.75000        </td><td>16.52424        </td><td>2.250000        </td><td>2.916667        </td><td>3.000000        </td></tr>\n",
       "\t<tr><td>Monitor &amp; Mentor</td><td>22.155405           </td><td>56.38514            </td><td>34.05849            </td><td>2.371622            </td><td>2.655405            </td><td>2.081081            </td></tr>\n",
       "\t<tr><td>Monitor Only    </td><td> 4.173333       </td><td>19.02000        </td><td>14.67421        </td><td>2.246667        </td><td>2.673333        </td><td>2.053333        </td></tr>\n",
       "\t<tr><td>Neither         </td><td> 6.777778       </td><td>13.24444        </td><td>15.77021        </td><td>1.955556        </td><td>2.844444        </td><td>2.022222        </td></tr>\n",
       "</tbody>\n",
       "</table>\n"
      ],
      "text/latex": [
       "\\begin{tabular}{r|lllllll}\n",
       " Group.1 & num.reverts.56.pre.treatment & previous.supportive.actions & labor.hours.56.pre.treatment & pre.emotionally.draining & pre.newcomer.intent & pre.newcomer.capability\\\\\n",
       "\\hline\n",
       "\t Mentor Only      & 30.250000        & 36.75000         & 16.52424         & 2.250000         & 2.916667         & 3.000000        \\\\\n",
       "\t Monitor \\& Mentor & 22.155405          & 56.38514           & 34.05849           & 2.371622           & 2.655405           & 2.081081          \\\\\n",
       "\t Monitor Only     &  4.173333        & 19.02000         & 14.67421         & 2.246667         & 2.673333         & 2.053333        \\\\\n",
       "\t Neither          &  6.777778        & 13.24444         & 15.77021         & 1.955556         & 2.844444         & 2.022222        \\\\\n",
       "\\end{tabular}\n"
      ],
      "text/markdown": [
       "\n",
       "Group.1 | num.reverts.56.pre.treatment | previous.supportive.actions | labor.hours.56.pre.treatment | pre.emotionally.draining | pre.newcomer.intent | pre.newcomer.capability | \n",
       "|---|---|---|---|\n",
       "| Mentor Only      | 30.250000        | 36.75000         | 16.52424         | 2.250000         | 2.916667         | 3.000000         | \n",
       "| Monitor & Mentor | 22.155405        | 56.38514         | 34.05849         | 2.371622         | 2.655405         | 2.081081         | \n",
       "| Monitor Only     |  4.173333        | 19.02000         | 14.67421         | 2.246667         | 2.673333         | 2.053333         | \n",
       "| Neither          |  6.777778        | 13.24444         | 15.77021         | 1.955556         | 2.844444         | 2.022222         | \n",
       "\n",
       "\n"
      ],
      "text/plain": [
       "  Group.1          num.reverts.56.pre.treatment previous.supportive.actions\n",
       "1 Mentor Only      30.250000                    36.75000                   \n",
       "2 Monitor & Mentor 22.155405                    56.38514                   \n",
       "3 Monitor Only      4.173333                    19.02000                   \n",
       "4 Neither           6.777778                    13.24444                   \n",
       "  labor.hours.56.pre.treatment pre.emotionally.draining pre.newcomer.intent\n",
       "1 16.52424                     2.250000                 2.916667           \n",
       "2 34.05849                     2.371622                 2.655405           \n",
       "3 14.67421                     2.246667                 2.673333           \n",
       "4 15.77021                     1.955556                 2.844444           \n",
       "  pre.newcomer.capability\n",
       "1 3.000000               \n",
       "2 2.081081               \n",
       "3 2.053333               \n",
       "4 2.022222               "
      ]
     },
     "metadata": {},
     "output_type": "display_data"
    },
    {
     "name": "stdout",
     "output_type": "stream",
     "text": [
      "[1] \"DE\"\n"
     ]
    },
    {
     "data": {
      "text/html": [
       "<table>\n",
       "<thead><tr><th scope=col>Group.1</th><th scope=col>num.reverts.56.pre.treatment</th><th scope=col>previous.supportive.actions</th><th scope=col>labor.hours.56.pre.treatment</th><th scope=col>pre.emotionally.draining</th><th scope=col>pre.newcomer.intent</th><th scope=col>pre.newcomer.capability</th></tr></thead>\n",
       "<tbody>\n",
       "\t<tr><td>Mentor Only     </td><td>28.125000       </td><td>19.75000        </td><td>13.93889        </td><td>2.000000        </td><td>2.875000        </td><td>2.750000        </td></tr>\n",
       "\t<tr><td>Monitor &amp; Mentor</td><td>14.113402           </td><td>53.45361            </td><td>34.86501            </td><td>1.969072            </td><td>2.773196            </td><td>2.154639            </td></tr>\n",
       "\t<tr><td>Monitor Only    </td><td> 2.160377       </td><td>16.00000        </td><td>12.33559        </td><td>1.943396        </td><td>2.820755        </td><td>2.047170        </td></tr>\n",
       "\t<tr><td>Neither         </td><td> 7.786667       </td><td>15.32000        </td><td>17.94439        </td><td>1.946667        </td><td>2.880000        </td><td>1.920000        </td></tr>\n",
       "</tbody>\n",
       "</table>\n"
      ],
      "text/latex": [
       "\\begin{tabular}{r|lllllll}\n",
       " Group.1 & num.reverts.56.pre.treatment & previous.supportive.actions & labor.hours.56.pre.treatment & pre.emotionally.draining & pre.newcomer.intent & pre.newcomer.capability\\\\\n",
       "\\hline\n",
       "\t Mentor Only      & 28.125000        & 19.75000         & 13.93889         & 2.000000         & 2.875000         & 2.750000        \\\\\n",
       "\t Monitor \\& Mentor & 14.113402          & 53.45361           & 34.86501           & 1.969072           & 2.773196           & 2.154639          \\\\\n",
       "\t Monitor Only     &  2.160377        & 16.00000         & 12.33559         & 1.943396         & 2.820755         & 2.047170        \\\\\n",
       "\t Neither          &  7.786667        & 15.32000         & 17.94439         & 1.946667         & 2.880000         & 1.920000        \\\\\n",
       "\\end{tabular}\n"
      ],
      "text/markdown": [
       "\n",
       "Group.1 | num.reverts.56.pre.treatment | previous.supportive.actions | labor.hours.56.pre.treatment | pre.emotionally.draining | pre.newcomer.intent | pre.newcomer.capability | \n",
       "|---|---|---|---|\n",
       "| Mentor Only      | 28.125000        | 19.75000         | 13.93889         | 2.000000         | 2.875000         | 2.750000         | \n",
       "| Monitor & Mentor | 14.113402        | 53.45361         | 34.86501         | 1.969072         | 2.773196         | 2.154639         | \n",
       "| Monitor Only     |  2.160377        | 16.00000         | 12.33559         | 1.943396         | 2.820755         | 2.047170         | \n",
       "| Neither          |  7.786667        | 15.32000         | 17.94439         | 1.946667         | 2.880000         | 1.920000         | \n",
       "\n",
       "\n"
      ],
      "text/plain": [
       "  Group.1          num.reverts.56.pre.treatment previous.supportive.actions\n",
       "1 Mentor Only      28.125000                    19.75000                   \n",
       "2 Monitor & Mentor 14.113402                    53.45361                   \n",
       "3 Monitor Only      2.160377                    16.00000                   \n",
       "4 Neither           7.786667                    15.32000                   \n",
       "  labor.hours.56.pre.treatment pre.emotionally.draining pre.newcomer.intent\n",
       "1 13.93889                     2.000000                 2.875000           \n",
       "2 34.86501                     1.969072                 2.773196           \n",
       "3 12.33559                     1.943396                 2.820755           \n",
       "4 17.94439                     1.946667                 2.880000           \n",
       "  pre.newcomer.capability\n",
       "1 2.750000               \n",
       "2 2.154639               \n",
       "3 2.047170               \n",
       "4 1.920000               "
      ]
     },
     "metadata": {},
     "output_type": "display_data"
    },
    {
     "name": "stdout",
     "output_type": "stream",
     "text": [
      "[1] \"FA\"\n"
     ]
    },
    {
     "data": {
      "text/html": [
       "<table>\n",
       "<thead><tr><th scope=col>Group.1</th><th scope=col>num.reverts.56.pre.treatment</th><th scope=col>previous.supportive.actions</th><th scope=col>labor.hours.56.pre.treatment</th><th scope=col>pre.emotionally.draining</th><th scope=col>pre.newcomer.intent</th><th scope=col>pre.newcomer.capability</th></tr></thead>\n",
       "<tbody>\n",
       "\t<tr><td>Mentor Only     </td><td> 1.00000        </td><td>41.00000        </td><td>19.40111        </td><td>1.000000        </td><td>3.000000        </td><td>4.00000         </td></tr>\n",
       "\t<tr><td>Monitor &amp; Mentor</td><td>42.93103            </td><td>73.10345            </td><td>30.42717            </td><td>3.551724            </td><td>2.310345            </td><td>1.62069             </td></tr>\n",
       "\t<tr><td>Monitor Only    </td><td> 7.52381        </td><td>24.76190        </td><td>15.85205        </td><td>3.190476        </td><td>2.095238        </td><td>1.52381         </td></tr>\n",
       "\t<tr><td>Neither         </td><td> 0.00000        </td><td> 0.00000        </td><td> 0.00000        </td><td>2.000000        </td><td>2.000000        </td><td>1.00000         </td></tr>\n",
       "</tbody>\n",
       "</table>\n"
      ],
      "text/latex": [
       "\\begin{tabular}{r|lllllll}\n",
       " Group.1 & num.reverts.56.pre.treatment & previous.supportive.actions & labor.hours.56.pre.treatment & pre.emotionally.draining & pre.newcomer.intent & pre.newcomer.capability\\\\\n",
       "\\hline\n",
       "\t Mentor Only      &  1.00000         & 41.00000         & 19.40111         & 1.000000         & 3.000000         & 4.00000         \\\\\n",
       "\t Monitor \\& Mentor & 42.93103           & 73.10345           & 30.42717           & 3.551724           & 2.310345           & 1.62069           \\\\\n",
       "\t Monitor Only     &  7.52381         & 24.76190         & 15.85205         & 3.190476         & 2.095238         & 1.52381         \\\\\n",
       "\t Neither          &  0.00000         &  0.00000         &  0.00000         & 2.000000         & 2.000000         & 1.00000         \\\\\n",
       "\\end{tabular}\n"
      ],
      "text/markdown": [
       "\n",
       "Group.1 | num.reverts.56.pre.treatment | previous.supportive.actions | labor.hours.56.pre.treatment | pre.emotionally.draining | pre.newcomer.intent | pre.newcomer.capability | \n",
       "|---|---|---|---|\n",
       "| Mentor Only      |  1.00000         | 41.00000         | 19.40111         | 1.000000         | 3.000000         | 4.00000          | \n",
       "| Monitor & Mentor | 42.93103         | 73.10345         | 30.42717         | 3.551724         | 2.310345         | 1.62069          | \n",
       "| Monitor Only     |  7.52381         | 24.76190         | 15.85205         | 3.190476         | 2.095238         | 1.52381          | \n",
       "| Neither          |  0.00000         |  0.00000         |  0.00000         | 2.000000         | 2.000000         | 1.00000          | \n",
       "\n",
       "\n"
      ],
      "text/plain": [
       "  Group.1          num.reverts.56.pre.treatment previous.supportive.actions\n",
       "1 Mentor Only       1.00000                     41.00000                   \n",
       "2 Monitor & Mentor 42.93103                     73.10345                   \n",
       "3 Monitor Only      7.52381                     24.76190                   \n",
       "4 Neither           0.00000                      0.00000                   \n",
       "  labor.hours.56.pre.treatment pre.emotionally.draining pre.newcomer.intent\n",
       "1 19.40111                     1.000000                 3.000000           \n",
       "2 30.42717                     3.551724                 2.310345           \n",
       "3 15.85205                     3.190476                 2.095238           \n",
       "4  0.00000                     2.000000                 2.000000           \n",
       "  pre.newcomer.capability\n",
       "1 4.00000                \n",
       "2 1.62069                \n",
       "3 1.52381                \n",
       "4 1.00000                "
      ]
     },
     "metadata": {},
     "output_type": "display_data"
    },
    {
     "name": "stdout",
     "output_type": "stream",
     "text": [
      "[1] \"PL\"\n"
     ]
    },
    {
     "data": {
      "text/html": [
       "<table>\n",
       "<thead><tr><th scope=col>Group.1</th><th scope=col>num.reverts.56.pre.treatment</th><th scope=col>previous.supportive.actions</th><th scope=col>labor.hours.56.pre.treatment</th><th scope=col>pre.emotionally.draining</th><th scope=col>pre.newcomer.intent</th><th scope=col>pre.newcomer.capability</th></tr></thead>\n",
       "<tbody>\n",
       "\t<tr><td>Mentor Only     </td><td>45.666667       </td><td>80.666667       </td><td>22.459537       </td><td>3.333333        </td><td>3.000000        </td><td>3.333333        </td></tr>\n",
       "\t<tr><td>Monitor &amp; Mentor</td><td>30.227273           </td><td>47.272727           </td><td>35.289230           </td><td>2.590909            </td><td>2.590909            </td><td>2.363636            </td></tr>\n",
       "\t<tr><td>Monitor Only    </td><td>10.391304       </td><td>27.695652       </td><td>24.376751       </td><td>2.782609        </td><td>2.521739        </td><td>2.565217        </td></tr>\n",
       "\t<tr><td>Neither         </td><td> 1.857143       </td><td> 3.071429       </td><td> 5.249286       </td><td>2.000000        </td><td>2.714286        </td><td>2.642857        </td></tr>\n",
       "</tbody>\n",
       "</table>\n"
      ],
      "text/latex": [
       "\\begin{tabular}{r|lllllll}\n",
       " Group.1 & num.reverts.56.pre.treatment & previous.supportive.actions & labor.hours.56.pre.treatment & pre.emotionally.draining & pre.newcomer.intent & pre.newcomer.capability\\\\\n",
       "\\hline\n",
       "\t Mentor Only      & 45.666667        & 80.666667        & 22.459537        & 3.333333         & 3.000000         & 3.333333        \\\\\n",
       "\t Monitor \\& Mentor & 30.227273          & 47.272727          & 35.289230          & 2.590909           & 2.590909           & 2.363636          \\\\\n",
       "\t Monitor Only     & 10.391304        & 27.695652        & 24.376751        & 2.782609         & 2.521739         & 2.565217        \\\\\n",
       "\t Neither          &  1.857143        &  3.071429        &  5.249286        & 2.000000         & 2.714286         & 2.642857        \\\\\n",
       "\\end{tabular}\n"
      ],
      "text/markdown": [
       "\n",
       "Group.1 | num.reverts.56.pre.treatment | previous.supportive.actions | labor.hours.56.pre.treatment | pre.emotionally.draining | pre.newcomer.intent | pre.newcomer.capability | \n",
       "|---|---|---|---|\n",
       "| Mentor Only      | 45.666667        | 80.666667        | 22.459537        | 3.333333         | 3.000000         | 3.333333         | \n",
       "| Monitor & Mentor | 30.227273        | 47.272727        | 35.289230        | 2.590909         | 2.590909         | 2.363636         | \n",
       "| Monitor Only     | 10.391304        | 27.695652        | 24.376751        | 2.782609         | 2.521739         | 2.565217         | \n",
       "| Neither          |  1.857143        |  3.071429        |  5.249286        | 2.000000         | 2.714286         | 2.642857         | \n",
       "\n",
       "\n"
      ],
      "text/plain": [
       "  Group.1          num.reverts.56.pre.treatment previous.supportive.actions\n",
       "1 Mentor Only      45.666667                    80.666667                  \n",
       "2 Monitor & Mentor 30.227273                    47.272727                  \n",
       "3 Monitor Only     10.391304                    27.695652                  \n",
       "4 Neither           1.857143                     3.071429                  \n",
       "  labor.hours.56.pre.treatment pre.emotionally.draining pre.newcomer.intent\n",
       "1 22.459537                    3.333333                 3.000000           \n",
       "2 35.289230                    2.590909                 2.590909           \n",
       "3 24.376751                    2.782609                 2.521739           \n",
       "4  5.249286                    2.000000                 2.714286           \n",
       "  pre.newcomer.capability\n",
       "1 3.333333               \n",
       "2 2.363636               \n",
       "3 2.565217               \n",
       "4 2.642857               "
      ]
     },
     "metadata": {},
     "output_type": "display_data"
    }
   ],
   "source": [
    "#CrossTable(participant$mentor.monitor, participant$lang,prop.chisq = FALSE ,prop.t=FALSE)\n",
    "#participant$total.edits.56.pre.treatment\n",
    "aggregate(participant[c(\"num.reverts.56.pre.treatment\", \n",
    "                        \"previous.supportive.actions\", \n",
    "                        \"labor.hours.56.pre.treatment\",\n",
    "                        \"pre.emotionally.draining\",\n",
    "                        \"pre.newcomer.intent\",\n",
    "                        \"pre.newcomer.capability\")], by=list(participant$mentor.monitor), FUN=mean)\n",
    "\n",
    "print(\"DE\")\n",
    "aggregate(subset(participant, lang==\"de\")[c(\"num.reverts.56.pre.treatment\", \n",
    "                        \"previous.supportive.actions\", \n",
    "                        \"labor.hours.56.pre.treatment\",\n",
    "                        \"pre.emotionally.draining\",\n",
    "                        \"pre.newcomer.intent\",\n",
    "                        \"pre.newcomer.capability\")], by=list(subset(participant, lang==\"de\")$mentor.monitor), FUN=mean)\n",
    "print(\"FA\")\n",
    "aggregate(subset(participant, lang==\"fa\")[c(\"num.reverts.56.pre.treatment\", \n",
    "                        \"previous.supportive.actions\", \n",
    "                        \"labor.hours.56.pre.treatment\",\n",
    "                        \"pre.emotionally.draining\",\n",
    "                        \"pre.newcomer.intent\",\n",
    "                        \"pre.newcomer.capability\")], by=list(subset(participant, lang==\"fa\")$mentor.monitor), FUN=mean)\n",
    "\n",
    "print(\"PL\")\n",
    "aggregate(subset(participant, lang==\"pl\")[c(\"num.reverts.56.pre.treatment\", \n",
    "                        \"previous.supportive.actions\", \n",
    "                        \"labor.hours.56.pre.treatment\",\n",
    "                        \"pre.emotionally.draining\",\n",
    "                        \"pre.newcomer.intent\",\n",
    "                        \"pre.newcomer.capability\")], by=list(subset(participant, lang==\"pl\")$mentor.monitor), FUN=mean)\n"
   ]
  },
  {
   "cell_type": "code",
   "execution_count": 122,
   "metadata": {},
   "outputs": [],
   "source": [
    "# ## comparing mentors to monitors in the time they spend monitoring damaging content\n",
    "# mentors <- subset(participant, pre.mentoring>0)\n",
    "# monitors <- subset(participant, pre.mentoring==0 & pre.monitoring.damaging.content>0)\n",
    "\n",
    "# t.test(mentors$pre.monitoring.damaging.content, monitors$pre.monitoring.damaging.content)"
   ]
  },
  {
   "cell_type": "code",
   "execution_count": 123,
   "metadata": {},
   "outputs": [
    {
     "data": {
      "text/html": [
       "\n",
       "<!DOCTYPE HTML PUBLIC \"-//W3C//DTD HTML 4.01 Transitional//EN\" \"http://www.w3.org/TR/html4/loose.dtd\">\n",
       "<table cellspacing=\"0\" align=\"center\" style=\"border: none;\">\n",
       "<caption align=\"bottom\" style=\"margin-top:0.3em;\">Linear regression predicting log-transformed reverts from proportion of time spent monitoring damaging content, holding constant the overall rate of edits.</caption>\n",
       "<tr>\n",
       "<th style=\"text-align: left; border-top: 2px solid black; border-bottom: 1px solid black; padding-right: 12px;\"><b></b></th>\n",
       "<th style=\"text-align: left; border-top: 2px solid black; border-bottom: 1px solid black; padding-right: 12px;\"><b>log1p(num.reverts)</b></th>\n",
       "</tr>\n",
       "<tr>\n",
       "<td style=\"padding-right: 12px; border: none;\">(Intercept)</td>\n",
       "<td style=\"padding-right: 12px; border: none;\">-0.96<sup style=\"vertical-align: 0px;\">***</sup></td>\n",
       "</tr>\n",
       "<tr>\n",
       "<td style=\"padding-right: 12px; border: none;\"></td>\n",
       "<td style=\"padding-right: 12px; border: none;\">(0.11)</td>\n",
       "</tr>\n",
       "<tr>\n",
       "<td style=\"padding-right: 12px; border: none;\">log1p(total.edits.56.pre.treatment)</td>\n",
       "<td style=\"padding-right: 12px; border: none;\">0.47<sup style=\"vertical-align: 0px;\">***</sup></td>\n",
       "</tr>\n",
       "<tr>\n",
       "<td style=\"padding-right: 12px; border: none;\"></td>\n",
       "<td style=\"padding-right: 12px; border: none;\">(0.02)</td>\n",
       "</tr>\n",
       "<tr>\n",
       "<td style=\"padding-right: 12px; border: none;\">pre.monitoring.damaging.content</td>\n",
       "<td style=\"padding-right: 12px; border: none;\">0.21<sup style=\"vertical-align: 0px;\">***</sup></td>\n",
       "</tr>\n",
       "<tr>\n",
       "<td style=\"padding-right: 12px; border: none;\"></td>\n",
       "<td style=\"padding-right: 12px; border: none;\">(0.04)</td>\n",
       "</tr>\n",
       "<tr>\n",
       "<td style=\"border-top: 1px solid black;\">R<sup style=\"vertical-align: 0px;\">2</sup></td>\n",
       "<td style=\"border-top: 1px solid black;\">0.54</td>\n",
       "</tr>\n",
       "<tr>\n",
       "<td style=\"padding-right: 12px; border: none;\">Adj. R<sup style=\"vertical-align: 0px;\">2</sup></td>\n",
       "<td style=\"padding-right: 12px; border: none;\">0.54</td>\n",
       "</tr>\n",
       "<tr>\n",
       "<td style=\"padding-right: 12px; border: none;\">Num. obs.</td>\n",
       "<td style=\"padding-right: 12px; border: none;\">400</td>\n",
       "</tr>\n",
       "<tr>\n",
       "<td style=\"border-bottom: 2px solid black;\">RMSE</td>\n",
       "<td style=\"border-bottom: 2px solid black;\">0.95</td>\n",
       "</tr>\n",
       "<tr>\n",
       "<td style=\"padding-right: 12px; border: none;\" colspan=\"3\"><span style=\"font-size:0.8em\"><sup style=\"vertical-align: 0px;\">***</sup>p &lt; 0.001, <sup style=\"vertical-align: 0px;\">**</sup>p &lt; 0.01, <sup style=\"vertical-align: 0px;\">*</sup>p &lt; 0.05</span></td>\n",
       "</tr>\n",
       "</table>\n"
      ]
     },
     "metadata": {},
     "output_type": "display_data"
    }
   ],
   "source": [
    "## RELATIONSHIP BETWEEN MENTORING AND REVERTS\n",
    "IRdisplay::display_html(htmlreg(pre.monitoring.reverts.lm <- lm(log1p(num.reverts.56.pre.treatment) ~ \n",
    "                                       log1p(total.edits.56.pre.treatment) + \n",
    "                                       pre.monitoring.damaging.content, \n",
    "                                       data=participant),\n",
    "                               custom.model.names=c(\"log1p(num.reverts)\"),\n",
    "                               caption=\"Linear regression predicting log-transformed reverts from proportion of time spent monitoring damaging content, holding constant the overall rate of edits.\"\n",
    "                               ))"
   ]
  },
  {
   "cell_type": "code",
   "execution_count": 372,
   "metadata": {},
   "outputs": [
    {
     "data": {
      "text/html": [
       "\n",
       "<!DOCTYPE HTML PUBLIC \"-//W3C//DTD HTML 4.01 Transitional//EN\" \"http://www.w3.org/TR/html4/loose.dtd\">\n",
       "<table cellspacing=\"0\" align=\"center\" style=\"border: none;\">\n",
       "<caption align=\"bottom\" style=\"margin-top:0.3em;\">Linear regression predicting log-transformed talk page + support edits from proportion of time spent monitoring damaging content, holding constant the overall rate of edits.</caption>\n",
       "<tr>\n",
       "<th style=\"text-align: left; border-top: 2px solid black; border-bottom: 1px solid black; padding-right: 12px;\"><b></b></th>\n",
       "<th style=\"text-align: left; border-top: 2px solid black; border-bottom: 1px solid black; padding-right: 12px;\"><b>log1p(previous.supportive.actions)</b></th>\n",
       "</tr>\n",
       "<tr>\n",
       "<td style=\"padding-right: 12px; border: none;\">(Intercept)</td>\n",
       "<td style=\"padding-right: 12px; border: none;\">-0.52<sup style=\"vertical-align: 0px;\">***</sup></td>\n",
       "</tr>\n",
       "<tr>\n",
       "<td style=\"padding-right: 12px; border: none;\"></td>\n",
       "<td style=\"padding-right: 12px; border: none;\">(0.11)</td>\n",
       "</tr>\n",
       "<tr>\n",
       "<td style=\"padding-right: 12px; border: none;\">log1p(total.edits.56.pre.treatment)</td>\n",
       "<td style=\"padding-right: 12px; border: none;\">0.66<sup style=\"vertical-align: 0px;\">***</sup></td>\n",
       "</tr>\n",
       "<tr>\n",
       "<td style=\"padding-right: 12px; border: none;\"></td>\n",
       "<td style=\"padding-right: 12px; border: none;\">(0.02)</td>\n",
       "</tr>\n",
       "<tr>\n",
       "<td style=\"padding-right: 12px; border: none;\">pre.mentoring</td>\n",
       "<td style=\"padding-right: 12px; border: none;\">0.26<sup style=\"vertical-align: 0px;\">***</sup></td>\n",
       "</tr>\n",
       "<tr>\n",
       "<td style=\"padding-right: 12px; border: none;\"></td>\n",
       "<td style=\"padding-right: 12px; border: none;\">(0.06)</td>\n",
       "</tr>\n",
       "<tr>\n",
       "<td style=\"border-top: 1px solid black;\">R<sup style=\"vertical-align: 0px;\">2</sup></td>\n",
       "<td style=\"border-top: 1px solid black;\">0.67</td>\n",
       "</tr>\n",
       "<tr>\n",
       "<td style=\"padding-right: 12px; border: none;\">Adj. R<sup style=\"vertical-align: 0px;\">2</sup></td>\n",
       "<td style=\"padding-right: 12px; border: none;\">0.67</td>\n",
       "</tr>\n",
       "<tr>\n",
       "<td style=\"padding-right: 12px; border: none;\">Num. obs.</td>\n",
       "<td style=\"padding-right: 12px; border: none;\">400</td>\n",
       "</tr>\n",
       "<tr>\n",
       "<td style=\"border-bottom: 2px solid black;\">RMSE</td>\n",
       "<td style=\"border-bottom: 2px solid black;\">0.99</td>\n",
       "</tr>\n",
       "<tr>\n",
       "<td style=\"padding-right: 12px; border: none;\" colspan=\"3\"><span style=\"font-size:0.8em\"><sup style=\"vertical-align: 0px;\">***</sup>p &lt; 0.001, <sup style=\"vertical-align: 0px;\">**</sup>p &lt; 0.01, <sup style=\"vertical-align: 0px;\">*</sup>p &lt; 0.05</span></td>\n",
       "</tr>\n",
       "</table>\n"
      ]
     },
     "metadata": {},
     "output_type": "display_data"
    }
   ],
   "source": [
    "## RELATIONSHIP BETWEEN MENTORING AND Supportive Actions\n",
    "IRdisplay::display_html(htmlreg(pre.mentoring.support.lm <- lm(log1p(previous.supportive.actions) ~ \n",
    "                                       log1p(total.edits.56.pre.treatment) + \n",
    "                                       pre.mentoring, \n",
    "                                       data=participant),\n",
    "                               custom.model.names=c(\"log1p(previous.supportive.actions)\"),\n",
    "                               caption=\"Linear regression predicting log-transformed talk page + support edits from proportion of time spent monitoring damaging content, holding constant the overall rate of edits.\"\n",
    "                               ))"
   ]
  },
  {
   "cell_type": "markdown",
   "metadata": {},
   "source": [
    "## Feeling Positive and Feeling Emotionally Drained"
   ]
  },
  {
   "cell_type": "code",
   "execution_count": 74,
   "metadata": {},
   "outputs": [
    {
     "data": {
      "text/plain": [
       "   Min. 1st Qu.  Median    Mean 3rd Qu.    Max. \n",
       "  1.000   4.000   4.000   4.183   5.000   5.000 "
      ]
     },
     "metadata": {},
     "output_type": "display_data"
    },
    {
     "data": {
      "text/html": [
       "<dl class=dl-horizontal>\n",
       "\t<dt>1</dt>\n",
       "\t\t<dd>3</dd>\n",
       "\t<dt>2</dt>\n",
       "\t\t<dd>16</dd>\n",
       "\t<dt>3</dt>\n",
       "\t\t<dd>53</dd>\n",
       "\t<dt>4</dt>\n",
       "\t\t<dd>161</dd>\n",
       "\t<dt>5</dt>\n",
       "\t\t<dd>167</dd>\n",
       "</dl>\n"
      ],
      "text/latex": [
       "\\begin{description*}\n",
       "\\item[1] 3\n",
       "\\item[2] 16\n",
       "\\item[3] 53\n",
       "\\item[4] 161\n",
       "\\item[5] 167\n",
       "\\end{description*}\n"
      ],
      "text/markdown": [
       "1\n",
       ":   32\n",
       ":   163\n",
       ":   534\n",
       ":   1615\n",
       ":   167\n",
       "\n"
      ],
      "text/plain": [
       "  1   2   3   4   5 \n",
       "  3  16  53 161 167 "
      ]
     },
     "metadata": {},
     "output_type": "display_data"
    }
   ],
   "source": [
    "summary(participant$previous.positive.feeling)\n",
    "summary(factor(participant$previous.positive.feeling))"
   ]
  },
  {
   "cell_type": "code",
   "execution_count": 75,
   "metadata": {},
   "outputs": [
    {
     "data": {
      "text/plain": [
       "   Min. 1st Qu.  Median    Mean 3rd Qu.    Max. \n",
       "  1.000   1.000   2.000   2.228   3.000   5.000 "
      ]
     },
     "metadata": {},
     "output_type": "display_data"
    },
    {
     "data": {
      "text/html": [
       "<dl class=dl-horizontal>\n",
       "\t<dt>1</dt>\n",
       "\t\t<dd>122</dd>\n",
       "\t<dt>2</dt>\n",
       "\t\t<dd>147</dd>\n",
       "\t<dt>3</dt>\n",
       "\t\t<dd>65</dd>\n",
       "\t<dt>4</dt>\n",
       "\t\t<dd>50</dd>\n",
       "\t<dt>5</dt>\n",
       "\t\t<dd>16</dd>\n",
       "</dl>\n"
      ],
      "text/latex": [
       "\\begin{description*}\n",
       "\\item[1] 122\n",
       "\\item[2] 147\n",
       "\\item[3] 65\n",
       "\\item[4] 50\n",
       "\\item[5] 16\n",
       "\\end{description*}\n"
      ],
      "text/markdown": [
       "1\n",
       ":   1222\n",
       ":   1473\n",
       ":   654\n",
       ":   505\n",
       ":   16\n",
       "\n"
      ],
      "text/plain": [
       "  1   2   3   4   5 \n",
       "122 147  65  50  16 "
      ]
     },
     "metadata": {},
     "output_type": "display_data"
    }
   ],
   "source": [
    "summary(participant$pre.emotionally.draining)\n",
    "summary(factor(participant$pre.emotionally.draining))"
   ]
  },
  {
   "cell_type": "code",
   "execution_count": 532,
   "metadata": {},
   "outputs": [
    {
     "data": {
      "text/html": [
       "\n",
       "<!DOCTYPE HTML PUBLIC \"-//W3C//DTD HTML 4.01 Transitional//EN\" \"http://www.w3.org/TR/html4/loose.dtd\">\n",
       "<table cellspacing=\"0\" align=\"center\" style=\"border: none;\">\n",
       "<caption align=\"bottom\" style=\"margin-top:0.3em;\">Factors Predicting Chance of Login<br/>Survey of 400 contributors in DE, FA, and PL Wikipedias, June-Oct 2019.<br/>Participants were recruited via banner ads & mailing lists.<br/>Eligible accounts included:DE and PL: permission to flag revisions. FA: registered for 1 year & 500+ edits.<br/>© Creative Commons Attribution 4.0.\n",
       "\n",
       "Citizens & Technology Lab •  <a href=\"https://citizensandtech.org\">www.citizensandtech.org</a></caption>\n",
       "<tr>\n",
       "<th style=\"text-align: left; border-top: 2px solid black; border-bottom: 1px solid black; padding-right: 12px;\"><b></b></th>\n",
       "<th style=\"text-align: left; border-top: 2px solid black; border-bottom: 1px solid black; padding-right: 12px;\"><b>Time Spent<br/>Monitoring</b></th>\n",
       "</tr>\n",
       "<tr>\n",
       "<td style=\"padding-right: 12px; border: none;\">(Intercept)</td>\n",
       "<td style=\"padding-right: 12px; border: none;\">1.14<sup style=\"vertical-align: 0px;\">***</sup></td>\n",
       "</tr>\n",
       "<tr>\n",
       "<td style=\"padding-right: 12px; border: none;\"></td>\n",
       "<td style=\"padding-right: 12px; border: none;\">(0.10)</td>\n",
       "</tr>\n",
       "<tr>\n",
       "<td style=\"padding-right: 12px; border: none;\">Emotionally Drained</td>\n",
       "<td style=\"padding-right: 12px; border: none;\">0.23<sup style=\"vertical-align: 0px;\">***</sup></td>\n",
       "</tr>\n",
       "<tr>\n",
       "<td style=\"padding-right: 12px; border: none;\"></td>\n",
       "<td style=\"padding-right: 12px; border: none;\">(0.05)</td>\n",
       "</tr>\n",
       "<tr>\n",
       "<td style=\"padding-right: 12px; border: none;\">Positive Feeling</td>\n",
       "<td style=\"padding-right: 12px; border: none;\">0.21<sup style=\"vertical-align: 0px;\">**</sup></td>\n",
       "</tr>\n",
       "<tr>\n",
       "<td style=\"padding-right: 12px; border: none;\"></td>\n",
       "<td style=\"padding-right: 12px; border: none;\">(0.06)</td>\n",
       "</tr>\n",
       "<tr>\n",
       "<td style=\"padding-right: 12px; border: none;\">Labor Hours</td>\n",
       "<td style=\"padding-right: 12px; border: none;\">0.01<sup style=\"vertical-align: 0px;\">***</sup></td>\n",
       "</tr>\n",
       "<tr>\n",
       "<td style=\"padding-right: 12px; border: none;\"></td>\n",
       "<td style=\"padding-right: 12px; border: none;\">(0.00)</td>\n",
       "</tr>\n",
       "<tr>\n",
       "<td style=\"border-top: 1px solid black;\">R<sup style=\"vertical-align: 0px;\">2</sup></td>\n",
       "<td style=\"border-top: 1px solid black;\">0.10</td>\n",
       "</tr>\n",
       "<tr>\n",
       "<td style=\"padding-right: 12px; border: none;\">Adj. R<sup style=\"vertical-align: 0px;\">2</sup></td>\n",
       "<td style=\"padding-right: 12px; border: none;\">0.09</td>\n",
       "</tr>\n",
       "<tr>\n",
       "<td style=\"padding-right: 12px; border: none;\">Num. obs.</td>\n",
       "<td style=\"padding-right: 12px; border: none;\">400</td>\n",
       "</tr>\n",
       "<tr>\n",
       "<td style=\"border-bottom: 2px solid black;\">RMSE</td>\n",
       "<td style=\"border-bottom: 2px solid black;\">1.07</td>\n",
       "</tr>\n",
       "<tr>\n",
       "<td style=\"padding-right: 12px; border: none;\" colspan=\"3\"><span style=\"font-size:0.8em\"><sup style=\"vertical-align: 0px;\">***</sup>p &lt; 0.001, <sup style=\"vertical-align: 0px;\">**</sup>p &lt; 0.01, <sup style=\"vertical-align: 0px;\">*</sup>p &lt; 0.05</span></td>\n",
       "</tr>\n",
       "</table>\n"
      ]
     },
     "metadata": {},
     "output_type": "display_data"
    }
   ],
   "source": [
    "IRdisplay::display_html(\n",
    "    htmlreg(monitoring.positive.lm <- lm(pre.monitoring.damaging.content ~ \n",
    "           pre.emotionally.draining.zeroed + \n",
    "           previous.positive.feeling.zeroed +\n",
    "           labor.hours.56.pre.treatment,\n",
    "           data=participant),\n",
    "       html.tag=FALSE,\n",
    "       custom.model.names=c(\"Time Spent<br/>Monitoring\"),\n",
    "       custom.coef.names =c(\"(Intercept)\", \"Emotionally Drained\", \"Positive Feeling\", \"Labor Hours\"),\n",
    "       caption=paste(\"Factors Predicting Chance of Login\", \"<br/>\",\n",
    "                       \"Survey of \", nrow(participant),  \" contributors in DE, FA, and PL Wikipedias, June-Oct 2019.\", \"<br/>\",\n",
    "                       \"Participants were recruited via banner ads & mailing lists.\",\"<br/>\",\n",
    "                       \"Eligible accounts included:\",\n",
    "                       \"DE and PL: permission to flag revisions. FA: registered for 1 year & 500+ edits.\", \"<br/>\", \n",
    "                       \"© Creative Commons Attribution 4.0.\", \"\\n\",\n",
    "                       \"\\n\",\n",
    "                       \"Citizens & Technology Lab • \",\n",
    "                       \" <a href=\\\"https://citizensandtech.org\\\">www.citizensandtech.org</a>\",               \n",
    "                       sep=\"\"))\n",
    ")"
   ]
  },
  {
   "cell_type": "code",
   "execution_count": 81,
   "metadata": {},
   "outputs": [
    {
     "data": {
      "text/html": [
       "<dl class=dl-horizontal>\n",
       "\t<dt>0</dt>\n",
       "\t\t<dd>162</dd>\n",
       "\t<dt>1</dt>\n",
       "\t\t<dd>238</dd>\n",
       "</dl>\n"
      ],
      "text/latex": [
       "\\begin{description*}\n",
       "\\item[0] 162\n",
       "\\item[1] 238\n",
       "\\end{description*}\n"
      ],
      "text/markdown": [
       "0\n",
       ":   1621\n",
       ":   238\n",
       "\n"
      ],
      "text/plain": [
       "  0   1 \n",
       "162 238 "
      ]
     },
     "metadata": {},
     "output_type": "display_data"
    }
   ],
   "source": [
    "summary(factor(participant$complier.app.logged.in.int))"
   ]
  },
  {
   "cell_type": "code",
   "execution_count": 673,
   "metadata": {},
   "outputs": [
    {
     "data": {
      "text/plain": [
       "\n",
       "\tPearson's product-moment correlation\n",
       "\n",
       "data:  participant$pre.emotionally.draining and participant$complier.app.logged.in.int\n",
       "t = -2.8296, df = 398, p-value = 0.004896\n",
       "alternative hypothesis: true correlation is not equal to 0\n",
       "95 percent confidence interval:\n",
       " -0.23524280 -0.04297019\n",
       "sample estimates:\n",
       "       cor \n",
       "-0.1404302 \n"
      ]
     },
     "metadata": {},
     "output_type": "display_data"
    },
    {
     "data": {},
     "metadata": {},
     "output_type": "display_data"
    },
    {
     "data": {
      "image/png": "[encoded data removed]",
      "text/plain": [
       "plot without title"
      ]
     },
     "metadata": {},
     "output_type": "display_data"
    }
   ],
   "source": [
    "options(repr.plot.width=6, repr.plot.height=4)\n",
    "\n",
    "cor.test(participant$pre.emotionally.draining, participant$complier.app.logged.in.int)\n",
    "\n",
    "ggplot(participant, aes(pre.emotionally.draining, complier.app.logged.in.int)) +\n",
    "    theme_bw() +\n",
    "    geom_smooth(method='lm', color=catpalette[2]) + \n",
    "    scale_y_continuous(labels=scales::number_format(accuracy=1.0, scale=100, suffix=\"%\"),\n",
    "                       breaks=seq(0, 1, 0.1)) +\n",
    "    facet_grid(. ~ lang) +\n",
    "    ylab(\"% who continued\") +\n",
    "    cat.theme + \n",
    "    ggtitle(paste(\"Wikipedians who found editing more emotionally draining\",\"\\n\",\n",
    "                  \"were less likely to continue the study, on average\", sep=\"\")) +\n",
    "    xlab(paste(\"Contributing to Wikipedia is Emotionally Draining (1-5)\", \"\\n\\n\", \n",
    "               \"Survey of \", nrow(participant),  \" contributors in DE, FA, and PL Wikipedias. June-Oct 2019.\", \"\\n\",\n",
    "               \"Participants were recruited via banner ads & mailing lists. Eligible accounts included:\", \"\\n\",\n",
    "               \"DE and PL: permission to flag revisions. FA: registered for 1 year & 500+ edits.\", \"\\n\",\n",
    "               \"Overall correlation: \", sprintf(\"%0.2f\", cor(participant$pre.emotionally.draining, participant$complier.app.logged.in.int)),\n",
    "               \" (p = 0.005). \", \"\\n\",\n",
    "               \"\\n\",\n",
    "               \"Citizens & Technology Lab • \", \n",
    "               \" www.citizensandtech.org\", \"\\n\",\n",
    "               \"© Creative Commons Attribution 4.0.\",\n",
    "               sep=\"\"))"
   ]
  },
  {
   "cell_type": "code",
   "execution_count": null,
   "metadata": {},
   "outputs": [],
   "source": [
    "participant$labor.hours.56.pre.treatment"
   ]
  },
  {
   "cell_type": "code",
   "execution_count": 380,
   "metadata": {},
   "outputs": [
    {
     "data": {
      "text/plain": [
       "\n",
       "Call:\n",
       "lm(formula = complier.app.logged.in.int ~ pre.emotionally.draining.zeroed, \n",
       "    data = participant)\n",
       "\n",
       "Residuals:\n",
       "    Min      1Q  Median      3Q     Max \n",
       "-0.6699 -0.5478  0.3301  0.3911  0.5742 \n",
       "\n",
       "Coefficients:\n",
       "                                Estimate Std. Error t value Pr(>|t|)    \n",
       "(Intercept)                      0.54785    0.02952   18.56   <2e-16 ***\n",
       "pre.emotionally.draining.zeroed -0.06103    0.02157   -2.83   0.0049 ** \n",
       "---\n",
       "Signif. codes:  0 ‘***’ 0.001 ‘**’ 0.01 ‘*’ 0.05 ‘.’ 0.1 ‘ ’ 1\n",
       "\n",
       "Residual standard error: 0.4872 on 398 degrees of freedom\n",
       "Multiple R-squared:  0.01972,\tAdjusted R-squared:  0.01726 \n",
       "F-statistic: 8.007 on 1 and 398 DF,  p-value: 0.004896\n"
      ]
     },
     "metadata": {},
     "output_type": "display_data"
    }
   ],
   "source": [
    "summary(lm(complier.app.logged.in.int ~ \n",
    "           pre.emotionally.draining.zeroed,\n",
    "   data=participant))"
   ]
  },
  {
   "cell_type": "markdown",
   "metadata": {},
   "source": [
    "### Views About newcomer Capability and Intent\n",
    "This analysis was removed from the final post to keep it concise"
   ]
  },
  {
   "cell_type": "code",
   "execution_count": 668,
   "metadata": {},
   "outputs": [
    {
     "data": {
      "text/html": [
       "<table>\n",
       "<thead><tr><th scope=col>Group.1</th><th scope=col>pre.newcomer.capability</th></tr></thead>\n",
       "<tbody>\n",
       "\t<tr><td>de      </td><td>2.069930</td></tr>\n",
       "\t<tr><td>fa      </td><td>1.615385</td></tr>\n",
       "\t<tr><td>pl      </td><td>2.548387</td></tr>\n",
       "</tbody>\n",
       "</table>\n"
      ],
      "text/latex": [
       "\\begin{tabular}{r|ll}\n",
       " Group.1 & pre.newcomer.capability\\\\\n",
       "\\hline\n",
       "\t de       & 2.069930\\\\\n",
       "\t fa       & 1.615385\\\\\n",
       "\t pl       & 2.548387\\\\\n",
       "\\end{tabular}\n"
      ],
      "text/markdown": [
       "\n",
       "Group.1 | pre.newcomer.capability | \n",
       "|---|---|---|\n",
       "| de       | 2.069930 | \n",
       "| fa       | 1.615385 | \n",
       "| pl       | 2.548387 | \n",
       "\n",
       "\n"
      ],
      "text/plain": [
       "  Group.1 pre.newcomer.capability\n",
       "1 de      2.069930               \n",
       "2 fa      1.615385               \n",
       "3 pl      2.548387               "
      ]
     },
     "metadata": {},
     "output_type": "display_data"
    }
   ],
   "source": [
    "#summary(participant$pre.newcomer.capability)\n",
    "#summary(factor(participant$pre.newcomer.capability))\n",
    "\n",
    "aggregate(participant[c(\"pre.newcomer.capability\")],\n",
    "          by=list(participant$lang), FUN=mean)\n",
    "\n",
    "plot.newcomer.capability <- \n",
    "    ggplot(participant, aes(pre.newcomer.capability)) +\n",
    "    geom_histogram(binwidth=1, aes(x = pre.newcomer.capability, y = ..density..), fill=catpalette[1]) +\n",
    "    cat.theme +\n",
    "    scale_y_continuous(labels = scales::percent_format(accuracy = 1)) +\n",
    "    ylab(\"% of answers\") +\n",
    "    facet_grid(. ~ lang) +\n",
    "    xlab(paste(\"View of Newcomer Capability\", \"\\n\\n\",\n",
    "               \"Survey of 400 contributors in DE(286), FA(52), and PL(62) Wikipedias June-July 2019.\",\"\\n\",\n",
    "               \"Recruitment via banner ads and mailing lists. Eligible accounts included: \", \"\\n\",\n",
    "               \"DE & PL (permission to flag revisions), FA (registered for 1 year & 500 edits). \", \"\\n\\n\",\n",
    "               \"Citizens & Technology Lab • \",\n",
    "               \"citizensandtech.org\",\"\\n\",\n",
    "               \"Creative Commons Attribution 4.0\",\n",
    "               sep=\"\")) \n",
    "#plot.newcomer.capability"
   ]
  },
  {
   "cell_type": "code",
   "execution_count": 669,
   "metadata": {},
   "outputs": [
    {
     "data": {
      "text/html": [
       "<table>\n",
       "<thead><tr><th scope=col>Group.1</th><th scope=col>pre.newcomer.intent</th></tr></thead>\n",
       "<tbody>\n",
       "\t<tr><td>de      </td><td>2.821678</td></tr>\n",
       "\t<tr><td>fa      </td><td>2.230769</td></tr>\n",
       "\t<tr><td>pl      </td><td>2.612903</td></tr>\n",
       "</tbody>\n",
       "</table>\n"
      ],
      "text/latex": [
       "\\begin{tabular}{r|ll}\n",
       " Group.1 & pre.newcomer.intent\\\\\n",
       "\\hline\n",
       "\t de       & 2.821678\\\\\n",
       "\t fa       & 2.230769\\\\\n",
       "\t pl       & 2.612903\\\\\n",
       "\\end{tabular}\n"
      ],
      "text/markdown": [
       "\n",
       "Group.1 | pre.newcomer.intent | \n",
       "|---|---|---|\n",
       "| de       | 2.821678 | \n",
       "| fa       | 2.230769 | \n",
       "| pl       | 2.612903 | \n",
       "\n",
       "\n"
      ],
      "text/plain": [
       "  Group.1 pre.newcomer.intent\n",
       "1 de      2.821678           \n",
       "2 fa      2.230769           \n",
       "3 pl      2.612903           "
      ]
     },
     "metadata": {},
     "output_type": "display_data"
    }
   ],
   "source": [
    "#summary(participant$pre.newcomer.intent)\n",
    "#summary(factor(participant$pre.newcomer.intent))\n",
    "\n",
    "aggregate(participant[c(\"pre.newcomer.intent\")],\n",
    "          by=list(participant$lang), FUN=mean)\n",
    "\n",
    "plot.newcomer.intent <- ggplot(participant, aes(pre.newcomer.intent)) +\n",
    "    geom_histogram(binwidth=1, aes(x = pre.newcomer.intent, y = ..density..), \n",
    "                   fill=catpalette[2], alpha=0.8) +\n",
    "    cat.theme +\n",
    "    scale_y_continuous(labels = scales::percent_format( accuracy = 1)) +\n",
    "    xlab(paste(\"View of Newcomer Intent\")) +\n",
    "    ylab(\"% of answers\") +\n",
    "    facet_grid(. ~ lang) +\n",
    "    ggtitle(paste(\"Wikipedians believe newcomers have positive intent and\", \"\\n\",\n",
    "                  \"some capability, with opportunity to grow\", \n",
    "                  sep=\"\")\n",
    "           )"
   ]
  },
  {
   "cell_type": "code",
   "execution_count": 670,
   "metadata": {},
   "outputs": [
    {
     "data": {},
     "metadata": {},
     "output_type": "display_data"
    },
    {
     "data": {
      "image/png": "[encoded data removed]",
      "text/plain": [
       "plot without title"
      ]
     },
     "metadata": {},
     "output_type": "display_data"
    }
   ],
   "source": [
    "options(repr.plot.width=6, repr.plot.height=5)\n",
    "\n",
    "ggarrange(plot.newcomer.intent, plot.newcomer.capability, ncol=1, nrow=2,\n",
    "          heights=c(1,1.3))\n"
   ]
  },
  {
   "cell_type": "markdown",
   "metadata": {},
   "source": [
    "## Thanking Behavior"
   ]
  },
  {
   "cell_type": "code",
   "execution_count": 590,
   "metadata": {},
   "outputs": [
    {
     "name": "stdout",
     "output_type": "stream",
     "text": [
      "\n",
      " \n",
      "   Cell Contents\n",
      "|-------------------------|\n",
      "|                       N |\n",
      "|           N / Col Total |\n",
      "|-------------------------|\n",
      "\n",
      " \n",
      "Total Observations in Table:  400 \n",
      "\n",
      " \n",
      "                                            | participant$lang \n",
      "participant$wikithanks.56.pre.treatment > 0 |        de |        fa |        pl | Row Total | \n",
      "--------------------------------------------|-----------|-----------|-----------|-----------|\n",
      "                                      FALSE |       154 |        29 |        31 |       214 | \n",
      "                                            |     0.538 |     0.558 |     0.500 |           | \n",
      "--------------------------------------------|-----------|-----------|-----------|-----------|\n",
      "                                       TRUE |       132 |        23 |        31 |       186 | \n",
      "                                            |     0.462 |     0.442 |     0.500 |           | \n",
      "--------------------------------------------|-----------|-----------|-----------|-----------|\n",
      "                               Column Total |       286 |        52 |        62 |       400 | \n",
      "                                            |     0.715 |     0.130 |     0.155 |           | \n",
      "--------------------------------------------|-----------|-----------|-----------|-----------|\n",
      "\n",
      " \n"
     ]
    },
    {
     "data": {
      "text/html": [
       "<table>\n",
       "<thead><tr><th scope=col>Group.1</th><th scope=col>wikithanks.56.pre.treatment</th></tr></thead>\n",
       "<tbody>\n",
       "\t<tr><td>de  </td><td>1228</td></tr>\n",
       "\t<tr><td>fa  </td><td> 217</td></tr>\n",
       "\t<tr><td>pl  </td><td> 275</td></tr>\n",
       "</tbody>\n",
       "</table>\n"
      ],
      "text/latex": [
       "\\begin{tabular}{r|ll}\n",
       " Group.1 & wikithanks.56.pre.treatment\\\\\n",
       "\\hline\n",
       "\t de   & 1228\\\\\n",
       "\t fa   &  217\\\\\n",
       "\t pl   &  275\\\\\n",
       "\\end{tabular}\n"
      ],
      "text/markdown": [
       "\n",
       "Group.1 | wikithanks.56.pre.treatment | \n",
       "|---|---|---|\n",
       "| de   | 1228 | \n",
       "| fa   |  217 | \n",
       "| pl   |  275 | \n",
       "\n",
       "\n"
      ],
      "text/plain": [
       "  Group.1 wikithanks.56.pre.treatment\n",
       "1 de      1228                       \n",
       "2 fa       217                       \n",
       "3 pl       275                       "
      ]
     },
     "metadata": {},
     "output_type": "display_data"
    },
    {
     "data": {
      "text/html": [
       "1720"
      ],
      "text/latex": [
       "1720"
      ],
      "text/markdown": [
       "1720"
      ],
      "text/plain": [
       "[1] 1720"
      ]
     },
     "metadata": {},
     "output_type": "display_data"
    },
    {
     "data": {
      "text/html": [
       "1748"
      ],
      "text/latex": [
       "1748"
      ],
      "text/markdown": [
       "1748"
      ],
      "text/plain": [
       "[1] 1748"
      ]
     },
     "metadata": {},
     "output_type": "display_data"
    }
   ],
   "source": [
    "CrossTable(participant$wikithanks.56.pre.treatment>0, participant$lang, prop.chisq = FALSE, prop.r = FALSE, prop.t=FALSE)\n",
    "aggregate(participant[c(\"wikithanks.56.pre.treatment\")], by=list(participant$lang), FUN=sum)\n",
    "sum(participant$wikithanks.56.pre.treatment)\n",
    "sum(participant$wikithanks.56.post.treatment)"
   ]
  },
  {
   "cell_type": "code",
   "execution_count": 599,
   "metadata": {},
   "outputs": [],
   "source": [
    "# summary(lm(participant$wikithanks.56.pre.treatment / participant$total.edits.56.pre.treatment ~\n",
    "#            pre.feel.positive +\n",
    "#            pre.emotionally.draining,\n",
    "#            data=participant))"
   ]
  },
  {
   "cell_type": "code",
   "execution_count": 577,
   "metadata": {},
   "outputs": [],
   "source": [
    "# cor.test(participant$pre.mentoring, log1p(participant$wikithanks.56.pre.treatment))\n",
    "# cor.test(participant$pre.mentoring, log1p(participant$wikithanks.56.post.treatment))"
   ]
  },
  {
   "cell_type": "code",
   "execution_count": 578,
   "metadata": {},
   "outputs": [],
   "source": [
    "# cor.test(participant$pre.feel.positive, log1p(participant$wikithanks.56.pre.treatment))\n",
    "# cor.test(participant$pre.feel.positive, log1p(participant$wikithanks.56.post.treatment))"
   ]
  },
  {
   "cell_type": "markdown",
   "metadata": {},
   "source": [
    "# The Effect of Thanking Others on Wikipedia"
   ]
  },
  {
   "cell_type": "markdown",
   "metadata": {},
   "source": [
    "#### Effect on Socially Supportive Actions"
   ]
  },
  {
   "cell_type": "code",
   "execution_count": 440,
   "metadata": {},
   "outputs": [
    {
     "data": {
      "text/html": [
       "342"
      ],
      "text/latex": [
       "342"
      ],
      "text/markdown": [
       "342"
      ],
      "text/plain": [
       "[1] 342"
      ]
     },
     "metadata": {},
     "output_type": "display_data"
    }
   ],
   "source": [
    "sum(behavioral.compliers.login$num.thank.actions, na.rm=TRUE)"
   ]
  },
  {
   "cell_type": "code",
   "execution_count": 328,
   "metadata": {},
   "outputs": [
    {
     "data": {
      "text/html": [
       "238"
      ],
      "text/latex": [
       "238"
      ],
      "text/markdown": [
       "238"
      ],
      "text/plain": [
       "[1] 238"
      ]
     },
     "metadata": {},
     "output_type": "display_data"
    },
    {
     "data": {
      "text/plain": [
       "Design:  Standard \n",
       "      Estimate Std. Error  t value  Pr(>|t|) CI Lower CI Upper       DF\n",
       "TREAT 6.983047   6.461541 1.080709 0.2813695 -5.77288 19.73897 168.6401"
      ]
     },
     "metadata": {},
     "output_type": "display_data"
    }
   ],
   "source": [
    "nrow(behavioral.compliers.login)\n",
    "difference_in_means(diff.supportive.actions ~ TREAT, \n",
    "                    data = behavioral.compliers.login)"
   ]
  },
  {
   "cell_type": "code",
   "execution_count": 452,
   "metadata": {},
   "outputs": [
    {
     "data": {
      "text/html": [
       "31.1863014711433"
      ],
      "text/latex": [
       "31.1863014711433"
      ],
      "text/markdown": [
       "31.1863014711433"
      ],
      "text/plain": [
       "[1] 31.1863"
      ]
     },
     "metadata": {},
     "output_type": "display_data"
    },
    {
     "data": {
      "text/html": [
       "48.4694609593591"
      ],
      "text/latex": [
       "48.4694609593591"
      ],
      "text/markdown": [
       "48.4694609593591"
      ],
      "text/plain": [
       "[1] 48.46946"
      ]
     },
     "metadata": {},
     "output_type": "display_data"
    }
   ],
   "source": [
    "## standard deviation to test with the e-gap power calculator: https://egap.shinyapps.io/Power_Calculator/\n",
    "## to estimate how many more participants we might need\n",
    "sd(subset(behavioral.compliers.login, TREAT==FALSE)$diff.supportive.actions)\n",
    "sd(subset(behavioral.block.compliers, TREAT==FALSE)$diff.supportive.actions)"
   ]
  },
  {
   "cell_type": "markdown",
   "metadata": {},
   "source": [
    "#### Effect on Positive Feeling"
   ]
  },
  {
   "cell_type": "code",
   "execution_count": 453,
   "metadata": {},
   "outputs": [
    {
     "data": {
      "text/html": [
       "137"
      ],
      "text/latex": [
       "137"
      ],
      "text/markdown": [
       "137"
      ],
      "text/plain": [
       "[1] 137"
      ]
     },
     "metadata": {},
     "output_type": "display_data"
    },
    {
     "data": {
      "text/plain": [
       "Design:  Standard \n",
       "        Estimate Std. Error   t value   Pr(>|t|)   CI Lower    CI Upper\n",
       "TREAT -0.2533248   0.117356 -2.158602 0.03273018 -0.4855139 -0.02113563\n",
       "            DF\n",
       "TREAT 129.1475"
      ]
     },
     "metadata": {},
     "output_type": "display_data"
    },
    {
     "data": {
      "text/html": [
       "0.700376608513734"
      ],
      "text/latex": [
       "0.700376608513734"
      ],
      "text/markdown": [
       "0.700376608513734"
      ],
      "text/plain": [
       "[1] 0.7003766"
      ]
     },
     "metadata": {},
     "output_type": "display_data"
    }
   ],
   "source": [
    "nrow(survey.compliers)\n",
    "difference_in_means(diff.positive.feeling ~ TREAT, data = survey.compliers)\n",
    "\n",
    "## Standard deviation to test with e-gap how many more participants we might need\n",
    "sd(subset(survey.compliers, TREAT==FALSE)$diff.positive.feeling)"
   ]
  },
  {
   "cell_type": "code",
   "execution_count": 480,
   "metadata": {},
   "outputs": [
    {
     "data": {
      "text/html": [
       "<ol class=list-inline>\n",
       "\t<li>0.2813695</li>\n",
       "\t<li>0.06546036</li>\n",
       "</ol>\n"
      ],
      "text/latex": [
       "\\begin{enumerate*}\n",
       "\\item 0.2813695\n",
       "\\item 0.06546036\n",
       "\\end{enumerate*}\n"
      ],
      "text/markdown": [
       "1. 0.2813695\n",
       "2. 0.06546036\n",
       "\n",
       "\n"
      ],
      "text/plain": [
       "[1] 0.28136950 0.06546036"
      ]
     },
     "metadata": {},
     "output_type": "display_data"
    }
   ],
   "source": [
    "p.adjust(c(0.2813695,0.03273018),\"holm\")"
   ]
  },
  {
   "cell_type": "markdown",
   "metadata": {},
   "source": [
    "# Scratch Area\n",
    "(charts and analyses not included in the final report)"
   ]
  },
  {
   "cell_type": "code",
   "execution_count": 336,
   "metadata": {},
   "outputs": [],
   "source": [
    "#difference_in_means(diff.positive.feeling ~ TREAT, data = subset(survey.compliers, lang==\"de\"))"
   ]
  },
  {
   "cell_type": "code",
   "execution_count": 111,
   "metadata": {},
   "outputs": [],
   "source": [
    "# options(repr.plot.width=6, repr.plot.height=4.5)\n",
    "\n",
    "# #https://www.brooklynintegers.com/int/1528119887/\n",
    "# set.seed(1528119887)\n",
    "\n",
    "# ggplot(participant, aes(pre.monitoring.damaging.content, pre.mentoring, color=participant$mentor.monitor)) +\n",
    "#     geom_jitter(width=0.15, height=0.15, size=1) + #color =\"#222222\"\n",
    "#     geom_smooth(data=subset(participant, pre.monitoring.damaging.content>0 & pre.mentoring>0), \n",
    "#                 mapping=aes(pre.monitoring.damaging.content, pre.mentoring),\n",
    "#                 method='lm', color=catpalette[3]) + \n",
    "#     cat.theme +\n",
    "#     scale_color_manual(values = chartpalette, \n",
    "#                        guide  = guide_legend(title=\"Mentoring Others &\\nMonitoring Content\")) +\n",
    "#     facet_grid(. ~ lang) +\n",
    "#     ylab(\"Proportion of Time Spent Mentoring\") +\n",
    "#     ggtitle(paste(\"Wikipedians Who Monitor Vandalism Also Mentor Others On Average:\", \"\\n\",\n",
    "#                   \"Time Spent Mentoring & Monitoring Are Correlated Across Languages\",sep=\"\")) +\n",
    "#     xlab(paste(\"Proportion of Time Spent Monitoring Damaging Content\", \"\\n\\n\",\n",
    "#                \"Survey of \", nrow(participant),  \" contributors in DE, FA, and PL Wikipedias. June-Oct 2019.\", \"\\n\",\n",
    "#                \"Participants were recruited via banner ads & mailing lists. Eligible accounts included:\", \"\\n\",\n",
    "#                \"DE and PL: permission to flag revisions. FA: registered for 1 year & 500+ edits.\", \"\\n\",\n",
    "#                \"Overall correlation: \", sprintf(\"%0.2f\", cor(participant$pre.monitoring.damaging.content, participant$pre.mentoring)),\n",
    "#                \" (p < 0.0001). \", \"© Creative Commons Attribution 4.0.\", \"\\n\",\n",
    "#                \"\\n\",\n",
    "#                \"Citizens & Technology Lab, Cornell University\", \"\\n\",\n",
    "#                \" www.citizensandtech.org\", \"\\n\",               \n",
    "#                sep=\"\"))"
   ]
  },
  {
   "cell_type": "code",
   "execution_count": null,
   "metadata": {},
   "outputs": [],
   "source": [
    "# options(repr.plot.width=5, repr.plot.height=5)\n",
    "\n",
    "# ggplot(participant, aes(lang)) +\n",
    "#     geom_bar(aes(fill=mentor.monitor), position=\"fill\", alpha=0.7) +\n",
    "#     cat.theme +\n",
    "#     theme(panel.grid.major = element_blank(), \n",
    "#           panel.grid.minor = element_blank()) +\n",
    "#     scale_fill_manual(values = chartpalette, \n",
    "#                        guide  = guide_legend(title=\"Mentoring Others &\\nMonitoring Content\")) +\n",
    "#     scale_y_continuous(labels = scales::percent) +\n",
    "#     ylab(\"Percent\") +\n",
    "#     xlab(paste(\"Survey of \", nrow(participant),  \" contributors in DE, FA, PL Wikipedias. June-Oct 2019.\", \"\\n\",\n",
    "#                \"Participants were recruited via banner ads & mailing lists.\", \"\\n\",\n",
    "#                \"Eligible accounts included DE and PL: permission to flag revisions.\",\"\\n\",\n",
    "#                \"FA: at least 1 year old and 500+ edits. \", \"\\n\", \n",
    "#                \"© Creative Commons Attribution 4.0.\", \"\\n\",\n",
    "#                \"\\n\",\n",
    "#                \"Citizens & Technology Lab, Cornell University\", \"\\n\",\n",
    "#                \" www.citizensandtech.org\", \"\\n\",               \n",
    "#                sep=\"\"))"
   ]
  },
  {
   "cell_type": "code",
   "execution_count": 126,
   "metadata": {},
   "outputs": [],
   "source": [
    "# Plotting relationships between burnout items and monitoring activity\n",
    "# ggplot(participant, aes(pre.emotionally.draining, pre.monitoring.damaging.content)) +\n",
    "#     geom_jitter(width=0.2, size=0.5, color=\"darkgray\") +\n",
    "#     theme_bw() +\n",
    "#     geom_smooth(method='lm', color=\"red\") + \n",
    "#     facet_grid(. ~ lang)\n",
    "\n",
    "# ggplot(participant, aes(previous.positive.feeling, pre.monitoring.damaging.content)) +\n",
    "#     geom_jitter(width=0.2, size=0.5, color=\"darkgray\") +\n",
    "#     theme_bw() +\n",
    "#     geom_smooth(method='lm', color=\"red\") + \n",
    "#     facet_grid(. ~ lang)"
   ]
  },
  {
   "cell_type": "code",
   "execution_count": null,
   "metadata": {},
   "outputs": [],
   "source": [
    "# Plotting relationships between positive feeling and supportive actions\n",
    "# ggplot(participant, aes(previous.positive.feeling, log1p(previous.supportive.actions))) +\n",
    "#     geom_jitter(width=0.2, size=0.5, color=\"darkgray\") +\n",
    "#     theme_bw() +\n",
    "#     geom_smooth(method='lm', color=\"red\") + \n",
    "#     facet_grid(. ~ lang)"
   ]
  },
  {
   "cell_type": "code",
   "execution_count": 227,
   "metadata": {},
   "outputs": [],
   "source": [
    "# positive intent and capability\n",
    "# ggplot(participant, aes(pre.newcomer.intent, pre.newcomer.capability)) +\n",
    "#     geom_jitter(width=0.2, size=0.5, color=\"darkgray\") +\n",
    "#     geom_smooth(method='lm', color=\"darkorange\") + \n",
    "#     theme_bw() +\n",
    "#     xlab(\"View of Newcomer Positive Intent\") +\n",
    "#     ylab(\"View of Newcomer Capability\") +\n",
    "#     facet_grid(. ~ lang)"
   ]
  },
  {
   "cell_type": "code",
   "execution_count": 262,
   "metadata": {},
   "outputs": [],
   "source": [
    "## positive intent and monitoring activity\n",
    "# ggplot(participant, aes(pre.monitoring.damaging.content, pre.newcomer.intent)) +\n",
    "#     geom_jitter(width=0.2, size=0.5, color=\"darkgray\") +\n",
    "#     theme_bw() +\n",
    "#     geom_smooth(method='lm', color=\"red\") + \n",
    "#     facet_grid(. ~ lang)"
   ]
  },
  {
   "cell_type": "code",
   "execution_count": 281,
   "metadata": {},
   "outputs": [],
   "source": [
    "# ggplot(participant, aes(pre.mentoring, log1p(num.reverts.56.pre.treatment))) +\n",
    "#     geom_jitter(width=0.2, size=0.5, color=\"darkgray\") +\n",
    "#     cat.theme +\n",
    "#     geom_smooth(method='lm', color=\"red\") + \n",
    "#     facet_grid(. ~ lang)\n",
    "\n",
    "## Supportive actions and reverts\n",
    "# ggplot(participant, aes(log1p(previous.supportive.actions), log1p(num.reverts.56.pre.treatment))) +\n",
    "#     geom_point(size=0.5, color=\"darkgray\") +\n",
    "#     theme_bw() +\n",
    "#     geom_smooth(method='lm', color=\"darkgreen\") + \n",
    "#     facet_grid(. ~ lang)"
   ]
  },
  {
   "cell_type": "code",
   "execution_count": 275,
   "metadata": {},
   "outputs": [],
   "source": [
    "## correlations between feeling positive about one's contributions and feeling drained\n",
    "# pre.positive.drained <- cor.test(participant$previous.positive.feeling, \n",
    "#                                      participant$pre.emotionally.draining)\n",
    "# pre.positive.drained\n",
    "\n",
    "# pre.positive.support <- cor.test(participant$previous.positive.feeling, \n",
    "#                                      log1p(participant$previous.supportive.actions))\n",
    "# pre.positive.support\n",
    "# cor.test(participant$previous.positive.feeling, \n",
    "#          participant$pre.monitoring.damaging.content)\n",
    "# cor.test(participant$pre.emotionally.draining, \n",
    "#          participant$pre.monitoring.damaging.content)\n"
   ]
  },
  {
   "cell_type": "code",
   "execution_count": 383,
   "metadata": {},
   "outputs": [],
   "source": [
    "# # LOWER BOUND effect on supportive actions (Gerber & Green 164-165)\n",
    "#difference_in_means(diff.supportive.actions ~ TREAT, \n",
    "#                     data = behavioral.compliers.login)\n",
    "# ## UPPER BOUND BOUND (Gerber & Green 164-165)\n",
    "# lwr.behavior.compliers.login <- behavioral.compliers.login\n",
    "# lwr.behavior.compliers.login[lwr.behavior.compliers.login$complier.app.int==0,]$TREAT <- 0\n",
    "\n",
    "\n",
    "# difference_in_means(diff.supportive.actions ~ TREAT, \n",
    "#                     data = lwr.behavior.compliers.login)"
   ]
  },
  {
   "cell_type": "code",
   "execution_count": null,
   "metadata": {},
   "outputs": [],
   "source": []
  }
 ],
 "metadata": {
  "kernelspec": {
   "display_name": "R",
   "language": "R",
   "name": "ir"
  },
  "language_info": {
   "codemirror_mode": "r",
   "file_extension": ".r",
   "mimetype": "text/x-r-source",
   "name": "R",
   "pygments_lexer": "r",
   "version": "3.5.1"
  }
 },
 "nbformat": 4,
 "nbformat_minor": 2
}
