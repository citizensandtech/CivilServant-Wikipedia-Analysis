{
 "cells": [
  {
   "cell_type": "markdown",
   "metadata": {},
   "source": [
    "# Thanker Experiment Report Feb 2020\n",
    "[J. Nathan Matias](https://natematias.com), [Citizens and Technology Lab](https://citizensandtech.org)\n",
    "\n",
    "\n",
    "### References\n",
    "* [Experiment Plan: The Effect of Sending Thanks on Wikipedia](https://osf.io/e5r3q/)\n"
   ]
  },
  {
   "cell_type": "markdown",
   "metadata": {},
   "source": [
    "# Analysis Code"
   ]
  },
  {
   "cell_type": "code",
   "execution_count": 1,
   "metadata": {},
   "outputs": [
    {
     "name": "stderr",
     "output_type": "stream",
     "text": [
      "Loading required package: magrittr\n",
      "\n",
      "corrplot 0.84 loaded\n",
      "\n",
      "Loading required package: Matrix\n",
      "\n",
      "\n",
      "Attaching package: ‘lmerTest’\n",
      "\n",
      "\n",
      "The following object is masked from ‘package:lme4’:\n",
      "\n",
      "    lmer\n",
      "\n",
      "\n",
      "The following object is masked from ‘package:stats’:\n",
      "\n",
      "    step\n",
      "\n",
      "\n",
      "Version:  1.36.23\n",
      "Date:     2017-03-03\n",
      "Author:   Philip Leifeld (University of Glasgow)\n",
      "\n",
      "Please cite the JSS article in your publications -- see citation(\"texreg\").\n",
      "\n",
      "\n",
      "Attaching package: ‘texreg’\n",
      "\n",
      "\n",
      "The following object is masked from ‘package:magrittr’:\n",
      "\n",
      "    extract\n",
      "\n",
      "\n"
     ]
    }
   ],
   "source": [
    "## Load Libraries\n",
    "library(ggplot2)\n",
    "library(ggpubr)  # contains ggarrange\n",
    "library(gmodels) # contains CrossTable\n",
    "library(estimatr)\n",
    "library(corrplot)\n",
    "library(lme4)\n",
    "library(broom)\n",
    "library(knitr)\n",
    "library(lmerTest)\n",
    "library(texreg)\n",
    "library(stringr)\n",
    "library(png)"
   ]
  },
  {
   "cell_type": "code",
   "execution_count": 2,
   "metadata": {},
   "outputs": [],
   "source": [
    "## Set visual style\n",
    "catpalette   <- c(\"#333333\", \"#ea5324\", \"#005073\", \"#7D868C\", \"#BDBBBB\", \"#F2F2F2\",\"#F6F2EB\")\n",
    "chartpalette <- c(\"#ea5324\", \"#005073\", \"#7D868C\", \"#333333\", \"#F2F2F2\",\"#BDBBBB\", \"#F6F2EB\")\n",
    "\n",
    "bg.whiteortransparent <- Sys.getenv('RTRANSPARENTBG','white')\n",
    "\n",
    "\n",
    "cat.theme <-  theme_bw() +\n",
    "              theme(plot.title = element_text(size=13, face=\"bold\", color=catpalette[3]),\n",
    "                    axis.title.x =element_text(size=10, hjust = -0.01, color = catpalette[1]),\n",
    "                    axis.title.y =element_text(size=10, color = catpalette[1]),\n",
    "                    panel.background = element_rect(fill=catpalette[6]),\n",
    "                    plot.background = element_rect(fill =bg.whiteortransparent, color = NA), # bg of the plot\n",
    "                   )\n",
    "options(repr.plot.width=6, repr.plot.height=4.5)"
   ]
  },
  {
   "cell_type": "markdown",
   "metadata": {},
   "source": [
    "### Load Experiment Results Data"
   ]
  },
  {
   "cell_type": "code",
   "execution_count": 3,
   "metadata": {},
   "outputs": [],
   "source": [
    "data.dir = \"~/Tresors/CivilServant/projects/wikipedia-integration/gratitude-study/Data Drills/thanker_hardlaunch/post_experiment_analysis/\""
   ]
  },
  {
   "cell_type": "code",
   "execution_count": 4,
   "metadata": {},
   "outputs": [],
   "source": [
    "data.path = Sys.getenv('TRESORDIR', '~/Tresors')\n",
    "translations.f = file.path(data.path, 'CivilServant/projects/wikipedia-integration/gratitude-study/datasets/debrief-translations/l10ns_thanker_thankee_all.csv')\n",
    "blog.img.path = file.path(data.path, 'CivilServant/projects/wikipedia-integration/gratitude-study/datasets/debrief-translations/blog_assets/thanker_imgs')\n",
    "\n",
    "translation_lang = Sys.getenv('RTRANSLANG', 'english')    \n",
    "\n",
    "load_translations <- function(){ l10ns <<- read.csv(translations.f) }\n",
    "l10ns = NULL\n",
    "load_translations()\n",
    "str_interp_trans <- function(l){\n",
    "    translation_row = subset(l10ns, key==l)\n",
    "    translation_string = as.character(translation_row[[translation_lang]] )\n",
    "#     print(translation_row)\n",
    "    translated_interpolated = str_interp(translation_string)\n",
    "    return(translated_interpolated)\n",
    "}\n",
    "\n",
    "h.just <- ifelse(translation_lang %in% c('arabic', 'persian'), 0.98, 0)\n",
    "x.just <- ifelse(translation_lang %in% c('arabic', 'persian'), 0.98, 0)\n",
    "\n",
    "cat.logo.filename <- \"~/workspace/CivilServant-Analysis/assets/CAT-Logo-Horizontal-social-media-preview-color.png\"\n",
    "logo.img <- readPNG(cat.logo.filename)\n",
    "logo.pngob <- grid::rasterGrob(logo.img)\n",
    "\n",
    "thanker.end.caption.text = str_interp_trans('thanker.end.caption.text')"
   ]
  },
  {
   "cell_type": "code",
   "execution_count": 5,
   "metadata": {},
   "outputs": [],
   "source": [
    "filename = \"all-pre_and_post_treatment_vars_with_post_survey_R_columns.csv\"\n",
    "participant <- read.csv(paste(data.dir, filename, sep=\"\"))\n",
    "\n",
    "## 38 participants accessed & used the system before the experiment started\n",
    "## we have assigned them randomization.block.id = -1 and omitted them from the analysis\n",
    "participant <- subset(participant, randomization.block.id!=-1)\n",
    "\n",
    "participant$complier <- participant$complier == \"True\"\n",
    "participant$complier.int <- as.integer(participant$complier)\n",
    "participant$complier.app.int <- as.integer(participant$complier.app==\"True\")\n",
    "participant$complier.app.logged.in.int <- as.integer(participant$complier.app.logged.in==\"True\")\n",
    "participant$TREAT <- participant$randomization.arm\n",
    "\n",
    "## inclusive compliers are participants that:\n",
    "### among control, logged in\n",
    "### among treatment, completed the task\n",
    "participant$complier.app.inclusive <- (participant$T==1 & participant$complier.app==\"True\") | \n",
    "                                         (participant$TREAT==0 & participant$complier.app.logged.in==\"True\")\n",
    "\n",
    "\n",
    "participant$diff.labor.hours <- participant$labor.hours.56.post.treatment - participant$labor.hours.56.pre.treatment\n",
    "\n",
    "participant$diff.newcomer.capability <- participant$post.newcomer.capability - participant$pre.newcomer.capability\n",
    "participant$diff.newcomer.intent <- participant$post.newcomer.intent - participant$pre.newcomer.intent\n",
    "\n",
    "participant$diff.thanks.sent <- participant$wikithanks.56.post.treatment - participant$wikithanks.56.pre.treatment\n",
    "\n",
    "participant$diff.emotionally.draining <- participant$post.emotionally.draining - participant$pre.emotionally.draining\n",
    "participant$diff.monitoring.damaging.content <- participant$post.monitoring.damaging.content - participant$pre.monitoring.damaging.content\n",
    "participant$diff.mentoring <- participant$post.mentoring - participant$pre.mentoring\n",
    "\n",
    "## ZEROED OUT SURVEY PREDICTORS\n",
    "participant$pre.emotionally.draining.zeroed <- participant$pre.emotionally.draining-3\n",
    "participant$previous.positive.feeling.zeroed <- participant$previous.positive.feeling-3\n",
    "\n",
    "## individual participants that complied with the app\n",
    "behavioral.compliers.exclusive <- subset(participant, complier.app!=\"False\")\n",
    "behavioral.compliers.inclusive <- subset(participant, complier.app.inclusive)\n",
    "behavioral.compliers.login <- subset(participant, complier.app.logged.in!=\"False\")\n",
    "\n",
    "## individual participants that complied with the survey\n",
    "survey.compliers <- subset(participant, complier)\n",
    "\n",
    "## dataframe with a sum of how many block members complied\n",
    "behavioral.block.compliance <- aggregate(participant[c('complier.app.logged.in.int')], by=list(participant$randomization.block.id), FUN=sum)\n",
    "survey.block.compliance <- aggregate(participant[c('complier.int')], by=list(participant$randomization.block.id), FUN=sum)\n",
    "\n",
    "## accounts in blocks where every block participant complied with the app\n",
    "behavioral.block.compliers <- subset(participant, randomization.block.id %in% subset(behavioral.block.compliance, complier.app.logged.in.int==1)$Group.1)\n",
    "\n",
    "## accounts in blocks where every block participant complied with the survey\n",
    "survey.block.compliers <- subset(participant, randomization.block.id %in% subset(survey.block.compliance, complier.int==2)$Group.1)"
   ]
  },
  {
   "cell_type": "markdown",
   "metadata": {},
   "source": [
    "### Load Full Initial Survey Taking Group"
   ]
  },
  {
   "cell_type": "code",
   "execution_count": 6,
   "metadata": {},
   "outputs": [],
   "source": [
    "data.path <- \"~/Tresors/CivilServant/projects/wikipedia-integration/gratitude-study/Data Drills/thanker_hardlaunch/historical_survey_merged\"\n",
    "de.filename = \"de-merged-20190729.csv\"\n",
    "ar.filename = \"ar-merged-20190729.csv\"\n",
    "fa.filename = \"fa-merged-20190729.csv\"\n",
    "pl.filename = \"pl-merged-20190729.csv\"\n",
    "thankers.df <- rbind(read.csv(file.path(data.path,de.filename), sep=\",\"),\n",
    "                     read.csv(file.path(data.path,ar.filename), sep=\",\"),\n",
    "                     read.csv(file.path(data.path,pl.filename), sep=\",\"))\n",
    "fa.thankers.df <- read.csv(file.path(data.path,fa.filename), sep=\",\")\n",
    "\n",
    "\n",
    "thankers.df <- rbind(thankers.df, \n",
    "                 fa.thankers.df[colnames(thankers.df)])"
   ]
  },
  {
   "cell_type": "markdown",
   "metadata": {},
   "source": [
    "#### Zeroing 1-5 Scale Items About Activity into 0-4 scales for reporting\n",
    "Note: it's important to do this *after* calculting the \"diff\" variables for these items."
   ]
  },
  {
   "cell_type": "code",
   "execution_count": 7,
   "metadata": {},
   "outputs": [],
   "source": [
    "if(min(participant$pre.mentoring)==1){\n",
    "    participant$pre.mentoring <- participant$pre.mentoring -1\n",
    "}\n",
    "\n",
    "if(min(participant$pre.monitoring.damaging.content)==1){\n",
    "    participant$pre.monitoring.damaging.content <- participant$pre.monitoring.damaging.content -1\n",
    "}\n",
    "\n",
    "if(min(participant$pre.newcomer.capability)==1){\n",
    "    participant$pre.newcomer.capability <- participant$pre.newcomer.capability -1\n",
    "}\n",
    "\n",
    "if(min(participant$pre.newcomer.intent)==1){\n",
    "    participant$pre.newcomer.intent <- participant$pre.newcomer.intent -1\n",
    "}"
   ]
  },
  {
   "cell_type": "markdown",
   "metadata": {},
   "source": [
    "#### Monitoring-Mentoring Subgroups"
   ]
  },
  {
   "cell_type": "code",
   "execution_count": 8,
   "metadata": {},
   "outputs": [],
   "source": [
    "participant$mentor.monitor <- NA\n",
    "participant[(participant$pre.mentoring > 0 & \n",
    "            participant$pre.monitoring.damaging.content > 0),]$mentor.monitor <- \"Monitor & Mentor\"\n",
    "participant[(participant$pre.mentoring == 0 & \n",
    "            participant$pre.monitoring.damaging.content > 0),]$mentor.monitor <- \"Monitor Only\"\n",
    "participant[(participant$pre.mentoring > 0 & \n",
    "            participant$pre.monitoring.damaging.content == 0),]$mentor.monitor <- \"Mentor Only\"\n",
    "participant[(participant$pre.mentoring == 0 & \n",
    "            participant$pre.monitoring.damaging.content == 0),]$mentor.monitor <- \"Neither\"\n",
    "participant$mentor.monitor <- factor(participant$mentor.monitor)"
   ]
  },
  {
   "cell_type": "code",
   "execution_count": 9,
   "metadata": {},
   "outputs": [
    {
     "data": {
      "text/html": [
       "<style>\n",
       ".dl-inline {width: auto; margin:0; padding: 0}\n",
       ".dl-inline>dt, .dl-inline>dd {float: none; width: auto; display: inline-block}\n",
       ".dl-inline>dt::after {content: \":\\0020\"; padding-right: .5ex}\n",
       ".dl-inline>dt:not(:first-of-type) {padding-left: .5ex}\n",
       "</style><dl class=dl-inline><dt>Mentor Only</dt><dd>12</dd><dt>Monitor &amp; Mentor</dt><dd>148</dd><dt>Monitor Only</dt><dd>150</dd><dt>Neither</dt><dd>90</dd></dl>\n"
      ],
      "text/latex": [
       "\\begin{description*}\n",
       "\\item[Mentor Only] 12\n",
       "\\item[Monitor \\textbackslash{}\\& Mentor] 148\n",
       "\\item[Monitor Only] 150\n",
       "\\item[Neither] 90\n",
       "\\end{description*}\n"
      ],
      "text/markdown": [
       "Mentor Only\n",
       ":   12Monitor &amp;amp; Mentor\n",
       ":   148Monitor Only\n",
       ":   150Neither\n",
       ":   90\n",
       "\n"
      ],
      "text/plain": [
       "     Mentor Only Monitor & Mentor     Monitor Only          Neither \n",
       "              12              148              150               90 "
      ]
     },
     "metadata": {},
     "output_type": "display_data"
    }
   ],
   "source": [
    "summary(participant$mentor.monitor)"
   ]
  },
  {
   "cell_type": "markdown",
   "metadata": {},
   "source": [
    "# Introduction Analysis"
   ]
  },
  {
   "cell_type": "markdown",
   "metadata": {},
   "source": [
    "### Full Group Count"
   ]
  },
  {
   "cell_type": "code",
   "execution_count": 10,
   "metadata": {},
   "outputs": [
    {
     "data": {
      "text/html": [
       "447"
      ],
      "text/latex": [
       "447"
      ],
      "text/markdown": [
       "447"
      ],
      "text/plain": [
       "[1] 447"
      ]
     },
     "metadata": {},
     "output_type": "display_data"
    }
   ],
   "source": [
    "nrow(thankers.df)"
   ]
  },
  {
   "cell_type": "markdown",
   "metadata": {},
   "source": [
    "### Who Participated in the Study"
   ]
  },
  {
   "cell_type": "code",
   "execution_count": 11,
   "metadata": {},
   "outputs": [
    {
     "name": "stdout",
     "output_type": "stream",
     "text": [
      "[1] \"400 volunteers\"\n",
      "[1] \"238 accounts logged in\"\n",
      "[1] \"205 accounts in the 'inclusive' app sample\"\n",
      "[1] \"154 accounts in the 'exclusive' app sample\"\n",
      "[1] \"172 behavioral block compliers (logged in)\"\n",
      "[1] \"140 accounts completed post-survey\"\n",
      "[1] \"342 thanks sent\"\n",
      "[1] \"89 accounts sent thanks\"\n",
      "[1] \"489 accounts skipped\"\n"
     ]
    }
   ],
   "source": [
    "print(paste(nrow(participant), \"volunteers\"))\n",
    "print(paste(nrow(subset(participant, complier.app.logged.in==\"True\")), \"accounts logged in\"))\n",
    "print(paste(nrow(subset(participant, complier.app.inclusive)), \"accounts in the 'inclusive' app sample\"))\n",
    "print(paste(nrow(subset(participant, complier.app.int==1)), \"accounts in the 'exclusive' app sample\"))\n",
    "print(paste(nrow(behavioral.block.compliers), \"behavioral block compliers (logged in)\"))\n",
    "print(paste(nrow(subset(participant, complier.survey==\"True\")), \"accounts completed post-survey\"))\n",
    "print(paste(sum(participant$num.thank.actions, na.rm=TRUE), \"thanks sent\"))\n",
    "print(paste(sum(as.integer(participant$num.thank.actions > 0), na.rm=TRUE), \"accounts sent thanks\"))\n",
    "print(paste(sum(participant$num.thankees.skipped, na.rm=TRUE), \"accounts skipped\"))"
   ]
  },
  {
   "cell_type": "code",
   "execution_count": 12,
   "metadata": {},
   "outputs": [
    {
     "data": {
      "text/html": [
       "0.773809523809524"
      ],
      "text/latex": [
       "0.773809523809524"
      ],
      "text/markdown": [
       "0.773809523809524"
      ],
      "text/plain": [
       "[1] 0.7738095"
      ]
     },
     "metadata": {},
     "output_type": "display_data"
    }
   ],
   "source": [
    "nrow(subset(behavioral.compliers.exclusive, TREAT==TRUE & num.thankees.skipped>0)) / nrow(subset(behavioral.compliers.exclusive, TREAT==TRUE))"
   ]
  },
  {
   "cell_type": "code",
   "execution_count": 13,
   "metadata": {},
   "outputs": [
    {
     "name": "stdout",
     "output_type": "stream",
     "text": [
      "[1] \"Year joined\"\n"
     ]
    },
    {
     "data": {
      "text/plain": [
       "   Min. 1st Qu.  Median    Mean 3rd Qu.    Max. \n",
       "  0.000   5.000   9.000   8.498  12.000  17.000 "
      ]
     },
     "metadata": {},
     "output_type": "display_data"
    },
    {
     "name": "stdout",
     "output_type": "stream",
     "text": [
      "[1] \"Edits in the 56 days before treatment\"\n"
     ]
    },
    {
     "data": {
      "text/plain": [
       "   Min. 1st Qu.  Median    Mean 3rd Qu.    Max. \n",
       "   0.00    8.75   53.50  194.56  210.00 4109.00 "
      ]
     },
     "metadata": {},
     "output_type": "display_data"
    },
    {
     "name": "stdout",
     "output_type": "stream",
     "text": [
      "[1] \"Labor Hours in the 56 days before treatment\"\n"
     ]
    },
    {
     "data": {
      "text/plain": [
       "    Min.  1st Qu.   Median     Mean  3rd Qu.     Max. \n",
       "  0.0000   0.9106   6.4926  22.1485  27.7571 299.2500 "
      ]
     },
     "metadata": {},
     "output_type": "display_data"
    },
    {
     "name": "stdout",
     "output_type": "stream",
     "text": [
      "[1] \"Reverts in the 56 days before treatment\"\n"
     ]
    },
    {
     "data": {
      "text/plain": [
       "   Mode   FALSE    TRUE \n",
       "logical     182     218 "
      ]
     },
     "metadata": {},
     "output_type": "display_data"
    },
    {
     "data": {
      "image/png": "[encoded data removed]",
      "text/plain": [
       "Plot with title “Histogram of participant$year.joined”"
      ]
     },
     "metadata": {
      "image/png": {
       "height": 270,
       "width": 360
      },
      "text/plain": {
       "height": 270,
       "width": 360
      }
     },
     "output_type": "display_data"
    }
   ],
   "source": [
    "print(\"Year joined\")\n",
    "summary(2019-participant$year.joined)\n",
    "hist(participant$year.joined)\n",
    "print(\"Edits in the 56 days before treatment\")\n",
    "summary(participant$total.edits.56.pre.treatment)\n",
    "\n",
    "print(\"Labor Hours in the 56 days before treatment\")\n",
    "summary(participant$labor.hours.56.pre.treatment)\n",
    "\n",
    "\n",
    "print(\"Reverts in the 56 days before treatment\")\n",
    "summary(participant$num.reverts.56.pre.treatment>0)"
   ]
  },
  {
   "cell_type": "markdown",
   "metadata": {},
   "source": [
    "## Mentoring and Monitoring"
   ]
  },
  {
   "cell_type": "markdown",
   "metadata": {},
   "source": [
    "### Baseline Rates of Monitoring and Mentoring, Comparing Rates"
   ]
  },
  {
   "cell_type": "code",
   "execution_count": 14,
   "metadata": {},
   "outputs": [
    {
     "data": {
      "text/plain": [
       "   Min. 1st Qu.  Median    Mean 3rd Qu.    Max. \n",
       " 0.0000  0.0000  0.0000  0.5725  1.0000  4.0000 "
      ]
     },
     "metadata": {},
     "output_type": "display_data"
    },
    {
     "data": {
      "text/plain": [
       "   Min. 1st Qu.  Median    Mean 3rd Qu.    Max. \n",
       "  0.000   0.000   1.000   1.337   2.000   4.000 "
      ]
     },
     "metadata": {},
     "output_type": "display_data"
    },
    {
     "data": {
      "text/plain": [
       "   Mode   FALSE    TRUE \n",
       "logical     393       7 "
      ]
     },
     "metadata": {},
     "output_type": "display_data"
    },
    {
     "data": {
      "text/plain": [
       "   Mode   FALSE    TRUE \n",
       "logical     385      15 "
      ]
     },
     "metadata": {},
     "output_type": "display_data"
    },
    {
     "data": {
      "text/plain": [
       "\n",
       "\tWelch Two Sample t-test\n",
       "\n",
       "data:  participant$pre.mentoring and participant$pre.monitoring\n",
       "t = -10.769, df = 752.71, p-value < 2.2e-16\n",
       "alternative hypothesis: true difference in means is not equal to 0\n",
       "95 percent confidence interval:\n",
       " -0.9044501 -0.6255499\n",
       "sample estimates:\n",
       "mean of x mean of y \n",
       "   0.5725    1.3375 \n"
      ]
     },
     "metadata": {},
     "output_type": "display_data"
    }
   ],
   "source": [
    "summary((participant$pre.mentoring))\n",
    "summary((participant$pre.monitoring))\n",
    "summary(participant$pre.mentoring>3)\n",
    "summary(participant$pre.monitoring>3)\n",
    "\n",
    "t.test(participant$pre.mentoring, participant$pre.monitoring)"
   ]
  },
  {
   "cell_type": "markdown",
   "metadata": {},
   "source": [
    "### Correlations Between Supportive Activity, Monitoring Activity, and Mentoring Activity"
   ]
  },
  {
   "cell_type": "code",
   "execution_count": 15,
   "metadata": {},
   "outputs": [
    {
     "name": "stdout",
     "output_type": "stream",
     "text": [
      "[1] \"60% of participants report never doing any mentoring\"\n",
      "[1] \"25.5% of participants report never doing any monitoring\"\n",
      "[1] \"50% of participants who monitor report never doing any mentoring\"\n",
      "[1] \"---\"\n",
      "[1] \"22% of participants report never doing any mentoring or monitoring\"\n",
      "[1] \"37% of participants monitor but never do any mentoring\"\n",
      "[1] \"37% of participants monitor and mentor\"\n",
      "[1] \"3% of participants mentor but not monitor\"\n"
     ]
    }
   ],
   "source": [
    "print(paste(\n",
    "    nrow(subset(participant, pre.mentoring==0)) / nrow(participant)*100, \"%\",\n",
    "    \" of participants report never doing any mentoring\",\n",
    "    sep=\"\"))\n",
    "\n",
    "print(paste(\n",
    "    nrow(subset(participant, pre.monitoring.damaging.content==0)) / nrow(participant)*100, \"%\",\n",
    "    \" of participants report never doing any monitoring\",\n",
    "    sep=\"\"))\n",
    "\n",
    "print(paste(\n",
    "    as.integer(nrow(subset(participant, pre.monitoring.damaging.content>0 & pre.mentoring==0)) / nrow(subset(participant, pre.monitoring.damaging.content>0))*100), \"%\",\n",
    "    \" of participants who monitor report never doing any mentoring\",\n",
    "    sep=\"\"))\n",
    "print(\"---\")\n",
    "print(paste(\n",
    "    as.integer(nrow(subset(participant, pre.monitoring.damaging.content==0 & pre.mentoring==0)) / nrow(participant)*100), \"%\",\n",
    "    \" of participants report never doing any mentoring or monitoring\",\n",
    "    sep=\"\"))\n",
    "\n",
    "\n",
    "print(paste(\n",
    "    as.integer(nrow(subset(participant, pre.monitoring.damaging.content>0 & pre.mentoring==0)) / nrow(participant)*100), \"%\",\n",
    "    \" of participants monitor but never do any mentoring\",\n",
    "    sep=\"\"))\n",
    "\n",
    "print(paste(\n",
    "    as.integer(nrow(subset(participant, pre.monitoring.damaging.content>0 & pre.mentoring>0)) / nrow(participant)*100), \"%\",\n",
    "    \" of participants monitor and mentor\",\n",
    "    sep=\"\"))\n",
    "\n",
    "print(paste(\n",
    "    as.integer(nrow(subset(participant, pre.monitoring.damaging.content==0 & pre.mentoring>0)) / nrow(participant)*100), \"%\",\n",
    "    \" of participants mentor but not monitor\",\n",
    "    sep=\"\"))"
   ]
  },
  {
   "cell_type": "code",
   "execution_count": 16,
   "metadata": {},
   "outputs": [
    {
     "name": "stdout",
     "output_type": "stream",
     "text": [
      "[1] \"fa\"\n",
      "[1] \"58% of participants report doing some mentoring\"\n",
      "[1] \"----\"\n",
      "[1] \"de\"\n",
      "[1] \"37% of participants report doing some mentoring\"\n",
      "[1] \"----\"\n",
      "[1] \"pl\"\n",
      "[1] \"40% of participants report doing some mentoring\"\n",
      "[1] \"----\"\n"
     ]
    }
   ],
   "source": [
    "for(l in unique(participant$lang)){\n",
    "    print(l)\n",
    "    print(paste(\n",
    "    round(nrow(subset(participant, pre.mentoring>0 & lang==l)) / nrow(subset(participant, lang==l))*100), \"%\",\n",
    "    \" of participants report doing some mentoring\",\n",
    "    sep=\"\"))\n",
    "\n",
    "    print(\"----\")\n",
    "}"
   ]
  },
  {
   "cell_type": "code",
   "execution_count": 17,
   "metadata": {},
   "outputs": [],
   "source": [
    "#CrossTable(participant$mentor.monitor, participant$lang,prop.chisq = FALSE ,prop.t=FALSE)\n",
    "#participant$total.edits.56.pre.treatment\n",
    "poptab <- aggregate(participant[c(\"num.reverts.56.pre.treatment\", \n",
    "                        \"previous.supportive.actions\", \n",
    "                        \"labor.hours.56.pre.treatment\",\n",
    "                        \"pre.emotionally.draining\",\n",
    "                        \"pre.newcomer.intent\",\n",
    "                        \"pre.newcomer.capability\")], by=list(participant$mentor.monitor), FUN=mean)"
   ]
  },
  {
   "cell_type": "code",
   "execution_count": 18,
   "metadata": {},
   "outputs": [],
   "source": [
    "write.csv(poptab, '/home/paprika/Tresors/CivilServant/projects/wikipedia-integration/gratitude-study/datasets/misc/thanker.table.1.csv')"
   ]
  },
  {
   "cell_type": "code",
   "execution_count": 19,
   "metadata": {},
   "outputs": [
    {
     "name": "stdout",
     "output_type": "stream",
     "text": [
      "[1] \"DE\"\n"
     ]
    },
    {
     "data": {
      "text/html": [
       "<table>\n",
       "<caption>A data.frame: 4 × 7</caption>\n",
       "<thead>\n",
       "\t<tr><th scope=col>Group.1</th><th scope=col>num.reverts.56.pre.treatment</th><th scope=col>previous.supportive.actions</th><th scope=col>labor.hours.56.pre.treatment</th><th scope=col>pre.emotionally.draining</th><th scope=col>pre.newcomer.intent</th><th scope=col>pre.newcomer.capability</th></tr>\n",
       "\t<tr><th scope=col>&lt;fct&gt;</th><th scope=col>&lt;dbl&gt;</th><th scope=col>&lt;dbl&gt;</th><th scope=col>&lt;dbl&gt;</th><th scope=col>&lt;dbl&gt;</th><th scope=col>&lt;dbl&gt;</th><th scope=col>&lt;dbl&gt;</th></tr>\n",
       "</thead>\n",
       "<tbody>\n",
       "\t<tr><td>Mentor Only     </td><td>28.125000</td><td>19.75000</td><td>13.93889</td><td>2.000000</td><td>2.875000</td><td>2.750000</td></tr>\n",
       "\t<tr><td>Monitor &amp; Mentor</td><td>14.113402</td><td>53.45361</td><td>34.86501</td><td>1.969072</td><td>2.773196</td><td>2.154639</td></tr>\n",
       "\t<tr><td>Monitor Only    </td><td> 2.160377</td><td>16.00000</td><td>12.33559</td><td>1.943396</td><td>2.820755</td><td>2.047170</td></tr>\n",
       "\t<tr><td>Neither         </td><td> 7.786667</td><td>15.32000</td><td>17.94439</td><td>1.946667</td><td>2.880000</td><td>1.920000</td></tr>\n",
       "</tbody>\n",
       "</table>\n"
      ],
      "text/latex": [
       "A data.frame: 4 × 7\n",
       "\\begin{tabular}{lllllll}\n",
       " Group.1 & num.reverts.56.pre.treatment & previous.supportive.actions & labor.hours.56.pre.treatment & pre.emotionally.draining & pre.newcomer.intent & pre.newcomer.capability\\\\\n",
       " <fct> & <dbl> & <dbl> & <dbl> & <dbl> & <dbl> & <dbl>\\\\\n",
       "\\hline\n",
       "\t Mentor Only      & 28.125000 & 19.75000 & 13.93889 & 2.000000 & 2.875000 & 2.750000\\\\\n",
       "\t Monitor \\& Mentor & 14.113402 & 53.45361 & 34.86501 & 1.969072 & 2.773196 & 2.154639\\\\\n",
       "\t Monitor Only     &  2.160377 & 16.00000 & 12.33559 & 1.943396 & 2.820755 & 2.047170\\\\\n",
       "\t Neither          &  7.786667 & 15.32000 & 17.94439 & 1.946667 & 2.880000 & 1.920000\\\\\n",
       "\\end{tabular}\n"
      ],
      "text/markdown": [
       "\n",
       "A data.frame: 4 × 7\n",
       "\n",
       "| Group.1 &lt;fct&gt; | num.reverts.56.pre.treatment &lt;dbl&gt; | previous.supportive.actions &lt;dbl&gt; | labor.hours.56.pre.treatment &lt;dbl&gt; | pre.emotionally.draining &lt;dbl&gt; | pre.newcomer.intent &lt;dbl&gt; | pre.newcomer.capability &lt;dbl&gt; |\n",
       "|---|---|---|---|---|---|---|\n",
       "| Mentor Only      | 28.125000 | 19.75000 | 13.93889 | 2.000000 | 2.875000 | 2.750000 |\n",
       "| Monitor &amp; Mentor | 14.113402 | 53.45361 | 34.86501 | 1.969072 | 2.773196 | 2.154639 |\n",
       "| Monitor Only     |  2.160377 | 16.00000 | 12.33559 | 1.943396 | 2.820755 | 2.047170 |\n",
       "| Neither          |  7.786667 | 15.32000 | 17.94439 | 1.946667 | 2.880000 | 1.920000 |\n",
       "\n"
      ],
      "text/plain": [
       "  Group.1          num.reverts.56.pre.treatment previous.supportive.actions\n",
       "1 Mentor Only      28.125000                    19.75000                   \n",
       "2 Monitor & Mentor 14.113402                    53.45361                   \n",
       "3 Monitor Only      2.160377                    16.00000                   \n",
       "4 Neither           7.786667                    15.32000                   \n",
       "  labor.hours.56.pre.treatment pre.emotionally.draining pre.newcomer.intent\n",
       "1 13.93889                     2.000000                 2.875000           \n",
       "2 34.86501                     1.969072                 2.773196           \n",
       "3 12.33559                     1.943396                 2.820755           \n",
       "4 17.94439                     1.946667                 2.880000           \n",
       "  pre.newcomer.capability\n",
       "1 2.750000               \n",
       "2 2.154639               \n",
       "3 2.047170               \n",
       "4 1.920000               "
      ]
     },
     "metadata": {},
     "output_type": "display_data"
    },
    {
     "name": "stdout",
     "output_type": "stream",
     "text": [
      "[1] \"FA\"\n"
     ]
    },
    {
     "data": {
      "text/html": [
       "<table>\n",
       "<caption>A data.frame: 4 × 7</caption>\n",
       "<thead>\n",
       "\t<tr><th scope=col>Group.1</th><th scope=col>num.reverts.56.pre.treatment</th><th scope=col>previous.supportive.actions</th><th scope=col>labor.hours.56.pre.treatment</th><th scope=col>pre.emotionally.draining</th><th scope=col>pre.newcomer.intent</th><th scope=col>pre.newcomer.capability</th></tr>\n",
       "\t<tr><th scope=col>&lt;fct&gt;</th><th scope=col>&lt;dbl&gt;</th><th scope=col>&lt;dbl&gt;</th><th scope=col>&lt;dbl&gt;</th><th scope=col>&lt;dbl&gt;</th><th scope=col>&lt;dbl&gt;</th><th scope=col>&lt;dbl&gt;</th></tr>\n",
       "</thead>\n",
       "<tbody>\n",
       "\t<tr><td>Mentor Only     </td><td> 1.00000</td><td>41.00000</td><td>19.40111</td><td>1.000000</td><td>3.000000</td><td>4.00000</td></tr>\n",
       "\t<tr><td>Monitor &amp; Mentor</td><td>42.93103</td><td>73.10345</td><td>30.42717</td><td>3.551724</td><td>2.310345</td><td>1.62069</td></tr>\n",
       "\t<tr><td>Monitor Only    </td><td> 7.52381</td><td>24.76190</td><td>15.85205</td><td>3.190476</td><td>2.095238</td><td>1.52381</td></tr>\n",
       "\t<tr><td>Neither         </td><td> 0.00000</td><td> 0.00000</td><td> 0.00000</td><td>2.000000</td><td>2.000000</td><td>1.00000</td></tr>\n",
       "</tbody>\n",
       "</table>\n"
      ],
      "text/latex": [
       "A data.frame: 4 × 7\n",
       "\\begin{tabular}{lllllll}\n",
       " Group.1 & num.reverts.56.pre.treatment & previous.supportive.actions & labor.hours.56.pre.treatment & pre.emotionally.draining & pre.newcomer.intent & pre.newcomer.capability\\\\\n",
       " <fct> & <dbl> & <dbl> & <dbl> & <dbl> & <dbl> & <dbl>\\\\\n",
       "\\hline\n",
       "\t Mentor Only      &  1.00000 & 41.00000 & 19.40111 & 1.000000 & 3.000000 & 4.00000\\\\\n",
       "\t Monitor \\& Mentor & 42.93103 & 73.10345 & 30.42717 & 3.551724 & 2.310345 & 1.62069\\\\\n",
       "\t Monitor Only     &  7.52381 & 24.76190 & 15.85205 & 3.190476 & 2.095238 & 1.52381\\\\\n",
       "\t Neither          &  0.00000 &  0.00000 &  0.00000 & 2.000000 & 2.000000 & 1.00000\\\\\n",
       "\\end{tabular}\n"
      ],
      "text/markdown": [
       "\n",
       "A data.frame: 4 × 7\n",
       "\n",
       "| Group.1 &lt;fct&gt; | num.reverts.56.pre.treatment &lt;dbl&gt; | previous.supportive.actions &lt;dbl&gt; | labor.hours.56.pre.treatment &lt;dbl&gt; | pre.emotionally.draining &lt;dbl&gt; | pre.newcomer.intent &lt;dbl&gt; | pre.newcomer.capability &lt;dbl&gt; |\n",
       "|---|---|---|---|---|---|---|\n",
       "| Mentor Only      |  1.00000 | 41.00000 | 19.40111 | 1.000000 | 3.000000 | 4.00000 |\n",
       "| Monitor &amp; Mentor | 42.93103 | 73.10345 | 30.42717 | 3.551724 | 2.310345 | 1.62069 |\n",
       "| Monitor Only     |  7.52381 | 24.76190 | 15.85205 | 3.190476 | 2.095238 | 1.52381 |\n",
       "| Neither          |  0.00000 |  0.00000 |  0.00000 | 2.000000 | 2.000000 | 1.00000 |\n",
       "\n"
      ],
      "text/plain": [
       "  Group.1          num.reverts.56.pre.treatment previous.supportive.actions\n",
       "1 Mentor Only       1.00000                     41.00000                   \n",
       "2 Monitor & Mentor 42.93103                     73.10345                   \n",
       "3 Monitor Only      7.52381                     24.76190                   \n",
       "4 Neither           0.00000                      0.00000                   \n",
       "  labor.hours.56.pre.treatment pre.emotionally.draining pre.newcomer.intent\n",
       "1 19.40111                     1.000000                 3.000000           \n",
       "2 30.42717                     3.551724                 2.310345           \n",
       "3 15.85205                     3.190476                 2.095238           \n",
       "4  0.00000                     2.000000                 2.000000           \n",
       "  pre.newcomer.capability\n",
       "1 4.00000                \n",
       "2 1.62069                \n",
       "3 1.52381                \n",
       "4 1.00000                "
      ]
     },
     "metadata": {},
     "output_type": "display_data"
    },
    {
     "name": "stdout",
     "output_type": "stream",
     "text": [
      "[1] \"PL\"\n"
     ]
    },
    {
     "data": {
      "text/html": [
       "<table>\n",
       "<caption>A data.frame: 4 × 7</caption>\n",
       "<thead>\n",
       "\t<tr><th scope=col>Group.1</th><th scope=col>num.reverts.56.pre.treatment</th><th scope=col>previous.supportive.actions</th><th scope=col>labor.hours.56.pre.treatment</th><th scope=col>pre.emotionally.draining</th><th scope=col>pre.newcomer.intent</th><th scope=col>pre.newcomer.capability</th></tr>\n",
       "\t<tr><th scope=col>&lt;fct&gt;</th><th scope=col>&lt;dbl&gt;</th><th scope=col>&lt;dbl&gt;</th><th scope=col>&lt;dbl&gt;</th><th scope=col>&lt;dbl&gt;</th><th scope=col>&lt;dbl&gt;</th><th scope=col>&lt;dbl&gt;</th></tr>\n",
       "</thead>\n",
       "<tbody>\n",
       "\t<tr><td>Mentor Only     </td><td>45.666667</td><td>80.666667</td><td>22.459537</td><td>3.333333</td><td>3.000000</td><td>3.333333</td></tr>\n",
       "\t<tr><td>Monitor &amp; Mentor</td><td>30.227273</td><td>47.272727</td><td>35.289230</td><td>2.590909</td><td>2.590909</td><td>2.363636</td></tr>\n",
       "\t<tr><td>Monitor Only    </td><td>10.391304</td><td>27.695652</td><td>24.376751</td><td>2.782609</td><td>2.521739</td><td>2.565217</td></tr>\n",
       "\t<tr><td>Neither         </td><td> 1.857143</td><td> 3.071429</td><td> 5.249286</td><td>2.000000</td><td>2.714286</td><td>2.642857</td></tr>\n",
       "</tbody>\n",
       "</table>\n"
      ],
      "text/latex": [
       "A data.frame: 4 × 7\n",
       "\\begin{tabular}{lllllll}\n",
       " Group.1 & num.reverts.56.pre.treatment & previous.supportive.actions & labor.hours.56.pre.treatment & pre.emotionally.draining & pre.newcomer.intent & pre.newcomer.capability\\\\\n",
       " <fct> & <dbl> & <dbl> & <dbl> & <dbl> & <dbl> & <dbl>\\\\\n",
       "\\hline\n",
       "\t Mentor Only      & 45.666667 & 80.666667 & 22.459537 & 3.333333 & 3.000000 & 3.333333\\\\\n",
       "\t Monitor \\& Mentor & 30.227273 & 47.272727 & 35.289230 & 2.590909 & 2.590909 & 2.363636\\\\\n",
       "\t Monitor Only     & 10.391304 & 27.695652 & 24.376751 & 2.782609 & 2.521739 & 2.565217\\\\\n",
       "\t Neither          &  1.857143 &  3.071429 &  5.249286 & 2.000000 & 2.714286 & 2.642857\\\\\n",
       "\\end{tabular}\n"
      ],
      "text/markdown": [
       "\n",
       "A data.frame: 4 × 7\n",
       "\n",
       "| Group.1 &lt;fct&gt; | num.reverts.56.pre.treatment &lt;dbl&gt; | previous.supportive.actions &lt;dbl&gt; | labor.hours.56.pre.treatment &lt;dbl&gt; | pre.emotionally.draining &lt;dbl&gt; | pre.newcomer.intent &lt;dbl&gt; | pre.newcomer.capability &lt;dbl&gt; |\n",
       "|---|---|---|---|---|---|---|\n",
       "| Mentor Only      | 45.666667 | 80.666667 | 22.459537 | 3.333333 | 3.000000 | 3.333333 |\n",
       "| Monitor &amp; Mentor | 30.227273 | 47.272727 | 35.289230 | 2.590909 | 2.590909 | 2.363636 |\n",
       "| Monitor Only     | 10.391304 | 27.695652 | 24.376751 | 2.782609 | 2.521739 | 2.565217 |\n",
       "| Neither          |  1.857143 |  3.071429 |  5.249286 | 2.000000 | 2.714286 | 2.642857 |\n",
       "\n"
      ],
      "text/plain": [
       "  Group.1          num.reverts.56.pre.treatment previous.supportive.actions\n",
       "1 Mentor Only      45.666667                    80.666667                  \n",
       "2 Monitor & Mentor 30.227273                    47.272727                  \n",
       "3 Monitor Only     10.391304                    27.695652                  \n",
       "4 Neither           1.857143                     3.071429                  \n",
       "  labor.hours.56.pre.treatment pre.emotionally.draining pre.newcomer.intent\n",
       "1 22.459537                    3.333333                 3.000000           \n",
       "2 35.289230                    2.590909                 2.590909           \n",
       "3 24.376751                    2.782609                 2.521739           \n",
       "4  5.249286                    2.000000                 2.714286           \n",
       "  pre.newcomer.capability\n",
       "1 3.333333               \n",
       "2 2.363636               \n",
       "3 2.565217               \n",
       "4 2.642857               "
      ]
     },
     "metadata": {},
     "output_type": "display_data"
    }
   ],
   "source": [
    "print(\"DE\")\n",
    "aggregate(subset(participant, lang==\"de\")[c(\"num.reverts.56.pre.treatment\", \n",
    "                        \"previous.supportive.actions\", \n",
    "                        \"labor.hours.56.pre.treatment\",\n",
    "                        \"pre.emotionally.draining\",\n",
    "                        \"pre.newcomer.intent\",\n",
    "                        \"pre.newcomer.capability\")], by=list(subset(participant, lang==\"de\")$mentor.monitor), FUN=mean)\n",
    "print(\"FA\")\n",
    "aggregate(subset(participant, lang==\"fa\")[c(\"num.reverts.56.pre.treatment\", \n",
    "                        \"previous.supportive.actions\", \n",
    "                        \"labor.hours.56.pre.treatment\",\n",
    "                        \"pre.emotionally.draining\",\n",
    "                        \"pre.newcomer.intent\",\n",
    "                        \"pre.newcomer.capability\")], by=list(subset(participant, lang==\"fa\")$mentor.monitor), FUN=mean)\n",
    "\n",
    "print(\"PL\")\n",
    "aggregate(subset(participant, lang==\"pl\")[c(\"num.reverts.56.pre.treatment\", \n",
    "                        \"previous.supportive.actions\", \n",
    "                        \"labor.hours.56.pre.treatment\",\n",
    "                        \"pre.emotionally.draining\",\n",
    "                        \"pre.newcomer.intent\",\n",
    "                        \"pre.newcomer.capability\")], by=list(subset(participant, lang==\"pl\")$mentor.monitor), FUN=mean)"
   ]
  },
  {
   "cell_type": "code",
   "execution_count": 20,
   "metadata": {},
   "outputs": [],
   "source": [
    "# ## comparing mentors to monitors in the time they spend monitoring damaging content\n",
    "# mentors <- subset(participant, pre.mentoring>0)\n",
    "# monitors <- subset(participant, pre.mentoring==0 & pre.monitoring.damaging.content>0)\n",
    "\n",
    "# t.test(mentors$pre.monitoring.damaging.content, monitors$pre.monitoring.damaging.content)"
   ]
  },
  {
   "cell_type": "code",
   "execution_count": 21,
   "metadata": {},
   "outputs": [
    {
     "data": {
      "text/html": [
       "\n",
       "<!DOCTYPE HTML PUBLIC \"-//W3C//DTD HTML 4.01 Transitional//EN\" \"http://www.w3.org/TR/html4/loose.dtd\">\n",
       "<table cellspacing=\"0\" align=\"center\" style=\"border: none;\">\n",
       "<caption align=\"bottom\" style=\"margin-top:0.3em;\">Linear regression predicting log-transformed reverts from proportion of time spent monitoring damaging content, holding constant the overall rate of edits.</caption>\n",
       "<tr>\n",
       "<th style=\"text-align: left; border-top: 2px solid black; border-bottom: 1px solid black; padding-right: 12px;\"><b></b></th>\n",
       "<th style=\"text-align: left; border-top: 2px solid black; border-bottom: 1px solid black; padding-right: 12px;\"><b>log1p(num.reverts)</b></th>\n",
       "</tr>\n",
       "<tr>\n",
       "<td style=\"padding-right: 12px; border: none;\">(Intercept)</td>\n",
       "<td style=\"padding-right: 12px; border: none;\">-0.96<sup style=\"vertical-align: 0px;\">***</sup></td>\n",
       "</tr>\n",
       "<tr>\n",
       "<td style=\"padding-right: 12px; border: none;\"></td>\n",
       "<td style=\"padding-right: 12px; border: none;\">(0.11)</td>\n",
       "</tr>\n",
       "<tr>\n",
       "<td style=\"padding-right: 12px; border: none;\">log1p(total.edits.56.pre.treatment)</td>\n",
       "<td style=\"padding-right: 12px; border: none;\">0.47<sup style=\"vertical-align: 0px;\">***</sup></td>\n",
       "</tr>\n",
       "<tr>\n",
       "<td style=\"padding-right: 12px; border: none;\"></td>\n",
       "<td style=\"padding-right: 12px; border: none;\">(0.02)</td>\n",
       "</tr>\n",
       "<tr>\n",
       "<td style=\"padding-right: 12px; border: none;\">pre.monitoring.damaging.content</td>\n",
       "<td style=\"padding-right: 12px; border: none;\">0.21<sup style=\"vertical-align: 0px;\">***</sup></td>\n",
       "</tr>\n",
       "<tr>\n",
       "<td style=\"padding-right: 12px; border: none;\"></td>\n",
       "<td style=\"padding-right: 12px; border: none;\">(0.04)</td>\n",
       "</tr>\n",
       "<tr>\n",
       "<td style=\"border-top: 1px solid black;\">R<sup style=\"vertical-align: 0px;\">2</sup></td>\n",
       "<td style=\"border-top: 1px solid black;\">0.54</td>\n",
       "</tr>\n",
       "<tr>\n",
       "<td style=\"padding-right: 12px; border: none;\">Adj. R<sup style=\"vertical-align: 0px;\">2</sup></td>\n",
       "<td style=\"padding-right: 12px; border: none;\">0.54</td>\n",
       "</tr>\n",
       "<tr>\n",
       "<td style=\"padding-right: 12px; border: none;\">Num. obs.</td>\n",
       "<td style=\"padding-right: 12px; border: none;\">400</td>\n",
       "</tr>\n",
       "<tr>\n",
       "<td style=\"border-bottom: 2px solid black;\">RMSE</td>\n",
       "<td style=\"border-bottom: 2px solid black;\">0.95</td>\n",
       "</tr>\n",
       "<tr>\n",
       "<td style=\"padding-right: 12px; border: none;\" colspan=\"3\"><span style=\"font-size:0.8em\"><sup style=\"vertical-align: 0px;\">***</sup>p &lt; 0.001, <sup style=\"vertical-align: 0px;\">**</sup>p &lt; 0.01, <sup style=\"vertical-align: 0px;\">*</sup>p &lt; 0.05</span></td>\n",
       "</tr>\n",
       "</table>\n"
      ]
     },
     "metadata": {},
     "output_type": "display_data"
    }
   ],
   "source": [
    "## RELATIONSHIP BETWEEN MENTORING AND REVERTS\n",
    "IRdisplay::display_html(htmlreg(pre.monitoring.reverts.lm <- lm(log1p(num.reverts.56.pre.treatment) ~ \n",
    "                                       log1p(total.edits.56.pre.treatment) + \n",
    "                                       pre.monitoring.damaging.content, \n",
    "                                       data=participant),\n",
    "                               custom.model.names=c(\"log1p(num.reverts)\"),\n",
    "                               caption=\"Linear regression predicting log-transformed reverts from proportion of time spent monitoring damaging content, holding constant the overall rate of edits.\"\n",
    "                               ))"
   ]
  },
  {
   "cell_type": "code",
   "execution_count": 22,
   "metadata": {},
   "outputs": [
    {
     "data": {
      "text/html": [
       "\n",
       "<!DOCTYPE HTML PUBLIC \"-//W3C//DTD HTML 4.01 Transitional//EN\" \"http://www.w3.org/TR/html4/loose.dtd\">\n",
       "<table cellspacing=\"0\" align=\"center\" style=\"border: none;\">\n",
       "<caption align=\"bottom\" style=\"margin-top:0.3em;\">Linear regression predicting log-transformed talk page + support edits from proportion of time spent monitoring damaging content, holding constant the overall rate of edits.</caption>\n",
       "<tr>\n",
       "<th style=\"text-align: left; border-top: 2px solid black; border-bottom: 1px solid black; padding-right: 12px;\"><b></b></th>\n",
       "<th style=\"text-align: left; border-top: 2px solid black; border-bottom: 1px solid black; padding-right: 12px;\"><b>log1p(previous.supportive.actions)</b></th>\n",
       "</tr>\n",
       "<tr>\n",
       "<td style=\"padding-right: 12px; border: none;\">(Intercept)</td>\n",
       "<td style=\"padding-right: 12px; border: none;\">-0.52<sup style=\"vertical-align: 0px;\">***</sup></td>\n",
       "</tr>\n",
       "<tr>\n",
       "<td style=\"padding-right: 12px; border: none;\"></td>\n",
       "<td style=\"padding-right: 12px; border: none;\">(0.11)</td>\n",
       "</tr>\n",
       "<tr>\n",
       "<td style=\"padding-right: 12px; border: none;\">log1p(total.edits.56.pre.treatment)</td>\n",
       "<td style=\"padding-right: 12px; border: none;\">0.66<sup style=\"vertical-align: 0px;\">***</sup></td>\n",
       "</tr>\n",
       "<tr>\n",
       "<td style=\"padding-right: 12px; border: none;\"></td>\n",
       "<td style=\"padding-right: 12px; border: none;\">(0.02)</td>\n",
       "</tr>\n",
       "<tr>\n",
       "<td style=\"padding-right: 12px; border: none;\">pre.mentoring</td>\n",
       "<td style=\"padding-right: 12px; border: none;\">0.26<sup style=\"vertical-align: 0px;\">***</sup></td>\n",
       "</tr>\n",
       "<tr>\n",
       "<td style=\"padding-right: 12px; border: none;\"></td>\n",
       "<td style=\"padding-right: 12px; border: none;\">(0.06)</td>\n",
       "</tr>\n",
       "<tr>\n",
       "<td style=\"border-top: 1px solid black;\">R<sup style=\"vertical-align: 0px;\">2</sup></td>\n",
       "<td style=\"border-top: 1px solid black;\">0.67</td>\n",
       "</tr>\n",
       "<tr>\n",
       "<td style=\"padding-right: 12px; border: none;\">Adj. R<sup style=\"vertical-align: 0px;\">2</sup></td>\n",
       "<td style=\"padding-right: 12px; border: none;\">0.67</td>\n",
       "</tr>\n",
       "<tr>\n",
       "<td style=\"padding-right: 12px; border: none;\">Num. obs.</td>\n",
       "<td style=\"padding-right: 12px; border: none;\">400</td>\n",
       "</tr>\n",
       "<tr>\n",
       "<td style=\"border-bottom: 2px solid black;\">RMSE</td>\n",
       "<td style=\"border-bottom: 2px solid black;\">0.99</td>\n",
       "</tr>\n",
       "<tr>\n",
       "<td style=\"padding-right: 12px; border: none;\" colspan=\"3\"><span style=\"font-size:0.8em\"><sup style=\"vertical-align: 0px;\">***</sup>p &lt; 0.001, <sup style=\"vertical-align: 0px;\">**</sup>p &lt; 0.01, <sup style=\"vertical-align: 0px;\">*</sup>p &lt; 0.05</span></td>\n",
       "</tr>\n",
       "</table>\n"
      ]
     },
     "metadata": {},
     "output_type": "display_data"
    }
   ],
   "source": [
    "## RELATIONSHIP BETWEEN MENTORING AND Supportive Actions\n",
    "IRdisplay::display_html(htmlreg(pre.mentoring.support.lm <- lm(log1p(previous.supportive.actions) ~ \n",
    "                                       log1p(total.edits.56.pre.treatment) + \n",
    "                                       pre.mentoring, \n",
    "                                       data=participant),\n",
    "                               custom.model.names=c(\"log1p(previous.supportive.actions)\"),\n",
    "                               caption=\"Linear regression predicting log-transformed talk page + support edits from proportion of time spent monitoring damaging content, holding constant the overall rate of edits.\"\n",
    "                               ))"
   ]
  },
  {
   "cell_type": "markdown",
   "metadata": {},
   "source": [
    "## Feeling Positive and Feeling Emotionally Drained"
   ]
  },
  {
   "cell_type": "code",
   "execution_count": 23,
   "metadata": {},
   "outputs": [
    {
     "data": {
      "text/plain": [
       "   Min. 1st Qu.  Median    Mean 3rd Qu.    Max. \n",
       "  1.000   4.000   4.000   4.183   5.000   5.000 "
      ]
     },
     "metadata": {},
     "output_type": "display_data"
    },
    {
     "data": {
      "text/html": [
       "<style>\n",
       ".dl-inline {width: auto; margin:0; padding: 0}\n",
       ".dl-inline>dt, .dl-inline>dd {float: none; width: auto; display: inline-block}\n",
       ".dl-inline>dt::after {content: \":\\0020\"; padding-right: .5ex}\n",
       ".dl-inline>dt:not(:first-of-type) {padding-left: .5ex}\n",
       "</style><dl class=dl-inline><dt>1</dt><dd>3</dd><dt>2</dt><dd>16</dd><dt>3</dt><dd>53</dd><dt>4</dt><dd>161</dd><dt>5</dt><dd>167</dd></dl>\n"
      ],
      "text/latex": [
       "\\begin{description*}\n",
       "\\item[1] 3\n",
       "\\item[2] 16\n",
       "\\item[3] 53\n",
       "\\item[4] 161\n",
       "\\item[5] 167\n",
       "\\end{description*}\n"
      ],
      "text/markdown": [
       "1\n",
       ":   32\n",
       ":   163\n",
       ":   534\n",
       ":   1615\n",
       ":   167\n",
       "\n"
      ],
      "text/plain": [
       "  1   2   3   4   5 \n",
       "  3  16  53 161 167 "
      ]
     },
     "metadata": {},
     "output_type": "display_data"
    }
   ],
   "source": [
    "summary(participant$previous.positive.feeling)\n",
    "summary(factor(participant$previous.positive.feeling))"
   ]
  },
  {
   "cell_type": "code",
   "execution_count": 24,
   "metadata": {},
   "outputs": [
    {
     "data": {
      "text/plain": [
       "   Min. 1st Qu.  Median    Mean 3rd Qu.    Max. \n",
       "  1.000   1.000   2.000   2.228   3.000   5.000 "
      ]
     },
     "metadata": {},
     "output_type": "display_data"
    },
    {
     "data": {
      "text/html": [
       "<style>\n",
       ".dl-inline {width: auto; margin:0; padding: 0}\n",
       ".dl-inline>dt, .dl-inline>dd {float: none; width: auto; display: inline-block}\n",
       ".dl-inline>dt::after {content: \":\\0020\"; padding-right: .5ex}\n",
       ".dl-inline>dt:not(:first-of-type) {padding-left: .5ex}\n",
       "</style><dl class=dl-inline><dt>1</dt><dd>122</dd><dt>2</dt><dd>147</dd><dt>3</dt><dd>65</dd><dt>4</dt><dd>50</dd><dt>5</dt><dd>16</dd></dl>\n"
      ],
      "text/latex": [
       "\\begin{description*}\n",
       "\\item[1] 122\n",
       "\\item[2] 147\n",
       "\\item[3] 65\n",
       "\\item[4] 50\n",
       "\\item[5] 16\n",
       "\\end{description*}\n"
      ],
      "text/markdown": [
       "1\n",
       ":   1222\n",
       ":   1473\n",
       ":   654\n",
       ":   505\n",
       ":   16\n",
       "\n"
      ],
      "text/plain": [
       "  1   2   3   4   5 \n",
       "122 147  65  50  16 "
      ]
     },
     "metadata": {},
     "output_type": "display_data"
    }
   ],
   "source": [
    "summary(participant$pre.emotionally.draining)\n",
    "summary(factor(participant$pre.emotionally.draining))"
   ]
  },
  {
   "cell_type": "code",
   "execution_count": 25,
   "metadata": {},
   "outputs": [
    {
     "data": {
      "text/plain": [
       "\n",
       "Call:\n",
       "lm(formula = pre.monitoring.damaging.content ~ pre.emotionally.draining.zeroed + \n",
       "    previous.positive.feeling.zeroed + labor.hours.56.pre.treatment, \n",
       "    data = participant)\n",
       "\n",
       "Residuals:\n",
       "    Min      1Q  Median      3Q     Max \n",
       "-3.0083 -0.8990 -0.1452  0.7682  2.8425 \n",
       "\n",
       "Coefficients:\n",
       "                                 Estimate Std. Error t value Pr(>|t|)    \n",
       "(Intercept)                      1.140588   0.095866  11.898  < 2e-16 ***\n",
       "pre.emotionally.draining.zeroed  0.227531   0.048886   4.654 4.44e-06 ***\n",
       "previous.positive.feeling.zeroed 0.210355   0.064539   3.259 0.001213 ** \n",
       "labor.hours.56.pre.treatment     0.005596   0.001532   3.653 0.000294 ***\n",
       "---\n",
       "Signif. codes:  0 ‘***’ 0.001 ‘**’ 0.01 ‘*’ 0.05 ‘.’ 0.1 ‘ ’ 1\n",
       "\n",
       "Residual standard error: 1.067 on 396 degrees of freedom\n",
       "Multiple R-squared:  0.1012,\tAdjusted R-squared:  0.09443 \n",
       "F-statistic: 14.87 on 3 and 396 DF,  p-value: 3.427e-09\n"
      ]
     },
     "metadata": {},
     "output_type": "display_data"
    }
   ],
   "source": [
    "#IRdisplay::display_html(\n",
    "#    htmlreg(\n",
    "monitoring.positive.lm <- lm(pre.monitoring.damaging.content ~ \n",
    "           pre.emotionally.draining.zeroed + \n",
    "           previous.positive.feeling.zeroed +\n",
    "           labor.hours.56.pre.treatment,\n",
    "           data=participant)#,\n",
    "#       html.tag=FALSE,\n",
    "#       custom.model.names=c(\"Time Spent<br/>Monitoring\"),\n",
    "#       custom.coef.names =c(\"(Intercept)\", \"Emotionally Drained\", \"Positive Feeling\", \"Labor Hours\"),\n",
    "#       caption=paste(\"Factors Predicting Chance of Login\", \"<br/>\",\n",
    "#                        \"Survey of \", nrow(participant),  \" contributors in DE, FA, and PL Wikipedias, June-Oct 2019.\", \"<br/>\",\n",
    "#                        \"Participants were recruited via banner ads & mailing lists.\",\"<br/>\",\n",
    "#                        \"Eligible accounts included:\",\n",
    "#                        \"DE and PL: permission to flag revisions. FA: registered for 1 year & 500+ edits.\", \"<br/>\", \n",
    "#                        \"© Creative Commons Attribution 4.0.\", \"\\n\",\n",
    "#                        \"\\n\",\n",
    "#                        \"Citizens & Technology Lab • \",\n",
    "#                        \" <a href=\\\"https://citizensandtech.org\\\">www.citizensandtech.org</a>\",               \n",
    "#                        sep=\"\"))\n",
    "# )\n",
    "summary(monitoring.positive.lm)"
   ]
  },
  {
   "cell_type": "code",
   "execution_count": 26,
   "metadata": {},
   "outputs": [
    {
     "data": {
      "text/plain": [
       "\n",
       "Call:\n",
       "lm(formula = pre.mentoring ~ pre.emotionally.draining.zeroed + \n",
       "    previous.positive.feeling.zeroed + labor.hours.56.pre.treatment, \n",
       "    data = participant)\n",
       "\n",
       "Residuals:\n",
       "    Min      1Q  Median      3Q     Max \n",
       "-1.8279 -0.5127 -0.3544  0.4237  3.6413 \n",
       "\n",
       "Coefficients:\n",
       "                                 Estimate Std. Error t value Pr(>|t|)    \n",
       "(Intercept)                      0.494149   0.075643   6.533 1.99e-10 ***\n",
       "pre.emotionally.draining.zeroed  0.154920   0.038574   4.016 7.08e-05 ***\n",
       "previous.positive.feeling.zeroed 0.084914   0.050925   1.667 0.096217 .  \n",
       "labor.hours.56.pre.treatment     0.004407   0.001209   3.646 0.000302 ***\n",
       "---\n",
       "Signif. codes:  0 ‘***’ 0.001 ‘**’ 0.01 ‘*’ 0.05 ‘.’ 0.1 ‘ ’ 1\n",
       "\n",
       "Residual standard error: 0.8418 on 396 degrees of freedom\n",
       "Multiple R-squared:  0.07671,\tAdjusted R-squared:  0.06972 \n",
       "F-statistic: 10.97 on 3 and 396 DF,  p-value: 6.214e-07\n"
      ]
     },
     "metadata": {},
     "output_type": "display_data"
    }
   ],
   "source": [
    "mentoring.positive.lm <- lm(pre.mentoring ~ \n",
    "           pre.emotionally.draining.zeroed + \n",
    "           previous.positive.feeling.zeroed +\n",
    "           labor.hours.56.pre.treatment,\n",
    "           data=participant)\n",
    "summary(mentoring.positive.lm)"
   ]
  },
  {
   "cell_type": "code",
   "execution_count": 27,
   "metadata": {},
   "outputs": [
    {
     "data": {
      "text/html": [
       "<style>\n",
       ".dl-inline {width: auto; margin:0; padding: 0}\n",
       ".dl-inline>dt, .dl-inline>dd {float: none; width: auto; display: inline-block}\n",
       ".dl-inline>dt::after {content: \":\\0020\"; padding-right: .5ex}\n",
       ".dl-inline>dt:not(:first-of-type) {padding-left: .5ex}\n",
       "</style><dl class=dl-inline><dt>0</dt><dd>162</dd><dt>1</dt><dd>238</dd></dl>\n"
      ],
      "text/latex": [
       "\\begin{description*}\n",
       "\\item[0] 162\n",
       "\\item[1] 238\n",
       "\\end{description*}\n"
      ],
      "text/markdown": [
       "0\n",
       ":   1621\n",
       ":   238\n",
       "\n"
      ],
      "text/plain": [
       "  0   1 \n",
       "162 238 "
      ]
     },
     "metadata": {},
     "output_type": "display_data"
    }
   ],
   "source": [
    "summary(factor(participant$complier.app.logged.in.int))"
   ]
  },
  {
   "cell_type": "code",
   "execution_count": 28,
   "metadata": {},
   "outputs": [
    {
     "data": {
      "text/plain": [
       "\n",
       "\tPearson's product-moment correlation\n",
       "\n",
       "data:  participant$pre.emotionally.draining and participant$complier.app.logged.in.int\n",
       "t = -2.8296, df = 398, p-value = 0.004896\n",
       "alternative hypothesis: true correlation is not equal to 0\n",
       "95 percent confidence interval:\n",
       " -0.23524280 -0.04297019\n",
       "sample estimates:\n",
       "       cor \n",
       "-0.1404302 \n"
      ]
     },
     "metadata": {},
     "output_type": "display_data"
    },
    {
     "data": {
      "image/png": "[encoded data removed]",
      "text/plain": [
       "plot without title"
      ]
     },
     "metadata": {
      "image/png": {
       "height": 240,
       "width": 360
      },
      "text/plain": {
       "height": 240,
       "width": 360
      }
     },
     "output_type": "display_data"
    }
   ],
   "source": [
    "load_translations()\n",
    "thanker.labor.hours.plo.title = str_interp_trans('thanker.labor.hours.plo.title')\n",
    "thanker.Figure.1.col.1 = str_interp_trans('thanker.Figure.1.col.1')\n",
    "thanker.Figure.1.col.2 = str_interp_trans('thanker.Figure.1.col.2')\n",
    "thanker.Figure.1.col.3 = str_interp_trans('thanker.Figure.1.col.3')\n",
    "thanker.Figure.1.ylab = str_interp_trans('thanker.Figure.1.ylab')\n",
    "thanker.Figure.1.xlab = str_interp_trans('thanker.Figure.1.xlab')\n",
    "thanker.Figure.1.caption = str_interp_trans('thanker.Figure.1.caption')\n",
    "\n",
    "\n",
    "options(repr.plot.width=6, repr.plot.height=4)\n",
    "\n",
    "cor.test(participant$pre.emotionally.draining, participant$complier.app.logged.in.int)\n",
    "\n",
    "drain.plot <- ggplot(participant, aes(pre.emotionally.draining, complier.app.logged.in.int)) +\n",
    "    theme_bw() +\n",
    "    geom_smooth(method='lm', color=catpalette[2]) + \n",
    "    scale_y_continuous(labels=scales::number_format(accuracy=1.0, scale=100, suffix=\"%\"),\n",
    "                       breaks=seq(0, 1, 0.1)) +\n",
    "    facet_grid(. ~ lang) +\n",
    "    ylab(thanker.Figure.1.ylab) +\n",
    "    cat.theme + \n",
    "#     ggtitle(thanker.labor.hours.plo.title ) +\n",
    "    xlab(thanker.Figure.1.xlab)\n",
    "\n",
    "drain.plot <- annotate_figure(drain.plot,  top=text_grob(thanker.labor.hours.plo.title,\n",
    "                                      hjust=h.just, x=x.just, size=15,\n",
    "                                      face=\"bold\",\n",
    "                                      color=chartpalette[2]),\n",
    "                              bottom=text_grob(thanker.Figure.1.caption, \n",
    "                                         hjust=h.just, x=x.just, size=10, \n",
    "                                         color=chartpalette[4])) +\n",
    "                  annotation_custom(logo.pngob, ymin=-0.92, xmin=0.7-(0.7*h.just), xmax=1-(0.7*h.just)) +\n",
    "                    ggsave(file.path(blog.img.path, str_interp('drain-${bg.whiteortransparent}-${translation_lang}.png')),\n",
    "                          width=9, height=6.67 , units='in', bg=bg.whiteortransparent)\n",
    "drain.plot"
   ]
  },
  {
   "cell_type": "code",
   "execution_count": 29,
   "metadata": {},
   "outputs": [
    {
     "data": {
      "text/html": [
       "<style>\n",
       ".list-inline {list-style: none; margin:0; padding: 0}\n",
       ".list-inline>li {display: inline-block}\n",
       ".list-inline>li:not(:last-child)::after {content: \"\\00b7\"; padding: 0 .5ex}\n",
       "</style>\n",
       "<ol class=list-inline><li>39.7980555555556</li><li>0.325</li><li>68.7041666666667</li><li>56.4694444444445</li><li>0.358333333333333</li><li>129.226944444444</li><li>84.5052777777778</li><li>64.9936111111111</li><li>19.2544444444444</li><li>53.3297222222222</li><li>2.52638888888889</li><li>67.0700000000001</li><li>1.03277777777778</li><li>24.7825</li><li>0.845277777777778</li><li>4.29</li><li>10.4066666666667</li><li>14.2213888888889</li><li>8.83527777777778</li><li>14.1666666666667</li><li>69.5377777777778</li><li>0.773611111111111</li><li>1.08555555555556</li><li>51.4030555555556</li><li>30.9480555555555</li><li>97.6849999999999</li><li>0.238888888888889</li><li>0.477777777777778</li><li>1.81666666666667</li><li>0</li><li>2.65805555555556</li><li>20.1225</li><li>5.85805555555556</li><li>3.61111111111111</li><li>45.5713888888889</li><li>35.8711111111111</li><li>104.703333333333</li><li>2.95694444444444</li><li>4.03388888888889</li><li>0.846111111111111</li><li>3.01583333333333</li><li>3.90694444444444</li><li>14.5205555555556</li><li>0.87</li><li>0.556388888888889</li><li>0.316388888888889</li><li>0.119444444444444</li><li>19.4011111111111</li><li>2.4775</li><li>0</li><li>0</li><li>44.1572222222222</li><li>33.9483333333333</li><li>39.7425</li><li>1.3825</li><li>0.238888888888889</li><li>299.25</li><li>3.61055555555556</li><li>48.1119444444445</li><li>115.635277777778</li><li>150.408611111111</li><li>144.330277777778</li><li>0</li><li>132.169722222222</li><li>19.5983333333333</li><li>73.7066666666667</li><li>108.881388888889</li><li>6.78611111111111</li><li>7.62555555555556</li><li>34.6513888888889</li><li>19.8</li><li>67.9761111111112</li><li>14.9658333333333</li><li>23.6155555555555</li><li>8.84166666666666</li><li>86.2097222222222</li><li>26.4952777777778</li><li>50.5072222222222</li><li>69.4980555555556</li><li>82.2222222222222</li><li>4.23222222222222</li><li>76.0452777777778</li><li>96.2411111111111</li><li>29.3438888888889</li><li>4.12222222222222</li><li>15.6313888888889</li><li>48.8736111111111</li><li>70.6272222222223</li><li>6.31111111111111</li><li>19.3997222222222</li><li>0.597222222222222</li><li>42.7772222222222</li><li>60.8811111111111</li><li>56.9577777777778</li><li>12.3211111111111</li><li>45.0225000000001</li><li>0</li><li>0.358333333333333</li><li>0</li><li>0.477777777777778</li><li>2.55055555555556</li><li>14.2947222222222</li><li>16.5058333333333</li><li>14.5319444444444</li><li>129.872222222222</li><li>13.8733333333333</li><li>176.732222222222</li><li>71.9858333333333</li><li>8.21833333333333</li><li>152.597222222222</li><li>1.58111111111111</li><li>8.89083333333333</li><li>93.4741666666666</li><li>39.0602777777778</li><li>0.238888888888889</li><li>6.72305555555556</li><li>1.17194444444444</li><li>12.7311111111111</li><li>0</li><li>126.279722222222</li><li>3.45388888888889</li><li>10.6402777777778</li><li>0.238888888888889</li><li>13.5522222222222</li><li>14.9636111111111</li><li>77.5505555555555</li><li>69.8111111111111</li><li>17.1644444444444</li><li>0.133055555555556</li><li>57.7433333333333</li><li>8.94416666666666</li><li>5.39722222222222</li><li>1.58527777777778</li><li>8.4025</li><li>6.8525</li><li>22.9219444444444</li><li>3.64555555555556</li><li>81.0369444444444</li><li>0.911666666666667</li><li>0.597222222222222</li><li>24.8352777777778</li><li>3.33444444444444</li><li>41.28</li><li>26.6777777777777</li><li>3.36611111111111</li><li>0.119444444444444</li><li>0.641944444444445</li><li>1.02611111111111</li><li>42.0369444444445</li><li>28.3161111111111</li><li>0.123611111111111</li><li>25.885</li><li>3.80138888888889</li><li>0</li><li>0.628888888888889</li><li>31.6638888888889</li><li>1.59861111111111</li><li>22.5213888888889</li><li>4.29805555555556</li><li>0</li><li>7.81444444444445</li><li>0.141388888888889</li><li>15.455</li><li>25.1458333333333</li><li>0.176666666666667</li><li>5.28333333333333</li><li>56.2275</li><li>2.60333333333333</li><li>2.77694444444444</li><li>6.28972222222222</li><li>4.34277777777778</li><li>0.119444444444444</li><li>9.12805555555556</li><li>16.9225</li><li>34.015</li><li>0.477777777777778</li><li>0.119444444444444</li><li>1.20388888888889</li><li>0</li><li>2.42111111111111</li><li>12.3933333333333</li><li>4.95583333333333</li><li>0.479444444444445</li><li>4.45583333333333</li><li>2.13972222222222</li><li>1.38861111111111</li><li>30.8561111111111</li><li>0.27</li><li>65.3380555555556</li><li>21.7083333333333</li><li>2.25277777777778</li><li>14.2758333333333</li><li>1.26666666666667</li><li>9.01083333333333</li><li>2.78972222222222</li><li>0</li><li>69.5436111111112</li><li>0.119444444444444</li><li>0.119444444444444</li><li>9.31027777777777</li><li>0.8175</li><li>19.6766666666666</li><li>0</li><li>3.39</li><li>5.39222222222222</li><li>6.26888888888889</li><li>4.32472222222222</li><li>0</li><li>0.735277777777778</li><li>2.05527777777778</li><li>2.32583333333333</li><li>13.0338888888889</li><li>6.10138888888889</li><li>0.814166666666667</li><li>0.477777777777778</li><li>0.836111111111111</li><li>4.96027777777778</li><li>22.8522222222222</li><li>23.2238888888889</li><li>60.3505555555556</li><li>3.4</li><li>13.6408333333333</li><li>0.119444444444444</li><li>1.57805555555556</li><li>0.358333333333333</li><li>0</li><li>0</li><li>0.477777777777778</li><li>0.238888888888889</li><li>14.415</li><li>0.119444444444444</li><li>18.315</li><li>1.16527777777778</li><li>1.49472222222222</li><li>1.24388888888889</li><li>0.477777777777778</li><li>88.6186111111111</li><li>0</li><li>59.2447222222222</li><li>9.56861111111111</li><li>4.52027777777778</li><li>77.4725</li><li>2.72638888888889</li><li>89.7319444444444</li><li>38.1816666666667</li><li>17.7191666666666</li><li>0.264444444444444</li><li>0.542777777777778</li><li>4.65305555555556</li><li>6.40916666666667</li><li>15.4175</li><li>1.85305555555556</li><li>17.1736111111111</li><li>0.361111111111111</li><li>6.94972222222222</li><li>3.06083333333333</li><li>1.83472222222222</li><li>0.119444444444444</li><li>36.245</li><li>0</li><li>0.119444444444444</li><li>3.13444444444444</li><li>9.77777777777778</li><li>9.60055555555556</li><li>5.10638888888889</li><li>2.31583333333333</li><li>34.4127777777778</li><li>17.2763888888889</li><li>12.8827777777778</li><li>0</li><li>34.7630555555555</li><li>4.42583333333333</li><li>16.1469444444444</li><li>0.9075</li><li>1.71305555555556</li><li>93.63</li><li>17.2738888888889</li><li>5.69972222222222</li><li>16.3388888888889</li><li>46.175</li><li>25.8333333333333</li><li>1.09138888888889</li><li>15.6986111111111</li><li>1.10222222222222</li><li>2.10805555555556</li><li>0</li><li>1.09138888888889</li><li>4.19777777777778</li><li>2.25611111111111</li><li>1.44</li><li>0.620833333333333</li><li>0.896388888888889</li><li>0.127777777777778</li><li>4.11638888888889</li><li>0</li><li>6.96166666666667</li><li>1.78638888888889</li><li>0.119444444444444</li><li>0.358333333333333</li><li>8.70694444444445</li><li>4.87666666666667</li><li>2.16555555555556</li><li>1.94222222222222</li><li>1.60833333333333</li><li>21.4227777777778</li><li>0.128333333333333</li><li>1.1575</li><li>12.6986111111111</li><li>2.645</li><li>34.4177777777778</li><li>38.4747222222222</li><li>0.238888888888889</li><li>2.92333333333333</li><li>22.9116666666667</li><li>1.98138888888889</li><li>0.125555555555556</li><li>38.4477777777778</li><li>0.119444444444444</li><li>29.1658333333333</li><li>30.5155555555555</li><li>7.60833333333333</li><li>0.238888888888889</li><li>91.0919444444444</li><li>0.119444444444444</li><li>43.16</li><li>95.2561111111111</li><li>9.19611111111111</li><li>73.2144444444445</li><li>10.7136111111111</li><li>151.208888888889</li><li>7.61611111111111</li><li>3.68611111111111</li><li>6.49833333333333</li><li>1.19305555555556</li><li>6.73611111111111</li><li>0.809444444444445</li><li>0</li><li>0.158888888888889</li><li>14.9575</li><li>5.03833333333333</li><li>122.928055555555</li><li>18.8722222222222</li><li>157.888055555556</li><li>23.7963888888889</li><li>5.86972222222222</li><li>9.47083333333333</li><li>34.2927777777778</li><li>49.9861111111111</li><li>9.44833333333333</li><li>76.7355555555555</li><li>8.41888888888889</li><li>28.2783333333333</li><li>20.8680555555556</li><li>2.4075</li><li>6.73888888888889</li><li>52.1897222222223</li><li>0</li><li>0</li><li>0.119444444444444</li><li>0.985277777777778</li><li>57.9077777777778</li><li>0.119444444444444</li><li>40.5277777777778</li><li>8.91944444444444</li><li>0.358333333333333</li><li>43.4166666666667</li><li>0</li><li>24.3377777777778</li><li>0.836944444444444</li><li>0.983333333333333</li><li>69.6863888888889</li><li>19.4758333333333</li><li>0.477777777777778</li><li>22.6005555555555</li><li>0</li><li>0</li><li>133.321666666667</li><li>46.2088888888889</li><li>29.3752777777778</li><li>61.8852777777778</li><li>0.493888888888889</li><li>1.62833333333333</li><li>27.5833333333333</li><li>0.119444444444444</li><li>0.119444444444444</li><li>5.51833333333333</li><li>0.720555555555556</li><li>17.6819444444444</li><li>0.81</li><li>20.7713888888889</li><li>6.48694444444445</li><li>7.26138888888889</li><li>38.0641666666667</li><li>34.4952777777778</li><li>16.5675</li><li>57.2194444444445</li><li>0.238888888888889</li><li>26.2602777777778</li><li>5.53</li><li>0.597222222222222</li></ol>\n"
      ],
      "text/latex": [
       "\\begin{enumerate*}\n",
       "\\item 39.7980555555556\n",
       "\\item 0.325\n",
       "\\item 68.7041666666667\n",
       "\\item 56.4694444444445\n",
       "\\item 0.358333333333333\n",
       "\\item 129.226944444444\n",
       "\\item 84.5052777777778\n",
       "\\item 64.9936111111111\n",
       "\\item 19.2544444444444\n",
       "\\item 53.3297222222222\n",
       "\\item 2.52638888888889\n",
       "\\item 67.0700000000001\n",
       "\\item 1.03277777777778\n",
       "\\item 24.7825\n",
       "\\item 0.845277777777778\n",
       "\\item 4.29\n",
       "\\item 10.4066666666667\n",
       "\\item 14.2213888888889\n",
       "\\item 8.83527777777778\n",
       "\\item 14.1666666666667\n",
       "\\item 69.5377777777778\n",
       "\\item 0.773611111111111\n",
       "\\item 1.08555555555556\n",
       "\\item 51.4030555555556\n",
       "\\item 30.9480555555555\n",
       "\\item 97.6849999999999\n",
       "\\item 0.238888888888889\n",
       "\\item 0.477777777777778\n",
       "\\item 1.81666666666667\n",
       "\\item 0\n",
       "\\item 2.65805555555556\n",
       "\\item 20.1225\n",
       "\\item 5.85805555555556\n",
       "\\item 3.61111111111111\n",
       "\\item 45.5713888888889\n",
       "\\item 35.8711111111111\n",
       "\\item 104.703333333333\n",
       "\\item 2.95694444444444\n",
       "\\item 4.03388888888889\n",
       "\\item 0.846111111111111\n",
       "\\item 3.01583333333333\n",
       "\\item 3.90694444444444\n",
       "\\item 14.5205555555556\n",
       "\\item 0.87\n",
       "\\item 0.556388888888889\n",
       "\\item 0.316388888888889\n",
       "\\item 0.119444444444444\n",
       "\\item 19.4011111111111\n",
       "\\item 2.4775\n",
       "\\item 0\n",
       "\\item 0\n",
       "\\item 44.1572222222222\n",
       "\\item 33.9483333333333\n",
       "\\item 39.7425\n",
       "\\item 1.3825\n",
       "\\item 0.238888888888889\n",
       "\\item 299.25\n",
       "\\item 3.61055555555556\n",
       "\\item 48.1119444444445\n",
       "\\item 115.635277777778\n",
       "\\item 150.408611111111\n",
       "\\item 144.330277777778\n",
       "\\item 0\n",
       "\\item 132.169722222222\n",
       "\\item 19.5983333333333\n",
       "\\item 73.7066666666667\n",
       "\\item 108.881388888889\n",
       "\\item 6.78611111111111\n",
       "\\item 7.62555555555556\n",
       "\\item 34.6513888888889\n",
       "\\item 19.8\n",
       "\\item 67.9761111111112\n",
       "\\item 14.9658333333333\n",
       "\\item 23.6155555555555\n",
       "\\item 8.84166666666666\n",
       "\\item 86.2097222222222\n",
       "\\item 26.4952777777778\n",
       "\\item 50.5072222222222\n",
       "\\item 69.4980555555556\n",
       "\\item 82.2222222222222\n",
       "\\item 4.23222222222222\n",
       "\\item 76.0452777777778\n",
       "\\item 96.2411111111111\n",
       "\\item 29.3438888888889\n",
       "\\item 4.12222222222222\n",
       "\\item 15.6313888888889\n",
       "\\item 48.8736111111111\n",
       "\\item 70.6272222222223\n",
       "\\item 6.31111111111111\n",
       "\\item 19.3997222222222\n",
       "\\item 0.597222222222222\n",
       "\\item 42.7772222222222\n",
       "\\item 60.8811111111111\n",
       "\\item 56.9577777777778\n",
       "\\item 12.3211111111111\n",
       "\\item 45.0225000000001\n",
       "\\item 0\n",
       "\\item 0.358333333333333\n",
       "\\item 0\n",
       "\\item 0.477777777777778\n",
       "\\item 2.55055555555556\n",
       "\\item 14.2947222222222\n",
       "\\item 16.5058333333333\n",
       "\\item 14.5319444444444\n",
       "\\item 129.872222222222\n",
       "\\item 13.8733333333333\n",
       "\\item 176.732222222222\n",
       "\\item 71.9858333333333\n",
       "\\item 8.21833333333333\n",
       "\\item 152.597222222222\n",
       "\\item 1.58111111111111\n",
       "\\item 8.89083333333333\n",
       "\\item 93.4741666666666\n",
       "\\item 39.0602777777778\n",
       "\\item 0.238888888888889\n",
       "\\item 6.72305555555556\n",
       "\\item 1.17194444444444\n",
       "\\item 12.7311111111111\n",
       "\\item 0\n",
       "\\item 126.279722222222\n",
       "\\item 3.45388888888889\n",
       "\\item 10.6402777777778\n",
       "\\item 0.238888888888889\n",
       "\\item 13.5522222222222\n",
       "\\item 14.9636111111111\n",
       "\\item 77.5505555555555\n",
       "\\item 69.8111111111111\n",
       "\\item 17.1644444444444\n",
       "\\item 0.133055555555556\n",
       "\\item 57.7433333333333\n",
       "\\item 8.94416666666666\n",
       "\\item 5.39722222222222\n",
       "\\item 1.58527777777778\n",
       "\\item 8.4025\n",
       "\\item 6.8525\n",
       "\\item 22.9219444444444\n",
       "\\item 3.64555555555556\n",
       "\\item 81.0369444444444\n",
       "\\item 0.911666666666667\n",
       "\\item 0.597222222222222\n",
       "\\item 24.8352777777778\n",
       "\\item 3.33444444444444\n",
       "\\item 41.28\n",
       "\\item 26.6777777777777\n",
       "\\item 3.36611111111111\n",
       "\\item 0.119444444444444\n",
       "\\item 0.641944444444445\n",
       "\\item 1.02611111111111\n",
       "\\item 42.0369444444445\n",
       "\\item 28.3161111111111\n",
       "\\item 0.123611111111111\n",
       "\\item 25.885\n",
       "\\item 3.80138888888889\n",
       "\\item 0\n",
       "\\item 0.628888888888889\n",
       "\\item 31.6638888888889\n",
       "\\item 1.59861111111111\n",
       "\\item 22.5213888888889\n",
       "\\item 4.29805555555556\n",
       "\\item 0\n",
       "\\item 7.81444444444445\n",
       "\\item 0.141388888888889\n",
       "\\item 15.455\n",
       "\\item 25.1458333333333\n",
       "\\item 0.176666666666667\n",
       "\\item 5.28333333333333\n",
       "\\item 56.2275\n",
       "\\item 2.60333333333333\n",
       "\\item 2.77694444444444\n",
       "\\item 6.28972222222222\n",
       "\\item 4.34277777777778\n",
       "\\item 0.119444444444444\n",
       "\\item 9.12805555555556\n",
       "\\item 16.9225\n",
       "\\item 34.015\n",
       "\\item 0.477777777777778\n",
       "\\item 0.119444444444444\n",
       "\\item 1.20388888888889\n",
       "\\item 0\n",
       "\\item 2.42111111111111\n",
       "\\item 12.3933333333333\n",
       "\\item 4.95583333333333\n",
       "\\item 0.479444444444445\n",
       "\\item 4.45583333333333\n",
       "\\item 2.13972222222222\n",
       "\\item 1.38861111111111\n",
       "\\item 30.8561111111111\n",
       "\\item 0.27\n",
       "\\item 65.3380555555556\n",
       "\\item 21.7083333333333\n",
       "\\item 2.25277777777778\n",
       "\\item 14.2758333333333\n",
       "\\item 1.26666666666667\n",
       "\\item 9.01083333333333\n",
       "\\item 2.78972222222222\n",
       "\\item 0\n",
       "\\item 69.5436111111112\n",
       "\\item 0.119444444444444\n",
       "\\item 0.119444444444444\n",
       "\\item 9.31027777777777\n",
       "\\item 0.8175\n",
       "\\item 19.6766666666666\n",
       "\\item 0\n",
       "\\item 3.39\n",
       "\\item 5.39222222222222\n",
       "\\item 6.26888888888889\n",
       "\\item 4.32472222222222\n",
       "\\item 0\n",
       "\\item 0.735277777777778\n",
       "\\item 2.05527777777778\n",
       "\\item 2.32583333333333\n",
       "\\item 13.0338888888889\n",
       "\\item 6.10138888888889\n",
       "\\item 0.814166666666667\n",
       "\\item 0.477777777777778\n",
       "\\item 0.836111111111111\n",
       "\\item 4.96027777777778\n",
       "\\item 22.8522222222222\n",
       "\\item 23.2238888888889\n",
       "\\item 60.3505555555556\n",
       "\\item 3.4\n",
       "\\item 13.6408333333333\n",
       "\\item 0.119444444444444\n",
       "\\item 1.57805555555556\n",
       "\\item 0.358333333333333\n",
       "\\item 0\n",
       "\\item 0\n",
       "\\item 0.477777777777778\n",
       "\\item 0.238888888888889\n",
       "\\item 14.415\n",
       "\\item 0.119444444444444\n",
       "\\item 18.315\n",
       "\\item 1.16527777777778\n",
       "\\item 1.49472222222222\n",
       "\\item 1.24388888888889\n",
       "\\item 0.477777777777778\n",
       "\\item 88.6186111111111\n",
       "\\item 0\n",
       "\\item 59.2447222222222\n",
       "\\item 9.56861111111111\n",
       "\\item 4.52027777777778\n",
       "\\item 77.4725\n",
       "\\item 2.72638888888889\n",
       "\\item 89.7319444444444\n",
       "\\item 38.1816666666667\n",
       "\\item 17.7191666666666\n",
       "\\item 0.264444444444444\n",
       "\\item 0.542777777777778\n",
       "\\item 4.65305555555556\n",
       "\\item 6.40916666666667\n",
       "\\item 15.4175\n",
       "\\item 1.85305555555556\n",
       "\\item 17.1736111111111\n",
       "\\item 0.361111111111111\n",
       "\\item 6.94972222222222\n",
       "\\item 3.06083333333333\n",
       "\\item 1.83472222222222\n",
       "\\item 0.119444444444444\n",
       "\\item 36.245\n",
       "\\item 0\n",
       "\\item 0.119444444444444\n",
       "\\item 3.13444444444444\n",
       "\\item 9.77777777777778\n",
       "\\item 9.60055555555556\n",
       "\\item 5.10638888888889\n",
       "\\item 2.31583333333333\n",
       "\\item 34.4127777777778\n",
       "\\item 17.2763888888889\n",
       "\\item 12.8827777777778\n",
       "\\item 0\n",
       "\\item 34.7630555555555\n",
       "\\item 4.42583333333333\n",
       "\\item 16.1469444444444\n",
       "\\item 0.9075\n",
       "\\item 1.71305555555556\n",
       "\\item 93.63\n",
       "\\item 17.2738888888889\n",
       "\\item 5.69972222222222\n",
       "\\item 16.3388888888889\n",
       "\\item 46.175\n",
       "\\item 25.8333333333333\n",
       "\\item 1.09138888888889\n",
       "\\item 15.6986111111111\n",
       "\\item 1.10222222222222\n",
       "\\item 2.10805555555556\n",
       "\\item 0\n",
       "\\item 1.09138888888889\n",
       "\\item 4.19777777777778\n",
       "\\item 2.25611111111111\n",
       "\\item 1.44\n",
       "\\item 0.620833333333333\n",
       "\\item 0.896388888888889\n",
       "\\item 0.127777777777778\n",
       "\\item 4.11638888888889\n",
       "\\item 0\n",
       "\\item 6.96166666666667\n",
       "\\item 1.78638888888889\n",
       "\\item 0.119444444444444\n",
       "\\item 0.358333333333333\n",
       "\\item 8.70694444444445\n",
       "\\item 4.87666666666667\n",
       "\\item 2.16555555555556\n",
       "\\item 1.94222222222222\n",
       "\\item 1.60833333333333\n",
       "\\item 21.4227777777778\n",
       "\\item 0.128333333333333\n",
       "\\item 1.1575\n",
       "\\item 12.6986111111111\n",
       "\\item 2.645\n",
       "\\item 34.4177777777778\n",
       "\\item 38.4747222222222\n",
       "\\item 0.238888888888889\n",
       "\\item 2.92333333333333\n",
       "\\item 22.9116666666667\n",
       "\\item 1.98138888888889\n",
       "\\item 0.125555555555556\n",
       "\\item 38.4477777777778\n",
       "\\item 0.119444444444444\n",
       "\\item 29.1658333333333\n",
       "\\item 30.5155555555555\n",
       "\\item 7.60833333333333\n",
       "\\item 0.238888888888889\n",
       "\\item 91.0919444444444\n",
       "\\item 0.119444444444444\n",
       "\\item 43.16\n",
       "\\item 95.2561111111111\n",
       "\\item 9.19611111111111\n",
       "\\item 73.2144444444445\n",
       "\\item 10.7136111111111\n",
       "\\item 151.208888888889\n",
       "\\item 7.61611111111111\n",
       "\\item 3.68611111111111\n",
       "\\item 6.49833333333333\n",
       "\\item 1.19305555555556\n",
       "\\item 6.73611111111111\n",
       "\\item 0.809444444444445\n",
       "\\item 0\n",
       "\\item 0.158888888888889\n",
       "\\item 14.9575\n",
       "\\item 5.03833333333333\n",
       "\\item 122.928055555555\n",
       "\\item 18.8722222222222\n",
       "\\item 157.888055555556\n",
       "\\item 23.7963888888889\n",
       "\\item 5.86972222222222\n",
       "\\item 9.47083333333333\n",
       "\\item 34.2927777777778\n",
       "\\item 49.9861111111111\n",
       "\\item 9.44833333333333\n",
       "\\item 76.7355555555555\n",
       "\\item 8.41888888888889\n",
       "\\item 28.2783333333333\n",
       "\\item 20.8680555555556\n",
       "\\item 2.4075\n",
       "\\item 6.73888888888889\n",
       "\\item 52.1897222222223\n",
       "\\item 0\n",
       "\\item 0\n",
       "\\item 0.119444444444444\n",
       "\\item 0.985277777777778\n",
       "\\item 57.9077777777778\n",
       "\\item 0.119444444444444\n",
       "\\item 40.5277777777778\n",
       "\\item 8.91944444444444\n",
       "\\item 0.358333333333333\n",
       "\\item 43.4166666666667\n",
       "\\item 0\n",
       "\\item 24.3377777777778\n",
       "\\item 0.836944444444444\n",
       "\\item 0.983333333333333\n",
       "\\item 69.6863888888889\n",
       "\\item 19.4758333333333\n",
       "\\item 0.477777777777778\n",
       "\\item 22.6005555555555\n",
       "\\item 0\n",
       "\\item 0\n",
       "\\item 133.321666666667\n",
       "\\item 46.2088888888889\n",
       "\\item 29.3752777777778\n",
       "\\item 61.8852777777778\n",
       "\\item 0.493888888888889\n",
       "\\item 1.62833333333333\n",
       "\\item 27.5833333333333\n",
       "\\item 0.119444444444444\n",
       "\\item 0.119444444444444\n",
       "\\item 5.51833333333333\n",
       "\\item 0.720555555555556\n",
       "\\item 17.6819444444444\n",
       "\\item 0.81\n",
       "\\item 20.7713888888889\n",
       "\\item 6.48694444444445\n",
       "\\item 7.26138888888889\n",
       "\\item 38.0641666666667\n",
       "\\item 34.4952777777778\n",
       "\\item 16.5675\n",
       "\\item 57.2194444444445\n",
       "\\item 0.238888888888889\n",
       "\\item 26.2602777777778\n",
       "\\item 5.53\n",
       "\\item 0.597222222222222\n",
       "\\end{enumerate*}\n"
      ],
      "text/markdown": [
       "1. 39.7980555555556\n",
       "2. 0.325\n",
       "3. 68.7041666666667\n",
       "4. 56.4694444444445\n",
       "5. 0.358333333333333\n",
       "6. 129.226944444444\n",
       "7. 84.5052777777778\n",
       "8. 64.9936111111111\n",
       "9. 19.2544444444444\n",
       "10. 53.3297222222222\n",
       "11. 2.52638888888889\n",
       "12. 67.0700000000001\n",
       "13. 1.03277777777778\n",
       "14. 24.7825\n",
       "15. 0.845277777777778\n",
       "16. 4.29\n",
       "17. 10.4066666666667\n",
       "18. 14.2213888888889\n",
       "19. 8.83527777777778\n",
       "20. 14.1666666666667\n",
       "21. 69.5377777777778\n",
       "22. 0.773611111111111\n",
       "23. 1.08555555555556\n",
       "24. 51.4030555555556\n",
       "25. 30.9480555555555\n",
       "26. 97.6849999999999\n",
       "27. 0.238888888888889\n",
       "28. 0.477777777777778\n",
       "29. 1.81666666666667\n",
       "30. 0\n",
       "31. 2.65805555555556\n",
       "32. 20.1225\n",
       "33. 5.85805555555556\n",
       "34. 3.61111111111111\n",
       "35. 45.5713888888889\n",
       "36. 35.8711111111111\n",
       "37. 104.703333333333\n",
       "38. 2.95694444444444\n",
       "39. 4.03388888888889\n",
       "40. 0.846111111111111\n",
       "41. 3.01583333333333\n",
       "42. 3.90694444444444\n",
       "43. 14.5205555555556\n",
       "44. 0.87\n",
       "45. 0.556388888888889\n",
       "46. 0.316388888888889\n",
       "47. 0.119444444444444\n",
       "48. 19.4011111111111\n",
       "49. 2.4775\n",
       "50. 0\n",
       "51. 0\n",
       "52. 44.1572222222222\n",
       "53. 33.9483333333333\n",
       "54. 39.7425\n",
       "55. 1.3825\n",
       "56. 0.238888888888889\n",
       "57. 299.25\n",
       "58. 3.61055555555556\n",
       "59. 48.1119444444445\n",
       "60. 115.635277777778\n",
       "61. 150.408611111111\n",
       "62. 144.330277777778\n",
       "63. 0\n",
       "64. 132.169722222222\n",
       "65. 19.5983333333333\n",
       "66. 73.7066666666667\n",
       "67. 108.881388888889\n",
       "68. 6.78611111111111\n",
       "69. 7.62555555555556\n",
       "70. 34.6513888888889\n",
       "71. 19.8\n",
       "72. 67.9761111111112\n",
       "73. 14.9658333333333\n",
       "74. 23.6155555555555\n",
       "75. 8.84166666666666\n",
       "76. 86.2097222222222\n",
       "77. 26.4952777777778\n",
       "78. 50.5072222222222\n",
       "79. 69.4980555555556\n",
       "80. 82.2222222222222\n",
       "81. 4.23222222222222\n",
       "82. 76.0452777777778\n",
       "83. 96.2411111111111\n",
       "84. 29.3438888888889\n",
       "85. 4.12222222222222\n",
       "86. 15.6313888888889\n",
       "87. 48.8736111111111\n",
       "88. 70.6272222222223\n",
       "89. 6.31111111111111\n",
       "90. 19.3997222222222\n",
       "91. 0.597222222222222\n",
       "92. 42.7772222222222\n",
       "93. 60.8811111111111\n",
       "94. 56.9577777777778\n",
       "95. 12.3211111111111\n",
       "96. 45.0225000000001\n",
       "97. 0\n",
       "98. 0.358333333333333\n",
       "99. 0\n",
       "100. 0.477777777777778\n",
       "101. 2.55055555555556\n",
       "102. 14.2947222222222\n",
       "103. 16.5058333333333\n",
       "104. 14.5319444444444\n",
       "105. 129.872222222222\n",
       "106. 13.8733333333333\n",
       "107. 176.732222222222\n",
       "108. 71.9858333333333\n",
       "109. 8.21833333333333\n",
       "110. 152.597222222222\n",
       "111. 1.58111111111111\n",
       "112. 8.89083333333333\n",
       "113. 93.4741666666666\n",
       "114. 39.0602777777778\n",
       "115. 0.238888888888889\n",
       "116. 6.72305555555556\n",
       "117. 1.17194444444444\n",
       "118. 12.7311111111111\n",
       "119. 0\n",
       "120. 126.279722222222\n",
       "121. 3.45388888888889\n",
       "122. 10.6402777777778\n",
       "123. 0.238888888888889\n",
       "124. 13.5522222222222\n",
       "125. 14.9636111111111\n",
       "126. 77.5505555555555\n",
       "127. 69.8111111111111\n",
       "128. 17.1644444444444\n",
       "129. 0.133055555555556\n",
       "130. 57.7433333333333\n",
       "131. 8.94416666666666\n",
       "132. 5.39722222222222\n",
       "133. 1.58527777777778\n",
       "134. 8.4025\n",
       "135. 6.8525\n",
       "136. 22.9219444444444\n",
       "137. 3.64555555555556\n",
       "138. 81.0369444444444\n",
       "139. 0.911666666666667\n",
       "140. 0.597222222222222\n",
       "141. 24.8352777777778\n",
       "142. 3.33444444444444\n",
       "143. 41.28\n",
       "144. 26.6777777777777\n",
       "145. 3.36611111111111\n",
       "146. 0.119444444444444\n",
       "147. 0.641944444444445\n",
       "148. 1.02611111111111\n",
       "149. 42.0369444444445\n",
       "150. 28.3161111111111\n",
       "151. 0.123611111111111\n",
       "152. 25.885\n",
       "153. 3.80138888888889\n",
       "154. 0\n",
       "155. 0.628888888888889\n",
       "156. 31.6638888888889\n",
       "157. 1.59861111111111\n",
       "158. 22.5213888888889\n",
       "159. 4.29805555555556\n",
       "160. 0\n",
       "161. 7.81444444444445\n",
       "162. 0.141388888888889\n",
       "163. 15.455\n",
       "164. 25.1458333333333\n",
       "165. 0.176666666666667\n",
       "166. 5.28333333333333\n",
       "167. 56.2275\n",
       "168. 2.60333333333333\n",
       "169. 2.77694444444444\n",
       "170. 6.28972222222222\n",
       "171. 4.34277777777778\n",
       "172. 0.119444444444444\n",
       "173. 9.12805555555556\n",
       "174. 16.9225\n",
       "175. 34.015\n",
       "176. 0.477777777777778\n",
       "177. 0.119444444444444\n",
       "178. 1.20388888888889\n",
       "179. 0\n",
       "180. 2.42111111111111\n",
       "181. 12.3933333333333\n",
       "182. 4.95583333333333\n",
       "183. 0.479444444444445\n",
       "184. 4.45583333333333\n",
       "185. 2.13972222222222\n",
       "186. 1.38861111111111\n",
       "187. 30.8561111111111\n",
       "188. 0.27\n",
       "189. 65.3380555555556\n",
       "190. 21.7083333333333\n",
       "191. 2.25277777777778\n",
       "192. 14.2758333333333\n",
       "193. 1.26666666666667\n",
       "194. 9.01083333333333\n",
       "195. 2.78972222222222\n",
       "196. 0\n",
       "197. 69.5436111111112\n",
       "198. 0.119444444444444\n",
       "199. 0.119444444444444\n",
       "200. 9.31027777777777\n",
       "201. 0.8175\n",
       "202. 19.6766666666666\n",
       "203. 0\n",
       "204. 3.39\n",
       "205. 5.39222222222222\n",
       "206. 6.26888888888889\n",
       "207. 4.32472222222222\n",
       "208. 0\n",
       "209. 0.735277777777778\n",
       "210. 2.05527777777778\n",
       "211. 2.32583333333333\n",
       "212. 13.0338888888889\n",
       "213. 6.10138888888889\n",
       "214. 0.814166666666667\n",
       "215. 0.477777777777778\n",
       "216. 0.836111111111111\n",
       "217. 4.96027777777778\n",
       "218. 22.8522222222222\n",
       "219. 23.2238888888889\n",
       "220. 60.3505555555556\n",
       "221. 3.4\n",
       "222. 13.6408333333333\n",
       "223. 0.119444444444444\n",
       "224. 1.57805555555556\n",
       "225. 0.358333333333333\n",
       "226. 0\n",
       "227. 0\n",
       "228. 0.477777777777778\n",
       "229. 0.238888888888889\n",
       "230. 14.415\n",
       "231. 0.119444444444444\n",
       "232. 18.315\n",
       "233. 1.16527777777778\n",
       "234. 1.49472222222222\n",
       "235. 1.24388888888889\n",
       "236. 0.477777777777778\n",
       "237. 88.6186111111111\n",
       "238. 0\n",
       "239. 59.2447222222222\n",
       "240. 9.56861111111111\n",
       "241. 4.52027777777778\n",
       "242. 77.4725\n",
       "243. 2.72638888888889\n",
       "244. 89.7319444444444\n",
       "245. 38.1816666666667\n",
       "246. 17.7191666666666\n",
       "247. 0.264444444444444\n",
       "248. 0.542777777777778\n",
       "249. 4.65305555555556\n",
       "250. 6.40916666666667\n",
       "251. 15.4175\n",
       "252. 1.85305555555556\n",
       "253. 17.1736111111111\n",
       "254. 0.361111111111111\n",
       "255. 6.94972222222222\n",
       "256. 3.06083333333333\n",
       "257. 1.83472222222222\n",
       "258. 0.119444444444444\n",
       "259. 36.245\n",
       "260. 0\n",
       "261. 0.119444444444444\n",
       "262. 3.13444444444444\n",
       "263. 9.77777777777778\n",
       "264. 9.60055555555556\n",
       "265. 5.10638888888889\n",
       "266. 2.31583333333333\n",
       "267. 34.4127777777778\n",
       "268. 17.2763888888889\n",
       "269. 12.8827777777778\n",
       "270. 0\n",
       "271. 34.7630555555555\n",
       "272. 4.42583333333333\n",
       "273. 16.1469444444444\n",
       "274. 0.9075\n",
       "275. 1.71305555555556\n",
       "276. 93.63\n",
       "277. 17.2738888888889\n",
       "278. 5.69972222222222\n",
       "279. 16.3388888888889\n",
       "280. 46.175\n",
       "281. 25.8333333333333\n",
       "282. 1.09138888888889\n",
       "283. 15.6986111111111\n",
       "284. 1.10222222222222\n",
       "285. 2.10805555555556\n",
       "286. 0\n",
       "287. 1.09138888888889\n",
       "288. 4.19777777777778\n",
       "289. 2.25611111111111\n",
       "290. 1.44\n",
       "291. 0.620833333333333\n",
       "292. 0.896388888888889\n",
       "293. 0.127777777777778\n",
       "294. 4.11638888888889\n",
       "295. 0\n",
       "296. 6.96166666666667\n",
       "297. 1.78638888888889\n",
       "298. 0.119444444444444\n",
       "299. 0.358333333333333\n",
       "300. 8.70694444444445\n",
       "301. 4.87666666666667\n",
       "302. 2.16555555555556\n",
       "303. 1.94222222222222\n",
       "304. 1.60833333333333\n",
       "305. 21.4227777777778\n",
       "306. 0.128333333333333\n",
       "307. 1.1575\n",
       "308. 12.6986111111111\n",
       "309. 2.645\n",
       "310. 34.4177777777778\n",
       "311. 38.4747222222222\n",
       "312. 0.238888888888889\n",
       "313. 2.92333333333333\n",
       "314. 22.9116666666667\n",
       "315. 1.98138888888889\n",
       "316. 0.125555555555556\n",
       "317. 38.4477777777778\n",
       "318. 0.119444444444444\n",
       "319. 29.1658333333333\n",
       "320. 30.5155555555555\n",
       "321. 7.60833333333333\n",
       "322. 0.238888888888889\n",
       "323. 91.0919444444444\n",
       "324. 0.119444444444444\n",
       "325. 43.16\n",
       "326. 95.2561111111111\n",
       "327. 9.19611111111111\n",
       "328. 73.2144444444445\n",
       "329. 10.7136111111111\n",
       "330. 151.208888888889\n",
       "331. 7.61611111111111\n",
       "332. 3.68611111111111\n",
       "333. 6.49833333333333\n",
       "334. 1.19305555555556\n",
       "335. 6.73611111111111\n",
       "336. 0.809444444444445\n",
       "337. 0\n",
       "338. 0.158888888888889\n",
       "339. 14.9575\n",
       "340. 5.03833333333333\n",
       "341. 122.928055555555\n",
       "342. 18.8722222222222\n",
       "343. 157.888055555556\n",
       "344. 23.7963888888889\n",
       "345. 5.86972222222222\n",
       "346. 9.47083333333333\n",
       "347. 34.2927777777778\n",
       "348. 49.9861111111111\n",
       "349. 9.44833333333333\n",
       "350. 76.7355555555555\n",
       "351. 8.41888888888889\n",
       "352. 28.2783333333333\n",
       "353. 20.8680555555556\n",
       "354. 2.4075\n",
       "355. 6.73888888888889\n",
       "356. 52.1897222222223\n",
       "357. 0\n",
       "358. 0\n",
       "359. 0.119444444444444\n",
       "360. 0.985277777777778\n",
       "361. 57.9077777777778\n",
       "362. 0.119444444444444\n",
       "363. 40.5277777777778\n",
       "364. 8.91944444444444\n",
       "365. 0.358333333333333\n",
       "366. 43.4166666666667\n",
       "367. 0\n",
       "368. 24.3377777777778\n",
       "369. 0.836944444444444\n",
       "370. 0.983333333333333\n",
       "371. 69.6863888888889\n",
       "372. 19.4758333333333\n",
       "373. 0.477777777777778\n",
       "374. 22.6005555555555\n",
       "375. 0\n",
       "376. 0\n",
       "377. 133.321666666667\n",
       "378. 46.2088888888889\n",
       "379. 29.3752777777778\n",
       "380. 61.8852777777778\n",
       "381. 0.493888888888889\n",
       "382. 1.62833333333333\n",
       "383. 27.5833333333333\n",
       "384. 0.119444444444444\n",
       "385. 0.119444444444444\n",
       "386. 5.51833333333333\n",
       "387. 0.720555555555556\n",
       "388. 17.6819444444444\n",
       "389. 0.81\n",
       "390. 20.7713888888889\n",
       "391. 6.48694444444445\n",
       "392. 7.26138888888889\n",
       "393. 38.0641666666667\n",
       "394. 34.4952777777778\n",
       "395. 16.5675\n",
       "396. 57.2194444444445\n",
       "397. 0.238888888888889\n",
       "398. 26.2602777777778\n",
       "399. 5.53\n",
       "400. 0.597222222222222\n",
       "\n",
       "\n"
      ],
      "text/plain": [
       "  [1]  39.7980556   0.3250000  68.7041667  56.4694444   0.3583333 129.2269444\n",
       "  [7]  84.5052778  64.9936111  19.2544444  53.3297222   2.5263889  67.0700000\n",
       " [13]   1.0327778  24.7825000   0.8452778   4.2900000  10.4066667  14.2213889\n",
       " [19]   8.8352778  14.1666667  69.5377778   0.7736111   1.0855556  51.4030556\n",
       " [25]  30.9480556  97.6850000   0.2388889   0.4777778   1.8166667   0.0000000\n",
       " [31]   2.6580556  20.1225000   5.8580556   3.6111111  45.5713889  35.8711111\n",
       " [37] 104.7033333   2.9569444   4.0338889   0.8461111   3.0158333   3.9069444\n",
       " [43]  14.5205556   0.8700000   0.5563889   0.3163889   0.1194444  19.4011111\n",
       " [49]   2.4775000   0.0000000   0.0000000  44.1572222  33.9483333  39.7425000\n",
       " [55]   1.3825000   0.2388889 299.2500000   3.6105556  48.1119444 115.6352778\n",
       " [61] 150.4086111 144.3302778   0.0000000 132.1697222  19.5983333  73.7066667\n",
       " [67] 108.8813889   6.7861111   7.6255556  34.6513889  19.8000000  67.9761111\n",
       " [73]  14.9658333  23.6155556   8.8416667  86.2097222  26.4952778  50.5072222\n",
       " [79]  69.4980556  82.2222222   4.2322222  76.0452778  96.2411111  29.3438889\n",
       " [85]   4.1222222  15.6313889  48.8736111  70.6272222   6.3111111  19.3997222\n",
       " [91]   0.5972222  42.7772222  60.8811111  56.9577778  12.3211111  45.0225000\n",
       " [97]   0.0000000   0.3583333   0.0000000   0.4777778   2.5505556  14.2947222\n",
       "[103]  16.5058333  14.5319444 129.8722222  13.8733333 176.7322222  71.9858333\n",
       "[109]   8.2183333 152.5972222   1.5811111   8.8908333  93.4741667  39.0602778\n",
       "[115]   0.2388889   6.7230556   1.1719444  12.7311111   0.0000000 126.2797222\n",
       "[121]   3.4538889  10.6402778   0.2388889  13.5522222  14.9636111  77.5505556\n",
       "[127]  69.8111111  17.1644444   0.1330556  57.7433333   8.9441667   5.3972222\n",
       "[133]   1.5852778   8.4025000   6.8525000  22.9219444   3.6455556  81.0369444\n",
       "[139]   0.9116667   0.5972222  24.8352778   3.3344444  41.2800000  26.6777778\n",
       "[145]   3.3661111   0.1194444   0.6419444   1.0261111  42.0369444  28.3161111\n",
       "[151]   0.1236111  25.8850000   3.8013889   0.0000000   0.6288889  31.6638889\n",
       "[157]   1.5986111  22.5213889   4.2980556   0.0000000   7.8144444   0.1413889\n",
       "[163]  15.4550000  25.1458333   0.1766667   5.2833333  56.2275000   2.6033333\n",
       "[169]   2.7769444   6.2897222   4.3427778   0.1194444   9.1280556  16.9225000\n",
       "[175]  34.0150000   0.4777778   0.1194444   1.2038889   0.0000000   2.4211111\n",
       "[181]  12.3933333   4.9558333   0.4794444   4.4558333   2.1397222   1.3886111\n",
       "[187]  30.8561111   0.2700000  65.3380556  21.7083333   2.2527778  14.2758333\n",
       "[193]   1.2666667   9.0108333   2.7897222   0.0000000  69.5436111   0.1194444\n",
       "[199]   0.1194444   9.3102778   0.8175000  19.6766667   0.0000000   3.3900000\n",
       "[205]   5.3922222   6.2688889   4.3247222   0.0000000   0.7352778   2.0552778\n",
       "[211]   2.3258333  13.0338889   6.1013889   0.8141667   0.4777778   0.8361111\n",
       "[217]   4.9602778  22.8522222  23.2238889  60.3505556   3.4000000  13.6408333\n",
       "[223]   0.1194444   1.5780556   0.3583333   0.0000000   0.0000000   0.4777778\n",
       "[229]   0.2388889  14.4150000   0.1194444  18.3150000   1.1652778   1.4947222\n",
       "[235]   1.2438889   0.4777778  88.6186111   0.0000000  59.2447222   9.5686111\n",
       "[241]   4.5202778  77.4725000   2.7263889  89.7319444  38.1816667  17.7191667\n",
       "[247]   0.2644444   0.5427778   4.6530556   6.4091667  15.4175000   1.8530556\n",
       "[253]  17.1736111   0.3611111   6.9497222   3.0608333   1.8347222   0.1194444\n",
       "[259]  36.2450000   0.0000000   0.1194444   3.1344444   9.7777778   9.6005556\n",
       "[265]   5.1063889   2.3158333  34.4127778  17.2763889  12.8827778   0.0000000\n",
       "[271]  34.7630556   4.4258333  16.1469444   0.9075000   1.7130556  93.6300000\n",
       "[277]  17.2738889   5.6997222  16.3388889  46.1750000  25.8333333   1.0913889\n",
       "[283]  15.6986111   1.1022222   2.1080556   0.0000000   1.0913889   4.1977778\n",
       "[289]   2.2561111   1.4400000   0.6208333   0.8963889   0.1277778   4.1163889\n",
       "[295]   0.0000000   6.9616667   1.7863889   0.1194444   0.3583333   8.7069444\n",
       "[301]   4.8766667   2.1655556   1.9422222   1.6083333  21.4227778   0.1283333\n",
       "[307]   1.1575000  12.6986111   2.6450000  34.4177778  38.4747222   0.2388889\n",
       "[313]   2.9233333  22.9116667   1.9813889   0.1255556  38.4477778   0.1194444\n",
       "[319]  29.1658333  30.5155556   7.6083333   0.2388889  91.0919444   0.1194444\n",
       "[325]  43.1600000  95.2561111   9.1961111  73.2144444  10.7136111 151.2088889\n",
       "[331]   7.6161111   3.6861111   6.4983333   1.1930556   6.7361111   0.8094444\n",
       "[337]   0.0000000   0.1588889  14.9575000   5.0383333 122.9280556  18.8722222\n",
       "[343] 157.8880556  23.7963889   5.8697222   9.4708333  34.2927778  49.9861111\n",
       "[349]   9.4483333  76.7355556   8.4188889  28.2783333  20.8680556   2.4075000\n",
       "[355]   6.7388889  52.1897222   0.0000000   0.0000000   0.1194444   0.9852778\n",
       "[361]  57.9077778   0.1194444  40.5277778   8.9194444   0.3583333  43.4166667\n",
       "[367]   0.0000000  24.3377778   0.8369444   0.9833333  69.6863889  19.4758333\n",
       "[373]   0.4777778  22.6005556   0.0000000   0.0000000 133.3216667  46.2088889\n",
       "[379]  29.3752778  61.8852778   0.4938889   1.6283333  27.5833333   0.1194444\n",
       "[385]   0.1194444   5.5183333   0.7205556  17.6819444   0.8100000  20.7713889\n",
       "[391]   6.4869444   7.2613889  38.0641667  34.4952778  16.5675000  57.2194444\n",
       "[397]   0.2388889  26.2602778   5.5300000   0.5972222"
      ]
     },
     "metadata": {},
     "output_type": "display_data"
    }
   ],
   "source": [
    "participant$labor.hours.56.pre.treatment"
   ]
  },
  {
   "cell_type": "code",
   "execution_count": 30,
   "metadata": {},
   "outputs": [
    {
     "data": {
      "text/plain": [
       "\n",
       "Call:\n",
       "lm(formula = complier.app.logged.in.int ~ pre.emotionally.draining.zeroed, \n",
       "    data = participant)\n",
       "\n",
       "Residuals:\n",
       "    Min      1Q  Median      3Q     Max \n",
       "-0.6699 -0.5478  0.3301  0.3911  0.5742 \n",
       "\n",
       "Coefficients:\n",
       "                                Estimate Std. Error t value Pr(>|t|)    \n",
       "(Intercept)                      0.54785    0.02952   18.56   <2e-16 ***\n",
       "pre.emotionally.draining.zeroed -0.06103    0.02157   -2.83   0.0049 ** \n",
       "---\n",
       "Signif. codes:  0 ‘***’ 0.001 ‘**’ 0.01 ‘*’ 0.05 ‘.’ 0.1 ‘ ’ 1\n",
       "\n",
       "Residual standard error: 0.4872 on 398 degrees of freedom\n",
       "Multiple R-squared:  0.01972,\tAdjusted R-squared:  0.01726 \n",
       "F-statistic: 8.007 on 1 and 398 DF,  p-value: 0.004896\n"
      ]
     },
     "metadata": {},
     "output_type": "display_data"
    }
   ],
   "source": [
    "summary(lm(complier.app.logged.in.int ~ \n",
    "           pre.emotionally.draining.zeroed,\n",
    "   data=participant))"
   ]
  },
  {
   "cell_type": "markdown",
   "metadata": {},
   "source": [
    "### Views About newcomer Capability and Intent\n",
    "This analysis was removed from the final post to keep it concise"
   ]
  },
  {
   "cell_type": "code",
   "execution_count": 31,
   "metadata": {},
   "outputs": [
    {
     "data": {
      "text/html": [
       "<table>\n",
       "<caption>A data.frame: 3 × 2</caption>\n",
       "<thead>\n",
       "\t<tr><th scope=col>Group.1</th><th scope=col>pre.newcomer.capability</th></tr>\n",
       "\t<tr><th scope=col>&lt;fct&gt;</th><th scope=col>&lt;dbl&gt;</th></tr>\n",
       "</thead>\n",
       "<tbody>\n",
       "\t<tr><td>de</td><td>2.069930</td></tr>\n",
       "\t<tr><td>fa</td><td>1.615385</td></tr>\n",
       "\t<tr><td>pl</td><td>2.548387</td></tr>\n",
       "</tbody>\n",
       "</table>\n"
      ],
      "text/latex": [
       "A data.frame: 3 × 2\n",
       "\\begin{tabular}{ll}\n",
       " Group.1 & pre.newcomer.capability\\\\\n",
       " <fct> & <dbl>\\\\\n",
       "\\hline\n",
       "\t de & 2.069930\\\\\n",
       "\t fa & 1.615385\\\\\n",
       "\t pl & 2.548387\\\\\n",
       "\\end{tabular}\n"
      ],
      "text/markdown": [
       "\n",
       "A data.frame: 3 × 2\n",
       "\n",
       "| Group.1 &lt;fct&gt; | pre.newcomer.capability &lt;dbl&gt; |\n",
       "|---|---|\n",
       "| de | 2.069930 |\n",
       "| fa | 1.615385 |\n",
       "| pl | 2.548387 |\n",
       "\n"
      ],
      "text/plain": [
       "  Group.1 pre.newcomer.capability\n",
       "1 de      2.069930               \n",
       "2 fa      1.615385               \n",
       "3 pl      2.548387               "
      ]
     },
     "metadata": {},
     "output_type": "display_data"
    }
   ],
   "source": [
    "#summary(participant$pre.newcomer.capability)\n",
    "#summary(factor(participant$pre.newcomer.capability))\n",
    "\n",
    "aggregate(participant[c(\"pre.newcomer.capability\")],\n",
    "          by=list(participant$lang), FUN=mean)\n",
    "\n",
    "plot.newcomer.capability <- \n",
    "    ggplot(participant, aes(pre.newcomer.capability)) +\n",
    "    geom_histogram(binwidth=1, aes(x = pre.newcomer.capability, y = ..density..), fill=catpalette[1]) +\n",
    "    cat.theme +\n",
    "    scale_y_continuous(labels = scales::percent_format(accuracy = 1)) +\n",
    "    ylab(\"% of answers\") +\n",
    "    facet_grid(. ~ lang) +\n",
    "    xlab(paste(\"View of Newcomer Capability\", \"\\n\\n\",\n",
    "               \"Survey of 400 contributors in DE(286), FA(52), and PL(62) Wikipedias June-July 2019.\",\"\\n\",\n",
    "               \"Recruitment via banner ads and mailing lists. Eligible accounts included: \", \"\\n\",\n",
    "               \"DE & PL (permission to flag revisions), FA (registered for 1 year & 500 edits). \", \"\\n\\n\",\n",
    "               \"Citizens & Technology Lab • \",\n",
    "               \"citizensandtech.org\",\"\\n\",\n",
    "               \"Creative Commons Attribution 4.0\",\n",
    "               sep=\"\")) \n",
    "#plot.newcomer.capability"
   ]
  },
  {
   "cell_type": "code",
   "execution_count": 32,
   "metadata": {},
   "outputs": [
    {
     "data": {
      "text/html": [
       "<table>\n",
       "<caption>A data.frame: 3 × 2</caption>\n",
       "<thead>\n",
       "\t<tr><th scope=col>Group.1</th><th scope=col>pre.newcomer.intent</th></tr>\n",
       "\t<tr><th scope=col>&lt;fct&gt;</th><th scope=col>&lt;dbl&gt;</th></tr>\n",
       "</thead>\n",
       "<tbody>\n",
       "\t<tr><td>de</td><td>2.821678</td></tr>\n",
       "\t<tr><td>fa</td><td>2.230769</td></tr>\n",
       "\t<tr><td>pl</td><td>2.612903</td></tr>\n",
       "</tbody>\n",
       "</table>\n"
      ],
      "text/latex": [
       "A data.frame: 3 × 2\n",
       "\\begin{tabular}{ll}\n",
       " Group.1 & pre.newcomer.intent\\\\\n",
       " <fct> & <dbl>\\\\\n",
       "\\hline\n",
       "\t de & 2.821678\\\\\n",
       "\t fa & 2.230769\\\\\n",
       "\t pl & 2.612903\\\\\n",
       "\\end{tabular}\n"
      ],
      "text/markdown": [
       "\n",
       "A data.frame: 3 × 2\n",
       "\n",
       "| Group.1 &lt;fct&gt; | pre.newcomer.intent &lt;dbl&gt; |\n",
       "|---|---|\n",
       "| de | 2.821678 |\n",
       "| fa | 2.230769 |\n",
       "| pl | 2.612903 |\n",
       "\n"
      ],
      "text/plain": [
       "  Group.1 pre.newcomer.intent\n",
       "1 de      2.821678           \n",
       "2 fa      2.230769           \n",
       "3 pl      2.612903           "
      ]
     },
     "metadata": {},
     "output_type": "display_data"
    }
   ],
   "source": [
    "#summary(participant$pre.newcomer.intent)\n",
    "#summary(factor(participant$pre.newcomer.intent))\n",
    "\n",
    "aggregate(participant[c(\"pre.newcomer.intent\")],\n",
    "          by=list(participant$lang), FUN=mean)\n",
    "\n",
    "plot.newcomer.intent <- ggplot(participant, aes(pre.newcomer.intent)) +\n",
    "    geom_histogram(binwidth=1, aes(x = pre.newcomer.intent, y = ..density..), \n",
    "                   fill=catpalette[2], alpha=0.8) +\n",
    "    cat.theme +\n",
    "    scale_y_continuous(labels = scales::percent_format( accuracy = 1)) +\n",
    "    xlab(paste(\"View of Newcomer Intent\")) +\n",
    "    ylab(\"% of answers\") +\n",
    "    facet_grid(. ~ lang) +\n",
    "    ggtitle(paste(\"Wikipedians believe newcomers have positive intent and\", \"\\n\",\n",
    "                  \"some capability, with opportunity to grow\", \n",
    "                  sep=\"\")\n",
    "           )"
   ]
  },
  {
   "cell_type": "code",
   "execution_count": 33,
   "metadata": {},
   "outputs": [
    {
     "data": {
      "image/png": "[encoded data removed]",
      "text/plain": [
       "plot without title"
      ]
     },
     "metadata": {
      "image/png": {
       "height": 300,
       "width": 360
      },
      "text/plain": {
       "height": 300,
       "width": 360
      }
     },
     "output_type": "display_data"
    }
   ],
   "source": [
    "options(repr.plot.width=6, repr.plot.height=5)\n",
    "\n",
    "ggarrange(plot.newcomer.intent, plot.newcomer.capability, ncol=1, nrow=2,\n",
    "          heights=c(1,1.3))\n"
   ]
  },
  {
   "cell_type": "markdown",
   "metadata": {},
   "source": [
    "## Thanking Behavior"
   ]
  },
  {
   "cell_type": "code",
   "execution_count": 34,
   "metadata": {},
   "outputs": [
    {
     "name": "stdout",
     "output_type": "stream",
     "text": [
      "\n",
      " \n",
      "   Cell Contents\n",
      "|-------------------------|\n",
      "|                       N |\n",
      "|           N / Col Total |\n",
      "|-------------------------|\n",
      "\n",
      " \n",
      "Total Observations in Table:  400 \n",
      "\n",
      " \n",
      "                                            | participant$lang \n",
      "participant$wikithanks.56.pre.treatment > 0 |        de |        fa |        pl | Row Total | \n",
      "--------------------------------------------|-----------|-----------|-----------|-----------|\n",
      "                                      FALSE |       154 |        29 |        31 |       214 | \n",
      "                                            |     0.538 |     0.558 |     0.500 |           | \n",
      "--------------------------------------------|-----------|-----------|-----------|-----------|\n",
      "                                       TRUE |       132 |        23 |        31 |       186 | \n",
      "                                            |     0.462 |     0.442 |     0.500 |           | \n",
      "--------------------------------------------|-----------|-----------|-----------|-----------|\n",
      "                               Column Total |       286 |        52 |        62 |       400 | \n",
      "                                            |     0.715 |     0.130 |     0.155 |           | \n",
      "--------------------------------------------|-----------|-----------|-----------|-----------|\n",
      "\n",
      " \n"
     ]
    },
    {
     "data": {
      "text/html": [
       "<table>\n",
       "<caption>A data.frame: 3 × 2</caption>\n",
       "<thead>\n",
       "\t<tr><th scope=col>Group.1</th><th scope=col>wikithanks.56.pre.treatment</th></tr>\n",
       "\t<tr><th scope=col>&lt;fct&gt;</th><th scope=col>&lt;int&gt;</th></tr>\n",
       "</thead>\n",
       "<tbody>\n",
       "\t<tr><td>de</td><td>1228</td></tr>\n",
       "\t<tr><td>fa</td><td> 217</td></tr>\n",
       "\t<tr><td>pl</td><td> 275</td></tr>\n",
       "</tbody>\n",
       "</table>\n"
      ],
      "text/latex": [
       "A data.frame: 3 × 2\n",
       "\\begin{tabular}{ll}\n",
       " Group.1 & wikithanks.56.pre.treatment\\\\\n",
       " <fct> & <int>\\\\\n",
       "\\hline\n",
       "\t de & 1228\\\\\n",
       "\t fa &  217\\\\\n",
       "\t pl &  275\\\\\n",
       "\\end{tabular}\n"
      ],
      "text/markdown": [
       "\n",
       "A data.frame: 3 × 2\n",
       "\n",
       "| Group.1 &lt;fct&gt; | wikithanks.56.pre.treatment &lt;int&gt; |\n",
       "|---|---|\n",
       "| de | 1228 |\n",
       "| fa |  217 |\n",
       "| pl |  275 |\n",
       "\n"
      ],
      "text/plain": [
       "  Group.1 wikithanks.56.pre.treatment\n",
       "1 de      1228                       \n",
       "2 fa       217                       \n",
       "3 pl       275                       "
      ]
     },
     "metadata": {},
     "output_type": "display_data"
    },
    {
     "data": {
      "text/html": [
       "1720"
      ],
      "text/latex": [
       "1720"
      ],
      "text/markdown": [
       "1720"
      ],
      "text/plain": [
       "[1] 1720"
      ]
     },
     "metadata": {},
     "output_type": "display_data"
    },
    {
     "data": {
      "text/html": [
       "1748"
      ],
      "text/latex": [
       "1748"
      ],
      "text/markdown": [
       "1748"
      ],
      "text/plain": [
       "[1] 1748"
      ]
     },
     "metadata": {},
     "output_type": "display_data"
    }
   ],
   "source": [
    "CrossTable(participant$wikithanks.56.pre.treatment>0, participant$lang, prop.chisq = FALSE, prop.r = FALSE, prop.t=FALSE)\n",
    "aggregate(participant[c(\"wikithanks.56.pre.treatment\")], by=list(participant$lang), FUN=sum)\n",
    "sum(participant$wikithanks.56.pre.treatment)\n",
    "sum(participant$wikithanks.56.post.treatment)"
   ]
  },
  {
   "cell_type": "code",
   "execution_count": 35,
   "metadata": {},
   "outputs": [],
   "source": [
    "# summary(lm(participant$wikithanks.56.pre.treatment / participant$total.edits.56.pre.treatment ~\n",
    "#            pre.feel.positive +\n",
    "#            pre.emotionally.draining,\n",
    "#            data=participant))"
   ]
  },
  {
   "cell_type": "code",
   "execution_count": 36,
   "metadata": {},
   "outputs": [],
   "source": [
    "# cor.test(participant$pre.mentoring, log1p(participant$wikithanks.56.pre.treatment))\n",
    "# cor.test(participant$pre.mentoring, log1p(participant$wikithanks.56.post.treatment))"
   ]
  },
  {
   "cell_type": "code",
   "execution_count": 37,
   "metadata": {},
   "outputs": [],
   "source": [
    "# cor.test(participant$pre.feel.positive, log1p(participant$wikithanks.56.pre.treatment))\n",
    "# cor.test(participant$pre.feel.positive, log1p(participant$wikithanks.56.post.treatment))"
   ]
  },
  {
   "cell_type": "markdown",
   "metadata": {},
   "source": [
    "# The Effect of Thanking Others on Wikipedia"
   ]
  },
  {
   "cell_type": "markdown",
   "metadata": {},
   "source": [
    "#### Effect on Socially Supportive Actions"
   ]
  },
  {
   "cell_type": "code",
   "execution_count": 38,
   "metadata": {},
   "outputs": [
    {
     "data": {
      "text/html": [
       "342"
      ],
      "text/latex": [
       "342"
      ],
      "text/markdown": [
       "342"
      ],
      "text/plain": [
       "[1] 342"
      ]
     },
     "metadata": {},
     "output_type": "display_data"
    }
   ],
   "source": [
    "sum(behavioral.compliers.login$num.thank.actions, na.rm=TRUE)"
   ]
  },
  {
   "cell_type": "code",
   "execution_count": 39,
   "metadata": {},
   "outputs": [
    {
     "data": {
      "text/html": [
       "238"
      ],
      "text/latex": [
       "238"
      ],
      "text/markdown": [
       "238"
      ],
      "text/plain": [
       "[1] 238"
      ]
     },
     "metadata": {},
     "output_type": "display_data"
    },
    {
     "data": {
      "text/plain": [
       "Design:  Standard \n",
       "      Estimate Std. Error  t value  Pr(>|t|) CI Lower CI Upper       DF\n",
       "TREAT 6.983047   6.461541 1.080709 0.2813695 -5.77288 19.73897 168.6401"
      ]
     },
     "metadata": {},
     "output_type": "display_data"
    }
   ],
   "source": [
    "nrow(behavioral.compliers.login)\n",
    "difference_in_means(diff.supportive.actions ~ TREAT, \n",
    "                    data = behavioral.compliers.login)"
   ]
  },
  {
   "cell_type": "code",
   "execution_count": 40,
   "metadata": {},
   "outputs": [
    {
     "data": {
      "text/html": [
       "31.1863014711433"
      ],
      "text/latex": [
       "31.1863014711433"
      ],
      "text/markdown": [
       "31.1863014711433"
      ],
      "text/plain": [
       "[1] 31.1863"
      ]
     },
     "metadata": {},
     "output_type": "display_data"
    },
    {
     "data": {
      "text/html": [
       "48.4694609593591"
      ],
      "text/latex": [
       "48.4694609593591"
      ],
      "text/markdown": [
       "48.4694609593591"
      ],
      "text/plain": [
       "[1] 48.46946"
      ]
     },
     "metadata": {},
     "output_type": "display_data"
    }
   ],
   "source": [
    "## standard deviation to test with the e-gap power calculator: https://egap.shinyapps.io/Power_Calculator/\n",
    "## to estimate how many more participants we might need\n",
    "sd(subset(behavioral.compliers.login, TREAT==FALSE)$diff.supportive.actions)\n",
    "sd(subset(behavioral.block.compliers, TREAT==FALSE)$diff.supportive.actions)"
   ]
  },
  {
   "cell_type": "markdown",
   "metadata": {},
   "source": [
    "#### Effect on Positive Feeling"
   ]
  },
  {
   "cell_type": "code",
   "execution_count": 41,
   "metadata": {},
   "outputs": [
    {
     "data": {
      "text/html": [
       "137"
      ],
      "text/latex": [
       "137"
      ],
      "text/markdown": [
       "137"
      ],
      "text/plain": [
       "[1] 137"
      ]
     },
     "metadata": {},
     "output_type": "display_data"
    },
    {
     "data": {
      "text/plain": [
       "Design:  Standard \n",
       "        Estimate Std. Error   t value   Pr(>|t|)   CI Lower    CI Upper\n",
       "TREAT -0.2533248   0.117356 -2.158602 0.03273018 -0.4855139 -0.02113563\n",
       "            DF\n",
       "TREAT 129.1475"
      ]
     },
     "metadata": {},
     "output_type": "display_data"
    },
    {
     "data": {
      "text/html": [
       "0.700376608513734"
      ],
      "text/latex": [
       "0.700376608513734"
      ],
      "text/markdown": [
       "0.700376608513734"
      ],
      "text/plain": [
       "[1] 0.7003766"
      ]
     },
     "metadata": {},
     "output_type": "display_data"
    }
   ],
   "source": [
    "nrow(survey.compliers)\n",
    "difference_in_means(diff.positive.feeling ~ TREAT, data = survey.compliers)\n",
    "\n",
    "## Standard deviation to test with e-gap how many more participants we might need\n",
    "sd(subset(survey.compliers, TREAT==FALSE)$diff.positive.feeling)"
   ]
  },
  {
   "cell_type": "code",
   "execution_count": 42,
   "metadata": {},
   "outputs": [
    {
     "data": {
      "text/html": [
       "<style>\n",
       ".list-inline {list-style: none; margin:0; padding: 0}\n",
       ".list-inline>li {display: inline-block}\n",
       ".list-inline>li:not(:last-child)::after {content: \"\\00b7\"; padding: 0 .5ex}\n",
       "</style>\n",
       "<ol class=list-inline><li>0.2813695</li><li>0.06546036</li></ol>\n"
      ],
      "text/latex": [
       "\\begin{enumerate*}\n",
       "\\item 0.2813695\n",
       "\\item 0.06546036\n",
       "\\end{enumerate*}\n"
      ],
      "text/markdown": [
       "1. 0.2813695\n",
       "2. 0.06546036\n",
       "\n",
       "\n"
      ],
      "text/plain": [
       "[1] 0.28136950 0.06546036"
      ]
     },
     "metadata": {},
     "output_type": "display_data"
    }
   ],
   "source": [
    "p.adjust(c(0.2813695,0.03273018),\"holm\")"
   ]
  },
  {
   "cell_type": "markdown",
   "metadata": {},
   "source": [
    "# Scratch Area\n",
    "(charts and analyses not included in the final report)"
   ]
  },
  {
   "cell_type": "code",
   "execution_count": 43,
   "metadata": {},
   "outputs": [],
   "source": [
    "#difference_in_means(diff.positive.feeling ~ TREAT, data = subset(survey.compliers, lang==\"de\"))"
   ]
  },
  {
   "cell_type": "code",
   "execution_count": 44,
   "metadata": {},
   "outputs": [],
   "source": [
    "# options(repr.plot.width=6, repr.plot.height=4.5)\n",
    "\n",
    "# #https://www.brooklynintegers.com/int/1528119887/\n",
    "# set.seed(1528119887)\n",
    "\n",
    "# ggplot(participant, aes(pre.monitoring.damaging.content, pre.mentoring, color=participant$mentor.monitor)) +\n",
    "#     geom_jitter(width=0.15, height=0.15, size=1) + #color =\"#222222\"\n",
    "#     geom_smooth(data=subset(participant, pre.monitoring.damaging.content>0 & pre.mentoring>0), \n",
    "#                 mapping=aes(pre.monitoring.damaging.content, pre.mentoring),\n",
    "#                 method='lm', color=catpalette[3]) + \n",
    "#     cat.theme +\n",
    "#     scale_color_manual(values = chartpalette, \n",
    "#                        guide  = guide_legend(title=\"Mentoring Others &\\nMonitoring Content\")) +\n",
    "#     facet_grid(. ~ lang) +\n",
    "#     ylab(\"Proportion of Time Spent Mentoring\") +\n",
    "#     ggtitle(paste(\"Wikipedians Who Monitor Vandalism Also Mentor Others On Average:\", \"\\n\",\n",
    "#                   \"Time Spent Mentoring & Monitoring Are Correlated Across Languages\",sep=\"\")) +\n",
    "#     xlab(paste(\"Proportion of Time Spent Monitoring Damaging Content\", \"\\n\\n\",\n",
    "#                \"Survey of \", nrow(participant),  \" contributors in DE, FA, and PL Wikipedias. June-Oct 2019.\", \"\\n\",\n",
    "#                \"Participants were recruited via banner ads & mailing lists. Eligible accounts included:\", \"\\n\",\n",
    "#                \"DE and PL: permission to flag revisions. FA: registered for 1 year & 500+ edits.\", \"\\n\",\n",
    "#                \"Overall correlation: \", sprintf(\"%0.2f\", cor(participant$pre.monitoring.damaging.content, participant$pre.mentoring)),\n",
    "#                \" (p < 0.0001). \", \"© Creative Commons Attribution 4.0.\", \"\\n\",\n",
    "#                \"\\n\",\n",
    "#                \"Citizens & Technology Lab, Cornell University\", \"\\n\",\n",
    "#                \" www.citizensandtech.org\", \"\\n\",               \n",
    "#                sep=\"\"))"
   ]
  },
  {
   "cell_type": "code",
   "execution_count": 45,
   "metadata": {},
   "outputs": [],
   "source": [
    "# options(repr.plot.width=5, repr.plot.height=5)\n",
    "\n",
    "# ggplot(participant, aes(lang)) +\n",
    "#     geom_bar(aes(fill=mentor.monitor), position=\"fill\", alpha=0.7) +\n",
    "#     cat.theme +\n",
    "#     theme(panel.grid.major = element_blank(), \n",
    "#           panel.grid.minor = element_blank()) +\n",
    "#     scale_fill_manual(values = chartpalette, \n",
    "#                        guide  = guide_legend(title=\"Mentoring Others &\\nMonitoring Content\")) +\n",
    "#     scale_y_continuous(labels = scales::percent) +\n",
    "#     ylab(\"Percent\") +\n",
    "#     xlab(paste(\"Survey of \", nrow(participant),  \" contributors in DE, FA, PL Wikipedias. June-Oct 2019.\", \"\\n\",\n",
    "#                \"Participants were recruited via banner ads & mailing lists.\", \"\\n\",\n",
    "#                \"Eligible accounts included DE and PL: permission to flag revisions.\",\"\\n\",\n",
    "#                \"FA: at least 1 year old and 500+ edits. \", \"\\n\", \n",
    "#                \"© Creative Commons Attribution 4.0.\", \"\\n\",\n",
    "#                \"\\n\",\n",
    "#                \"Citizens & Technology Lab, Cornell University\", \"\\n\",\n",
    "#                \" www.citizensandtech.org\", \"\\n\",               \n",
    "#                sep=\"\"))"
   ]
  },
  {
   "cell_type": "code",
   "execution_count": 46,
   "metadata": {},
   "outputs": [],
   "source": [
    "# Plotting relationships between burnout items and monitoring activity\n",
    "# ggplot(participant, aes(pre.emotionally.draining, pre.monitoring.damaging.content)) +\n",
    "#     geom_jitter(width=0.2, size=0.5, color=\"darkgray\") +\n",
    "#     theme_bw() +\n",
    "#     geom_smooth(method='lm', color=\"red\") + \n",
    "#     facet_grid(. ~ lang)\n",
    "\n",
    "# ggplot(participant, aes(previous.positive.feeling, pre.monitoring.damaging.content)) +\n",
    "#     geom_jitter(width=0.2, size=0.5, color=\"darkgray\") +\n",
    "#     theme_bw() +\n",
    "#     geom_smooth(method='lm', color=\"red\") + \n",
    "#     facet_grid(. ~ lang)"
   ]
  },
  {
   "cell_type": "code",
   "execution_count": 47,
   "metadata": {},
   "outputs": [],
   "source": [
    "# Plotting relationships between positive feeling and supportive actions\n",
    "# ggplot(participant, aes(previous.positive.feeling, log1p(previous.supportive.actions))) +\n",
    "#     geom_jitter(width=0.2, size=0.5, color=\"darkgray\") +\n",
    "#     theme_bw() +\n",
    "#     geom_smooth(method='lm', color=\"red\") + \n",
    "#     facet_grid(. ~ lang)"
   ]
  },
  {
   "cell_type": "code",
   "execution_count": 48,
   "metadata": {},
   "outputs": [],
   "source": [
    "# positive intent and capability\n",
    "# ggplot(participant, aes(pre.newcomer.intent, pre.newcomer.capability)) +\n",
    "#     geom_jitter(width=0.2, size=0.5, color=\"darkgray\") +\n",
    "#     geom_smooth(method='lm', color=\"darkorange\") + \n",
    "#     theme_bw() +\n",
    "#     xlab(\"View of Newcomer Positive Intent\") +\n",
    "#     ylab(\"View of Newcomer Capability\") +\n",
    "#     facet_grid(. ~ lang)"
   ]
  },
  {
   "cell_type": "code",
   "execution_count": 49,
   "metadata": {},
   "outputs": [],
   "source": [
    "## positive intent and monitoring activity\n",
    "# ggplot(participant, aes(pre.monitoring.damaging.content, pre.newcomer.intent)) +\n",
    "#     geom_jitter(width=0.2, size=0.5, color=\"darkgray\") +\n",
    "#     theme_bw() +\n",
    "#     geom_smooth(method='lm', color=\"red\") + \n",
    "#     facet_grid(. ~ lang)"
   ]
  },
  {
   "cell_type": "code",
   "execution_count": 50,
   "metadata": {},
   "outputs": [],
   "source": [
    "# ggplot(participant, aes(pre.mentoring, log1p(num.reverts.56.pre.treatment))) +\n",
    "#     geom_jitter(width=0.2, size=0.5, color=\"darkgray\") +\n",
    "#     cat.theme +\n",
    "#     geom_smooth(method='lm', color=\"red\") + \n",
    "#     facet_grid(. ~ lang)\n",
    "\n",
    "## Supportive actions and reverts\n",
    "# ggplot(participant, aes(log1p(previous.supportive.actions), log1p(num.reverts.56.pre.treatment))) +\n",
    "#     geom_point(size=0.5, color=\"darkgray\") +\n",
    "#     theme_bw() +\n",
    "#     geom_smooth(method='lm', color=\"darkgreen\") + \n",
    "#     facet_grid(. ~ lang)"
   ]
  },
  {
   "cell_type": "code",
   "execution_count": 51,
   "metadata": {},
   "outputs": [],
   "source": [
    "## correlations between feeling positive about one's contributions and feeling drained\n",
    "# pre.positive.drained <- cor.test(participant$previous.positive.feeling, \n",
    "#                                      participant$pre.emotionally.draining)\n",
    "# pre.positive.drained\n",
    "\n",
    "# pre.positive.support <- cor.test(participant$previous.positive.feeling, \n",
    "#                                      log1p(participant$previous.supportive.actions))\n",
    "# pre.positive.support\n",
    "# cor.test(participant$previous.positive.feeling, \n",
    "#          participant$pre.monitoring.damaging.content)\n",
    "# cor.test(participant$pre.emotionally.draining, \n",
    "#          participant$pre.monitoring.damaging.content)\n"
   ]
  },
  {
   "cell_type": "code",
   "execution_count": 52,
   "metadata": {},
   "outputs": [],
   "source": [
    "# # LOWER BOUND effect on supportive actions (Gerber & Green 164-165)\n",
    "#difference_in_means(diff.supportive.actions ~ TREAT, \n",
    "#                     data = behavioral.compliers.login)\n",
    "# ## UPPER BOUND BOUND (Gerber & Green 164-165)\n",
    "# lwr.behavior.compliers.login <- behavioral.compliers.login\n",
    "# lwr.behavior.compliers.login[lwr.behavior.compliers.login$complier.app.int==0,]$TREAT <- 0\n",
    "\n",
    "\n",
    "# difference_in_means(diff.supportive.actions ~ TREAT, \n",
    "#                     data = lwr.behavior.compliers.login)"
   ]
  },
  {
   "cell_type": "code",
   "execution_count": 53,
   "metadata": {},
   "outputs": [
    {
     "data": {
      "text/html": [
       "0.695"
      ],
      "text/latex": [
       "0.695"
      ],
      "text/markdown": [
       "0.695"
      ],
      "text/plain": [
       "[1] 0.695"
      ]
     },
     "metadata": {},
     "output_type": "display_data"
    }
   ],
   "source": [
    "nrow(subset(participant, pre.emotionally.draining>1)) / nrow(participant)"
   ]
  },
  {
   "cell_type": "code",
   "execution_count": 54,
   "metadata": {},
   "outputs": [
    {
     "data": {
      "text/plain": [
       "\n",
       "\tPearson's product-moment correlation\n",
       "\n",
       "data:  participant$pre.emotionally.draining and participant$pre.feel.positive\n",
       "t = -5.1607, df = 398, p-value = 3.892e-07\n",
       "alternative hypothesis: true correlation is not equal to 0\n",
       "95 percent confidence interval:\n",
       " -0.3401364 -0.1562214\n",
       "sample estimates:\n",
       "      cor \n",
       "-0.250437 \n"
      ]
     },
     "metadata": {},
     "output_type": "display_data"
    }
   ],
   "source": [
    "cor.test(participant$pre.emotionally.draining, participant$pre.feel.positive)"
   ]
  },
  {
   "cell_type": "code",
   "execution_count": null,
   "metadata": {},
   "outputs": [],
   "source": []
  }
 ],
 "metadata": {
  "kernelspec": {
   "display_name": "R",
   "language": "R",
   "name": "ir"
  },
  "language_info": {
   "codemirror_mode": "r",
   "file_extension": ".r",
   "mimetype": "text/x-r-source",
   "name": "R",
   "pygments_lexer": "r",
   "version": "3.6.3"
  }
 },
 "nbformat": 4,
 "nbformat_minor": 2
}
