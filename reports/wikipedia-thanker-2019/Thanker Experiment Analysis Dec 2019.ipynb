{
 "cells": [
  {
   "cell_type": "markdown",
   "metadata": {},
   "source": [
    "# Thanker Experiment Analysis Dec 2019\n",
    "J. Nathan Matias\n",
    "\n",
    "* [Pre-analysis plan](https://osf.io/e5r3q/)\n",
    "* [Lab Notebook](https://docs.google.com/document/d/1M1VYaS_4CC99utvbfBr-PLm3OcYIObFNqgBTXFrg7JA/edit)\n",
    "* [Datafile description](https://docs.google.com/document/d/1plhoDbQryYQ32vZMXu8YmlLSp30QTdup43k6uTePOT4/edit)\n",
    "* Datafile: ~/Tresors/CivilServant/projects/wikipedia-integration/gratitude-study/Data Drills/thanker_hardlaunch/post_experiment_analysis/all-pre_and_post_treatment_vars_with_post_survey_R_columns.csv"
   ]
  },
  {
   "cell_type": "code",
   "execution_count": 638,
   "metadata": {},
   "outputs": [],
   "source": [
    "library(MASS)\n",
    "library(ggplot2)\n",
    "library(gmodels) #contdifains CrossTable\n",
    "library(estimatr)\n",
    "library(skimr)\n",
    "library(corrplot)\n",
    "library(ri2)\n",
    "library(ri) # estlate\n",
    "library(AER) # ivreg\n",
    "options(repr.plot.width=4, repr.plot.height=2)"
   ]
  },
  {
   "cell_type": "markdown",
   "metadata": {},
   "source": [
    "# Load datafile"
   ]
  },
  {
   "cell_type": "code",
   "execution_count": 496,
   "metadata": {},
   "outputs": [],
   "source": [
    "data.dir = \"~/Tresors/CivilServant/projects/wikipedia-integration/gratitude-study/Data Drills/thanker_hardlaunch/post_experiment_analysis/\"\n",
    "filename = \"all-pre_and_post_treatment_vars_with_post_survey_R_columns.csv\"\n",
    "participant <- read.csv(paste(data.dir, filename, sep=\"\"))"
   ]
  },
  {
   "cell_type": "code",
   "execution_count": 497,
   "metadata": {},
   "outputs": [
    {
     "name": "stdout",
     "output_type": "stream",
     "text": [
      "[1] \"complier.app.logged.in\"\n",
      "False  True \n",
      "  186   252 \n",
      "[1] \"complier.app\"\n",
      "False  True \n",
      "  274   164 \n",
      "[1] \"complier.app.inclusive\"\n",
      "Length  Class   Mode \n",
      "     0   NULL   NULL \n"
     ]
    }
   ],
   "source": [
    "#colnames(participant)\n",
    "print(\"complier.app.logged.in\")\n",
    "print(summary(participant$complier.app.logged.in))\n",
    "\n",
    "print(\"complier.app\")\n",
    "print(summary(participant$complier.app))\n",
    "\n",
    "print(\"complier.app.inclusive\")\n",
    "print(summary(participant$complier.app.inclusive))"
   ]
  },
  {
   "cell_type": "markdown",
   "metadata": {},
   "source": [
    "### Create complier variables and outcome variables"
   ]
  },
  {
   "cell_type": "code",
   "execution_count": 676,
   "metadata": {},
   "outputs": [],
   "source": [
    "## 38 participants accessed & used the system before the experiment started\n",
    "## we have assigned them randomization.block.id = -1 and omitted them from the analysis\n",
    "participant <- subset(participant, randomization.block.id!=-1)\n",
    "\n",
    "participant$complier <- participant$complier == \"True\"\n",
    "participant$complier.int <- as.integer(participant$complier)\n",
    "participant$complier.app.int <- as.integer(participant$complier.app==\"True\")\n",
    "participant$complier.app.logged.in.int <- as.integer(participant$complier.app.logged.in==\"True\")\n",
    "participant$complier.survey.int <- as.integer(participant$complier.survey==\"True\")\n",
    "participant$TREAT <- participant$randomization.arm\n",
    "\n",
    "## inclusive compliers are participants that:\n",
    "### among control, logged in\n",
    "### among treatment, completed the task\n",
    "participant$complier.app.inclusive <- (participant$TREAT==1 & participant$complier.app!=\"False\") | \n",
    "                                         (participant$TREAT==0 & participant$complier.app.logged.in!=\"False\")\n",
    "\n",
    "\n",
    "participant$diff.labor.hours <- participant$labor.hours.56.post.treatment - participant$labor.hours.56.pre.treatment\n",
    "\n",
    "participant$diff.newcomer.capability <- participant$post.newcomer.capability - participant$pre.newcomer.capability\n",
    "participant$diff.newcomer.intent <- participant$post.newcomer.intent - participant$pre.newcomer.intent\n",
    "\n",
    "participant$diff.thanks.sent <- participant$wikithanks.56.post.treatment - participant$wikithanks.56.pre.treatment\n",
    "\n",
    "participant$diff.emotionally.draining <- participant$post.emotionally.draining - participant$pre.emotionally.draining\n",
    "participant$diff.monitoring.damaging.content <- participant$post.monitoring.damaging.content - participant$pre.monitoring.damaging.content\n",
    "participant$diff.mentoring <- participant$post.mentoring - participant$pre.mentoring"
   ]
  },
  {
   "cell_type": "markdown",
   "metadata": {},
   "source": [
    "### Checking if complier.survey is a subset of complier.app. It's not."
   ]
  },
  {
   "cell_type": "code",
   "execution_count": 570,
   "metadata": {},
   "outputs": [
    {
     "name": "stdout",
     "output_type": "stream",
     "text": [
      "\n",
      " \n",
      "   Cell Contents\n",
      "|-------------------------|\n",
      "|                       N |\n",
      "| Chi-square contribution |\n",
      "|           N / Row Total |\n",
      "|           N / Col Total |\n",
      "|         N / Table Total |\n",
      "|-------------------------|\n",
      "\n",
      " \n",
      "Total Observations in Table:  400 \n",
      "\n",
      " \n",
      "                         | participant$complier.survey \n",
      "participant$complier.app |     False |      True | Row Total | \n",
      "-------------------------|-----------|-----------|-----------|\n",
      "                   False |       243 |         3 |       246 | \n",
      "                         |    43.187 |    80.205 |           | \n",
      "                         |     0.988 |     0.012 |     0.615 | \n",
      "                         |     0.935 |     0.021 |           | \n",
      "                         |     0.608 |     0.007 |           | \n",
      "-------------------------|-----------|-----------|-----------|\n",
      "                    True |        17 |       137 |       154 | \n",
      "                         |    68.987 |   128.119 |           | \n",
      "                         |     0.110 |     0.890 |     0.385 | \n",
      "                         |     0.065 |     0.979 |           | \n",
      "                         |     0.043 |     0.343 |           | \n",
      "-------------------------|-----------|-----------|-----------|\n",
      "            Column Total |       260 |       140 |       400 | \n",
      "                         |     0.650 |     0.350 |           | \n",
      "-------------------------|-----------|-----------|-----------|\n",
      "\n",
      " \n"
     ]
    }
   ],
   "source": [
    "CrossTable(participant$complier.app, participant$complier.survey)"
   ]
  },
  {
   "cell_type": "markdown",
   "metadata": {},
   "source": [
    "### Checking if complier.survey is a subset of complier.app.inclusive"
   ]
  },
  {
   "cell_type": "code",
   "execution_count": 571,
   "metadata": {},
   "outputs": [
    {
     "name": "stdout",
     "output_type": "stream",
     "text": [
      "\n",
      " \n",
      "   Cell Contents\n",
      "|-------------------------|\n",
      "|                       N |\n",
      "| Chi-square contribution |\n",
      "|           N / Row Total |\n",
      "|           N / Col Total |\n",
      "|         N / Table Total |\n",
      "|-------------------------|\n",
      "\n",
      " \n",
      "Total Observations in Table:  400 \n",
      "\n",
      " \n",
      "                                   | participant$complier.survey \n",
      "participant$complier.app.inclusive |     False |      True | Row Total | \n",
      "-----------------------------------|-----------|-----------|-----------|\n",
      "                             FALSE |       192 |         3 |       195 | \n",
      "                                   |    33.590 |    62.382 |           | \n",
      "                                   |     0.985 |     0.015 |     0.487 | \n",
      "                                   |     0.738 |     0.021 |           | \n",
      "                                   |     0.480 |     0.007 |           | \n",
      "-----------------------------------|-----------|-----------|-----------|\n",
      "                              TRUE |        68 |       137 |       205 | \n",
      "                                   |    31.952 |    59.339 |           | \n",
      "                                   |     0.332 |     0.668 |     0.512 | \n",
      "                                   |     0.262 |     0.979 |           | \n",
      "                                   |     0.170 |     0.343 |           | \n",
      "-----------------------------------|-----------|-----------|-----------|\n",
      "                      Column Total |       260 |       140 |       400 | \n",
      "                                   |     0.650 |     0.350 |           | \n",
      "-----------------------------------|-----------|-----------|-----------|\n",
      "\n",
      " \n"
     ]
    }
   ],
   "source": [
    "CrossTable(participant$complier.app.inclusive, participant$complier.survey)"
   ]
  },
  {
   "cell_type": "code",
   "execution_count": 572,
   "metadata": {},
   "outputs": [],
   "source": [
    "## individual participants that complied with the app\n",
    "behavioral.compliers.exclusive <- subset(participant, complier.app!=\"False\")\n",
    "behavioral.compliers.inclusive <- subset(participant, complier.app.inclusive)\n",
    "behavioral.compliers.login <- subset(participant, complier.app.logged.in!=\"False\")\n",
    "\n",
    "## individual participants that complied with the survey\n",
    "survey.compliers <- subset(participant, complier)\n",
    "\n",
    "## dataframe with a sum of how many block members complied\n",
    "behavioral.block.compliance <- aggregate(participant[c('complier.app.inclusive')], by=list(participant$randomization.block.id), FUN=sum)\n",
    "survey.block.compliance <- aggregate(participant[c('complier.int')], by=list(participant$randomization.block.id), FUN=sum)\n",
    "\n",
    "## accounts in blocks where every block participant complied with the app\n",
    "behavioral.block.compliers <- subset(participant, randomization.block.id %in% subset(behavioral.block.compliance, complier.app.inclusive==2)$Group.1)\n",
    "\n",
    "## accounts in blocks where every block participant complied with the survey\n",
    "survey.block.compliers <- subset(participant, randomization.block.id %in% subset(survey.block.compliance, complier.int==2)$Group.1)"
   ]
  },
  {
   "cell_type": "markdown",
   "metadata": {},
   "source": [
    "# Participation and Compliance Rates"
   ]
  },
  {
   "cell_type": "code",
   "execution_count": 573,
   "metadata": {},
   "outputs": [
    {
     "name": "stdout",
     "output_type": "stream",
     "text": [
      "[1] \"400 total assigned\"\n",
      "[1] \"\"\n",
      "[1] \"154 fully complied with the intervention\"\n",
      "[1] \"205 likely complied with the intervention\"\n",
      "[1] \"238 at least logged in to the intervention\"\n",
      "[1] \"106 are in blocks that likely complied with the intervention\"\n",
      "[1] \"\"\n",
      "[1] \"0 fully complied with the intervention and surveys\"\n",
      "[1] \"0 are in blocks that likely complied with the intervention and also the surveys\"\n"
     ]
    }
   ],
   "source": [
    "print(paste(nrow(participant), \"total assigned\"))\n",
    "print(\"\")\n",
    "print(paste(nrow(behavioral.compliers.exclusive), \"fully complied with the intervention\"))\n",
    "print(paste(nrow(behavioral.compliers.inclusive), \"likely complied with the intervention\"))\n",
    "print(paste(nrow(behavioral.compliers.login), \"at least logged in to the intervention\"))\n",
    "print(paste(nrow(behavioral.block.compliers), \"are in blocks that likely complied with the intervention\"))\n",
    "print(\"\")\n",
    "print(paste(nrow(survey.compliers), \"fully complied with the intervention and surveys\"))\n",
    "print(paste(nrow(survey.block.compliers), \"are in blocks that likely complied with the intervention and also the surveys\"))"
   ]
  },
  {
   "cell_type": "markdown",
   "metadata": {},
   "source": [
    "#### App Compliance Balance"
   ]
  },
  {
   "cell_type": "code",
   "execution_count": 574,
   "metadata": {},
   "outputs": [
    {
     "data": {
      "text/html": [
       "<dl class=dl-horizontal>\n",
       "\t<dt>ar</dt>\n",
       "\t\t<dd>0</dd>\n",
       "\t<dt>de</dt>\n",
       "\t\t<dd>286</dd>\n",
       "\t<dt>fa</dt>\n",
       "\t\t<dd>52</dd>\n",
       "\t<dt>pl</dt>\n",
       "\t\t<dd>62</dd>\n",
       "</dl>\n"
      ],
      "text/latex": [
       "\\begin{description*}\n",
       "\\item[ar] 0\n",
       "\\item[de] 286\n",
       "\\item[fa] 52\n",
       "\\item[pl] 62\n",
       "\\end{description*}\n"
      ],
      "text/markdown": [
       "ar\n",
       ":   0de\n",
       ":   286fa\n",
       ":   52pl\n",
       ":   62\n",
       "\n"
      ],
      "text/plain": [
       " ar  de  fa  pl \n",
       "  0 286  52  62 "
      ]
     },
     "metadata": {},
     "output_type": "display_data"
    }
   ],
   "source": [
    "summary(participant$lang)"
   ]
  },
  {
   "cell_type": "code",
   "execution_count": 575,
   "metadata": {},
   "outputs": [
    {
     "data": {
      "text/plain": [
       "NULL"
      ]
     },
     "metadata": {},
     "output_type": "display_data"
    }
   ],
   "source": [
    "participant$compli"
   ]
  },
  {
   "cell_type": "code",
   "execution_count": 576,
   "metadata": {
    "scrolled": false
   },
   "outputs": [
    {
     "name": "stdout",
     "output_type": "stream",
     "text": [
      "[1] \"---------------------\"\n",
      "[1] \"-------- fa --------\"\n",
      "[1] \"---------------------\"\n",
      "[1] \"fa App Compliance Balance\"\n",
      "[1] \"Exclusive\"\n",
      "\n",
      " \n",
      "   Cell Contents\n",
      "|-------------------------|\n",
      "|                       N |\n",
      "|           N / Col Total |\n",
      "|-------------------------|\n",
      "\n",
      " \n",
      "Total Observations in Table:  52 \n",
      "\n",
      " \n",
      "                                     | subset(participant, lang == l)$complier.app \n",
      "subset(participant, lang == l)$TREAT |     False |      True | Row Total | \n",
      "-------------------------------------|-----------|-----------|-----------|\n",
      "                                   0 |        18 |         8 |        26 | \n",
      "                                     |     0.581 |     0.381 |           | \n",
      "-------------------------------------|-----------|-----------|-----------|\n",
      "                                   1 |        13 |        13 |        26 | \n",
      "                                     |     0.419 |     0.619 |           | \n",
      "-------------------------------------|-----------|-----------|-----------|\n",
      "                        Column Total |        31 |        21 |        52 | \n",
      "                                     |     0.596 |     0.404 |           | \n",
      "-------------------------------------|-----------|-----------|-----------|\n",
      "\n",
      " \n",
      "[1] \"Inclusive\"\n",
      "\n",
      " \n",
      "   Cell Contents\n",
      "|-------------------------|\n",
      "|                       N |\n",
      "|           N / Col Total |\n",
      "|-------------------------|\n",
      "\n",
      " \n",
      "Total Observations in Table:  52 \n",
      "\n",
      " \n",
      "                                     | subset(participant, lang == l)$complier.app.inclusive \n",
      "subset(participant, lang == l)$TREAT |     FALSE |      TRUE | Row Total | \n",
      "-------------------------------------|-----------|-----------|-----------|\n",
      "                                   0 |        13 |        13 |        26 | \n",
      "                                     |     0.500 |     0.500 |           | \n",
      "-------------------------------------|-----------|-----------|-----------|\n",
      "                                   1 |        13 |        13 |        26 | \n",
      "                                     |     0.500 |     0.500 |           | \n",
      "-------------------------------------|-----------|-----------|-----------|\n",
      "                        Column Total |        26 |        26 |        52 | \n",
      "                                     |     0.500 |     0.500 |           | \n",
      "-------------------------------------|-----------|-----------|-----------|\n",
      "\n",
      " \n",
      "[1] \"All Logged In Accounts\"\n",
      "\n",
      " \n",
      "   Cell Contents\n",
      "|-------------------------|\n",
      "|                       N |\n",
      "|           N / Col Total |\n",
      "|-------------------------|\n",
      "\n",
      " \n",
      "Total Observations in Table:  52 \n",
      "\n",
      " \n",
      "                                     | subset(participant, lang == l)$complier.app.logged.in \n",
      "subset(participant, lang == l)$TREAT |     False |      True | Row Total | \n",
      "-------------------------------------|-----------|-----------|-----------|\n",
      "                                   0 |        13 |        13 |        26 | \n",
      "                                     |     0.542 |     0.464 |           | \n",
      "-------------------------------------|-----------|-----------|-----------|\n",
      "                                   1 |        11 |        15 |        26 | \n",
      "                                     |     0.458 |     0.536 |           | \n",
      "-------------------------------------|-----------|-----------|-----------|\n",
      "                        Column Total |        24 |        28 |        52 | \n",
      "                                     |     0.462 |     0.538 |           | \n",
      "-------------------------------------|-----------|-----------|-----------|\n",
      "\n",
      " \n",
      "[1] \"---------------------\"\n",
      "[1] \"-------- de --------\"\n",
      "[1] \"---------------------\"\n",
      "[1] \"de App Compliance Balance\"\n",
      "[1] \"Exclusive\"\n",
      "\n",
      " \n",
      "   Cell Contents\n",
      "|-------------------------|\n",
      "|                       N |\n",
      "|           N / Col Total |\n",
      "|-------------------------|\n",
      "\n",
      " \n",
      "Total Observations in Table:  286 \n",
      "\n",
      " \n",
      "                                     | subset(participant, lang == l)$complier.app \n",
      "subset(participant, lang == l)$TREAT |     False |      True | Row Total | \n",
      "-------------------------------------|-----------|-----------|-----------|\n",
      "                                   0 |        86 |        57 |       143 | \n",
      "                                     |     0.500 |     0.500 |           | \n",
      "-------------------------------------|-----------|-----------|-----------|\n",
      "                                   1 |        86 |        57 |       143 | \n",
      "                                     |     0.500 |     0.500 |           | \n",
      "-------------------------------------|-----------|-----------|-----------|\n",
      "                        Column Total |       172 |       114 |       286 | \n",
      "                                     |     0.601 |     0.399 |           | \n",
      "-------------------------------------|-----------|-----------|-----------|\n",
      "\n",
      " \n",
      "[1] \"Inclusive\"\n",
      "\n",
      " \n",
      "   Cell Contents\n",
      "|-------------------------|\n",
      "|                       N |\n",
      "|           N / Col Total |\n",
      "|-------------------------|\n",
      "\n",
      " \n",
      "Total Observations in Table:  286 \n",
      "\n",
      " \n",
      "                                     | subset(participant, lang == l)$complier.app.inclusive \n",
      "subset(participant, lang == l)$TREAT |     FALSE |      TRUE | Row Total | \n",
      "-------------------------------------|-----------|-----------|-----------|\n",
      "                                   0 |        48 |        95 |       143 | \n",
      "                                     |     0.358 |     0.625 |           | \n",
      "-------------------------------------|-----------|-----------|-----------|\n",
      "                                   1 |        86 |        57 |       143 | \n",
      "                                     |     0.642 |     0.375 |           | \n",
      "-------------------------------------|-----------|-----------|-----------|\n",
      "                        Column Total |       134 |       152 |       286 | \n",
      "                                     |     0.469 |     0.531 |           | \n",
      "-------------------------------------|-----------|-----------|-----------|\n",
      "\n",
      " \n",
      "[1] \"All Logged In Accounts\"\n",
      "\n",
      " \n",
      "   Cell Contents\n",
      "|-------------------------|\n",
      "|                       N |\n",
      "|           N / Col Total |\n",
      "|-------------------------|\n",
      "\n",
      " \n",
      "Total Observations in Table:  286 \n",
      "\n",
      " \n",
      "                                     | subset(participant, lang == l)$complier.app.logged.in \n",
      "subset(participant, lang == l)$TREAT |     False |      True | Row Total | \n",
      "-------------------------------------|-----------|-----------|-----------|\n",
      "                                   0 |        48 |        95 |       143 | \n",
      "                                     |     0.466 |     0.519 |           | \n",
      "-------------------------------------|-----------|-----------|-----------|\n",
      "                                   1 |        55 |        88 |       143 | \n",
      "                                     |     0.534 |     0.481 |           | \n",
      "-------------------------------------|-----------|-----------|-----------|\n",
      "                        Column Total |       103 |       183 |       286 | \n",
      "                                     |     0.360 |     0.640 |           | \n",
      "-------------------------------------|-----------|-----------|-----------|\n",
      "\n",
      " \n",
      "[1] \"---------------------\"\n",
      "[1] \"-------- pl --------\"\n",
      "[1] \"---------------------\"\n",
      "[1] \"pl App Compliance Balance\"\n",
      "[1] \"Exclusive\"\n",
      "\n",
      " \n",
      "   Cell Contents\n",
      "|-------------------------|\n",
      "|                       N |\n",
      "|           N / Col Total |\n",
      "|-------------------------|\n",
      "\n",
      " \n",
      "Total Observations in Table:  62 \n",
      "\n",
      " \n",
      "                                     | subset(participant, lang == l)$complier.app \n",
      "subset(participant, lang == l)$TREAT |     False |      True | Row Total | \n",
      "-------------------------------------|-----------|-----------|-----------|\n",
      "                                   0 |        26 |         5 |        31 | \n",
      "                                     |     0.605 |     0.263 |           | \n",
      "-------------------------------------|-----------|-----------|-----------|\n",
      "                                   1 |        17 |        14 |        31 | \n",
      "                                     |     0.395 |     0.737 |           | \n",
      "-------------------------------------|-----------|-----------|-----------|\n",
      "                        Column Total |        43 |        19 |        62 | \n",
      "                                     |     0.694 |     0.306 |           | \n",
      "-------------------------------------|-----------|-----------|-----------|\n",
      "\n",
      " \n",
      "[1] \"Inclusive\"\n",
      "\n",
      " \n",
      "   Cell Contents\n",
      "|-------------------------|\n",
      "|                       N |\n",
      "|           N / Col Total |\n",
      "|-------------------------|\n",
      "\n",
      " \n",
      "Total Observations in Table:  62 \n",
      "\n",
      " \n",
      "                                     | subset(participant, lang == l)$complier.app.inclusive \n",
      "subset(participant, lang == l)$TREAT |     FALSE |      TRUE | Row Total | \n",
      "-------------------------------------|-----------|-----------|-----------|\n",
      "                                   0 |        18 |        13 |        31 | \n",
      "                                     |     0.514 |     0.481 |           | \n",
      "-------------------------------------|-----------|-----------|-----------|\n",
      "                                   1 |        17 |        14 |        31 | \n",
      "                                     |     0.486 |     0.519 |           | \n",
      "-------------------------------------|-----------|-----------|-----------|\n",
      "                        Column Total |        35 |        27 |        62 | \n",
      "                                     |     0.565 |     0.435 |           | \n",
      "-------------------------------------|-----------|-----------|-----------|\n",
      "\n",
      " \n",
      "[1] \"All Logged In Accounts\"\n",
      "\n",
      " \n",
      "   Cell Contents\n",
      "|-------------------------|\n",
      "|                       N |\n",
      "|           N / Col Total |\n",
      "|-------------------------|\n",
      "\n",
      " \n",
      "Total Observations in Table:  62 \n",
      "\n",
      " \n",
      "                                     | subset(participant, lang == l)$complier.app.logged.in \n",
      "subset(participant, lang == l)$TREAT |     False |      True | Row Total | \n",
      "-------------------------------------|-----------|-----------|-----------|\n",
      "                                   0 |        18 |        13 |        31 | \n",
      "                                     |     0.514 |     0.481 |           | \n",
      "-------------------------------------|-----------|-----------|-----------|\n",
      "                                   1 |        17 |        14 |        31 | \n",
      "                                     |     0.486 |     0.519 |           | \n",
      "-------------------------------------|-----------|-----------|-----------|\n",
      "                        Column Total |        35 |        27 |        62 | \n",
      "                                     |     0.565 |     0.435 |           | \n",
      "-------------------------------------|-----------|-----------|-----------|\n",
      "\n",
      " \n"
     ]
    }
   ],
   "source": [
    "for(l in unique(participant$lang)){\n",
    "    print(\"---------------------\")\n",
    "    print(paste(\"--------\", l,\"--------\"))\n",
    "    print(\"---------------------\")\n",
    "    print(paste(l,\"App Compliance Balance\"))\n",
    "\n",
    "    print(\"Exclusive\")\n",
    "    CrossTable(subset(participant, lang==l)$TREAT, subset(participant, lang==l)$complier.app, \n",
    "              prop.r=FALSE, prop.c=TRUE, prop.chisq = FALSE, prop.test=FALSE, prop.t=FALSE)\n",
    "    \n",
    "    print(\"Inclusive\")\n",
    "    CrossTable(subset(participant, lang==l)$TREAT, subset(participant, lang==l)$complier.app.inclusive, \n",
    "              prop.r=FALSE, prop.c=TRUE, prop.chisq = FALSE, prop.test=FALSE, prop.t=FALSE)\n",
    "    \n",
    "    print(\"All Logged In Accounts\")\n",
    "    CrossTable(subset(participant, lang==l)$TREAT, subset(participant, lang==l)$complier.app.logged.in, \n",
    "              prop.r=FALSE, prop.c=TRUE, prop.chisq = FALSE, prop.test=FALSE, prop.t=FALSE)\n",
    "\n",
    "}"
   ]
  },
  {
   "cell_type": "code",
   "execution_count": 577,
   "metadata": {},
   "outputs": [
    {
     "name": "stdout",
     "output_type": "stream",
     "text": [
      "[1] \"App Compliance Balance Overall (completion)\"\n",
      "\n",
      " \n",
      "   Cell Contents\n",
      "|-------------------------|\n",
      "|                       N |\n",
      "|           N / Col Total |\n",
      "|-------------------------|\n",
      "\n",
      " \n",
      "Total Observations in Table:  400 \n",
      "\n",
      " \n",
      "                  | participant$complier.app \n",
      "participant$TREAT |     False |      True | Row Total | \n",
      "------------------|-----------|-----------|-----------|\n",
      "                0 |       130 |        70 |       200 | \n",
      "                  |     0.528 |     0.455 |           | \n",
      "------------------|-----------|-----------|-----------|\n",
      "                1 |       116 |        84 |       200 | \n",
      "                  |     0.472 |     0.545 |           | \n",
      "------------------|-----------|-----------|-----------|\n",
      "     Column Total |       246 |       154 |       400 | \n",
      "                  |     0.615 |     0.385 |           | \n",
      "------------------|-----------|-----------|-----------|\n",
      "\n",
      " \n"
     ]
    }
   ],
   "source": [
    "print(\"App Compliance Balance Overall (completion)\")\n",
    "CrossTable(participant$TREAT, participant$complier.app, \n",
    "           prop.r=FALSE, prop.c=TRUE, prop.chisq = FALSE, prop.test=FALSE, prop.t=FALSE)"
   ]
  },
  {
   "cell_type": "code",
   "execution_count": 578,
   "metadata": {},
   "outputs": [
    {
     "name": "stdout",
     "output_type": "stream",
     "text": [
      "[1] \"App Compliance Balance Overall (inclusive)\"\n",
      "\n",
      " \n",
      "   Cell Contents\n",
      "|-------------------------|\n",
      "|                       N |\n",
      "|           N / Col Total |\n",
      "|-------------------------|\n",
      "\n",
      " \n",
      "Total Observations in Table:  400 \n",
      "\n",
      " \n",
      "                  | participant$complier.app.inclusive \n",
      "participant$TREAT |     FALSE |      TRUE | Row Total | \n",
      "------------------|-----------|-----------|-----------|\n",
      "                0 |        79 |       121 |       200 | \n",
      "                  |     0.405 |     0.590 |           | \n",
      "------------------|-----------|-----------|-----------|\n",
      "                1 |       116 |        84 |       200 | \n",
      "                  |     0.595 |     0.410 |           | \n",
      "------------------|-----------|-----------|-----------|\n",
      "     Column Total |       195 |       205 |       400 | \n",
      "                  |     0.487 |     0.512 |           | \n",
      "------------------|-----------|-----------|-----------|\n",
      "\n",
      " \n"
     ]
    }
   ],
   "source": [
    "print(\"App Compliance Balance Overall (inclusive)\")\n",
    "CrossTable(participant$TREAT, participant$complier.app.inclusive, \n",
    "           prop.r=FALSE, prop.c=TRUE, prop.chisq = FALSE, prop.test=FALSE, prop.t=FALSE)"
   ]
  },
  {
   "cell_type": "code",
   "execution_count": 579,
   "metadata": {},
   "outputs": [
    {
     "name": "stdout",
     "output_type": "stream",
     "text": [
      "[1] \"App Compliance Balance Overall (logged in)\"\n",
      "\n",
      " \n",
      "   Cell Contents\n",
      "|-------------------------|\n",
      "|                       N |\n",
      "|           N / Col Total |\n",
      "|-------------------------|\n",
      "\n",
      " \n",
      "Total Observations in Table:  400 \n",
      "\n",
      " \n",
      "                  | participant$complier.app.logged.in \n",
      "participant$TREAT |     False |      True | Row Total | \n",
      "------------------|-----------|-----------|-----------|\n",
      "                0 |        79 |       121 |       200 | \n",
      "                  |     0.488 |     0.508 |           | \n",
      "------------------|-----------|-----------|-----------|\n",
      "                1 |        83 |       117 |       200 | \n",
      "                  |     0.512 |     0.492 |           | \n",
      "------------------|-----------|-----------|-----------|\n",
      "     Column Total |       162 |       238 |       400 | \n",
      "                  |     0.405 |     0.595 |           | \n",
      "------------------|-----------|-----------|-----------|\n",
      "\n",
      " \n"
     ]
    }
   ],
   "source": [
    "print(\"App Compliance Balance Overall (logged in)\")\n",
    "CrossTable(participant$TREAT, participant$complier.app.logged.in, \n",
    "           prop.r=FALSE, prop.c=TRUE, prop.chisq = FALSE, prop.test=FALSE, prop.t=FALSE)"
   ]
  },
  {
   "cell_type": "markdown",
   "metadata": {},
   "source": [
    "#### Survey compliance balance"
   ]
  },
  {
   "cell_type": "code",
   "execution_count": 580,
   "metadata": {},
   "outputs": [
    {
     "name": "stdout",
     "output_type": "stream",
     "text": [
      "[1] \"Survey Compliance Balance\"\n",
      "\n",
      " \n",
      "   Cell Contents\n",
      "|-------------------------|\n",
      "|                       N |\n",
      "|-------------------------|\n",
      "\n",
      " \n",
      "Total Observations in Table:  400 \n",
      "\n",
      " \n",
      "                  | participant$complier \n",
      "participant$TREAT |     FALSE | Row Total | \n",
      "------------------|-----------|-----------|\n",
      "                0 |       200 |       200 | \n",
      "------------------|-----------|-----------|\n",
      "                1 |       200 |       200 | \n",
      "------------------|-----------|-----------|\n",
      "     Column Total |       400 |       400 | \n",
      "------------------|-----------|-----------|\n",
      "\n",
      " \n"
     ]
    }
   ],
   "source": [
    "print(\"Survey Compliance Balance\")\n",
    "CrossTable(participant$TREAT, participant$complier, \n",
    "           prop.r=FALSE, prop.c=TRUE, prop.chisq = FALSE, prop.test=FALSE, prop.t=FALSE)"
   ]
  },
  {
   "cell_type": "markdown",
   "metadata": {},
   "source": [
    "### Checking Balance on Observables"
   ]
  },
  {
   "cell_type": "code",
   "execution_count": 581,
   "metadata": {},
   "outputs": [
    {
     "data": {
      "text/plain": [
       "\n",
       "\tWelch Two Sample t-test\n",
       "\n",
       "data:  total.edits.56.pre.treatment by TREAT\n",
       "t = -0.29687, df = 149.72, p-value = 0.767\n",
       "alternative hypothesis: true difference in means is not equal to 0\n",
       "95 percent confidence interval:\n",
       " -112.54081   83.14081\n",
       "sample estimates:\n",
       "mean in group 0 mean in group 1 \n",
       "       194.5143        209.2143 \n"
      ]
     },
     "metadata": {},
     "output_type": "display_data"
    },
    {
     "data": {
      "text/plain": [
       "\n",
       "\tWelch Two Sample t-test\n",
       "\n",
       "data:  total.edits.56.pre.treatment by TREAT\n",
       "t = -0.16913, df = 178.27, p-value = 0.8659\n",
       "alternative hypothesis: true difference in means is not equal to 0\n",
       "95 percent confidence interval:\n",
       " -95.99247  80.83663\n",
       "sample estimates:\n",
       "mean in group 0 mean in group 1 \n",
       "       201.6364        209.2143 \n"
      ]
     },
     "metadata": {},
     "output_type": "display_data"
    },
    {
     "data": {
      "text/plain": [
       "\n",
       "\tWelch Two Sample t-test\n",
       "\n",
       "data:  total.edits.56.pre.treatment by TREAT\n",
       "t = -0.50318, df = 200.3, p-value = 0.6154\n",
       "alternative hypothesis: true difference in means is not equal to 0\n",
       "95 percent confidence interval:\n",
       " -129.88802   77.07528\n",
       "sample estimates:\n",
       "mean in group 0 mean in group 1 \n",
       "       201.6364        228.0427 \n"
      ]
     },
     "metadata": {},
     "output_type": "display_data"
    },
    {
     "data": {
      "text/plain": [
       "\n",
       "\tWelch Two Sample t-test\n",
       "\n",
       "data:  total.edits.56.pre.treatment by TREAT\n",
       "t = 0.19571, df = 103.7, p-value = 0.8452\n",
       "alternative hypothesis: true difference in means is not equal to 0\n",
       "95 percent confidence interval:\n",
       " -122.6873  149.5552\n",
       "sample estimates:\n",
       "mean in group 0 mean in group 1 \n",
       "       252.4151        238.9811 \n"
      ]
     },
     "metadata": {},
     "output_type": "display_data"
    }
   ],
   "source": [
    "t.test(total.edits.56.pre.treatment ~ TREAT, data = behavioral.compliers.exclusive) # no difference\n",
    "t.test(total.edits.56.pre.treatment ~ TREAT, data = behavioral.compliers.inclusive) # no difference\n",
    "t.test(total.edits.56.pre.treatment ~ TREAT, data = behavioral.compliers.login) # no difference\n",
    "t.test(total.edits.56.pre.treatment ~ TREAT, data = behavioral.block.compliers) # no difference"
   ]
  },
  {
   "cell_type": "code",
   "execution_count": 582,
   "metadata": {},
   "outputs": [
    {
     "data": {
      "text/plain": [
       "\n",
       "\tWelch Two Sample t-test\n",
       "\n",
       "data:  support.talk.56.pre.treatment by TREAT\n",
       "t = -0.6531, df = 146.09, p-value = 0.5147\n",
       "alternative hypothesis: true difference in means is not equal to 0\n",
       "95 percent confidence interval:\n",
       " -17.053403   8.581974\n",
       "sample estimates:\n",
       "mean in group 0 mean in group 1 \n",
       "       16.72857        20.96429 \n"
      ]
     },
     "metadata": {},
     "output_type": "display_data"
    },
    {
     "data": {
      "text/plain": [
       "\n",
       "\tWelch Two Sample t-test\n",
       "\n",
       "data:  support.talk.56.pre.treatment by TREAT\n",
       "t = -0.91614, df = 172.9, p-value = 0.3609\n",
       "alternative hypothesis: true difference in means is not equal to 0\n",
       "95 percent confidence interval:\n",
       " -15.972420   5.845501\n",
       "sample estimates:\n",
       "mean in group 0 mean in group 1 \n",
       "       15.90083        20.96429 \n"
      ]
     },
     "metadata": {},
     "output_type": "display_data"
    },
    {
     "data": {
      "text/plain": [
       "\n",
       "\tWelch Two Sample t-test\n",
       "\n",
       "data:  support.talk.56.pre.treatment by TREAT\n",
       "t = -0.4658, df = 235.65, p-value = 0.6418\n",
       "alternative hypothesis: true difference in means is not equal to 0\n",
       "95 percent confidence interval:\n",
       " -11.513868   7.110393\n",
       "sample estimates:\n",
       "mean in group 0 mean in group 1 \n",
       "       15.90083        18.10256 \n"
      ]
     },
     "metadata": {},
     "output_type": "display_data"
    },
    {
     "data": {
      "text/plain": [
       "\n",
       "\tWelch Two Sample t-test\n",
       "\n",
       "data:  support.talk.56.pre.treatment by TREAT\n",
       "t = -0.55542, df = 100.14, p-value = 0.5798\n",
       "alternative hypothesis: true difference in means is not equal to 0\n",
       "95 percent confidence interval:\n",
       " -19.92676  11.20978\n",
       "sample estimates:\n",
       "mean in group 0 mean in group 1 \n",
       "       17.56604        21.92453 \n"
      ]
     },
     "metadata": {},
     "output_type": "display_data"
    }
   ],
   "source": [
    "t.test(support.talk.56.pre.treatment ~ TREAT, data = behavioral.compliers.exclusive) # no difference\n",
    "t.test(support.talk.56.pre.treatment ~ TREAT, data = behavioral.compliers.inclusive) # no difference\n",
    "t.test(support.talk.56.pre.treatment ~ TREAT, data = behavioral.compliers.login) # no difference\n",
    "t.test(support.talk.56.pre.treatment ~ TREAT, data = behavioral.block.compliers) # no difference"
   ]
  },
  {
   "cell_type": "code",
   "execution_count": 583,
   "metadata": {},
   "outputs": [
    {
     "data": {
      "text/plain": [
       "\n",
       "\tWelch Two Sample t-test\n",
       "\n",
       "data:  year.joined by TREAT\n",
       "t = -0.5794, df = 144.85, p-value = 0.5632\n",
       "alternative hypothesis: true difference in means is not equal to 0\n",
       "95 percent confidence interval:\n",
       " -1.6069519  0.8783805\n",
       "sample estimates:\n",
       "mean in group 0 mean in group 1 \n",
       "       2010.029        2010.393 \n"
      ]
     },
     "metadata": {},
     "output_type": "display_data"
    },
    {
     "data": {
      "text/plain": [
       "\n",
       "\tWelch Two Sample t-test\n",
       "\n",
       "data:  year.joined by TREAT\n",
       "t = -0.083849, df = 181.48, p-value = 0.9333\n",
       "alternative hypothesis: true difference in means is not equal to 0\n",
       "95 percent confidence interval:\n",
       " -1.122326  1.030827\n",
       "sample estimates:\n",
       "mean in group 0 mean in group 1 \n",
       "       2010.347        2010.393 \n"
      ]
     },
     "metadata": {},
     "output_type": "display_data"
    },
    {
     "data": {
      "text/plain": [
       "\n",
       "\tWelch Two Sample t-test\n",
       "\n",
       "data:  year.joined by TREAT\n",
       "t = -0.36409, df = 235.9, p-value = 0.7161\n",
       "alternative hypothesis: true difference in means is not equal to 0\n",
       "95 percent confidence interval:\n",
       " -1.1719735  0.8063593\n",
       "sample estimates:\n",
       "mean in group 0 mean in group 1 \n",
       "       2010.347        2010.530 \n"
      ]
     },
     "metadata": {},
     "output_type": "display_data"
    },
    {
     "data": {
      "text/plain": [
       "\n",
       "\tWelch Two Sample t-test\n",
       "\n",
       "data:  year.joined by TREAT\n",
       "t = 0.35278, df = 103.97, p-value = 0.725\n",
       "alternative hypothesis: true difference in means is not equal to 0\n",
       "95 percent confidence interval:\n",
       " -1.220711  1.749013\n",
       "sample estimates:\n",
       "mean in group 0 mean in group 1 \n",
       "       2010.226        2009.962 \n"
      ]
     },
     "metadata": {},
     "output_type": "display_data"
    }
   ],
   "source": [
    "t.test(year.joined ~ TREAT, data = behavioral.compliers.exclusive) # no difference\n",
    "t.test(year.joined ~ TREAT, data = behavioral.compliers.inclusive) # no difference\n",
    "t.test(year.joined ~ TREAT, data = behavioral.compliers.login)     # no difference\n",
    "t.test(year.joined ~ TREAT, data = behavioral.block.compliers)     # no difference"
   ]
  },
  {
   "cell_type": "markdown",
   "metadata": {},
   "source": [
    "#### Complier Block Balance"
   ]
  },
  {
   "cell_type": "code",
   "execution_count": 584,
   "metadata": {},
   "outputs": [
    {
     "data": {
      "text/html": [
       "<dl class=dl-horizontal>\n",
       "\t<dt>0</dt>\n",
       "\t\t<dd>53</dd>\n",
       "\t<dt>1</dt>\n",
       "\t\t<dd>53</dd>\n",
       "</dl>\n"
      ],
      "text/latex": [
       "\\begin{description*}\n",
       "\\item[0] 53\n",
       "\\item[1] 53\n",
       "\\end{description*}\n"
      ],
      "text/markdown": [
       "0\n",
       ":   531\n",
       ":   53\n",
       "\n"
      ],
      "text/plain": [
       " 0  1 \n",
       "53 53 "
      ]
     },
     "metadata": {},
     "output_type": "display_data"
    },
    {
     "data": {
      "text/html": [],
      "text/latex": [],
      "text/markdown": [],
      "text/plain": [
       "integer(0)"
      ]
     },
     "metadata": {},
     "output_type": "display_data"
    }
   ],
   "source": [
    "summary(factor(behavioral.block.compliers$TREAT))\n",
    "summary(factor(survey.block.compliers$TREAT))"
   ]
  },
  {
   "cell_type": "markdown",
   "metadata": {},
   "source": [
    "# Survey Attrition"
   ]
  },
  {
   "cell_type": "code",
   "execution_count": 585,
   "metadata": {},
   "outputs": [
    {
     "name": "stdout",
     "output_type": "stream",
     "text": [
      "[1] \"238 out of 400 pre-survey participants never logged in\"\n"
     ]
    }
   ],
   "source": [
    "print(paste(nrow(subset(participant, complier.app.logged.in==\"True\")), \"out of\",\n",
    "      nrow(participant), \"pre-survey participants never logged in\"))\n"
   ]
  },
  {
   "cell_type": "code",
   "execution_count": 588,
   "metadata": {},
   "outputs": [
    {
     "data": {
      "text/plain": [
       "   Mode   FALSE    TRUE \n",
       "logical     260     140 "
      ]
     },
     "metadata": {},
     "output_type": "display_data"
    }
   ],
   "source": [
    "summary(participant$complier.survey.int)"
   ]
  },
  {
   "cell_type": "code",
   "execution_count": 589,
   "metadata": {},
   "outputs": [
    {
     "name": "stdout",
     "output_type": "stream",
     "text": [
      "\n",
      " \n",
      "   Cell Contents\n",
      "|-------------------------|\n",
      "|                       N |\n",
      "| Chi-square contribution |\n",
      "|           N / Row Total |\n",
      "|           N / Col Total |\n",
      "|         N / Table Total |\n",
      "|-------------------------|\n",
      "\n",
      " \n",
      "Total Observations in Table:  400 \n",
      "\n",
      " \n",
      "                                | participant$complier.app.inclusive \n",
      "participant$complier.survey.int |     FALSE |      TRUE | Row Total | \n",
      "--------------------------------|-----------|-----------|-----------|\n",
      "                          FALSE |       192 |        68 |       260 | \n",
      "                                |    33.590 |    31.952 |           | \n",
      "                                |     0.738 |     0.262 |     0.650 | \n",
      "                                |     0.985 |     0.332 |           | \n",
      "                                |     0.480 |     0.170 |           | \n",
      "--------------------------------|-----------|-----------|-----------|\n",
      "                           TRUE |         3 |       137 |       140 | \n",
      "                                |    62.382 |    59.339 |           | \n",
      "                                |     0.021 |     0.979 |     0.350 | \n",
      "                                |     0.015 |     0.668 |           | \n",
      "                                |     0.007 |     0.343 |           | \n",
      "--------------------------------|-----------|-----------|-----------|\n",
      "                   Column Total |       195 |       205 |       400 | \n",
      "                                |     0.487 |     0.512 |           | \n",
      "--------------------------------|-----------|-----------|-----------|\n",
      "\n",
      " \n"
     ]
    }
   ],
   "source": [
    "CrossTable(participant$complier.survey.int, participant$complier.app.inclusive)"
   ]
  },
  {
   "cell_type": "code",
   "execution_count": 614,
   "metadata": {},
   "outputs": [
    {
     "data": {
      "text/html": [
       "<ol class=list-inline>\n",
       "\t<li>'anonymized.id'</li>\n",
       "\t<li>'lang'</li>\n",
       "\t<li>'user.editcount'</li>\n",
       "\t<li>'user.experience.level'</li>\n",
       "\t<li>'overall.exp'</li>\n",
       "\t<li>'has.email'</li>\n",
       "\t<li>'year.joined'</li>\n",
       "\t<li>'account.age'</li>\n",
       "\t<li>'complier'</li>\n",
       "\t<li>'complier.survey'</li>\n",
       "\t<li>'previous.supportive.actions'</li>\n",
       "\t<li>'subsequent.supportive.actions'</li>\n",
       "\t<li>'diff.supportive.actions'</li>\n",
       "\t<li>'previous.positive.feeling'</li>\n",
       "\t<li>'subsequent.positive.feeling'</li>\n",
       "\t<li>'diff.positive.feeling'</li>\n",
       "\t<li>'previous.labor.hours'</li>\n",
       "\t<li>'subsequent.labor.hours'</li>\n",
       "\t<li>'pre.monitoring.damaging.content'</li>\n",
       "\t<li>'pre.mentoring'</li>\n",
       "\t<li>'pre.newcomer.capability'</li>\n",
       "\t<li>'pre.newcomer.intent'</li>\n",
       "\t<li>'pre.emotionally.draining'</li>\n",
       "\t<li>'pre.feel.positive'</li>\n",
       "\t<li>'post.monitoring.damaging.content'</li>\n",
       "\t<li>'post.mentoring'</li>\n",
       "\t<li>'post.newcomer.capability'</li>\n",
       "\t<li>'post.newcomer.intent'</li>\n",
       "\t<li>'post.emotionally.draining'</li>\n",
       "\t<li>'post.feel.positive'</li>\n",
       "\t<li>'supportive.84.pre.treatment'</li>\n",
       "\t<li>'labor.hours.84.pre.treatment'</li>\n",
       "\t<li>'total.edits.84.pre.treatment'</li>\n",
       "\t<li>'num.reverts.84.pre.treatment'</li>\n",
       "\t<li>'project.talk.84.pre.treatment'</li>\n",
       "\t<li>'support.talk.84.pre.treatment'</li>\n",
       "\t<li>'wikithank.84.pre.treatment'</li>\n",
       "\t<li>'wikilove.84.pre.treatment'</li>\n",
       "\t<li>'block.actions.84.pre.treatment'</li>\n",
       "\t<li>'randomization.block.id'</li>\n",
       "\t<li>'randomization.block.size'</li>\n",
       "\t<li>'randomization.arm'</li>\n",
       "\t<li>'treatment.start'</li>\n",
       "\t<li>'treatment.end'</li>\n",
       "\t<li>'complier.app'</li>\n",
       "\t<li>'complier.app.logged.in'</li>\n",
       "\t<li>'complier.app.logged.in.latest.date'</li>\n",
       "\t<li>'num.thankees.skipped'</li>\n",
       "\t<li>'num.thank.actions'</li>\n",
       "\t<li>'num.complete.activity.actions'</li>\n",
       "\t<li>'treatment.elapsed.seconds'</li>\n",
       "\t<li>'start.date.56.pre.treatment'</li>\n",
       "\t<li>'end.date.56.pre.treatment'</li>\n",
       "\t<li>'num.reverts.56.pre.treatment'</li>\n",
       "\t<li>'block.actions.56.pre.treatment'</li>\n",
       "\t<li>'labor.hours.56.pre.treatment'</li>\n",
       "\t<li>'total.edits.56.pre.treatment'</li>\n",
       "\t<li>'support.talk.56.pre.treatment'</li>\n",
       "\t<li>'project.talk.56.pre.treatment'</li>\n",
       "\t<li>'wikithanks.56.pre.treatment'</li>\n",
       "\t<li>'wikiloves.56.pre.treatment'</li>\n",
       "\t<li>'start.date.56.post.treatment'</li>\n",
       "\t<li>'end.date.56.post.treatment'</li>\n",
       "\t<li>'num.reverts.56.post.treatment'</li>\n",
       "\t<li>'block.actions.56.post.treatment'</li>\n",
       "\t<li>'labor.hours.56.post.treatment'</li>\n",
       "\t<li>'total.edits.56.post.treatment'</li>\n",
       "\t<li>'support.talk.56.post.treatment'</li>\n",
       "\t<li>'project.talk.56.post.treatment'</li>\n",
       "\t<li>'wikithanks.56.post.treatment'</li>\n",
       "\t<li>'wikiloves.56.post.treatment'</li>\n",
       "\t<li>'complier.int'</li>\n",
       "\t<li>'complier.app.int'</li>\n",
       "\t<li>'complier.app.logged.in.int'</li>\n",
       "\t<li>'TREAT'</li>\n",
       "\t<li>'complier.app.inclusive'</li>\n",
       "\t<li>'diff.labor.hours'</li>\n",
       "\t<li>'diff.newcomer.capability'</li>\n",
       "\t<li>'diff.newcomer.intent'</li>\n",
       "\t<li>'diff.thanks.sent'</li>\n",
       "\t<li>'diff.emotionally.draining'</li>\n",
       "\t<li>'diff.monitoring.damaging.content'</li>\n",
       "\t<li>'diff.mentoring'</li>\n",
       "\t<li>'complier.survey.int'</li>\n",
       "\t<li>'has.email.int'</li>\n",
       "</ol>\n"
      ],
      "text/latex": [
       "\\begin{enumerate*}\n",
       "\\item 'anonymized.id'\n",
       "\\item 'lang'\n",
       "\\item 'user.editcount'\n",
       "\\item 'user.experience.level'\n",
       "\\item 'overall.exp'\n",
       "\\item 'has.email'\n",
       "\\item 'year.joined'\n",
       "\\item 'account.age'\n",
       "\\item 'complier'\n",
       "\\item 'complier.survey'\n",
       "\\item 'previous.supportive.actions'\n",
       "\\item 'subsequent.supportive.actions'\n",
       "\\item 'diff.supportive.actions'\n",
       "\\item 'previous.positive.feeling'\n",
       "\\item 'subsequent.positive.feeling'\n",
       "\\item 'diff.positive.feeling'\n",
       "\\item 'previous.labor.hours'\n",
       "\\item 'subsequent.labor.hours'\n",
       "\\item 'pre.monitoring.damaging.content'\n",
       "\\item 'pre.mentoring'\n",
       "\\item 'pre.newcomer.capability'\n",
       "\\item 'pre.newcomer.intent'\n",
       "\\item 'pre.emotionally.draining'\n",
       "\\item 'pre.feel.positive'\n",
       "\\item 'post.monitoring.damaging.content'\n",
       "\\item 'post.mentoring'\n",
       "\\item 'post.newcomer.capability'\n",
       "\\item 'post.newcomer.intent'\n",
       "\\item 'post.emotionally.draining'\n",
       "\\item 'post.feel.positive'\n",
       "\\item 'supportive.84.pre.treatment'\n",
       "\\item 'labor.hours.84.pre.treatment'\n",
       "\\item 'total.edits.84.pre.treatment'\n",
       "\\item 'num.reverts.84.pre.treatment'\n",
       "\\item 'project.talk.84.pre.treatment'\n",
       "\\item 'support.talk.84.pre.treatment'\n",
       "\\item 'wikithank.84.pre.treatment'\n",
       "\\item 'wikilove.84.pre.treatment'\n",
       "\\item 'block.actions.84.pre.treatment'\n",
       "\\item 'randomization.block.id'\n",
       "\\item 'randomization.block.size'\n",
       "\\item 'randomization.arm'\n",
       "\\item 'treatment.start'\n",
       "\\item 'treatment.end'\n",
       "\\item 'complier.app'\n",
       "\\item 'complier.app.logged.in'\n",
       "\\item 'complier.app.logged.in.latest.date'\n",
       "\\item 'num.thankees.skipped'\n",
       "\\item 'num.thank.actions'\n",
       "\\item 'num.complete.activity.actions'\n",
       "\\item 'treatment.elapsed.seconds'\n",
       "\\item 'start.date.56.pre.treatment'\n",
       "\\item 'end.date.56.pre.treatment'\n",
       "\\item 'num.reverts.56.pre.treatment'\n",
       "\\item 'block.actions.56.pre.treatment'\n",
       "\\item 'labor.hours.56.pre.treatment'\n",
       "\\item 'total.edits.56.pre.treatment'\n",
       "\\item 'support.talk.56.pre.treatment'\n",
       "\\item 'project.talk.56.pre.treatment'\n",
       "\\item 'wikithanks.56.pre.treatment'\n",
       "\\item 'wikiloves.56.pre.treatment'\n",
       "\\item 'start.date.56.post.treatment'\n",
       "\\item 'end.date.56.post.treatment'\n",
       "\\item 'num.reverts.56.post.treatment'\n",
       "\\item 'block.actions.56.post.treatment'\n",
       "\\item 'labor.hours.56.post.treatment'\n",
       "\\item 'total.edits.56.post.treatment'\n",
       "\\item 'support.talk.56.post.treatment'\n",
       "\\item 'project.talk.56.post.treatment'\n",
       "\\item 'wikithanks.56.post.treatment'\n",
       "\\item 'wikiloves.56.post.treatment'\n",
       "\\item 'complier.int'\n",
       "\\item 'complier.app.int'\n",
       "\\item 'complier.app.logged.in.int'\n",
       "\\item 'TREAT'\n",
       "\\item 'complier.app.inclusive'\n",
       "\\item 'diff.labor.hours'\n",
       "\\item 'diff.newcomer.capability'\n",
       "\\item 'diff.newcomer.intent'\n",
       "\\item 'diff.thanks.sent'\n",
       "\\item 'diff.emotionally.draining'\n",
       "\\item 'diff.monitoring.damaging.content'\n",
       "\\item 'diff.mentoring'\n",
       "\\item 'complier.survey.int'\n",
       "\\item 'has.email.int'\n",
       "\\end{enumerate*}\n"
      ],
      "text/markdown": [
       "1. 'anonymized.id'\n",
       "2. 'lang'\n",
       "3. 'user.editcount'\n",
       "4. 'user.experience.level'\n",
       "5. 'overall.exp'\n",
       "6. 'has.email'\n",
       "7. 'year.joined'\n",
       "8. 'account.age'\n",
       "9. 'complier'\n",
       "10. 'complier.survey'\n",
       "11. 'previous.supportive.actions'\n",
       "12. 'subsequent.supportive.actions'\n",
       "13. 'diff.supportive.actions'\n",
       "14. 'previous.positive.feeling'\n",
       "15. 'subsequent.positive.feeling'\n",
       "16. 'diff.positive.feeling'\n",
       "17. 'previous.labor.hours'\n",
       "18. 'subsequent.labor.hours'\n",
       "19. 'pre.monitoring.damaging.content'\n",
       "20. 'pre.mentoring'\n",
       "21. 'pre.newcomer.capability'\n",
       "22. 'pre.newcomer.intent'\n",
       "23. 'pre.emotionally.draining'\n",
       "24. 'pre.feel.positive'\n",
       "25. 'post.monitoring.damaging.content'\n",
       "26. 'post.mentoring'\n",
       "27. 'post.newcomer.capability'\n",
       "28. 'post.newcomer.intent'\n",
       "29. 'post.emotionally.draining'\n",
       "30. 'post.feel.positive'\n",
       "31. 'supportive.84.pre.treatment'\n",
       "32. 'labor.hours.84.pre.treatment'\n",
       "33. 'total.edits.84.pre.treatment'\n",
       "34. 'num.reverts.84.pre.treatment'\n",
       "35. 'project.talk.84.pre.treatment'\n",
       "36. 'support.talk.84.pre.treatment'\n",
       "37. 'wikithank.84.pre.treatment'\n",
       "38. 'wikilove.84.pre.treatment'\n",
       "39. 'block.actions.84.pre.treatment'\n",
       "40. 'randomization.block.id'\n",
       "41. 'randomization.block.size'\n",
       "42. 'randomization.arm'\n",
       "43. 'treatment.start'\n",
       "44. 'treatment.end'\n",
       "45. 'complier.app'\n",
       "46. 'complier.app.logged.in'\n",
       "47. 'complier.app.logged.in.latest.date'\n",
       "48. 'num.thankees.skipped'\n",
       "49. 'num.thank.actions'\n",
       "50. 'num.complete.activity.actions'\n",
       "51. 'treatment.elapsed.seconds'\n",
       "52. 'start.date.56.pre.treatment'\n",
       "53. 'end.date.56.pre.treatment'\n",
       "54. 'num.reverts.56.pre.treatment'\n",
       "55. 'block.actions.56.pre.treatment'\n",
       "56. 'labor.hours.56.pre.treatment'\n",
       "57. 'total.edits.56.pre.treatment'\n",
       "58. 'support.talk.56.pre.treatment'\n",
       "59. 'project.talk.56.pre.treatment'\n",
       "60. 'wikithanks.56.pre.treatment'\n",
       "61. 'wikiloves.56.pre.treatment'\n",
       "62. 'start.date.56.post.treatment'\n",
       "63. 'end.date.56.post.treatment'\n",
       "64. 'num.reverts.56.post.treatment'\n",
       "65. 'block.actions.56.post.treatment'\n",
       "66. 'labor.hours.56.post.treatment'\n",
       "67. 'total.edits.56.post.treatment'\n",
       "68. 'support.talk.56.post.treatment'\n",
       "69. 'project.talk.56.post.treatment'\n",
       "70. 'wikithanks.56.post.treatment'\n",
       "71. 'wikiloves.56.post.treatment'\n",
       "72. 'complier.int'\n",
       "73. 'complier.app.int'\n",
       "74. 'complier.app.logged.in.int'\n",
       "75. 'TREAT'\n",
       "76. 'complier.app.inclusive'\n",
       "77. 'diff.labor.hours'\n",
       "78. 'diff.newcomer.capability'\n",
       "79. 'diff.newcomer.intent'\n",
       "80. 'diff.thanks.sent'\n",
       "81. 'diff.emotionally.draining'\n",
       "82. 'diff.monitoring.damaging.content'\n",
       "83. 'diff.mentoring'\n",
       "84. 'complier.survey.int'\n",
       "85. 'has.email.int'\n",
       "\n",
       "\n"
      ],
      "text/plain": [
       " [1] \"anonymized.id\"                      \"lang\"                              \n",
       " [3] \"user.editcount\"                     \"user.experience.level\"             \n",
       " [5] \"overall.exp\"                        \"has.email\"                         \n",
       " [7] \"year.joined\"                        \"account.age\"                       \n",
       " [9] \"complier\"                           \"complier.survey\"                   \n",
       "[11] \"previous.supportive.actions\"        \"subsequent.supportive.actions\"     \n",
       "[13] \"diff.supportive.actions\"            \"previous.positive.feeling\"         \n",
       "[15] \"subsequent.positive.feeling\"        \"diff.positive.feeling\"             \n",
       "[17] \"previous.labor.hours\"               \"subsequent.labor.hours\"            \n",
       "[19] \"pre.monitoring.damaging.content\"    \"pre.mentoring\"                     \n",
       "[21] \"pre.newcomer.capability\"            \"pre.newcomer.intent\"               \n",
       "[23] \"pre.emotionally.draining\"           \"pre.feel.positive\"                 \n",
       "[25] \"post.monitoring.damaging.content\"   \"post.mentoring\"                    \n",
       "[27] \"post.newcomer.capability\"           \"post.newcomer.intent\"              \n",
       "[29] \"post.emotionally.draining\"          \"post.feel.positive\"                \n",
       "[31] \"supportive.84.pre.treatment\"        \"labor.hours.84.pre.treatment\"      \n",
       "[33] \"total.edits.84.pre.treatment\"       \"num.reverts.84.pre.treatment\"      \n",
       "[35] \"project.talk.84.pre.treatment\"      \"support.talk.84.pre.treatment\"     \n",
       "[37] \"wikithank.84.pre.treatment\"         \"wikilove.84.pre.treatment\"         \n",
       "[39] \"block.actions.84.pre.treatment\"     \"randomization.block.id\"            \n",
       "[41] \"randomization.block.size\"           \"randomization.arm\"                 \n",
       "[43] \"treatment.start\"                    \"treatment.end\"                     \n",
       "[45] \"complier.app\"                       \"complier.app.logged.in\"            \n",
       "[47] \"complier.app.logged.in.latest.date\" \"num.thankees.skipped\"              \n",
       "[49] \"num.thank.actions\"                  \"num.complete.activity.actions\"     \n",
       "[51] \"treatment.elapsed.seconds\"          \"start.date.56.pre.treatment\"       \n",
       "[53] \"end.date.56.pre.treatment\"          \"num.reverts.56.pre.treatment\"      \n",
       "[55] \"block.actions.56.pre.treatment\"     \"labor.hours.56.pre.treatment\"      \n",
       "[57] \"total.edits.56.pre.treatment\"       \"support.talk.56.pre.treatment\"     \n",
       "[59] \"project.talk.56.pre.treatment\"      \"wikithanks.56.pre.treatment\"       \n",
       "[61] \"wikiloves.56.pre.treatment\"         \"start.date.56.post.treatment\"      \n",
       "[63] \"end.date.56.post.treatment\"         \"num.reverts.56.post.treatment\"     \n",
       "[65] \"block.actions.56.post.treatment\"    \"labor.hours.56.post.treatment\"     \n",
       "[67] \"total.edits.56.post.treatment\"      \"support.talk.56.post.treatment\"    \n",
       "[69] \"project.talk.56.post.treatment\"     \"wikithanks.56.post.treatment\"      \n",
       "[71] \"wikiloves.56.post.treatment\"        \"complier.int\"                      \n",
       "[73] \"complier.app.int\"                   \"complier.app.logged.in.int\"        \n",
       "[75] \"TREAT\"                              \"complier.app.inclusive\"            \n",
       "[77] \"diff.labor.hours\"                   \"diff.newcomer.capability\"          \n",
       "[79] \"diff.newcomer.intent\"               \"diff.thanks.sent\"                  \n",
       "[81] \"diff.emotionally.draining\"          \"diff.monitoring.damaging.content\"  \n",
       "[83] \"diff.mentoring\"                     \"complier.survey.int\"               \n",
       "[85] \"has.email.int\"                     "
      ]
     },
     "metadata": {},
     "output_type": "display_data"
    }
   ],
   "source": [
    "participant$has.email.int <- participant$has.email ==\"True\"\n",
    "colnames(participant)"
   ]
  },
  {
   "cell_type": "code",
   "execution_count": null,
   "metadata": {},
   "outputs": [],
   "source": [
    "participant$pre.newcomer.capability"
   ]
  },
  {
   "cell_type": "code",
   "execution_count": 620,
   "metadata": {},
   "outputs": [
    {
     "data": {
      "image/png": "[encoded data removed]",
      "text/plain": [
       "Plot with title “”"
      ]
     },
     "metadata": {},
     "output_type": "display_data"
    }
   ],
   "source": [
    "corrplot(cor(participant[c(\"complier.app.logged.in.int\",\n",
    "                           \"complier.survey.int\",\n",
    "                           \"pre.feel.positive\",\n",
    "                           \"pre.emotionally.draining\",\n",
    "                           \"labor.hours.84.pre.treatment\",\n",
    "                           \"previous.supportive.actions\",\n",
    "                           \"pre.monitoring.damaging.content\",\n",
    "                           \"pre.mentoring\",\n",
    "                           \"pre.newcomer.capability\",\n",
    "                           \"pre.newcomer.intent\", \n",
    "                           \"has.email.int\")]))"
   ]
  },
  {
   "cell_type": "code",
   "execution_count": 626,
   "metadata": {},
   "outputs": [
    {
     "name": "stdout",
     "output_type": "stream",
     "text": [
      "\n",
      " \n",
      "   Cell Contents\n",
      "|-------------------------|\n",
      "|                       N |\n",
      "| Chi-square contribution |\n",
      "|           N / Row Total |\n",
      "|           N / Col Total |\n",
      "|         N / Table Total |\n",
      "|-------------------------|\n",
      "\n",
      " \n",
      "Total Observations in Table:  400 \n",
      "\n",
      " \n",
      "                                       | participant$has.email.int \n",
      "participant$complier.app.logged.in.int |     FALSE |      TRUE | Row Total | \n",
      "---------------------------------------|-----------|-----------|-----------|\n",
      "                                     1 |        13 |       149 |       162 | \n",
      "                                       |     2.376 |     0.132 |           | \n",
      "                                       |     0.080 |     0.920 |     0.405 | \n",
      "                                       |     0.619 |     0.393 |           | \n",
      "                                       |     0.033 |     0.372 |           | \n",
      "---------------------------------------|-----------|-----------|-----------|\n",
      "                                     2 |         8 |       230 |       238 | \n",
      "                                       |     1.617 |     0.090 |           | \n",
      "                                       |     0.034 |     0.966 |     0.595 | \n",
      "                                       |     0.381 |     0.607 |           | \n",
      "                                       |     0.020 |     0.575 |           | \n",
      "---------------------------------------|-----------|-----------|-----------|\n",
      "                          Column Total |        21 |       379 |       400 | \n",
      "                                       |     0.052 |     0.948 |           | \n",
      "---------------------------------------|-----------|-----------|-----------|\n",
      "\n",
      " \n"
     ]
    }
   ],
   "source": [
    "CrossTable(participant$complier.app.logged.in.int, participant$has.email.int)"
   ]
  },
  {
   "cell_type": "code",
   "execution_count": 637,
   "metadata": {},
   "outputs": [
    {
     "data": {
      "text/plain": [
       "\n",
       "\tPearson's product-moment correlation\n",
       "\n",
       "data:  participant$complier.app.logged.in.int and participant$pre.feel.positive\n",
       "t = 2.3198, df = 398, p-value = 0.02086\n",
       "alternative hypothesis: true correlation is not equal to 0\n",
       "95 percent confidence interval:\n",
       " 0.01765054 0.21116262\n",
       "sample estimates:\n",
       "      cor \n",
       "0.1155024 \n"
      ]
     },
     "metadata": {},
     "output_type": "display_data"
    },
    {
     "data": {
      "text/plain": [
       "\n",
       "Call:\n",
       "lm(formula = complier.app.logged.in.int ~ pre.feel.positive, \n",
       "    data = participant)\n",
       "\n",
       "Residuals:\n",
       "    Min      1Q  Median      3Q     Max \n",
       "-0.6487 -0.5830  0.3513  0.4170  0.6142 \n",
       "\n",
       "Coefficients:\n",
       "                  Estimate Std. Error t value Pr(>|t|)    \n",
       "(Intercept)        1.32010    0.12100   10.91   <2e-16 ***\n",
       "pre.feel.positive  0.06573    0.02833    2.32   0.0209 *  \n",
       "---\n",
       "Signif. codes:  0 ‘***’ 0.001 ‘**’ 0.01 ‘*’ 0.05 ‘.’ 0.1 ‘ ’ 1\n",
       "\n",
       "Residual standard error: 0.4888 on 398 degrees of freedom\n",
       "Multiple R-squared:  0.01334,\tAdjusted R-squared:  0.01086 \n",
       "F-statistic: 5.381 on 1 and 398 DF,  p-value: 0.02086\n"
      ]
     },
     "metadata": {},
     "output_type": "display_data"
    }
   ],
   "source": [
    "cor.test(participant$complier.app.logged.in.int, participant$pre.feel.positive)\n",
    "summary(lm(complier.app.logged.in.int ~ pre.feel.positive, data=participant))"
   ]
  },
  {
   "cell_type": "code",
   "execution_count": 636,
   "metadata": {},
   "outputs": [
    {
     "data": {
      "text/plain": [
       "\n",
       "\tPearson's product-moment correlation\n",
       "\n",
       "data:  participant$complier.app.logged.in.int and participant$pre.emotionally.draining\n",
       "t = -2.8296, df = 398, p-value = 0.004896\n",
       "alternative hypothesis: true correlation is not equal to 0\n",
       "95 percent confidence interval:\n",
       " -0.23524280 -0.04297019\n",
       "sample estimates:\n",
       "       cor \n",
       "-0.1404302 \n"
      ]
     },
     "metadata": {},
     "output_type": "display_data"
    }
   ],
   "source": [
    "cor.test(participant$complier.app.logged.in.int, participant$pre.emotionally.draining)"
   ]
  },
  {
   "cell_type": "markdown",
   "metadata": {},
   "source": [
    "# Univariate Summary Statistics & Data Validation Method for a Sub-samble"
   ]
  },
  {
   "cell_type": "code",
   "execution_count": 223,
   "metadata": {},
   "outputs": [
    {
     "data": {
      "text/html": [
       "<ol class=list-inline>\n",
       "\t<li>'anonymized.id'</li>\n",
       "\t<li>'lang'</li>\n",
       "\t<li>'user.editcount'</li>\n",
       "\t<li>'user.experience.level'</li>\n",
       "\t<li>'overall.exp'</li>\n",
       "\t<li>'has.email'</li>\n",
       "\t<li>'year.joined'</li>\n",
       "\t<li>'account.age'</li>\n",
       "\t<li>'complier'</li>\n",
       "\t<li>'complier.survey'</li>\n",
       "\t<li>'previous.supportive.actions'</li>\n",
       "\t<li>'subsequent.supportive.actions'</li>\n",
       "\t<li>'diff.supportive.actions'</li>\n",
       "\t<li>'previous.positive.feeling'</li>\n",
       "\t<li>'subsequent.positive.feeling'</li>\n",
       "\t<li>'diff.positive.feeling'</li>\n",
       "\t<li>'previous.labor.hours'</li>\n",
       "\t<li>'subsequent.labor.hours'</li>\n",
       "\t<li>'pre.monitoring.damaging.content'</li>\n",
       "\t<li>'pre.mentoring'</li>\n",
       "\t<li>'pre.newcomer.capability'</li>\n",
       "\t<li>'pre.newcomer.intent'</li>\n",
       "\t<li>'pre.emotionally.draining'</li>\n",
       "\t<li>'pre.feel.positive'</li>\n",
       "\t<li>'post.monitoring.damaging.content'</li>\n",
       "\t<li>'post.mentoring'</li>\n",
       "\t<li>'post.newcomer.capability'</li>\n",
       "\t<li>'post.newcomer.intent'</li>\n",
       "\t<li>'post.emotionally.draining'</li>\n",
       "\t<li>'post.feel.positive'</li>\n",
       "\t<li>'supportive.84.pre.treatment'</li>\n",
       "\t<li>'labor.hours.84.pre.treatment'</li>\n",
       "\t<li>'total.edits.84.pre.treatment'</li>\n",
       "\t<li>'num.reverts.84.pre.treatment'</li>\n",
       "\t<li>'project.talk.84.pre.treatment'</li>\n",
       "\t<li>'support.talk.84.pre.treatment'</li>\n",
       "\t<li>'wikithank.84.pre.treatment'</li>\n",
       "\t<li>'wikilove.84.pre.treatment'</li>\n",
       "\t<li>'block.actions.84.pre.treatment'</li>\n",
       "\t<li>'randomization.block.id'</li>\n",
       "\t<li>'randomization.block.size'</li>\n",
       "\t<li>'randomization.arm'</li>\n",
       "\t<li>'treatment.start'</li>\n",
       "\t<li>'treatment.end'</li>\n",
       "\t<li>'complier.app'</li>\n",
       "\t<li>'complier.app.logged.in'</li>\n",
       "\t<li>'complier.app.logged.in.latest.date'</li>\n",
       "\t<li>'num.thankees.skipped'</li>\n",
       "\t<li>'num.thank.actions'</li>\n",
       "\t<li>'num.complete.activity.actions'</li>\n",
       "\t<li>'treatment.elapsed.seconds'</li>\n",
       "\t<li>'start.date.56.pre.treatment'</li>\n",
       "\t<li>'end.date.56.pre.treatment'</li>\n",
       "\t<li>'num.reverts.56.pre.treatment'</li>\n",
       "\t<li>'block.actions.56.pre.treatment'</li>\n",
       "\t<li>'labor.hours.56.pre.treatment'</li>\n",
       "\t<li>'total.edits.56.pre.treatment'</li>\n",
       "\t<li>'support.talk.56.pre.treatment'</li>\n",
       "\t<li>'project.talk.56.pre.treatment'</li>\n",
       "\t<li>'wikithanks.56.pre.treatment'</li>\n",
       "\t<li>'wikiloves.56.pre.treatment'</li>\n",
       "\t<li>'start.date.56.post.treatment'</li>\n",
       "\t<li>'end.date.56.post.treatment'</li>\n",
       "\t<li>'num.reverts.56.post.treatment'</li>\n",
       "\t<li>'block.actions.56.post.treatment'</li>\n",
       "\t<li>'labor.hours.56.post.treatment'</li>\n",
       "\t<li>'total.edits.56.post.treatment'</li>\n",
       "\t<li>'support.talk.56.post.treatment'</li>\n",
       "\t<li>'project.talk.56.post.treatment'</li>\n",
       "\t<li>'wikithanks.56.post.treatment'</li>\n",
       "\t<li>'wikiloves.56.post.treatment'</li>\n",
       "\t<li>'complier.int'</li>\n",
       "\t<li>'complier.app.int'</li>\n",
       "\t<li>'complier.app.logged.in.int'</li>\n",
       "\t<li>'TREAT'</li>\n",
       "\t<li>'complier.app.inclusive'</li>\n",
       "\t<li>'diff.labor.hours'</li>\n",
       "\t<li>'diff.newcomer.capability'</li>\n",
       "\t<li>'diff.newcomer.intent'</li>\n",
       "\t<li>'diff.thanks.sent'</li>\n",
       "\t<li>'diff.emotionally.draining'</li>\n",
       "\t<li>'diff.monitoring.damaging.content'</li>\n",
       "\t<li>'diff.mentoring'</li>\n",
       "</ol>\n"
      ],
      "text/latex": [
       "\\begin{enumerate*}\n",
       "\\item 'anonymized.id'\n",
       "\\item 'lang'\n",
       "\\item 'user.editcount'\n",
       "\\item 'user.experience.level'\n",
       "\\item 'overall.exp'\n",
       "\\item 'has.email'\n",
       "\\item 'year.joined'\n",
       "\\item 'account.age'\n",
       "\\item 'complier'\n",
       "\\item 'complier.survey'\n",
       "\\item 'previous.supportive.actions'\n",
       "\\item 'subsequent.supportive.actions'\n",
       "\\item 'diff.supportive.actions'\n",
       "\\item 'previous.positive.feeling'\n",
       "\\item 'subsequent.positive.feeling'\n",
       "\\item 'diff.positive.feeling'\n",
       "\\item 'previous.labor.hours'\n",
       "\\item 'subsequent.labor.hours'\n",
       "\\item 'pre.monitoring.damaging.content'\n",
       "\\item 'pre.mentoring'\n",
       "\\item 'pre.newcomer.capability'\n",
       "\\item 'pre.newcomer.intent'\n",
       "\\item 'pre.emotionally.draining'\n",
       "\\item 'pre.feel.positive'\n",
       "\\item 'post.monitoring.damaging.content'\n",
       "\\item 'post.mentoring'\n",
       "\\item 'post.newcomer.capability'\n",
       "\\item 'post.newcomer.intent'\n",
       "\\item 'post.emotionally.draining'\n",
       "\\item 'post.feel.positive'\n",
       "\\item 'supportive.84.pre.treatment'\n",
       "\\item 'labor.hours.84.pre.treatment'\n",
       "\\item 'total.edits.84.pre.treatment'\n",
       "\\item 'num.reverts.84.pre.treatment'\n",
       "\\item 'project.talk.84.pre.treatment'\n",
       "\\item 'support.talk.84.pre.treatment'\n",
       "\\item 'wikithank.84.pre.treatment'\n",
       "\\item 'wikilove.84.pre.treatment'\n",
       "\\item 'block.actions.84.pre.treatment'\n",
       "\\item 'randomization.block.id'\n",
       "\\item 'randomization.block.size'\n",
       "\\item 'randomization.arm'\n",
       "\\item 'treatment.start'\n",
       "\\item 'treatment.end'\n",
       "\\item 'complier.app'\n",
       "\\item 'complier.app.logged.in'\n",
       "\\item 'complier.app.logged.in.latest.date'\n",
       "\\item 'num.thankees.skipped'\n",
       "\\item 'num.thank.actions'\n",
       "\\item 'num.complete.activity.actions'\n",
       "\\item 'treatment.elapsed.seconds'\n",
       "\\item 'start.date.56.pre.treatment'\n",
       "\\item 'end.date.56.pre.treatment'\n",
       "\\item 'num.reverts.56.pre.treatment'\n",
       "\\item 'block.actions.56.pre.treatment'\n",
       "\\item 'labor.hours.56.pre.treatment'\n",
       "\\item 'total.edits.56.pre.treatment'\n",
       "\\item 'support.talk.56.pre.treatment'\n",
       "\\item 'project.talk.56.pre.treatment'\n",
       "\\item 'wikithanks.56.pre.treatment'\n",
       "\\item 'wikiloves.56.pre.treatment'\n",
       "\\item 'start.date.56.post.treatment'\n",
       "\\item 'end.date.56.post.treatment'\n",
       "\\item 'num.reverts.56.post.treatment'\n",
       "\\item 'block.actions.56.post.treatment'\n",
       "\\item 'labor.hours.56.post.treatment'\n",
       "\\item 'total.edits.56.post.treatment'\n",
       "\\item 'support.talk.56.post.treatment'\n",
       "\\item 'project.talk.56.post.treatment'\n",
       "\\item 'wikithanks.56.post.treatment'\n",
       "\\item 'wikiloves.56.post.treatment'\n",
       "\\item 'complier.int'\n",
       "\\item 'complier.app.int'\n",
       "\\item 'complier.app.logged.in.int'\n",
       "\\item 'TREAT'\n",
       "\\item 'complier.app.inclusive'\n",
       "\\item 'diff.labor.hours'\n",
       "\\item 'diff.newcomer.capability'\n",
       "\\item 'diff.newcomer.intent'\n",
       "\\item 'diff.thanks.sent'\n",
       "\\item 'diff.emotionally.draining'\n",
       "\\item 'diff.monitoring.damaging.content'\n",
       "\\item 'diff.mentoring'\n",
       "\\end{enumerate*}\n"
      ],
      "text/markdown": [
       "1. 'anonymized.id'\n",
       "2. 'lang'\n",
       "3. 'user.editcount'\n",
       "4. 'user.experience.level'\n",
       "5. 'overall.exp'\n",
       "6. 'has.email'\n",
       "7. 'year.joined'\n",
       "8. 'account.age'\n",
       "9. 'complier'\n",
       "10. 'complier.survey'\n",
       "11. 'previous.supportive.actions'\n",
       "12. 'subsequent.supportive.actions'\n",
       "13. 'diff.supportive.actions'\n",
       "14. 'previous.positive.feeling'\n",
       "15. 'subsequent.positive.feeling'\n",
       "16. 'diff.positive.feeling'\n",
       "17. 'previous.labor.hours'\n",
       "18. 'subsequent.labor.hours'\n",
       "19. 'pre.monitoring.damaging.content'\n",
       "20. 'pre.mentoring'\n",
       "21. 'pre.newcomer.capability'\n",
       "22. 'pre.newcomer.intent'\n",
       "23. 'pre.emotionally.draining'\n",
       "24. 'pre.feel.positive'\n",
       "25. 'post.monitoring.damaging.content'\n",
       "26. 'post.mentoring'\n",
       "27. 'post.newcomer.capability'\n",
       "28. 'post.newcomer.intent'\n",
       "29. 'post.emotionally.draining'\n",
       "30. 'post.feel.positive'\n",
       "31. 'supportive.84.pre.treatment'\n",
       "32. 'labor.hours.84.pre.treatment'\n",
       "33. 'total.edits.84.pre.treatment'\n",
       "34. 'num.reverts.84.pre.treatment'\n",
       "35. 'project.talk.84.pre.treatment'\n",
       "36. 'support.talk.84.pre.treatment'\n",
       "37. 'wikithank.84.pre.treatment'\n",
       "38. 'wikilove.84.pre.treatment'\n",
       "39. 'block.actions.84.pre.treatment'\n",
       "40. 'randomization.block.id'\n",
       "41. 'randomization.block.size'\n",
       "42. 'randomization.arm'\n",
       "43. 'treatment.start'\n",
       "44. 'treatment.end'\n",
       "45. 'complier.app'\n",
       "46. 'complier.app.logged.in'\n",
       "47. 'complier.app.logged.in.latest.date'\n",
       "48. 'num.thankees.skipped'\n",
       "49. 'num.thank.actions'\n",
       "50. 'num.complete.activity.actions'\n",
       "51. 'treatment.elapsed.seconds'\n",
       "52. 'start.date.56.pre.treatment'\n",
       "53. 'end.date.56.pre.treatment'\n",
       "54. 'num.reverts.56.pre.treatment'\n",
       "55. 'block.actions.56.pre.treatment'\n",
       "56. 'labor.hours.56.pre.treatment'\n",
       "57. 'total.edits.56.pre.treatment'\n",
       "58. 'support.talk.56.pre.treatment'\n",
       "59. 'project.talk.56.pre.treatment'\n",
       "60. 'wikithanks.56.pre.treatment'\n",
       "61. 'wikiloves.56.pre.treatment'\n",
       "62. 'start.date.56.post.treatment'\n",
       "63. 'end.date.56.post.treatment'\n",
       "64. 'num.reverts.56.post.treatment'\n",
       "65. 'block.actions.56.post.treatment'\n",
       "66. 'labor.hours.56.post.treatment'\n",
       "67. 'total.edits.56.post.treatment'\n",
       "68. 'support.talk.56.post.treatment'\n",
       "69. 'project.talk.56.post.treatment'\n",
       "70. 'wikithanks.56.post.treatment'\n",
       "71. 'wikiloves.56.post.treatment'\n",
       "72. 'complier.int'\n",
       "73. 'complier.app.int'\n",
       "74. 'complier.app.logged.in.int'\n",
       "75. 'TREAT'\n",
       "76. 'complier.app.inclusive'\n",
       "77. 'diff.labor.hours'\n",
       "78. 'diff.newcomer.capability'\n",
       "79. 'diff.newcomer.intent'\n",
       "80. 'diff.thanks.sent'\n",
       "81. 'diff.emotionally.draining'\n",
       "82. 'diff.monitoring.damaging.content'\n",
       "83. 'diff.mentoring'\n",
       "\n",
       "\n"
      ],
      "text/plain": [
       " [1] \"anonymized.id\"                      \"lang\"                              \n",
       " [3] \"user.editcount\"                     \"user.experience.level\"             \n",
       " [5] \"overall.exp\"                        \"has.email\"                         \n",
       " [7] \"year.joined\"                        \"account.age\"                       \n",
       " [9] \"complier\"                           \"complier.survey\"                   \n",
       "[11] \"previous.supportive.actions\"        \"subsequent.supportive.actions\"     \n",
       "[13] \"diff.supportive.actions\"            \"previous.positive.feeling\"         \n",
       "[15] \"subsequent.positive.feeling\"        \"diff.positive.feeling\"             \n",
       "[17] \"previous.labor.hours\"               \"subsequent.labor.hours\"            \n",
       "[19] \"pre.monitoring.damaging.content\"    \"pre.mentoring\"                     \n",
       "[21] \"pre.newcomer.capability\"            \"pre.newcomer.intent\"               \n",
       "[23] \"pre.emotionally.draining\"           \"pre.feel.positive\"                 \n",
       "[25] \"post.monitoring.damaging.content\"   \"post.mentoring\"                    \n",
       "[27] \"post.newcomer.capability\"           \"post.newcomer.intent\"              \n",
       "[29] \"post.emotionally.draining\"          \"post.feel.positive\"                \n",
       "[31] \"supportive.84.pre.treatment\"        \"labor.hours.84.pre.treatment\"      \n",
       "[33] \"total.edits.84.pre.treatment\"       \"num.reverts.84.pre.treatment\"      \n",
       "[35] \"project.talk.84.pre.treatment\"      \"support.talk.84.pre.treatment\"     \n",
       "[37] \"wikithank.84.pre.treatment\"         \"wikilove.84.pre.treatment\"         \n",
       "[39] \"block.actions.84.pre.treatment\"     \"randomization.block.id\"            \n",
       "[41] \"randomization.block.size\"           \"randomization.arm\"                 \n",
       "[43] \"treatment.start\"                    \"treatment.end\"                     \n",
       "[45] \"complier.app\"                       \"complier.app.logged.in\"            \n",
       "[47] \"complier.app.logged.in.latest.date\" \"num.thankees.skipped\"              \n",
       "[49] \"num.thank.actions\"                  \"num.complete.activity.actions\"     \n",
       "[51] \"treatment.elapsed.seconds\"          \"start.date.56.pre.treatment\"       \n",
       "[53] \"end.date.56.pre.treatment\"          \"num.reverts.56.pre.treatment\"      \n",
       "[55] \"block.actions.56.pre.treatment\"     \"labor.hours.56.pre.treatment\"      \n",
       "[57] \"total.edits.56.pre.treatment\"       \"support.talk.56.pre.treatment\"     \n",
       "[59] \"project.talk.56.pre.treatment\"      \"wikithanks.56.pre.treatment\"       \n",
       "[61] \"wikiloves.56.pre.treatment\"         \"start.date.56.post.treatment\"      \n",
       "[63] \"end.date.56.post.treatment\"         \"num.reverts.56.post.treatment\"     \n",
       "[65] \"block.actions.56.post.treatment\"    \"labor.hours.56.post.treatment\"     \n",
       "[67] \"total.edits.56.post.treatment\"      \"support.talk.56.post.treatment\"    \n",
       "[69] \"project.talk.56.post.treatment\"     \"wikithanks.56.post.treatment\"      \n",
       "[71] \"wikiloves.56.post.treatment\"        \"complier.int\"                      \n",
       "[73] \"complier.app.int\"                   \"complier.app.logged.in.int\"        \n",
       "[75] \"TREAT\"                              \"complier.app.inclusive\"            \n",
       "[77] \"diff.labor.hours\"                   \"diff.newcomer.capability\"          \n",
       "[79] \"diff.newcomer.intent\"               \"diff.thanks.sent\"                  \n",
       "[81] \"diff.emotionally.draining\"          \"diff.monitoring.damaging.content\"  \n",
       "[83] \"diff.mentoring\"                    "
      ]
     },
     "metadata": {},
     "output_type": "display_data"
    }
   ],
   "source": [
    "colnames(behavioral.compliers.exclusive)"
   ]
  },
  {
   "cell_type": "code",
   "execution_count": 231,
   "metadata": {},
   "outputs": [],
   "source": [
    "summary.stats <- function(df, title){\n",
    "    print(\"=====================\")\n",
    "    print(title)\n",
    "    print(\"=====================\")\n",
    "    print(\"\")\n",
    "    \n",
    "    print(paste(nrow(df), \"participants in subsample\"))\n",
    "    print(paste(nrow(subset(df, complier)), \"Survey Compliers in Subsample\"))\n",
    "    print(\"\")\n",
    "\n",
    "    print(\"language\")\n",
    "    print(summary(df$lang))\n",
    "    print(\"\")\n",
    "    \n",
    "\n",
    "    print(skim(df[c(\"TREAT\", \"diff.supportive.actions\", \"diff.labor.hours\", \n",
    "                    \"diff.newcomer.capability\", \"diff.newcomer.intent\", \n",
    "                    \"diff.thanks.sent\", \"diff.positive.feeling\", \n",
    "                    \"diff.emotionally.draining\",\n",
    "                    \"diff.mentoring\", \"diff.thanks.sent\")]))\n",
    "}"
   ]
  },
  {
   "cell_type": "code",
   "execution_count": 232,
   "metadata": {},
   "outputs": [],
   "source": [
    "# summary.stats <- function(df, title){\n",
    "#     print(\"=====================\")\n",
    "#     print(title)\n",
    "#     print(\"=====================\")\n",
    "#     print(\"\")\n",
    "    \n",
    "#     print(paste(nrow(df), \"participants in subsample\"))\n",
    "#     print(paste(nrow(subset(df, complier)), \"Survey Compliers in Subsample\"))\n",
    "#     print(\"\")\n",
    "\n",
    "#     print(\"language\")\n",
    "#     print(summary(df$lang))\n",
    "#     print(\"\")\n",
    "    \n",
    "#     print(\"==== Supportive Actions ====\")\n",
    "#     print(\"56 days before\")\n",
    "#     print(summary(df$support.talk.56.pre.treatment))\n",
    "#     print(\"56 days after\")\n",
    "#     print(summary(df$support.talk.56.post.treatment))\n",
    "#     print(\"Difference in supportive actions 56 days before and after\")\n",
    "#     print(summary(df$diff.supportive.actions))\n",
    "#     print(\"\")\n",
    "\n",
    "#     print(\"==== Labor Hours ====\")\n",
    "#     print(\"Labor Hours Before\")\n",
    "#     print(summary(df$labor.hours.56.pre.treatment))\n",
    "#     print(\"Labor Hours After\")\n",
    "#     print(summary(df$labor.hours.56.post.treatment))\n",
    "#     print(\"Difference in labor hours before and after\")\n",
    "#     print(summary(df$diff.labor.hours))\n",
    "#     print(\"\")\n",
    "\n",
    "#     print(\"==== Thanks Sent ====\")\n",
    "#     print(\"Difference in thanks sent before and after\")\n",
    "#     print(summary(df$diff.thanks.sent))\n",
    "#     print(\"\")\n",
    "#     print(\"Difference in positive feeling before and after\")\n",
    "#     print(summary(df$diff.positive.feeling))\n",
    "#     print(\"\")   \n",
    "#     print(\"Difference in view of newcomer intent before and after\")\n",
    "#     print(summary(df$diff.newcomer.intent))\n",
    "#     print(\"\")   \n",
    "#     print(\"Difference in view of newcomer capability before and after\")\n",
    "#     print(summary(df$diff.newcomer.capability))\n",
    "#     print(\"\")  \n",
    "    \n",
    "#     print(ggplot(df, aes(diff.supportive.actions)) + \n",
    "#           geom_histogram(bins=40) + \n",
    "#           geom_vline(xintercept=mean(df$diff.supportive.actions), color=\"red\") +\n",
    "#           ggtitle(\"Difference in supportive actions 56 days before & after\") +\n",
    "#           facet_grid(TREAT ~ . ) +\n",
    "#           theme_bw() + \n",
    "#           theme(plot.title = element_text(size=8),\n",
    "#                 axis.title.x = element_text(size=6.5),\n",
    "#                 axis.title.y = element_text(size=6.5)))\n",
    "    \n",
    "#     print(ggplot(df, aes(diff.labor.hours)) + \n",
    "#           geom_histogram(bins=5) + \n",
    "#           theme_bw() + \n",
    "#           geom_vline(xintercept=mean(df$diff.labor.hours), color=\"red\") +\n",
    "#           ggtitle(\"Difference in labor hours 56 days before & after\") +\n",
    "#           facet_grid(TREAT ~ . ) +\n",
    "#           theme_bw() + \n",
    "#           theme(plot.title = element_text(size=8),\n",
    "#                 axis.title.x = element_text(size=6.5),\n",
    "#                 axis.title.y = element_text(size=6.5))) \n",
    "    \n",
    "#     print(ggplot(df, aes(diff.thanks.sent)) + \n",
    "#           geom_histogram(bins=5) + \n",
    "#           theme_bw() + \n",
    "#           geom_vline(xintercept=mean(df$diff.thanks.sent), color=\"red\") +\n",
    "#           ggtitle(\"Difference in thanks sent 56 days before & after\") +\n",
    "#           facet_grid(TREAT ~ . ) +\n",
    "#           theme_bw() + \n",
    "#           theme(plot.title = element_text(size=8),\n",
    "#                 axis.title.x = element_text(size=6.5),\n",
    "#                 axis.title.y = element_text(size=6.5)))          \n",
    "    \n",
    "#     print(ggplot(df, aes(diff.positive.feeling)) + \n",
    "#           geom_histogram(bins=5) + \n",
    "#           theme_bw() + \n",
    "#           geom_vline(xintercept=mean(df$diff.positive.feeling,  na.rm=TRUE), color=\"red\") +\n",
    "#           ggtitle(\"Difference in positive feeling about Wikipedia\\n contributions 56 days before & after\") +\n",
    "#           facet_grid(TREAT ~ . ) +\n",
    "#           theme_bw() + \n",
    "#           theme(plot.title = element_text(size=8),\n",
    "#                 axis.title.x = element_text(size=6.5),\n",
    "#                 axis.title.y = element_text(size=6.5)))\n",
    "    \n",
    "#     print(ggplot(df, aes(diff.newcomer.intent)) + \n",
    "#           geom_histogram(bins=5) + \n",
    "#           theme_bw() + \n",
    "#           geom_vline(xintercept=mean(df$diff.newcomer.intent,  na.rm=TRUE), color=\"red\") +\n",
    "#           ggtitle(\"Difference in view of newcomer intent 56 days before & after\") +\n",
    "#           facet_grid(TREAT ~ . ) +\n",
    "#           theme_bw() + \n",
    "#           theme(plot.title = element_text(size=8),\n",
    "#                 axis.title.x = element_text(size=6.5),\n",
    "#                 axis.title.y = element_text(size=6.5)))\n",
    "    \n",
    "#     print(ggplot(df, aes(diff.newcomer.capability)) + \n",
    "#           geom_histogram(bins=5) + \n",
    "#           theme_bw() + \n",
    "#           geom_vline(xintercept=mean(df$diff.newcomer.capability,  na.rm=TRUE), color=\"red\") +\n",
    "#           ggtitle(\"Difference in view of newcomer capability 56 days before & after\") +\n",
    "#           facet_grid(TREAT ~ . ) +\n",
    "#           theme_bw() + \n",
    "#           theme(plot.title = element_text(size=8),\n",
    "#                 axis.title.x = element_text(size=6.5),\n",
    "#                 axis.title.y = element_text(size=6.5)))\n",
    "\n",
    "    \n",
    "# }"
   ]
  },
  {
   "cell_type": "code",
   "execution_count": 233,
   "metadata": {},
   "outputs": [],
   "source": [
    "#participant$diff.positive.feeling\n",
    "#summary(behavioral.compliers.login$labor.hours.56.post.treatment)"
   ]
  },
  {
   "cell_type": "markdown",
   "metadata": {},
   "source": [
    "# Summary Statistics & Data Validation"
   ]
  },
  {
   "cell_type": "code",
   "execution_count": 234,
   "metadata": {
    "scrolled": false
   },
   "outputs": [
    {
     "name": "stdout",
     "output_type": "stream",
     "text": [
      "[1] \"=====================\"\n",
      "[1] \"Behavioral Compliers (login)\"\n",
      "[1] \"=====================\"\n",
      "[1] \"\"\n",
      "[1] \"238 participants in subsample\"\n",
      "[1] \"137 Survey Compliers in Subsample\"\n",
      "[1] \"\"\n",
      "[1] \"language\"\n",
      " ar  de  fa  pl \n",
      "  0 183  28  27 \n",
      "[1] \"\"\n",
      "Skim summary statistics\n",
      " n obs: 238 \n",
      " n variables: 10 \n",
      "\n",
      "── Variable type:integer ───────────────────────────────────────────────────────\n",
      "                variable missing complete   n  mean    sd   p0   p25 p50 p75\n",
      " diff.supportive.actions       0      238 238  1.94 49.35 -250 -6.75   0   3\n",
      "        diff.thanks.sent       0      238 238 -0.23  8.21  -59 -1      0   1\n",
      "      diff.thanks.sent.1       0      238 238 -0.23  8.21  -59 -1      0   1\n",
      "                   TREAT       0      238 238  0.49  0.5     0  0      0   1\n",
      " p100     hist\n",
      "  388 ▁▁▂▇▁▁▁▁\n",
      "   54 ▁▁▁▁▇▁▁▁\n",
      "   54 ▁▁▁▁▇▁▁▁\n",
      "    1 ▇▁▁▁▁▁▁▇\n",
      "\n",
      "── Variable type:numeric ───────────────────────────────────────────────────────\n",
      "                  variable missing complete   n     mean    sd      p0   p25\n",
      " diff.emotionally.draining      98      140 238 -0.029    0.8    -3     0   \n",
      "          diff.labor.hours       0      238 238 -0.00049 21.34 -102.25 -4.54\n",
      "            diff.mentoring      98      140 238 -0.05     0.62   -2     0   \n",
      "  diff.newcomer.capability      98      140 238  0.071    0.89   -2     0   \n",
      "      diff.newcomer.intent      98      140 238  0.064    0.95   -3     0   \n",
      "     diff.positive.feeling      98      140 238  0.021    0.69   -2     0   \n",
      "   p50  p75  p100     hist\n",
      "  0    0     3    ▁▁▂▇▁▂▁▁\n",
      " -0.15 3.46 96.72 ▁▁▁▃▇▁▁▁\n",
      "  0    0     2    ▁▂▁▇▁▁▁▁\n",
      "  0    1     3    ▁▃▁▇▃▁▁▁\n",
      "  0    1     3    ▁▁▂▇▁▃▁▁\n",
      "  0    0     2    ▁▂▁▇▁▂▁▁\n"
     ]
    }
   ],
   "source": [
    "summary.stats(behavioral.compliers.login, \"Behavioral Compliers (login)\")"
   ]
  },
  {
   "cell_type": "code",
   "execution_count": 235,
   "metadata": {},
   "outputs": [
    {
     "name": "stdout",
     "output_type": "stream",
     "text": [
      "[1] \"=====================\"\n",
      "[1] \"Behavioral Compliers (Inclusive)\"\n",
      "[1] \"=====================\"\n",
      "[1] \"\"\n",
      "[1] \"205 participants in subsample\"\n",
      "[1] \"137 Survey Compliers in Subsample\"\n",
      "[1] \"\"\n",
      "[1] \"language\"\n",
      " ar  de  fa  pl \n",
      "  0 152  26  27 \n",
      "[1] \"\"\n",
      "Skim summary statistics\n",
      " n obs: 205 \n",
      " n variables: 10 \n",
      "\n",
      "── Variable type:integer ───────────────────────────────────────────────────────\n",
      "                variable missing complete   n  mean    sd   p0 p25 p50 p75 p100\n",
      " diff.supportive.actions       0      205 205  1.21 51.87 -250  -7   0   3  388\n",
      "        diff.thanks.sent       0      205 205 -0.17  8.67  -59  -1   0   1   54\n",
      "      diff.thanks.sent.1       0      205 205 -0.17  8.67  -59  -1   0   1   54\n",
      "                   TREAT       0      205 205  0.41  0.49    0   0   0   1    1\n",
      "     hist\n",
      " ▁▁▂▇▁▁▁▁\n",
      " ▁▁▁▁▇▁▁▁\n",
      " ▁▁▁▁▇▁▁▁\n",
      " ▇▁▁▁▁▁▁▆\n",
      "\n",
      "── Variable type:numeric ───────────────────────────────────────────────────────\n",
      "                  variable missing complete   n   mean    sd      p0   p25\n",
      " diff.emotionally.draining      68      137 205 -0.029  0.81   -3     0   \n",
      "          diff.labor.hours       0      205 205 -0.36  21.64 -102.25 -4.82\n",
      "            diff.mentoring      68      137 205 -0.044  0.62   -2     0   \n",
      "  diff.newcomer.capability      68      137 205  0.073  0.9    -2     0   \n",
      "      diff.newcomer.intent      68      137 205  0.08   0.93   -3     0   \n",
      "     diff.positive.feeling      68      137 205  0.022  0.69   -2     0   \n",
      "   p50  p75  p100     hist\n",
      "  0    0     3    ▁▁▂▇▁▂▁▁\n",
      " -0.15 3.39 96.72 ▁▁▁▃▇▁▁▁\n",
      "  0    0     2    ▁▂▁▇▁▁▁▁\n",
      "  0    1     3    ▁▃▁▇▃▁▁▁\n",
      "  0    1     3    ▁▁▂▇▁▃▁▁\n",
      "  0    0     2    ▁▂▁▇▁▂▁▁\n"
     ]
    }
   ],
   "source": [
    "summary.stats(behavioral.compliers.inclusive, \"Behavioral Compliers (Inclusive)\")"
   ]
  },
  {
   "cell_type": "code",
   "execution_count": 236,
   "metadata": {},
   "outputs": [
    {
     "name": "stdout",
     "output_type": "stream",
     "text": [
      "[1] \"=====================\"\n",
      "[1] \"Behavioral Compliers (Inclusive)\"\n",
      "[1] \"=====================\"\n",
      "[1] \"\"\n",
      "[1] \"154 participants in subsample\"\n",
      "[1] \"137 Survey Compliers in Subsample\"\n",
      "[1] \"\"\n",
      "[1] \"language\"\n",
      " ar  de  fa  pl \n",
      "  0 114  21  19 \n",
      "[1] \"\"\n",
      "Skim summary statistics\n",
      " n obs: 154 \n",
      " n variables: 10 \n",
      "\n",
      "── Variable type:integer ───────────────────────────────────────────────────────\n",
      "                variable missing complete   n   mean    sd   p0   p25 p50 p75\n",
      " diff.supportive.actions       0      154 154  3.44  58.99 -250 -5.75   0   4\n",
      "        diff.thanks.sent       0      154 154 -0.078  9.78  -59 -1      0   1\n",
      "      diff.thanks.sent.1       0      154 154 -0.078  9.78  -59 -1      0   1\n",
      "                   TREAT       0      154 154  0.55   0.5     0  0      1   1\n",
      " p100     hist\n",
      "  388 ▁▁▂▇▁▁▁▁\n",
      "   54 ▁▁▁▁▇▁▁▁\n",
      "   54 ▁▁▁▁▇▁▁▁\n",
      "    1 ▇▁▁▁▁▁▁▇\n",
      "\n",
      "── Variable type:numeric ───────────────────────────────────────────────────────\n",
      "                  variable missing complete   n   mean    sd      p0   p25\n",
      " diff.emotionally.draining      17      137 154 -0.029  0.81   -3     0   \n",
      "          diff.labor.hours       0      154 154  0.92  23.17 -102.25 -4.07\n",
      "            diff.mentoring      17      137 154 -0.044  0.62   -2     0   \n",
      "  diff.newcomer.capability      17      137 154  0.073  0.9    -2     0   \n",
      "      diff.newcomer.intent      17      137 154  0.08   0.93   -3     0   \n",
      "     diff.positive.feeling      17      137 154  0.022  0.69   -2     0   \n",
      "   p50  p75  p100     hist\n",
      "  0    0     3    ▁▁▂▇▁▂▁▁\n",
      " -0.16 3.76 96.72 ▁▁▁▃▇▁▁▁\n",
      "  0    0     2    ▁▂▁▇▁▁▁▁\n",
      "  0    1     3    ▁▃▁▇▃▁▁▁\n",
      "  0    1     3    ▁▁▂▇▁▃▁▁\n",
      "  0    0     2    ▁▂▁▇▁▂▁▁\n"
     ]
    }
   ],
   "source": [
    "summary.stats(behavioral.compliers.exclusive, \"Behavioral Compliers (Inclusive)\")"
   ]
  },
  {
   "cell_type": "markdown",
   "metadata": {},
   "source": [
    "### Randomization Block\n",
    "Question: Why do some participants have a randomization block of -1? (I expect it's in the lab notebook)"
   ]
  },
  {
   "cell_type": "code",
   "execution_count": 248,
   "metadata": {},
   "outputs": [
    {
     "data": {
      "text/plain": [
       "   Min. 1st Qu.  Median    Mean 3rd Qu.    Max. \n",
       "      2       2       2       2       2       2 "
      ]
     },
     "metadata": {},
     "output_type": "display_data"
    }
   ],
   "source": [
    "participant$counter <- 1\n",
    "df <- subset(participant[c(\"randomization.block.id\", \"counter\")],\n",
    "                 randomization.block.id!=-1)\n",
    "ag.df <- aggregate(df, \n",
    "                   by=list(df$randomization.block.id), FUN=sum)\n",
    "summary(ag.df$counter)"
   ]
  },
  {
   "cell_type": "markdown",
   "metadata": {},
   "source": [
    "### Survey Compliance"
   ]
  },
  {
   "cell_type": "code",
   "execution_count": 249,
   "metadata": {},
   "outputs": [
    {
     "data": {
      "text/plain": [
       "   Mode   FALSE    TRUE \n",
       "logical     263     137 "
      ]
     },
     "metadata": {},
     "output_type": "display_data"
    }
   ],
   "source": [
    "summary(participant$complier)"
   ]
  },
  {
   "cell_type": "markdown",
   "metadata": {},
   "source": [
    "### App Compliance"
   ]
  },
  {
   "cell_type": "code",
   "execution_count": 250,
   "metadata": {},
   "outputs": [
    {
     "data": {
      "text/html": [
       "<dl class=dl-horizontal>\n",
       "\t<dt>False</dt>\n",
       "\t\t<dd>246</dd>\n",
       "\t<dt>True</dt>\n",
       "\t\t<dd>154</dd>\n",
       "</dl>\n"
      ],
      "text/latex": [
       "\\begin{description*}\n",
       "\\item[False] 246\n",
       "\\item[True] 154\n",
       "\\end{description*}\n"
      ],
      "text/markdown": [
       "False\n",
       ":   246True\n",
       ":   154\n",
       "\n"
      ],
      "text/plain": [
       "False  True \n",
       "  246   154 "
      ]
     },
     "metadata": {},
     "output_type": "display_data"
    }
   ],
   "source": [
    "summary(participant$complier.app)"
   ]
  },
  {
   "cell_type": "markdown",
   "metadata": {},
   "source": [
    "### Year Joined"
   ]
  },
  {
   "cell_type": "code",
   "execution_count": 251,
   "metadata": {
    "scrolled": true
   },
   "outputs": [
    {
     "data": {
      "text/html": [
       "<dl class=dl-horizontal>\n",
       "\t<dt>2002</dt>\n",
       "\t\t<dd>2</dd>\n",
       "\t<dt>2005</dt>\n",
       "\t\t<dd>1</dd>\n",
       "\t<dt>2006</dt>\n",
       "\t\t<dd>73</dd>\n",
       "\t<dt>2007</dt>\n",
       "\t\t<dd>39</dd>\n",
       "\t<dt>2008</dt>\n",
       "\t\t<dd>47</dd>\n",
       "\t<dt>2009</dt>\n",
       "\t\t<dd>32</dd>\n",
       "\t<dt>2010</dt>\n",
       "\t\t<dd>32</dd>\n",
       "\t<dt>2011</dt>\n",
       "\t\t<dd>27</dd>\n",
       "\t<dt>2012</dt>\n",
       "\t\t<dd>23</dd>\n",
       "\t<dt>2013</dt>\n",
       "\t\t<dd>20</dd>\n",
       "\t<dt>2014</dt>\n",
       "\t\t<dd>23</dd>\n",
       "\t<dt>2015</dt>\n",
       "\t\t<dd>20</dd>\n",
       "\t<dt>2016</dt>\n",
       "\t\t<dd>21</dd>\n",
       "\t<dt>2017</dt>\n",
       "\t\t<dd>18</dd>\n",
       "\t<dt>2018</dt>\n",
       "\t\t<dd>18</dd>\n",
       "\t<dt>2019</dt>\n",
       "\t\t<dd>4</dd>\n",
       "</dl>\n"
      ],
      "text/latex": [
       "\\begin{description*}\n",
       "\\item[2002] 2\n",
       "\\item[2005] 1\n",
       "\\item[2006] 73\n",
       "\\item[2007] 39\n",
       "\\item[2008] 47\n",
       "\\item[2009] 32\n",
       "\\item[2010] 32\n",
       "\\item[2011] 27\n",
       "\\item[2012] 23\n",
       "\\item[2013] 20\n",
       "\\item[2014] 23\n",
       "\\item[2015] 20\n",
       "\\item[2016] 21\n",
       "\\item[2017] 18\n",
       "\\item[2018] 18\n",
       "\\item[2019] 4\n",
       "\\end{description*}\n"
      ],
      "text/markdown": [
       "2002\n",
       ":   22005\n",
       ":   12006\n",
       ":   732007\n",
       ":   392008\n",
       ":   472009\n",
       ":   322010\n",
       ":   322011\n",
       ":   272012\n",
       ":   232013\n",
       ":   202014\n",
       ":   232015\n",
       ":   202016\n",
       ":   212017\n",
       ":   182018\n",
       ":   182019\n",
       ":   4\n",
       "\n"
      ],
      "text/plain": [
       "2002 2005 2006 2007 2008 2009 2010 2011 2012 2013 2014 2015 2016 2017 2018 2019 \n",
       "   2    1   73   39   47   32   32   27   23   20   23   20   21   18   18    4 "
      ]
     },
     "metadata": {},
     "output_type": "display_data"
    }
   ],
   "source": [
    "summary(factor(participant$year.joined))"
   ]
  },
  {
   "cell_type": "markdown",
   "metadata": {},
   "source": [
    "### Assignment"
   ]
  },
  {
   "cell_type": "code",
   "execution_count": 252,
   "metadata": {},
   "outputs": [
    {
     "data": {
      "text/html": [
       "<dl class=dl-horizontal>\n",
       "\t<dt>0</dt>\n",
       "\t\t<dd>200</dd>\n",
       "\t<dt>1</dt>\n",
       "\t\t<dd>200</dd>\n",
       "</dl>\n"
      ],
      "text/latex": [
       "\\begin{description*}\n",
       "\\item[0] 200\n",
       "\\item[1] 200\n",
       "\\end{description*}\n"
      ],
      "text/markdown": [
       "0\n",
       ":   2001\n",
       ":   200\n",
       "\n"
      ],
      "text/plain": [
       "  0   1 \n",
       "200 200 "
      ]
     },
     "metadata": {},
     "output_type": "display_data"
    }
   ],
   "source": [
    "summary(factor(subset(participant, randomization.block.id!=-1)$randomization.arm))"
   ]
  },
  {
   "cell_type": "markdown",
   "metadata": {},
   "source": [
    "# Estimating the Treatment Effects\n",
    "## Supportive Actions"
   ]
  },
  {
   "cell_type": "code",
   "execution_count": 307,
   "metadata": {},
   "outputs": [
    {
     "data": {},
     "metadata": {},
     "output_type": "display_data"
    },
    {
     "data": {},
     "metadata": {},
     "output_type": "display_data"
    },
    {
     "data": {
      "image/png": "[encoded data removed]",
      "text/plain": [
       "plot without title"
      ]
     },
     "metadata": {},
     "output_type": "display_data"
    },
    {
     "data": {},
     "metadata": {},
     "output_type": "display_data"
    },
    {
     "data": {
      "image/png": "[encoded data removed]",
      "text/plain": [
       "plot without title"
      ]
     },
     "metadata": {},
     "output_type": "display_data"
    },
    {
     "data": {
      "image/png": "[encoded data removed]",
      "text/plain": [
       "plot without title"
      ]
     },
     "metadata": {},
     "output_type": "display_data"
    }
   ],
   "source": [
    "ggplot(behavioral.compliers.exclusive, aes(diff.supportive.actions)) +\n",
    "    geom_histogram(binwidth=25)\n",
    "ggplot(subset(behavioral.compliers.exclusive, lang==\"fa\"), aes(diff.supportive.actions)) +\n",
    "    geom_histogram(binwidth=25) +\n",
    "    facet_grid(TREAT ~ . )\n",
    "\n",
    "ggplot(behavioral.block.compliers, aes(diff.supportive.actions)) +\n",
    "    geom_histogram(binwidth=25) +\n",
    "    ggtitle(\"Behavioral block compliers\")\n"
   ]
  },
  {
   "cell_type": "code",
   "execution_count": 274,
   "metadata": {},
   "outputs": [
    {
     "data": {
      "text/plain": [
       "Design:  Matched-pair \n",
       "      Estimate Std. Error   t value  Pr(>|t|)  CI Lower CI Upper DF\n",
       "TREAT 4.792453   9.425568 0.5084524 0.6132865 -14.12133 23.70624 52"
      ]
     },
     "metadata": {},
     "output_type": "display_data"
    }
   ],
   "source": [
    "difference_in_means(diff.supportive.actions ~ TREAT, blocks= \n",
    "                    randomization.block.id ,\n",
    "                    data = behavioral.block.compliers)"
   ]
  },
  {
   "cell_type": "code",
   "execution_count": 309,
   "metadata": {},
   "outputs": [
    {
     "data": {
      "text/plain": [
       "Design:  Standard \n",
       "      Estimate Std. Error   t value  Pr(>|t|)  CI Lower CI Upper       DF\n",
       "TREAT 6.603011   8.349716 0.7908066 0.4308427 -9.953283  23.1593 104.8109"
      ]
     },
     "metadata": {},
     "output_type": "display_data"
    }
   ],
   "source": [
    "difference_in_means(diff.supportive.actions ~ TREAT, \n",
    "                    data = behavioral.compliers.inclusive)"
   ]
  },
  {
   "cell_type": "code",
   "execution_count": 313,
   "metadata": {},
   "outputs": [
    {
     "data": {
      "text/plain": [
       "Design:  Standard \n",
       "      Estimate Std. Error   t value  Pr(>|t|)  CI Lower CI Upper       DF\n",
       "TREAT 3.678571   9.098414 0.4043091 0.6866445 -14.32019 21.67734 131.0539"
      ]
     },
     "metadata": {},
     "output_type": "display_data"
    },
    {
     "name": "stdout",
     "output_type": "stream",
     "text": [
      "[1] \"FA\"\n"
     ]
    },
    {
     "data": {
      "text/plain": [
       "Design:  Standard \n",
       "      Estimate Std. Error  t value   Pr(>|t|) CI Lower CI Upper       DF\n",
       "TREAT 62.86538   28.74686 2.186861 0.04146574 2.696938 123.0338 18.99726"
      ]
     },
     "metadata": {},
     "output_type": "display_data"
    },
    {
     "name": "stdout",
     "output_type": "stream",
     "text": [
      "[1] \"PL\"\n"
     ]
    },
    {
     "data": {
      "text/plain": [
       "Design:  Standard \n",
       "       Estimate Std. Error     t value  Pr(>|t|) CI Lower CI Upper     DF\n",
       "TREAT -1.557143   22.18817 -0.07017897 0.9448702 -48.3703 45.25601 16.999"
      ]
     },
     "metadata": {},
     "output_type": "display_data"
    },
    {
     "name": "stdout",
     "output_type": "stream",
     "text": [
      "[1] \"DE\"\n"
     ]
    },
    {
     "data": {
      "text/plain": [
       "Design:  Standard \n",
       "       Estimate Std. Error    t value Pr(>|t|)  CI Lower CI Upper       DF\n",
       "TREAT -3.210526   10.22293 -0.3140514 0.754253 -23.53701 17.11596 84.83964"
      ]
     },
     "metadata": {},
     "output_type": "display_data"
    }
   ],
   "source": [
    "## ACROSS EVERYONE\n",
    "difference_in_means(diff.supportive.actions ~ TREAT, \n",
    "                    data = behavioral.compliers.exclusive)\n",
    "\n",
    "print(\"FA\")\n",
    "## WITHIN PERSIAN\n",
    "difference_in_means(diff.supportive.actions ~ TREAT, \n",
    "                    data = subset(behavioral.compliers.exclusive, lang==\"fa\"))\n",
    "\n",
    "print(\"PL\")\n",
    "## WITHIN POLISH\n",
    "difference_in_means(diff.supportive.actions ~ TREAT, \n",
    "                    data = subset(behavioral.compliers.exclusive, lang==\"pl\"))\n",
    "\n",
    "## WITHIN GERMAN\n",
    "print(\"DE\")\n",
    "difference_in_means(diff.supportive.actions ~ TREAT, \n",
    "                    data = subset(behavioral.compliers.exclusive, lang==\"de\"))"
   ]
  },
  {
   "cell_type": "code",
   "execution_count": 277,
   "metadata": {},
   "outputs": [
    {
     "data": {
      "text/plain": [
       "Design:  Standard \n",
       "      Estimate Std. Error  t value  Pr(>|t|) CI Lower CI Upper       DF\n",
       "TREAT 6.983047   6.461541 1.080709 0.2813695 -5.77288 19.73897 168.6401"
      ]
     },
     "metadata": {},
     "output_type": "display_data"
    }
   ],
   "source": [
    "difference_in_means(diff.supportive.actions ~ TREAT, \n",
    "                    data = behavioral.compliers.login)"
   ]
  },
  {
   "cell_type": "code",
   "execution_count": 314,
   "metadata": {},
   "outputs": [
    {
     "data": {
      "text/plain": [
       "Design:  Matched-pair \n",
       "      Estimate Std. Error    t value  Pr(>|t|)  CI Lower CI Upper  DF\n",
       "TREAT    -1.28   3.805815 -0.3363274 0.7369784 -8.784902 6.224902 199"
      ]
     },
     "metadata": {},
     "output_type": "display_data"
    }
   ],
   "source": [
    "difference_in_means(diff.supportive.actions ~ TREAT, blocks=randomization.block.id, \n",
    "                    data = participant)"
   ]
  },
  {
   "cell_type": "markdown",
   "metadata": {},
   "source": [
    "### Randomization Inference"
   ]
  },
  {
   "cell_type": "code",
   "execution_count": 646,
   "metadata": {},
   "outputs": [],
   "source": [
    "declaration <- \n",
    "  with(participant,{\n",
    "    declare_ra(\n",
    "      blocks = participant$randomization.block.id)\n",
    "  })\n",
    "\n",
    "participant$Z <- participant$TREAT\n",
    "participant$Y1 <- participant$diff.supportive.actions\n",
    "participant$Y2 <- participant$diff.positive.feeling\n",
    "\n",
    "\n",
    "ri2_out_Y1 <- conduct_ri(\n",
    "  Y1 ~ Z,\n",
    "  sharp_hypothesis = 0,\n",
    "  declaration = declaration,\n",
    "  data = participant\n",
    ")\n",
    "\n",
    "participant.imp <- participant\n",
    "\n",
    "participant.imp[participant.imp$TREAT==0 & \n",
    "                participant.imp$complier.survey==\"False\",]$post.feel.positive <- \n",
    "                    mean(subset(participant, TREAT==0)$post.feel.positive, na.rm=TRUE)\n",
    "\n",
    "participant.imp[participant.imp$TREAT==1 & \n",
    "                participant.imp$complier.survey==\"False\",]$post.feel.positive <- \n",
    "                    mean(subset(participant, TREAT==1)$post.feel.positive, na.rm=TRUE)\n",
    "participant.imp$diff.positive.feeling <- participant.imp$post.feel.positive - participant.imp$pre.feel.positive\n",
    "\n",
    "\n",
    "ri2_out_Y2 <- conduct_ri(\n",
    "  Y ~ Z,\n",
    "  sharp_hypothesis = 0,\n",
    "  declaration = declaration,\n",
    "  data = participant.imp\n",
    ")"
   ]
  },
  {
   "cell_type": "code",
   "execution_count": 645,
   "metadata": {},
   "outputs": [
    {
     "data": {
      "text/html": [
       "<table>\n",
       "<thead><tr><th scope=col>term</th><th scope=col>estimate</th><th scope=col>two_tailed_p_value</th></tr></thead>\n",
       "<tbody>\n",
       "\t<tr><td>Z    </td><td>-1.28</td><td>0.726</td></tr>\n",
       "</tbody>\n",
       "</table>\n"
      ],
      "text/latex": [
       "\\begin{tabular}{r|lll}\n",
       " term & estimate & two\\_tailed\\_p\\_value\\\\\n",
       "\\hline\n",
       "\t Z     & -1.28 & 0.726\\\\\n",
       "\\end{tabular}\n"
      ],
      "text/markdown": [
       "\n",
       "term | estimate | two_tailed_p_value | \n",
       "|---|\n",
       "| Z     | -1.28 | 0.726 | \n",
       "\n",
       "\n"
      ],
      "text/plain": [
       "  term estimate two_tailed_p_value\n",
       "1 Z    -1.28    0.726             "
      ]
     },
     "metadata": {},
     "output_type": "display_data"
    }
   ],
   "source": []
  },
  {
   "cell_type": "markdown",
   "metadata": {},
   "source": [
    "### Two Stage Least Squares Regression"
   ]
  },
  {
   "cell_type": "code",
   "execution_count": 534,
   "metadata": {},
   "outputs": [],
   "source": [
    "#colnames(participant)"
   ]
  },
  {
   "cell_type": "code",
   "execution_count": 535,
   "metadata": {},
   "outputs": [],
   "source": [
    "#participant$complier.app.inclusive"
   ]
  },
  {
   "cell_type": "code",
   "execution_count": 536,
   "metadata": {},
   "outputs": [],
   "source": [
    "# cor(participant[c(\"complier.app.int\", \"complier.app.inclusive\", \"complier.app.logged.in.int\", \n",
    "#                   \"year.joined\", \n",
    "#                   \"previous.labor.hours\", \"previous.supportive.actions\",\n",
    "#                   \"total.edits.56.pre.treatment\",\n",
    "#                   \"pre.feel.positive\", \"pre.emotionally.draining\"\n",
    "#                  )], method = \"pearson\")"
   ]
  },
  {
   "cell_type": "code",
   "execution_count": 537,
   "metadata": {},
   "outputs": [],
   "source": [
    "# cor(participant[c(\"complier.app.int\", \"complier.app.inclusive\", \"complier.app.logged.in.int\", \n",
    "#                   \"year.joined\", \n",
    "#                   \"previous.labor.hours\", \"previous.supportive.actions\",\n",
    "#                   \"total.edits.56.pre.treatment\",\n",
    "#                   \"pre.feel.positive\", \"pre.emotionally.draining\"\n",
    "#                  )], method = \"pearson\")"
   ]
  },
  {
   "cell_type": "code",
   "execution_count": 538,
   "metadata": {},
   "outputs": [],
   "source": [
    "# ## Two Stage Least Squares Regression\n",
    "# y <- participant$diff.supportive.actions \n",
    "# Z <- as.integer(participant$complier.app)-1\n",
    "# D <- as.integer(participant$TREAT)-1\n",
    "# probs = genprobexact(as.integer(participant$TREAT)-1, #assignment\n",
    "#                      participant$randomization.block.id)\n",
    "\n",
    "# late <- estlate(y,D,Z,prob=probs)\n",
    "# late"
   ]
  },
  {
   "cell_type": "code",
   "execution_count": null,
   "metadata": {},
   "outputs": [],
   "source": [
    "participant$complier.app.logged.in"
   ]
  },
  {
   "cell_type": "code",
   "execution_count": 539,
   "metadata": {},
   "outputs": [],
   "source": [
    "summary(ivreg(diff.positive.feeling ~ TREAT | previous.supportive.actions + TREAT , \n",
    "              data=participant))"
   ]
  },
  {
   "cell_type": "markdown",
   "metadata": {},
   "source": [
    "### Positive Feeling"
   ]
  },
  {
   "cell_type": "code",
   "execution_count": 540,
   "metadata": {},
   "outputs": [],
   "source": [
    "#survey.block.compliers$previous.positive.feeling"
   ]
  },
  {
   "cell_type": "code",
   "execution_count": 541,
   "metadata": {},
   "outputs": [
    {
     "data": {},
     "metadata": {},
     "output_type": "display_data"
    },
    {
     "data": {
      "image/png": "[encoded data removed]",
      "text/plain": [
       "plot without title"
      ]
     },
     "metadata": {},
     "output_type": "display_data"
    }
   ],
   "source": [
    "ggplot(survey.block.compliers, aes(year.joined, previous.positive.feeling)) +\n",
    "    geom_point()"
   ]
  },
  {
   "cell_type": "code",
   "execution_count": 545,
   "metadata": {},
   "outputs": [
    {
     "data": {
      "text/html": [
       "58"
      ],
      "text/latex": [
       "58"
      ],
      "text/markdown": [
       "58"
      ],
      "text/plain": [
       "[1] 58"
      ]
     },
     "metadata": {},
     "output_type": "display_data"
    },
    {
     "data": {
      "text/plain": [
       "Design:  Matched-pair \n",
       "        Estimate Std. Error   t value   Pr(>|t|)   CI Lower   CI Upper DF\n",
       "TREAT -0.2758621  0.1561273 -1.766904 0.08814441 -0.5956744 0.04395027 28"
      ]
     },
     "metadata": {},
     "output_type": "display_data"
    }
   ],
   "source": [
    "nrow(survey.block.compliers)\n",
    "difference_in_means(diff.positive.feeling ~ TREAT, \n",
    "                    blocks = randomization.block.id,\n",
    "                    data=survey.block.compliers)"
   ]
  },
  {
   "cell_type": "code",
   "execution_count": 546,
   "metadata": {},
   "outputs": [
    {
     "data": {
      "text/plain": [
       "Design:  Standard \n",
       "        Estimate Std. Error   t value   Pr(>|t|)   CI Lower    CI Upper\n",
       "TREAT -0.2533248   0.117356 -2.158602 0.03273018 -0.4855139 -0.02113563\n",
       "            DF\n",
       "TREAT 129.1475"
      ]
     },
     "metadata": {},
     "output_type": "display_data"
    },
    {
     "data": {
      "text/plain": [
       "\n",
       "Call:\n",
       "lm(formula = diff.positive.feeling ~ TREAT + year.joined, data = survey.compliers)\n",
       "\n",
       "Residuals:\n",
       "     Min       1Q   Median       3Q      Max \n",
       "-2.15196 -0.16499  0.08003  0.10934  2.08980 \n",
       "\n",
       "Coefficients:\n",
       "             Estimate Std. Error t value Pr(>|t|)  \n",
       "(Intercept) -6.388392  29.890152  -0.214   0.8311  \n",
       "TREAT       -0.254783   0.117477  -2.169   0.0319 *\n",
       "year.joined  0.003257   0.014870   0.219   0.8270  \n",
       "---\n",
       "Signif. codes:  0 ‘***’ 0.001 ‘**’ 0.01 ‘*’ 0.05 ‘.’ 0.1 ‘ ’ 1\n",
       "\n",
       "Residual standard error: 0.6842 on 134 degrees of freedom\n",
       "Multiple R-squared:  0.03398,\tAdjusted R-squared:  0.01956 \n",
       "F-statistic: 2.356 on 2 and 134 DF,  p-value: 0.09867\n"
      ]
     },
     "metadata": {},
     "output_type": "display_data"
    }
   ],
   "source": [
    "difference_in_means(diff.positive.feeling ~ TREAT,\n",
    "                    data=survey.compliers)\n",
    "\n",
    "summary(lm(diff.positive.feeling ~ TREAT + year.joined, data=survey.compliers))"
   ]
  },
  {
   "cell_type": "markdown",
   "metadata": {},
   "source": [
    "# Exploratory Data Analysis"
   ]
  },
  {
   "cell_type": "markdown",
   "metadata": {},
   "source": [
    "### Effect on Labor Hours"
   ]
  },
  {
   "cell_type": "code",
   "execution_count": 547,
   "metadata": {},
   "outputs": [
    {
     "data": {
      "text/plain": [
       "Design:  Matched-pair \n",
       "       Estimate Std. Error   t value  Pr(>|t|)  CI Lower CI Upper  DF\n",
       "TREAT -2.224575   1.943111 -1.144852 0.2536454 -6.056305 1.607155 199"
      ]
     },
     "metadata": {},
     "output_type": "display_data"
    }
   ],
   "source": [
    "difference_in_means(diff.labor.hours ~ TREAT, blocks=randomization.block.id,\n",
    "                    data=subset(participant, randomization.block.id!=-1))"
   ]
  },
  {
   "cell_type": "code",
   "execution_count": 548,
   "metadata": {},
   "outputs": [
    {
     "data": {
      "text/plain": [
       "Design:  Standard \n",
       "      Estimate Std. Error   t value  Pr(>|t|)  CI Lower CI Upper       DF\n",
       "TREAT 1.223975   2.776042 0.4409067 0.6596901 -4.245423 6.693374 232.6123"
      ]
     },
     "metadata": {},
     "output_type": "display_data"
    }
   ],
   "source": [
    "difference_in_means(diff.labor.hours ~ TREAT, data=behavioral.compliers.login)"
   ]
  },
  {
   "cell_type": "markdown",
   "metadata": {},
   "source": [
    "### Effect on Thanks Sent"
   ]
  },
  {
   "cell_type": "code",
   "execution_count": 509,
   "metadata": {},
   "outputs": [
    {
     "data": {
      "text/plain": [
       "Design:  Standard \n",
       "      Estimate Std. Error  t value  Pr(>|t|)  CI Lower CI Upper       DF\n",
       "TREAT 1.349961   1.294967 1.042467 0.2989311 -1.209502 3.909424 144.9098"
      ]
     },
     "metadata": {},
     "output_type": "display_data"
    }
   ],
   "source": [
    "difference_in_means(diff.thanks.sent ~ TREAT, data=behavioral.compliers.inclusive)"
   ]
  },
  {
   "cell_type": "markdown",
   "metadata": {},
   "source": [
    "### Effect on Sense of Newcomer Capability"
   ]
  },
  {
   "cell_type": "code",
   "execution_count": 551,
   "metadata": {},
   "outputs": [
    {
     "data": {
      "text/plain": [
       "Design:  Standard \n",
       "         Estimate Std. Error   t value  Pr(>|t|)   CI Lower  CI Upper       DF\n",
       "TREAT -0.07057057  0.1580446 -0.446523 0.6560266 -0.3834973 0.2423562 119.6496"
      ]
     },
     "metadata": {},
     "output_type": "display_data"
    }
   ],
   "source": [
    "difference_in_means(diff.newcomer.capability ~ TREAT, data=survey.compliers)"
   ]
  },
  {
   "cell_type": "markdown",
   "metadata": {},
   "source": [
    "### Effect on Sense of Newcomer Intent"
   ]
  },
  {
   "cell_type": "code",
   "execution_count": 552,
   "metadata": {},
   "outputs": [
    {
     "data": {
      "text/plain": [
       "Design:  Standard \n",
       "        Estimate Std. Error   t value  Pr(>|t|)   CI Lower   CI Upper       DF\n",
       "TREAT -0.2039897  0.1530568 -1.332771 0.1851385 -0.5070396 0.09906017 119.6886"
      ]
     },
     "metadata": {},
     "output_type": "display_data"
    }
   ],
   "source": [
    "difference_in_means(diff.newcomer.intent ~ TREAT, data=survey.compliers)"
   ]
  },
  {
   "cell_type": "markdown",
   "metadata": {},
   "source": [
    "#### Effect on Emotionally Draining"
   ]
  },
  {
   "cell_type": "code",
   "execution_count": 553,
   "metadata": {},
   "outputs": [
    {
     "data": {
      "text/plain": [
       "Design:  Standard \n",
       "         Estimate Std. Error    t value  Pr(>|t|)   CI Lower  CI Upper       DF\n",
       "TREAT -0.02466752  0.1377447 -0.1790814 0.8581425 -0.2970862 0.2477512 134.8906"
      ]
     },
     "metadata": {},
     "output_type": "display_data"
    }
   ],
   "source": [
    "difference_in_means(diff.emotionally.draining ~ TREAT, data=survey.compliers)"
   ]
  },
  {
   "cell_type": "markdown",
   "metadata": {},
   "source": [
    "#### Effect on Mentoring"
   ]
  },
  {
   "cell_type": "code",
   "execution_count": 555,
   "metadata": {},
   "outputs": [
    {
     "data": {
      "text/plain": [
       "Design:  Standard \n",
       "        Estimate Std. Error   t value  Pr(>|t|)   CI Lower  CI Upper       DF\n",
       "TREAT 0.03646504  0.1026822 0.3551252 0.7230851 -0.1667253 0.2396553 126.9506"
      ]
     },
     "metadata": {},
     "output_type": "display_data"
    }
   ],
   "source": [
    "difference_in_means(diff.mentoring ~ TREAT, data=survey.compliers)"
   ]
  },
  {
   "cell_type": "markdown",
   "metadata": {},
   "source": [
    "#### Effect on Monitoring Damaging Content"
   ]
  },
  {
   "cell_type": "code",
   "execution_count": 556,
   "metadata": {},
   "outputs": [
    {
     "data": {
      "text/plain": [
       "Design:  Standard \n",
       "          Estimate Std. Error     t value  Pr(>|t|)   CI Lower CI Upper\n",
       "TREAT -0.006435006   0.143683 -0.04478614 0.9643441 -0.2906011 0.277731\n",
       "            DF\n",
       "TREAT 134.7227"
      ]
     },
     "metadata": {},
     "output_type": "display_data"
    }
   ],
   "source": [
    "difference_in_means(diff.monitoring.damaging.content ~ TREAT, data=survey.compliers)"
   ]
  },
  {
   "cell_type": "code",
   "execution_count": 564,
   "metadata": {},
   "outputs": [
    {
     "data": {
      "text/plain": [
       "Design:  Standard \n",
       "      Estimate Std. Error t value  Pr(>|t|)  CI Lower CI Upper       DF\n",
       "TREAT  1.00106   1.068161 0.93718 0.3496602 -1.103699 3.105819 227.4131"
      ]
     },
     "metadata": {},
     "output_type": "display_data"
    }
   ],
   "source": [
    "difference_in_means(diff.thanks.sent ~ TREAT, data=behavioral.compliers.login)"
   ]
  },
  {
   "cell_type": "code",
   "execution_count": 568,
   "metadata": {},
   "outputs": [],
   "source": []
  },
  {
   "cell_type": "code",
   "execution_count": 554,
   "metadata": {},
   "outputs": [
    {
     "data": {
      "text/html": [
       "<ol class=list-inline>\n",
       "\t<li>'anonymized.id'</li>\n",
       "\t<li>'lang'</li>\n",
       "\t<li>'user.editcount'</li>\n",
       "\t<li>'user.experience.level'</li>\n",
       "\t<li>'overall.exp'</li>\n",
       "\t<li>'has.email'</li>\n",
       "\t<li>'year.joined'</li>\n",
       "\t<li>'account.age'</li>\n",
       "\t<li>'complier'</li>\n",
       "\t<li>'complier.survey'</li>\n",
       "\t<li>'previous.supportive.actions'</li>\n",
       "\t<li>'subsequent.supportive.actions'</li>\n",
       "\t<li>'diff.supportive.actions'</li>\n",
       "\t<li>'previous.positive.feeling'</li>\n",
       "\t<li>'subsequent.positive.feeling'</li>\n",
       "\t<li>'diff.positive.feeling'</li>\n",
       "\t<li>'previous.labor.hours'</li>\n",
       "\t<li>'subsequent.labor.hours'</li>\n",
       "\t<li>'pre.monitoring.damaging.content'</li>\n",
       "\t<li>'pre.mentoring'</li>\n",
       "\t<li>'pre.newcomer.capability'</li>\n",
       "\t<li>'pre.newcomer.intent'</li>\n",
       "\t<li>'pre.emotionally.draining'</li>\n",
       "\t<li>'pre.feel.positive'</li>\n",
       "\t<li>'post.monitoring.damaging.content'</li>\n",
       "\t<li>'post.mentoring'</li>\n",
       "\t<li>'post.newcomer.capability'</li>\n",
       "\t<li>'post.newcomer.intent'</li>\n",
       "\t<li>'post.emotionally.draining'</li>\n",
       "\t<li>'post.feel.positive'</li>\n",
       "\t<li>'supportive.84.pre.treatment'</li>\n",
       "\t<li>'labor.hours.84.pre.treatment'</li>\n",
       "\t<li>'total.edits.84.pre.treatment'</li>\n",
       "\t<li>'num.reverts.84.pre.treatment'</li>\n",
       "\t<li>'project.talk.84.pre.treatment'</li>\n",
       "\t<li>'support.talk.84.pre.treatment'</li>\n",
       "\t<li>'wikithank.84.pre.treatment'</li>\n",
       "\t<li>'wikilove.84.pre.treatment'</li>\n",
       "\t<li>'block.actions.84.pre.treatment'</li>\n",
       "\t<li>'randomization.block.id'</li>\n",
       "\t<li>'randomization.block.size'</li>\n",
       "\t<li>'randomization.arm'</li>\n",
       "\t<li>'treatment.start'</li>\n",
       "\t<li>'treatment.end'</li>\n",
       "\t<li>'complier.app'</li>\n",
       "\t<li>'complier.app.logged.in'</li>\n",
       "\t<li>'complier.app.logged.in.latest.date'</li>\n",
       "\t<li>'num.thankees.skipped'</li>\n",
       "\t<li>'num.thank.actions'</li>\n",
       "\t<li>'num.complete.activity.actions'</li>\n",
       "\t<li>'treatment.elapsed.seconds'</li>\n",
       "\t<li>'start.date.56.pre.treatment'</li>\n",
       "\t<li>'end.date.56.pre.treatment'</li>\n",
       "\t<li>'num.reverts.56.pre.treatment'</li>\n",
       "\t<li>'block.actions.56.pre.treatment'</li>\n",
       "\t<li>'labor.hours.56.pre.treatment'</li>\n",
       "\t<li>'total.edits.56.pre.treatment'</li>\n",
       "\t<li>'support.talk.56.pre.treatment'</li>\n",
       "\t<li>'project.talk.56.pre.treatment'</li>\n",
       "\t<li>'wikithanks.56.pre.treatment'</li>\n",
       "\t<li>'wikiloves.56.pre.treatment'</li>\n",
       "\t<li>'start.date.56.post.treatment'</li>\n",
       "\t<li>'end.date.56.post.treatment'</li>\n",
       "\t<li>'num.reverts.56.post.treatment'</li>\n",
       "\t<li>'block.actions.56.post.treatment'</li>\n",
       "\t<li>'labor.hours.56.post.treatment'</li>\n",
       "\t<li>'total.edits.56.post.treatment'</li>\n",
       "\t<li>'support.talk.56.post.treatment'</li>\n",
       "\t<li>'project.talk.56.post.treatment'</li>\n",
       "\t<li>'wikithanks.56.post.treatment'</li>\n",
       "\t<li>'wikiloves.56.post.treatment'</li>\n",
       "\t<li>'complier.int'</li>\n",
       "\t<li>'complier.app.int'</li>\n",
       "\t<li>'complier.app.logged.in.int'</li>\n",
       "\t<li>'TREAT'</li>\n",
       "\t<li>'complier.app.inclusive'</li>\n",
       "\t<li>'diff.labor.hours'</li>\n",
       "\t<li>'diff.newcomer.capability'</li>\n",
       "\t<li>'diff.newcomer.intent'</li>\n",
       "\t<li>'diff.thanks.sent'</li>\n",
       "\t<li>'diff.emotionally.draining'</li>\n",
       "\t<li>'diff.monitoring.damaging.content'</li>\n",
       "\t<li>'diff.mentoring'</li>\n",
       "</ol>\n"
      ],
      "text/latex": [
       "\\begin{enumerate*}\n",
       "\\item 'anonymized.id'\n",
       "\\item 'lang'\n",
       "\\item 'user.editcount'\n",
       "\\item 'user.experience.level'\n",
       "\\item 'overall.exp'\n",
       "\\item 'has.email'\n",
       "\\item 'year.joined'\n",
       "\\item 'account.age'\n",
       "\\item 'complier'\n",
       "\\item 'complier.survey'\n",
       "\\item 'previous.supportive.actions'\n",
       "\\item 'subsequent.supportive.actions'\n",
       "\\item 'diff.supportive.actions'\n",
       "\\item 'previous.positive.feeling'\n",
       "\\item 'subsequent.positive.feeling'\n",
       "\\item 'diff.positive.feeling'\n",
       "\\item 'previous.labor.hours'\n",
       "\\item 'subsequent.labor.hours'\n",
       "\\item 'pre.monitoring.damaging.content'\n",
       "\\item 'pre.mentoring'\n",
       "\\item 'pre.newcomer.capability'\n",
       "\\item 'pre.newcomer.intent'\n",
       "\\item 'pre.emotionally.draining'\n",
       "\\item 'pre.feel.positive'\n",
       "\\item 'post.monitoring.damaging.content'\n",
       "\\item 'post.mentoring'\n",
       "\\item 'post.newcomer.capability'\n",
       "\\item 'post.newcomer.intent'\n",
       "\\item 'post.emotionally.draining'\n",
       "\\item 'post.feel.positive'\n",
       "\\item 'supportive.84.pre.treatment'\n",
       "\\item 'labor.hours.84.pre.treatment'\n",
       "\\item 'total.edits.84.pre.treatment'\n",
       "\\item 'num.reverts.84.pre.treatment'\n",
       "\\item 'project.talk.84.pre.treatment'\n",
       "\\item 'support.talk.84.pre.treatment'\n",
       "\\item 'wikithank.84.pre.treatment'\n",
       "\\item 'wikilove.84.pre.treatment'\n",
       "\\item 'block.actions.84.pre.treatment'\n",
       "\\item 'randomization.block.id'\n",
       "\\item 'randomization.block.size'\n",
       "\\item 'randomization.arm'\n",
       "\\item 'treatment.start'\n",
       "\\item 'treatment.end'\n",
       "\\item 'complier.app'\n",
       "\\item 'complier.app.logged.in'\n",
       "\\item 'complier.app.logged.in.latest.date'\n",
       "\\item 'num.thankees.skipped'\n",
       "\\item 'num.thank.actions'\n",
       "\\item 'num.complete.activity.actions'\n",
       "\\item 'treatment.elapsed.seconds'\n",
       "\\item 'start.date.56.pre.treatment'\n",
       "\\item 'end.date.56.pre.treatment'\n",
       "\\item 'num.reverts.56.pre.treatment'\n",
       "\\item 'block.actions.56.pre.treatment'\n",
       "\\item 'labor.hours.56.pre.treatment'\n",
       "\\item 'total.edits.56.pre.treatment'\n",
       "\\item 'support.talk.56.pre.treatment'\n",
       "\\item 'project.talk.56.pre.treatment'\n",
       "\\item 'wikithanks.56.pre.treatment'\n",
       "\\item 'wikiloves.56.pre.treatment'\n",
       "\\item 'start.date.56.post.treatment'\n",
       "\\item 'end.date.56.post.treatment'\n",
       "\\item 'num.reverts.56.post.treatment'\n",
       "\\item 'block.actions.56.post.treatment'\n",
       "\\item 'labor.hours.56.post.treatment'\n",
       "\\item 'total.edits.56.post.treatment'\n",
       "\\item 'support.talk.56.post.treatment'\n",
       "\\item 'project.talk.56.post.treatment'\n",
       "\\item 'wikithanks.56.post.treatment'\n",
       "\\item 'wikiloves.56.post.treatment'\n",
       "\\item 'complier.int'\n",
       "\\item 'complier.app.int'\n",
       "\\item 'complier.app.logged.in.int'\n",
       "\\item 'TREAT'\n",
       "\\item 'complier.app.inclusive'\n",
       "\\item 'diff.labor.hours'\n",
       "\\item 'diff.newcomer.capability'\n",
       "\\item 'diff.newcomer.intent'\n",
       "\\item 'diff.thanks.sent'\n",
       "\\item 'diff.emotionally.draining'\n",
       "\\item 'diff.monitoring.damaging.content'\n",
       "\\item 'diff.mentoring'\n",
       "\\end{enumerate*}\n"
      ],
      "text/markdown": [
       "1. 'anonymized.id'\n",
       "2. 'lang'\n",
       "3. 'user.editcount'\n",
       "4. 'user.experience.level'\n",
       "5. 'overall.exp'\n",
       "6. 'has.email'\n",
       "7. 'year.joined'\n",
       "8. 'account.age'\n",
       "9. 'complier'\n",
       "10. 'complier.survey'\n",
       "11. 'previous.supportive.actions'\n",
       "12. 'subsequent.supportive.actions'\n",
       "13. 'diff.supportive.actions'\n",
       "14. 'previous.positive.feeling'\n",
       "15. 'subsequent.positive.feeling'\n",
       "16. 'diff.positive.feeling'\n",
       "17. 'previous.labor.hours'\n",
       "18. 'subsequent.labor.hours'\n",
       "19. 'pre.monitoring.damaging.content'\n",
       "20. 'pre.mentoring'\n",
       "21. 'pre.newcomer.capability'\n",
       "22. 'pre.newcomer.intent'\n",
       "23. 'pre.emotionally.draining'\n",
       "24. 'pre.feel.positive'\n",
       "25. 'post.monitoring.damaging.content'\n",
       "26. 'post.mentoring'\n",
       "27. 'post.newcomer.capability'\n",
       "28. 'post.newcomer.intent'\n",
       "29. 'post.emotionally.draining'\n",
       "30. 'post.feel.positive'\n",
       "31. 'supportive.84.pre.treatment'\n",
       "32. 'labor.hours.84.pre.treatment'\n",
       "33. 'total.edits.84.pre.treatment'\n",
       "34. 'num.reverts.84.pre.treatment'\n",
       "35. 'project.talk.84.pre.treatment'\n",
       "36. 'support.talk.84.pre.treatment'\n",
       "37. 'wikithank.84.pre.treatment'\n",
       "38. 'wikilove.84.pre.treatment'\n",
       "39. 'block.actions.84.pre.treatment'\n",
       "40. 'randomization.block.id'\n",
       "41. 'randomization.block.size'\n",
       "42. 'randomization.arm'\n",
       "43. 'treatment.start'\n",
       "44. 'treatment.end'\n",
       "45. 'complier.app'\n",
       "46. 'complier.app.logged.in'\n",
       "47. 'complier.app.logged.in.latest.date'\n",
       "48. 'num.thankees.skipped'\n",
       "49. 'num.thank.actions'\n",
       "50. 'num.complete.activity.actions'\n",
       "51. 'treatment.elapsed.seconds'\n",
       "52. 'start.date.56.pre.treatment'\n",
       "53. 'end.date.56.pre.treatment'\n",
       "54. 'num.reverts.56.pre.treatment'\n",
       "55. 'block.actions.56.pre.treatment'\n",
       "56. 'labor.hours.56.pre.treatment'\n",
       "57. 'total.edits.56.pre.treatment'\n",
       "58. 'support.talk.56.pre.treatment'\n",
       "59. 'project.talk.56.pre.treatment'\n",
       "60. 'wikithanks.56.pre.treatment'\n",
       "61. 'wikiloves.56.pre.treatment'\n",
       "62. 'start.date.56.post.treatment'\n",
       "63. 'end.date.56.post.treatment'\n",
       "64. 'num.reverts.56.post.treatment'\n",
       "65. 'block.actions.56.post.treatment'\n",
       "66. 'labor.hours.56.post.treatment'\n",
       "67. 'total.edits.56.post.treatment'\n",
       "68. 'support.talk.56.post.treatment'\n",
       "69. 'project.talk.56.post.treatment'\n",
       "70. 'wikithanks.56.post.treatment'\n",
       "71. 'wikiloves.56.post.treatment'\n",
       "72. 'complier.int'\n",
       "73. 'complier.app.int'\n",
       "74. 'complier.app.logged.in.int'\n",
       "75. 'TREAT'\n",
       "76. 'complier.app.inclusive'\n",
       "77. 'diff.labor.hours'\n",
       "78. 'diff.newcomer.capability'\n",
       "79. 'diff.newcomer.intent'\n",
       "80. 'diff.thanks.sent'\n",
       "81. 'diff.emotionally.draining'\n",
       "82. 'diff.monitoring.damaging.content'\n",
       "83. 'diff.mentoring'\n",
       "\n",
       "\n"
      ],
      "text/plain": [
       " [1] \"anonymized.id\"                      \"lang\"                              \n",
       " [3] \"user.editcount\"                     \"user.experience.level\"             \n",
       " [5] \"overall.exp\"                        \"has.email\"                         \n",
       " [7] \"year.joined\"                        \"account.age\"                       \n",
       " [9] \"complier\"                           \"complier.survey\"                   \n",
       "[11] \"previous.supportive.actions\"        \"subsequent.supportive.actions\"     \n",
       "[13] \"diff.supportive.actions\"            \"previous.positive.feeling\"         \n",
       "[15] \"subsequent.positive.feeling\"        \"diff.positive.feeling\"             \n",
       "[17] \"previous.labor.hours\"               \"subsequent.labor.hours\"            \n",
       "[19] \"pre.monitoring.damaging.content\"    \"pre.mentoring\"                     \n",
       "[21] \"pre.newcomer.capability\"            \"pre.newcomer.intent\"               \n",
       "[23] \"pre.emotionally.draining\"           \"pre.feel.positive\"                 \n",
       "[25] \"post.monitoring.damaging.content\"   \"post.mentoring\"                    \n",
       "[27] \"post.newcomer.capability\"           \"post.newcomer.intent\"              \n",
       "[29] \"post.emotionally.draining\"          \"post.feel.positive\"                \n",
       "[31] \"supportive.84.pre.treatment\"        \"labor.hours.84.pre.treatment\"      \n",
       "[33] \"total.edits.84.pre.treatment\"       \"num.reverts.84.pre.treatment\"      \n",
       "[35] \"project.talk.84.pre.treatment\"      \"support.talk.84.pre.treatment\"     \n",
       "[37] \"wikithank.84.pre.treatment\"         \"wikilove.84.pre.treatment\"         \n",
       "[39] \"block.actions.84.pre.treatment\"     \"randomization.block.id\"            \n",
       "[41] \"randomization.block.size\"           \"randomization.arm\"                 \n",
       "[43] \"treatment.start\"                    \"treatment.end\"                     \n",
       "[45] \"complier.app\"                       \"complier.app.logged.in\"            \n",
       "[47] \"complier.app.logged.in.latest.date\" \"num.thankees.skipped\"              \n",
       "[49] \"num.thank.actions\"                  \"num.complete.activity.actions\"     \n",
       "[51] \"treatment.elapsed.seconds\"          \"start.date.56.pre.treatment\"       \n",
       "[53] \"end.date.56.pre.treatment\"          \"num.reverts.56.pre.treatment\"      \n",
       "[55] \"block.actions.56.pre.treatment\"     \"labor.hours.56.pre.treatment\"      \n",
       "[57] \"total.edits.56.pre.treatment\"       \"support.talk.56.pre.treatment\"     \n",
       "[59] \"project.talk.56.pre.treatment\"      \"wikithanks.56.pre.treatment\"       \n",
       "[61] \"wikiloves.56.pre.treatment\"         \"start.date.56.post.treatment\"      \n",
       "[63] \"end.date.56.post.treatment\"         \"num.reverts.56.post.treatment\"     \n",
       "[65] \"block.actions.56.post.treatment\"    \"labor.hours.56.post.treatment\"     \n",
       "[67] \"total.edits.56.post.treatment\"      \"support.talk.56.post.treatment\"    \n",
       "[69] \"project.talk.56.post.treatment\"     \"wikithanks.56.post.treatment\"      \n",
       "[71] \"wikiloves.56.post.treatment\"        \"complier.int\"                      \n",
       "[73] \"complier.app.int\"                   \"complier.app.logged.in.int\"        \n",
       "[75] \"TREAT\"                              \"complier.app.inclusive\"            \n",
       "[77] \"diff.labor.hours\"                   \"diff.newcomer.capability\"          \n",
       "[79] \"diff.newcomer.intent\"               \"diff.thanks.sent\"                  \n",
       "[81] \"diff.emotionally.draining\"          \"diff.monitoring.damaging.content\"  \n",
       "[83] \"diff.mentoring\"                    "
      ]
     },
     "metadata": {},
     "output_type": "display_data"
    }
   ],
   "source": [
    "colnames(survey.compliers)"
   ]
  },
  {
   "cell_type": "markdown",
   "metadata": {},
   "source": [
    "### Effect Variation Based on Previous Supportive Actions"
   ]
  },
  {
   "cell_type": "code",
   "execution_count": 129,
   "metadata": {},
   "outputs": [
    {
     "data": {
      "text/plain": [
       "\n",
       "Call:\n",
       "lm(formula = diff.supportive.actions ~ TREAT + previous.supportive.actions, \n",
       "    data = subset(participant, randomization.block.id != -1 & \n",
       "        lang == \"de\"))\n",
       "\n",
       "Residuals:\n",
       "     Min       1Q   Median       3Q      Max \n",
       "-277.323   -6.455    2.580    4.606  275.201 \n",
       "\n",
       "Coefficients:\n",
       "                            Estimate Std. Error t value Pr(>|t|)    \n",
       "(Intercept)                 -2.58046    3.55875  -0.725    0.469    \n",
       "TREAT                       -2.02526    4.74929  -0.426    0.670    \n",
       "previous.supportive.actions  0.23481    0.03876   6.058 4.38e-09 ***\n",
       "---\n",
       "Signif. codes:  0 ‘***’ 0.001 ‘**’ 0.01 ‘*’ 0.05 ‘.’ 0.1 ‘ ’ 1\n",
       "\n",
       "Residual standard error: 40.14 on 283 degrees of freedom\n",
       "Multiple R-squared:  0.1158,\tAdjusted R-squared:  0.1096 \n",
       "F-statistic: 18.54 on 2 and 283 DF,  p-value: 2.723e-08\n"
      ]
     },
     "metadata": {},
     "output_type": "display_data"
    }
   ],
   "source": [
    "summary(lm(diff.supportive.actions ~ TREAT + previous.supportive.actions,\n",
    "                    data = subset(participant, randomization.block.id!=-1 & lang==\"de\")))"
   ]
  },
  {
   "cell_type": "markdown",
   "metadata": {},
   "source": [
    "### Effect Variation Based on Number of Skips"
   ]
  },
  {
   "cell_type": "code",
   "execution_count": 149,
   "metadata": {},
   "outputs": [
    {
     "data": {
      "text/plain": [
       "\n",
       "Call:\n",
       "lm(formula = diff.supportive.actions ~ num.thankees.skipped, \n",
       "    data = subset(participant, (complier.app != \"False\" & TREAT)))\n",
       "\n",
       "Residuals:\n",
       "    Min      1Q  Median      3Q     Max \n",
       "-258.37  -12.46   -5.09   -1.21  382.57 \n",
       "\n",
       "Coefficients:\n",
       "                     Estimate Std. Error t value Pr(>|t|)\n",
       "(Intercept)            3.4723     9.2201   0.377    0.707\n",
       "num.thankees.skipped   0.3262     0.9500   0.343    0.732\n",
       "\n",
       "Residual standard error: 72.37 on 82 degrees of freedom\n",
       "Multiple R-squared:  0.001436,\tAdjusted R-squared:  -0.01074 \n",
       "F-statistic: 0.1179 on 1 and 82 DF,  p-value: 0.7322\n"
      ]
     },
     "metadata": {},
     "output_type": "display_data"
    },
    {
     "data": {
      "text/plain": [
       "\n",
       "Call:\n",
       "lm(formula = diff.labor.hours ~ num.thankees.skipped, data = subset(participant, \n",
       "    (complier.app != \"False\" & TREAT)))\n",
       "\n",
       "Residuals:\n",
       "     Min       1Q   Median       3Q      Max \n",
       "-103.745   -7.421   -0.316    1.909   96.582 \n",
       "\n",
       "Coefficients:\n",
       "                     Estimate Std. Error t value Pr(>|t|)\n",
       "(Intercept)           -0.7616     2.9933  -0.254    0.800\n",
       "num.thankees.skipped   0.1501     0.3084   0.487    0.628\n",
       "\n",
       "Residual standard error: 23.49 on 82 degrees of freedom\n",
       "Multiple R-squared:  0.002881,\tAdjusted R-squared:  -0.009279 \n",
       "F-statistic: 0.2369 on 1 and 82 DF,  p-value: 0.6277\n"
      ]
     },
     "metadata": {},
     "output_type": "display_data"
    },
    {
     "data": {
      "text/plain": [
       "\n",
       "Call:\n",
       "lm(formula = diff.positive.feeling ~ num.thankees.skipped, data = subset(participant, \n",
       "    (complier.app != \"False\" & TREAT)))\n",
       "\n",
       "Residuals:\n",
       "     Min       1Q   Median       3Q      Max \n",
       "-1.89389  0.05984  0.09794  0.10815  2.10066 \n",
       "\n",
       "Coefficients:\n",
       "                      Estimate Std. Error t value Pr(>|t|)\n",
       "(Intercept)          -0.108827   0.090557  -1.202    0.233\n",
       "num.thankees.skipped  0.002722   0.008844   0.308    0.759\n",
       "\n",
       "Residual standard error: 0.6697 on 72 degrees of freedom\n",
       "  (10 observations deleted due to missingness)\n",
       "Multiple R-squared:  0.001314,\tAdjusted R-squared:  -0.01256 \n",
       "F-statistic: 0.0947 on 1 and 72 DF,  p-value: 0.7592\n"
      ]
     },
     "metadata": {},
     "output_type": "display_data"
    }
   ],
   "source": [
    "#participant$treatment.elapsed.seconds\n",
    "summary(lm(diff.supportive.actions ~ num.thankees.skipped, data = subset(participant, (complier.app!=\"False\" & TREAT))))\n",
    "\n",
    "summary(lm(diff.labor.hours ~ num.thankees.skipped, data = subset(participant, (complier.app!=\"False\" & TREAT))))\n",
    "\n",
    "summary(lm(diff.positive.feeling ~ num.thankees.skipped, data = subset(participant, (complier.app!=\"False\" & TREAT))))"
   ]
  },
  {
   "cell_type": "markdown",
   "metadata": {},
   "source": [
    "### Survey outcome varied by language"
   ]
  },
  {
   "cell_type": "code",
   "execution_count": null,
   "metadata": {},
   "outputs": [],
   "source": [
    "summary(factor(survey.compliers$previous.positive.feeling))"
   ]
  },
  {
   "cell_type": "markdown",
   "metadata": {},
   "source": [
    "# Imputing Values for Missing Observations"
   ]
  },
  {
   "cell_type": "code",
   "execution_count": 484,
   "metadata": {},
   "outputs": [],
   "source": [
    "participant.imp <- participant"
   ]
  },
  {
   "cell_type": "code",
   "execution_count": 485,
   "metadata": {},
   "outputs": [],
   "source": [
    "#participant$complier.survey==\"False\""
   ]
  },
  {
   "cell_type": "code",
   "execution_count": 486,
   "metadata": {},
   "outputs": [
    {
     "data": {
      "text/html": [
       "4.3015873015873"
      ],
      "text/latex": [
       "4.3015873015873"
      ],
      "text/markdown": [
       "4.3015873015873"
      ],
      "text/plain": [
       "[1] 4.301587"
      ]
     },
     "metadata": {},
     "output_type": "display_data"
    },
    {
     "data": {
      "text/html": [
       "4.14285714285714"
      ],
      "text/latex": [
       "4.14285714285714"
      ],
      "text/markdown": [
       "4.14285714285714"
      ],
      "text/plain": [
       "[1] 4.142857"
      ]
     },
     "metadata": {},
     "output_type": "display_data"
    }
   ],
   "source": [
    "mean(subset(participant, TREAT==0)$post.feel.positive, na.rm=TRUE)\n",
    "mean(subset(participant, TREAT==1)$post.feel.positive, na.rm=TRUE)"
   ]
  },
  {
   "cell_type": "markdown",
   "metadata": {},
   "source": [
    "#### IMPUTE POST FEEL POSITIVE"
   ]
  },
  {
   "cell_type": "code",
   "execution_count": 700,
   "metadata": {},
   "outputs": [],
   "source": [
    "participant.imp[participant.imp$TREAT==0 & \n",
    "                participant.imp$complier.survey==\"False\",]$post.feel.positive <- \n",
    "                    mean(subset(participant, TREAT==0)$post.feel.positive, na.rm=TRUE)\n",
    "\n",
    "participant.imp[participant.imp$TREAT==1 & \n",
    "                participant.imp$complier.survey==\"False\",]$post.feel.positive <- \n",
    "                    mean(subset(participant, TREAT==1)$post.feel.positive, na.rm=TRUE)\n",
    "participant.imp$diff.positive.feeling <- participant.imp$post.feel.positive - participant.imp$pre.feel.positive"
   ]
  },
  {
   "cell_type": "markdown",
   "metadata": {},
   "source": [
    "#### IMPUTE POST EMOTIONALLY DRAINING"
   ]
  },
  {
   "cell_type": "code",
   "execution_count": 489,
   "metadata": {},
   "outputs": [],
   "source": [
    "participant.imp[participant.imp$TREAT==0 & \n",
    "                participant.imp$complier.survey==\"False\",]$post.emotionally.draining <- \n",
    "                    mean(subset(participant, TREAT==0)$post.emotionally.draining, na.rm=TRUE)\n",
    "\n",
    "participant.imp[participant.imp$TREAT==1 & \n",
    "                participant.imp$complier.survey==\"False\",]$post.emotionally.draining <- \n",
    "                    mean(subset(participant, TREAT==1)$post.emotionally.draining, na.rm=TRUE)\n",
    "participant.imp$diff.emotionally.draining <- participant.imp$post.emotionally.draining - participant.imp$pre.emotionally.draining"
   ]
  },
  {
   "cell_type": "code",
   "execution_count": 490,
   "metadata": {},
   "outputs": [
    {
     "data": {
      "text/html": [
       "2.11688311688312"
      ],
      "text/latex": [
       "2.11688311688312"
      ],
      "text/markdown": [
       "2.11688311688312"
      ],
      "text/plain": [
       "[1] 2.116883"
      ]
     },
     "metadata": {},
     "output_type": "display_data"
    }
   ],
   "source": [
    "mean(subset(participant, TREAT==1)$post.emotionally.draining, na.rm=TRUE)"
   ]
  },
  {
   "cell_type": "code",
   "execution_count": 699,
   "metadata": {},
   "outputs": [
    {
     "data": {
      "text/plain": [
       "Design:  Standard \n",
       "        Estimate Std. Error   t value   Pr(>|t|)   CI Lower    CI Upper\n",
       "TREAT -0.1737302 0.08096852 -2.145651 0.03250613 -0.3329103 -0.01454998\n",
       "            DF\n",
       "TREAT 397.3901"
      ]
     },
     "metadata": {},
     "output_type": "display_data"
    }
   ],
   "source": [
    "difference_in_means(diff.positive.feeling ~ TREAT, \n",
    "                    data = participant.imp)"
   ]
  },
  {
   "cell_type": "code",
   "execution_count": 492,
   "metadata": {},
   "outputs": [
    {
     "data": {
      "text/plain": [
       "Design:  Standard \n",
       "        Estimate Std. Error   t value  Pr(>|t|)   CI Lower  CI Upper       DF\n",
       "TREAT 0.08839105  0.1033739 0.8550617 0.3930323 -0.1148371 0.2916192 397.3317"
      ]
     },
     "metadata": {},
     "output_type": "display_data"
    }
   ],
   "source": [
    "difference_in_means(diff.emotionally.draining ~ TREAT, \n",
    "                    data = participant.imp)"
   ]
  },
  {
   "cell_type": "markdown",
   "metadata": {},
   "source": [
    "# Handling Attrition"
   ]
  },
  {
   "cell_type": "code",
   "execution_count": 693,
   "metadata": {},
   "outputs": [
    {
     "data": {
      "text/plain": [
       "   Min. 1st Qu.  Median    Mean 3rd Qu.    Max. \n",
       "   0.00    0.00    0.00    0.35    1.00    1.00 "
      ]
     },
     "metadata": {},
     "output_type": "display_data"
    },
    {
     "data": {
      "image/png": "[encoded data removed]",
      "text/plain": [
       "Plot with title “”"
      ]
     },
     "metadata": {},
     "output_type": "display_data"
    }
   ],
   "source": [
    "summary(participant$complier.survey.int)\n",
    "#participant$previous.supportive.actions\n",
    "#participant$diff.positive.feeling\n",
    "#participant$previous.labor.hours\n",
    "corrplot(cor(participant[c(\"complier.survey.int\",\n",
    "                           \"previous.positive.feeling\", \n",
    "                           \"pre.mentoring\",\n",
    "                           \"pre.emotionally.draining\",\n",
    "                           \"pre.monitoring.damaging.content\",\n",
    "                           \"previous.labor.hours\",\n",
    "                           \"previous.supportive.actions\")]))"
   ]
  },
  {
   "cell_type": "code",
   "execution_count": 698,
   "metadata": {},
   "outputs": [
    {
     "data": {
      "text/plain": [
       "\n",
       "Call:\n",
       "glm(formula = complier.survey.int ~ previous.supportive.actions, \n",
       "    family = binomial(link = \"logit\"), data = participant)\n",
       "\n",
       "Deviance Residuals: \n",
       "    Min       1Q   Median       3Q      Max  \n",
       "-1.4278  -0.8868  -0.8693   1.4414   1.5208  \n",
       "\n",
       "Coefficients:\n",
       "                             Estimate Std. Error z value Pr(>|z|)    \n",
       "(Intercept)                 -0.778540   0.120215  -6.476  9.4e-11 ***\n",
       "previous.supportive.actions  0.004805   0.001734   2.771  0.00559 ** \n",
       "---\n",
       "Signif. codes:  0 ‘***’ 0.001 ‘**’ 0.01 ‘*’ 0.05 ‘.’ 0.1 ‘ ’ 1\n",
       "\n",
       "(Dispersion parameter for binomial family taken to be 1)\n",
       "\n",
       "    Null deviance: 517.96  on 399  degrees of freedom\n",
       "Residual deviance: 509.28  on 398  degrees of freedom\n",
       "AIC: 513.28\n",
       "\n",
       "Number of Fisher Scoring iterations: 4\n"
      ]
     },
     "metadata": {},
     "output_type": "display_data"
    },
    {
     "data": {
      "text/plain": [
       "   Min. 1st Qu.  Median    Mean 3rd Qu.    Max. \n",
       " 0.3146  0.3146  0.3219  0.3518  0.3503  0.8866 "
      ]
     },
     "metadata": {},
     "output_type": "display_data"
    },
    {
     "data": {
      "text/plain": [
       "   Min. 1st Qu.  Median    Mean 3rd Qu.    Max. \n",
       " 0.3146  0.3157  0.3209  0.3482  0.3443  0.8353 "
      ]
     },
     "metadata": {},
     "output_type": "display_data"
    },
    {
     "data": {
      "text/plain": [
       "\n",
       "Call:\n",
       "lm(formula = diff.positive.feeling ~ TREAT, data = participant, \n",
       "    subset = complier.survey.int == 1)\n",
       "\n",
       "Residuals:\n",
       "     Min       1Q   Median       3Q      Max \n",
       "-2.15873 -0.15873  0.09091  0.09091  2.09091 \n",
       "\n",
       "Coefficients:\n",
       "            Estimate Std. Error t value Pr(>|t|)  \n",
       "(Intercept)  0.15873    0.08632   1.839   0.0681 .\n",
       "TREAT       -0.24964    0.11639  -2.145   0.0337 *\n",
       "---\n",
       "Signif. codes:  0 ‘***’ 0.001 ‘**’ 0.01 ‘*’ 0.05 ‘.’ 0.1 ‘ ’ 1\n",
       "\n",
       "Residual standard error: 0.6851 on 138 degrees of freedom\n",
       "Multiple R-squared:  0.03226,\tAdjusted R-squared:  0.02525 \n",
       "F-statistic:   4.6 on 1 and 138 DF,  p-value: 0.03372\n"
      ]
     },
     "metadata": {},
     "output_type": "display_data"
    },
    {
     "data": {
      "text/plain": [
       "\n",
       "Call:\n",
       "lm(formula = diff.positive.feeling ~ TREAT, data = participant, \n",
       "    subset = complier.survey.int == 1, weights = wt)\n",
       "\n",
       "Weighted Residuals:\n",
       "    Min      1Q  Median      3Q     Max \n",
       "-3.8154 -0.2609  0.1275  0.1473  3.6647 \n",
       "\n",
       "Coefficients:\n",
       "            Estimate Std. Error t value Pr(>|t|)  \n",
       "(Intercept)  0.14721    0.08702   1.692   0.0930 .\n",
       "TREAT       -0.22994    0.11769  -1.954   0.0528 .\n",
       "---\n",
       "Signif. codes:  0 ‘***’ 0.001 ‘**’ 0.01 ‘*’ 0.05 ‘.’ 0.1 ‘ ’ 1\n",
       "\n",
       "Residual standard error: 1.172 on 138 degrees of freedom\n",
       "Multiple R-squared:  0.02692,\tAdjusted R-squared:  0.01986 \n",
       "F-statistic: 3.817 on 1 and 138 DF,  p-value: 0.05275\n"
      ]
     },
     "metadata": {},
     "output_type": "display_data"
    }
   ],
   "source": [
    "summary(m1 <- glm(complier.survey.int ~ previous.supportive.actions, \n",
    "            data=participant, \n",
    "            family=binomial(link=\"logit\")))\n",
    "\n",
    "probobs <- m1$fitted\n",
    "\n",
    "\n",
    "summary(probobs[participant$TREAT==0])\n",
    "summary(probobs[participant$TREAT==1])\n",
    "wt <- 1/probobs\n",
    "\n",
    "summary(lm(diff.positive.feeling ~ TREAT, data=participant, subset=complier.survey.int==1))\n",
    "summary(lm(diff.positive.feeling ~ TREAT, weights=wt, data=participant, subset=complier.survey.int==1))"
   ]
  },
  {
   "cell_type": "markdown",
   "metadata": {},
   "source": [
    "### Newcomer Capability and Skipping"
   ]
  },
  {
   "cell_type": "code",
   "execution_count": 711,
   "metadata": {},
   "outputs": [
    {
     "name": "stderr",
     "output_type": "stream",
     "text": [
      "Warning message:\n",
      "“Removed 20 rows containing missing values (geom_point).”"
     ]
    },
    {
     "data": {},
     "metadata": {},
     "output_type": "display_data"
    },
    {
     "name": "stderr",
     "output_type": "stream",
     "text": [
      "Warning message:\n",
      "“Removed 20 rows containing missing values (geom_point).”"
     ]
    },
    {
     "data": {},
     "metadata": {},
     "output_type": "display_data"
    },
    {
     "data": {
      "image/png": "[encoded data removed]",
      "text/plain": [
       "plot without title"
      ]
     },
     "metadata": {},
     "output_type": "display_data"
    },
    {
     "name": "stderr",
     "output_type": "stream",
     "text": [
      "Warning message:\n",
      "“Removed 20 rows containing missing values (geom_point).”"
     ]
    },
    {
     "data": {},
     "metadata": {},
     "output_type": "display_data"
    },
    {
     "data": {
      "image/png": "[encoded data removed]",
      "text/plain": [
       "plot without title"
      ]
     },
     "metadata": {},
     "output_type": "display_data"
    },
    {
     "name": "stderr",
     "output_type": "stream",
     "text": [
      "Warning message:\n",
      "“Removed 20 rows containing missing values (geom_point).”"
     ]
    },
    {
     "data": {},
     "metadata": {},
     "output_type": "display_data"
    },
    {
     "data": {
      "image/png": "[encoded data removed]",
      "text/plain": [
       "plot without title"
      ]
     },
     "metadata": {},
     "output_type": "display_data"
    },
    {
     "name": "stderr",
     "output_type": "stream",
     "text": [
      "Warning message:\n",
      "“Removed 20 rows containing missing values (geom_point).”"
     ]
    },
    {
     "data": {},
     "metadata": {},
     "output_type": "display_data"
    },
    {
     "data": {
      "image/png": "[encoded data removed]",
      "text/plain": [
       "plot without title"
      ]
     },
     "metadata": {},
     "output_type": "display_data"
    },
    {
     "name": "stderr",
     "output_type": "stream",
     "text": [
      "Warning message:\n",
      "“Removed 20 rows containing missing values (geom_point).”"
     ]
    },
    {
     "data": {},
     "metadata": {},
     "output_type": "display_data"
    },
    {
     "data": {
      "image/png": "[encoded data removed]",
      "text/plain": [
       "plot without title"
      ]
     },
     "metadata": {},
     "output_type": "display_data"
    },
    {
     "data": {
      "image/png": "[encoded data removed]",
      "text/plain": [
       "plot without title"
      ]
     },
     "metadata": {},
     "output_type": "display_data"
    }
   ],
   "source": [
    "ggplot(subset(behavioral.compliers.login, TREAT==1), aes(pre.newcomer.capability, log1p(num.thankees.skipped))) +\n",
    "    geom_point()\n",
    "\n",
    "ggplot(subset(behavioral.compliers.login, TREAT==1), aes(pre.newcomer.intent, log1p(num.thankees.skipped))) +\n",
    "    geom_point()\n",
    "\n",
    "ggplot(subset(behavioral.compliers.login, TREAT==1), aes(pre.emotionally.draining, log1p(num.thankees.skipped))) +\n",
    "    geom_point()\n",
    "\n",
    "ggplot(subset(behavioral.compliers.login, TREAT==1), aes(previous.positive.feeling, log1p(num.thankees.skipped))) +\n",
    "    geom_point()\n",
    "\n",
    "ggplot(subset(behavioral.compliers.login, TREAT==1), aes(pre.monitoring.damaging.content, log1p(num.thankees.skipped))) +\n",
    "    geom_point()\n",
    "\n",
    "ggplot(subset(behavioral.compliers.login, TREAT==1), aes(pre.mentoring, log1p(num.thankees.skipped))) +\n",
    "    geom_point()"
   ]
  },
  {
   "cell_type": "code",
   "execution_count": 709,
   "metadata": {},
   "outputs": [
    {
     "name": "stderr",
     "output_type": "stream",
     "text": [
      "Warning message:\n",
      "“Removed 40 rows containing missing values (geom_point).”"
     ]
    },
    {
     "data": {},
     "metadata": {},
     "output_type": "display_data"
    },
    {
     "data": {
      "image/png": "[encoded data removed]",
      "text/plain": [
       "plot without title"
      ]
     },
     "metadata": {},
     "output_type": "display_data"
    }
   ],
   "source": [
    "ggplot(subset(behavioral.compliers.login, TREAT==1), aes(log1p(num.thankees.skipped), diff.positive.feeling)) +\n",
    "    geom_point()"
   ]
  }
 ],
 "metadata": {
  "kernelspec": {
   "display_name": "R",
   "language": "R",
   "name": "ir"
  },
  "language_info": {
   "codemirror_mode": "r",
   "file_extension": ".r",
   "mimetype": "text/x-r-source",
   "name": "R",
   "pygments_lexer": "r",
   "version": "3.6.3"
  }
 },
 "nbformat": 4,
 "nbformat_minor": 2
}
