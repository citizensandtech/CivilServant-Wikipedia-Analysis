{
 "cells": [
  {
   "cell_type": "markdown",
   "metadata": {},
   "source": [
    "# Wikipedia Thanks-Receiver Study Randomization \n",
    "[J. Nathan Matias](https://twitter.com/natematias)\n",
    "July 28, 2019\n",
    "\n",
    "This code takes as input data described in the [randomization data format](https://docs.google.com/document/d/1plhoDbQryYQ32vZMXu8YmlLSp30QTdup43k6uTePOT4/edit?usp=drive_web&ouid=117701977297551627494) and produces randomizations for the Thanks Recipient study."
   ]
  },
  {
   "cell_type": "code",
   "execution_count": 23,
   "metadata": {},
   "outputs": [
    {
     "data": {
      "text/plain": [
       "R version 3.5.1 (2018-07-02)\n",
       "Platform: x86_64-pc-linux-gnu (64-bit)\n",
       "Running under: Ubuntu 16.04.5 LTS\n",
       "\n",
       "Matrix products: default\n",
       "BLAS: /usr/lib/libblas/libblas.so.3.6.0\n",
       "LAPACK: /usr/lib/lapack/liblapack.so.3.6.0\n",
       "\n",
       "locale:\n",
       " [1] LC_CTYPE=en_US.UTF-8       LC_NUMERIC=C              \n",
       " [3] LC_TIME=en_US.UTF-8        LC_COLLATE=en_US.UTF-8    \n",
       " [5] LC_MONETARY=en_US.UTF-8    LC_MESSAGES=en_US.UTF-8   \n",
       " [7] LC_PAPER=en_US.UTF-8       LC_NAME=C                 \n",
       " [9] LC_ADDRESS=C               LC_TELEPHONE=C            \n",
       "[11] LC_MEASUREMENT=en_US.UTF-8 LC_IDENTIFICATION=C       \n",
       "\n",
       "attached base packages:\n",
       "[1] stats     graphics  grDevices utils     datasets  methods   base     \n",
       "\n",
       "other attached packages:\n",
       " [1] uuid_0.1-2           DescTools_0.99.28    DeclareDesign_0.12.0\n",
       " [4] estimatr_0.14        fabricatr_0.6.0      randomizr_0.16.1    \n",
       " [7] gmodels_2.18.1       blockrand_1.3        blockTools_0.6-3    \n",
       "[10] viridis_0.5.1        viridisLite_0.3.0    forcats_0.3.0       \n",
       "[13] stringr_1.3.1        dplyr_0.7.8          purrr_0.2.5         \n",
       "[16] readr_1.2.1          tidyr_0.8.2          tibble_1.4.2        \n",
       "[19] tidyverse_1.2.1      rlang_0.3.0.1        ggplot2_3.1.0       \n",
       "\n",
       "loaded via a namespace (and not attached):\n",
       " [1] Rcpp_1.0.0       mvtnorm_1.0-8    lubridate_1.7.4  lattice_0.20-38 \n",
       " [5] gtools_3.8.1     assertthat_0.2.0 digest_0.6.18    IRdisplay_0.7.0 \n",
       " [9] R6_2.3.0         cellranger_1.1.0 plyr_1.8.4       repr_0.18       \n",
       "[13] backports_1.1.2  evaluate_0.12    httr_1.3.1       pillar_1.3.0    \n",
       "[17] lazyeval_0.2.1   readxl_1.1.0     rstudioapi_0.8   gdata_2.18.0    \n",
       "[21] Matrix_1.2-15    foreign_0.8-71   munsell_0.5.0    broom_0.5.1     \n",
       "[25] compiler_3.5.1   modelr_0.1.2     pkgconfig_2.0.2  base64enc_0.1-3 \n",
       "[29] manipulate_1.0.1 htmltools_0.3.6  tidyselect_0.2.5 expm_0.999-4    \n",
       "[33] gridExtra_2.3    crayon_1.3.4     withr_2.1.2      MASS_7.3-51.1   \n",
       "[37] grid_3.5.1       nlme_3.1-137     jsonlite_1.6     gtable_0.2.0    \n",
       "[41] magrittr_1.5     scales_1.0.0     cli_1.0.1        stringi_1.2.4   \n",
       "[45] bindrcpp_0.2.2   xml2_1.2.0       generics_0.0.2   boot_1.3-20     \n",
       "[49] IRkernel_0.8.14  Formula_1.2-3    tools_3.5.1      glue_1.3.0      \n",
       "[53] hms_0.4.2        colorspace_1.3-2 rvest_0.3.2      pbdZMQ_0.3-3    \n",
       "[57] bindr_0.1.1      haven_2.0.0     "
      ]
     },
     "metadata": {},
     "output_type": "display_data"
    }
   ],
   "source": [
    "options(\"scipen\"=9, \"digits\"=4)\n",
    "library(ggplot2)\n",
    "library(rlang)\n",
    "library(tidyverse)\n",
    "library(viridis)\n",
    "library(blockTools)\n",
    "library(blockrand)\n",
    "library(gmodels) # contains CrossTable\n",
    "library(DeclareDesign)\n",
    "library(DescTools) # contains Freq\n",
    "library(uuid)\n",
    "options(repr.plot.width=7, repr.plot.height=3.5)\n",
    "sessionInfo()"
   ]
  },
  {
   "cell_type": "markdown",
   "metadata": {},
   "source": [
    "# Load Input Dataframe"
   ]
  },
  {
   "cell_type": "code",
   "execution_count": 24,
   "metadata": {},
   "outputs": [],
   "source": [
    "filename = \"all-thankees-historical-20190730.csv\"\n",
    "data.path <- \"/home/civilservant/Tresors/CivilServant/projects/wikipedia-integration/gratitude-study/Data Drills/thankee\"\n",
    "recipient.df <- read.csv(file.path(data.path, \"historical_output\", filename))"
   ]
  },
  {
   "cell_type": "markdown",
   "metadata": {},
   "source": [
    "### Load Participants in the Thanker Study"
   ]
  },
  {
   "cell_type": "code",
   "execution_count": 25,
   "metadata": {},
   "outputs": [],
   "source": [
    "thanker.df <- read.csv(file.path(data.path, \"..\", \"thanker_hardlaunch\", \"randomization_output\",\n",
    "                                 \"all-thanker-randomization-final-20190729.csv\"))\n",
    "usernames.to.exclude <- thanker.df$user_name"
   ]
  },
  {
   "cell_type": "markdown",
   "metadata": {},
   "source": [
    "###  Load Liaison Usernames"
   ]
  },
  {
   "cell_type": "code",
   "execution_count": 26,
   "metadata": {},
   "outputs": [],
   "source": [
    "liaison.df <- read.csv(file.path(data.path, \"..\", \"thanker_hardlaunch\", \"randomization_output\",\n",
    "                                 \"liason-thanker-randomization-datadrill-20190718.csv\"))"
   ]
  },
  {
   "cell_type": "code",
   "execution_count": 27,
   "metadata": {},
   "outputs": [
    {
     "name": "stdout",
     "output_type": "stream",
     "text": [
      "[1] \"462 usernames to exclude\"\n"
     ]
    }
   ],
   "source": [
    "usernames.to.exclude <- append(as.character(usernames.to.exclude), as.character(liaison.df$user_name))\n",
    "print(paste(length(usernames.to.exclude), \"usernames to exclude\"))"
   ]
  },
  {
   "cell_type": "markdown",
   "metadata": {},
   "source": [
    "### Adjust Column Names to Match Thankee Randomization Specification"
   ]
  },
  {
   "cell_type": "code",
   "execution_count": 28,
   "metadata": {},
   "outputs": [],
   "source": [
    "recipient.df$prev_experience <- factor(as.integer(gsub(\"bin_\", \"\", recipient.df$prev_experience)))\n",
    "recipient.df$anonymized_id <- sapply( seq_along(1:nrow(recipient.df)), UUIDgenerate )\n",
    "recipient.df$newcomer <- recipient.df$prev_experience == 0 \n",
    "recipient.df <- subset(recipient.df, lang!=\"en\")\n",
    "#recipient.df <- subset(recipient.df, user_editcount_quality >=4 )"
   ]
  },
  {
   "cell_type": "code",
   "execution_count": 29,
   "metadata": {},
   "outputs": [
    {
     "data": {
      "image/png": "[encoded data removed]",
      "text/plain": [
       "Plot with title “Histogram of recipient.df$user_editcount_quality”"
      ]
     },
     "metadata": {},
     "output_type": "display_data"
    }
   ],
   "source": [
    "hist(recipient.df$user_editcount_quality)"
   ]
  },
  {
   "cell_type": "markdown",
   "metadata": {},
   "source": [
    "# Confirm the number of participants"
   ]
  },
  {
   "cell_type": "code",
   "execution_count": 30,
   "metadata": {},
   "outputs": [
    {
     "name": "stdout",
     "output_type": "stream",
     "text": [
      "[1] \"Newcomer Participants to Randomize\"\n"
     ]
    },
    {
     "data": {
      "text/html": [
       "<dl class=dl-horizontal>\n",
       "\t<dt>ar</dt>\n",
       "\t\t<dd>1135</dd>\n",
       "\t<dt>de</dt>\n",
       "\t\t<dd>1929</dd>\n",
       "\t<dt>fa</dt>\n",
       "\t\t<dd>0</dd>\n",
       "\t<dt>pl</dt>\n",
       "\t\t<dd>584</dd>\n",
       "</dl>\n"
      ],
      "text/latex": [
       "\\begin{description*}\n",
       "\\item[ar] 1135\n",
       "\\item[de] 1929\n",
       "\\item[fa] 0\n",
       "\\item[pl] 584\n",
       "\\end{description*}\n"
      ],
      "text/markdown": [
       "ar\n",
       ":   1135de\n",
       ":   1929fa\n",
       ":   0pl\n",
       ":   584\n",
       "\n"
      ],
      "text/plain": [
       "  ar   de   fa   pl \n",
       "1135 1929    0  584 "
      ]
     },
     "metadata": {},
     "output_type": "display_data"
    }
   ],
   "source": [
    "print(\"Newcomer Participants to Randomize\")\n",
    "summary(subset(recipient.df, newcomer == 1)$lang)"
   ]
  },
  {
   "cell_type": "code",
   "execution_count": 31,
   "metadata": {},
   "outputs": [
    {
     "name": "stdout",
     "output_type": "stream",
     "text": [
      "[1] \"Experienced Participants to Randomize\"\n"
     ]
    },
    {
     "data": {
      "text/html": [
       "<dl class=dl-horizontal>\n",
       "\t<dt>ar</dt>\n",
       "\t\t<dd>0</dd>\n",
       "\t<dt>de</dt>\n",
       "\t\t<dd>0</dd>\n",
       "\t<dt>fa</dt>\n",
       "\t\t<dd>2537</dd>\n",
       "\t<dt>pl</dt>\n",
       "\t\t<dd>2550</dd>\n",
       "</dl>\n"
      ],
      "text/latex": [
       "\\begin{description*}\n",
       "\\item[ar] 0\n",
       "\\item[de] 0\n",
       "\\item[fa] 2537\n",
       "\\item[pl] 2550\n",
       "\\end{description*}\n"
      ],
      "text/markdown": [
       "ar\n",
       ":   0de\n",
       ":   0fa\n",
       ":   2537pl\n",
       ":   2550\n",
       "\n"
      ],
      "text/plain": [
       "  ar   de   fa   pl \n",
       "   0    0 2537 2550 "
      ]
     },
     "metadata": {},
     "output_type": "display_data"
    }
   ],
   "source": [
    "## PERSIAN ACCOUNTS 700 fewer than expected\n",
    "#### if we look over more than a 50 day period \n",
    "#### we might be able to increase the Persian experienced account sample\n",
    "\n",
    "## Polish was cut off at 2400\n",
    "\n",
    "print(\"Experienced Participants to Randomize\")\n",
    "summary(subset(recipient.df, newcomer == 0)$lang)"
   ]
  },
  {
   "cell_type": "markdown",
   "metadata": {},
   "source": [
    "# Omit Participants"
   ]
  },
  {
   "cell_type": "markdown",
   "metadata": {},
   "source": [
    "### Omit Participants in the Thanker Study"
   ]
  },
  {
   "cell_type": "code",
   "execution_count": 32,
   "metadata": {},
   "outputs": [
    {
     "name": "stdout",
     "output_type": "stream",
     "text": [
      "[1] \"8735 participants before removing thankers\"\n",
      "[1] \"8625 participants after removing thankers\"\n"
     ]
    }
   ],
   "source": [
    "print(paste(nrow(recipient.df), \"participants before removing thankers\"))\n",
    "recipient.df <- subset(recipient.df, (user_name %in% usernames.to.exclude)!=TRUE)\n",
    "print(paste(nrow(recipient.df), \"participants after removing thankers\"))                                      "
   ]
  },
  {
   "cell_type": "markdown",
   "metadata": {},
   "source": [
    "### Subset values outside the 99% confidence intervals"
   ]
  },
  {
   "cell_type": "code",
   "execution_count": 52,
   "metadata": {},
   "outputs": [
    {
     "name": "stdout",
     "output_type": "stream",
     "text": [
      "[1] \"Language:  ar\"\n",
      "[1] \"  newcomer: FALSE\"\n",
      "[1] \"      0 rows from original dataset\"\n",
      "[1] \"      99% confidence intervals:\"\n",
      "[1] \"          upper: NaN\"\n",
      "[1] \"      Removing 0 outliers observations because labor_hours_84_days_pre_sample is an outlier.\"\n",
      "[1] \"      0 rows in trimmed dataset\"\n",
      "[1] \"  newcomer: TRUE\"\n",
      "[1] \"      1135 rows from original dataset\"\n",
      "[1] \"      99% confidence intervals:\"\n",
      "[1] \"          upper: 54.7365066602131\"\n",
      "[1] \"      Removing 13 outliers observations because labor_hours_84_days_pre_sample is an outlier.\"\n",
      "[1] \"      1122 rows in trimmed dataset\"\n",
      "[1] \"Language:  de\"\n",
      "[1] \"  newcomer: FALSE\"\n",
      "[1] \"      0 rows from original dataset\"\n",
      "[1] \"      99% confidence intervals:\"\n",
      "[1] \"          upper: NaN\"\n",
      "[1] \"      Removing 0 outliers observations because labor_hours_84_days_pre_sample is an outlier.\"\n",
      "[1] \"      0 rows in trimmed dataset\"\n",
      "[1] \"  newcomer: TRUE\"\n",
      "[1] \"      1929 rows from original dataset\"\n",
      "[1] \"      99% confidence intervals:\"\n",
      "[1] \"          upper: 63.3678642498622\"\n",
      "[1] \"      Removing 23 outliers observations because labor_hours_84_days_pre_sample is an outlier.\"\n",
      "[1] \"      1906 rows in trimmed dataset\"\n",
      "[1] \"Language:  fa\"\n",
      "[1] \"  newcomer: FALSE\"\n",
      "[1] \"      2482 rows from original dataset\"\n",
      "[1] \"      99% confidence intervals:\"\n",
      "[1] \"          upper: 199.16959599956\"\n",
      "[1] \"      Removing 63 outliers observations because labor_hours_84_days_pre_sample is an outlier.\"\n",
      "[1] \"      2419 rows in trimmed dataset\"\n",
      "[1] \"  newcomer: TRUE\"\n",
      "[1] \"      0 rows from original dataset\"\n",
      "[1] \"      99% confidence intervals:\"\n",
      "[1] \"          upper: NaN\"\n",
      "[1] \"      Removing 0 outliers observations because labor_hours_84_days_pre_sample is an outlier.\"\n",
      "[1] \"      0 rows in trimmed dataset\"\n",
      "[1] \"Language:  pl\"\n",
      "[1] \"  newcomer: FALSE\"\n",
      "[1] \"      2495 rows from original dataset\"\n",
      "[1] \"      99% confidence intervals:\"\n",
      "[1] \"          upper: 235.380736142341\"\n",
      "[1] \"      Removing 75 outliers observations because labor_hours_84_days_pre_sample is an outlier.\"\n",
      "[1] \"      2420 rows in trimmed dataset\"\n",
      "[1] \"  newcomer: TRUE\"\n",
      "[1] \"      584 rows from original dataset\"\n",
      "[1] \"      99% confidence intervals:\"\n",
      "[1] \"          upper: 72.2118047599678\"\n",
      "[1] \"      Removing 3 outliers observations because labor_hours_84_days_pre_sample is an outlier.\"\n",
      "[1] \"      581 rows in trimmed dataset\"\n"
     ]
    }
   ],
   "source": [
    "## CREATE A PLACEHOLDER WITH ZERO ROWS\n",
    "## BEFORE ITERATING\n",
    "recipient.trimmed.df <- recipient.df[0,]\n",
    "\n",
    "for(l in c(\"ar\", \"de\", \"fa\", \"pl\")){\n",
    "    print(paste(\"Language: \", l))\n",
    "    for(n in c(0,1)){\n",
    "        print(paste(\"  newcomer:\", n == 1))\n",
    "        lang.df <- subset(recipient.df, lang==l & newcomer == n)\n",
    "        print(paste( \"     \", nrow(lang.df), \"rows from original dataset\"))\n",
    "        df.labor.mean <- mean(lang.df$labor_hours_84_days_pre_sample)\n",
    "        df.labor.sd   <- sd(lang.df$labor_hours_84_days_pre_sample)\n",
    "        print(      \"      99% confidence intervals:\")\n",
    "        print(paste(\"          upper: \", df.labor.mean + 2.58 * df.labor.sd ,sep=\"\"))\n",
    "        print(paste(\"      Removing\", \n",
    "            nrow(subset(lang.df,\n",
    "                        labor_hours_84_days_pre_sample > df.labor.mean + 2.58 * df.labor.sd)), \"outliers\",\n",
    "           \"observations because labor_hours_84_days_pre_sample is an outlier.\"))\n",
    "        lang.subset.df <- subset(lang.df, labor_hours_84_days_pre_sample <= df.labor.mean + 2.58* df.labor.sd)\n",
    "        print(paste( \"     \", nrow(lang.subset.df), \"rows in trimmed dataset\"))\n",
    "        recipient.trimmed.df <- rbind(recipient.trimmed.df, lang.subset.df)\n",
    "    }\n",
    "}\n",
    "\n",
    "recipient.df.penultimate <- recipient.trimmed.df"
   ]
  },
  {
   "cell_type": "markdown",
   "metadata": {},
   "source": [
    "# Review and Generate Variables"
   ]
  },
  {
   "cell_type": "code",
   "execution_count": 34,
   "metadata": {},
   "outputs": [
    {
     "name": "stdout",
     "output_type": "stream",
     "text": [
      "  Group.1 labor_hours_84_days_pre_sample\n",
      "1       0                          5.847\n",
      "2      90                         10.531\n",
      "3     180                         13.630\n",
      "4     365                         11.945\n",
      "5     730                         12.980\n",
      "6    1460                         15.634\n",
      "7    2920                         21.147\n"
     ]
    }
   ],
   "source": [
    "print(aggregate(recipient.df.penultimate[c(\"labor_hours_84_days_pre_sample\")],\n",
    "          FUN=mean, by = list(recipient.df.penultimate$prev_experience)))"
   ]
  },
  {
   "cell_type": "code",
   "execution_count": 35,
   "metadata": {},
   "outputs": [
    {
     "name": "stdout",
     "output_type": "stream",
     "text": [
      "[1] \"prev_experience\"\n",
      "   0   90  180  365  730 1460 2920 \n",
      "3609  455  504  759  855 1038 1228 \n",
      "\n",
      "[1] \"Aggregate labor_hours_84_days_pre_sample\"\n",
      "  Group.1 labor_hours_84_days_pre_sample\n",
      "1       0                          5.847\n",
      "2      90                         10.531\n",
      "3     180                         13.630\n",
      "4     365                         11.945\n",
      "5     730                         12.980\n",
      "6    1460                         15.634\n",
      "7    2920                         21.147\n",
      "\n",
      "[1] \"NEWCOMERS AND EMAILS\"\n",
      "[1] \"--------------------\"\n",
      "\n",
      " \n",
      "   Cell Contents\n",
      "|-------------------------|\n",
      "|                       N |\n",
      "|           N / Col Total |\n",
      "|-------------------------|\n",
      "\n",
      " \n",
      "Total Observations in Table:  8448 \n",
      "\n",
      " \n",
      "                                   | recipient.df.penultimate$newcomer \n",
      "recipient.df.penultimate$has_email |     FALSE |      TRUE | Row Total | \n",
      "-----------------------------------|-----------|-----------|-----------|\n",
      "                             FALSE |       212 |        33 |       245 | \n",
      "                                   |     0.044 |     0.009 |           | \n",
      "-----------------------------------|-----------|-----------|-----------|\n",
      "                              TRUE |      4627 |      3576 |      8203 | \n",
      "                                   |     0.956 |     0.991 |           | \n",
      "-----------------------------------|-----------|-----------|-----------|\n",
      "                      Column Total |      4839 |      3609 |      8448 | \n",
      "                                   |     0.573 |     0.427 |           | \n",
      "-----------------------------------|-----------|-----------|-----------|\n",
      "\n",
      " \n",
      "$t\n",
      "       y\n",
      "x       FALSE TRUE\n",
      "  FALSE   212   33\n",
      "  TRUE   4627 3576\n",
      "\n",
      "$prop.row\n",
      "       y\n",
      "x        FALSE   TRUE\n",
      "  FALSE 0.8653 0.1347\n",
      "  TRUE  0.5641 0.4359\n",
      "\n",
      "$prop.col\n",
      "       y\n",
      "x          FALSE     TRUE\n",
      "  FALSE 0.043811 0.009144\n",
      "  TRUE  0.956189 0.990856\n",
      "\n",
      "$prop.tbl\n",
      "       y\n",
      "x          FALSE     TRUE\n",
      "  FALSE 0.025095 0.003906\n",
      "  TRUE  0.547704 0.423295\n",
      "\n",
      "[1] \"num_prev_thanks_pre_sample\"\n",
      "   Min. 1st Qu.  Median    Mean 3rd Qu.    Max. \n",
      "    0.0     0.0     0.0     7.3     1.0  2226.0 \n",
      "\n",
      "[1] \"num_prev_thanks_pre_sample by prev_experience\"\n",
      "  Group.1 num_prev_thanks_pre_sample\n",
      "1       0                     0.1424\n",
      "2      90                     0.2769\n",
      "3     180                     1.1528\n",
      "4     365                     1.8235\n",
      "5     730                     5.0749\n",
      "6    1460                    17.7697\n",
      "7    2920                    29.2378\n",
      "\n"
     ]
    }
   ],
   "source": [
    "## Update the has_email field\n",
    "recipient.df.penultimate$has_email <- recipient.df.penultimate$has_email == \"True\"\n",
    "\n",
    "## PREVIOUS EXPERIENCE\n",
    "print(\"prev_experience\")\n",
    "print(summary(factor(recipient.df.penultimate$prev_experience)))\n",
    "cat(\"\\n\")\n",
    "\n",
    "## SHOW LABOR HOURS BY EXPERIENCE GROUP:\n",
    "print(\"Aggregate labor_hours_84_days_pre_sample\")\n",
    "print(aggregate(recipient.df.penultimate[c(\"labor_hours_84_days_pre_sample\")],\n",
    "          FUN=mean, by = list(recipient.df.penultimate$prev_experience)))\n",
    "cat(\"\\n\")\n",
    "\n",
    "print(\"NEWCOMERS AND EMAILS\")\n",
    "print(\"--------------------\")\n",
    "print(CrossTable(recipient.df.penultimate$has_email, recipient.df.penultimate$newcomer, \n",
    "       prop.r = FALSE, prop.c=TRUE, prop.t = FALSE, prop.chisq = FALSE))\n",
    "\n",
    "# VARIABLE: num_prev_thanks_pre_treatment\n",
    "print(\"num_prev_thanks_pre_sample\")\n",
    "print(summary(recipient.df.penultimate$num_prev_thanks_pre_sample))\n",
    "cat(\"\\n\")\n",
    "    \n",
    "## SHOW PREVIOUS THANKS BY EXPERIENCE GROUP:\n",
    "print(\"num_prev_thanks_pre_sample by prev_experience\")\n",
    "print(aggregate(recipient.df.penultimate[c(\"num_prev_thanks_pre_sample\")],\n",
    "      FUN=mean, by = list(recipient.df.penultimate$prev_experience)))\n",
    "cat(\"\\n\")"
   ]
  },
  {
   "cell_type": "markdown",
   "metadata": {},
   "source": [
    "# Subset Sample to Planned sample sizes\n",
    "Sample sizes are reported in the experiment [Decisions Document](https://docs.google.com/document/d/1HryhsmWI6WthXQC7zv9Hz1a9DhpZ3FxVRLjTONuMg4I/edit)\n",
    "\n",
    "* Arabic newcomers (1750 goal) (hoping for as many as possible in first sample)\n",
    "    * hoping for 1350 in the first sample and 400 later\n",
    "* German newcomers (3000 goal) (hoping for as many as possible in first sample)\n",
    "    * hoping for 1600 in first sample and 1400 later\n",
    "* Persian Experienced (2400 goal)\n",
    "* Polish:\n",
    "    * Newcomers: (800 goal)\n",
    "    * Experienced: (2400 goal)"
   ]
  },
  {
   "cell_type": "code",
   "execution_count": 36,
   "metadata": {},
   "outputs": [],
   "source": [
    "## Seed generated by Brooklyn Integers\n",
    "# https://www.brooklynintegers.com/int/1394229439/\n",
    "set.seed(1394229439)"
   ]
  },
  {
   "cell_type": "code",
   "execution_count": 37,
   "metadata": {},
   "outputs": [
    {
     "name": "stdout",
     "output_type": "stream",
     "text": [
      "[1] \"Newcomers\"\n"
     ]
    },
    {
     "data": {
      "text/html": [
       "<dl class=dl-horizontal>\n",
       "\t<dt>ar</dt>\n",
       "\t\t<dd>1122</dd>\n",
       "\t<dt>de</dt>\n",
       "\t\t<dd>1906</dd>\n",
       "\t<dt>fa</dt>\n",
       "\t\t<dd>0</dd>\n",
       "\t<dt>pl</dt>\n",
       "\t\t<dd>581</dd>\n",
       "</dl>\n"
      ],
      "text/latex": [
       "\\begin{description*}\n",
       "\\item[ar] 1122\n",
       "\\item[de] 1906\n",
       "\\item[fa] 0\n",
       "\\item[pl] 581\n",
       "\\end{description*}\n"
      ],
      "text/markdown": [
       "ar\n",
       ":   1122de\n",
       ":   1906fa\n",
       ":   0pl\n",
       ":   581\n",
       "\n"
      ],
      "text/plain": [
       "  ar   de   fa   pl \n",
       "1122 1906    0  581 "
      ]
     },
     "metadata": {},
     "output_type": "display_data"
    }
   ],
   "source": [
    "print(\"Newcomers\")\n",
    "summary(subset(recipient.df.penultimate, newcomer==1)$lang)"
   ]
  },
  {
   "cell_type": "code",
   "execution_count": 38,
   "metadata": {},
   "outputs": [
    {
     "name": "stdout",
     "output_type": "stream",
     "text": [
      "[1] \"Experienced\"\n"
     ]
    },
    {
     "data": {
      "text/html": [
       "<dl class=dl-horizontal>\n",
       "\t<dt>ar</dt>\n",
       "\t\t<dd>0</dd>\n",
       "\t<dt>de</dt>\n",
       "\t\t<dd>0</dd>\n",
       "\t<dt>fa</dt>\n",
       "\t\t<dd>2419</dd>\n",
       "\t<dt>pl</dt>\n",
       "\t\t<dd>2420</dd>\n",
       "</dl>\n"
      ],
      "text/latex": [
       "\\begin{description*}\n",
       "\\item[ar] 0\n",
       "\\item[de] 0\n",
       "\\item[fa] 2419\n",
       "\\item[pl] 2420\n",
       "\\end{description*}\n"
      ],
      "text/markdown": [
       "ar\n",
       ":   0de\n",
       ":   0fa\n",
       ":   2419pl\n",
       ":   2420\n",
       "\n"
      ],
      "text/plain": [
       "  ar   de   fa   pl \n",
       "   0    0 2419 2420 "
      ]
     },
     "metadata": {},
     "output_type": "display_data"
    }
   ],
   "source": [
    "print(\"Experienced\")\n",
    "summary(subset(recipient.df.penultimate, newcomer==0)$lang)"
   ]
  },
  {
   "cell_type": "code",
   "execution_count": 39,
   "metadata": {},
   "outputs": [],
   "source": [
    "## WE ARE ACCEPTING THE FULL QUOTA\n",
    "## OF ALL PARTICIPANTS EXCEPT FOR\n",
    "## THE DATASET OF Polish EXPERIENCED ACCOUNTS\n",
    "\n",
    "polish.experienced.sample.size <- 2410\n",
    "pl.experienced.df <- subset(recipient.df.penultimate, newcomer==0 & lang==\"pl\")\n",
    "\n",
    "recipient.df.final <- rbind(\n",
    "    subset(recipient.df.penultimate, newcomer==1),\n",
    "    subset(recipient.df.penultimate, lang==\"fa\"),\n",
    "    pl.experienced.df[sample(nrow(pl.experienced.df), polish.experienced.sample.size), ]\n",
    ")\n"
   ]
  },
  {
   "cell_type": "code",
   "execution_count": 40,
   "metadata": {},
   "outputs": [
    {
     "name": "stdout",
     "output_type": "stream",
     "text": [
      "[1] \"Newcomers\"\n"
     ]
    },
    {
     "data": {
      "text/html": [
       "<dl class=dl-horizontal>\n",
       "\t<dt>ar</dt>\n",
       "\t\t<dd>1122</dd>\n",
       "\t<dt>de</dt>\n",
       "\t\t<dd>1906</dd>\n",
       "\t<dt>fa</dt>\n",
       "\t\t<dd>0</dd>\n",
       "\t<dt>pl</dt>\n",
       "\t\t<dd>581</dd>\n",
       "</dl>\n"
      ],
      "text/latex": [
       "\\begin{description*}\n",
       "\\item[ar] 1122\n",
       "\\item[de] 1906\n",
       "\\item[fa] 0\n",
       "\\item[pl] 581\n",
       "\\end{description*}\n"
      ],
      "text/markdown": [
       "ar\n",
       ":   1122de\n",
       ":   1906fa\n",
       ":   0pl\n",
       ":   581\n",
       "\n"
      ],
      "text/plain": [
       "  ar   de   fa   pl \n",
       "1122 1906    0  581 "
      ]
     },
     "metadata": {},
     "output_type": "display_data"
    },
    {
     "name": "stdout",
     "output_type": "stream",
     "text": [
      "[1] \"Experienced\"\n"
     ]
    },
    {
     "data": {
      "text/html": [
       "<dl class=dl-horizontal>\n",
       "\t<dt>ar</dt>\n",
       "\t\t<dd>0</dd>\n",
       "\t<dt>de</dt>\n",
       "\t\t<dd>0</dd>\n",
       "\t<dt>fa</dt>\n",
       "\t\t<dd>2419</dd>\n",
       "\t<dt>pl</dt>\n",
       "\t\t<dd>2410</dd>\n",
       "</dl>\n"
      ],
      "text/latex": [
       "\\begin{description*}\n",
       "\\item[ar] 0\n",
       "\\item[de] 0\n",
       "\\item[fa] 2419\n",
       "\\item[pl] 2410\n",
       "\\end{description*}\n"
      ],
      "text/markdown": [
       "ar\n",
       ":   0de\n",
       ":   0fa\n",
       ":   2419pl\n",
       ":   2410\n",
       "\n"
      ],
      "text/plain": [
       "  ar   de   fa   pl \n",
       "   0    0 2419 2410 "
      ]
     },
     "metadata": {},
     "output_type": "display_data"
    }
   ],
   "source": [
    "print(\"Newcomers\")\n",
    "summary(subset(recipient.df.final, newcomer==1)$lang)\n",
    "print(\"Experienced\")\n",
    "summary(subset(recipient.df.final, newcomer==0)$lang)"
   ]
  },
  {
   "cell_type": "markdown",
   "metadata": {},
   "source": [
    "# Generate Randomization Blocks"
   ]
  },
  {
   "cell_type": "code",
   "execution_count": 41,
   "metadata": {},
   "outputs": [],
   "source": [
    "recipient.df.final$lang_prev_experience <- factor(paste(recipient.df.final$lang, recipient.df.final$prev_experience))\n",
    "#colnames(recipient.df.final)"
   ]
  },
  {
   "cell_type": "code",
   "execution_count": 42,
   "metadata": {
    "scrolled": false
   },
   "outputs": [],
   "source": [
    "## BLOCKING VARIABLES\n",
    "bv = c(\"labor_hours_84_days_pre_sample\", \"num_prev_thanks_pre_sample\")\n",
    "\n",
    "block.size = 2\n",
    "\n",
    "## TODO: CHECK TO SEE IF I CAN DO BALANCED RANDOMIZATION\n",
    "## WITHIN BLOCKS LARGER THAN 2\n",
    "blockobj = block(data=recipient.df.final,\n",
    "            n.tr = block.size,\n",
    "            groups = \"lang_prev_experience\",\n",
    "            id.vars=\"anonymized_id\",\n",
    "            block.vars = bv,\n",
    "            distance =\"mahalanobis\"\n",
    "            )\n",
    "## CHECK DISTANCES\n",
    "#print(blockobj)\n",
    "recipient.df.final$randomization_block_id <- createBlockIDs(blockobj,\n",
    "                                   data=recipient.df.final,\n",
    "                                   id.var = \"anonymized_id\")\n",
    "recipient.df.final$randomization_block_size = block.size"
   ]
  },
  {
   "cell_type": "markdown",
   "metadata": {},
   "source": [
    "### Identify Incomplete Blocks and Remove Participants in Incomplete Blocks From the Experiment"
   ]
  },
  {
   "cell_type": "code",
   "execution_count": 43,
   "metadata": {},
   "outputs": [
    {
     "data": {
      "text/html": [
       "<ol class=list-inline>\n",
       "\t<li>1928</li>\n",
       "\t<li>2376</li>\n",
       "\t<li>2619</li>\n",
       "\t<li>3016</li>\n",
       "\t<li>3276</li>\n",
       "\t<li>4222</li>\n",
       "</ol>\n"
      ],
      "text/latex": [
       "\\begin{enumerate*}\n",
       "\\item 1928\n",
       "\\item 2376\n",
       "\\item 2619\n",
       "\\item 3016\n",
       "\\item 3276\n",
       "\\item 4222\n",
       "\\end{enumerate*}\n"
      ],
      "text/markdown": [
       "1. 1928\n",
       "2. 2376\n",
       "3. 2619\n",
       "4. 3016\n",
       "5. 3276\n",
       "6. 4222\n",
       "\n",
       "\n"
      ],
      "text/plain": [
       "[1] 1928 2376 2619 3016 3276 4222"
      ]
     },
     "metadata": {},
     "output_type": "display_data"
    }
   ],
   "source": [
    "block.sizes <- aggregate(recipient.df.final$randomization_block_id, FUN=length, by=list(recipient.df.final$randomization_block_id))\n",
    "incomplete.blocks <- subset(block.sizes, x == 1)$Group.1\n",
    "incomplete.blocks"
   ]
  },
  {
   "cell_type": "code",
   "execution_count": 44,
   "metadata": {},
   "outputs": [
    {
     "data": {
      "text/html": [
       "6"
      ],
      "text/latex": [
       "6"
      ],
      "text/markdown": [
       "6"
      ],
      "text/plain": [
       "[1] 6"
      ]
     },
     "metadata": {},
     "output_type": "display_data"
    }
   ],
   "source": [
    "nrow(subset(recipient.df.final, randomization_block_id %in% incomplete.blocks))"
   ]
  },
  {
   "cell_type": "code",
   "execution_count": 45,
   "metadata": {},
   "outputs": [
    {
     "name": "stdout",
     "output_type": "stream",
     "text": [
      "[1] \"Removed 6 units placed in incomplete blocks.\"\n"
     ]
    }
   ],
   "source": [
    "removed.observations <- subset(recipient.df.final, (\n",
    "    randomization_block_id %in% incomplete.blocks)==TRUE)\n",
    "\n",
    "recipient.df.final <- \n",
    "    subset(recipient.df.final, (\n",
    "        randomization_block_id %in% incomplete.blocks)!=TRUE)\n",
    "\n",
    "print(paste(\"Removed\", nrow(removed.observations), \"units placed in incomplete blocks.\"))"
   ]
  },
  {
   "cell_type": "markdown",
   "metadata": {},
   "source": [
    "# Generate Randomizations"
   ]
  },
  {
   "cell_type": "code",
   "execution_count": 46,
   "metadata": {},
   "outputs": [],
   "source": [
    "assignments <- block_ra(blocks=recipient.df.final$randomization_block_id, \n",
    "                            num_arms = 2, conditions = c(0,1))\n",
    "recipient.df.final$randomization_arm <- assignments "
   ]
  },
  {
   "cell_type": "markdown",
   "metadata": {},
   "source": [
    "### Check Balance"
   ]
  },
  {
   "cell_type": "code",
   "execution_count": 47,
   "metadata": {
    "scrolled": false
   },
   "outputs": [
    {
     "name": "stdout",
     "output_type": "stream",
     "text": [
      "[1] \"Aggregating labor hours by treatment\"\n",
      "  Group.1 labor_hours_84_days_pre_sample\n",
      "1       0                          11.10\n",
      "2       1                          11.33\n",
      "[1] \"CrossTable of lang by treatment\"\n",
      "\n",
      " \n",
      "   Cell Contents\n",
      "|-------------------------|\n",
      "|                       N |\n",
      "|           N / Row Total |\n",
      "|-------------------------|\n",
      "\n",
      " \n",
      "Total Observations in Table:  8432 \n",
      "\n",
      " \n",
      "                        | recipient.df.final$randomization_arm \n",
      "recipient.df.final$lang |         0 |         1 | Row Total | \n",
      "------------------------|-----------|-----------|-----------|\n",
      "                     ar |       561 |       561 |      1122 | \n",
      "                        |     0.500 |     0.500 |     0.133 | \n",
      "------------------------|-----------|-----------|-----------|\n",
      "                     de |       953 |       953 |      1906 | \n",
      "                        |     0.500 |     0.500 |     0.226 | \n",
      "------------------------|-----------|-----------|-----------|\n",
      "                     fa |      1208 |      1208 |      2416 | \n",
      "                        |     0.500 |     0.500 |     0.287 | \n",
      "------------------------|-----------|-----------|-----------|\n",
      "                     pl |      1494 |      1494 |      2988 | \n",
      "                        |     0.500 |     0.500 |     0.354 | \n",
      "------------------------|-----------|-----------|-----------|\n",
      "           Column Total |      4216 |      4216 |      8432 | \n",
      "------------------------|-----------|-----------|-----------|\n",
      "\n",
      " \n",
      "[1] \"CrossTable of lang_prev_experience by treatment\"\n",
      "\n",
      " \n",
      "   Cell Contents\n",
      "|-------------------------|\n",
      "|                       N |\n",
      "|           N / Row Total |\n",
      "|-------------------------|\n",
      "\n",
      " \n",
      "Total Observations in Table:  8432 \n",
      "\n",
      " \n",
      "                                        | recipient.df.final$randomization_arm \n",
      "recipient.df.final$lang_prev_experience |         0 |         1 | Row Total | \n",
      "----------------------------------------|-----------|-----------|-----------|\n",
      "                                   ar 0 |       561 |       561 |      1122 | \n",
      "                                        |     0.500 |     0.500 |     0.133 | \n",
      "----------------------------------------|-----------|-----------|-----------|\n",
      "                                   de 0 |       953 |       953 |      1906 | \n",
      "                                        |     0.500 |     0.500 |     0.226 | \n",
      "----------------------------------------|-----------|-----------|-----------|\n",
      "                                fa 1460 |       258 |       258 |       516 | \n",
      "                                        |     0.500 |     0.500 |     0.061 | \n",
      "----------------------------------------|-----------|-----------|-----------|\n",
      "                                 fa 180 |       155 |       155 |       310 | \n",
      "                                        |     0.500 |     0.500 |     0.037 | \n",
      "----------------------------------------|-----------|-----------|-----------|\n",
      "                                fa 2920 |       209 |       209 |       418 | \n",
      "                                        |     0.500 |     0.500 |     0.050 | \n",
      "----------------------------------------|-----------|-----------|-----------|\n",
      "                                 fa 365 |       238 |       238 |       476 | \n",
      "                                        |     0.500 |     0.500 |     0.056 | \n",
      "----------------------------------------|-----------|-----------|-----------|\n",
      "                                 fa 730 |       242 |       242 |       484 | \n",
      "                                        |     0.500 |     0.500 |     0.057 | \n",
      "----------------------------------------|-----------|-----------|-----------|\n",
      "                                  fa 90 |       106 |       106 |       212 | \n",
      "                                        |     0.500 |     0.500 |     0.025 | \n",
      "----------------------------------------|-----------|-----------|-----------|\n",
      "                                   pl 0 |       290 |       290 |       580 | \n",
      "                                        |     0.500 |     0.500 |     0.069 | \n",
      "----------------------------------------|-----------|-----------|-----------|\n",
      "                                pl 1460 |       259 |       259 |       518 | \n",
      "                                        |     0.500 |     0.500 |     0.061 | \n",
      "----------------------------------------|-----------|-----------|-----------|\n",
      "                                 pl 180 |        96 |        96 |       192 | \n",
      "                                        |     0.500 |     0.500 |     0.023 | \n",
      "----------------------------------------|-----------|-----------|-----------|\n",
      "                                pl 2920 |       403 |       403 |       806 | \n",
      "                                        |     0.500 |     0.500 |     0.096 | \n",
      "----------------------------------------|-----------|-----------|-----------|\n",
      "                                 pl 365 |       141 |       141 |       282 | \n",
      "                                        |     0.500 |     0.500 |     0.033 | \n",
      "----------------------------------------|-----------|-----------|-----------|\n",
      "                                 pl 730 |       185 |       185 |       370 | \n",
      "                                        |     0.500 |     0.500 |     0.044 | \n",
      "----------------------------------------|-----------|-----------|-----------|\n",
      "                                  pl 90 |       120 |       120 |       240 | \n",
      "                                        |     0.500 |     0.500 |     0.028 | \n",
      "----------------------------------------|-----------|-----------|-----------|\n",
      "                           Column Total |      4216 |      4216 |      8432 | \n",
      "----------------------------------------|-----------|-----------|-----------|\n",
      "\n",
      " \n"
     ]
    }
   ],
   "source": [
    "print(\"Aggregating labor hours by treatment\")\n",
    "print(aggregate(recipient.df.final[c(\"labor_hours_84_days_pre_sample\")],\n",
    "          FUN=mean, by = list(recipient.df.final$randomization_arm)))\n",
    "\n",
    "print(\"CrossTable of lang by treatment\")\n",
    "CrossTable(recipient.df.final$lang, recipient.df.final$randomization_arm, \n",
    "       prop.r = TRUE, prop.c=FALSE, prop.t = FALSE, prop.chisq = FALSE)\n",
    "\n",
    "print(\"CrossTable of lang_prev_experience by treatment\")\n",
    "CrossTable(recipient.df.final$lang_prev_experience, recipient.df.final$randomization_arm, \n",
    "       prop.r = TRUE, prop.c=FALSE, prop.t = FALSE, prop.chisq = FALSE)\n"
   ]
  },
  {
   "cell_type": "markdown",
   "metadata": {},
   "source": [
    "### Sort by block ID"
   ]
  },
  {
   "cell_type": "code",
   "execution_count": 48,
   "metadata": {},
   "outputs": [],
   "source": [
    "recipient.df.final <- recipient.df.final[order(recipient.df.final$randomization_block_id),]"
   ]
  },
  {
   "cell_type": "code",
   "execution_count": 49,
   "metadata": {},
   "outputs": [
    {
     "name": "stdout",
     "output_type": "stream",
     "text": [
      "[1] \"Newcomers\"\n"
     ]
    },
    {
     "data": {
      "text/html": [
       "<dl class=dl-horizontal>\n",
       "\t<dt>ar</dt>\n",
       "\t\t<dd>1122</dd>\n",
       "\t<dt>de</dt>\n",
       "\t\t<dd>1906</dd>\n",
       "\t<dt>fa</dt>\n",
       "\t\t<dd>0</dd>\n",
       "\t<dt>pl</dt>\n",
       "\t\t<dd>580</dd>\n",
       "</dl>\n"
      ],
      "text/latex": [
       "\\begin{description*}\n",
       "\\item[ar] 1122\n",
       "\\item[de] 1906\n",
       "\\item[fa] 0\n",
       "\\item[pl] 580\n",
       "\\end{description*}\n"
      ],
      "text/markdown": [
       "ar\n",
       ":   1122de\n",
       ":   1906fa\n",
       ":   0pl\n",
       ":   580\n",
       "\n"
      ],
      "text/plain": [
       "  ar   de   fa   pl \n",
       "1122 1906    0  580 "
      ]
     },
     "metadata": {},
     "output_type": "display_data"
    },
    {
     "name": "stdout",
     "output_type": "stream",
     "text": [
      "[1] \"Experienced\"\n"
     ]
    },
    {
     "data": {
      "text/html": [
       "<dl class=dl-horizontal>\n",
       "\t<dt>ar</dt>\n",
       "\t\t<dd>0</dd>\n",
       "\t<dt>de</dt>\n",
       "\t\t<dd>0</dd>\n",
       "\t<dt>fa</dt>\n",
       "\t\t<dd>2416</dd>\n",
       "\t<dt>pl</dt>\n",
       "\t\t<dd>2408</dd>\n",
       "</dl>\n"
      ],
      "text/latex": [
       "\\begin{description*}\n",
       "\\item[ar] 0\n",
       "\\item[de] 0\n",
       "\\item[fa] 2416\n",
       "\\item[pl] 2408\n",
       "\\end{description*}\n"
      ],
      "text/markdown": [
       "ar\n",
       ":   0de\n",
       ":   0fa\n",
       ":   2416pl\n",
       ":   2408\n",
       "\n"
      ],
      "text/plain": [
       "  ar   de   fa   pl \n",
       "   0    0 2416 2408 "
      ]
     },
     "metadata": {},
     "output_type": "display_data"
    }
   ],
   "source": [
    "print(\"Newcomers\")\n",
    "summary(subset(recipient.df.final, newcomer==1)$lang)\n",
    "print(\"Experienced\")\n",
    "summary(subset(recipient.df.final, newcomer==0)$lang)"
   ]
  },
  {
   "cell_type": "markdown",
   "metadata": {},
   "source": [
    "# Output and Archive Randomizations"
   ]
  },
  {
   "cell_type": "code",
   "execution_count": 28,
   "metadata": {},
   "outputs": [],
   "source": [
    "randomization.filename <- paste(\"thanks-recipient-randomizations-\", format(Sys.Date(), format=\"%Y%m%d\"), \".csv\", sep=\"\") \n",
    "write.csv(recipient.df.final, file = file.path(data.path, \"randomization_output\", randomization.filename))"
   ]
  },
  {
   "cell_type": "markdown",
   "metadata": {},
   "source": [
    "# Followup Diagnostics"
   ]
  },
  {
   "cell_type": "code",
   "execution_count": 51,
   "metadata": {},
   "outputs": [
    {
     "name": "stdout",
     "output_type": "stream",
     "text": [
      "[1] \"Number of Accounts for each experience level among Polish Participants\"\n",
      "  Group.1 count.var\n",
      "1       0       580\n",
      "2      90       240\n",
      "3     180       192\n",
      "4     365       282\n",
      "5     730       370\n",
      "6    1460       518\n",
      "7    2920       806\n",
      "\n"
     ]
    }
   ],
   "source": [
    "## SHOW PREVIOUS THANKS BY EXPERIENCE GROUP:\n",
    "recipient.df.final$count.var <- 1\n",
    "print(\"Number of Accounts for each experience level among Polish Participants\")\n",
    "print(aggregate(subset(recipient.df.final, lang==\"pl\")[c(\"count.var\")],\n",
    "      FUN=sum, by = list(subset(recipient.df.final, lang==\"pl\")$prev_experience)))\n",
    "cat(\"\\n\")"
   ]
  },
  {
   "cell_type": "code",
   "execution_count": 53,
   "metadata": {},
   "outputs": [
    {
     "data": {
      "text/plain": [
       "   Min. 1st Qu.  Median    Mean 3rd Qu.    Max. \n",
       "      1    1055    2110    2110    3166    4221 "
      ]
     },
     "metadata": {},
     "output_type": "display_data"
    }
   ],
   "source": [
    "summary(recipient.df.final$randomization_block_id)"
   ]
  },
  {
   "cell_type": "code",
   "execution_count": null,
   "metadata": {},
   "outputs": [],
   "source": []
  }
 ],
 "metadata": {
  "kernelspec": {
   "display_name": "R",
   "language": "R",
   "name": "ir"
  },
  "language_info": {
   "codemirror_mode": "r",
   "file_extension": ".r",
   "mimetype": "text/x-r-source",
   "name": "R",
   "pygments_lexer": "r",
   "version": "3.5.1"
  }
 },
 "nbformat": 4,
 "nbformat_minor": 2
}
