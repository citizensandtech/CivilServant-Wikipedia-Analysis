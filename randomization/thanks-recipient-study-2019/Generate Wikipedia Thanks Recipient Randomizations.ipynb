{
 "cells": [
  {
   "cell_type": "markdown",
   "metadata": {},
   "source": [
    "# Wikipedia Thanks-Receiver Study Randomization \n",
    "[J. Nathan Matias](https://twitter.com/natematias)\n",
    "April 27, 2019\n",
    "\n",
    "This code takes as input data described in the [randomization data format](https://docs.google.com/document/d/1plhoDbQryYQ32vZMXu8YmlLSp30QTdup43k6uTePOT4/edit?usp=drive_web&ouid=117701977297551627494) and produces randomizations for the Thanks Recipient study."
   ]
  },
  {
   "cell_type": "code",
   "execution_count": 103,
   "metadata": {},
   "outputs": [
    {
     "data": {
      "text/plain": [
       "R version 3.5.1 (2018-07-02)\n",
       "Platform: x86_64-pc-linux-gnu (64-bit)\n",
       "Running under: Ubuntu 16.04.5 LTS\n",
       "\n",
       "Matrix products: default\n",
       "BLAS: /usr/lib/libblas/libblas.so.3.6.0\n",
       "LAPACK: /usr/lib/lapack/liblapack.so.3.6.0\n",
       "\n",
       "locale:\n",
       " [1] LC_CTYPE=en_US.UTF-8       LC_NUMERIC=C              \n",
       " [3] LC_TIME=en_US.UTF-8        LC_COLLATE=en_US.UTF-8    \n",
       " [5] LC_MONETARY=en_US.UTF-8    LC_MESSAGES=en_US.UTF-8   \n",
       " [7] LC_PAPER=en_US.UTF-8       LC_NAME=C                 \n",
       " [9] LC_ADDRESS=C               LC_TELEPHONE=C            \n",
       "[11] LC_MEASUREMENT=en_US.UTF-8 LC_IDENTIFICATION=C       \n",
       "\n",
       "attached base packages:\n",
       "[1] stats     graphics  grDevices utils     datasets  methods   base     \n",
       "\n",
       "other attached packages:\n",
       " [1] DeclareDesign_0.12.0 estimatr_0.14        fabricatr_0.6.0     \n",
       " [4] randomizr_0.16.1     gmodels_2.18.1       blockrand_1.3       \n",
       " [7] blockTools_0.6-3     viridis_0.5.1        viridisLite_0.3.0   \n",
       "[10] forcats_0.3.0        stringr_1.3.1        dplyr_0.7.8         \n",
       "[13] purrr_0.2.5          readr_1.2.1          tidyr_0.8.2         \n",
       "[16] tibble_1.4.2         tidyverse_1.2.1      rlang_0.3.0.1       \n",
       "[19] ggplot2_3.1.0       \n",
       "\n",
       "loaded via a namespace (and not attached):\n",
       " [1] Rcpp_1.0.0       lubridate_1.7.4  lattice_0.20-38  gtools_3.8.1    \n",
       " [5] assertthat_0.2.0 digest_0.6.18    IRdisplay_0.7.0  R6_2.3.0        \n",
       " [9] cellranger_1.1.0 plyr_1.8.4       repr_0.18        backports_1.1.2 \n",
       "[13] evaluate_0.12    httr_1.3.1       pillar_1.3.0     lazyeval_0.2.1  \n",
       "[17] uuid_0.1-2       readxl_1.1.0     rstudioapi_0.8   gdata_2.18.0    \n",
       "[21] munsell_0.5.0    broom_0.5.1      compiler_3.5.1   modelr_0.1.2    \n",
       "[25] pkgconfig_2.0.2  base64enc_0.1-3  htmltools_0.3.6  tidyselect_0.2.5\n",
       "[29] gridExtra_2.3    crayon_1.3.4     withr_2.1.2      MASS_7.3-51.1   \n",
       "[33] grid_3.5.1       nlme_3.1-137     jsonlite_1.6     gtable_0.2.0    \n",
       "[37] magrittr_1.5     scales_1.0.0     cli_1.0.1        stringi_1.2.4   \n",
       "[41] bindrcpp_0.2.2   xml2_1.2.0       generics_0.0.2   IRkernel_0.8.14 \n",
       "[45] Formula_1.2-3    tools_3.5.1      glue_1.3.0       hms_0.4.2       \n",
       "[49] colorspace_1.3-2 rvest_0.3.2      pbdZMQ_0.3-3     bindr_0.1.1     \n",
       "[53] haven_2.0.0     "
      ]
     },
     "metadata": {},
     "output_type": "display_data"
    }
   ],
   "source": [
    "options(\"scipen\"=9, \"digits\"=4)\n",
    "library(ggplot2)\n",
    "library(rlang)\n",
    "library(tidyverse)\n",
    "library(viridis)\n",
    "library(blockTools)\n",
    "library(blockrand)\n",
    "library(gmodels) # contains CrossTable\n",
    "library(DeclareDesign)\n",
    "library(DescTools) # contains Freq\n",
    "options(repr.plot.width=7, repr.plot.height=3.5)\n",
    "sessionInfo()"
   ]
  },
  {
   "cell_type": "markdown",
   "metadata": {},
   "source": [
    "# Load Input Dataframe"
   ]
  },
  {
   "cell_type": "code",
   "execution_count": 181,
   "metadata": {},
   "outputs": [],
   "source": [
    "filename = \"thankee_power_analysis_data_for_sim_treatment_20180601_200_subsamples.csv\"\n",
    "data.path <- \"~/Tresors/CivilServant/projects/wikipedia-integration/gratitude-study/datasets/power_analysis\"\n",
    "recipient.df <- read.csv(file.path(data.path, filename))"
   ]
  },
  {
   "cell_type": "markdown",
   "metadata": {},
   "source": [
    "### Adjust Column Names to Match Thankee Randomization Specification (REMOVE IN FINAL RUN)\n",
    "**IMPORTANT**: THESE COLUMNS **DO NOT HAVE THE SAME DEFINITION**. WE ARE JUST MAKING THIS TRANSFORMATION IN ORDER TO SET UP THE CODE IN THE ABSENCE OF THANKEE RANDOMIZATION DATA"
   ]
  },
  {
   "cell_type": "code",
   "execution_count": 182,
   "metadata": {},
   "outputs": [],
   "source": [
    "recipient.df$labor_hours_84_days_pre_sample <- recipient.df$num_labor_hours_90_pre_treatment\n",
    "recipient.df$num_prev_thanks_pre_sample <- recipient.df$num_prev_thanks_in_90_pre_treatment\n",
    "recipient.df$prev_experience <- factor(as.integer(gsub(\"bin_\", \"\", recipient.df$experience_level_pre_treatment)))\n",
    "recipient.df$anonymized_id <- seq(nrow(recipient.df))\n",
    "recipient.df <- recipient.df[c(\"labor_hours_84_days_pre_sample\", \"num_prev_thanks_pre_sample\", \n",
    "                               \"prev_experience\", \"anonymized_id\", \"has_email\", \"lang\")]"
   ]
  },
  {
   "cell_type": "markdown",
   "metadata": {},
   "source": [
    "### Subset values outside the 99% confidence intervals"
   ]
  },
  {
   "cell_type": "code",
   "execution_count": 183,
   "metadata": {},
   "outputs": [
    {
     "name": "stdout",
     "output_type": "stream",
     "text": [
      "[1] \"Removing 46 outliers observations because labor_hours_84_days_pre_sample is an outlier.\"\n"
     ]
    }
   ],
   "source": [
    "## CALCULATE MEANS AND SDs before making any removals\n",
    "df.labor.mean <- mean(recipient.df$labor_hours_84_days_pre_sample)\n",
    "df.labor.sd   <- sd(recipient.df$labor_hours_84_days_pre_sample)\n",
    "\n",
    "print(paste(\"Removing\", \n",
    "            nrow(subset(recipient.df,\n",
    "                        labor_hours_84_days_pre_sample > df.labor.mean + 2.58* df.labor.sd)), \"outliers\",\n",
    "           \"observations because labor_hours_84_days_pre_sample is an outlier.\"))\n",
    "recipient.df.final <- subset(recipient.df, labor_hours_84_days_pre_sample <= df.labor.mean + 2.58* df.labor.sd)"
   ]
  },
  {
   "cell_type": "markdown",
   "metadata": {},
   "source": [
    "# Review and Generate Variables"
   ]
  },
  {
   "cell_type": "code",
   "execution_count": 184,
   "metadata": {},
   "outputs": [
    {
     "name": "stdout",
     "output_type": "stream",
     "text": [
      "  Group.1 labor_hours_84_days_pre_sample\n",
      "1       0                        4.10422\n",
      "2      90                        0.97578\n",
      "3     180                        0.74359\n",
      "4     365                        0.49772\n",
      "5     730                        0.32146\n",
      "6    1460                        0.19832\n",
      "7    2920                        0.05618\n"
     ]
    }
   ],
   "source": [
    "print(aggregate(recipient.df.final[c(\"labor_hours_84_days_pre_sample\")],\n",
    "          FUN=mean, by = list(recipient.df.final$prev_experience)))"
   ]
  },
  {
   "cell_type": "code",
   "execution_count": 185,
   "metadata": {},
   "outputs": [
    {
     "name": "stdout",
     "output_type": "stream",
     "text": [
      "[1] \"prev_experience\"\n",
      "   0   90  180  365  730 1460 2920 \n",
      "1583  791  796  796  799  797  792 \n",
      "\n",
      "[1] \"Aggregate labor_hours_84_days_pre_sample\"\n",
      "  Group.1 labor_hours_84_days_pre_sample\n",
      "1       0                        4.10422\n",
      "2      90                        0.97578\n",
      "3     180                        0.74359\n",
      "4     365                        0.49772\n",
      "5     730                        0.32146\n",
      "6    1460                        0.19832\n",
      "7    2920                        0.05618\n",
      "\n",
      "[1] \"NEWCOMERS AND EMAILS\"\n",
      "[1] \"--------------------\"\n",
      "\n",
      " \n",
      "   Cell Contents\n",
      "|-------------------------|\n",
      "|                       N |\n",
      "|           N / Col Total |\n",
      "|-------------------------|\n",
      "\n",
      " \n",
      "Total Observations in Table:  6354 \n",
      "\n",
      " \n",
      "                             | recipient.df.final$newcomer \n",
      "recipient.df.final$has_email |     FALSE |      TRUE | Row Total | \n",
      "-----------------------------|-----------|-----------|-----------|\n",
      "                       FALSE |        97 |        12 |       109 | \n",
      "                             |     0.020 |     0.008 |           | \n",
      "-----------------------------|-----------|-----------|-----------|\n",
      "                        TRUE |      4674 |      1571 |      6245 | \n",
      "                             |     0.980 |     0.992 |           | \n",
      "-----------------------------|-----------|-----------|-----------|\n",
      "                Column Total |      4771 |      1583 |      6354 | \n",
      "                             |     0.751 |     0.249 |           | \n",
      "-----------------------------|-----------|-----------|-----------|\n",
      "\n",
      " \n",
      "$t\n",
      "       y\n",
      "x       FALSE TRUE\n",
      "  FALSE    97   12\n",
      "  TRUE   4674 1571\n",
      "\n",
      "$prop.row\n",
      "       y\n",
      "x        FALSE   TRUE\n",
      "  FALSE 0.8899 0.1101\n",
      "  TRUE  0.7484 0.2516\n",
      "\n",
      "$prop.col\n",
      "       y\n",
      "x          FALSE     TRUE\n",
      "  FALSE 0.020331 0.007581\n",
      "  TRUE  0.979669 0.992419\n",
      "\n",
      "$prop.tbl\n",
      "       y\n",
      "x          FALSE     TRUE\n",
      "  FALSE 0.015266 0.001889\n",
      "  TRUE  0.735600 0.247246\n",
      "\n",
      "[1] \"num_prev_thanks_pre_sample\"\n",
      "   Min. 1st Qu.  Median    Mean 3rd Qu.    Max. \n",
      "    0.0     0.0     0.0     0.4     0.0   470.0 \n",
      "\n",
      "[1] \"num_prev_thanks_pre_sample by prev_experience\"\n",
      "  Group.1 num_prev_thanks_pre_sample\n",
      "1       0                     0.2230\n",
      "2      90                     0.1972\n",
      "3     180                     0.4862\n",
      "4     365                     1.0603\n",
      "5     730                     0.4894\n",
      "6    1460                     0.2321\n",
      "7    2920                     0.1818\n",
      "\n"
     ]
    }
   ],
   "source": [
    "## Add the newcomer field\n",
    "recipient.df.final$newcomer <- recipient.df.final$prev_experience == 0\n",
    "\n",
    "## Update the has_email field\n",
    "recipient.df.final$has_email <- recipient.df.final$has_email == \"True\"\n",
    "\n",
    "## PREVIOUS EXPERIENCE\n",
    "print(\"prev_experience\")\n",
    "print(summary(factor(recipient.df.final$prev_experience)))\n",
    "cat(\"\\n\")\n",
    "\n",
    "## SHOW LABOR HOURS BY EXPERIENCE GROUP:\n",
    "print(\"Aggregate labor_hours_84_days_pre_sample\")\n",
    "print(aggregate(recipient.df.final[c(\"labor_hours_84_days_pre_sample\")],\n",
    "          FUN=mean, by = list(recipient.df.final$prev_experience)))\n",
    "cat(\"\\n\")\n",
    "\n",
    "print(\"NEWCOMERS AND EMAILS\")\n",
    "print(\"--------------------\")\n",
    "print(CrossTable(recipient.df.final$has_email, recipient.df.final$newcomer, \n",
    "       prop.r = FALSE, prop.c=TRUE, prop.t = FALSE, prop.chisq = FALSE))\n",
    "\n",
    "# VARIABLE: num_prev_thanks_pre_treatment\n",
    "print(\"num_prev_thanks_pre_sample\")\n",
    "print(summary(recipient.df.final$num_prev_thanks_pre_sample))\n",
    "cat(\"\\n\")\n",
    "    \n",
    "## SHOW PREVIOUS THANKS BY EXPERIENCE GROUP:\n",
    "print(\"num_prev_thanks_pre_sample by prev_experience\")\n",
    "print(aggregate(recipient.df.final[c(\"num_prev_thanks_pre_sample\")],\n",
    "      FUN=mean, by = list(recipient.df.final$prev_experience)))\n",
    "cat(\"\\n\")"
   ]
  },
  {
   "cell_type": "markdown",
   "metadata": {},
   "source": [
    "# Generate Randomization Blocks"
   ]
  },
  {
   "cell_type": "code",
   "execution_count": 186,
   "metadata": {},
   "outputs": [
    {
     "data": {
      "text/html": [
       "<ol class=list-inline>\n",
       "\t<li>'labor_hours_84_days_pre_sample'</li>\n",
       "\t<li>'num_prev_thanks_pre_sample'</li>\n",
       "\t<li>'prev_experience'</li>\n",
       "\t<li>'anonymized_id'</li>\n",
       "\t<li>'has_email'</li>\n",
       "\t<li>'lang'</li>\n",
       "\t<li>'newcomer'</li>\n",
       "\t<li>'lang_prev_experience'</li>\n",
       "</ol>\n"
      ],
      "text/latex": [
       "\\begin{enumerate*}\n",
       "\\item 'labor\\_hours\\_84\\_days\\_pre\\_sample'\n",
       "\\item 'num\\_prev\\_thanks\\_pre\\_sample'\n",
       "\\item 'prev\\_experience'\n",
       "\\item 'anonymized\\_id'\n",
       "\\item 'has\\_email'\n",
       "\\item 'lang'\n",
       "\\item 'newcomer'\n",
       "\\item 'lang\\_prev\\_experience'\n",
       "\\end{enumerate*}\n"
      ],
      "text/markdown": [
       "1. 'labor_hours_84_days_pre_sample'\n",
       "2. 'num_prev_thanks_pre_sample'\n",
       "3. 'prev_experience'\n",
       "4. 'anonymized_id'\n",
       "5. 'has_email'\n",
       "6. 'lang'\n",
       "7. 'newcomer'\n",
       "8. 'lang_prev_experience'\n",
       "\n",
       "\n"
      ],
      "text/plain": [
       "[1] \"labor_hours_84_days_pre_sample\" \"num_prev_thanks_pre_sample\"    \n",
       "[3] \"prev_experience\"                \"anonymized_id\"                 \n",
       "[5] \"has_email\"                      \"lang\"                          \n",
       "[7] \"newcomer\"                       \"lang_prev_experience\"          "
      ]
     },
     "metadata": {},
     "output_type": "display_data"
    }
   ],
   "source": [
    "recipient.df.final$lang_prev_experience <- factor(paste(recipient.df.final$lang, recipient.df.final$prev_experience))\n",
    "colnames(recipient.df.final)"
   ]
  },
  {
   "cell_type": "code",
   "execution_count": 187,
   "metadata": {},
   "outputs": [
    {
     "data": {
      "text/html": [
       "<dl class=dl-horizontal>\n",
       "\t<dt>ar 0</dt>\n",
       "\t\t<dd>395</dd>\n",
       "\t<dt>ar 1460</dt>\n",
       "\t\t<dd>199</dd>\n",
       "\t<dt>ar 180</dt>\n",
       "\t\t<dd>199</dd>\n",
       "\t<dt>ar 2920</dt>\n",
       "\t\t<dd>199</dd>\n",
       "\t<dt>ar 365</dt>\n",
       "\t\t<dd>200</dd>\n",
       "\t<dt>ar 730</dt>\n",
       "\t\t<dd>200</dd>\n",
       "\t<dt>ar 90</dt>\n",
       "\t\t<dd>197</dd>\n",
       "\t<dt>de 0</dt>\n",
       "\t\t<dd>395</dd>\n",
       "\t<dt>de 1460</dt>\n",
       "\t\t<dd>200</dd>\n",
       "\t<dt>de 180</dt>\n",
       "\t\t<dd>200</dd>\n",
       "\t<dt>de 2920</dt>\n",
       "\t\t<dd>199</dd>\n",
       "\t<dt>de 365</dt>\n",
       "\t\t<dd>198</dd>\n",
       "\t<dt>de 730</dt>\n",
       "\t\t<dd>200</dd>\n",
       "\t<dt>de 90</dt>\n",
       "\t\t<dd>200</dd>\n",
       "\t<dt>fa 0</dt>\n",
       "\t\t<dd>398</dd>\n",
       "\t<dt>fa 1460</dt>\n",
       "\t\t<dd>199</dd>\n",
       "\t<dt>fa 180</dt>\n",
       "\t\t<dd>198</dd>\n",
       "\t<dt>fa 2920</dt>\n",
       "\t\t<dd>198</dd>\n",
       "\t<dt>fa 365</dt>\n",
       "\t\t<dd>200</dd>\n",
       "\t<dt>fa 730</dt>\n",
       "\t\t<dd>200</dd>\n",
       "\t<dt>fa 90</dt>\n",
       "\t\t<dd>198</dd>\n",
       "\t<dt>pl 0</dt>\n",
       "\t\t<dd>395</dd>\n",
       "\t<dt>pl 1460</dt>\n",
       "\t\t<dd>199</dd>\n",
       "\t<dt>pl 180</dt>\n",
       "\t\t<dd>199</dd>\n",
       "\t<dt>pl 2920</dt>\n",
       "\t\t<dd>196</dd>\n",
       "\t<dt>pl 365</dt>\n",
       "\t\t<dd>198</dd>\n",
       "\t<dt>pl 730</dt>\n",
       "\t\t<dd>199</dd>\n",
       "\t<dt>pl 90</dt>\n",
       "\t\t<dd>196</dd>\n",
       "</dl>\n"
      ],
      "text/latex": [
       "\\begin{description*}\n",
       "\\item[ar 0] 395\n",
       "\\item[ar 1460] 199\n",
       "\\item[ar 180] 199\n",
       "\\item[ar 2920] 199\n",
       "\\item[ar 365] 200\n",
       "\\item[ar 730] 200\n",
       "\\item[ar 90] 197\n",
       "\\item[de 0] 395\n",
       "\\item[de 1460] 200\n",
       "\\item[de 180] 200\n",
       "\\item[de 2920] 199\n",
       "\\item[de 365] 198\n",
       "\\item[de 730] 200\n",
       "\\item[de 90] 200\n",
       "\\item[fa 0] 398\n",
       "\\item[fa 1460] 199\n",
       "\\item[fa 180] 198\n",
       "\\item[fa 2920] 198\n",
       "\\item[fa 365] 200\n",
       "\\item[fa 730] 200\n",
       "\\item[fa 90] 198\n",
       "\\item[pl 0] 395\n",
       "\\item[pl 1460] 199\n",
       "\\item[pl 180] 199\n",
       "\\item[pl 2920] 196\n",
       "\\item[pl 365] 198\n",
       "\\item[pl 730] 199\n",
       "\\item[pl 90] 196\n",
       "\\end{description*}\n"
      ],
      "text/markdown": [
       "ar 0\n",
       ":   395ar 1460\n",
       ":   199ar 180\n",
       ":   199ar 2920\n",
       ":   199ar 365\n",
       ":   200ar 730\n",
       ":   200ar 90\n",
       ":   197de 0\n",
       ":   395de 1460\n",
       ":   200de 180\n",
       ":   200de 2920\n",
       ":   199de 365\n",
       ":   198de 730\n",
       ":   200de 90\n",
       ":   200fa 0\n",
       ":   398fa 1460\n",
       ":   199fa 180\n",
       ":   198fa 2920\n",
       ":   198fa 365\n",
       ":   200fa 730\n",
       ":   200fa 90\n",
       ":   198pl 0\n",
       ":   395pl 1460\n",
       ":   199pl 180\n",
       ":   199pl 2920\n",
       ":   196pl 365\n",
       ":   198pl 730\n",
       ":   199pl 90\n",
       ":   196\n",
       "\n"
      ],
      "text/plain": [
       "   ar 0 ar 1460  ar 180 ar 2920  ar 365  ar 730   ar 90    de 0 de 1460  de 180 \n",
       "    395     199     199     199     200     200     197     395     200     200 \n",
       "de 2920  de 365  de 730   de 90    fa 0 fa 1460  fa 180 fa 2920  fa 365  fa 730 \n",
       "    199     198     200     200     398     199     198     198     200     200 \n",
       "  fa 90    pl 0 pl 1460  pl 180 pl 2920  pl 365  pl 730   pl 90 \n",
       "    198     395     199     199     196     198     199     196 "
      ]
     },
     "metadata": {},
     "output_type": "display_data"
    }
   ],
   "source": [
    "summary(recipient.df.final$lang_prev_experience)"
   ]
  },
  {
   "cell_type": "code",
   "execution_count": 188,
   "metadata": {
    "scrolled": false
   },
   "outputs": [],
   "source": [
    "## BLOCKING VARIABLES\n",
    "bv = c(\"labor_hours_84_days_pre_sample\", \"num_prev_thanks_pre_sample\")\n",
    "#bv = c(\"labor_hours_84_days_pre_sample\", \"num_prev_thanks_pre_sample\", \"has_email\")\n",
    "\n",
    "block.size = 2\n",
    "\n",
    "## TODO: CHECK TO SEE IF I CAN DO BALANCED RANDOMIZATION\n",
    "## WITHIN BLOCKS LARGER THAN 2\n",
    "blockobj = block(data=recipient.df.final,\n",
    "            n.tr = block.size,\n",
    "            groups = \"lang_prev_experience\",\n",
    "            id.vars=\"anonymized_id\",\n",
    "            block.vars = bv,\n",
    "            distance =\"mahalanobis\"\n",
    "            )\n",
    "## CHECK DISTANCES\n",
    "#print(blockobj)\n",
    "recipient.df.final$randomization_block_id <- createBlockIDs(blockobj,\n",
    "                                   data=recipient.df.final,\n",
    "                                   id.var = \"anonymized_id\")\n",
    "recipient.df.final$randomization_block_size = block.size"
   ]
  },
  {
   "cell_type": "markdown",
   "metadata": {},
   "source": [
    "### Identify Incomplete Blocks and Remove them Units in Incomplete Blocks From the Experiment"
   ]
  },
  {
   "cell_type": "code",
   "execution_count": 189,
   "metadata": {},
   "outputs": [
    {
     "data": {
      "text/html": [
       "<ol class=list-inline>\n",
       "\t<li>1090</li>\n",
       "\t<li>2201</li>\n",
       "\t<li>2516</li>\n",
       "\t<li>2627</li>\n",
       "\t<li>2959</li>\n",
       "\t<li>3179</li>\n",
       "\t<li>330</li>\n",
       "\t<li>994</li>\n",
       "\t<li>1766</li>\n",
       "\t<li>1877</li>\n",
       "\t<li>1988</li>\n",
       "\t<li>2319</li>\n",
       "</ol>\n"
      ],
      "text/latex": [
       "\\begin{enumerate*}\n",
       "\\item 1090\n",
       "\\item 2201\n",
       "\\item 2516\n",
       "\\item 2627\n",
       "\\item 2959\n",
       "\\item 3179\n",
       "\\item 330\n",
       "\\item 994\n",
       "\\item 1766\n",
       "\\item 1877\n",
       "\\item 1988\n",
       "\\item 2319\n",
       "\\end{enumerate*}\n"
      ],
      "text/markdown": [
       "1. 1090\n",
       "2. 2201\n",
       "3. 2516\n",
       "4. 2627\n",
       "5. 2959\n",
       "6. 3179\n",
       "7. 330\n",
       "8. 994\n",
       "9. 1766\n",
       "10. 1877\n",
       "11. 1988\n",
       "12. 2319\n",
       "\n",
       "\n"
      ],
      "text/plain": [
       " [1] 1090 2201 2516 2627 2959 3179  330  994 1766 1877 1988 2319"
      ]
     },
     "metadata": {},
     "output_type": "display_data"
    }
   ],
   "source": [
    "block.freq <- Freq(factor(recipient.df.final$randomization_block_id))\n",
    "incomplete.blocks <- as.integer(subset(block.freq, freq == 1)$level)\n",
    "incomplete.blocks"
   ]
  },
  {
   "cell_type": "code",
   "execution_count": 190,
   "metadata": {},
   "outputs": [],
   "source": [
    "# removed.observations <- subset(recipient.df.final, (\n",
    "#     randomization_block_id %in% incomplete.blocks)==TRUE)\n",
    "\n",
    "# recipient.df.final <- \n",
    "#     subset(recipient.df.final, (\n",
    "#         randomization_block_id %in% incomplete.blocks)!=TRUE)\n",
    "\n",
    "# print(paste(\"Removed\", nrow(removed.observations), \"units placed in incomplete blocks.\"))"
   ]
  },
  {
   "cell_type": "markdown",
   "metadata": {},
   "source": [
    "# Generate Randomizations"
   ]
  },
  {
   "cell_type": "code",
   "execution_count": 193,
   "metadata": {},
   "outputs": [],
   "source": [
    "## Seed generated by Brooklyn Integers\n",
    "# https://www.brooklynintegers.com/int/1377549523/\n",
    "set.seed(1377549523)"
   ]
  },
  {
   "cell_type": "code",
   "execution_count": 194,
   "metadata": {},
   "outputs": [],
   "source": [
    "assignments <- block_ra(blocks=recipient.df.final$randomization_block_id, \n",
    "                            num_arms = 2, conditions = c(0,1))\n",
    "recipient.df.final$randomization_arm <- assignments "
   ]
  },
  {
   "cell_type": "markdown",
   "metadata": {},
   "source": [
    "### Check Balance"
   ]
  },
  {
   "cell_type": "code",
   "execution_count": 203,
   "metadata": {
    "scrolled": false
   },
   "outputs": [
    {
     "name": "stdout",
     "output_type": "stream",
     "text": [
      "[1] \"Aggregating labor hours by treatment\"\n",
      "  Group.1 labor_hours_84_days_pre_sample\n",
      "1       0                          1.380\n",
      "2       1                          1.363\n",
      "[1] \"CrossTable of lang by treatment\"\n",
      "\n",
      " \n",
      "   Cell Contents\n",
      "|-------------------------|\n",
      "|                       N |\n",
      "|           N / Row Total |\n",
      "|-------------------------|\n",
      "\n",
      " \n",
      "Total Observations in Table:  6354 \n",
      "\n",
      " \n",
      "                        | recipient.df.final$randomization_arm \n",
      "recipient.df.final$lang |         0 |         1 | Row Total | \n",
      "------------------------|-----------|-----------|-----------|\n",
      "                     ar |       796 |       793 |      1589 | \n",
      "                        |     0.501 |     0.499 |     0.250 | \n",
      "------------------------|-----------|-----------|-----------|\n",
      "                     de |       797 |       795 |      1592 | \n",
      "                        |     0.501 |     0.499 |     0.251 | \n",
      "------------------------|-----------|-----------|-----------|\n",
      "                     fa |       796 |       795 |      1591 | \n",
      "                        |     0.500 |     0.500 |     0.250 | \n",
      "------------------------|-----------|-----------|-----------|\n",
      "                     pl |       792 |       790 |      1582 | \n",
      "                        |     0.501 |     0.499 |     0.249 | \n",
      "------------------------|-----------|-----------|-----------|\n",
      "           Column Total |      3181 |      3173 |      6354 | \n",
      "------------------------|-----------|-----------|-----------|\n",
      "\n",
      " \n",
      "[1] \"CrossTable of lang_prev_experience by treatment\"\n",
      "\n",
      " \n",
      "   Cell Contents\n",
      "|-------------------------|\n",
      "|                       N |\n",
      "|           N / Row Total |\n",
      "|-------------------------|\n",
      "\n",
      " \n",
      "Total Observations in Table:  6354 \n",
      "\n",
      " \n",
      "                                        | recipient.df.final$randomization_arm \n",
      "recipient.df.final$lang_prev_experience |         0 |         1 | Row Total | \n",
      "----------------------------------------|-----------|-----------|-----------|\n",
      "                                   ar 0 |       198 |       197 |       395 | \n",
      "                                        |     0.501 |     0.499 |     0.062 | \n",
      "----------------------------------------|-----------|-----------|-----------|\n",
      "                                ar 1460 |       100 |        99 |       199 | \n",
      "                                        |     0.503 |     0.497 |     0.031 | \n",
      "----------------------------------------|-----------|-----------|-----------|\n",
      "                                 ar 180 |       100 |        99 |       199 | \n",
      "                                        |     0.503 |     0.497 |     0.031 | \n",
      "----------------------------------------|-----------|-----------|-----------|\n",
      "                                ar 2920 |       100 |        99 |       199 | \n",
      "                                        |     0.503 |     0.497 |     0.031 | \n",
      "----------------------------------------|-----------|-----------|-----------|\n",
      "                                 ar 365 |       100 |       100 |       200 | \n",
      "                                        |     0.500 |     0.500 |     0.031 | \n",
      "----------------------------------------|-----------|-----------|-----------|\n",
      "                                 ar 730 |       100 |       100 |       200 | \n",
      "                                        |     0.500 |     0.500 |     0.031 | \n",
      "----------------------------------------|-----------|-----------|-----------|\n",
      "                                  ar 90 |        98 |        99 |       197 | \n",
      "                                        |     0.497 |     0.503 |     0.031 | \n",
      "----------------------------------------|-----------|-----------|-----------|\n",
      "                                   de 0 |       198 |       197 |       395 | \n",
      "                                        |     0.501 |     0.499 |     0.062 | \n",
      "----------------------------------------|-----------|-----------|-----------|\n",
      "                                de 1460 |       100 |       100 |       200 | \n",
      "                                        |     0.500 |     0.500 |     0.031 | \n",
      "----------------------------------------|-----------|-----------|-----------|\n",
      "                                 de 180 |       100 |       100 |       200 | \n",
      "                                        |     0.500 |     0.500 |     0.031 | \n",
      "----------------------------------------|-----------|-----------|-----------|\n",
      "                                de 2920 |       100 |        99 |       199 | \n",
      "                                        |     0.503 |     0.497 |     0.031 | \n",
      "----------------------------------------|-----------|-----------|-----------|\n",
      "                                 de 365 |        99 |        99 |       198 | \n",
      "                                        |     0.500 |     0.500 |     0.031 | \n",
      "----------------------------------------|-----------|-----------|-----------|\n",
      "                                 de 730 |       100 |       100 |       200 | \n",
      "                                        |     0.500 |     0.500 |     0.031 | \n",
      "----------------------------------------|-----------|-----------|-----------|\n",
      "                                  de 90 |       100 |       100 |       200 | \n",
      "                                        |     0.500 |     0.500 |     0.031 | \n",
      "----------------------------------------|-----------|-----------|-----------|\n",
      "                                   fa 0 |       199 |       199 |       398 | \n",
      "                                        |     0.500 |     0.500 |     0.063 | \n",
      "----------------------------------------|-----------|-----------|-----------|\n",
      "                                fa 1460 |       100 |        99 |       199 | \n",
      "                                        |     0.503 |     0.497 |     0.031 | \n",
      "----------------------------------------|-----------|-----------|-----------|\n",
      "                                 fa 180 |        99 |        99 |       198 | \n",
      "                                        |     0.500 |     0.500 |     0.031 | \n",
      "----------------------------------------|-----------|-----------|-----------|\n",
      "                                fa 2920 |        99 |        99 |       198 | \n",
      "                                        |     0.500 |     0.500 |     0.031 | \n",
      "----------------------------------------|-----------|-----------|-----------|\n",
      "                                 fa 365 |       100 |       100 |       200 | \n",
      "                                        |     0.500 |     0.500 |     0.031 | \n",
      "----------------------------------------|-----------|-----------|-----------|\n",
      "                                 fa 730 |       100 |       100 |       200 | \n",
      "                                        |     0.500 |     0.500 |     0.031 | \n",
      "----------------------------------------|-----------|-----------|-----------|\n",
      "                                  fa 90 |        99 |        99 |       198 | \n",
      "                                        |     0.500 |     0.500 |     0.031 | \n",
      "----------------------------------------|-----------|-----------|-----------|\n",
      "                                   pl 0 |       198 |       197 |       395 | \n",
      "                                        |     0.501 |     0.499 |     0.062 | \n",
      "----------------------------------------|-----------|-----------|-----------|\n",
      "                                pl 1460 |        99 |       100 |       199 | \n",
      "                                        |     0.497 |     0.503 |     0.031 | \n",
      "----------------------------------------|-----------|-----------|-----------|\n",
      "                                 pl 180 |       100 |        99 |       199 | \n",
      "                                        |     0.503 |     0.497 |     0.031 | \n",
      "----------------------------------------|-----------|-----------|-----------|\n",
      "                                pl 2920 |        98 |        98 |       196 | \n",
      "                                        |     0.500 |     0.500 |     0.031 | \n",
      "----------------------------------------|-----------|-----------|-----------|\n",
      "                                 pl 365 |        99 |        99 |       198 | \n",
      "                                        |     0.500 |     0.500 |     0.031 | \n",
      "----------------------------------------|-----------|-----------|-----------|\n",
      "                                 pl 730 |       100 |        99 |       199 | \n",
      "                                        |     0.503 |     0.497 |     0.031 | \n",
      "----------------------------------------|-----------|-----------|-----------|\n",
      "                                  pl 90 |        98 |        98 |       196 | \n",
      "                                        |     0.500 |     0.500 |     0.031 | \n",
      "----------------------------------------|-----------|-----------|-----------|\n",
      "                           Column Total |      3181 |      3173 |      6354 | \n",
      "----------------------------------------|-----------|-----------|-----------|\n",
      "\n",
      " \n"
     ]
    }
   ],
   "source": [
    "print(\"Aggregating labor hours by treatment\")\n",
    "print(aggregate(recipient.df.final[c(\"labor_hours_84_days_pre_sample\")],\n",
    "          FUN=mean, by = list(recipient.df.final$randomization_arm)))\n",
    "\n",
    "print(\"CrossTable of lang by treatment\")\n",
    "CrossTable(recipient.df.final$lang, recipient.df.final$randomization_arm, \n",
    "       prop.r = TRUE, prop.c=FALSE, prop.t = FALSE, prop.chisq = FALSE)\n",
    "\n",
    "print(\"CrossTable of lang_prev_experience by treatment\")\n",
    "CrossTable(recipient.df.final$lang_prev_experience, recipient.df.final$randomization_arm, \n",
    "       prop.r = TRUE, prop.c=FALSE, prop.t = FALSE, prop.chisq = FALSE)\n"
   ]
  },
  {
   "cell_type": "markdown",
   "metadata": {},
   "source": [
    "# Output and Archive Randomizations"
   ]
  },
  {
   "cell_type": "code",
   "execution_count": null,
   "metadata": {},
   "outputs": [],
   "source": []
  }
 ],
 "metadata": {
  "kernelspec": {
   "display_name": "R",
   "language": "R",
   "name": "ir"
  },
  "language_info": {
   "codemirror_mode": "r",
   "file_extension": ".r",
   "mimetype": "text/x-r-source",
   "name": "R",
   "pygments_lexer": "r",
   "version": "3.5.1"
  }
 },
 "nbformat": 4,
 "nbformat_minor": 2
}
