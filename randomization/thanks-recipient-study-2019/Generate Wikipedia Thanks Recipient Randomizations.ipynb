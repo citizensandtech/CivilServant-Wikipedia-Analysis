{
 "cells": [
  {
   "cell_type": "markdown",
   "metadata": {},
   "source": [
    "# Wikipedia Thanks-Receiver Study Randomization \n",
    "[J. Nathan Matias](https://twitter.com/natematias)\n",
    "April 27, 2019\n",
    "\n",
    "This code takes as input data described in the [randomization data format](https://docs.google.com/document/d/1plhoDbQryYQ32vZMXu8YmlLSp30QTdup43k6uTePOT4/edit?usp=drive_web&ouid=117701977297551627494) and produces randomizations for the Thanks Recipient study.\n",
    "\n",
    "## TODO\n",
    "* Remove outliers on a per-language basis, not on an overall basis"
   ]
  },
  {
   "cell_type": "code",
   "execution_count": 23,
   "metadata": {},
   "outputs": [
    {
     "data": {
      "text/plain": [
       "R version 3.5.1 (2018-07-02)\n",
       "Platform: x86_64-pc-linux-gnu (64-bit)\n",
       "Running under: Ubuntu 16.04.5 LTS\n",
       "\n",
       "Matrix products: default\n",
       "BLAS: /usr/lib/libblas/libblas.so.3.6.0\n",
       "LAPACK: /usr/lib/lapack/liblapack.so.3.6.0\n",
       "\n",
       "locale:\n",
       " [1] LC_CTYPE=en_US.UTF-8       LC_NUMERIC=C              \n",
       " [3] LC_TIME=en_US.UTF-8        LC_COLLATE=en_US.UTF-8    \n",
       " [5] LC_MONETARY=en_US.UTF-8    LC_MESSAGES=en_US.UTF-8   \n",
       " [7] LC_PAPER=en_US.UTF-8       LC_NAME=C                 \n",
       " [9] LC_ADDRESS=C               LC_TELEPHONE=C            \n",
       "[11] LC_MEASUREMENT=en_US.UTF-8 LC_IDENTIFICATION=C       \n",
       "\n",
       "attached base packages:\n",
       "[1] stats     graphics  grDevices utils     datasets  methods   base     \n",
       "\n",
       "other attached packages:\n",
       " [1] DescTools_0.99.28    DeclareDesign_0.12.0 estimatr_0.14       \n",
       " [4] fabricatr_0.6.0      randomizr_0.16.1     gmodels_2.18.1      \n",
       " [7] blockrand_1.3        blockTools_0.6-3     viridis_0.5.1       \n",
       "[10] viridisLite_0.3.0    forcats_0.3.0        stringr_1.3.1       \n",
       "[13] dplyr_0.7.8          purrr_0.2.5          readr_1.2.1         \n",
       "[16] tidyr_0.8.2          tibble_1.4.2         tidyverse_1.2.1     \n",
       "[19] rlang_0.3.0.1        ggplot2_3.1.0       \n",
       "\n",
       "loaded via a namespace (and not attached):\n",
       " [1] Rcpp_1.0.0       mvtnorm_1.0-8    lubridate_1.7.4  lattice_0.20-38 \n",
       " [5] gtools_3.8.1     assertthat_0.2.0 digest_0.6.18    IRdisplay_0.7.0 \n",
       " [9] R6_2.3.0         cellranger_1.1.0 plyr_1.8.4       repr_0.18       \n",
       "[13] backports_1.1.2  evaluate_0.12    httr_1.3.1       pillar_1.3.0    \n",
       "[17] lazyeval_0.2.1   uuid_0.1-2       readxl_1.1.0     rstudioapi_0.8  \n",
       "[21] gdata_2.18.0     Matrix_1.2-15    foreign_0.8-71   munsell_0.5.0   \n",
       "[25] broom_0.5.1      compiler_3.5.1   modelr_0.1.2     pkgconfig_2.0.2 \n",
       "[29] base64enc_0.1-3  manipulate_1.0.1 htmltools_0.3.6  tidyselect_0.2.5\n",
       "[33] expm_0.999-4     gridExtra_2.3    crayon_1.3.4     withr_2.1.2     \n",
       "[37] MASS_7.3-51.1    grid_3.5.1       nlme_3.1-137     jsonlite_1.6    \n",
       "[41] gtable_0.2.0     magrittr_1.5     scales_1.0.0     cli_1.0.1       \n",
       "[45] stringi_1.2.4    bindrcpp_0.2.2   xml2_1.2.0       generics_0.0.2  \n",
       "[49] boot_1.3-20      IRkernel_0.8.14  Formula_1.2-3    tools_3.5.1     \n",
       "[53] glue_1.3.0       hms_0.4.2        colorspace_1.3-2 rvest_0.3.2     \n",
       "[57] pbdZMQ_0.3-3     bindr_0.1.1      haven_2.0.0     "
      ]
     },
     "metadata": {},
     "output_type": "display_data"
    }
   ],
   "source": [
    "options(\"scipen\"=9, \"digits\"=4)\n",
    "library(ggplot2)\n",
    "library(rlang)\n",
    "library(tidyverse)\n",
    "library(viridis)\n",
    "library(blockTools)\n",
    "library(blockrand)\n",
    "library(gmodels) # contains CrossTable\n",
    "library(DeclareDesign)\n",
    "library(DescTools) # contains Freq\n",
    "options(repr.plot.width=7, repr.plot.height=3.5)\n",
    "sessionInfo()"
   ]
  },
  {
   "cell_type": "markdown",
   "metadata": {},
   "source": [
    "# Load Input Dataframe"
   ]
  },
  {
   "cell_type": "code",
   "execution_count": 24,
   "metadata": {},
   "outputs": [],
   "source": [
    "filename = \"all-thankees-historical-20190520.csv\"\n",
    "data.path <- \"/home/civilservant/Tresors/CivilServant/projects/wikipedia-integration/gratitude-study/Data Drills/thankee/historical_output\"\n",
    "recipient.df <- read.csv(file.path(data.path, filename))"
   ]
  },
  {
   "cell_type": "markdown",
   "metadata": {},
   "source": [
    "### Adjust Column Names to Match Thankee Randomization Specification (REMOVE IN FINAL RUN)\n",
    "**IMPORTANT**: THESE COLUMNS **DO NOT HAVE THE SAME DEFINITION**. WE ARE JUST MAKING THIS TRANSFORMATION IN ORDER TO SET UP THE CODE IN THE ABSENCE OF THANKEE RANDOMIZATION DATA"
   ]
  },
  {
   "cell_type": "code",
   "execution_count": 25,
   "metadata": {},
   "outputs": [],
   "source": [
    "#recipient.df$user_id"
   ]
  },
  {
   "cell_type": "code",
   "execution_count": 27,
   "metadata": {},
   "outputs": [],
   "source": [
    "recipient.df$prev_experience <- factor(as.integer(gsub(\"bin_\", \"\", recipient.df$prev_experience)))\n",
    "recipient.df$anonymized_id <- seq(nrow(recipient.df))"
   ]
  },
  {
   "cell_type": "markdown",
   "metadata": {},
   "source": [
    "### Subset values outside the 99% confidence intervals"
   ]
  },
  {
   "cell_type": "code",
   "execution_count": 28,
   "metadata": {},
   "outputs": [
    {
     "name": "stdout",
     "output_type": "stream",
     "text": [
      "[1] \"Removing 34 outliers observations because labor_hours_84_days_pre_sample is an outlier.\"\n"
     ]
    }
   ],
   "source": [
    "## CALCULATE MEANS AND SDs before making any removals\n",
    "df.labor.mean <- mean(recipient.df$labor_hours_84_days_pre_sample)\n",
    "df.labor.sd   <- sd(recipient.df$labor_hours_84_days_pre_sample)\n",
    "\n",
    "print(paste(\"Removing\", \n",
    "            nrow(subset(recipient.df,\n",
    "                        labor_hours_84_days_pre_sample > df.labor.mean + 2.58* df.labor.sd)), \"outliers\",\n",
    "           \"observations because labor_hours_84_days_pre_sample is an outlier.\"))\n",
    "recipient.df.final <- subset(recipient.df, labor_hours_84_days_pre_sample <= df.labor.mean + 2.58* df.labor.sd)"
   ]
  },
  {
   "cell_type": "markdown",
   "metadata": {},
   "source": [
    "# Review and Generate Variables"
   ]
  },
  {
   "cell_type": "code",
   "execution_count": 29,
   "metadata": {},
   "outputs": [
    {
     "name": "stdout",
     "output_type": "stream",
     "text": [
      "  Group.1 labor_hours_84_days_pre_sample\n",
      "1       0                          8.397\n",
      "2      90                         10.924\n",
      "3     180                         17.186\n",
      "4     365                         17.591\n",
      "5     730                         19.267\n",
      "6    1460                         20.824\n",
      "7    2920                         24.288\n"
     ]
    }
   ],
   "source": [
    "print(aggregate(recipient.df.final[c(\"labor_hours_84_days_pre_sample\")],\n",
    "          FUN=mean, by = list(recipient.df.final$prev_experience)))"
   ]
  },
  {
   "cell_type": "code",
   "execution_count": 30,
   "metadata": {},
   "outputs": [
    {
     "name": "stdout",
     "output_type": "stream",
     "text": [
      "[1] \"prev_experience\"\n",
      "   0   90  180  365  730 1460 2920 \n",
      " 799   78   69  100  139  195  186 \n",
      "\n",
      "[1] \"Aggregate labor_hours_84_days_pre_sample\"\n",
      "  Group.1 labor_hours_84_days_pre_sample\n",
      "1       0                          8.397\n",
      "2      90                         10.924\n",
      "3     180                         17.186\n",
      "4     365                         17.591\n",
      "5     730                         19.267\n",
      "6    1460                         20.824\n",
      "7    2920                         24.288\n",
      "\n",
      "[1] \"NEWCOMERS AND EMAILS\"\n",
      "[1] \"--------------------\"\n",
      "\n",
      " \n",
      "   Cell Contents\n",
      "|-------------------------|\n",
      "|                       N |\n",
      "|           N / Col Total |\n",
      "|-------------------------|\n",
      "\n",
      " \n",
      "Total Observations in Table:  1566 \n",
      "\n",
      " \n",
      "                             | recipient.df.final$newcomer \n",
      "recipient.df.final$has_email |     FALSE |      TRUE | Row Total | \n",
      "-----------------------------|-----------|-----------|-----------|\n",
      "                       FALSE |        43 |         5 |        48 | \n",
      "                             |     0.056 |     0.006 |           | \n",
      "-----------------------------|-----------|-----------|-----------|\n",
      "                        TRUE |       724 |       794 |      1518 | \n",
      "                             |     0.944 |     0.994 |           | \n",
      "-----------------------------|-----------|-----------|-----------|\n",
      "                Column Total |       767 |       799 |      1566 | \n",
      "                             |     0.490 |     0.510 |           | \n",
      "-----------------------------|-----------|-----------|-----------|\n",
      "\n",
      " \n",
      "$t\n",
      "       y\n",
      "x       FALSE TRUE\n",
      "  FALSE    43    5\n",
      "  TRUE    724  794\n",
      "\n",
      "$prop.row\n",
      "       y\n",
      "x        FALSE   TRUE\n",
      "  FALSE 0.8958 0.1042\n",
      "  TRUE  0.4769 0.5231\n",
      "\n",
      "$prop.col\n",
      "       y\n",
      "x          FALSE     TRUE\n",
      "  FALSE 0.056063 0.006258\n",
      "  TRUE  0.943937 0.993742\n",
      "\n",
      "$prop.tbl\n",
      "       y\n",
      "x          FALSE     TRUE\n",
      "  FALSE 0.027458 0.003193\n",
      "  TRUE  0.462324 0.507024\n",
      "\n",
      "[1] \"num_prev_thanks_pre_sample\"\n",
      "   Min. 1st Qu.  Median    Mean 3rd Qu.    Max. \n",
      "    0.0     0.0     0.0     9.8     1.0  1425.0 \n",
      "\n",
      "[1] \"num_prev_thanks_pre_sample by prev_experience\"\n",
      "  Group.1 num_prev_thanks_pre_sample\n",
      "1       0                     0.1915\n",
      "2      90                     0.3462\n",
      "3     180                     1.3768\n",
      "4     365                     5.4300\n",
      "5     730                     8.6763\n",
      "6    1460                    28.8513\n",
      "7    2920                    41.4624\n",
      "\n"
     ]
    }
   ],
   "source": [
    "## Add the newcomer field\n",
    "recipient.df.final$newcomer <- recipient.df.final$prev_experience == 0\n",
    "\n",
    "## Update the has_email field\n",
    "recipient.df.final$has_email <- recipient.df.final$has_email == \"True\"\n",
    "\n",
    "## PREVIOUS EXPERIENCE\n",
    "print(\"prev_experience\")\n",
    "print(summary(factor(recipient.df.final$prev_experience)))\n",
    "cat(\"\\n\")\n",
    "\n",
    "## SHOW LABOR HOURS BY EXPERIENCE GROUP:\n",
    "print(\"Aggregate labor_hours_84_days_pre_sample\")\n",
    "print(aggregate(recipient.df.final[c(\"labor_hours_84_days_pre_sample\")],\n",
    "          FUN=mean, by = list(recipient.df.final$prev_experience)))\n",
    "cat(\"\\n\")\n",
    "\n",
    "print(\"NEWCOMERS AND EMAILS\")\n",
    "print(\"--------------------\")\n",
    "print(CrossTable(recipient.df.final$has_email, recipient.df.final$newcomer, \n",
    "       prop.r = FALSE, prop.c=TRUE, prop.t = FALSE, prop.chisq = FALSE))\n",
    "\n",
    "# VARIABLE: num_prev_thanks_pre_treatment\n",
    "print(\"num_prev_thanks_pre_sample\")\n",
    "print(summary(recipient.df.final$num_prev_thanks_pre_sample))\n",
    "cat(\"\\n\")\n",
    "    \n",
    "## SHOW PREVIOUS THANKS BY EXPERIENCE GROUP:\n",
    "print(\"num_prev_thanks_pre_sample by prev_experience\")\n",
    "print(aggregate(recipient.df.final[c(\"num_prev_thanks_pre_sample\")],\n",
    "      FUN=mean, by = list(recipient.df.final$prev_experience)))\n",
    "cat(\"\\n\")"
   ]
  },
  {
   "cell_type": "markdown",
   "metadata": {},
   "source": [
    "# Generate Randomization Blocks"
   ]
  },
  {
   "cell_type": "code",
   "execution_count": 31,
   "metadata": {},
   "outputs": [
    {
     "data": {
      "text/html": [
       "<ol class=list-inline>\n",
       "\t<li>'candidate_id'</li>\n",
       "\t<li>'created_at'</li>\n",
       "\t<li>'lang'</li>\n",
       "\t<li>'user_id'</li>\n",
       "\t<li>'user_name'</li>\n",
       "\t<li>'user_registration'</li>\n",
       "\t<li>'user_editcount'</li>\n",
       "\t<li>'user_editcount_quality'</li>\n",
       "\t<li>'prev_experience'</li>\n",
       "\t<li>'num_prev_thanks_pre_sample'</li>\n",
       "\t<li>'labor_hours_84_days_pre_sample'</li>\n",
       "\t<li>'has_email'</li>\n",
       "\t<li>'user_completed'</li>\n",
       "\t<li>'user_included'</li>\n",
       "\t<li>'anonymized_id'</li>\n",
       "\t<li>'newcomer'</li>\n",
       "\t<li>'lang_prev_experience'</li>\n",
       "</ol>\n"
      ],
      "text/latex": [
       "\\begin{enumerate*}\n",
       "\\item 'candidate\\_id'\n",
       "\\item 'created\\_at'\n",
       "\\item 'lang'\n",
       "\\item 'user\\_id'\n",
       "\\item 'user\\_name'\n",
       "\\item 'user\\_registration'\n",
       "\\item 'user\\_editcount'\n",
       "\\item 'user\\_editcount\\_quality'\n",
       "\\item 'prev\\_experience'\n",
       "\\item 'num\\_prev\\_thanks\\_pre\\_sample'\n",
       "\\item 'labor\\_hours\\_84\\_days\\_pre\\_sample'\n",
       "\\item 'has\\_email'\n",
       "\\item 'user\\_completed'\n",
       "\\item 'user\\_included'\n",
       "\\item 'anonymized\\_id'\n",
       "\\item 'newcomer'\n",
       "\\item 'lang\\_prev\\_experience'\n",
       "\\end{enumerate*}\n"
      ],
      "text/markdown": [
       "1. 'candidate_id'\n",
       "2. 'created_at'\n",
       "3. 'lang'\n",
       "4. 'user_id'\n",
       "5. 'user_name'\n",
       "6. 'user_registration'\n",
       "7. 'user_editcount'\n",
       "8. 'user_editcount_quality'\n",
       "9. 'prev_experience'\n",
       "10. 'num_prev_thanks_pre_sample'\n",
       "11. 'labor_hours_84_days_pre_sample'\n",
       "12. 'has_email'\n",
       "13. 'user_completed'\n",
       "14. 'user_included'\n",
       "15. 'anonymized_id'\n",
       "16. 'newcomer'\n",
       "17. 'lang_prev_experience'\n",
       "\n",
       "\n"
      ],
      "text/plain": [
       " [1] \"candidate_id\"                   \"created_at\"                    \n",
       " [3] \"lang\"                           \"user_id\"                       \n",
       " [5] \"user_name\"                      \"user_registration\"             \n",
       " [7] \"user_editcount\"                 \"user_editcount_quality\"        \n",
       " [9] \"prev_experience\"                \"num_prev_thanks_pre_sample\"    \n",
       "[11] \"labor_hours_84_days_pre_sample\" \"has_email\"                     \n",
       "[13] \"user_completed\"                 \"user_included\"                 \n",
       "[15] \"anonymized_id\"                  \"newcomer\"                      \n",
       "[17] \"lang_prev_experience\"          "
      ]
     },
     "metadata": {},
     "output_type": "display_data"
    }
   ],
   "source": [
    "recipient.df.final$lang_prev_experience <- factor(paste(recipient.df.final$lang, recipient.df.final$prev_experience))\n",
    "colnames(recipient.df.final)"
   ]
  },
  {
   "cell_type": "code",
   "execution_count": 32,
   "metadata": {},
   "outputs": [
    {
     "data": {
      "text/html": [
       "<dl class=dl-horizontal>\n",
       "\t<dt>ar 0</dt>\n",
       "\t\t<dd>200</dd>\n",
       "\t<dt>ar 1460</dt>\n",
       "\t\t<dd>36</dd>\n",
       "\t<dt>ar 180</dt>\n",
       "\t\t<dd>30</dd>\n",
       "\t<dt>ar 2920</dt>\n",
       "\t\t<dd>26</dd>\n",
       "\t<dt>ar 365</dt>\n",
       "\t\t<dd>34</dd>\n",
       "\t<dt>ar 730</dt>\n",
       "\t\t<dd>36</dd>\n",
       "\t<dt>ar 90</dt>\n",
       "\t\t<dd>30</dd>\n",
       "\t<dt>de 0</dt>\n",
       "\t\t<dd>200</dd>\n",
       "\t<dt>de 1460</dt>\n",
       "\t\t<dd>72</dd>\n",
       "\t<dt>de 180</dt>\n",
       "\t\t<dd>14</dd>\n",
       "\t<dt>de 2920</dt>\n",
       "\t\t<dd>59</dd>\n",
       "\t<dt>de 365</dt>\n",
       "\t\t<dd>17</dd>\n",
       "\t<dt>de 730</dt>\n",
       "\t\t<dd>23</dd>\n",
       "\t<dt>de 90</dt>\n",
       "\t\t<dd>7</dd>\n",
       "\t<dt>fa 0</dt>\n",
       "\t\t<dd>200</dd>\n",
       "\t<dt>fa 1460</dt>\n",
       "\t\t<dd>49</dd>\n",
       "\t<dt>fa 180</dt>\n",
       "\t\t<dd>14</dd>\n",
       "\t<dt>fa 2920</dt>\n",
       "\t\t<dd>36</dd>\n",
       "\t<dt>fa 365</dt>\n",
       "\t\t<dd>23</dd>\n",
       "\t<dt>fa 730</dt>\n",
       "\t\t<dd>52</dd>\n",
       "\t<dt>fa 90</dt>\n",
       "\t\t<dd>19</dd>\n",
       "\t<dt>pl 0</dt>\n",
       "\t\t<dd>199</dd>\n",
       "\t<dt>pl 1460</dt>\n",
       "\t\t<dd>38</dd>\n",
       "\t<dt>pl 180</dt>\n",
       "\t\t<dd>11</dd>\n",
       "\t<dt>pl 2920</dt>\n",
       "\t\t<dd>65</dd>\n",
       "\t<dt>pl 365</dt>\n",
       "\t\t<dd>26</dd>\n",
       "\t<dt>pl 730</dt>\n",
       "\t\t<dd>28</dd>\n",
       "\t<dt>pl 90</dt>\n",
       "\t\t<dd>22</dd>\n",
       "</dl>\n"
      ],
      "text/latex": [
       "\\begin{description*}\n",
       "\\item[ar 0] 200\n",
       "\\item[ar 1460] 36\n",
       "\\item[ar 180] 30\n",
       "\\item[ar 2920] 26\n",
       "\\item[ar 365] 34\n",
       "\\item[ar 730] 36\n",
       "\\item[ar 90] 30\n",
       "\\item[de 0] 200\n",
       "\\item[de 1460] 72\n",
       "\\item[de 180] 14\n",
       "\\item[de 2920] 59\n",
       "\\item[de 365] 17\n",
       "\\item[de 730] 23\n",
       "\\item[de 90] 7\n",
       "\\item[fa 0] 200\n",
       "\\item[fa 1460] 49\n",
       "\\item[fa 180] 14\n",
       "\\item[fa 2920] 36\n",
       "\\item[fa 365] 23\n",
       "\\item[fa 730] 52\n",
       "\\item[fa 90] 19\n",
       "\\item[pl 0] 199\n",
       "\\item[pl 1460] 38\n",
       "\\item[pl 180] 11\n",
       "\\item[pl 2920] 65\n",
       "\\item[pl 365] 26\n",
       "\\item[pl 730] 28\n",
       "\\item[pl 90] 22\n",
       "\\end{description*}\n"
      ],
      "text/markdown": [
       "ar 0\n",
       ":   200ar 1460\n",
       ":   36ar 180\n",
       ":   30ar 2920\n",
       ":   26ar 365\n",
       ":   34ar 730\n",
       ":   36ar 90\n",
       ":   30de 0\n",
       ":   200de 1460\n",
       ":   72de 180\n",
       ":   14de 2920\n",
       ":   59de 365\n",
       ":   17de 730\n",
       ":   23de 90\n",
       ":   7fa 0\n",
       ":   200fa 1460\n",
       ":   49fa 180\n",
       ":   14fa 2920\n",
       ":   36fa 365\n",
       ":   23fa 730\n",
       ":   52fa 90\n",
       ":   19pl 0\n",
       ":   199pl 1460\n",
       ":   38pl 180\n",
       ":   11pl 2920\n",
       ":   65pl 365\n",
       ":   26pl 730\n",
       ":   28pl 90\n",
       ":   22\n",
       "\n"
      ],
      "text/plain": [
       "   ar 0 ar 1460  ar 180 ar 2920  ar 365  ar 730   ar 90    de 0 de 1460  de 180 \n",
       "    200      36      30      26      34      36      30     200      72      14 \n",
       "de 2920  de 365  de 730   de 90    fa 0 fa 1460  fa 180 fa 2920  fa 365  fa 730 \n",
       "     59      17      23       7     200      49      14      36      23      52 \n",
       "  fa 90    pl 0 pl 1460  pl 180 pl 2920  pl 365  pl 730   pl 90 \n",
       "     19     199      38      11      65      26      28      22 "
      ]
     },
     "metadata": {},
     "output_type": "display_data"
    }
   ],
   "source": [
    "summary(recipient.df.final$lang_prev_experience)"
   ]
  },
  {
   "cell_type": "code",
   "execution_count": 33,
   "metadata": {
    "scrolled": false
   },
   "outputs": [],
   "source": [
    "## BLOCKING VARIABLES\n",
    "bv = c(\"labor_hours_84_days_pre_sample\", \"num_prev_thanks_pre_sample\")\n",
    "#bv = c(\"labor_hours_84_days_pre_sample\", \"num_prev_thanks_pre_sample\", \"has_email\")\n",
    "\n",
    "block.size = 2\n",
    "\n",
    "## TODO: CHECK TO SEE IF I CAN DO BALANCED RANDOMIZATION\n",
    "## WITHIN BLOCKS LARGER THAN 2\n",
    "blockobj = block(data=recipient.df.final,\n",
    "            n.tr = block.size,\n",
    "            groups = \"lang_prev_experience\",\n",
    "            id.vars=\"anonymized_id\",\n",
    "            block.vars = bv,\n",
    "            distance =\"mahalanobis\"\n",
    "            )\n",
    "## CHECK DISTANCES\n",
    "#print(blockobj)\n",
    "recipient.df.final$randomization_block_id <- createBlockIDs(blockobj,\n",
    "                                   data=recipient.df.final,\n",
    "                                   id.var = \"anonymized_id\")\n",
    "recipient.df.final$randomization_block_size = block.size"
   ]
  },
  {
   "cell_type": "markdown",
   "metadata": {},
   "source": [
    "### Identify Incomplete Blocks and Remove them Units in Incomplete Blocks From the Experiment"
   ]
  },
  {
   "cell_type": "code",
   "execution_count": 34,
   "metadata": {},
   "outputs": [
    {
     "data": {
      "text/html": [
       "<ol class=list-inline>\n",
       "\t<li>300</li>\n",
       "\t<li>310</li>\n",
       "\t<li>324</li>\n",
       "\t<li>328</li>\n",
       "\t<li>467</li>\n",
       "\t<li>508</li>\n",
       "\t<li>548</li>\n",
       "\t<li>659</li>\n",
       "\t<li>687</li>\n",
       "\t<li>724</li>\n",
       "</ol>\n"
      ],
      "text/latex": [
       "\\begin{enumerate*}\n",
       "\\item 300\n",
       "\\item 310\n",
       "\\item 324\n",
       "\\item 328\n",
       "\\item 467\n",
       "\\item 508\n",
       "\\item 548\n",
       "\\item 659\n",
       "\\item 687\n",
       "\\item 724\n",
       "\\end{enumerate*}\n"
      ],
      "text/markdown": [
       "1. 300\n",
       "2. 310\n",
       "3. 324\n",
       "4. 328\n",
       "5. 467\n",
       "6. 508\n",
       "7. 548\n",
       "8. 659\n",
       "9. 687\n",
       "10. 724\n",
       "\n",
       "\n"
      ],
      "text/plain": [
       " [1] 300 310 324 328 467 508 548 659 687 724"
      ]
     },
     "metadata": {},
     "output_type": "display_data"
    }
   ],
   "source": [
    "block.freq <- Freq(factor(recipient.df.final$randomization_block_id))\n",
    "incomplete.blocks <- as.integer(subset(block.freq, freq == 1)$level)\n",
    "incomplete.blocks"
   ]
  },
  {
   "cell_type": "code",
   "execution_count": 35,
   "metadata": {},
   "outputs": [],
   "source": [
    "# removed.observations <- subset(recipient.df.final, (\n",
    "#     randomization_block_id %in% incomplete.blocks)==TRUE)\n",
    "\n",
    "# recipient.df.final <- \n",
    "#     subset(recipient.df.final, (\n",
    "#         randomization_block_id %in% incomplete.blocks)!=TRUE)\n",
    "\n",
    "# print(paste(\"Removed\", nrow(removed.observations), \"units placed in incomplete blocks.\"))"
   ]
  },
  {
   "cell_type": "markdown",
   "metadata": {},
   "source": [
    "# Generate Randomizations"
   ]
  },
  {
   "cell_type": "code",
   "execution_count": 36,
   "metadata": {},
   "outputs": [],
   "source": [
    "## Seed generated by Brooklyn Integers\n",
    "# https://www.brooklynintegers.com/int/1377549523/\n",
    "set.seed(1377549523)"
   ]
  },
  {
   "cell_type": "code",
   "execution_count": 37,
   "metadata": {},
   "outputs": [],
   "source": [
    "assignments <- block_ra(blocks=recipient.df.final$randomization_block_id, \n",
    "                            num_arms = 2, conditions = c(0,1))\n",
    "recipient.df.final$randomization_arm <- assignments "
   ]
  },
  {
   "cell_type": "markdown",
   "metadata": {},
   "source": [
    "### Check Balance"
   ]
  },
  {
   "cell_type": "code",
   "execution_count": 38,
   "metadata": {
    "scrolled": false
   },
   "outputs": [
    {
     "name": "stdout",
     "output_type": "stream",
     "text": [
      "[1] \"Aggregating labor hours by treatment\"\n",
      "  Group.1 labor_hours_84_days_pre_sample\n",
      "1       0                          13.87\n",
      "2       1                          13.92\n",
      "[1] \"CrossTable of lang by treatment\"\n",
      "\n",
      " \n",
      "   Cell Contents\n",
      "|-------------------------|\n",
      "|                       N |\n",
      "|           N / Row Total |\n",
      "|-------------------------|\n",
      "\n",
      " \n",
      "Total Observations in Table:  1566 \n",
      "\n",
      " \n",
      "                        | recipient.df.final$randomization_arm \n",
      "recipient.df.final$lang |         0 |         1 | Row Total | \n",
      "------------------------|-----------|-----------|-----------|\n",
      "                     ar |       196 |       196 |       392 | \n",
      "                        |     0.500 |     0.500 |     0.250 | \n",
      "------------------------|-----------|-----------|-----------|\n",
      "                     de |       195 |       197 |       392 | \n",
      "                        |     0.497 |     0.503 |     0.250 | \n",
      "------------------------|-----------|-----------|-----------|\n",
      "                     fa |       197 |       196 |       393 | \n",
      "                        |     0.501 |     0.499 |     0.251 | \n",
      "------------------------|-----------|-----------|-----------|\n",
      "                     pl |       195 |       194 |       389 | \n",
      "                        |     0.501 |     0.499 |     0.248 | \n",
      "------------------------|-----------|-----------|-----------|\n",
      "           Column Total |       783 |       783 |      1566 | \n",
      "------------------------|-----------|-----------|-----------|\n",
      "\n",
      " \n",
      "[1] \"CrossTable of lang_prev_experience by treatment\"\n",
      "\n",
      " \n",
      "   Cell Contents\n",
      "|-------------------------|\n",
      "|                       N |\n",
      "|           N / Row Total |\n",
      "|-------------------------|\n",
      "\n",
      " \n",
      "Total Observations in Table:  1566 \n",
      "\n",
      " \n",
      "                                        | recipient.df.final$randomization_arm \n",
      "recipient.df.final$lang_prev_experience |         0 |         1 | Row Total | \n",
      "----------------------------------------|-----------|-----------|-----------|\n",
      "                                   ar 0 |       100 |       100 |       200 | \n",
      "                                        |     0.500 |     0.500 |     0.128 | \n",
      "----------------------------------------|-----------|-----------|-----------|\n",
      "                                ar 1460 |        18 |        18 |        36 | \n",
      "                                        |     0.500 |     0.500 |     0.023 | \n",
      "----------------------------------------|-----------|-----------|-----------|\n",
      "                                 ar 180 |        15 |        15 |        30 | \n",
      "                                        |     0.500 |     0.500 |     0.019 | \n",
      "----------------------------------------|-----------|-----------|-----------|\n",
      "                                ar 2920 |        13 |        13 |        26 | \n",
      "                                        |     0.500 |     0.500 |     0.017 | \n",
      "----------------------------------------|-----------|-----------|-----------|\n",
      "                                 ar 365 |        17 |        17 |        34 | \n",
      "                                        |     0.500 |     0.500 |     0.022 | \n",
      "----------------------------------------|-----------|-----------|-----------|\n",
      "                                 ar 730 |        18 |        18 |        36 | \n",
      "                                        |     0.500 |     0.500 |     0.023 | \n",
      "----------------------------------------|-----------|-----------|-----------|\n",
      "                                  ar 90 |        15 |        15 |        30 | \n",
      "                                        |     0.500 |     0.500 |     0.019 | \n",
      "----------------------------------------|-----------|-----------|-----------|\n",
      "                                   de 0 |       100 |       100 |       200 | \n",
      "                                        |     0.500 |     0.500 |     0.128 | \n",
      "----------------------------------------|-----------|-----------|-----------|\n",
      "                                de 1460 |        36 |        36 |        72 | \n",
      "                                        |     0.500 |     0.500 |     0.046 | \n",
      "----------------------------------------|-----------|-----------|-----------|\n",
      "                                 de 180 |         7 |         7 |        14 | \n",
      "                                        |     0.500 |     0.500 |     0.009 | \n",
      "----------------------------------------|-----------|-----------|-----------|\n",
      "                                de 2920 |        29 |        30 |        59 | \n",
      "                                        |     0.492 |     0.508 |     0.038 | \n",
      "----------------------------------------|-----------|-----------|-----------|\n",
      "                                 de 365 |         8 |         9 |        17 | \n",
      "                                        |     0.471 |     0.529 |     0.011 | \n",
      "----------------------------------------|-----------|-----------|-----------|\n",
      "                                 de 730 |        11 |        12 |        23 | \n",
      "                                        |     0.478 |     0.522 |     0.015 | \n",
      "----------------------------------------|-----------|-----------|-----------|\n",
      "                                  de 90 |         4 |         3 |         7 | \n",
      "                                        |     0.571 |     0.429 |     0.004 | \n",
      "----------------------------------------|-----------|-----------|-----------|\n",
      "                                   fa 0 |       100 |       100 |       200 | \n",
      "                                        |     0.500 |     0.500 |     0.128 | \n",
      "----------------------------------------|-----------|-----------|-----------|\n",
      "                                fa 1460 |        24 |        25 |        49 | \n",
      "                                        |     0.490 |     0.510 |     0.031 | \n",
      "----------------------------------------|-----------|-----------|-----------|\n",
      "                                 fa 180 |         7 |         7 |        14 | \n",
      "                                        |     0.500 |     0.500 |     0.009 | \n",
      "----------------------------------------|-----------|-----------|-----------|\n",
      "                                fa 2920 |        18 |        18 |        36 | \n",
      "                                        |     0.500 |     0.500 |     0.023 | \n",
      "----------------------------------------|-----------|-----------|-----------|\n",
      "                                 fa 365 |        12 |        11 |        23 | \n",
      "                                        |     0.522 |     0.478 |     0.015 | \n",
      "----------------------------------------|-----------|-----------|-----------|\n",
      "                                 fa 730 |        26 |        26 |        52 | \n",
      "                                        |     0.500 |     0.500 |     0.033 | \n",
      "----------------------------------------|-----------|-----------|-----------|\n",
      "                                  fa 90 |        10 |         9 |        19 | \n",
      "                                        |     0.526 |     0.474 |     0.012 | \n",
      "----------------------------------------|-----------|-----------|-----------|\n",
      "                                   pl 0 |       100 |        99 |       199 | \n",
      "                                        |     0.503 |     0.497 |     0.127 | \n",
      "----------------------------------------|-----------|-----------|-----------|\n",
      "                                pl 1460 |        19 |        19 |        38 | \n",
      "                                        |     0.500 |     0.500 |     0.024 | \n",
      "----------------------------------------|-----------|-----------|-----------|\n",
      "                                 pl 180 |         5 |         6 |        11 | \n",
      "                                        |     0.455 |     0.545 |     0.007 | \n",
      "----------------------------------------|-----------|-----------|-----------|\n",
      "                                pl 2920 |        33 |        32 |        65 | \n",
      "                                        |     0.508 |     0.492 |     0.042 | \n",
      "----------------------------------------|-----------|-----------|-----------|\n",
      "                                 pl 365 |        13 |        13 |        26 | \n",
      "                                        |     0.500 |     0.500 |     0.017 | \n",
      "----------------------------------------|-----------|-----------|-----------|\n",
      "                                 pl 730 |        14 |        14 |        28 | \n",
      "                                        |     0.500 |     0.500 |     0.018 | \n",
      "----------------------------------------|-----------|-----------|-----------|\n",
      "                                  pl 90 |        11 |        11 |        22 | \n",
      "                                        |     0.500 |     0.500 |     0.014 | \n",
      "----------------------------------------|-----------|-----------|-----------|\n",
      "                           Column Total |       783 |       783 |      1566 | \n",
      "----------------------------------------|-----------|-----------|-----------|\n",
      "\n",
      " \n"
     ]
    }
   ],
   "source": [
    "print(\"Aggregating labor hours by treatment\")\n",
    "print(aggregate(recipient.df.final[c(\"labor_hours_84_days_pre_sample\")],\n",
    "          FUN=mean, by = list(recipient.df.final$randomization_arm)))\n",
    "\n",
    "print(\"CrossTable of lang by treatment\")\n",
    "CrossTable(recipient.df.final$lang, recipient.df.final$randomization_arm, \n",
    "       prop.r = TRUE, prop.c=FALSE, prop.t = FALSE, prop.chisq = FALSE)\n",
    "\n",
    "print(\"CrossTable of lang_prev_experience by treatment\")\n",
    "CrossTable(recipient.df.final$lang_prev_experience, recipient.df.final$randomization_arm, \n",
    "       prop.r = TRUE, prop.c=FALSE, prop.t = FALSE, prop.chisq = FALSE)\n"
   ]
  },
  {
   "cell_type": "markdown",
   "metadata": {},
   "source": [
    "# Output and Archive Randomizations"
   ]
  },
  {
   "cell_type": "code",
   "execution_count": 40,
   "metadata": {},
   "outputs": [],
   "source": [
    "randomization.filename <- paste(\"thanks-recipient-randomizations-\", format(Sys.Date(), format=\"%Y%m%d\"), \".csv\", sep=\"\") \n",
    "write.csv(recipient.df.final, file = file.path(data.path, randomization.filename))"
   ]
  },
  {
   "cell_type": "code",
   "execution_count": 43,
   "metadata": {},
   "outputs": [],
   "source": [
    "#colnames(recipient.df.final)"
   ]
  },
  {
   "cell_type": "code",
   "execution_count": null,
   "metadata": {},
   "outputs": [],
   "source": []
  }
 ],
 "metadata": {
  "kernelspec": {
   "display_name": "R",
   "language": "R",
   "name": "ir"
  },
  "language_info": {
   "codemirror_mode": "r",
   "file_extension": ".r",
   "mimetype": "text/x-r-source",
   "name": "R",
   "pygments_lexer": "r",
   "version": "3.5.1"
  }
 },
 "nbformat": 4,
 "nbformat_minor": 2
}
