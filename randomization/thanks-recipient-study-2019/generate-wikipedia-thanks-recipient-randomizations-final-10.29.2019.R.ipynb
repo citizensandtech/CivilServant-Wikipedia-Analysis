{
 "cells": [
  {
   "cell_type": "markdown",
   "metadata": {},
   "source": [
    "# Wikipedia Thanks-Receiver Study Randomization \n",
    "[J. Nathan Matias](https://twitter.com/natematias)\n",
    "October 29, 2019\n",
    "\n",
    "This code takes as input data described in the [randomization data format](https://docs.google.com/document/d/1plhoDbQryYQ32vZMXu8YmlLSp30QTdup43k6uTePOT4/edit?usp=drive_web&ouid=117701977297551627494) and produces randomizations for the Thanks Recipient study.\n",
    "\n",
    "Notes:\n",
    "* We use the 99% confidence interval cutoffs from our first sample rather than relative to each subsequent sample\n",
    "    * Polish Experienced: 235.380736142341\n",
    "    * Polish Newcomer: 72.2118047599678\n",
    "    * Arabic Newcomer: 54.7365066602131\n",
    "    * German Newcomer: 63.3678642498622\n",
    "* We will be drawing only 300 Polish accounts"
   ]
  },
  {
   "cell_type": "code",
   "execution_count": 1,
   "metadata": {},
   "outputs": [
    {
     "name": "stderr",
     "output_type": "stream",
     "text": [
      "── Attaching packages ─────────────────────────────────────── tidyverse 1.2.1 ──\n",
      "✔ tibble  1.4.2     ✔ purrr   0.2.5\n",
      "✔ tidyr   0.8.2     ✔ dplyr   0.7.8\n",
      "✔ readr   1.2.1     ✔ stringr 1.3.1\n",
      "✔ tibble  1.4.2     ✔ forcats 0.3.0\n",
      "── Conflicts ────────────────────────────────────────── tidyverse_conflicts() ──\n",
      "✖ purrr::%||%()        masks rlang::%||%()\n",
      "✖ purrr::%@%()         masks rlang::%@%()\n",
      "✖ purrr::as_function() masks rlang::as_function()\n",
      "✖ dplyr::filter()      masks stats::filter()\n",
      "✖ purrr::flatten()     masks rlang::flatten()\n",
      "✖ purrr::flatten_chr() masks rlang::flatten_chr()\n",
      "✖ purrr::flatten_dbl() masks rlang::flatten_dbl()\n",
      "✖ purrr::flatten_int() masks rlang::flatten_int()\n",
      "✖ purrr::flatten_lgl() masks rlang::flatten_lgl()\n",
      "✖ purrr::invoke()      masks rlang::invoke()\n",
      "✖ dplyr::lag()         masks stats::lag()\n",
      "✖ purrr::list_along()  masks rlang::list_along()\n",
      "✖ purrr::modify()      masks rlang::modify()\n",
      "✖ purrr::rep_along()   masks rlang::rep_along()\n",
      "✖ purrr::splice()      masks rlang::splice()\n",
      "Loading required package: viridisLite\n",
      "Loading required package: randomizr\n",
      "Loading required package: fabricatr\n",
      "Loading required package: estimatr\n"
     ]
    },
    {
     "data": {
      "text/plain": [
       "R version 3.5.1 (2018-07-02)\n",
       "Platform: x86_64-pc-linux-gnu (64-bit)\n",
       "Running under: Ubuntu 16.04.5 LTS\n",
       "\n",
       "Matrix products: default\n",
       "BLAS: /usr/lib/libblas/libblas.so.3.6.0\n",
       "LAPACK: /usr/lib/lapack/liblapack.so.3.6.0\n",
       "\n",
       "locale:\n",
       " [1] LC_CTYPE=en_US.UTF-8       LC_NUMERIC=C              \n",
       " [3] LC_TIME=en_US.UTF-8        LC_COLLATE=en_US.UTF-8    \n",
       " [5] LC_MONETARY=en_US.UTF-8    LC_MESSAGES=en_US.UTF-8   \n",
       " [7] LC_PAPER=en_US.UTF-8       LC_NAME=C                 \n",
       " [9] LC_ADDRESS=C               LC_TELEPHONE=C            \n",
       "[11] LC_MEASUREMENT=en_US.UTF-8 LC_IDENTIFICATION=C       \n",
       "\n",
       "attached base packages:\n",
       "[1] stats     graphics  grDevices utils     datasets  methods   base     \n",
       "\n",
       "other attached packages:\n",
       " [1] uuid_0.1-2           DescTools_0.99.28    DeclareDesign_0.12.0\n",
       " [4] estimatr_0.14        fabricatr_0.6.0      randomizr_0.16.1    \n",
       " [7] gmodels_2.18.1       blockrand_1.3        blockTools_0.6-3    \n",
       "[10] viridis_0.5.1        viridisLite_0.3.0    forcats_0.3.0       \n",
       "[13] stringr_1.3.1        dplyr_0.7.8          purrr_0.2.5         \n",
       "[16] readr_1.2.1          tidyr_0.8.2          tibble_1.4.2        \n",
       "[19] tidyverse_1.2.1      rlang_0.3.0.1        ggplot2_3.1.0       \n",
       "\n",
       "loaded via a namespace (and not attached):\n",
       " [1] Rcpp_1.0.0       mvtnorm_1.0-8    lubridate_1.7.4  lattice_0.20-38 \n",
       " [5] gtools_3.8.1     assertthat_0.2.0 digest_0.6.18    IRdisplay_0.7.0 \n",
       " [9] R6_2.3.0         cellranger_1.1.0 plyr_1.8.4       repr_0.18       \n",
       "[13] backports_1.1.2  evaluate_0.12    httr_1.3.1       pillar_1.3.0    \n",
       "[17] lazyeval_0.2.1   readxl_1.1.0     rstudioapi_0.8   gdata_2.18.0    \n",
       "[21] Matrix_1.2-15    foreign_0.8-71   munsell_0.5.0    broom_0.5.1     \n",
       "[25] compiler_3.5.1   modelr_0.1.2     pkgconfig_2.0.2  base64enc_0.1-3 \n",
       "[29] manipulate_1.0.1 htmltools_0.3.6  tidyselect_0.2.5 expm_0.999-4    \n",
       "[33] gridExtra_2.3    crayon_1.3.4     withr_2.1.2      MASS_7.3-51.1   \n",
       "[37] grid_3.5.1       nlme_3.1-137     jsonlite_1.6     gtable_0.2.0    \n",
       "[41] magrittr_1.5     scales_1.0.0     cli_1.0.1        stringi_1.2.4   \n",
       "[45] bindrcpp_0.2.2   xml2_1.2.0       generics_0.0.2   boot_1.3-20     \n",
       "[49] IRkernel_0.8.14  Formula_1.2-3    tools_3.5.1      glue_1.3.0      \n",
       "[53] hms_0.4.2        colorspace_1.3-2 rvest_0.3.2      pbdZMQ_0.3-3    \n",
       "[57] bindr_0.1.1      haven_2.0.0     "
      ]
     },
     "metadata": {},
     "output_type": "display_data"
    }
   ],
   "source": [
    "options(\"scipen\"=9, \"digits\"=4)\n",
    "library(ggplot2)\n",
    "library(rlang)\n",
    "library(tidyverse)\n",
    "library(viridis)\n",
    "library(blockTools)\n",
    "library(blockrand)\n",
    "library(gmodels) # contains CrossTable\n",
    "library(DeclareDesign)\n",
    "library(DescTools) # contains Freq\n",
    "library(uuid)\n",
    "options(repr.plot.width=7, repr.plot.height=3.5)\n",
    "sessionInfo()"
   ]
  },
  {
   "cell_type": "markdown",
   "metadata": {},
   "source": [
    "# Load Input Dataframe"
   ]
  },
  {
   "cell_type": "code",
   "execution_count": 2,
   "metadata": {},
   "outputs": [],
   "source": [
    "filename <- \"all-thankees-historical-20191029.csv\"\n",
    "data.path <- \"/home/civilservant/Tresors/CivilServant/projects/wikipedia-integration/gratitude-study/Data Drills/thankee\"\n",
    "recipient.df <- read.csv(file.path(data.path, \"historical_output\", filename))"
   ]
  },
  {
   "cell_type": "markdown",
   "metadata": {},
   "source": [
    "### Load Participants in the Thanker Study"
   ]
  },
  {
   "cell_type": "code",
   "execution_count": 3,
   "metadata": {},
   "outputs": [],
   "source": [
    "thanker.df <- read.csv(file.path(data.path, \"..\", \"thanker_hardlaunch\", \"randomization_output\",\n",
    "                                 \"all-thanker-randomization-final-20190729.csv\"))\n",
    "usernames.to.exclude <- thanker.df$user_name"
   ]
  },
  {
   "cell_type": "markdown",
   "metadata": {},
   "source": [
    "###  Load Liaison Usernames"
   ]
  },
  {
   "cell_type": "code",
   "execution_count": 4,
   "metadata": {},
   "outputs": [],
   "source": [
    "liaison.df <- read.csv(file.path(data.path, \"..\", \"thanker_hardlaunch\", \"randomization_output\",\n",
    "                                 \"liason-thanker-randomization-datadrill-20190718.csv\"))"
   ]
  },
  {
   "cell_type": "code",
   "execution_count": 5,
   "metadata": {},
   "outputs": [
    {
     "name": "stdout",
     "output_type": "stream",
     "text": [
      "[1] \"462 usernames to exclude\"\n"
     ]
    }
   ],
   "source": [
    "usernames.to.exclude <- append(as.character(usernames.to.exclude), as.character(liaison.df$user_name))\n",
    "print(paste(length(usernames.to.exclude), \"usernames to exclude\"))"
   ]
  },
  {
   "cell_type": "markdown",
   "metadata": {},
   "source": [
    "### Adjust Column Names to Match Thankee Randomization Specification"
   ]
  },
  {
   "cell_type": "code",
   "execution_count": 6,
   "metadata": {},
   "outputs": [],
   "source": [
    "recipient.df$prev_experience <- factor(as.integer(gsub(\"bin_\", \"\", recipient.df$prev_experience)))\n",
    "recipient.df$anonymized_id <- sapply( seq_along(1:nrow(recipient.df)), UUIDgenerate )\n",
    "recipient.df$newcomer <- recipient.df$prev_experience == 0 \n",
    "recipient.df <- subset(recipient.df, lang!=\"en\")\n",
    "#recipient.df <- subset(recipient.df, user_editcount_quality >=4 )"
   ]
  },
  {
   "cell_type": "code",
   "execution_count": 7,
   "metadata": {},
   "outputs": [
    {
     "data": {
      "image/png": "[encoded data removed]",
      "text/plain": [
       "Plot with title “Histogram of recipient.df$user_editcount_quality”"
      ]
     },
     "metadata": {},
     "output_type": "display_data"
    }
   ],
   "source": [
    "hist(recipient.df$user_editcount_quality)"
   ]
  },
  {
   "cell_type": "markdown",
   "metadata": {},
   "source": [
    "# Confirm the number of participants"
   ]
  },
  {
   "cell_type": "code",
   "execution_count": 8,
   "metadata": {},
   "outputs": [
    {
     "name": "stdout",
     "output_type": "stream",
     "text": [
      "[1] \"Newcomer Participants to Randomize\"\n"
     ]
    },
    {
     "data": {
      "text/html": [
       "<dl class=dl-horizontal>\n",
       "\t<dt>ar</dt>\n",
       "\t\t<dd>743</dd>\n",
       "\t<dt>de</dt>\n",
       "\t\t<dd>1565</dd>\n",
       "\t<dt>pl</dt>\n",
       "\t\t<dd>442</dd>\n",
       "</dl>\n"
      ],
      "text/latex": [
       "\\begin{description*}\n",
       "\\item[ar] 743\n",
       "\\item[de] 1565\n",
       "\\item[pl] 442\n",
       "\\end{description*}\n"
      ],
      "text/markdown": [
       "ar\n",
       ":   743de\n",
       ":   1565pl\n",
       ":   442\n",
       "\n"
      ],
      "text/plain": [
       "  ar   de   pl \n",
       " 743 1565  442 "
      ]
     },
     "metadata": {},
     "output_type": "display_data"
    }
   ],
   "source": [
    "print(\"Newcomer Participants to Randomize\")\n",
    "summary(subset(recipient.df, newcomer == 1)$lang)"
   ]
  },
  {
   "cell_type": "code",
   "execution_count": 9,
   "metadata": {},
   "outputs": [
    {
     "name": "stdout",
     "output_type": "stream",
     "text": [
      "[1] \"Experienced Participants to Randomize\"\n"
     ]
    },
    {
     "data": {
      "text/html": [
       "<dl class=dl-horizontal>\n",
       "\t<dt>ar</dt>\n",
       "\t\t<dd>0</dd>\n",
       "\t<dt>de</dt>\n",
       "\t\t<dd>0</dd>\n",
       "\t<dt>pl</dt>\n",
       "\t\t<dd>512</dd>\n",
       "</dl>\n"
      ],
      "text/latex": [
       "\\begin{description*}\n",
       "\\item[ar] 0\n",
       "\\item[de] 0\n",
       "\\item[pl] 512\n",
       "\\end{description*}\n"
      ],
      "text/markdown": [
       "ar\n",
       ":   0de\n",
       ":   0pl\n",
       ":   512\n",
       "\n"
      ],
      "text/plain": [
       " ar  de  pl \n",
       "  0   0 512 "
      ]
     },
     "metadata": {},
     "output_type": "display_data"
    }
   ],
   "source": [
    "## Polish Experienced Accounts\n",
    "print(\"Experienced Participants to Randomize\")\n",
    "summary(subset(recipient.df, newcomer == 0)$lang)"
   ]
  },
  {
   "cell_type": "markdown",
   "metadata": {},
   "source": [
    "# Omit Participants"
   ]
  },
  {
   "cell_type": "markdown",
   "metadata": {},
   "source": [
    "### Omit Participants in the Thanker Study"
   ]
  },
  {
   "cell_type": "code",
   "execution_count": 10,
   "metadata": {},
   "outputs": [
    {
     "name": "stdout",
     "output_type": "stream",
     "text": [
      "[1] \"3262 participants before removing thankers\"\n",
      "[1] \"3262 participants after removing thankers\"\n"
     ]
    }
   ],
   "source": [
    "print(paste(nrow(recipient.df), \"participants before removing thankers\"))\n",
    "recipient.df <- subset(recipient.df, (user_name %in% usernames.to.exclude)!=TRUE)\n",
    "print(paste(nrow(recipient.df), \"participants after removing thankers\"))                                      "
   ]
  },
  {
   "cell_type": "markdown",
   "metadata": {},
   "source": [
    "### Subset values outside the 99% confidence intervals\n",
    "We are using upper confidence intervals from the first randomization, found at [generate-wikipedia-thanks-recipient-randomizations-final-07.28.3019](generate-wikipedia-thanks-recipient-randomizations-final-07.28.3019.R.ipynb)\n",
    "    * Polish Experienced: 235.380736142341\n",
    "    * Polish Newcomer: 72.2118047599678\n",
    "    * Arabic Newcomer: 54.7365066602131\n",
    "    * German Newcomer: 63.3678642498622"
   ]
  },
  {
   "cell_type": "code",
   "execution_count": 11,
   "metadata": {},
   "outputs": [],
   "source": [
    "upper.conf.ints <- data.frame(lang=c(\"pl\", \"pl\", \"de\", \"ar\"),\n",
    "                              newcomer=c(0,1,1,1),\n",
    "                              conf.int = c(\n",
    "                                  235.380736142341,\n",
    "                                  72.2118047599678,\n",
    "                                  54.7365066602131,\n",
    "                                  63.3678642498622\n",
    "                              ))"
   ]
  },
  {
   "cell_type": "code",
   "execution_count": 12,
   "metadata": {},
   "outputs": [
    {
     "data": {
      "text/html": [
       "<table>\n",
       "<thead><tr><th scope=col>lang</th><th scope=col>newcomer</th><th scope=col>conf.int</th></tr></thead>\n",
       "<tbody>\n",
       "\t<tr><td>pl    </td><td>0     </td><td>235.38</td></tr>\n",
       "\t<tr><td>pl    </td><td>1     </td><td> 72.21</td></tr>\n",
       "\t<tr><td>de    </td><td>1     </td><td> 54.74</td></tr>\n",
       "\t<tr><td>ar    </td><td>1     </td><td> 63.37</td></tr>\n",
       "</tbody>\n",
       "</table>\n"
      ],
      "text/latex": [
       "\\begin{tabular}{r|lll}\n",
       " lang & newcomer & conf.int\\\\\n",
       "\\hline\n",
       "\t pl     & 0      & 235.38\\\\\n",
       "\t pl     & 1      &  72.21\\\\\n",
       "\t de     & 1      &  54.74\\\\\n",
       "\t ar     & 1      &  63.37\\\\\n",
       "\\end{tabular}\n"
      ],
      "text/markdown": [
       "\n",
       "lang | newcomer | conf.int | \n",
       "|---|---|---|---|\n",
       "| pl     | 0      | 235.38 | \n",
       "| pl     | 1      |  72.21 | \n",
       "| de     | 1      |  54.74 | \n",
       "| ar     | 1      |  63.37 | \n",
       "\n",
       "\n"
      ],
      "text/plain": [
       "  lang newcomer conf.int\n",
       "1 pl   0        235.38  \n",
       "2 pl   1         72.21  \n",
       "3 de   1         54.74  \n",
       "4 ar   1         63.37  "
      ]
     },
     "metadata": {},
     "output_type": "display_data"
    }
   ],
   "source": [
    "upper.conf.ints\n",
    "#subset(upper.conf.ints, lang==\"pl\" & newcomer ==1)$conf.int"
   ]
  },
  {
   "cell_type": "code",
   "execution_count": 13,
   "metadata": {},
   "outputs": [
    {
     "name": "stdout",
     "output_type": "stream",
     "text": [
      "[1] \"Language:  ar\"\n",
      "[1] \"  newcomer: FALSE\"\n",
      "[1] \"      0 rows from original dataset\"\n",
      "[1] \"      99% confidence intervals:\"\n",
      "[1] \"          upper: \"\n",
      "[1] \"      Removing 0 outliers observations because labor_hours_84_days_pre_sample is an outlier.\"\n",
      "[1] \"      0 rows in trimmed dataset\"\n",
      "[1] \"  newcomer: TRUE\"\n",
      "[1] \"      743 rows from original dataset\"\n",
      "[1] \"      99% confidence intervals:\"\n",
      "[1] \"          upper: 63.3678642498622\"\n",
      "[1] \"      Removing 8 outliers observations because labor_hours_84_days_pre_sample is an outlier.\"\n",
      "[1] \"      735 rows in trimmed dataset\"\n",
      "[1] \"Language:  de\"\n",
      "[1] \"  newcomer: FALSE\"\n",
      "[1] \"      0 rows from original dataset\"\n",
      "[1] \"      99% confidence intervals:\"\n",
      "[1] \"          upper: \"\n",
      "[1] \"      Removing 0 outliers observations because labor_hours_84_days_pre_sample is an outlier.\"\n",
      "[1] \"      0 rows in trimmed dataset\"\n",
      "[1] \"  newcomer: TRUE\"\n",
      "[1] \"      1565 rows from original dataset\"\n",
      "[1] \"      99% confidence intervals:\"\n",
      "[1] \"          upper: 54.7365066602131\"\n",
      "[1] \"      Removing 37 outliers observations because labor_hours_84_days_pre_sample is an outlier.\"\n",
      "[1] \"      1528 rows in trimmed dataset\"\n",
      "[1] \"Language:  fa\"\n",
      "[1] \"  newcomer: FALSE\"\n",
      "[1] \"      0 rows from original dataset\"\n",
      "[1] \"      99% confidence intervals:\"\n",
      "[1] \"          upper: \"\n",
      "[1] \"      Removing 0 outliers observations because labor_hours_84_days_pre_sample is an outlier.\"\n",
      "[1] \"      0 rows in trimmed dataset\"\n",
      "[1] \"  newcomer: TRUE\"\n",
      "[1] \"      0 rows from original dataset\"\n",
      "[1] \"      99% confidence intervals:\"\n",
      "[1] \"          upper: \"\n",
      "[1] \"      Removing 0 outliers observations because labor_hours_84_days_pre_sample is an outlier.\"\n",
      "[1] \"      0 rows in trimmed dataset\"\n",
      "[1] \"Language:  pl\"\n",
      "[1] \"  newcomer: FALSE\"\n",
      "[1] \"      512 rows from original dataset\"\n",
      "[1] \"      99% confidence intervals:\"\n",
      "[1] \"          upper: 235.380736142341\"\n",
      "[1] \"      Removing 1 outliers observations because labor_hours_84_days_pre_sample is an outlier.\"\n",
      "[1] \"      511 rows in trimmed dataset\"\n",
      "[1] \"  newcomer: TRUE\"\n",
      "[1] \"      442 rows from original dataset\"\n",
      "[1] \"      99% confidence intervals:\"\n",
      "[1] \"          upper: 72.2118047599678\"\n",
      "[1] \"      Removing 7 outliers observations because labor_hours_84_days_pre_sample is an outlier.\"\n",
      "[1] \"      435 rows in trimmed dataset\"\n"
     ]
    }
   ],
   "source": [
    "## CREATE A PLACEHOLDER WITH ZERO ROWS\n",
    "## BEFORE ITERATING\n",
    "recipient.trimmed.df <- recipient.df[0,]\n",
    "\n",
    "for(l in c(\"ar\", \"de\", \"fa\", \"pl\")){\n",
    "    print(paste(\"Language: \", l))\n",
    "    for(n in c(0,1)){\n",
    "        print(paste(\"  newcomer:\", n == 1))\n",
    "        lang.df <- subset(recipient.df, lang==l & newcomer == n)\n",
    "        print(paste( \"     \", nrow(lang.df), \"rows from original dataset\"))\n",
    "        prev.conf.int <- subset(upper.conf.ints, lang==l & newcomer ==n)$conf.int\n",
    "\n",
    "        print(      \"      99% confidence intervals:\")\n",
    "        print(paste(\"          upper: \", prev.conf.int ,sep=\"\"))\n",
    "        \n",
    "        print(paste(\"      Removing\", \n",
    "            nrow(subset(lang.df,\n",
    "                        labor_hours_84_days_pre_sample > prev.conf.int)), \"outliers\",\n",
    "           \"observations because labor_hours_84_days_pre_sample is an outlier.\"))\n",
    "        lang.subset.df <- subset(lang.df, labor_hours_84_days_pre_sample <= prev.conf.int)\n",
    "        print(paste( \"     \", nrow(lang.subset.df), \"rows in trimmed dataset\"))\n",
    "        recipient.trimmed.df <- rbind(recipient.trimmed.df, lang.subset.df)\n",
    "    }\n",
    "}\n",
    "\n",
    "recipient.df.penultimate <- recipient.trimmed.df"
   ]
  },
  {
   "cell_type": "markdown",
   "metadata": {},
   "source": [
    "# Review and Generate Variables"
   ]
  },
  {
   "cell_type": "code",
   "execution_count": 14,
   "metadata": {},
   "outputs": [
    {
     "name": "stdout",
     "output_type": "stream",
     "text": [
      "  Group.1 labor_hours_84_days_pre_sample\n",
      "1       0                          5.878\n",
      "2      90                          4.519\n",
      "3     180                          8.063\n",
      "4     365                          5.797\n",
      "5     730                          5.354\n",
      "6    1460                          5.866\n",
      "7    2920                          8.791\n"
     ]
    }
   ],
   "source": [
    "print(aggregate(recipient.df.penultimate[c(\"labor_hours_84_days_pre_sample\")],\n",
    "          FUN=mean, by = list(recipient.df.penultimate$prev_experience)))"
   ]
  },
  {
   "cell_type": "code",
   "execution_count": 15,
   "metadata": {},
   "outputs": [
    {
     "name": "stdout",
     "output_type": "stream",
     "text": [
      "\n",
      " \n",
      "   Cell Contents\n",
      "|-------------------------|\n",
      "|                       N |\n",
      "|           N / Col Total |\n",
      "|-------------------------|\n",
      "\n",
      " \n",
      "Total Observations in Table:  3209 \n",
      "\n",
      " \n",
      "                                   | recipient.df.penultimate$newcomer \n",
      "recipient.df.penultimate$has_email |     FALSE |      TRUE | Row Total | \n",
      "-----------------------------------|-----------|-----------|-----------|\n",
      "                             False |        20 |        18 |        38 | \n",
      "                                   |     0.039 |     0.007 |           | \n",
      "-----------------------------------|-----------|-----------|-----------|\n",
      "                              True |       491 |      2680 |      3171 | \n",
      "                                   |     0.961 |     0.993 |           | \n",
      "-----------------------------------|-----------|-----------|-----------|\n",
      "                      Column Total |       511 |      2698 |      3209 | \n",
      "                                   |     0.159 |     0.841 |           | \n",
      "-----------------------------------|-----------|-----------|-----------|\n",
      "\n",
      " \n",
      "$t\n",
      "       y\n",
      "x       FALSE TRUE\n",
      "  False    20   18\n",
      "  True    491 2680\n",
      "\n",
      "$prop.row\n",
      "       y\n",
      "x        FALSE   TRUE\n",
      "  False 0.5263 0.4737\n",
      "  True  0.1548 0.8452\n",
      "\n",
      "$prop.col\n",
      "       y\n",
      "x          FALSE     TRUE\n",
      "  False 0.039139 0.006672\n",
      "  True  0.960861 0.993328\n",
      "\n",
      "$prop.tbl\n",
      "       y\n",
      "x          FALSE     TRUE\n",
      "  False 0.006232 0.005609\n",
      "  True  0.153007 0.835151\n",
      "\n"
     ]
    }
   ],
   "source": [
    "print(CrossTable(recipient.df.penultimate$has_email, recipient.df.penultimate$newcomer, \n",
    "       prop.r = FALSE, prop.c=TRUE, prop.t = FALSE, prop.chisq = FALSE))"
   ]
  },
  {
   "cell_type": "code",
   "execution_count": 16,
   "metadata": {},
   "outputs": [
    {
     "name": "stdout",
     "output_type": "stream",
     "text": [
      "[1] \"prev_experience\"\n",
      "   0   90  180  365  730 1460 2920 \n",
      "2698   63   52   69   81  102  144 \n",
      "\n",
      "[1] \"Aggregate labor_hours_84_days_pre_sample\"\n",
      "  Group.1 labor_hours_84_days_pre_sample\n",
      "1       0                          5.878\n",
      "2      90                          4.519\n",
      "3     180                          8.063\n",
      "4     365                          5.797\n",
      "5     730                          5.354\n",
      "6    1460                          5.866\n",
      "7    2920                          8.791\n",
      "\n",
      "[1] \"NEWCOMERS AND EMAILS\"\n",
      "[1] \"--------------------\"\n",
      "\n",
      " \n",
      "   Cell Contents\n",
      "|-------------------------|\n",
      "|                       N |\n",
      "|           N / Col Total |\n",
      "|-------------------------|\n",
      "\n",
      " \n",
      "Total Observations in Table:  3209 \n",
      "\n",
      " \n",
      "                                   | recipient.df.penultimate$newcomer \n",
      "recipient.df.penultimate$has_email |     FALSE |      TRUE | Row Total | \n",
      "-----------------------------------|-----------|-----------|-----------|\n",
      "                             False |        20 |        18 |        38 | \n",
      "                                   |     0.039 |     0.007 |           | \n",
      "-----------------------------------|-----------|-----------|-----------|\n",
      "                              True |       491 |      2680 |      3171 | \n",
      "                                   |     0.961 |     0.993 |           | \n",
      "-----------------------------------|-----------|-----------|-----------|\n",
      "                      Column Total |       511 |      2698 |      3209 | \n",
      "                                   |     0.159 |     0.841 |           | \n",
      "-----------------------------------|-----------|-----------|-----------|\n",
      "\n",
      " \n",
      "$t\n",
      "       y\n",
      "x       FALSE TRUE\n",
      "  False    20   18\n",
      "  True    491 2680\n",
      "\n",
      "$prop.row\n",
      "       y\n",
      "x        FALSE   TRUE\n",
      "  False 0.5263 0.4737\n",
      "  True  0.1548 0.8452\n",
      "\n",
      "$prop.col\n",
      "       y\n",
      "x          FALSE     TRUE\n",
      "  False 0.039139 0.006672\n",
      "  True  0.960861 0.993328\n",
      "\n",
      "$prop.tbl\n",
      "       y\n",
      "x          FALSE     TRUE\n",
      "  False 0.006232 0.005609\n",
      "  True  0.153007 0.835151\n",
      "\n",
      "[1] \"num_prev_thanks_pre_sample\"\n",
      "   Min. 1st Qu.  Median    Mean 3rd Qu.    Max. \n",
      "   0.00    0.00    0.00    0.34    0.00  112.00 \n",
      "\n",
      "[1] \"num_prev_thanks_pre_sample by prev_experience\"\n",
      "  Group.1 num_prev_thanks_pre_sample\n",
      "1       0                     0.1542\n",
      "2      90                     0.1111\n",
      "3     180                     0.1731\n",
      "4     365                     0.2899\n",
      "5     730                     0.9630\n",
      "6    1460                     0.6176\n",
      "7    2920                     3.4097\n",
      "\n"
     ]
    }
   ],
   "source": [
    "## Update the has_email field\n",
    "## recipient.df.penultimate$has_email <- recipient.df.penultimate$has_email == \"True\"\n",
    "\n",
    "## PREVIOUS EXPERIENCE\n",
    "print(\"prev_experience\")\n",
    "print(summary(factor(recipient.df.penultimate$prev_experience)))\n",
    "cat(\"\\n\")\n",
    "\n",
    "## SHOW LABOR HOURS BY EXPERIENCE GROUP:\n",
    "print(\"Aggregate labor_hours_84_days_pre_sample\")\n",
    "print(aggregate(recipient.df.penultimate[c(\"labor_hours_84_days_pre_sample\")],\n",
    "          FUN=mean, by = list(recipient.df.penultimate$prev_experience)))\n",
    "cat(\"\\n\")\n",
    "\n",
    "print(\"NEWCOMERS AND EMAILS\")\n",
    "print(\"--------------------\")\n",
    "print(CrossTable(recipient.df.penultimate$has_email, recipient.df.penultimate$newcomer, \n",
    "       prop.r = FALSE, prop.c=TRUE, prop.t = FALSE, prop.chisq = FALSE))\n",
    "\n",
    "# VARIABLE: num_prev_thanks_pre_treatment\n",
    "print(\"num_prev_thanks_pre_sample\")\n",
    "print(summary(recipient.df.penultimate$num_prev_thanks_pre_sample))\n",
    "cat(\"\\n\")\n",
    "    \n",
    "## SHOW PREVIOUS THANKS BY EXPERIENCE GROUP:\n",
    "print(\"num_prev_thanks_pre_sample by prev_experience\")\n",
    "print(aggregate(recipient.df.penultimate[c(\"num_prev_thanks_pre_sample\")],\n",
    "      FUN=mean, by = list(recipient.df.penultimate$prev_experience)))\n",
    "cat(\"\\n\")"
   ]
  },
  {
   "cell_type": "markdown",
   "metadata": {},
   "source": [
    "# Subset Sample to Planned sample sizes\n",
    "Sample sizes are reported in the experiment [Decisions Document](https://docs.google.com/document/d/1HryhsmWI6WthXQC7zv9Hz1a9DhpZ3FxVRLjTONuMg4I/edit)\n",
    "\n",
    "* Arabic newcomers (1750 goal) (hoping for as many as possible in first sample)\n",
    "    * hoping for 1350 in the first sample and 400 later\n",
    "* German newcomers (3000 goal) (hoping for as many as possible in first sample)\n",
    "    * hoping for 1600 in first sample and 1400 later\n",
    "* Persian Experienced (2400 goal)\n",
    "* Polish:\n",
    "    * Newcomers: (800 goal)\n",
    "    * Experienced: (2400 goal)"
   ]
  },
  {
   "cell_type": "code",
   "execution_count": 17,
   "metadata": {},
   "outputs": [],
   "source": [
    "## Seed generated by Brooklyn Integers\n",
    "# https://www.brooklynintegers.com/int/1495265601/\n",
    "set.seed(1495265601)"
   ]
  },
  {
   "cell_type": "code",
   "execution_count": 18,
   "metadata": {},
   "outputs": [
    {
     "name": "stdout",
     "output_type": "stream",
     "text": [
      "[1] \"Newcomers\"\n"
     ]
    },
    {
     "data": {
      "text/html": [
       "<dl class=dl-horizontal>\n",
       "\t<dt>ar</dt>\n",
       "\t\t<dd>735</dd>\n",
       "\t<dt>de</dt>\n",
       "\t\t<dd>1528</dd>\n",
       "\t<dt>pl</dt>\n",
       "\t\t<dd>435</dd>\n",
       "</dl>\n"
      ],
      "text/latex": [
       "\\begin{description*}\n",
       "\\item[ar] 735\n",
       "\\item[de] 1528\n",
       "\\item[pl] 435\n",
       "\\end{description*}\n"
      ],
      "text/markdown": [
       "ar\n",
       ":   735de\n",
       ":   1528pl\n",
       ":   435\n",
       "\n"
      ],
      "text/plain": [
       "  ar   de   pl \n",
       " 735 1528  435 "
      ]
     },
     "metadata": {},
     "output_type": "display_data"
    }
   ],
   "source": [
    "print(\"Newcomers\")\n",
    "summary(subset(recipient.df.penultimate, newcomer==1)$lang)"
   ]
  },
  {
   "cell_type": "code",
   "execution_count": 19,
   "metadata": {},
   "outputs": [
    {
     "name": "stdout",
     "output_type": "stream",
     "text": [
      "[1] \"Experienced\"\n"
     ]
    },
    {
     "data": {
      "text/html": [
       "<dl class=dl-horizontal>\n",
       "\t<dt>ar</dt>\n",
       "\t\t<dd>0</dd>\n",
       "\t<dt>de</dt>\n",
       "\t\t<dd>0</dd>\n",
       "\t<dt>pl</dt>\n",
       "\t\t<dd>511</dd>\n",
       "</dl>\n"
      ],
      "text/latex": [
       "\\begin{description*}\n",
       "\\item[ar] 0\n",
       "\\item[de] 0\n",
       "\\item[pl] 511\n",
       "\\end{description*}\n"
      ],
      "text/markdown": [
       "ar\n",
       ":   0de\n",
       ":   0pl\n",
       ":   511\n",
       "\n"
      ],
      "text/plain": [
       " ar  de  pl \n",
       "  0   0 511 "
      ]
     },
     "metadata": {},
     "output_type": "display_data"
    }
   ],
   "source": [
    "print(\"Experienced\")\n",
    "summary(subset(recipient.df.penultimate, newcomer==0)$lang)"
   ]
  },
  {
   "cell_type": "code",
   "execution_count": 20,
   "metadata": {},
   "outputs": [],
   "source": [
    "## CREATE THE FINAL PARTICIPANT SAMPLE BEFORE RANDOMIZATION\n",
    "recipient.df.final <- recipient.df.penultimate"
   ]
  },
  {
   "cell_type": "markdown",
   "metadata": {},
   "source": [
    "# Generate Randomization Blocks"
   ]
  },
  {
   "cell_type": "code",
   "execution_count": 21,
   "metadata": {},
   "outputs": [
    {
     "data": {
      "text/html": [
       "<ol class=list-inline>\n",
       "\t<li>'id'</li>\n",
       "\t<li>'created_at'</li>\n",
       "\t<li>'lang'</li>\n",
       "\t<li>'user_id'</li>\n",
       "\t<li>'user_name'</li>\n",
       "\t<li>'user_registration'</li>\n",
       "\t<li>'user_editcount'</li>\n",
       "\t<li>'user_editcount_quality'</li>\n",
       "\t<li>'prev_experience'</li>\n",
       "\t<li>'thanks_sent'</li>\n",
       "\t<li>'num_prev_thanks'</li>\n",
       "\t<li>'num_prev_thanks_90'</li>\n",
       "\t<li>'num_prev_thanks_pre_sample'</li>\n",
       "\t<li>'labor_hours_84_days_pre_sample'</li>\n",
       "\t<li>'has_email'</li>\n",
       "\t<li>'user_completed'</li>\n",
       "\t<li>'user_included'</li>\n",
       "\t<li>'anonymized_id'</li>\n",
       "\t<li>'newcomer'</li>\n",
       "\t<li>'lang_prev_experience'</li>\n",
       "</ol>\n"
      ],
      "text/latex": [
       "\\begin{enumerate*}\n",
       "\\item 'id'\n",
       "\\item 'created\\_at'\n",
       "\\item 'lang'\n",
       "\\item 'user\\_id'\n",
       "\\item 'user\\_name'\n",
       "\\item 'user\\_registration'\n",
       "\\item 'user\\_editcount'\n",
       "\\item 'user\\_editcount\\_quality'\n",
       "\\item 'prev\\_experience'\n",
       "\\item 'thanks\\_sent'\n",
       "\\item 'num\\_prev\\_thanks'\n",
       "\\item 'num\\_prev\\_thanks\\_90'\n",
       "\\item 'num\\_prev\\_thanks\\_pre\\_sample'\n",
       "\\item 'labor\\_hours\\_84\\_days\\_pre\\_sample'\n",
       "\\item 'has\\_email'\n",
       "\\item 'user\\_completed'\n",
       "\\item 'user\\_included'\n",
       "\\item 'anonymized\\_id'\n",
       "\\item 'newcomer'\n",
       "\\item 'lang\\_prev\\_experience'\n",
       "\\end{enumerate*}\n"
      ],
      "text/markdown": [
       "1. 'id'\n",
       "2. 'created_at'\n",
       "3. 'lang'\n",
       "4. 'user_id'\n",
       "5. 'user_name'\n",
       "6. 'user_registration'\n",
       "7. 'user_editcount'\n",
       "8. 'user_editcount_quality'\n",
       "9. 'prev_experience'\n",
       "10. 'thanks_sent'\n",
       "11. 'num_prev_thanks'\n",
       "12. 'num_prev_thanks_90'\n",
       "13. 'num_prev_thanks_pre_sample'\n",
       "14. 'labor_hours_84_days_pre_sample'\n",
       "15. 'has_email'\n",
       "16. 'user_completed'\n",
       "17. 'user_included'\n",
       "18. 'anonymized_id'\n",
       "19. 'newcomer'\n",
       "20. 'lang_prev_experience'\n",
       "\n",
       "\n"
      ],
      "text/plain": [
       " [1] \"id\"                             \"created_at\"                    \n",
       " [3] \"lang\"                           \"user_id\"                       \n",
       " [5] \"user_name\"                      \"user_registration\"             \n",
       " [7] \"user_editcount\"                 \"user_editcount_quality\"        \n",
       " [9] \"prev_experience\"                \"thanks_sent\"                   \n",
       "[11] \"num_prev_thanks\"                \"num_prev_thanks_90\"            \n",
       "[13] \"num_prev_thanks_pre_sample\"     \"labor_hours_84_days_pre_sample\"\n",
       "[15] \"has_email\"                      \"user_completed\"                \n",
       "[17] \"user_included\"                  \"anonymized_id\"                 \n",
       "[19] \"newcomer\"                       \"lang_prev_experience\"          "
      ]
     },
     "metadata": {},
     "output_type": "display_data"
    }
   ],
   "source": [
    "recipient.df.final$lang_prev_experience <- factor(paste(recipient.df.final$lang, recipient.df.final$prev_experience))\n",
    "colnames(recipient.df.final)"
   ]
  },
  {
   "cell_type": "code",
   "execution_count": 22,
   "metadata": {
    "scrolled": false
   },
   "outputs": [],
   "source": [
    "## BLOCKING VARIABLES\n",
    "bv = c(\"labor_hours_84_days_pre_sample\", \"num_prev_thanks_pre_sample\")\n",
    "\n",
    "block.size = 2\n",
    "\n",
    "## TODO: CHECK TO SEE IF I CAN DO BALANCED RANDOMIZATION\n",
    "## WITHIN BLOCKS LARGER THAN 2\n",
    "blockobj = block(data=recipient.df.final,\n",
    "            n.tr = block.size,\n",
    "            groups = \"lang_prev_experience\",\n",
    "            id.vars=\"anonymized_id\",\n",
    "            block.vars = bv,\n",
    "            distance =\"mahalanobis\"\n",
    "            )\n",
    "## CHECK DISTANCES\n",
    "#print(blockobj)\n",
    "recipient.df.final$randomization_block_id <- createBlockIDs(blockobj,\n",
    "                                   data=recipient.df.final,\n",
    "                                   id.var = \"anonymized_id\")\n",
    "recipient.df.final$randomization_block_size = block.size"
   ]
  },
  {
   "cell_type": "markdown",
   "metadata": {},
   "source": [
    "### Identify Incomplete Blocks and Remove Participants in Incomplete Blocks From the Experiment"
   ]
  },
  {
   "cell_type": "code",
   "execution_count": 23,
   "metadata": {},
   "outputs": [
    {
     "data": {
      "text/html": [
       "<ol class=list-inline>\n",
       "\t<li>368</li>\n",
       "\t<li>1350</li>\n",
       "\t<li>1534</li>\n",
       "\t<li>1575</li>\n",
       "\t<li>1607</li>\n",
       "</ol>\n"
      ],
      "text/latex": [
       "\\begin{enumerate*}\n",
       "\\item 368\n",
       "\\item 1350\n",
       "\\item 1534\n",
       "\\item 1575\n",
       "\\item 1607\n",
       "\\end{enumerate*}\n"
      ],
      "text/markdown": [
       "1. 368\n",
       "2. 1350\n",
       "3. 1534\n",
       "4. 1575\n",
       "5. 1607\n",
       "\n",
       "\n"
      ],
      "text/plain": [
       "[1]  368 1350 1534 1575 1607"
      ]
     },
     "metadata": {},
     "output_type": "display_data"
    }
   ],
   "source": [
    "block.sizes <- aggregate(recipient.df.final$randomization_block_id, FUN=length, by=list(recipient.df.final$randomization_block_id))\n",
    "incomplete.blocks <- subset(block.sizes, x == 1)$Group.1\n",
    "incomplete.blocks"
   ]
  },
  {
   "cell_type": "code",
   "execution_count": 24,
   "metadata": {},
   "outputs": [
    {
     "data": {
      "text/html": [
       "5"
      ],
      "text/latex": [
       "5"
      ],
      "text/markdown": [
       "5"
      ],
      "text/plain": [
       "[1] 5"
      ]
     },
     "metadata": {},
     "output_type": "display_data"
    }
   ],
   "source": [
    "nrow(subset(recipient.df.final, randomization_block_id %in% incomplete.blocks))"
   ]
  },
  {
   "cell_type": "code",
   "execution_count": 25,
   "metadata": {},
   "outputs": [
    {
     "name": "stdout",
     "output_type": "stream",
     "text": [
      "[1] \"Removed 5 units placed in incomplete blocks.\"\n"
     ]
    }
   ],
   "source": [
    "removed.observations <- subset(recipient.df.final, (\n",
    "    randomization_block_id %in% incomplete.blocks)==TRUE)\n",
    "\n",
    "recipient.df.final <- \n",
    "    subset(recipient.df.final, (\n",
    "        randomization_block_id %in% incomplete.blocks)!=TRUE)\n",
    "\n",
    "print(paste(\"Removed\", nrow(removed.observations), \"units placed in incomplete blocks.\"))"
   ]
  },
  {
   "cell_type": "markdown",
   "metadata": {},
   "source": [
    "# Generate Randomizations"
   ]
  },
  {
   "cell_type": "code",
   "execution_count": 26,
   "metadata": {},
   "outputs": [],
   "source": [
    "assignments <- block_ra(blocks=recipient.df.final$randomization_block_id, \n",
    "                            num_arms = 2, conditions = c(0,1))\n",
    "recipient.df.final$randomization_arm <- assignments "
   ]
  },
  {
   "cell_type": "markdown",
   "metadata": {},
   "source": [
    "### Check Balance"
   ]
  },
  {
   "cell_type": "code",
   "execution_count": 27,
   "metadata": {
    "scrolled": false
   },
   "outputs": [
    {
     "name": "stdout",
     "output_type": "stream",
     "text": [
      "[1] \"Aggregating labor hours by treatment\"\n",
      "  Group.1 labor_hours_84_days_pre_sample\n",
      "1       0                          6.008\n",
      "2       1                          5.944\n",
      "[1] \"CrossTable of lang by treatment\"\n",
      "\n",
      " \n",
      "   Cell Contents\n",
      "|-------------------------|\n",
      "|                       N |\n",
      "|           N / Row Total |\n",
      "|-------------------------|\n",
      "\n",
      " \n",
      "Total Observations in Table:  3204 \n",
      "\n",
      " \n",
      "                        | recipient.df.final$randomization_arm \n",
      "recipient.df.final$lang |         0 |         1 | Row Total | \n",
      "------------------------|-----------|-----------|-----------|\n",
      "                     ar |       367 |       367 |       734 | \n",
      "                        |     0.500 |     0.500 |     0.229 | \n",
      "------------------------|-----------|-----------|-----------|\n",
      "                     de |       764 |       764 |      1528 | \n",
      "                        |     0.500 |     0.500 |     0.477 | \n",
      "------------------------|-----------|-----------|-----------|\n",
      "                     pl |       471 |       471 |       942 | \n",
      "                        |     0.500 |     0.500 |     0.294 | \n",
      "------------------------|-----------|-----------|-----------|\n",
      "           Column Total |      1602 |      1602 |      3204 | \n",
      "------------------------|-----------|-----------|-----------|\n",
      "\n",
      " \n",
      "[1] \"CrossTable of lang_prev_experience by treatment\"\n",
      "\n",
      " \n",
      "   Cell Contents\n",
      "|-------------------------|\n",
      "|                       N |\n",
      "|           N / Row Total |\n",
      "|-------------------------|\n",
      "\n",
      " \n",
      "Total Observations in Table:  3204 \n",
      "\n",
      " \n",
      "                                        | recipient.df.final$randomization_arm \n",
      "recipient.df.final$lang_prev_experience |         0 |         1 | Row Total | \n",
      "----------------------------------------|-----------|-----------|-----------|\n",
      "                                   ar 0 |       367 |       367 |       734 | \n",
      "                                        |     0.500 |     0.500 |     0.229 | \n",
      "----------------------------------------|-----------|-----------|-----------|\n",
      "                                   de 0 |       764 |       764 |      1528 | \n",
      "                                        |     0.500 |     0.500 |     0.477 | \n",
      "----------------------------------------|-----------|-----------|-----------|\n",
      "                                   pl 0 |       217 |       217 |       434 | \n",
      "                                        |     0.500 |     0.500 |     0.135 | \n",
      "----------------------------------------|-----------|-----------|-----------|\n",
      "                                pl 1460 |        51 |        51 |       102 | \n",
      "                                        |     0.500 |     0.500 |     0.032 | \n",
      "----------------------------------------|-----------|-----------|-----------|\n",
      "                                 pl 180 |        26 |        26 |        52 | \n",
      "                                        |     0.500 |     0.500 |     0.016 | \n",
      "----------------------------------------|-----------|-----------|-----------|\n",
      "                                pl 2920 |        72 |        72 |       144 | \n",
      "                                        |     0.500 |     0.500 |     0.045 | \n",
      "----------------------------------------|-----------|-----------|-----------|\n",
      "                                 pl 365 |        34 |        34 |        68 | \n",
      "                                        |     0.500 |     0.500 |     0.021 | \n",
      "----------------------------------------|-----------|-----------|-----------|\n",
      "                                 pl 730 |        40 |        40 |        80 | \n",
      "                                        |     0.500 |     0.500 |     0.025 | \n",
      "----------------------------------------|-----------|-----------|-----------|\n",
      "                                  pl 90 |        31 |        31 |        62 | \n",
      "                                        |     0.500 |     0.500 |     0.019 | \n",
      "----------------------------------------|-----------|-----------|-----------|\n",
      "                           Column Total |      1602 |      1602 |      3204 | \n",
      "----------------------------------------|-----------|-----------|-----------|\n",
      "\n",
      " \n"
     ]
    }
   ],
   "source": [
    "print(\"Aggregating labor hours by treatment\")\n",
    "print(aggregate(recipient.df.final[c(\"labor_hours_84_days_pre_sample\")],\n",
    "          FUN=mean, by = list(recipient.df.final$randomization_arm)))\n",
    "\n",
    "print(\"CrossTable of lang by treatment\")\n",
    "CrossTable(recipient.df.final$lang, recipient.df.final$randomization_arm, \n",
    "       prop.r = TRUE, prop.c=FALSE, prop.t = FALSE, prop.chisq = FALSE)\n",
    "\n",
    "print(\"CrossTable of lang_prev_experience by treatment\")\n",
    "CrossTable(recipient.df.final$lang_prev_experience, recipient.df.final$randomization_arm, \n",
    "       prop.r = TRUE, prop.c=FALSE, prop.t = FALSE, prop.chisq = FALSE)\n"
   ]
  },
  {
   "cell_type": "markdown",
   "metadata": {},
   "source": [
    "# Subset Polish Experienced Accounts\n",
    "Within Polish, identify 300 accounts (150 blocks) to include and drop all of the others.\n",
    "\n",
    "Note: since the previous randomization included a larger number of more experienced accounts, we're prioritizing accounts from experience groups 90, 180, 365, 730, and 1460 (all except 2920). "
   ]
  },
  {
   "cell_type": "code",
   "execution_count": 28,
   "metadata": {},
   "outputs": [
    {
     "name": "stdout",
     "output_type": "stream",
     "text": [
      "[1] \"Number of Accounts for each experience level among Polish Participants\"\n",
      "  Group.1 count.var\n",
      "1       0      2696\n",
      "2      90        62\n",
      "3     180        52\n",
      "4     365        68\n",
      "5     730        80\n",
      "6    1460       102\n",
      "7    2920       144\n",
      "\n"
     ]
    }
   ],
   "source": [
    "## SHOW PREVIOUS THANKS BY EXPERIENCE GROUP:\n",
    "recipient.df.final$count.var <- 1\n",
    "print(\"Number of Accounts for each experience level among Polish Participants\")\n",
    "print(aggregate(subset(recipient.df.final, lang=\"pl\")[c(\"count.var\")],\n",
    "      FUN=sum, by = list(subset(recipient.df.final, lang=\"pl\")$prev_experience)))\n",
    "cat(\"\\n\")"
   ]
  },
  {
   "cell_type": "code",
   "execution_count": 29,
   "metadata": {},
   "outputs": [
    {
     "name": "stdout",
     "output_type": "stream",
     "text": [
      "[1] \"Total number of rows: 3204\"\n",
      "[1] \"Total number of rows once we subset Polish: 3060\"\n"
     ]
    }
   ],
   "source": [
    "print(paste(\"Total number of rows: \", nrow(recipient.df.final), sep=\"\"))\n",
    "\n",
    "recipient.df.final.a <- subset(recipient.df.final, !(lang==\"pl\" & prev_experience==2920))\n",
    "recipient.df.final.a$initial.block.id <- recipient.df.final.a$randomization_block_id\n",
    "print(paste(\"Total number of rows once we subset Polish:\", nrow(recipient.df.final.a)))"
   ]
  },
  {
   "cell_type": "markdown",
   "metadata": {},
   "source": [
    "### Offset block IDs to be unique\n",
    "Observe the block IDs from the previous randomizations and ensure that these ones are unique and larger."
   ]
  },
  {
   "cell_type": "code",
   "execution_count": 30,
   "metadata": {},
   "outputs": [
    {
     "name": "stdout",
     "output_type": "stream",
     "text": [
      "[1] \"Max Block ID:  3707\"\n"
     ]
    }
   ],
   "source": [
    "## LOAD PREVIOUS RANDOMIZATIONS\n",
    "prev_randomization_filename <- \"thanks-recipient-randomizations-20190729.csv\"\n",
    "prev.randomization.df <- read.csv(file.path(data.path, \"randomization_output\", prev_randomization_filename))\n",
    "print(paste(\"Max Block ID: \", max(prev.randomization.df$randomization_block_id)))\n",
    "prev.max.block.id <- max(prev.randomization.df$randomization_block_id)\n",
    "prev.max.block.id <- 4221"
   ]
  },
  {
   "cell_type": "code",
   "execution_count": 31,
   "metadata": {},
   "outputs": [
    {
     "data": {
      "text/plain": [
       "   Min. 1st Qu.  Median    Mean 3rd Qu.    Max. \n",
       "   4222    4605    4988    4992    5370    5827 "
      ]
     },
     "metadata": {},
     "output_type": "display_data"
    }
   ],
   "source": [
    "recipient.df.final.a$randomization_block_id <- recipient.df.final.a$initial.block.id + prev.max.block.id\n",
    "summary(recipient.df.final.a$randomization_block_id)"
   ]
  },
  {
   "cell_type": "markdown",
   "metadata": {},
   "source": [
    "### Sort by block ID"
   ]
  },
  {
   "cell_type": "code",
   "execution_count": 32,
   "metadata": {},
   "outputs": [],
   "source": [
    "recipient.df.final.a <- recipient.df.final.a[order(recipient.df.final.a$randomization_block_id),]"
   ]
  },
  {
   "cell_type": "code",
   "execution_count": 33,
   "metadata": {},
   "outputs": [
    {
     "name": "stdout",
     "output_type": "stream",
     "text": [
      "[1] \"Newcomers\"\n"
     ]
    },
    {
     "data": {
      "text/html": [
       "<dl class=dl-horizontal>\n",
       "\t<dt>ar</dt>\n",
       "\t\t<dd>734</dd>\n",
       "\t<dt>de</dt>\n",
       "\t\t<dd>1528</dd>\n",
       "\t<dt>pl</dt>\n",
       "\t\t<dd>434</dd>\n",
       "</dl>\n"
      ],
      "text/latex": [
       "\\begin{description*}\n",
       "\\item[ar] 734\n",
       "\\item[de] 1528\n",
       "\\item[pl] 434\n",
       "\\end{description*}\n"
      ],
      "text/markdown": [
       "ar\n",
       ":   734de\n",
       ":   1528pl\n",
       ":   434\n",
       "\n"
      ],
      "text/plain": [
       "  ar   de   pl \n",
       " 734 1528  434 "
      ]
     },
     "metadata": {},
     "output_type": "display_data"
    },
    {
     "name": "stdout",
     "output_type": "stream",
     "text": [
      "[1] \"Experienced\"\n"
     ]
    },
    {
     "data": {
      "text/html": [
       "<dl class=dl-horizontal>\n",
       "\t<dt>ar</dt>\n",
       "\t\t<dd>0</dd>\n",
       "\t<dt>de</dt>\n",
       "\t\t<dd>0</dd>\n",
       "\t<dt>pl</dt>\n",
       "\t\t<dd>364</dd>\n",
       "</dl>\n"
      ],
      "text/latex": [
       "\\begin{description*}\n",
       "\\item[ar] 0\n",
       "\\item[de] 0\n",
       "\\item[pl] 364\n",
       "\\end{description*}\n"
      ],
      "text/markdown": [
       "ar\n",
       ":   0de\n",
       ":   0pl\n",
       ":   364\n",
       "\n"
      ],
      "text/plain": [
       " ar  de  pl \n",
       "  0   0 364 "
      ]
     },
     "metadata": {},
     "output_type": "display_data"
    }
   ],
   "source": [
    "print(\"Newcomers\")\n",
    "summary(subset(recipient.df.final.a, newcomer==1)$lang)\n",
    "print(\"Experienced\")\n",
    "summary(subset(recipient.df.final.a, newcomer==0)$lang)"
   ]
  },
  {
   "cell_type": "markdown",
   "metadata": {},
   "source": [
    "# Output and Archive Randomizations"
   ]
  },
  {
   "cell_type": "code",
   "execution_count": 34,
   "metadata": {},
   "outputs": [],
   "source": [
    "randomization.filename <- paste(\"thanks-recipient-randomizations-\", format(Sys.Date(), format=\"%Y%m%d\"), \".csv\", sep=\"\") \n",
    "write.csv(recipient.df.final.a, file = file.path(data.path, \"randomization_output\", randomization.filename))"
   ]
  },
  {
   "cell_type": "code",
   "execution_count": 36,
   "metadata": {},
   "outputs": [
    {
     "data": {
      "text/html": [
       "<ol class=list-inline>\n",
       "\t<li>'id'</li>\n",
       "\t<li>'created_at'</li>\n",
       "\t<li>'lang'</li>\n",
       "\t<li>'user_id'</li>\n",
       "\t<li>'user_name'</li>\n",
       "\t<li>'user_registration'</li>\n",
       "\t<li>'user_editcount'</li>\n",
       "\t<li>'user_editcount_quality'</li>\n",
       "\t<li>'prev_experience'</li>\n",
       "\t<li>'thanks_sent'</li>\n",
       "\t<li>'num_prev_thanks'</li>\n",
       "\t<li>'num_prev_thanks_90'</li>\n",
       "\t<li>'num_prev_thanks_pre_sample'</li>\n",
       "\t<li>'labor_hours_84_days_pre_sample'</li>\n",
       "\t<li>'has_email'</li>\n",
       "\t<li>'user_completed'</li>\n",
       "\t<li>'user_included'</li>\n",
       "\t<li>'anonymized_id'</li>\n",
       "\t<li>'newcomer'</li>\n",
       "\t<li>'lang_prev_experience'</li>\n",
       "\t<li>'randomization_block_id'</li>\n",
       "\t<li>'randomization_block_size'</li>\n",
       "\t<li>'randomization_arm'</li>\n",
       "\t<li>'count.var'</li>\n",
       "\t<li>'initial.block.id'</li>\n",
       "</ol>\n"
      ],
      "text/latex": [
       "\\begin{enumerate*}\n",
       "\\item 'id'\n",
       "\\item 'created\\_at'\n",
       "\\item 'lang'\n",
       "\\item 'user\\_id'\n",
       "\\item 'user\\_name'\n",
       "\\item 'user\\_registration'\n",
       "\\item 'user\\_editcount'\n",
       "\\item 'user\\_editcount\\_quality'\n",
       "\\item 'prev\\_experience'\n",
       "\\item 'thanks\\_sent'\n",
       "\\item 'num\\_prev\\_thanks'\n",
       "\\item 'num\\_prev\\_thanks\\_90'\n",
       "\\item 'num\\_prev\\_thanks\\_pre\\_sample'\n",
       "\\item 'labor\\_hours\\_84\\_days\\_pre\\_sample'\n",
       "\\item 'has\\_email'\n",
       "\\item 'user\\_completed'\n",
       "\\item 'user\\_included'\n",
       "\\item 'anonymized\\_id'\n",
       "\\item 'newcomer'\n",
       "\\item 'lang\\_prev\\_experience'\n",
       "\\item 'randomization\\_block\\_id'\n",
       "\\item 'randomization\\_block\\_size'\n",
       "\\item 'randomization\\_arm'\n",
       "\\item 'count.var'\n",
       "\\item 'initial.block.id'\n",
       "\\end{enumerate*}\n"
      ],
      "text/markdown": [
       "1. 'id'\n",
       "2. 'created_at'\n",
       "3. 'lang'\n",
       "4. 'user_id'\n",
       "5. 'user_name'\n",
       "6. 'user_registration'\n",
       "7. 'user_editcount'\n",
       "8. 'user_editcount_quality'\n",
       "9. 'prev_experience'\n",
       "10. 'thanks_sent'\n",
       "11. 'num_prev_thanks'\n",
       "12. 'num_prev_thanks_90'\n",
       "13. 'num_prev_thanks_pre_sample'\n",
       "14. 'labor_hours_84_days_pre_sample'\n",
       "15. 'has_email'\n",
       "16. 'user_completed'\n",
       "17. 'user_included'\n",
       "18. 'anonymized_id'\n",
       "19. 'newcomer'\n",
       "20. 'lang_prev_experience'\n",
       "21. 'randomization_block_id'\n",
       "22. 'randomization_block_size'\n",
       "23. 'randomization_arm'\n",
       "24. 'count.var'\n",
       "25. 'initial.block.id'\n",
       "\n",
       "\n"
      ],
      "text/plain": [
       " [1] \"id\"                             \"created_at\"                    \n",
       " [3] \"lang\"                           \"user_id\"                       \n",
       " [5] \"user_name\"                      \"user_registration\"             \n",
       " [7] \"user_editcount\"                 \"user_editcount_quality\"        \n",
       " [9] \"prev_experience\"                \"thanks_sent\"                   \n",
       "[11] \"num_prev_thanks\"                \"num_prev_thanks_90\"            \n",
       "[13] \"num_prev_thanks_pre_sample\"     \"labor_hours_84_days_pre_sample\"\n",
       "[15] \"has_email\"                      \"user_completed\"                \n",
       "[17] \"user_included\"                  \"anonymized_id\"                 \n",
       "[19] \"newcomer\"                       \"lang_prev_experience\"          \n",
       "[21] \"randomization_block_id\"         \"randomization_block_size\"      \n",
       "[23] \"randomization_arm\"              \"count.var\"                     \n",
       "[25] \"initial.block.id\"              "
      ]
     },
     "metadata": {},
     "output_type": "display_data"
    }
   ],
   "source": [
    "colnames(recipient.df.final.a)"
   ]
  },
  {
   "cell_type": "code",
   "execution_count": null,
   "metadata": {},
   "outputs": [],
   "source": []
  }
 ],
 "metadata": {
  "kernelspec": {
   "display_name": "R",
   "language": "R",
   "name": "ir"
  },
  "language_info": {
   "codemirror_mode": "r",
   "file_extension": ".r",
   "mimetype": "text/x-r-source",
   "name": "R",
   "pygments_lexer": "r",
   "version": "3.5.1"
  }
 },
 "nbformat": 4,
 "nbformat_minor": 2
}
