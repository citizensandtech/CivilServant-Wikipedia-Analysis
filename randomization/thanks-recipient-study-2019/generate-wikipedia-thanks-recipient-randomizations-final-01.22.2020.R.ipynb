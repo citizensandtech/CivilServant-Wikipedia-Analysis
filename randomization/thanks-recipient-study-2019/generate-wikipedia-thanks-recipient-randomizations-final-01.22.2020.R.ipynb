{
 "cells": [
  {
   "cell_type": "markdown",
   "metadata": {},
   "source": [
    "# Wikipedia Thanks-Receiver Study Randomization \n",
    "[J. Nathan Matias](https://twitter.com/natematias) + Max Klein\n",
    "January 22, 2020\n",
    "\n",
    "This code takes as input data described in the [randomization data format](https://docs.google.com/document/d/1plhoDbQryYQ32vZMXu8YmlLSp30QTdup43k6uTePOT4/edit?usp=drive_web&ouid=117701977297551627494) and produces randomizations for the Thanks Recipient study.\n",
    "\n",
    "Notes:\n",
    "* We use the 99% confidence interval cutoffs from our first sample rather than relative to each subsequent sample\n",
    "    * Polish Experienced: 235.380736142341\n",
    "    * Polish Newcomer: 72.2118047599678\n",
    "    * Arabic Newcomer: 54.7365066602131\n",
    "    * German Newcomer: 63.3678642498622"
   ]
  },
  {
   "cell_type": "code",
   "execution_count": 1,
   "metadata": {
    "scrolled": true
   },
   "outputs": [
    {
     "name": "stderr",
     "output_type": "stream",
     "text": [
      "── Attaching packages ─────────────────────────────────────── tidyverse 1.2.1 ──\n",
      "✔ tibble  1.4.2     ✔ purrr   0.2.5\n",
      "✔ tidyr   0.8.2     ✔ dplyr   0.7.8\n",
      "✔ readr   1.2.1     ✔ stringr 1.3.1\n",
      "✔ tibble  1.4.2     ✔ forcats 0.3.0\n",
      "── Conflicts ────────────────────────────────────────── tidyverse_conflicts() ──\n",
      "✖ purrr::%||%()        masks rlang::%||%()\n",
      "✖ purrr::%@%()         masks rlang::%@%()\n",
      "✖ purrr::as_function() masks rlang::as_function()\n",
      "✖ dplyr::filter()      masks stats::filter()\n",
      "✖ purrr::flatten()     masks rlang::flatten()\n",
      "✖ purrr::flatten_chr() masks rlang::flatten_chr()\n",
      "✖ purrr::flatten_dbl() masks rlang::flatten_dbl()\n",
      "✖ purrr::flatten_int() masks rlang::flatten_int()\n",
      "✖ purrr::flatten_lgl() masks rlang::flatten_lgl()\n",
      "✖ purrr::invoke()      masks rlang::invoke()\n",
      "✖ dplyr::lag()         masks stats::lag()\n",
      "✖ purrr::list_along()  masks rlang::list_along()\n",
      "✖ purrr::modify()      masks rlang::modify()\n",
      "✖ purrr::rep_along()   masks rlang::rep_along()\n",
      "✖ purrr::splice()      masks rlang::splice()\n",
      "Loading required package: viridisLite\n",
      "Loading required package: randomizr\n",
      "Loading required package: fabricatr\n",
      "Loading required package: estimatr\n"
     ]
    },
    {
     "data": {
      "text/plain": [
       "R version 3.5.1 (2018-07-02)\n",
       "Platform: x86_64-pc-linux-gnu (64-bit)\n",
       "Running under: Ubuntu 16.04.5 LTS\n",
       "\n",
       "Matrix products: default\n",
       "BLAS: /usr/lib/libblas/libblas.so.3.6.0\n",
       "LAPACK: /usr/lib/lapack/liblapack.so.3.6.0\n",
       "\n",
       "locale:\n",
       " [1] LC_CTYPE=en_US.UTF-8       LC_NUMERIC=C              \n",
       " [3] LC_TIME=en_US.UTF-8        LC_COLLATE=en_US.UTF-8    \n",
       " [5] LC_MONETARY=en_US.UTF-8    LC_MESSAGES=en_US.UTF-8   \n",
       " [7] LC_PAPER=en_US.UTF-8       LC_NAME=C                 \n",
       " [9] LC_ADDRESS=C               LC_TELEPHONE=C            \n",
       "[11] LC_MEASUREMENT=en_US.UTF-8 LC_IDENTIFICATION=C       \n",
       "\n",
       "attached base packages:\n",
       "[1] stats     graphics  grDevices utils     datasets  methods   base     \n",
       "\n",
       "other attached packages:\n",
       " [1] uuid_0.1-2           DescTools_0.99.28    DeclareDesign_0.12.0\n",
       " [4] estimatr_0.14        fabricatr_0.6.0      randomizr_0.16.1    \n",
       " [7] gmodels_2.18.1       blockrand_1.3        blockTools_0.6-3    \n",
       "[10] viridis_0.5.1        viridisLite_0.3.0    forcats_0.3.0       \n",
       "[13] stringr_1.3.1        dplyr_0.7.8          purrr_0.2.5         \n",
       "[16] readr_1.2.1          tidyr_0.8.2          tibble_1.4.2        \n",
       "[19] tidyverse_1.2.1      rlang_0.3.0.1        ggplot2_3.1.0       \n",
       "\n",
       "loaded via a namespace (and not attached):\n",
       " [1] Rcpp_1.0.0       mvtnorm_1.0-8    lubridate_1.7.4  lattice_0.20-38 \n",
       " [5] gtools_3.8.1     assertthat_0.2.0 digest_0.6.18    IRdisplay_0.7.0 \n",
       " [9] R6_2.3.0         cellranger_1.1.0 plyr_1.8.4       repr_0.18       \n",
       "[13] backports_1.1.2  evaluate_0.12    httr_1.3.1       pillar_1.3.0    \n",
       "[17] lazyeval_0.2.1   readxl_1.1.0     rstudioapi_0.8   gdata_2.18.0    \n",
       "[21] Matrix_1.2-15    foreign_0.8-71   munsell_0.5.0    broom_0.5.1     \n",
       "[25] compiler_3.5.1   modelr_0.1.2     pkgconfig_2.0.2  base64enc_0.1-3 \n",
       "[29] manipulate_1.0.1 htmltools_0.3.6  tidyselect_0.2.5 expm_0.999-4    \n",
       "[33] gridExtra_2.3    crayon_1.3.4     withr_2.1.2      MASS_7.3-51.1   \n",
       "[37] grid_3.5.1       nlme_3.1-137     jsonlite_1.6     gtable_0.2.0    \n",
       "[41] magrittr_1.5     scales_1.0.0     cli_1.0.1        stringi_1.2.4   \n",
       "[45] bindrcpp_0.2.2   xml2_1.2.0       generics_0.0.2   boot_1.3-20     \n",
       "[49] IRkernel_0.8.14  Formula_1.2-3    tools_3.5.1      glue_1.3.0      \n",
       "[53] hms_0.4.2        colorspace_1.3-2 rvest_0.3.2      pbdZMQ_0.3-3    \n",
       "[57] bindr_0.1.1      haven_2.0.0     "
      ]
     },
     "metadata": {},
     "output_type": "display_data"
    }
   ],
   "source": [
    "options(\"scipen\"=9, \"digits\"=4)\n",
    "library(ggplot2)\n",
    "library(rlang)\n",
    "library(tidyverse)\n",
    "library(viridis)\n",
    "library(blockTools)\n",
    "library(blockrand)\n",
    "library(gmodels) # contains CrossTable\n",
    "library(DeclareDesign)\n",
    "library(DescTools) # contains Freq\n",
    "library(uuid)\n",
    "options(repr.plot.width=7, repr.plot.height=3.5)\n",
    "sessionInfo()"
   ]
  },
  {
   "cell_type": "markdown",
   "metadata": {},
   "source": [
    "# Load Input Dataframe"
   ]
  },
  {
   "cell_type": "code",
   "execution_count": 2,
   "metadata": {},
   "outputs": [],
   "source": [
    "filename <- \"all-thankees-historical-20200120.csv\"\n",
    "data.path <- \"/home/civilservant/Tresors/CivilServant/projects/wikipedia-integration/gratitude-study/Data Drills/thankee\"\n",
    "recipient.df <- read.csv(file.path(data.path, \"historical_output\", filename))"
   ]
  },
  {
   "cell_type": "markdown",
   "metadata": {},
   "source": [
    "### Load Participants in the Thanker Study"
   ]
  },
  {
   "cell_type": "code",
   "execution_count": 3,
   "metadata": {},
   "outputs": [],
   "source": [
    "# thankers file format no longer contains user names\n",
    "thanker.df <- read.csv(file.path(data.path, \"..\", \"thanker_hardlaunch\", \"definitive\",\n",
    "                                 \"grat_thanker_account_mapping.csv\"))\n",
    "usernames.to.exclude <- thanker.df$user_name"
   ]
  },
  {
   "cell_type": "markdown",
   "metadata": {},
   "source": [
    "###  Load Liaison Usernames"
   ]
  },
  {
   "cell_type": "markdown",
   "metadata": {},
   "source": [
    "### Adjust Column Names to Match Thankee Randomization Specification"
   ]
  },
  {
   "cell_type": "code",
   "execution_count": 4,
   "metadata": {},
   "outputs": [],
   "source": [
    "liaison.df <- read.csv(file.path(data.path, \"..\", \"thanker_hardlaunch\", \"randomization_output\",\n",
    "                                 \"liason-thanker-randomization-datadrill-20190718.csv\"))"
   ]
  },
  {
   "cell_type": "code",
   "execution_count": 5,
   "metadata": {},
   "outputs": [
    {
     "name": "stdout",
     "output_type": "stream",
     "text": [
      "[1] \"462 usernames to exclude\"\n"
     ]
    }
   ],
   "source": [
    "usernames.to.exclude <- append(as.character(usernames.to.exclude), as.character(liaison.df$user_name))\n",
    "print(paste(length(usernames.to.exclude), \"usernames to exclude\"))"
   ]
  },
  {
   "cell_type": "code",
   "execution_count": 6,
   "metadata": {},
   "outputs": [],
   "source": [
    "recipient.df$prev_experience <- factor(as.integer(gsub(\"bin_\", \"\", recipient.df$prev_experience)))\n",
    "recipient.df$anonymized_id <- sapply( seq_along(1:nrow(recipient.df)), UUIDgenerate )\n",
    "recipient.df$newcomer <- recipient.df$prev_experience == 0 \n",
    "recipient.df <- subset(recipient.df, lang!=\"en\")\n",
    "#recipient.df <- subset(recipient.df, user_editcount_quality >=4 )"
   ]
  },
  {
   "cell_type": "code",
   "execution_count": 7,
   "metadata": {},
   "outputs": [
    {
     "data": {
      "image/png": "[encoded data removed]",
      "text/plain": [
       "Plot with title “Histogram of recipient.df$user_editcount_quality”"
      ]
     },
     "metadata": {},
     "output_type": "display_data"
    }
   ],
   "source": [
    "hist(recipient.df$user_editcount_quality)"
   ]
  },
  {
   "cell_type": "markdown",
   "metadata": {},
   "source": [
    "# Confirm the number of participants"
   ]
  },
  {
   "cell_type": "code",
   "execution_count": 8,
   "metadata": {},
   "outputs": [
    {
     "name": "stdout",
     "output_type": "stream",
     "text": [
      "[1] \"Newcomer Participants to Randomize\"\n"
     ]
    },
    {
     "data": {
      "text/html": [
       "<dl class=dl-horizontal>\n",
       "\t<dt>ar</dt>\n",
       "\t\t<dd>1236</dd>\n",
       "\t<dt>de</dt>\n",
       "\t\t<dd>2340</dd>\n",
       "\t<dt>pl</dt>\n",
       "\t\t<dd>627</dd>\n",
       "</dl>\n"
      ],
      "text/latex": [
       "\\begin{description*}\n",
       "\\item[ar] 1236\n",
       "\\item[de] 2340\n",
       "\\item[pl] 627\n",
       "\\end{description*}\n"
      ],
      "text/markdown": [
       "ar\n",
       ":   1236de\n",
       ":   2340pl\n",
       ":   627\n",
       "\n"
      ],
      "text/plain": [
       "  ar   de   pl \n",
       "1236 2340  627 "
      ]
     },
     "metadata": {},
     "output_type": "display_data"
    }
   ],
   "source": [
    "print(\"Newcomer Participants to Randomize\")\n",
    "summary(subset(recipient.df, newcomer == 1)$lang)"
   ]
  },
  {
   "cell_type": "code",
   "execution_count": 9,
   "metadata": {},
   "outputs": [
    {
     "name": "stdout",
     "output_type": "stream",
     "text": [
      "[1] \"Experienced Participants to Randomize\"\n"
     ]
    },
    {
     "data": {
      "text/html": [
       "<dl class=dl-horizontal>\n",
       "\t<dt>ar</dt>\n",
       "\t\t<dd>0</dd>\n",
       "\t<dt>de</dt>\n",
       "\t\t<dd>0</dd>\n",
       "\t<dt>pl</dt>\n",
       "\t\t<dd>226</dd>\n",
       "</dl>\n"
      ],
      "text/latex": [
       "\\begin{description*}\n",
       "\\item[ar] 0\n",
       "\\item[de] 0\n",
       "\\item[pl] 226\n",
       "\\end{description*}\n"
      ],
      "text/markdown": [
       "ar\n",
       ":   0de\n",
       ":   0pl\n",
       ":   226\n",
       "\n"
      ],
      "text/plain": [
       " ar  de  pl \n",
       "  0   0 226 "
      ]
     },
     "metadata": {},
     "output_type": "display_data"
    }
   ],
   "source": [
    "## Polish Experienced Accounts\n",
    "print(\"Experienced Participants to Randomize\")\n",
    "summary(subset(recipient.df, newcomer == 0)$lang)"
   ]
  },
  {
   "cell_type": "markdown",
   "metadata": {},
   "source": [
    "# Omit Participants"
   ]
  },
  {
   "cell_type": "markdown",
   "metadata": {},
   "source": [
    "### Subset values outside the 99% confidence intervals\n",
    "We are using upper confidence intervals from the first randomization, found at [generate-wikipedia-thanks-recipient-randomizations-final-07.28.3019](generate-wikipedia-thanks-recipient-randomizations-final-07.28.3019.R.ipynb)\n",
    "    * Polish Experienced: 235.380736142341\n",
    "    * Polish Newcomer: 72.2118047599678\n",
    "    * Arabic Newcomer: 54.7365066602131\n",
    "    * German Newcomer: 63.3678642498622"
   ]
  },
  {
   "cell_type": "markdown",
   "metadata": {},
   "source": [
    "### Omit Participants in the Thanker Study"
   ]
  },
  {
   "cell_type": "code",
   "execution_count": 10,
   "metadata": {},
   "outputs": [
    {
     "name": "stdout",
     "output_type": "stream",
     "text": [
      "[1] \"4429 participants before removing thankers\"\n",
      "[1] \"4425 participants after removing thankers\"\n"
     ]
    }
   ],
   "source": [
    "print(paste(nrow(recipient.df), \"participants before removing thankers\"))\n",
    "recipient.df <- subset(recipient.df, (user_name %in% usernames.to.exclude)!=TRUE)\n",
    "print(paste(nrow(recipient.df), \"participants after removing thankers\"))                                      "
   ]
  },
  {
   "cell_type": "code",
   "execution_count": 11,
   "metadata": {},
   "outputs": [],
   "source": [
    "upper.conf.ints <- data.frame(lang=c(\"pl\", \"pl\", \"de\", \"ar\"),\n",
    "                              newcomer=c(0,1,1,1),\n",
    "                              conf.int = c(\n",
    "                                  235.380736142341,\n",
    "                                  72.2118047599678,\n",
    "                                  54.7365066602131,\n",
    "                                  63.3678642498622\n",
    "                              ))"
   ]
  },
  {
   "cell_type": "code",
   "execution_count": 12,
   "metadata": {},
   "outputs": [
    {
     "data": {
      "text/html": [
       "<table>\n",
       "<thead><tr><th scope=col>lang</th><th scope=col>newcomer</th><th scope=col>conf.int</th></tr></thead>\n",
       "<tbody>\n",
       "\t<tr><td>pl    </td><td>0     </td><td>235.38</td></tr>\n",
       "\t<tr><td>pl    </td><td>1     </td><td> 72.21</td></tr>\n",
       "\t<tr><td>de    </td><td>1     </td><td> 54.74</td></tr>\n",
       "\t<tr><td>ar    </td><td>1     </td><td> 63.37</td></tr>\n",
       "</tbody>\n",
       "</table>\n"
      ],
      "text/latex": [
       "\\begin{tabular}{r|lll}\n",
       " lang & newcomer & conf.int\\\\\n",
       "\\hline\n",
       "\t pl     & 0      & 235.38\\\\\n",
       "\t pl     & 1      &  72.21\\\\\n",
       "\t de     & 1      &  54.74\\\\\n",
       "\t ar     & 1      &  63.37\\\\\n",
       "\\end{tabular}\n"
      ],
      "text/markdown": [
       "\n",
       "lang | newcomer | conf.int | \n",
       "|---|---|---|---|\n",
       "| pl     | 0      | 235.38 | \n",
       "| pl     | 1      |  72.21 | \n",
       "| de     | 1      |  54.74 | \n",
       "| ar     | 1      |  63.37 | \n",
       "\n",
       "\n"
      ],
      "text/plain": [
       "  lang newcomer conf.int\n",
       "1 pl   0        235.38  \n",
       "2 pl   1         72.21  \n",
       "3 de   1         54.74  \n",
       "4 ar   1         63.37  "
      ]
     },
     "metadata": {},
     "output_type": "display_data"
    }
   ],
   "source": [
    "upper.conf.ints\n",
    "#subset(upper.conf.ints, lang==\"pl\" & newcomer ==1)$conf.int"
   ]
  },
  {
   "cell_type": "code",
   "execution_count": 13,
   "metadata": {},
   "outputs": [
    {
     "name": "stdout",
     "output_type": "stream",
     "text": [
      "[1] \"Language:  ar\"\n",
      "[1] \"  newcomer: FALSE\"\n",
      "[1] \"      0 rows from original dataset\"\n",
      "[1] \"      99% confidence intervals:\"\n",
      "[1] \"          upper: \"\n",
      "[1] \"      Removing 0 outliers observations because labor_hours_84_days_pre_sample is an outlier.\"\n",
      "[1] \"      0 rows in trimmed dataset\"\n",
      "[1] \"  newcomer: TRUE\"\n",
      "[1] \"      1236 rows from original dataset\"\n",
      "[1] \"      99% confidence intervals:\"\n",
      "[1] \"          upper: 63.3678642498622\"\n",
      "[1] \"      Removing 19 outliers observations because labor_hours_84_days_pre_sample is an outlier.\"\n",
      "[1] \"      1217 rows in trimmed dataset\"\n",
      "[1] \"Language:  de\"\n",
      "[1] \"  newcomer: FALSE\"\n",
      "[1] \"      0 rows from original dataset\"\n",
      "[1] \"      99% confidence intervals:\"\n",
      "[1] \"          upper: \"\n",
      "[1] \"      Removing 0 outliers observations because labor_hours_84_days_pre_sample is an outlier.\"\n",
      "[1] \"      0 rows in trimmed dataset\"\n",
      "[1] \"  newcomer: TRUE\"\n",
      "[1] \"      2336 rows from original dataset\"\n",
      "[1] \"      99% confidence intervals:\"\n",
      "[1] \"          upper: 54.7365066602131\"\n",
      "[1] \"      Removing 65 outliers observations because labor_hours_84_days_pre_sample is an outlier.\"\n",
      "[1] \"      2271 rows in trimmed dataset\"\n",
      "[1] \"Language:  fa\"\n",
      "[1] \"  newcomer: FALSE\"\n",
      "[1] \"      0 rows from original dataset\"\n",
      "[1] \"      99% confidence intervals:\"\n",
      "[1] \"          upper: \"\n",
      "[1] \"      Removing 0 outliers observations because labor_hours_84_days_pre_sample is an outlier.\"\n",
      "[1] \"      0 rows in trimmed dataset\"\n",
      "[1] \"  newcomer: TRUE\"\n",
      "[1] \"      0 rows from original dataset\"\n",
      "[1] \"      99% confidence intervals:\"\n",
      "[1] \"          upper: \"\n",
      "[1] \"      Removing 0 outliers observations because labor_hours_84_days_pre_sample is an outlier.\"\n",
      "[1] \"      0 rows in trimmed dataset\"\n",
      "[1] \"Language:  pl\"\n",
      "[1] \"  newcomer: FALSE\"\n",
      "[1] \"      226 rows from original dataset\"\n",
      "[1] \"      99% confidence intervals:\"\n",
      "[1] \"          upper: 235.380736142341\"\n",
      "[1] \"      Removing 0 outliers observations because labor_hours_84_days_pre_sample is an outlier.\"\n",
      "[1] \"      226 rows in trimmed dataset\"\n",
      "[1] \"  newcomer: TRUE\"\n",
      "[1] \"      627 rows from original dataset\"\n",
      "[1] \"      99% confidence intervals:\"\n",
      "[1] \"          upper: 72.2118047599678\"\n",
      "[1] \"      Removing 1 outliers observations because labor_hours_84_days_pre_sample is an outlier.\"\n",
      "[1] \"      626 rows in trimmed dataset\"\n"
     ]
    }
   ],
   "source": [
    "## CREATE A PLACEHOLDER WITH ZERO ROWS\n",
    "## BEFORE ITERATING\n",
    "recipient.trimmed.df <- recipient.df[0,]\n",
    "\n",
    "for(l in c(\"ar\", \"de\", \"fa\", \"pl\")){\n",
    "    print(paste(\"Language: \", l))\n",
    "    for(n in c(0,1)){\n",
    "        print(paste(\"  newcomer:\", n == 1))\n",
    "        lang.df <- subset(recipient.df, lang==l & newcomer == n)\n",
    "        print(paste( \"     \", nrow(lang.df), \"rows from original dataset\"))\n",
    "        prev.conf.int <- subset(upper.conf.ints, lang==l & newcomer ==n)$conf.int\n",
    "\n",
    "        print(      \"      99% confidence intervals:\")\n",
    "        print(paste(\"          upper: \", prev.conf.int ,sep=\"\"))\n",
    "        \n",
    "        print(paste(\"      Removing\", \n",
    "            nrow(subset(lang.df,\n",
    "                        labor_hours_84_days_pre_sample > prev.conf.int)), \"outliers\",\n",
    "           \"observations because labor_hours_84_days_pre_sample is an outlier.\"))\n",
    "        lang.subset.df <- subset(lang.df, labor_hours_84_days_pre_sample <= prev.conf.int)\n",
    "        print(paste( \"     \", nrow(lang.subset.df), \"rows in trimmed dataset\"))\n",
    "        recipient.trimmed.df <- rbind(recipient.trimmed.df, lang.subset.df)\n",
    "    }\n",
    "}\n",
    "\n",
    "recipient.df.penultimate <- recipient.trimmed.df"
   ]
  },
  {
   "cell_type": "markdown",
   "metadata": {},
   "source": [
    "# Review and Generate Variables"
   ]
  },
  {
   "cell_type": "code",
   "execution_count": 14,
   "metadata": {},
   "outputs": [
    {
     "name": "stdout",
     "output_type": "stream",
     "text": [
      "  Group.1 labor_hours_84_days_pre_sample\n",
      "1       0                         3.2465\n",
      "2      90                         0.9717\n",
      "3     180                         8.4362\n",
      "4     365                         2.4673\n",
      "5     730                         6.5320\n",
      "6    1460                         2.7131\n",
      "7    2920                         3.0215\n"
     ]
    }
   ],
   "source": [
    "print(aggregate(recipient.df.penultimate[c(\"labor_hours_84_days_pre_sample\")],\n",
    "          FUN=mean, by = list(recipient.df.penultimate$prev_experience)))"
   ]
  },
  {
   "cell_type": "code",
   "execution_count": 15,
   "metadata": {},
   "outputs": [
    {
     "name": "stdout",
     "output_type": "stream",
     "text": [
      "\n",
      " \n",
      "   Cell Contents\n",
      "|-------------------------|\n",
      "|                       N |\n",
      "|           N / Col Total |\n",
      "|-------------------------|\n",
      "\n",
      " \n",
      "Total Observations in Table:  4340 \n",
      "\n",
      " \n",
      "                                   | recipient.df.penultimate$newcomer \n",
      "recipient.df.penultimate$has_email |     FALSE |      TRUE | Row Total | \n",
      "-----------------------------------|-----------|-----------|-----------|\n",
      "                             False |        15 |        36 |        51 | \n",
      "                                   |     0.066 |     0.009 |           | \n",
      "-----------------------------------|-----------|-----------|-----------|\n",
      "                              True |       211 |      4078 |      4289 | \n",
      "                                   |     0.934 |     0.991 |           | \n",
      "-----------------------------------|-----------|-----------|-----------|\n",
      "                      Column Total |       226 |      4114 |      4340 | \n",
      "                                   |     0.052 |     0.948 |           | \n",
      "-----------------------------------|-----------|-----------|-----------|\n",
      "\n",
      " \n",
      "$t\n",
      "       y\n",
      "x       FALSE TRUE\n",
      "  False    15   36\n",
      "  True    211 4078\n",
      "\n",
      "$prop.row\n",
      "       y\n",
      "x        FALSE   TRUE\n",
      "  False 0.2941 0.7059\n",
      "  True  0.0492 0.9508\n",
      "\n",
      "$prop.col\n",
      "       y\n",
      "x          FALSE     TRUE\n",
      "  False 0.066372 0.008751\n",
      "  True  0.933628 0.991249\n",
      "\n",
      "$prop.tbl\n",
      "       y\n",
      "x          FALSE     TRUE\n",
      "  False 0.003456 0.008295\n",
      "  True  0.048618 0.939631\n",
      "\n"
     ]
    }
   ],
   "source": [
    "print(CrossTable(recipient.df.penultimate$has_email, recipient.df.penultimate$newcomer, \n",
    "       prop.r = FALSE, prop.c=TRUE, prop.t = FALSE, prop.chisq = FALSE))"
   ]
  },
  {
   "cell_type": "code",
   "execution_count": 16,
   "metadata": {},
   "outputs": [
    {
     "name": "stdout",
     "output_type": "stream",
     "text": [
      "[1] \"prev_experience\"\n",
      "   0   90  180  365  730 1460 2920 \n",
      "4114    2   18   42   33   52   79 \n",
      "\n",
      "[1] \"Aggregate labor_hours_84_days_pre_sample\"\n",
      "  Group.1 labor_hours_84_days_pre_sample\n",
      "1       0                         3.2465\n",
      "2      90                         0.9717\n",
      "3     180                         8.4362\n",
      "4     365                         2.4673\n",
      "5     730                         6.5320\n",
      "6    1460                         2.7131\n",
      "7    2920                         3.0215\n",
      "\n",
      "[1] \"NEWCOMERS AND EMAILS\"\n",
      "[1] \"--------------------\"\n",
      "\n",
      " \n",
      "   Cell Contents\n",
      "|-------------------------|\n",
      "|                       N |\n",
      "|           N / Col Total |\n",
      "|-------------------------|\n",
      "\n",
      " \n",
      "Total Observations in Table:  4340 \n",
      "\n",
      " \n",
      "                                   | recipient.df.penultimate$newcomer \n",
      "recipient.df.penultimate$has_email |     FALSE |      TRUE | Row Total | \n",
      "-----------------------------------|-----------|-----------|-----------|\n",
      "                             False |        15 |        36 |        51 | \n",
      "                                   |     0.066 |     0.009 |           | \n",
      "-----------------------------------|-----------|-----------|-----------|\n",
      "                              True |       211 |      4078 |      4289 | \n",
      "                                   |     0.934 |     0.991 |           | \n",
      "-----------------------------------|-----------|-----------|-----------|\n",
      "                      Column Total |       226 |      4114 |      4340 | \n",
      "                                   |     0.052 |     0.948 |           | \n",
      "-----------------------------------|-----------|-----------|-----------|\n",
      "\n",
      " \n",
      "$t\n",
      "       y\n",
      "x       FALSE TRUE\n",
      "  False    15   36\n",
      "  True    211 4078\n",
      "\n",
      "$prop.row\n",
      "       y\n",
      "x        FALSE   TRUE\n",
      "  False 0.2941 0.7059\n",
      "  True  0.0492 0.9508\n",
      "\n",
      "$prop.col\n",
      "       y\n",
      "x          FALSE     TRUE\n",
      "  False 0.066372 0.008751\n",
      "  True  0.933628 0.991249\n",
      "\n",
      "$prop.tbl\n",
      "       y\n",
      "x          FALSE     TRUE\n",
      "  False 0.003456 0.008295\n",
      "  True  0.048618 0.939631\n",
      "\n",
      "[1] \"num_prev_thanks_pre_sample\"\n",
      "   Min. 1st Qu.  Median    Mean 3rd Qu.    Max. \n",
      "   0.00    0.00    0.00    0.46    0.00  148.00 \n",
      "\n",
      "[1] \"num_prev_thanks_pre_sample by prev_experience\"\n",
      "  Group.1 num_prev_thanks_pre_sample\n",
      "1       0                     0.3763\n",
      "2      90                     0.0000\n",
      "3     180                     0.7778\n",
      "4     365                     0.2857\n",
      "5     730                     4.8788\n",
      "6    1460                     3.5385\n",
      "7    2920                     0.8481\n",
      "\n"
     ]
    }
   ],
   "source": [
    "## Update the has_email field\n",
    "## recipient.df.penultimate$has_email <- recipient.df.penultimate$has_email == \"True\"\n",
    "\n",
    "## PREVIOUS EXPERIENCE\n",
    "print(\"prev_experience\")\n",
    "print(summary(factor(recipient.df.penultimate$prev_experience)))\n",
    "cat(\"\\n\")\n",
    "\n",
    "## SHOW LABOR HOURS BY EXPERIENCE GROUP:\n",
    "print(\"Aggregate labor_hours_84_days_pre_sample\")\n",
    "print(aggregate(recipient.df.penultimate[c(\"labor_hours_84_days_pre_sample\")],\n",
    "          FUN=mean, by = list(recipient.df.penultimate$prev_experience)))\n",
    "cat(\"\\n\")\n",
    "\n",
    "print(\"NEWCOMERS AND EMAILS\")\n",
    "print(\"--------------------\")\n",
    "print(CrossTable(recipient.df.penultimate$has_email, recipient.df.penultimate$newcomer, \n",
    "       prop.r = FALSE, prop.c=TRUE, prop.t = FALSE, prop.chisq = FALSE))\n",
    "\n",
    "# VARIABLE: num_prev_thanks_pre_treatment\n",
    "print(\"num_prev_thanks_pre_sample\")\n",
    "print(summary(recipient.df.penultimate$num_prev_thanks_pre_sample))\n",
    "cat(\"\\n\")\n",
    "    \n",
    "## SHOW PREVIOUS THANKS BY EXPERIENCE GROUP:\n",
    "print(\"num_prev_thanks_pre_sample by prev_experience\")\n",
    "print(aggregate(recipient.df.penultimate[c(\"num_prev_thanks_pre_sample\")],\n",
    "      FUN=mean, by = list(recipient.df.penultimate$prev_experience)))\n",
    "cat(\"\\n\")"
   ]
  },
  {
   "cell_type": "markdown",
   "metadata": {},
   "source": [
    "# Subset Sample to Planned sample sizes\n",
    "Sample sizes are reported in the experiment [Decisions Document](https://docs.google.com/document/d/1HryhsmWI6WthXQC7zv9Hz1a9DhpZ3FxVRLjTONuMg4I/edit)\n",
    "\n",
    "* Arabic newcomers (1750 goal) (hoping for as many as possible in first sample)\n",
    "    * hoping for 1350 in the first sample and 400 later\n",
    "    * thanked 174.\n",
    "    * we incude all 1236 round 3 newcomers\n",
    "* German newcomers (3000 goal) (hoping for as many as possible in first sample)\n",
    "    * hoping for 1600 in first sample and 1400 later\n",
    "    * thanked 759. \n",
    "    * need to thank 750 more, accounting for 75% thank rate, including 2000 more round 3 newcomers\n",
    "* Persian Experienced (2400 goal)\n",
    "* Polish:\n",
    "    * Newcomers: (800 goal)\n",
    "    * thanked 74\n",
    "    * including 626 (maximum available)\n",
    "    * Experienced: (2400 goal)\n",
    "    * thanked 1082\n",
    "    * including 226 (maximum available)"
   ]
  },
  {
   "cell_type": "code",
   "execution_count": 17,
   "metadata": {},
   "outputs": [],
   "source": [
    "## Seed generated by Brooklyn Integers\n",
    "# https://www.brooklynintegers.com/int/1495265601/\n",
    "set.seed(1495265601)"
   ]
  },
  {
   "cell_type": "code",
   "execution_count": 18,
   "metadata": {},
   "outputs": [
    {
     "name": "stdout",
     "output_type": "stream",
     "text": [
      "[1] \"Newcomers\"\n"
     ]
    },
    {
     "data": {
      "text/html": [
       "<dl class=dl-horizontal>\n",
       "\t<dt>ar</dt>\n",
       "\t\t<dd>1217</dd>\n",
       "\t<dt>de</dt>\n",
       "\t\t<dd>2271</dd>\n",
       "\t<dt>pl</dt>\n",
       "\t\t<dd>626</dd>\n",
       "</dl>\n"
      ],
      "text/latex": [
       "\\begin{description*}\n",
       "\\item[ar] 1217\n",
       "\\item[de] 2271\n",
       "\\item[pl] 626\n",
       "\\end{description*}\n"
      ],
      "text/markdown": [
       "ar\n",
       ":   1217de\n",
       ":   2271pl\n",
       ":   626\n",
       "\n"
      ],
      "text/plain": [
       "  ar   de   pl \n",
       "1217 2271  626 "
      ]
     },
     "metadata": {},
     "output_type": "display_data"
    }
   ],
   "source": [
    "print(\"Newcomers\")\n",
    "summary(subset(recipient.df.penultimate, newcomer==1)$lang)"
   ]
  },
  {
   "cell_type": "code",
   "execution_count": 19,
   "metadata": {},
   "outputs": [
    {
     "name": "stdout",
     "output_type": "stream",
     "text": [
      "[1] \"Experienced\"\n"
     ]
    },
    {
     "data": {
      "text/html": [
       "<dl class=dl-horizontal>\n",
       "\t<dt>ar</dt>\n",
       "\t\t<dd>0</dd>\n",
       "\t<dt>de</dt>\n",
       "\t\t<dd>0</dd>\n",
       "\t<dt>pl</dt>\n",
       "\t\t<dd>226</dd>\n",
       "</dl>\n"
      ],
      "text/latex": [
       "\\begin{description*}\n",
       "\\item[ar] 0\n",
       "\\item[de] 0\n",
       "\\item[pl] 226\n",
       "\\end{description*}\n"
      ],
      "text/markdown": [
       "ar\n",
       ":   0de\n",
       ":   0pl\n",
       ":   226\n",
       "\n"
      ],
      "text/plain": [
       " ar  de  pl \n",
       "  0   0 226 "
      ]
     },
     "metadata": {},
     "output_type": "display_data"
    }
   ],
   "source": [
    "print(\"Experienced\")\n",
    "summary(subset(recipient.df.penultimate, newcomer==0)$lang)"
   ]
  },
  {
   "cell_type": "code",
   "execution_count": 20,
   "metadata": {},
   "outputs": [],
   "source": [
    "## CREATE THE FINAL PARTICIPANT SAMPLE BEFORE RANDOMIZATION\n",
    "recipient.df.final <- recipient.df.penultimate"
   ]
  },
  {
   "cell_type": "markdown",
   "metadata": {},
   "source": [
    "# Generate Randomization Blocks"
   ]
  },
  {
   "cell_type": "code",
   "execution_count": 21,
   "metadata": {},
   "outputs": [
    {
     "data": {
      "text/html": [
       "<ol class=list-inline>\n",
       "\t<li>'id'</li>\n",
       "\t<li>'created_at'</li>\n",
       "\t<li>'lang'</li>\n",
       "\t<li>'user_id'</li>\n",
       "\t<li>'user_name'</li>\n",
       "\t<li>'user_registration'</li>\n",
       "\t<li>'user_editcount'</li>\n",
       "\t<li>'user_editcount_quality'</li>\n",
       "\t<li>'prev_experience'</li>\n",
       "\t<li>'thanks_sent'</li>\n",
       "\t<li>'num_prev_thanks'</li>\n",
       "\t<li>'num_prev_thanks_90'</li>\n",
       "\t<li>'num_prev_thanks_pre_sample'</li>\n",
       "\t<li>'labor_hours_84_days_pre_sample'</li>\n",
       "\t<li>'has_email'</li>\n",
       "\t<li>'user_completed'</li>\n",
       "\t<li>'user_included'</li>\n",
       "\t<li>'anonymized_id'</li>\n",
       "\t<li>'newcomer'</li>\n",
       "\t<li>'lang_prev_experience'</li>\n",
       "</ol>\n"
      ],
      "text/latex": [
       "\\begin{enumerate*}\n",
       "\\item 'id'\n",
       "\\item 'created\\_at'\n",
       "\\item 'lang'\n",
       "\\item 'user\\_id'\n",
       "\\item 'user\\_name'\n",
       "\\item 'user\\_registration'\n",
       "\\item 'user\\_editcount'\n",
       "\\item 'user\\_editcount\\_quality'\n",
       "\\item 'prev\\_experience'\n",
       "\\item 'thanks\\_sent'\n",
       "\\item 'num\\_prev\\_thanks'\n",
       "\\item 'num\\_prev\\_thanks\\_90'\n",
       "\\item 'num\\_prev\\_thanks\\_pre\\_sample'\n",
       "\\item 'labor\\_hours\\_84\\_days\\_pre\\_sample'\n",
       "\\item 'has\\_email'\n",
       "\\item 'user\\_completed'\n",
       "\\item 'user\\_included'\n",
       "\\item 'anonymized\\_id'\n",
       "\\item 'newcomer'\n",
       "\\item 'lang\\_prev\\_experience'\n",
       "\\end{enumerate*}\n"
      ],
      "text/markdown": [
       "1. 'id'\n",
       "2. 'created_at'\n",
       "3. 'lang'\n",
       "4. 'user_id'\n",
       "5. 'user_name'\n",
       "6. 'user_registration'\n",
       "7. 'user_editcount'\n",
       "8. 'user_editcount_quality'\n",
       "9. 'prev_experience'\n",
       "10. 'thanks_sent'\n",
       "11. 'num_prev_thanks'\n",
       "12. 'num_prev_thanks_90'\n",
       "13. 'num_prev_thanks_pre_sample'\n",
       "14. 'labor_hours_84_days_pre_sample'\n",
       "15. 'has_email'\n",
       "16. 'user_completed'\n",
       "17. 'user_included'\n",
       "18. 'anonymized_id'\n",
       "19. 'newcomer'\n",
       "20. 'lang_prev_experience'\n",
       "\n",
       "\n"
      ],
      "text/plain": [
       " [1] \"id\"                             \"created_at\"                    \n",
       " [3] \"lang\"                           \"user_id\"                       \n",
       " [5] \"user_name\"                      \"user_registration\"             \n",
       " [7] \"user_editcount\"                 \"user_editcount_quality\"        \n",
       " [9] \"prev_experience\"                \"thanks_sent\"                   \n",
       "[11] \"num_prev_thanks\"                \"num_prev_thanks_90\"            \n",
       "[13] \"num_prev_thanks_pre_sample\"     \"labor_hours_84_days_pre_sample\"\n",
       "[15] \"has_email\"                      \"user_completed\"                \n",
       "[17] \"user_included\"                  \"anonymized_id\"                 \n",
       "[19] \"newcomer\"                       \"lang_prev_experience\"          "
      ]
     },
     "metadata": {},
     "output_type": "display_data"
    }
   ],
   "source": [
    "recipient.df.final$lang_prev_experience <- factor(paste(recipient.df.final$lang, recipient.df.final$prev_experience))\n",
    "colnames(recipient.df.final)"
   ]
  },
  {
   "cell_type": "code",
   "execution_count": 22,
   "metadata": {
    "scrolled": false
   },
   "outputs": [],
   "source": [
    "## BLOCKING VARIABLES\n",
    "bv = c(\"labor_hours_84_days_pre_sample\", \"num_prev_thanks_pre_sample\")\n",
    "\n",
    "block.size = 2\n",
    "\n",
    "## TODO: CHECK TO SEE IF I CAN DO BALANCED RANDOMIZATION\n",
    "## WITHIN BLOCKS LARGER THAN 2\n",
    "blockobj = block(data=recipient.df.final,\n",
    "            n.tr = block.size,\n",
    "            groups = \"lang_prev_experience\",\n",
    "            id.vars=\"anonymized_id\",\n",
    "            block.vars = bv,\n",
    "            distance =\"mahalanobis\"\n",
    "            )\n",
    "## CHECK DISTANCES\n",
    "#print(blockobj)\n",
    "recipient.df.final$randomization_block_id <- createBlockIDs(blockobj,\n",
    "                                   data=recipient.df.final,\n",
    "                                   id.var = \"anonymized_id\")\n",
    "recipient.df.final$randomization_block_size = block.size"
   ]
  },
  {
   "cell_type": "markdown",
   "metadata": {},
   "source": [
    "### Identify Incomplete Blocks and Remove Participants in Incomplete Blocks From the Experiment"
   ]
  },
  {
   "cell_type": "code",
   "execution_count": 23,
   "metadata": {},
   "outputs": [
    {
     "data": {
      "text/html": [
       "<ol class=list-inline>\n",
       "\t<li>609</li>\n",
       "\t<li>1745</li>\n",
       "\t<li>2133</li>\n",
       "\t<li>2171</li>\n",
       "</ol>\n"
      ],
      "text/latex": [
       "\\begin{enumerate*}\n",
       "\\item 609\n",
       "\\item 1745\n",
       "\\item 2133\n",
       "\\item 2171\n",
       "\\end{enumerate*}\n"
      ],
      "text/markdown": [
       "1. 609\n",
       "2. 1745\n",
       "3. 2133\n",
       "4. 2171\n",
       "\n",
       "\n"
      ],
      "text/plain": [
       "[1]  609 1745 2133 2171"
      ]
     },
     "metadata": {},
     "output_type": "display_data"
    }
   ],
   "source": [
    "block.sizes <- aggregate(recipient.df.final$randomization_block_id, FUN=length, by=list(recipient.df.final$randomization_block_id))\n",
    "incomplete.blocks <- subset(block.sizes, x == 1)$Group.1\n",
    "incomplete.blocks"
   ]
  },
  {
   "cell_type": "code",
   "execution_count": 24,
   "metadata": {},
   "outputs": [
    {
     "data": {
      "text/html": [
       "4"
      ],
      "text/latex": [
       "4"
      ],
      "text/markdown": [
       "4"
      ],
      "text/plain": [
       "[1] 4"
      ]
     },
     "metadata": {},
     "output_type": "display_data"
    }
   ],
   "source": [
    "nrow(subset(recipient.df.final, randomization_block_id %in% incomplete.blocks))"
   ]
  },
  {
   "cell_type": "code",
   "execution_count": 25,
   "metadata": {},
   "outputs": [
    {
     "name": "stdout",
     "output_type": "stream",
     "text": [
      "[1] \"Removed 4 units placed in incomplete blocks.\"\n"
     ]
    }
   ],
   "source": [
    "removed.observations <- subset(recipient.df.final, (\n",
    "    randomization_block_id %in% incomplete.blocks)==TRUE)\n",
    "\n",
    "recipient.df.final <- \n",
    "    subset(recipient.df.final, (\n",
    "        randomization_block_id %in% incomplete.blocks)!=TRUE)\n",
    "\n",
    "print(paste(\"Removed\", nrow(removed.observations), \"units placed in incomplete blocks.\"))"
   ]
  },
  {
   "cell_type": "markdown",
   "metadata": {},
   "source": [
    "# Generate Randomizations"
   ]
  },
  {
   "cell_type": "code",
   "execution_count": 26,
   "metadata": {},
   "outputs": [],
   "source": [
    "assignments <- block_ra(blocks=recipient.df.final$randomization_block_id, \n",
    "                            num_arms = 2, conditions = c(0,1))\n",
    "recipient.df.final$randomization_arm <- assignments "
   ]
  },
  {
   "cell_type": "markdown",
   "metadata": {},
   "source": [
    "### Check Balance"
   ]
  },
  {
   "cell_type": "code",
   "execution_count": 27,
   "metadata": {
    "scrolled": false
   },
   "outputs": [
    {
     "name": "stdout",
     "output_type": "stream",
     "text": [
      "[1] \"Aggregating labor hours by treatment\"\n",
      "  Group.1 labor_hours_84_days_pre_sample\n",
      "1       0                           3.24\n",
      "2       1                           3.18\n",
      "[1] \"CrossTable of lang by treatment\"\n",
      "\n",
      " \n",
      "   Cell Contents\n",
      "|-------------------------|\n",
      "|                       N |\n",
      "|           N / Row Total |\n",
      "|-------------------------|\n",
      "\n",
      " \n",
      "Total Observations in Table:  4336 \n",
      "\n",
      " \n",
      "                        | recipient.df.final$randomization_arm \n",
      "recipient.df.final$lang |         0 |         1 | Row Total | \n",
      "------------------------|-----------|-----------|-----------|\n",
      "                     ar |       608 |       608 |      1216 | \n",
      "                        |     0.500 |     0.500 |     0.280 | \n",
      "------------------------|-----------|-----------|-----------|\n",
      "                     de |      1135 |      1135 |      2270 | \n",
      "                        |     0.500 |     0.500 |     0.524 | \n",
      "------------------------|-----------|-----------|-----------|\n",
      "                     pl |       425 |       425 |       850 | \n",
      "                        |     0.500 |     0.500 |     0.196 | \n",
      "------------------------|-----------|-----------|-----------|\n",
      "           Column Total |      2168 |      2168 |      4336 | \n",
      "------------------------|-----------|-----------|-----------|\n",
      "\n",
      " \n",
      "[1] \"CrossTable of lang_prev_experience by treatment\"\n",
      "\n",
      " \n",
      "   Cell Contents\n",
      "|-------------------------|\n",
      "|                       N |\n",
      "|           N / Row Total |\n",
      "|-------------------------|\n",
      "\n",
      " \n",
      "Total Observations in Table:  4336 \n",
      "\n",
      " \n",
      "                                        | recipient.df.final$randomization_arm \n",
      "recipient.df.final$lang_prev_experience |         0 |         1 | Row Total | \n",
      "----------------------------------------|-----------|-----------|-----------|\n",
      "                                   ar 0 |       608 |       608 |      1216 | \n",
      "                                        |     0.500 |     0.500 |     0.280 | \n",
      "----------------------------------------|-----------|-----------|-----------|\n",
      "                                   de 0 |      1135 |      1135 |      2270 | \n",
      "                                        |     0.500 |     0.500 |     0.524 | \n",
      "----------------------------------------|-----------|-----------|-----------|\n",
      "                                   pl 0 |       313 |       313 |       626 | \n",
      "                                        |     0.500 |     0.500 |     0.144 | \n",
      "----------------------------------------|-----------|-----------|-----------|\n",
      "                                pl 1460 |        26 |        26 |        52 | \n",
      "                                        |     0.500 |     0.500 |     0.012 | \n",
      "----------------------------------------|-----------|-----------|-----------|\n",
      "                                 pl 180 |         9 |         9 |        18 | \n",
      "                                        |     0.500 |     0.500 |     0.004 | \n",
      "----------------------------------------|-----------|-----------|-----------|\n",
      "                                pl 2920 |        39 |        39 |        78 | \n",
      "                                        |     0.500 |     0.500 |     0.018 | \n",
      "----------------------------------------|-----------|-----------|-----------|\n",
      "                                 pl 365 |        21 |        21 |        42 | \n",
      "                                        |     0.500 |     0.500 |     0.010 | \n",
      "----------------------------------------|-----------|-----------|-----------|\n",
      "                                 pl 730 |        16 |        16 |        32 | \n",
      "                                        |     0.500 |     0.500 |     0.007 | \n",
      "----------------------------------------|-----------|-----------|-----------|\n",
      "                                  pl 90 |         1 |         1 |         2 | \n",
      "                                        |     0.500 |     0.500 |     0.000 | \n",
      "----------------------------------------|-----------|-----------|-----------|\n",
      "                           Column Total |      2168 |      2168 |      4336 | \n",
      "----------------------------------------|-----------|-----------|-----------|\n",
      "\n",
      " \n"
     ]
    }
   ],
   "source": [
    "print(\"Aggregating labor hours by treatment\")\n",
    "print(aggregate(recipient.df.final[c(\"labor_hours_84_days_pre_sample\")],\n",
    "          FUN=mean, by = list(recipient.df.final$randomization_arm)))\n",
    "\n",
    "print(\"CrossTable of lang by treatment\")\n",
    "CrossTable(recipient.df.final$lang, recipient.df.final$randomization_arm, \n",
    "       prop.r = TRUE, prop.c=FALSE, prop.t = FALSE, prop.chisq = FALSE)\n",
    "\n",
    "print(\"CrossTable of lang_prev_experience by treatment\")\n",
    "CrossTable(recipient.df.final$lang_prev_experience, recipient.df.final$randomization_arm, \n",
    "       prop.r = TRUE, prop.c=FALSE, prop.t = FALSE, prop.chisq = FALSE)\n"
   ]
  },
  {
   "cell_type": "markdown",
   "metadata": {},
   "source": [
    "# Subset German Newcomers Accounts\n",
    "Within German, identify 2000 accounts (1000 blocks) to include and drop all of the others."
   ]
  },
  {
   "cell_type": "code",
   "execution_count": 28,
   "metadata": {},
   "outputs": [
    {
     "data": {
      "text/html": [
       "2271"
      ],
      "text/latex": [
       "2271"
      ],
      "text/markdown": [
       "2271"
      ],
      "text/plain": [
       "[1] 2271"
      ]
     },
     "metadata": {},
     "output_type": "display_data"
    }
   ],
   "source": [
    "length(subset(recipient.df.penultimate, lang=='de')$prev_experience)"
   ]
  },
  {
   "cell_type": "code",
   "execution_count": 29,
   "metadata": {},
   "outputs": [
    {
     "name": "stdout",
     "output_type": "stream",
     "text": [
      "[1] \"Number of Accounts for each experience level among German Participants\"\n",
      "  Group.1 count.var\n",
      "1       0      2270\n",
      "\n"
     ]
    }
   ],
   "source": [
    "## SHOW PREVIOUS THANKS BY EXPERIENCE GROUP:\n",
    "recipient.df.final$count.var <- 1\n",
    "print(\"Number of Accounts for each experience level among German Participants\")\n",
    "print(aggregate(subset(recipient.df.final, lang==\"de\")[c(\"count.var\")],\n",
    "      FUN=sum, by = list(subset(recipient.df.final, lang==\"de\")$prev_experience)))\n",
    "cat(\"\\n\")"
   ]
  },
  {
   "cell_type": "code",
   "execution_count": 30,
   "metadata": {},
   "outputs": [],
   "source": [
    "num.de.blocks.target <- 1000\n",
    "\n",
    "included.de.blocks.df <-\n",
    "recipient.df.final %>% \n",
    "subset(lang=='de') %>% \n",
    "select(randomization_block_id) %>% \n",
    "unique() %>% \n",
    "sample_n(num.de.blocks.target)\n",
    "\n",
    "included.pl.blocks.df <-\n",
    "recipient.df.final %>% \n",
    "subset(lang=='pl') %>% \n",
    "select(randomization_block_id) %>% \n",
    "unique()\n",
    "\n",
    "included.ar.blocks.df <-\n",
    "recipient.df.final %>% \n",
    "subset(lang=='ar') %>% \n",
    "select(randomization_block_id) %>% \n",
    "unique()\n",
    "\n",
    "included.de.blocks <- included.de.blocks.df$randomization_block_id\n",
    "included.pl.blocks <- included.pl.blocks.df$randomization_block_id\n",
    "included.ar.blocks <- included.ar.blocks.df$randomization_block_id\n",
    "\n",
    "\n",
    "included.blocks <- c(included.de.blocks, included.pl.blocks, included.ar.blocks)"
   ]
  },
  {
   "cell_type": "code",
   "execution_count": 31,
   "metadata": {},
   "outputs": [
    {
     "name": "stdout",
     "output_type": "stream",
     "text": [
      "[1] \"Blocks before subsetting\"\n",
      "[1] 2168\n",
      "[1] \"Blocks after subsetting\"\n",
      "[1] 2033\n",
      "[1] \"Expected blocks deduction\"\n",
      "[1] -135\n",
      "[1] \"Assert valid\"\n",
      "[1] TRUE\n"
     ]
    }
   ],
   "source": [
    "total.blocks.pre.subset <- recipient.df.final %>% select(randomization_block_id) %>% unique %>% nrow\n",
    "total.blocks.post.subset <- included.blocks %>% length\n",
    "expected.block.deduction <- 1000 - recipient.df.final %>%  subset(lang=='de') %>%  select(randomization_block_id) %>%  unique() %>% nrow\n",
    "print(\"Blocks before subsetting\")\n",
    "print(total.blocks.pre.subset)\n",
    "print(\"Blocks after subsetting\")\n",
    "print(total.blocks.post.subset)\n",
    "print(\"Expected blocks deduction\")\n",
    "print(expected.block.deduction)\n",
    "print(\"Assert valid\")\n",
    "print(total.blocks.pre.subset + expected.block.deduction == total.blocks.post.subset)\n"
   ]
  },
  {
   "cell_type": "code",
   "execution_count": 32,
   "metadata": {},
   "outputs": [],
   "source": [
    "recipient.df.final.included <- recipient.df.final %>% filter(randomization_block_id %in% included.blocks)"
   ]
  },
  {
   "cell_type": "code",
   "execution_count": 33,
   "metadata": {},
   "outputs": [
    {
     "name": "stdout",
     "output_type": "stream",
     "text": [
      "[1] \"Included users before subsetting\"\n",
      "[1] 4336\n",
      "[1] \"Included users after subsetting\"\n",
      "[1] 4066\n"
     ]
    }
   ],
   "source": [
    "print('Included users before subsetting')\n",
    "print(nrow(recipient.df.final))\n",
    "print(\"Included users after subsetting\")\n",
    "print(nrow(recipient.df.final.included))"
   ]
  },
  {
   "cell_type": "markdown",
   "metadata": {},
   "source": [
    "### Offset block IDs to be unique\n",
    "Observe the block IDs from the previous randomizations and ensure that these ones are unique and larger."
   ]
  },
  {
   "cell_type": "code",
   "execution_count": 34,
   "metadata": {},
   "outputs": [
    {
     "name": "stdout",
     "output_type": "stream",
     "text": [
      "[1] \"Max Block ID:  5827\"\n"
     ]
    }
   ],
   "source": [
    "## LOAD PREVIOUS RANDOMIZATIONS\n",
    "prev_randomization_filename <- \"thanks-recipient-randomizations-20191029.csv\"\n",
    "prev.randomization.df <- read.csv(file.path(data.path, \"randomization_output\", prev_randomization_filename))\n",
    "print(paste(\"Max Block ID: \", max(prev.randomization.df$randomization_block_id)))\n",
    "prev.max.block.id <- max(prev.randomization.df$randomization_block_id)"
   ]
  },
  {
   "cell_type": "code",
   "execution_count": 35,
   "metadata": {},
   "outputs": [],
   "source": [
    "prev.max.block.id <- 5827"
   ]
  },
  {
   "cell_type": "code",
   "execution_count": 36,
   "metadata": {},
   "outputs": [],
   "source": [
    "# recipient.df.final.included$initial.block.id <- NA"
   ]
  },
  {
   "cell_type": "code",
   "execution_count": 37,
   "metadata": {},
   "outputs": [],
   "source": [
    "recipient.df.final.included$initial.block.id <- recipient.df.final.included$randomization_block_id"
   ]
  },
  {
   "cell_type": "code",
   "execution_count": 38,
   "metadata": {},
   "outputs": [],
   "source": [
    "recipient.df.final.included$randomization_block_id <- recipient.df.final.included$initial.block.id + prev.max.block.id\n",
    "# summary(recipient.df.final.included$randomization_block_id)"
   ]
  },
  {
   "cell_type": "code",
   "execution_count": 39,
   "metadata": {},
   "outputs": [
    {
     "data": {
      "text/html": [
       "<table>\n",
       "<thead><tr><th scope=col>id</th><th scope=col>created_at</th><th scope=col>lang</th><th scope=col>user_id</th><th scope=col>user_name</th><th scope=col>user_registration</th><th scope=col>user_editcount</th><th scope=col>user_editcount_quality</th><th scope=col>prev_experience</th><th scope=col>thanks_sent</th><th scope=col>⋯</th><th scope=col>user_completed</th><th scope=col>user_included</th><th scope=col>anonymized_id</th><th scope=col>newcomer</th><th scope=col>lang_prev_experience</th><th scope=col>randomization_block_id</th><th scope=col>randomization_block_size</th><th scope=col>randomization_arm</th><th scope=col>count.var</th><th scope=col>initial.block.id</th></tr></thead>\n",
       "<tbody>\n",
       "\t<tr><td>67747                               </td><td>2020-01-20T14:57:09                 </td><td>ar                                  </td><td>1576994                             </td><td>Mr.dagbashey                        </td><td>2018-10-27T00:11:36                 </td><td> 19                                 </td><td> 4                                  </td><td>0                                   </td><td>NA                                  </td><td>⋯                                   </td><td>False                               </td><td>True                                </td><td>42994612-7a0f-4078-86d4-778e91d54216</td><td>TRUE                                </td><td>ar 0                                </td><td>5987                                </td><td>2                                   </td><td>0                                   </td><td>1                                   </td><td>160                                 </td></tr>\n",
       "\t<tr><td>67749                               </td><td>2020-01-20T14:57:09                 </td><td>ar                                  </td><td>1577265                             </td><td>TheTrueGilben                       </td><td>2018-10-27T14:19:06                 </td><td> 23                                 </td><td> 5                                  </td><td>0                                   </td><td>NA                                  </td><td>⋯                                   </td><td>False                               </td><td>True                                </td><td>2db3f3ae-26dc-4e82-b221-065eab7cadc7</td><td>TRUE                                </td><td>ar 0                                </td><td>6312                                </td><td>2                                   </td><td>1                                   </td><td>1                                   </td><td>485                                 </td></tr>\n",
       "\t<tr><td>67751                               </td><td>2020-01-20T14:57:09                 </td><td>ar                                  </td><td>1578065                             </td><td>Lara Ehwait                         </td><td>2018-10-28T20:20:37                 </td><td>  6                                 </td><td> 6                                  </td><td>0                                   </td><td>NA                                  </td><td>⋯                                   </td><td>False                               </td><td>True                                </td><td>5f996a6b-90d1-4829-83dd-17ac82d304b2</td><td>TRUE                                </td><td>ar 0                                </td><td>5852                                </td><td>2                                   </td><td>1                                   </td><td>1                                   </td><td> 25                                 </td></tr>\n",
       "\t<tr><td>67755                               </td><td>2020-01-20T14:57:10                 </td><td>ar                                  </td><td>1579150                             </td><td>Saadbarri                           </td><td>2018-10-30T18:56:04                 </td><td>  7                                 </td><td> 7                                  </td><td>0                                   </td><td>NA                                  </td><td>⋯                                   </td><td>False                               </td><td>True                                </td><td>7d2e9764-dbe4-4f8c-8262-af53fc0415e8</td><td>TRUE                                </td><td>ar 0                                </td><td>6224                                </td><td>2                                   </td><td>1                                   </td><td>1                                   </td><td>397                                 </td></tr>\n",
       "\t<tr><td>67759                               </td><td>2020-01-20T14:57:10                 </td><td>ar                                  </td><td>1580146                             </td><td>Gerges6                             </td><td>2018-11-01T16:58:57                 </td><td> 21                                 </td><td> 4                                  </td><td>0                                   </td><td>NA                                  </td><td>⋯                                   </td><td>False                               </td><td>True                                </td><td>4e761f26-636a-4d2c-b9d1-f04c864ff313</td><td>TRUE                                </td><td>ar 0                                </td><td>6247                                </td><td>2                                   </td><td>0                                   </td><td>1                                   </td><td>420                                 </td></tr>\n",
       "\t<tr><td>67760                               </td><td>2020-01-20T14:57:10                 </td><td>ar                                  </td><td>1580237                             </td><td>ابو حلب1020                         </td><td>2018-11-01T20:37:14                 </td><td> 11                                 </td><td> 5                                  </td><td>0                                   </td><td>NA                                  </td><td>⋯                                   </td><td>False                               </td><td>True                                </td><td>c298fc95-c186-488d-9052-69622226e6d5</td><td>TRUE                                </td><td>ar 0                                </td><td>6105                                </td><td>2                                   </td><td>0                                   </td><td>1                                   </td><td>278                                 </td></tr>\n",
       "\t<tr><td>67763                               </td><td>2020-01-20T14:57:10                 </td><td>ar                                  </td><td>1581160                             </td><td>Sherif.Othman1                      </td><td>2018-11-03T17:11:07                 </td><td> 27                                 </td><td>19                                  </td><td>0                                   </td><td>NA                                  </td><td>⋯                                   </td><td>False                               </td><td>True                                </td><td>a3605357-a9ed-45b3-902a-a393899f5259</td><td>TRUE                                </td><td>ar 0                                </td><td>6408                                </td><td>2                                   </td><td>0                                   </td><td>1                                   </td><td>581                                 </td></tr>\n",
       "\t<tr><td>67768                               </td><td>2020-01-20T14:57:10                 </td><td>ar                                  </td><td>1583064                             </td><td>Saudi 238                           </td><td>2018-11-06T21:25:58                 </td><td> 14                                 </td><td> 4                                  </td><td>0                                   </td><td>NA                                  </td><td>⋯                                   </td><td>False                               </td><td>True                                </td><td>57ea38e2-ad0f-4121-a9df-b266f90e8cec</td><td>TRUE                                </td><td>ar 0                                </td><td>6122                                </td><td>2                                   </td><td>0                                   </td><td>1                                   </td><td>295                                 </td></tr>\n",
       "\t<tr><td>67770                               </td><td>2020-01-20T14:57:10                 </td><td>ar                                  </td><td>1584050                             </td><td>Nagham jamjoom                      </td><td>2018-11-08T18:01:23                 </td><td> 70                                 </td><td>35                                  </td><td>0                                   </td><td>NA                                  </td><td>⋯                                   </td><td>False                               </td><td>True                                </td><td>b134690d-9798-4ef0-8f5d-aad34507b200</td><td>TRUE                                </td><td>ar 0                                </td><td>6413                                </td><td>2                                   </td><td>0                                   </td><td>1                                   </td><td>586                                 </td></tr>\n",
       "\t<tr><td>67772                               </td><td>2020-01-20T14:57:10                 </td><td>ar                                  </td><td>1584435                             </td><td>دانا عبد العزيز الجعبري             </td><td>2018-11-09T12:30:30                 </td><td> 80                                 </td><td>33                                  </td><td>0                                   </td><td>NA                                  </td><td>⋯                                   </td><td>False                               </td><td>True                                </td><td>455a3eeb-f6a8-424c-829e-49f6af98bc8e</td><td>TRUE                                </td><td>ar 0                                </td><td>6371                                </td><td>2                                   </td><td>1                                   </td><td>1                                   </td><td>544                                 </td></tr>\n",
       "\t<tr><td>67774                               </td><td>2020-01-20T14:57:10                 </td><td>ar                                  </td><td>1585374                             </td><td>Zainab Wasel                        </td><td>2018-11-11T07:21:00                 </td><td>233                                 </td><td>47                                  </td><td>0                                   </td><td>NA                                  </td><td>⋯                                   </td><td>False                               </td><td>True                                </td><td>93d0a4e0-4aa9-485b-82fa-1ea47336cc4b</td><td>TRUE                                </td><td>ar 0                                </td><td>6387                                </td><td>2                                   </td><td>0                                   </td><td>1                                   </td><td>560                                 </td></tr>\n",
       "\t<tr><td>67776                               </td><td>2020-01-20T14:57:11                 </td><td>ar                                  </td><td>1585438                             </td><td>Xtam5imX                            </td><td>2018-11-11T10:16:55                 </td><td> 12                                 </td><td> 4                                  </td><td>0                                   </td><td>NA                                  </td><td>⋯                                   </td><td>False                               </td><td>True                                </td><td>14837131-048e-49f9-a908-f55582f3c4bf</td><td>TRUE                                </td><td>ar 0                                </td><td>6136                                </td><td>2                                   </td><td>1                                   </td><td>1                                   </td><td>309                                 </td></tr>\n",
       "\t<tr><td>67779                               </td><td>2020-01-20T14:57:11                 </td><td>ar                                  </td><td>1586795                             </td><td>Emascandam                          </td><td>2018-11-13T21:21:45                 </td><td> 22                                 </td><td> 8                                  </td><td>0                                   </td><td>NA                                  </td><td>⋯                                   </td><td>False                               </td><td>True                                </td><td>cd7be276-416b-42ab-a0f1-b03af2f87f9d</td><td>TRUE                                </td><td>ar 0                                </td><td>5969                                </td><td>2                                   </td><td>1                                   </td><td>1                                   </td><td>142                                 </td></tr>\n",
       "\t<tr><td>67780                               </td><td>2020-01-20T14:57:11                 </td><td>ar                                  </td><td>1586966                             </td><td>Farouk Alghamrawi                   </td><td>2018-11-14T08:03:22                 </td><td> 93                                 </td><td>29                                  </td><td>0                                   </td><td>NA                                  </td><td>⋯                                   </td><td>False                               </td><td>True                                </td><td>972d47f5-822b-4960-a0f2-eef3a2386abb</td><td>TRUE                                </td><td>ar 0                                </td><td>6297                                </td><td>2                                   </td><td>1                                   </td><td>1                                   </td><td>470                                 </td></tr>\n",
       "\t<tr><td>67781                               </td><td>2020-01-20T14:57:11                 </td><td>ar                                  </td><td>1587372                             </td><td>ربيع الاسيد                         </td><td>2018-11-14T23:06:51                 </td><td> 13                                 </td><td>11                                  </td><td>0                                   </td><td>NA                                  </td><td>⋯                                   </td><td>False                               </td><td>True                                </td><td>0465e9ed-a09d-4ba6-9e74-2eb71a2bd13c</td><td>TRUE                                </td><td>ar 0                                </td><td>6285                                </td><td>2                                   </td><td>1                                   </td><td>1                                   </td><td>458                                 </td></tr>\n",
       "\t<tr><td>67782                               </td><td>2020-01-20T14:57:11                 </td><td>ar                                  </td><td>1587384                             </td><td>سعد الحسنات                         </td><td>2018-11-14T23:33:32                 </td><td> 51                                 </td><td>32                                  </td><td>0                                   </td><td>NA                                  </td><td>⋯                                   </td><td>False                               </td><td>True                                </td><td>0ada065b-697d-4dea-a92e-ae78f896c757</td><td>TRUE                                </td><td>ar 0                                </td><td>6288                                </td><td>2                                   </td><td>0                                   </td><td>1                                   </td><td>461                                 </td></tr>\n",
       "\t<tr><td>67783                               </td><td>2020-01-20T14:57:11                 </td><td>ar                                  </td><td>1587591                             </td><td>Amir-Jundi                          </td><td>2018-11-15T13:12:58                 </td><td> 46                                 </td><td> 6                                  </td><td>0                                   </td><td>NA                                  </td><td>⋯                                   </td><td>False                               </td><td>True                                </td><td>f1bfb9d4-54f5-4e58-be3b-55f28ecba29d</td><td>TRUE                                </td><td>ar 0                                </td><td>6347                                </td><td>2                                   </td><td>1                                   </td><td>1                                   </td><td>520                                 </td></tr>\n",
       "\t<tr><td>67784                               </td><td>2020-01-20T14:57:11                 </td><td>ar                                  </td><td>1588541                             </td><td>صلاح ٢٠٠٠                           </td><td>2018-11-17T12:04:01                 </td><td>558                                 </td><td>25                                  </td><td>0                                   </td><td>NA                                  </td><td>⋯                                   </td><td>False                               </td><td>True                                </td><td>62d36cd4-8160-4ec4-9445-65d547f57f5f</td><td>TRUE                                </td><td>ar 0                                </td><td>6407                                </td><td>2                                   </td><td>0                                   </td><td>1                                   </td><td>580                                 </td></tr>\n",
       "\t<tr><td>67788                               </td><td>2020-01-20T14:57:11                 </td><td>ar                                  </td><td>1589446                             </td><td>فيصل 1993                           </td><td>2018-11-19T07:24:13                 </td><td> 28                                 </td><td> 9                                  </td><td>0                                   </td><td>NA                                  </td><td>⋯                                   </td><td>False                               </td><td>True                                </td><td>9ceb6f51-eed6-450e-ac5d-75140768a272</td><td>TRUE                                </td><td>ar 0                                </td><td>5988                                </td><td>2                                   </td><td>1                                   </td><td>1                                   </td><td>161                                 </td></tr>\n",
       "\t<tr><td>67790                               </td><td>2020-01-20T14:57:11                 </td><td>ar                                  </td><td>1590094                             </td><td>Nizarelheni                         </td><td>2018-11-20T12:57:14                 </td><td> 30                                 </td><td>15                                  </td><td>0                                   </td><td>NA                                  </td><td>⋯                                   </td><td>False                               </td><td>True                                </td><td>04c21232-7ee0-4983-89bf-2660eec4baca</td><td>TRUE                                </td><td>ar 0                                </td><td>6314                                </td><td>2                                   </td><td>0                                   </td><td>1                                   </td><td>487                                 </td></tr>\n",
       "\t<tr><td>67792                               </td><td>2020-01-20T14:57:11                 </td><td>ar                                  </td><td>1591146                             </td><td>Anttarm                             </td><td>2018-11-22T08:17:05                 </td><td> 29                                 </td><td> 8                                  </td><td>0                                   </td><td>NA                                  </td><td>⋯                                   </td><td>False                               </td><td>True                                </td><td>642bb453-c510-4cfc-93c0-5593b6ddf1bb</td><td>TRUE                                </td><td>ar 0                                </td><td>6072                                </td><td>2                                   </td><td>1                                   </td><td>1                                   </td><td>245                                 </td></tr>\n",
       "\t<tr><td>67793                               </td><td>2020-01-20T14:57:11                 </td><td>ar                                  </td><td>1591888                             </td><td>Salman Gaafar                       </td><td>2018-11-23T19:17:10                 </td><td>  4                                 </td><td> 4                                  </td><td>0                                   </td><td>NA                                  </td><td>⋯                                   </td><td>False                               </td><td>True                                </td><td>f21ea478-ab40-4ebc-9c22-4d2a4999700c</td><td>TRUE                                </td><td>ar 0                                </td><td>6278                                </td><td>2                                   </td><td>1                                   </td><td>1                                   </td><td>451                                 </td></tr>\n",
       "\t<tr><td>67794                               </td><td>2020-01-20T14:57:12                 </td><td>ar                                  </td><td>1592659                             </td><td>Ola.mahadi                          </td><td>2018-11-25T08:59:05                 </td><td> 76                                 </td><td>23                                  </td><td>0                                   </td><td>NA                                  </td><td>⋯                                   </td><td>False                               </td><td>True                                </td><td>9cb1eee8-3ac9-47bf-b529-a795b6c376e1</td><td>TRUE                                </td><td>ar 0                                </td><td>6381                                </td><td>2                                   </td><td>0                                   </td><td>1                                   </td><td>554                                 </td></tr>\n",
       "\t<tr><td>67798                               </td><td>2020-01-20T14:57:12                 </td><td>ar                                  </td><td>1595163                             </td><td>Sky365                              </td><td>2018-11-29T19:56:21                 </td><td>  5                                 </td><td> 5                                  </td><td>0                                   </td><td>NA                                  </td><td>⋯                                   </td><td>False                               </td><td>True                                </td><td>13f16ab5-b08c-4cd2-b872-8a6b07038205</td><td>TRUE                                </td><td>ar 0                                </td><td>5914                                </td><td>2                                   </td><td>1                                   </td><td>1                                   </td><td> 87                                 </td></tr>\n",
       "\t<tr><td>67799                               </td><td>2020-01-20T14:57:12                 </td><td>ar                                  </td><td>1595309                             </td><td>Salma Yehia F                       </td><td>2018-11-30T03:36:45                 </td><td>156                                 </td><td>35                                  </td><td>0                                   </td><td>NA                                  </td><td>⋯                                   </td><td>False                               </td><td>True                                </td><td>07ae18d0-ab29-44cc-9725-be58fd289378</td><td>TRUE                                </td><td>ar 0                                </td><td>6402                                </td><td>2                                   </td><td>1                                   </td><td>1                                   </td><td>575                                 </td></tr>\n",
       "\t<tr><td>67802                               </td><td>2020-01-20T14:57:12                 </td><td>ar                                  </td><td>1595757                             </td><td>Ahmad Abo Ali                       </td><td>2018-11-30T21:34:58                 </td><td> 72                                 </td><td> 5                                  </td><td>0                                   </td><td>NA                                  </td><td>⋯                                   </td><td>False                               </td><td>True                                </td><td>0c76a3d7-9c10-4025-9bf7-f3dac260ea29</td><td>TRUE                                </td><td>ar 0                                </td><td>6411                                </td><td>2                                   </td><td>1                                   </td><td>1                                   </td><td>584                                 </td></tr>\n",
       "\t<tr><td>67804                               </td><td>2020-01-20T14:57:12                 </td><td>ar                                  </td><td>1595946                             </td><td>Veuhx1433                           </td><td>2018-12-01T08:22:37                 </td><td> 54                                 </td><td> 8                                  </td><td>0                                   </td><td>NA                                  </td><td>⋯                                   </td><td>False                               </td><td>True                                </td><td>5a60b534-a533-44d6-b332-67953ce6b571</td><td>TRUE                                </td><td>ar 0                                </td><td>6353                                </td><td>2                                   </td><td>0                                   </td><td>1                                   </td><td>526                                 </td></tr>\n",
       "\t<tr><td>67807                               </td><td>2020-01-20T14:57:12                 </td><td>ar                                  </td><td>1596651                             </td><td>Mohamedibrahem321                   </td><td>2018-12-02T11:49:32                 </td><td> 44                                 </td><td> 8                                  </td><td>0                                   </td><td>NA                                  </td><td>⋯                                   </td><td>False                               </td><td>True                                </td><td>a0914b08-87e0-4860-a166-7595e6b09e49</td><td>TRUE                                </td><td>ar 0                                </td><td>6348                                </td><td>2                                   </td><td>1                                   </td><td>1                                   </td><td>521                                 </td></tr>\n",
       "\t<tr><td>67810                               </td><td>2020-01-20T14:57:12                 </td><td>ar                                  </td><td>1597742                             </td><td>Ali 919049                          </td><td>2018-12-04T05:16:33                 </td><td> 14                                 </td><td> 4                                  </td><td>0                                   </td><td>NA                                  </td><td>⋯                                   </td><td>False                               </td><td>True                                </td><td>4c834f28-ecdc-41dc-b9f1-f4045850422c</td><td>TRUE                                </td><td>ar 0                                </td><td>6258                                </td><td>2                                   </td><td>0                                   </td><td>1                                   </td><td>431                                 </td></tr>\n",
       "\t<tr><td>67813                               </td><td>2020-01-20T14:57:12                 </td><td>ar                                  </td><td>1598301                             </td><td>Faisalm1                            </td><td>2018-12-05T02:20:36                 </td><td> 28                                 </td><td>16                                  </td><td>0                                   </td><td>NA                                  </td><td>⋯                                   </td><td>False                               </td><td>True                                </td><td>a32172e4-4ef9-40ac-a52d-b3b8007182fa</td><td>TRUE                                </td><td>ar 0                                </td><td>6391                                </td><td>2                                   </td><td>0                                   </td><td>1                                   </td><td>564                                 </td></tr>\n",
       "\t<tr><td>⋮</td><td>⋮</td><td>⋮</td><td>⋮</td><td>⋮</td><td>⋮</td><td>⋮</td><td>⋮</td><td>⋮</td><td>⋮</td><td>⋱</td><td>⋮</td><td>⋮</td><td>⋮</td><td>⋮</td><td>⋮</td><td>⋮</td><td>⋮</td><td>⋮</td><td>⋮</td><td>⋮</td></tr>\n",
       "\t<tr><td>66461                               </td><td>2020-01-20T13:09:16                 </td><td>pl                                  </td><td>1013527                             </td><td>Kuba Ohyt                           </td><td>2020-01-14T15:34:34                 </td><td>10                                  </td><td> 5                                  </td><td>0                                   </td><td>NA                                  </td><td>⋯                                   </td><td>False                               </td><td>True                                </td><td>9234101e-fa68-4c6f-b07d-e43b6be0028c</td><td>TRUE                                </td><td>pl 0                                </td><td>7717                                </td><td>2                                   </td><td>0                                   </td><td>1                                   </td><td>1890                                </td></tr>\n",
       "\t<tr><td>66464                               </td><td>2020-01-20T13:09:17                 </td><td>pl                                  </td><td>1013668                             </td><td>Only money                          </td><td>2020-01-15T08:09:38                 </td><td> 8                                  </td><td> 7                                  </td><td>0                                   </td><td>NA                                  </td><td>⋯                                   </td><td>False                               </td><td>True                                </td><td>a0752702-058a-4764-9b03-350d9b6bfe9c</td><td>TRUE                                </td><td>pl 0                                </td><td>7871                                </td><td>2                                   </td><td>1                                   </td><td>1                                   </td><td>2044                                </td></tr>\n",
       "\t<tr><td>66467                               </td><td>2020-01-20T13:09:17                 </td><td>pl                                  </td><td>1013707                             </td><td>Szołtysek                           </td><td>2020-01-15T11:41:18                 </td><td> 5                                  </td><td> 5                                  </td><td>0                                   </td><td>NA                                  </td><td>⋯                                   </td><td>False                               </td><td>True                                </td><td>a46d4788-8436-451e-b3a4-7c88aafe050d</td><td>TRUE                                </td><td>pl 0                                </td><td>7635                                </td><td>2                                   </td><td>0                                   </td><td>1                                   </td><td>1808                                </td></tr>\n",
       "\t<tr><td>66468                               </td><td>2020-01-20T13:09:17                 </td><td>pl                                  </td><td>1013795                             </td><td>Nitrobacter96                       </td><td>2020-01-15T17:04:53                 </td><td>10                                  </td><td> 7                                  </td><td>0                                   </td><td>NA                                  </td><td>⋯                                   </td><td>False                               </td><td>True                                </td><td>9930a0cb-6875-4794-91a1-9e494b85ff34</td><td>TRUE                                </td><td>pl 0                                </td><td>7720                                </td><td>2                                   </td><td>1                                   </td><td>1                                   </td><td>1893                                </td></tr>\n",
       "\t<tr><td>66470                               </td><td>2020-01-20T13:09:17                 </td><td>pl                                  </td><td>1013835                             </td><td>Didisjo                             </td><td>2020-01-15T19:34:24                 </td><td> 4                                  </td><td> 4                                  </td><td>0                                   </td><td>NA                                  </td><td>⋯                                   </td><td>False                               </td><td>True                                </td><td>e38e78f5-02c6-4c2e-ac29-e95026a72eff</td><td>TRUE                                </td><td>pl 0                                </td><td>7747                                </td><td>2                                   </td><td>0                                   </td><td>1                                   </td><td>1920                                </td></tr>\n",
       "\t<tr><td>66472                               </td><td>2020-01-20T13:09:18                 </td><td>pl                                  </td><td>1013930                             </td><td>HubertŁódź                          </td><td>2020-01-16T08:39:17                 </td><td> 8                                  </td><td> 6                                  </td><td>0                                   </td><td>NA                                  </td><td>⋯                                   </td><td>False                               </td><td>True                                </td><td>57ccb088-8a38-4a93-838f-efb46a5e8e98</td><td>TRUE                                </td><td>pl 0                                </td><td>7601                                </td><td>2                                   </td><td>0                                   </td><td>1                                   </td><td>1774                                </td></tr>\n",
       "\t<tr><td>66473                               </td><td>2020-01-20T13:09:18                 </td><td>pl                                  </td><td>1013943                             </td><td>Malwiszka                           </td><td>2020-01-16T10:40:07                 </td><td>15                                  </td><td>12                                  </td><td>0                                   </td><td>NA                                  </td><td>⋯                                   </td><td>False                               </td><td>True                                </td><td>836ef38b-b156-4dbd-9c6e-3e7747ca8663</td><td>TRUE                                </td><td>pl 0                                </td><td>7760                                </td><td>2                                   </td><td>1                                   </td><td>1                                   </td><td>1933                                </td></tr>\n",
       "\t<tr><td>66474                               </td><td>2020-01-20T13:09:18                 </td><td>pl                                  </td><td>1013944                             </td><td>Karolinakosewska                    </td><td>2020-01-16T10:40:17                 </td><td>11                                  </td><td> 4                                  </td><td>0                                   </td><td>NA                                  </td><td>⋯                                   </td><td>False                               </td><td>True                                </td><td>f721d623-060d-4af9-9bbe-574fd1176825</td><td>TRUE                                </td><td>pl 0                                </td><td>7671                                </td><td>2                                   </td><td>1                                   </td><td>1                                   </td><td>1844                                </td></tr>\n",
       "\t<tr><td>66475                               </td><td>2020-01-20T13:09:18                 </td><td>pl                                  </td><td>1013945                             </td><td>Am.laczek                           </td><td>2020-01-16T10:40:29                 </td><td>24                                  </td><td>12                                  </td><td>0                                   </td><td>NA                                  </td><td>⋯                                   </td><td>False                               </td><td>True                                </td><td>e9201df6-00ea-4b34-9906-51da295964a5</td><td>TRUE                                </td><td>pl 0                                </td><td>7805                                </td><td>2                                   </td><td>0                                   </td><td>1                                   </td><td>1978                                </td></tr>\n",
       "\t<tr><td>66476                               </td><td>2020-01-20T13:09:18                 </td><td>pl                                  </td><td>1013946                             </td><td>Anita UW                            </td><td>2020-01-16T10:40:33                 </td><td>18                                  </td><td>12                                  </td><td>0                                   </td><td>NA                                  </td><td>⋯                                   </td><td>False                               </td><td>True                                </td><td>353665e0-d2d9-457f-9390-d5a79bdf0400</td><td>TRUE                                </td><td>pl 0                                </td><td>7829                                </td><td>2                                   </td><td>0                                   </td><td>1                                   </td><td>2002                                </td></tr>\n",
       "\t<tr><td>66477                               </td><td>2020-01-20T13:09:18                 </td><td>pl                                  </td><td>1013947                             </td><td>Ola student                         </td><td>2020-01-16T10:40:38                 </td><td> 8                                  </td><td> 4                                  </td><td>0                                   </td><td>NA                                  </td><td>⋯                                   </td><td>False                               </td><td>True                                </td><td>a8b5f593-30ac-473a-97f9-c9cc64fe06a3</td><td>TRUE                                </td><td>pl 0                                </td><td>7725                                </td><td>2                                   </td><td>1                                   </td><td>1                                   </td><td>1898                                </td></tr>\n",
       "\t<tr><td>66478                               </td><td>2020-01-20T13:09:18                 </td><td>pl                                  </td><td>1013948                             </td><td>Maja1225                            </td><td>2020-01-16T10:40:43                 </td><td>15                                  </td><td>11                                  </td><td>0                                   </td><td>NA                                  </td><td>⋯                                   </td><td>False                               </td><td>True                                </td><td>b73c2a7e-7150-4019-882f-676458dad54b</td><td>TRUE                                </td><td>pl 0                                </td><td>7838                                </td><td>2                                   </td><td>1                                   </td><td>1                                   </td><td>2011                                </td></tr>\n",
       "\t<tr><td>66481                               </td><td>2020-01-20T13:09:19                 </td><td>pl                                  </td><td>1013951                             </td><td>Hannibal Lecter 1996                </td><td>2020-01-16T10:40:50                 </td><td> 7                                  </td><td> 5                                  </td><td>0                                   </td><td>NA                                  </td><td>⋯                                   </td><td>False                               </td><td>True                                </td><td>5a7398b3-f558-4ac7-a2fe-4bd1279bd42e</td><td>TRUE                                </td><td>pl 0                                </td><td>7768                                </td><td>2                                   </td><td>1                                   </td><td>1                                   </td><td>1941                                </td></tr>\n",
       "\t<tr><td>66482                               </td><td>2020-01-20T13:09:19                 </td><td>pl                                  </td><td>1013952                             </td><td>KarinaMariaL                        </td><td>2020-01-16T10:41:02                 </td><td>15                                  </td><td>11                                  </td><td>0                                   </td><td>NA                                  </td><td>⋯                                   </td><td>False                               </td><td>True                                </td><td>55e6fd3b-ad4a-4589-b85e-e6af38705d97</td><td>TRUE                                </td><td>pl 0                                </td><td>7768                                </td><td>2                                   </td><td>0                                   </td><td>1                                   </td><td>1941                                </td></tr>\n",
       "\t<tr><td>66483                               </td><td>2020-01-20T13:09:19                 </td><td>pl                                  </td><td>1013953                             </td><td>Linakaro3                           </td><td>2020-01-16T10:41:05                 </td><td>15                                  </td><td>11                                  </td><td>0                                   </td><td>NA                                  </td><td>⋯                                   </td><td>False                               </td><td>True                                </td><td>ecc2661d-72dd-475f-9b4b-a542eeed1e7a</td><td>TRUE                                </td><td>pl 0                                </td><td>7690                                </td><td>2                                   </td><td>1                                   </td><td>1                                   </td><td>1863                                </td></tr>\n",
       "\t<tr><td>66484                               </td><td>2020-01-20T13:09:19                 </td><td>pl                                  </td><td>1013954                             </td><td>Mysza1111                           </td><td>2020-01-16T10:41:28                 </td><td>15                                  </td><td>12                                  </td><td>0                                   </td><td>NA                                  </td><td>⋯                                   </td><td>False                               </td><td>True                                </td><td>f89b88fe-f040-4e46-9f4f-58a755633c3e</td><td>TRUE                                </td><td>pl 0                                </td><td>7841                                </td><td>2                                   </td><td>0                                   </td><td>1                                   </td><td>2014                                </td></tr>\n",
       "\t<tr><td>66485                               </td><td>2020-01-20T13:09:19                 </td><td>pl                                  </td><td>1013956                             </td><td>TIveLaIr                            </td><td>2020-01-16T10:42:53                 </td><td>19                                  </td><td>13                                  </td><td>0                                   </td><td>NA                                  </td><td>⋯                                   </td><td>False                               </td><td>True                                </td><td>b7905a85-209c-40d4-bb8b-f044a7f33527</td><td>TRUE                                </td><td>pl 0                                </td><td>7838                                </td><td>2                                   </td><td>0                                   </td><td>1                                   </td><td>2011                                </td></tr>\n",
       "\t<tr><td>66486                               </td><td>2020-01-20T13:09:19                 </td><td>pl                                  </td><td>1014033                             </td><td>Victoriaa99                         </td><td>2020-01-16T16:20:45                 </td><td> 7                                  </td><td> 5                                  </td><td>0                                   </td><td>NA                                  </td><td>⋯                                   </td><td>False                               </td><td>True                                </td><td>97d620e7-ebdd-403b-b8a0-cd5399000088</td><td>TRUE                                </td><td>pl 0                                </td><td>7863                                </td><td>2                                   </td><td>1                                   </td><td>1                                   </td><td>2036                                </td></tr>\n",
       "\t<tr><td>66490                               </td><td>2020-01-20T13:09:20                 </td><td>pl                                  </td><td>1014093                             </td><td>Marek222111                         </td><td>2020-01-16T21:40:09                 </td><td> 4                                  </td><td> 4                                  </td><td>0                                   </td><td>NA                                  </td><td>⋯                                   </td><td>False                               </td><td>True                                </td><td>4e766151-fadf-4ca2-b39b-571eb1eca51d</td><td>TRUE                                </td><td>pl 0                                </td><td>7786                                </td><td>2                                   </td><td>0                                   </td><td>1                                   </td><td>1959                                </td></tr>\n",
       "\t<tr><td>66491                               </td><td>2020-01-20T13:09:20                 </td><td>pl                                  </td><td>1014144                             </td><td>Miazga777                           </td><td>2020-01-17T08:56:36                 </td><td> 5                                  </td><td> 5                                  </td><td>0                                   </td><td>NA                                  </td><td>⋯                                   </td><td>False                               </td><td>True                                </td><td>03fc828a-881b-438b-8682-5bc9712f6ca0</td><td>TRUE                                </td><td>pl 0                                </td><td>7651                                </td><td>2                                   </td><td>1                                   </td><td>1                                   </td><td>1824                                </td></tr>\n",
       "\t<tr><td>66494                               </td><td>2020-01-20T13:09:20                 </td><td>pl                                  </td><td>1014196                             </td><td>Miodek!~Fifi999999999 lub ty        </td><td>2020-01-17T13:32:33                 </td><td>10                                  </td><td> 8                                  </td><td>0                                   </td><td>NA                                  </td><td>⋯                                   </td><td>False                               </td><td>True                                </td><td>32d7a41d-d19a-4497-b23c-9d060c4f264c</td><td>TRUE                                </td><td>pl 0                                </td><td>7619                                </td><td>2                                   </td><td>1                                   </td><td>1                                   </td><td>1792                                </td></tr>\n",
       "\t<tr><td>66495                               </td><td>2020-01-20T13:09:20                 </td><td>pl                                  </td><td>1014201                             </td><td>Mephka                              </td><td>2020-01-17T13:53:14                 </td><td> 6                                  </td><td> 6                                  </td><td>0                                   </td><td>NA                                  </td><td>⋯                                   </td><td>False                               </td><td>True                                </td><td>3df0324e-6005-4c7f-9698-91f308e3c953</td><td>TRUE                                </td><td>pl 0                                </td><td>7679                                </td><td>2                                   </td><td>1                                   </td><td>1                                   </td><td>1852                                </td></tr>\n",
       "\t<tr><td>66497                               </td><td>2020-01-20T13:09:21                 </td><td>pl                                  </td><td>1014245                             </td><td>WspoI                               </td><td>2020-01-17T16:58:28                 </td><td> 6                                  </td><td> 6                                  </td><td>0                                   </td><td>NA                                  </td><td>⋯                                   </td><td>False                               </td><td>True                                </td><td>e1f0e0f8-3787-47fe-aa8f-89da1de0427e</td><td>TRUE                                </td><td>pl 0                                </td><td>7665                                </td><td>2                                   </td><td>1                                   </td><td>1                                   </td><td>1838                                </td></tr>\n",
       "\t<tr><td>66500                               </td><td>2020-01-20T13:09:21                 </td><td>pl                                  </td><td>1014377                             </td><td>Evidamii019                         </td><td>2020-01-18T10:40:19                 </td><td>18                                  </td><td>10                                  </td><td>0                                   </td><td>NA                                  </td><td>⋯                                   </td><td>False                               </td><td>True                                </td><td>ae337e06-04c0-4648-83c3-3fe5468ff966</td><td>TRUE                                </td><td>pl 0                                </td><td>7861                                </td><td>2                                   </td><td>1                                   </td><td>1                                   </td><td>2034                                </td></tr>\n",
       "\t<tr><td>66501                               </td><td>2020-01-20T13:09:21                 </td><td>pl                                  </td><td>1014401                             </td><td>Wojciech Czeski                     </td><td>2020-01-18T12:47:51                 </td><td>12                                  </td><td>10                                  </td><td>0                                   </td><td>NA                                  </td><td>⋯                                   </td><td>False                               </td><td>True                                </td><td>533a93b6-20a8-4c0d-92e1-f879164969f8</td><td>TRUE                                </td><td>pl 0                                </td><td>7597                                </td><td>2                                   </td><td>1                                   </td><td>1                                   </td><td>1770                                </td></tr>\n",
       "\t<tr><td>66503                               </td><td>2020-01-20T13:09:21                 </td><td>pl                                  </td><td>1014433                             </td><td>Direx1960                           </td><td>2020-01-18T15:02:20                 </td><td>76                                  </td><td> 8                                  </td><td>0                                   </td><td>NA                                  </td><td>⋯                                   </td><td>False                               </td><td>True                                </td><td>f303043f-aa9d-4158-b732-01d166bf2362</td><td>TRUE                                </td><td>pl 0                                </td><td>7862                                </td><td>2                                   </td><td>0                                   </td><td>1                                   </td><td>2035                                </td></tr>\n",
       "\t<tr><td>66504                               </td><td>2020-01-20T13:09:21                 </td><td>pl                                  </td><td>1014438                             </td><td>Tezilo                              </td><td>2020-01-18T15:08:55                 </td><td> 4                                  </td><td> 4                                  </td><td>0                                   </td><td>NA                                  </td><td>⋯                                   </td><td>False                               </td><td>True                                </td><td>373748a8-1083-4380-88f2-bbb6eac70a6c</td><td>TRUE                                </td><td>pl 0                                </td><td>7770                                </td><td>2                                   </td><td>1                                   </td><td>1                                   </td><td>1943                                </td></tr>\n",
       "\t<tr><td>66507                               </td><td>2020-01-20T13:09:22                 </td><td>pl                                  </td><td>1014498                             </td><td>Saleo02                             </td><td>2020-01-18T18:44:53                 </td><td>19                                  </td><td>18                                  </td><td>0                                   </td><td>NA                                  </td><td>⋯                                   </td><td>False                               </td><td>True                                </td><td>cb014024-e6f0-4fc7-b486-3c1c2002a711</td><td>TRUE                                </td><td>pl 0                                </td><td>7697                                </td><td>2                                   </td><td>0                                   </td><td>1                                   </td><td>1870                                </td></tr>\n",
       "\t<tr><td>66508                               </td><td>2020-01-20T13:09:22                 </td><td>pl                                  </td><td>1014525                             </td><td>Ius1000                             </td><td>2020-01-18T20:30:14                 </td><td> 7                                  </td><td> 6                                  </td><td>0                                   </td><td>NA                                  </td><td>⋯                                   </td><td>False                               </td><td>True                                </td><td>5c70119b-7392-4e1d-b12d-30d71b4934ba</td><td>TRUE                                </td><td>pl 0                                </td><td>7649                                </td><td>2                                   </td><td>1                                   </td><td>1                                   </td><td>1822                                </td></tr>\n",
       "\t<tr><td>66514                               </td><td>2020-01-20T13:09:23                 </td><td>pl                                  </td><td>1014841                             </td><td>Madridista30                        </td><td>2020-01-20T11:01:13                 </td><td>17                                  </td><td>13                                  </td><td>0                                   </td><td>NA                                  </td><td>⋯                                   </td><td>False                               </td><td>True                                </td><td>ebe242a3-f4db-42e5-b30a-d7d9ac70729c</td><td>TRUE                                </td><td>pl 0                                </td><td>7606                                </td><td>2                                   </td><td>0                                   </td><td>1                                   </td><td>1779                                </td></tr>\n",
       "</tbody>\n",
       "</table>\n"
      ],
      "text/latex": [
       "\\begin{tabular}{r|lllllllllllllllllllllllll}\n",
       " id & created\\_at & lang & user\\_id & user\\_name & user\\_registration & user\\_editcount & user\\_editcount\\_quality & prev\\_experience & thanks\\_sent & ⋯ & user\\_completed & user\\_included & anonymized\\_id & newcomer & lang\\_prev\\_experience & randomization\\_block\\_id & randomization\\_block\\_size & randomization\\_arm & count.var & initial.block.id\\\\\n",
       "\\hline\n",
       "\t 67747                                & 2020-01-20T14:57:09                  & ar                                   & 1576994                              & Mr.dagbashey                         & 2018-10-27T00:11:36                  &  19                                  &  4                                   & 0                                    & NA                                   & ⋯                                    & False                                & True                                 & 42994612-7a0f-4078-86d4-778e91d54216 & TRUE                                 & ar 0                                 & 5987                                 & 2                                    & 0                                    & 1                                    & 160                                 \\\\\n",
       "\t 67749                                & 2020-01-20T14:57:09                  & ar                                   & 1577265                              & TheTrueGilben                        & 2018-10-27T14:19:06                  &  23                                  &  5                                   & 0                                    & NA                                   & ⋯                                    & False                                & True                                 & 2db3f3ae-26dc-4e82-b221-065eab7cadc7 & TRUE                                 & ar 0                                 & 6312                                 & 2                                    & 1                                    & 1                                    & 485                                 \\\\\n",
       "\t 67751                                & 2020-01-20T14:57:09                  & ar                                   & 1578065                              & Lara Ehwait                          & 2018-10-28T20:20:37                  &   6                                  &  6                                   & 0                                    & NA                                   & ⋯                                    & False                                & True                                 & 5f996a6b-90d1-4829-83dd-17ac82d304b2 & TRUE                                 & ar 0                                 & 5852                                 & 2                                    & 1                                    & 1                                    &  25                                 \\\\\n",
       "\t 67755                                & 2020-01-20T14:57:10                  & ar                                   & 1579150                              & Saadbarri                            & 2018-10-30T18:56:04                  &   7                                  &  7                                   & 0                                    & NA                                   & ⋯                                    & False                                & True                                 & 7d2e9764-dbe4-4f8c-8262-af53fc0415e8 & TRUE                                 & ar 0                                 & 6224                                 & 2                                    & 1                                    & 1                                    & 397                                 \\\\\n",
       "\t 67759                                & 2020-01-20T14:57:10                  & ar                                   & 1580146                              & Gerges6                              & 2018-11-01T16:58:57                  &  21                                  &  4                                   & 0                                    & NA                                   & ⋯                                    & False                                & True                                 & 4e761f26-636a-4d2c-b9d1-f04c864ff313 & TRUE                                 & ar 0                                 & 6247                                 & 2                                    & 0                                    & 1                                    & 420                                 \\\\\n",
       "\t 67760                                & 2020-01-20T14:57:10                  & ar                                   & 1580237                              & ابو حلب1020                          & 2018-11-01T20:37:14                  &  11                                  &  5                                   & 0                                    & NA                                   & ⋯                                    & False                                & True                                 & c298fc95-c186-488d-9052-69622226e6d5 & TRUE                                 & ar 0                                 & 6105                                 & 2                                    & 0                                    & 1                                    & 278                                 \\\\\n",
       "\t 67763                                & 2020-01-20T14:57:10                  & ar                                   & 1581160                              & Sherif.Othman1                       & 2018-11-03T17:11:07                  &  27                                  & 19                                   & 0                                    & NA                                   & ⋯                                    & False                                & True                                 & a3605357-a9ed-45b3-902a-a393899f5259 & TRUE                                 & ar 0                                 & 6408                                 & 2                                    & 0                                    & 1                                    & 581                                 \\\\\n",
       "\t 67768                                & 2020-01-20T14:57:10                  & ar                                   & 1583064                              & Saudi 238                            & 2018-11-06T21:25:58                  &  14                                  &  4                                   & 0                                    & NA                                   & ⋯                                    & False                                & True                                 & 57ea38e2-ad0f-4121-a9df-b266f90e8cec & TRUE                                 & ar 0                                 & 6122                                 & 2                                    & 0                                    & 1                                    & 295                                 \\\\\n",
       "\t 67770                                & 2020-01-20T14:57:10                  & ar                                   & 1584050                              & Nagham jamjoom                       & 2018-11-08T18:01:23                  &  70                                  & 35                                   & 0                                    & NA                                   & ⋯                                    & False                                & True                                 & b134690d-9798-4ef0-8f5d-aad34507b200 & TRUE                                 & ar 0                                 & 6413                                 & 2                                    & 0                                    & 1                                    & 586                                 \\\\\n",
       "\t 67772                                & 2020-01-20T14:57:10                  & ar                                   & 1584435                              & دانا عبد العزيز الجعبري              & 2018-11-09T12:30:30                  &  80                                  & 33                                   & 0                                    & NA                                   & ⋯                                    & False                                & True                                 & 455a3eeb-f6a8-424c-829e-49f6af98bc8e & TRUE                                 & ar 0                                 & 6371                                 & 2                                    & 1                                    & 1                                    & 544                                 \\\\\n",
       "\t 67774                                & 2020-01-20T14:57:10                  & ar                                   & 1585374                              & Zainab Wasel                         & 2018-11-11T07:21:00                  & 233                                  & 47                                   & 0                                    & NA                                   & ⋯                                    & False                                & True                                 & 93d0a4e0-4aa9-485b-82fa-1ea47336cc4b & TRUE                                 & ar 0                                 & 6387                                 & 2                                    & 0                                    & 1                                    & 560                                 \\\\\n",
       "\t 67776                                & 2020-01-20T14:57:11                  & ar                                   & 1585438                              & Xtam5imX                             & 2018-11-11T10:16:55                  &  12                                  &  4                                   & 0                                    & NA                                   & ⋯                                    & False                                & True                                 & 14837131-048e-49f9-a908-f55582f3c4bf & TRUE                                 & ar 0                                 & 6136                                 & 2                                    & 1                                    & 1                                    & 309                                 \\\\\n",
       "\t 67779                                & 2020-01-20T14:57:11                  & ar                                   & 1586795                              & Emascandam                           & 2018-11-13T21:21:45                  &  22                                  &  8                                   & 0                                    & NA                                   & ⋯                                    & False                                & True                                 & cd7be276-416b-42ab-a0f1-b03af2f87f9d & TRUE                                 & ar 0                                 & 5969                                 & 2                                    & 1                                    & 1                                    & 142                                 \\\\\n",
       "\t 67780                                & 2020-01-20T14:57:11                  & ar                                   & 1586966                              & Farouk Alghamrawi                    & 2018-11-14T08:03:22                  &  93                                  & 29                                   & 0                                    & NA                                   & ⋯                                    & False                                & True                                 & 972d47f5-822b-4960-a0f2-eef3a2386abb & TRUE                                 & ar 0                                 & 6297                                 & 2                                    & 1                                    & 1                                    & 470                                 \\\\\n",
       "\t 67781                                & 2020-01-20T14:57:11                  & ar                                   & 1587372                              & ربيع الاسيد                          & 2018-11-14T23:06:51                  &  13                                  & 11                                   & 0                                    & NA                                   & ⋯                                    & False                                & True                                 & 0465e9ed-a09d-4ba6-9e74-2eb71a2bd13c & TRUE                                 & ar 0                                 & 6285                                 & 2                                    & 1                                    & 1                                    & 458                                 \\\\\n",
       "\t 67782                                & 2020-01-20T14:57:11                  & ar                                   & 1587384                              & سعد الحسنات                          & 2018-11-14T23:33:32                  &  51                                  & 32                                   & 0                                    & NA                                   & ⋯                                    & False                                & True                                 & 0ada065b-697d-4dea-a92e-ae78f896c757 & TRUE                                 & ar 0                                 & 6288                                 & 2                                    & 0                                    & 1                                    & 461                                 \\\\\n",
       "\t 67783                                & 2020-01-20T14:57:11                  & ar                                   & 1587591                              & Amir-Jundi                           & 2018-11-15T13:12:58                  &  46                                  &  6                                   & 0                                    & NA                                   & ⋯                                    & False                                & True                                 & f1bfb9d4-54f5-4e58-be3b-55f28ecba29d & TRUE                                 & ar 0                                 & 6347                                 & 2                                    & 1                                    & 1                                    & 520                                 \\\\\n",
       "\t 67784                                & 2020-01-20T14:57:11                  & ar                                   & 1588541                              & صلاح ٢٠٠٠                            & 2018-11-17T12:04:01                  & 558                                  & 25                                   & 0                                    & NA                                   & ⋯                                    & False                                & True                                 & 62d36cd4-8160-4ec4-9445-65d547f57f5f & TRUE                                 & ar 0                                 & 6407                                 & 2                                    & 0                                    & 1                                    & 580                                 \\\\\n",
       "\t 67788                                & 2020-01-20T14:57:11                  & ar                                   & 1589446                              & فيصل 1993                            & 2018-11-19T07:24:13                  &  28                                  &  9                                   & 0                                    & NA                                   & ⋯                                    & False                                & True                                 & 9ceb6f51-eed6-450e-ac5d-75140768a272 & TRUE                                 & ar 0                                 & 5988                                 & 2                                    & 1                                    & 1                                    & 161                                 \\\\\n",
       "\t 67790                                & 2020-01-20T14:57:11                  & ar                                   & 1590094                              & Nizarelheni                          & 2018-11-20T12:57:14                  &  30                                  & 15                                   & 0                                    & NA                                   & ⋯                                    & False                                & True                                 & 04c21232-7ee0-4983-89bf-2660eec4baca & TRUE                                 & ar 0                                 & 6314                                 & 2                                    & 0                                    & 1                                    & 487                                 \\\\\n",
       "\t 67792                                & 2020-01-20T14:57:11                  & ar                                   & 1591146                              & Anttarm                              & 2018-11-22T08:17:05                  &  29                                  &  8                                   & 0                                    & NA                                   & ⋯                                    & False                                & True                                 & 642bb453-c510-4cfc-93c0-5593b6ddf1bb & TRUE                                 & ar 0                                 & 6072                                 & 2                                    & 1                                    & 1                                    & 245                                 \\\\\n",
       "\t 67793                                & 2020-01-20T14:57:11                  & ar                                   & 1591888                              & Salman Gaafar                        & 2018-11-23T19:17:10                  &   4                                  &  4                                   & 0                                    & NA                                   & ⋯                                    & False                                & True                                 & f21ea478-ab40-4ebc-9c22-4d2a4999700c & TRUE                                 & ar 0                                 & 6278                                 & 2                                    & 1                                    & 1                                    & 451                                 \\\\\n",
       "\t 67794                                & 2020-01-20T14:57:12                  & ar                                   & 1592659                              & Ola.mahadi                           & 2018-11-25T08:59:05                  &  76                                  & 23                                   & 0                                    & NA                                   & ⋯                                    & False                                & True                                 & 9cb1eee8-3ac9-47bf-b529-a795b6c376e1 & TRUE                                 & ar 0                                 & 6381                                 & 2                                    & 0                                    & 1                                    & 554                                 \\\\\n",
       "\t 67798                                & 2020-01-20T14:57:12                  & ar                                   & 1595163                              & Sky365                               & 2018-11-29T19:56:21                  &   5                                  &  5                                   & 0                                    & NA                                   & ⋯                                    & False                                & True                                 & 13f16ab5-b08c-4cd2-b872-8a6b07038205 & TRUE                                 & ar 0                                 & 5914                                 & 2                                    & 1                                    & 1                                    &  87                                 \\\\\n",
       "\t 67799                                & 2020-01-20T14:57:12                  & ar                                   & 1595309                              & Salma Yehia F                        & 2018-11-30T03:36:45                  & 156                                  & 35                                   & 0                                    & NA                                   & ⋯                                    & False                                & True                                 & 07ae18d0-ab29-44cc-9725-be58fd289378 & TRUE                                 & ar 0                                 & 6402                                 & 2                                    & 1                                    & 1                                    & 575                                 \\\\\n",
       "\t 67802                                & 2020-01-20T14:57:12                  & ar                                   & 1595757                              & Ahmad Abo Ali                        & 2018-11-30T21:34:58                  &  72                                  &  5                                   & 0                                    & NA                                   & ⋯                                    & False                                & True                                 & 0c76a3d7-9c10-4025-9bf7-f3dac260ea29 & TRUE                                 & ar 0                                 & 6411                                 & 2                                    & 1                                    & 1                                    & 584                                 \\\\\n",
       "\t 67804                                & 2020-01-20T14:57:12                  & ar                                   & 1595946                              & Veuhx1433                            & 2018-12-01T08:22:37                  &  54                                  &  8                                   & 0                                    & NA                                   & ⋯                                    & False                                & True                                 & 5a60b534-a533-44d6-b332-67953ce6b571 & TRUE                                 & ar 0                                 & 6353                                 & 2                                    & 0                                    & 1                                    & 526                                 \\\\\n",
       "\t 67807                                & 2020-01-20T14:57:12                  & ar                                   & 1596651                              & Mohamedibrahem321                    & 2018-12-02T11:49:32                  &  44                                  &  8                                   & 0                                    & NA                                   & ⋯                                    & False                                & True                                 & a0914b08-87e0-4860-a166-7595e6b09e49 & TRUE                                 & ar 0                                 & 6348                                 & 2                                    & 1                                    & 1                                    & 521                                 \\\\\n",
       "\t 67810                                & 2020-01-20T14:57:12                  & ar                                   & 1597742                              & Ali 919049                           & 2018-12-04T05:16:33                  &  14                                  &  4                                   & 0                                    & NA                                   & ⋯                                    & False                                & True                                 & 4c834f28-ecdc-41dc-b9f1-f4045850422c & TRUE                                 & ar 0                                 & 6258                                 & 2                                    & 0                                    & 1                                    & 431                                 \\\\\n",
       "\t 67813                                & 2020-01-20T14:57:12                  & ar                                   & 1598301                              & Faisalm1                             & 2018-12-05T02:20:36                  &  28                                  & 16                                   & 0                                    & NA                                   & ⋯                                    & False                                & True                                 & a32172e4-4ef9-40ac-a52d-b3b8007182fa & TRUE                                 & ar 0                                 & 6391                                 & 2                                    & 0                                    & 1                                    & 564                                 \\\\\n",
       "\t ⋮ & ⋮ & ⋮ & ⋮ & ⋮ & ⋮ & ⋮ & ⋮ & ⋮ & ⋮ & ⋱ & ⋮ & ⋮ & ⋮ & ⋮ & ⋮ & ⋮ & ⋮ & ⋮ & ⋮ & ⋮\\\\\n",
       "\t 66461                                & 2020-01-20T13:09:16                  & pl                                   & 1013527                              & Kuba Ohyt                            & 2020-01-14T15:34:34                  & 10                                   &  5                                   & 0                                    & NA                                   & ⋯                                    & False                                & True                                 & 9234101e-fa68-4c6f-b07d-e43b6be0028c & TRUE                                 & pl 0                                 & 7717                                 & 2                                    & 0                                    & 1                                    & 1890                                \\\\\n",
       "\t 66464                                & 2020-01-20T13:09:17                  & pl                                   & 1013668                              & Only money                           & 2020-01-15T08:09:38                  &  8                                   &  7                                   & 0                                    & NA                                   & ⋯                                    & False                                & True                                 & a0752702-058a-4764-9b03-350d9b6bfe9c & TRUE                                 & pl 0                                 & 7871                                 & 2                                    & 1                                    & 1                                    & 2044                                \\\\\n",
       "\t 66467                                & 2020-01-20T13:09:17                  & pl                                   & 1013707                              & Szołtysek                            & 2020-01-15T11:41:18                  &  5                                   &  5                                   & 0                                    & NA                                   & ⋯                                    & False                                & True                                 & a46d4788-8436-451e-b3a4-7c88aafe050d & TRUE                                 & pl 0                                 & 7635                                 & 2                                    & 0                                    & 1                                    & 1808                                \\\\\n",
       "\t 66468                                & 2020-01-20T13:09:17                  & pl                                   & 1013795                              & Nitrobacter96                        & 2020-01-15T17:04:53                  & 10                                   &  7                                   & 0                                    & NA                                   & ⋯                                    & False                                & True                                 & 9930a0cb-6875-4794-91a1-9e494b85ff34 & TRUE                                 & pl 0                                 & 7720                                 & 2                                    & 1                                    & 1                                    & 1893                                \\\\\n",
       "\t 66470                                & 2020-01-20T13:09:17                  & pl                                   & 1013835                              & Didisjo                              & 2020-01-15T19:34:24                  &  4                                   &  4                                   & 0                                    & NA                                   & ⋯                                    & False                                & True                                 & e38e78f5-02c6-4c2e-ac29-e95026a72eff & TRUE                                 & pl 0                                 & 7747                                 & 2                                    & 0                                    & 1                                    & 1920                                \\\\\n",
       "\t 66472                                & 2020-01-20T13:09:18                  & pl                                   & 1013930                              & HubertŁódź                           & 2020-01-16T08:39:17                  &  8                                   &  6                                   & 0                                    & NA                                   & ⋯                                    & False                                & True                                 & 57ccb088-8a38-4a93-838f-efb46a5e8e98 & TRUE                                 & pl 0                                 & 7601                                 & 2                                    & 0                                    & 1                                    & 1774                                \\\\\n",
       "\t 66473                                & 2020-01-20T13:09:18                  & pl                                   & 1013943                              & Malwiszka                            & 2020-01-16T10:40:07                  & 15                                   & 12                                   & 0                                    & NA                                   & ⋯                                    & False                                & True                                 & 836ef38b-b156-4dbd-9c6e-3e7747ca8663 & TRUE                                 & pl 0                                 & 7760                                 & 2                                    & 1                                    & 1                                    & 1933                                \\\\\n",
       "\t 66474                                & 2020-01-20T13:09:18                  & pl                                   & 1013944                              & Karolinakosewska                     & 2020-01-16T10:40:17                  & 11                                   &  4                                   & 0                                    & NA                                   & ⋯                                    & False                                & True                                 & f721d623-060d-4af9-9bbe-574fd1176825 & TRUE                                 & pl 0                                 & 7671                                 & 2                                    & 1                                    & 1                                    & 1844                                \\\\\n",
       "\t 66475                                & 2020-01-20T13:09:18                  & pl                                   & 1013945                              & Am.laczek                            & 2020-01-16T10:40:29                  & 24                                   & 12                                   & 0                                    & NA                                   & ⋯                                    & False                                & True                                 & e9201df6-00ea-4b34-9906-51da295964a5 & TRUE                                 & pl 0                                 & 7805                                 & 2                                    & 0                                    & 1                                    & 1978                                \\\\\n",
       "\t 66476                                & 2020-01-20T13:09:18                  & pl                                   & 1013946                              & Anita UW                             & 2020-01-16T10:40:33                  & 18                                   & 12                                   & 0                                    & NA                                   & ⋯                                    & False                                & True                                 & 353665e0-d2d9-457f-9390-d5a79bdf0400 & TRUE                                 & pl 0                                 & 7829                                 & 2                                    & 0                                    & 1                                    & 2002                                \\\\\n",
       "\t 66477                                & 2020-01-20T13:09:18                  & pl                                   & 1013947                              & Ola student                          & 2020-01-16T10:40:38                  &  8                                   &  4                                   & 0                                    & NA                                   & ⋯                                    & False                                & True                                 & a8b5f593-30ac-473a-97f9-c9cc64fe06a3 & TRUE                                 & pl 0                                 & 7725                                 & 2                                    & 1                                    & 1                                    & 1898                                \\\\\n",
       "\t 66478                                & 2020-01-20T13:09:18                  & pl                                   & 1013948                              & Maja1225                             & 2020-01-16T10:40:43                  & 15                                   & 11                                   & 0                                    & NA                                   & ⋯                                    & False                                & True                                 & b73c2a7e-7150-4019-882f-676458dad54b & TRUE                                 & pl 0                                 & 7838                                 & 2                                    & 1                                    & 1                                    & 2011                                \\\\\n",
       "\t 66481                                & 2020-01-20T13:09:19                  & pl                                   & 1013951                              & Hannibal Lecter 1996                 & 2020-01-16T10:40:50                  &  7                                   &  5                                   & 0                                    & NA                                   & ⋯                                    & False                                & True                                 & 5a7398b3-f558-4ac7-a2fe-4bd1279bd42e & TRUE                                 & pl 0                                 & 7768                                 & 2                                    & 1                                    & 1                                    & 1941                                \\\\\n",
       "\t 66482                                & 2020-01-20T13:09:19                  & pl                                   & 1013952                              & KarinaMariaL                         & 2020-01-16T10:41:02                  & 15                                   & 11                                   & 0                                    & NA                                   & ⋯                                    & False                                & True                                 & 55e6fd3b-ad4a-4589-b85e-e6af38705d97 & TRUE                                 & pl 0                                 & 7768                                 & 2                                    & 0                                    & 1                                    & 1941                                \\\\\n",
       "\t 66483                                & 2020-01-20T13:09:19                  & pl                                   & 1013953                              & Linakaro3                            & 2020-01-16T10:41:05                  & 15                                   & 11                                   & 0                                    & NA                                   & ⋯                                    & False                                & True                                 & ecc2661d-72dd-475f-9b4b-a542eeed1e7a & TRUE                                 & pl 0                                 & 7690                                 & 2                                    & 1                                    & 1                                    & 1863                                \\\\\n",
       "\t 66484                                & 2020-01-20T13:09:19                  & pl                                   & 1013954                              & Mysza1111                            & 2020-01-16T10:41:28                  & 15                                   & 12                                   & 0                                    & NA                                   & ⋯                                    & False                                & True                                 & f89b88fe-f040-4e46-9f4f-58a755633c3e & TRUE                                 & pl 0                                 & 7841                                 & 2                                    & 0                                    & 1                                    & 2014                                \\\\\n",
       "\t 66485                                & 2020-01-20T13:09:19                  & pl                                   & 1013956                              & TIveLaIr                             & 2020-01-16T10:42:53                  & 19                                   & 13                                   & 0                                    & NA                                   & ⋯                                    & False                                & True                                 & b7905a85-209c-40d4-bb8b-f044a7f33527 & TRUE                                 & pl 0                                 & 7838                                 & 2                                    & 0                                    & 1                                    & 2011                                \\\\\n",
       "\t 66486                                & 2020-01-20T13:09:19                  & pl                                   & 1014033                              & Victoriaa99                          & 2020-01-16T16:20:45                  &  7                                   &  5                                   & 0                                    & NA                                   & ⋯                                    & False                                & True                                 & 97d620e7-ebdd-403b-b8a0-cd5399000088 & TRUE                                 & pl 0                                 & 7863                                 & 2                                    & 1                                    & 1                                    & 2036                                \\\\\n",
       "\t 66490                                & 2020-01-20T13:09:20                  & pl                                   & 1014093                              & Marek222111                          & 2020-01-16T21:40:09                  &  4                                   &  4                                   & 0                                    & NA                                   & ⋯                                    & False                                & True                                 & 4e766151-fadf-4ca2-b39b-571eb1eca51d & TRUE                                 & pl 0                                 & 7786                                 & 2                                    & 0                                    & 1                                    & 1959                                \\\\\n",
       "\t 66491                                & 2020-01-20T13:09:20                  & pl                                   & 1014144                              & Miazga777                            & 2020-01-17T08:56:36                  &  5                                   &  5                                   & 0                                    & NA                                   & ⋯                                    & False                                & True                                 & 03fc828a-881b-438b-8682-5bc9712f6ca0 & TRUE                                 & pl 0                                 & 7651                                 & 2                                    & 1                                    & 1                                    & 1824                                \\\\\n",
       "\t 66494                                         & 2020-01-20T13:09:20                           & pl                                            & 1014196                                       & Miodek!\\textasciitilde{}Fifi999999999 lub ty & 2020-01-17T13:32:33                           & 10                                            &  8                                            & 0                                             & NA                                            & ⋯                                             & False                                         & True                                          & 32d7a41d-d19a-4497-b23c-9d060c4f264c          & TRUE                                          & pl 0                                          & 7619                                          & 2                                             & 1                                             & 1                                             & 1792                                         \\\\\n",
       "\t 66495                                & 2020-01-20T13:09:20                  & pl                                   & 1014201                              & Mephka                               & 2020-01-17T13:53:14                  &  6                                   &  6                                   & 0                                    & NA                                   & ⋯                                    & False                                & True                                 & 3df0324e-6005-4c7f-9698-91f308e3c953 & TRUE                                 & pl 0                                 & 7679                                 & 2                                    & 1                                    & 1                                    & 1852                                \\\\\n",
       "\t 66497                                & 2020-01-20T13:09:21                  & pl                                   & 1014245                              & WspoI                                & 2020-01-17T16:58:28                  &  6                                   &  6                                   & 0                                    & NA                                   & ⋯                                    & False                                & True                                 & e1f0e0f8-3787-47fe-aa8f-89da1de0427e & TRUE                                 & pl 0                                 & 7665                                 & 2                                    & 1                                    & 1                                    & 1838                                \\\\\n",
       "\t 66500                                & 2020-01-20T13:09:21                  & pl                                   & 1014377                              & Evidamii019                          & 2020-01-18T10:40:19                  & 18                                   & 10                                   & 0                                    & NA                                   & ⋯                                    & False                                & True                                 & ae337e06-04c0-4648-83c3-3fe5468ff966 & TRUE                                 & pl 0                                 & 7861                                 & 2                                    & 1                                    & 1                                    & 2034                                \\\\\n",
       "\t 66501                                & 2020-01-20T13:09:21                  & pl                                   & 1014401                              & Wojciech Czeski                      & 2020-01-18T12:47:51                  & 12                                   & 10                                   & 0                                    & NA                                   & ⋯                                    & False                                & True                                 & 533a93b6-20a8-4c0d-92e1-f879164969f8 & TRUE                                 & pl 0                                 & 7597                                 & 2                                    & 1                                    & 1                                    & 1770                                \\\\\n",
       "\t 66503                                & 2020-01-20T13:09:21                  & pl                                   & 1014433                              & Direx1960                            & 2020-01-18T15:02:20                  & 76                                   &  8                                   & 0                                    & NA                                   & ⋯                                    & False                                & True                                 & f303043f-aa9d-4158-b732-01d166bf2362 & TRUE                                 & pl 0                                 & 7862                                 & 2                                    & 0                                    & 1                                    & 2035                                \\\\\n",
       "\t 66504                                & 2020-01-20T13:09:21                  & pl                                   & 1014438                              & Tezilo                               & 2020-01-18T15:08:55                  &  4                                   &  4                                   & 0                                    & NA                                   & ⋯                                    & False                                & True                                 & 373748a8-1083-4380-88f2-bbb6eac70a6c & TRUE                                 & pl 0                                 & 7770                                 & 2                                    & 1                                    & 1                                    & 1943                                \\\\\n",
       "\t 66507                                & 2020-01-20T13:09:22                  & pl                                   & 1014498                              & Saleo02                              & 2020-01-18T18:44:53                  & 19                                   & 18                                   & 0                                    & NA                                   & ⋯                                    & False                                & True                                 & cb014024-e6f0-4fc7-b486-3c1c2002a711 & TRUE                                 & pl 0                                 & 7697                                 & 2                                    & 0                                    & 1                                    & 1870                                \\\\\n",
       "\t 66508                                & 2020-01-20T13:09:22                  & pl                                   & 1014525                              & Ius1000                              & 2020-01-18T20:30:14                  &  7                                   &  6                                   & 0                                    & NA                                   & ⋯                                    & False                                & True                                 & 5c70119b-7392-4e1d-b12d-30d71b4934ba & TRUE                                 & pl 0                                 & 7649                                 & 2                                    & 1                                    & 1                                    & 1822                                \\\\\n",
       "\t 66514                                & 2020-01-20T13:09:23                  & pl                                   & 1014841                              & Madridista30                         & 2020-01-20T11:01:13                  & 17                                   & 13                                   & 0                                    & NA                                   & ⋯                                    & False                                & True                                 & ebe242a3-f4db-42e5-b30a-d7d9ac70729c & TRUE                                 & pl 0                                 & 7606                                 & 2                                    & 0                                    & 1                                    & 1779                                \\\\\n",
       "\\end{tabular}\n"
      ],
      "text/markdown": [
       "\n",
       "id | created_at | lang | user_id | user_name | user_registration | user_editcount | user_editcount_quality | prev_experience | thanks_sent | ⋯ | user_completed | user_included | anonymized_id | newcomer | lang_prev_experience | randomization_block_id | randomization_block_size | randomization_arm | count.var | initial.block.id | \n",
       "|---|---|---|---|---|---|---|---|---|---|---|---|---|---|---|---|---|---|---|---|---|---|---|---|---|---|---|---|---|---|---|---|---|---|---|---|---|---|---|---|---|---|---|---|---|---|---|---|---|---|---|---|---|---|---|---|---|---|---|---|---|\n",
       "| 67747                                | 2020-01-20T14:57:09                  | ar                                   | 1576994                              | Mr.dagbashey                         | 2018-10-27T00:11:36                  |  19                                  |  4                                   | 0                                    | NA                                   | ⋯                                    | False                                | True                                 | 42994612-7a0f-4078-86d4-778e91d54216 | TRUE                                 | ar 0                                 | 5987                                 | 2                                    | 0                                    | 1                                    | 160                                  | \n",
       "| 67749                                | 2020-01-20T14:57:09                  | ar                                   | 1577265                              | TheTrueGilben                        | 2018-10-27T14:19:06                  |  23                                  |  5                                   | 0                                    | NA                                   | ⋯                                    | False                                | True                                 | 2db3f3ae-26dc-4e82-b221-065eab7cadc7 | TRUE                                 | ar 0                                 | 6312                                 | 2                                    | 1                                    | 1                                    | 485                                  | \n",
       "| 67751                                | 2020-01-20T14:57:09                  | ar                                   | 1578065                              | Lara Ehwait                          | 2018-10-28T20:20:37                  |   6                                  |  6                                   | 0                                    | NA                                   | ⋯                                    | False                                | True                                 | 5f996a6b-90d1-4829-83dd-17ac82d304b2 | TRUE                                 | ar 0                                 | 5852                                 | 2                                    | 1                                    | 1                                    |  25                                  | \n",
       "| 67755                                | 2020-01-20T14:57:10                  | ar                                   | 1579150                              | Saadbarri                            | 2018-10-30T18:56:04                  |   7                                  |  7                                   | 0                                    | NA                                   | ⋯                                    | False                                | True                                 | 7d2e9764-dbe4-4f8c-8262-af53fc0415e8 | TRUE                                 | ar 0                                 | 6224                                 | 2                                    | 1                                    | 1                                    | 397                                  | \n",
       "| 67759                                | 2020-01-20T14:57:10                  | ar                                   | 1580146                              | Gerges6                              | 2018-11-01T16:58:57                  |  21                                  |  4                                   | 0                                    | NA                                   | ⋯                                    | False                                | True                                 | 4e761f26-636a-4d2c-b9d1-f04c864ff313 | TRUE                                 | ar 0                                 | 6247                                 | 2                                    | 0                                    | 1                                    | 420                                  | \n",
       "| 67760                                | 2020-01-20T14:57:10                  | ar                                   | 1580237                              | ابو حلب1020                          | 2018-11-01T20:37:14                  |  11                                  |  5                                   | 0                                    | NA                                   | ⋯                                    | False                                | True                                 | c298fc95-c186-488d-9052-69622226e6d5 | TRUE                                 | ar 0                                 | 6105                                 | 2                                    | 0                                    | 1                                    | 278                                  | \n",
       "| 67763                                | 2020-01-20T14:57:10                  | ar                                   | 1581160                              | Sherif.Othman1                       | 2018-11-03T17:11:07                  |  27                                  | 19                                   | 0                                    | NA                                   | ⋯                                    | False                                | True                                 | a3605357-a9ed-45b3-902a-a393899f5259 | TRUE                                 | ar 0                                 | 6408                                 | 2                                    | 0                                    | 1                                    | 581                                  | \n",
       "| 67768                                | 2020-01-20T14:57:10                  | ar                                   | 1583064                              | Saudi 238                            | 2018-11-06T21:25:58                  |  14                                  |  4                                   | 0                                    | NA                                   | ⋯                                    | False                                | True                                 | 57ea38e2-ad0f-4121-a9df-b266f90e8cec | TRUE                                 | ar 0                                 | 6122                                 | 2                                    | 0                                    | 1                                    | 295                                  | \n",
       "| 67770                                | 2020-01-20T14:57:10                  | ar                                   | 1584050                              | Nagham jamjoom                       | 2018-11-08T18:01:23                  |  70                                  | 35                                   | 0                                    | NA                                   | ⋯                                    | False                                | True                                 | b134690d-9798-4ef0-8f5d-aad34507b200 | TRUE                                 | ar 0                                 | 6413                                 | 2                                    | 0                                    | 1                                    | 586                                  | \n",
       "| 67772                                | 2020-01-20T14:57:10                  | ar                                   | 1584435                              | دانا عبد العزيز الجعبري              | 2018-11-09T12:30:30                  |  80                                  | 33                                   | 0                                    | NA                                   | ⋯                                    | False                                | True                                 | 455a3eeb-f6a8-424c-829e-49f6af98bc8e | TRUE                                 | ar 0                                 | 6371                                 | 2                                    | 1                                    | 1                                    | 544                                  | \n",
       "| 67774                                | 2020-01-20T14:57:10                  | ar                                   | 1585374                              | Zainab Wasel                         | 2018-11-11T07:21:00                  | 233                                  | 47                                   | 0                                    | NA                                   | ⋯                                    | False                                | True                                 | 93d0a4e0-4aa9-485b-82fa-1ea47336cc4b | TRUE                                 | ar 0                                 | 6387                                 | 2                                    | 0                                    | 1                                    | 560                                  | \n",
       "| 67776                                | 2020-01-20T14:57:11                  | ar                                   | 1585438                              | Xtam5imX                             | 2018-11-11T10:16:55                  |  12                                  |  4                                   | 0                                    | NA                                   | ⋯                                    | False                                | True                                 | 14837131-048e-49f9-a908-f55582f3c4bf | TRUE                                 | ar 0                                 | 6136                                 | 2                                    | 1                                    | 1                                    | 309                                  | \n",
       "| 67779                                | 2020-01-20T14:57:11                  | ar                                   | 1586795                              | Emascandam                           | 2018-11-13T21:21:45                  |  22                                  |  8                                   | 0                                    | NA                                   | ⋯                                    | False                                | True                                 | cd7be276-416b-42ab-a0f1-b03af2f87f9d | TRUE                                 | ar 0                                 | 5969                                 | 2                                    | 1                                    | 1                                    | 142                                  | \n",
       "| 67780                                | 2020-01-20T14:57:11                  | ar                                   | 1586966                              | Farouk Alghamrawi                    | 2018-11-14T08:03:22                  |  93                                  | 29                                   | 0                                    | NA                                   | ⋯                                    | False                                | True                                 | 972d47f5-822b-4960-a0f2-eef3a2386abb | TRUE                                 | ar 0                                 | 6297                                 | 2                                    | 1                                    | 1                                    | 470                                  | \n",
       "| 67781                                | 2020-01-20T14:57:11                  | ar                                   | 1587372                              | ربيع الاسيد                          | 2018-11-14T23:06:51                  |  13                                  | 11                                   | 0                                    | NA                                   | ⋯                                    | False                                | True                                 | 0465e9ed-a09d-4ba6-9e74-2eb71a2bd13c | TRUE                                 | ar 0                                 | 6285                                 | 2                                    | 1                                    | 1                                    | 458                                  | \n",
       "| 67782                                | 2020-01-20T14:57:11                  | ar                                   | 1587384                              | سعد الحسنات                          | 2018-11-14T23:33:32                  |  51                                  | 32                                   | 0                                    | NA                                   | ⋯                                    | False                                | True                                 | 0ada065b-697d-4dea-a92e-ae78f896c757 | TRUE                                 | ar 0                                 | 6288                                 | 2                                    | 0                                    | 1                                    | 461                                  | \n",
       "| 67783                                | 2020-01-20T14:57:11                  | ar                                   | 1587591                              | Amir-Jundi                           | 2018-11-15T13:12:58                  |  46                                  |  6                                   | 0                                    | NA                                   | ⋯                                    | False                                | True                                 | f1bfb9d4-54f5-4e58-be3b-55f28ecba29d | TRUE                                 | ar 0                                 | 6347                                 | 2                                    | 1                                    | 1                                    | 520                                  | \n",
       "| 67784                                | 2020-01-20T14:57:11                  | ar                                   | 1588541                              | صلاح ٢٠٠٠                            | 2018-11-17T12:04:01                  | 558                                  | 25                                   | 0                                    | NA                                   | ⋯                                    | False                                | True                                 | 62d36cd4-8160-4ec4-9445-65d547f57f5f | TRUE                                 | ar 0                                 | 6407                                 | 2                                    | 0                                    | 1                                    | 580                                  | \n",
       "| 67788                                | 2020-01-20T14:57:11                  | ar                                   | 1589446                              | فيصل 1993                            | 2018-11-19T07:24:13                  |  28                                  |  9                                   | 0                                    | NA                                   | ⋯                                    | False                                | True                                 | 9ceb6f51-eed6-450e-ac5d-75140768a272 | TRUE                                 | ar 0                                 | 5988                                 | 2                                    | 1                                    | 1                                    | 161                                  | \n",
       "| 67790                                | 2020-01-20T14:57:11                  | ar                                   | 1590094                              | Nizarelheni                          | 2018-11-20T12:57:14                  |  30                                  | 15                                   | 0                                    | NA                                   | ⋯                                    | False                                | True                                 | 04c21232-7ee0-4983-89bf-2660eec4baca | TRUE                                 | ar 0                                 | 6314                                 | 2                                    | 0                                    | 1                                    | 487                                  | \n",
       "| 67792                                | 2020-01-20T14:57:11                  | ar                                   | 1591146                              | Anttarm                              | 2018-11-22T08:17:05                  |  29                                  |  8                                   | 0                                    | NA                                   | ⋯                                    | False                                | True                                 | 642bb453-c510-4cfc-93c0-5593b6ddf1bb | TRUE                                 | ar 0                                 | 6072                                 | 2                                    | 1                                    | 1                                    | 245                                  | \n",
       "| 67793                                | 2020-01-20T14:57:11                  | ar                                   | 1591888                              | Salman Gaafar                        | 2018-11-23T19:17:10                  |   4                                  |  4                                   | 0                                    | NA                                   | ⋯                                    | False                                | True                                 | f21ea478-ab40-4ebc-9c22-4d2a4999700c | TRUE                                 | ar 0                                 | 6278                                 | 2                                    | 1                                    | 1                                    | 451                                  | \n",
       "| 67794                                | 2020-01-20T14:57:12                  | ar                                   | 1592659                              | Ola.mahadi                           | 2018-11-25T08:59:05                  |  76                                  | 23                                   | 0                                    | NA                                   | ⋯                                    | False                                | True                                 | 9cb1eee8-3ac9-47bf-b529-a795b6c376e1 | TRUE                                 | ar 0                                 | 6381                                 | 2                                    | 0                                    | 1                                    | 554                                  | \n",
       "| 67798                                | 2020-01-20T14:57:12                  | ar                                   | 1595163                              | Sky365                               | 2018-11-29T19:56:21                  |   5                                  |  5                                   | 0                                    | NA                                   | ⋯                                    | False                                | True                                 | 13f16ab5-b08c-4cd2-b872-8a6b07038205 | TRUE                                 | ar 0                                 | 5914                                 | 2                                    | 1                                    | 1                                    |  87                                  | \n",
       "| 67799                                | 2020-01-20T14:57:12                  | ar                                   | 1595309                              | Salma Yehia F                        | 2018-11-30T03:36:45                  | 156                                  | 35                                   | 0                                    | NA                                   | ⋯                                    | False                                | True                                 | 07ae18d0-ab29-44cc-9725-be58fd289378 | TRUE                                 | ar 0                                 | 6402                                 | 2                                    | 1                                    | 1                                    | 575                                  | \n",
       "| 67802                                | 2020-01-20T14:57:12                  | ar                                   | 1595757                              | Ahmad Abo Ali                        | 2018-11-30T21:34:58                  |  72                                  |  5                                   | 0                                    | NA                                   | ⋯                                    | False                                | True                                 | 0c76a3d7-9c10-4025-9bf7-f3dac260ea29 | TRUE                                 | ar 0                                 | 6411                                 | 2                                    | 1                                    | 1                                    | 584                                  | \n",
       "| 67804                                | 2020-01-20T14:57:12                  | ar                                   | 1595946                              | Veuhx1433                            | 2018-12-01T08:22:37                  |  54                                  |  8                                   | 0                                    | NA                                   | ⋯                                    | False                                | True                                 | 5a60b534-a533-44d6-b332-67953ce6b571 | TRUE                                 | ar 0                                 | 6353                                 | 2                                    | 0                                    | 1                                    | 526                                  | \n",
       "| 67807                                | 2020-01-20T14:57:12                  | ar                                   | 1596651                              | Mohamedibrahem321                    | 2018-12-02T11:49:32                  |  44                                  |  8                                   | 0                                    | NA                                   | ⋯                                    | False                                | True                                 | a0914b08-87e0-4860-a166-7595e6b09e49 | TRUE                                 | ar 0                                 | 6348                                 | 2                                    | 1                                    | 1                                    | 521                                  | \n",
       "| 67810                                | 2020-01-20T14:57:12                  | ar                                   | 1597742                              | Ali 919049                           | 2018-12-04T05:16:33                  |  14                                  |  4                                   | 0                                    | NA                                   | ⋯                                    | False                                | True                                 | 4c834f28-ecdc-41dc-b9f1-f4045850422c | TRUE                                 | ar 0                                 | 6258                                 | 2                                    | 0                                    | 1                                    | 431                                  | \n",
       "| 67813                                | 2020-01-20T14:57:12                  | ar                                   | 1598301                              | Faisalm1                             | 2018-12-05T02:20:36                  |  28                                  | 16                                   | 0                                    | NA                                   | ⋯                                    | False                                | True                                 | a32172e4-4ef9-40ac-a52d-b3b8007182fa | TRUE                                 | ar 0                                 | 6391                                 | 2                                    | 0                                    | 1                                    | 564                                  | \n",
       "| ⋮ | ⋮ | ⋮ | ⋮ | ⋮ | ⋮ | ⋮ | ⋮ | ⋮ | ⋮ | ⋱ | ⋮ | ⋮ | ⋮ | ⋮ | ⋮ | ⋮ | ⋮ | ⋮ | ⋮ | ⋮ | \n",
       "| 66461                                | 2020-01-20T13:09:16                  | pl                                   | 1013527                              | Kuba Ohyt                            | 2020-01-14T15:34:34                  | 10                                   |  5                                   | 0                                    | NA                                   | ⋯                                    | False                                | True                                 | 9234101e-fa68-4c6f-b07d-e43b6be0028c | TRUE                                 | pl 0                                 | 7717                                 | 2                                    | 0                                    | 1                                    | 1890                                 | \n",
       "| 66464                                | 2020-01-20T13:09:17                  | pl                                   | 1013668                              | Only money                           | 2020-01-15T08:09:38                  |  8                                   |  7                                   | 0                                    | NA                                   | ⋯                                    | False                                | True                                 | a0752702-058a-4764-9b03-350d9b6bfe9c | TRUE                                 | pl 0                                 | 7871                                 | 2                                    | 1                                    | 1                                    | 2044                                 | \n",
       "| 66467                                | 2020-01-20T13:09:17                  | pl                                   | 1013707                              | Szołtysek                            | 2020-01-15T11:41:18                  |  5                                   |  5                                   | 0                                    | NA                                   | ⋯                                    | False                                | True                                 | a46d4788-8436-451e-b3a4-7c88aafe050d | TRUE                                 | pl 0                                 | 7635                                 | 2                                    | 0                                    | 1                                    | 1808                                 | \n",
       "| 66468                                | 2020-01-20T13:09:17                  | pl                                   | 1013795                              | Nitrobacter96                        | 2020-01-15T17:04:53                  | 10                                   |  7                                   | 0                                    | NA                                   | ⋯                                    | False                                | True                                 | 9930a0cb-6875-4794-91a1-9e494b85ff34 | TRUE                                 | pl 0                                 | 7720                                 | 2                                    | 1                                    | 1                                    | 1893                                 | \n",
       "| 66470                                | 2020-01-20T13:09:17                  | pl                                   | 1013835                              | Didisjo                              | 2020-01-15T19:34:24                  |  4                                   |  4                                   | 0                                    | NA                                   | ⋯                                    | False                                | True                                 | e38e78f5-02c6-4c2e-ac29-e95026a72eff | TRUE                                 | pl 0                                 | 7747                                 | 2                                    | 0                                    | 1                                    | 1920                                 | \n",
       "| 66472                                | 2020-01-20T13:09:18                  | pl                                   | 1013930                              | HubertŁódź                           | 2020-01-16T08:39:17                  |  8                                   |  6                                   | 0                                    | NA                                   | ⋯                                    | False                                | True                                 | 57ccb088-8a38-4a93-838f-efb46a5e8e98 | TRUE                                 | pl 0                                 | 7601                                 | 2                                    | 0                                    | 1                                    | 1774                                 | \n",
       "| 66473                                | 2020-01-20T13:09:18                  | pl                                   | 1013943                              | Malwiszka                            | 2020-01-16T10:40:07                  | 15                                   | 12                                   | 0                                    | NA                                   | ⋯                                    | False                                | True                                 | 836ef38b-b156-4dbd-9c6e-3e7747ca8663 | TRUE                                 | pl 0                                 | 7760                                 | 2                                    | 1                                    | 1                                    | 1933                                 | \n",
       "| 66474                                | 2020-01-20T13:09:18                  | pl                                   | 1013944                              | Karolinakosewska                     | 2020-01-16T10:40:17                  | 11                                   |  4                                   | 0                                    | NA                                   | ⋯                                    | False                                | True                                 | f721d623-060d-4af9-9bbe-574fd1176825 | TRUE                                 | pl 0                                 | 7671                                 | 2                                    | 1                                    | 1                                    | 1844                                 | \n",
       "| 66475                                | 2020-01-20T13:09:18                  | pl                                   | 1013945                              | Am.laczek                            | 2020-01-16T10:40:29                  | 24                                   | 12                                   | 0                                    | NA                                   | ⋯                                    | False                                | True                                 | e9201df6-00ea-4b34-9906-51da295964a5 | TRUE                                 | pl 0                                 | 7805                                 | 2                                    | 0                                    | 1                                    | 1978                                 | \n",
       "| 66476                                | 2020-01-20T13:09:18                  | pl                                   | 1013946                              | Anita UW                             | 2020-01-16T10:40:33                  | 18                                   | 12                                   | 0                                    | NA                                   | ⋯                                    | False                                | True                                 | 353665e0-d2d9-457f-9390-d5a79bdf0400 | TRUE                                 | pl 0                                 | 7829                                 | 2                                    | 0                                    | 1                                    | 2002                                 | \n",
       "| 66477                                | 2020-01-20T13:09:18                  | pl                                   | 1013947                              | Ola student                          | 2020-01-16T10:40:38                  |  8                                   |  4                                   | 0                                    | NA                                   | ⋯                                    | False                                | True                                 | a8b5f593-30ac-473a-97f9-c9cc64fe06a3 | TRUE                                 | pl 0                                 | 7725                                 | 2                                    | 1                                    | 1                                    | 1898                                 | \n",
       "| 66478                                | 2020-01-20T13:09:18                  | pl                                   | 1013948                              | Maja1225                             | 2020-01-16T10:40:43                  | 15                                   | 11                                   | 0                                    | NA                                   | ⋯                                    | False                                | True                                 | b73c2a7e-7150-4019-882f-676458dad54b | TRUE                                 | pl 0                                 | 7838                                 | 2                                    | 1                                    | 1                                    | 2011                                 | \n",
       "| 66481                                | 2020-01-20T13:09:19                  | pl                                   | 1013951                              | Hannibal Lecter 1996                 | 2020-01-16T10:40:50                  |  7                                   |  5                                   | 0                                    | NA                                   | ⋯                                    | False                                | True                                 | 5a7398b3-f558-4ac7-a2fe-4bd1279bd42e | TRUE                                 | pl 0                                 | 7768                                 | 2                                    | 1                                    | 1                                    | 1941                                 | \n",
       "| 66482                                | 2020-01-20T13:09:19                  | pl                                   | 1013952                              | KarinaMariaL                         | 2020-01-16T10:41:02                  | 15                                   | 11                                   | 0                                    | NA                                   | ⋯                                    | False                                | True                                 | 55e6fd3b-ad4a-4589-b85e-e6af38705d97 | TRUE                                 | pl 0                                 | 7768                                 | 2                                    | 0                                    | 1                                    | 1941                                 | \n",
       "| 66483                                | 2020-01-20T13:09:19                  | pl                                   | 1013953                              | Linakaro3                            | 2020-01-16T10:41:05                  | 15                                   | 11                                   | 0                                    | NA                                   | ⋯                                    | False                                | True                                 | ecc2661d-72dd-475f-9b4b-a542eeed1e7a | TRUE                                 | pl 0                                 | 7690                                 | 2                                    | 1                                    | 1                                    | 1863                                 | \n",
       "| 66484                                | 2020-01-20T13:09:19                  | pl                                   | 1013954                              | Mysza1111                            | 2020-01-16T10:41:28                  | 15                                   | 12                                   | 0                                    | NA                                   | ⋯                                    | False                                | True                                 | f89b88fe-f040-4e46-9f4f-58a755633c3e | TRUE                                 | pl 0                                 | 7841                                 | 2                                    | 0                                    | 1                                    | 2014                                 | \n",
       "| 66485                                | 2020-01-20T13:09:19                  | pl                                   | 1013956                              | TIveLaIr                             | 2020-01-16T10:42:53                  | 19                                   | 13                                   | 0                                    | NA                                   | ⋯                                    | False                                | True                                 | b7905a85-209c-40d4-bb8b-f044a7f33527 | TRUE                                 | pl 0                                 | 7838                                 | 2                                    | 0                                    | 1                                    | 2011                                 | \n",
       "| 66486                                | 2020-01-20T13:09:19                  | pl                                   | 1014033                              | Victoriaa99                          | 2020-01-16T16:20:45                  |  7                                   |  5                                   | 0                                    | NA                                   | ⋯                                    | False                                | True                                 | 97d620e7-ebdd-403b-b8a0-cd5399000088 | TRUE                                 | pl 0                                 | 7863                                 | 2                                    | 1                                    | 1                                    | 2036                                 | \n",
       "| 66490                                | 2020-01-20T13:09:20                  | pl                                   | 1014093                              | Marek222111                          | 2020-01-16T21:40:09                  |  4                                   |  4                                   | 0                                    | NA                                   | ⋯                                    | False                                | True                                 | 4e766151-fadf-4ca2-b39b-571eb1eca51d | TRUE                                 | pl 0                                 | 7786                                 | 2                                    | 0                                    | 1                                    | 1959                                 | \n",
       "| 66491                                | 2020-01-20T13:09:20                  | pl                                   | 1014144                              | Miazga777                            | 2020-01-17T08:56:36                  |  5                                   |  5                                   | 0                                    | NA                                   | ⋯                                    | False                                | True                                 | 03fc828a-881b-438b-8682-5bc9712f6ca0 | TRUE                                 | pl 0                                 | 7651                                 | 2                                    | 1                                    | 1                                    | 1824                                 | \n",
       "| 66494                                | 2020-01-20T13:09:20                  | pl                                   | 1014196                              | Miodek!~Fifi999999999 lub ty         | 2020-01-17T13:32:33                  | 10                                   |  8                                   | 0                                    | NA                                   | ⋯                                    | False                                | True                                 | 32d7a41d-d19a-4497-b23c-9d060c4f264c | TRUE                                 | pl 0                                 | 7619                                 | 2                                    | 1                                    | 1                                    | 1792                                 | \n",
       "| 66495                                | 2020-01-20T13:09:20                  | pl                                   | 1014201                              | Mephka                               | 2020-01-17T13:53:14                  |  6                                   |  6                                   | 0                                    | NA                                   | ⋯                                    | False                                | True                                 | 3df0324e-6005-4c7f-9698-91f308e3c953 | TRUE                                 | pl 0                                 | 7679                                 | 2                                    | 1                                    | 1                                    | 1852                                 | \n",
       "| 66497                                | 2020-01-20T13:09:21                  | pl                                   | 1014245                              | WspoI                                | 2020-01-17T16:58:28                  |  6                                   |  6                                   | 0                                    | NA                                   | ⋯                                    | False                                | True                                 | e1f0e0f8-3787-47fe-aa8f-89da1de0427e | TRUE                                 | pl 0                                 | 7665                                 | 2                                    | 1                                    | 1                                    | 1838                                 | \n",
       "| 66500                                | 2020-01-20T13:09:21                  | pl                                   | 1014377                              | Evidamii019                          | 2020-01-18T10:40:19                  | 18                                   | 10                                   | 0                                    | NA                                   | ⋯                                    | False                                | True                                 | ae337e06-04c0-4648-83c3-3fe5468ff966 | TRUE                                 | pl 0                                 | 7861                                 | 2                                    | 1                                    | 1                                    | 2034                                 | \n",
       "| 66501                                | 2020-01-20T13:09:21                  | pl                                   | 1014401                              | Wojciech Czeski                      | 2020-01-18T12:47:51                  | 12                                   | 10                                   | 0                                    | NA                                   | ⋯                                    | False                                | True                                 | 533a93b6-20a8-4c0d-92e1-f879164969f8 | TRUE                                 | pl 0                                 | 7597                                 | 2                                    | 1                                    | 1                                    | 1770                                 | \n",
       "| 66503                                | 2020-01-20T13:09:21                  | pl                                   | 1014433                              | Direx1960                            | 2020-01-18T15:02:20                  | 76                                   |  8                                   | 0                                    | NA                                   | ⋯                                    | False                                | True                                 | f303043f-aa9d-4158-b732-01d166bf2362 | TRUE                                 | pl 0                                 | 7862                                 | 2                                    | 0                                    | 1                                    | 2035                                 | \n",
       "| 66504                                | 2020-01-20T13:09:21                  | pl                                   | 1014438                              | Tezilo                               | 2020-01-18T15:08:55                  |  4                                   |  4                                   | 0                                    | NA                                   | ⋯                                    | False                                | True                                 | 373748a8-1083-4380-88f2-bbb6eac70a6c | TRUE                                 | pl 0                                 | 7770                                 | 2                                    | 1                                    | 1                                    | 1943                                 | \n",
       "| 66507                                | 2020-01-20T13:09:22                  | pl                                   | 1014498                              | Saleo02                              | 2020-01-18T18:44:53                  | 19                                   | 18                                   | 0                                    | NA                                   | ⋯                                    | False                                | True                                 | cb014024-e6f0-4fc7-b486-3c1c2002a711 | TRUE                                 | pl 0                                 | 7697                                 | 2                                    | 0                                    | 1                                    | 1870                                 | \n",
       "| 66508                                | 2020-01-20T13:09:22                  | pl                                   | 1014525                              | Ius1000                              | 2020-01-18T20:30:14                  |  7                                   |  6                                   | 0                                    | NA                                   | ⋯                                    | False                                | True                                 | 5c70119b-7392-4e1d-b12d-30d71b4934ba | TRUE                                 | pl 0                                 | 7649                                 | 2                                    | 1                                    | 1                                    | 1822                                 | \n",
       "| 66514                                | 2020-01-20T13:09:23                  | pl                                   | 1014841                              | Madridista30                         | 2020-01-20T11:01:13                  | 17                                   | 13                                   | 0                                    | NA                                   | ⋯                                    | False                                | True                                 | ebe242a3-f4db-42e5-b30a-d7d9ac70729c | TRUE                                 | pl 0                                 | 7606                                 | 2                                    | 0                                    | 1                                    | 1779                                 | \n",
       "\n",
       "\n"
      ],
      "text/plain": [
       "     id    created_at          lang user_id user_name                   \n",
       "1    67747 2020-01-20T14:57:09 ar   1576994 Mr.dagbashey                \n",
       "2    67749 2020-01-20T14:57:09 ar   1577265 TheTrueGilben               \n",
       "3    67751 2020-01-20T14:57:09 ar   1578065 Lara Ehwait                 \n",
       "4    67755 2020-01-20T14:57:10 ar   1579150 Saadbarri                   \n",
       "5    67759 2020-01-20T14:57:10 ar   1580146 Gerges6                     \n",
       "6    67760 2020-01-20T14:57:10 ar   1580237 ابو حلب1020                 \n",
       "7    67763 2020-01-20T14:57:10 ar   1581160 Sherif.Othman1              \n",
       "8    67768 2020-01-20T14:57:10 ar   1583064 Saudi 238                   \n",
       "9    67770 2020-01-20T14:57:10 ar   1584050 Nagham jamjoom              \n",
       "10   67772 2020-01-20T14:57:10 ar   1584435 دانا عبد العزيز الجعبري     \n",
       "11   67774 2020-01-20T14:57:10 ar   1585374 Zainab Wasel                \n",
       "12   67776 2020-01-20T14:57:11 ar   1585438 Xtam5imX                    \n",
       "13   67779 2020-01-20T14:57:11 ar   1586795 Emascandam                  \n",
       "14   67780 2020-01-20T14:57:11 ar   1586966 Farouk Alghamrawi           \n",
       "15   67781 2020-01-20T14:57:11 ar   1587372 ربيع الاسيد                 \n",
       "16   67782 2020-01-20T14:57:11 ar   1587384 سعد الحسنات                 \n",
       "17   67783 2020-01-20T14:57:11 ar   1587591 Amir-Jundi                  \n",
       "18   67784 2020-01-20T14:57:11 ar   1588541 صلاح ٢٠٠٠                   \n",
       "19   67788 2020-01-20T14:57:11 ar   1589446 فيصل 1993                   \n",
       "20   67790 2020-01-20T14:57:11 ar   1590094 Nizarelheni                 \n",
       "21   67792 2020-01-20T14:57:11 ar   1591146 Anttarm                     \n",
       "22   67793 2020-01-20T14:57:11 ar   1591888 Salman Gaafar               \n",
       "23   67794 2020-01-20T14:57:12 ar   1592659 Ola.mahadi                  \n",
       "24   67798 2020-01-20T14:57:12 ar   1595163 Sky365                      \n",
       "25   67799 2020-01-20T14:57:12 ar   1595309 Salma Yehia F               \n",
       "26   67802 2020-01-20T14:57:12 ar   1595757 Ahmad Abo Ali               \n",
       "27   67804 2020-01-20T14:57:12 ar   1595946 Veuhx1433                   \n",
       "28   67807 2020-01-20T14:57:12 ar   1596651 Mohamedibrahem321           \n",
       "29   67810 2020-01-20T14:57:12 ar   1597742 Ali 919049                  \n",
       "30   67813 2020-01-20T14:57:12 ar   1598301 Faisalm1                    \n",
       "⋮    ⋮     ⋮                   ⋮    ⋮       ⋮                           \n",
       "4037 66461 2020-01-20T13:09:16 pl   1013527 Kuba Ohyt                   \n",
       "4038 66464 2020-01-20T13:09:17 pl   1013668 Only money                  \n",
       "4039 66467 2020-01-20T13:09:17 pl   1013707 Szołtysek                   \n",
       "4040 66468 2020-01-20T13:09:17 pl   1013795 Nitrobacter96               \n",
       "4041 66470 2020-01-20T13:09:17 pl   1013835 Didisjo                     \n",
       "4042 66472 2020-01-20T13:09:18 pl   1013930 HubertŁódź                  \n",
       "4043 66473 2020-01-20T13:09:18 pl   1013943 Malwiszka                   \n",
       "4044 66474 2020-01-20T13:09:18 pl   1013944 Karolinakosewska            \n",
       "4045 66475 2020-01-20T13:09:18 pl   1013945 Am.laczek                   \n",
       "4046 66476 2020-01-20T13:09:18 pl   1013946 Anita UW                    \n",
       "4047 66477 2020-01-20T13:09:18 pl   1013947 Ola student                 \n",
       "4048 66478 2020-01-20T13:09:18 pl   1013948 Maja1225                    \n",
       "4049 66481 2020-01-20T13:09:19 pl   1013951 Hannibal Lecter 1996        \n",
       "4050 66482 2020-01-20T13:09:19 pl   1013952 KarinaMariaL                \n",
       "4051 66483 2020-01-20T13:09:19 pl   1013953 Linakaro3                   \n",
       "4052 66484 2020-01-20T13:09:19 pl   1013954 Mysza1111                   \n",
       "4053 66485 2020-01-20T13:09:19 pl   1013956 TIveLaIr                    \n",
       "4054 66486 2020-01-20T13:09:19 pl   1014033 Victoriaa99                 \n",
       "4055 66490 2020-01-20T13:09:20 pl   1014093 Marek222111                 \n",
       "4056 66491 2020-01-20T13:09:20 pl   1014144 Miazga777                   \n",
       "4057 66494 2020-01-20T13:09:20 pl   1014196 Miodek!~Fifi999999999 lub ty\n",
       "4058 66495 2020-01-20T13:09:20 pl   1014201 Mephka                      \n",
       "4059 66497 2020-01-20T13:09:21 pl   1014245 WspoI                       \n",
       "4060 66500 2020-01-20T13:09:21 pl   1014377 Evidamii019                 \n",
       "4061 66501 2020-01-20T13:09:21 pl   1014401 Wojciech Czeski             \n",
       "4062 66503 2020-01-20T13:09:21 pl   1014433 Direx1960                   \n",
       "4063 66504 2020-01-20T13:09:21 pl   1014438 Tezilo                      \n",
       "4064 66507 2020-01-20T13:09:22 pl   1014498 Saleo02                     \n",
       "4065 66508 2020-01-20T13:09:22 pl   1014525 Ius1000                     \n",
       "4066 66514 2020-01-20T13:09:23 pl   1014841 Madridista30                \n",
       "     user_registration   user_editcount user_editcount_quality prev_experience\n",
       "1    2018-10-27T00:11:36  19             4                     0              \n",
       "2    2018-10-27T14:19:06  23             5                     0              \n",
       "3    2018-10-28T20:20:37   6             6                     0              \n",
       "4    2018-10-30T18:56:04   7             7                     0              \n",
       "5    2018-11-01T16:58:57  21             4                     0              \n",
       "6    2018-11-01T20:37:14  11             5                     0              \n",
       "7    2018-11-03T17:11:07  27            19                     0              \n",
       "8    2018-11-06T21:25:58  14             4                     0              \n",
       "9    2018-11-08T18:01:23  70            35                     0              \n",
       "10   2018-11-09T12:30:30  80            33                     0              \n",
       "11   2018-11-11T07:21:00 233            47                     0              \n",
       "12   2018-11-11T10:16:55  12             4                     0              \n",
       "13   2018-11-13T21:21:45  22             8                     0              \n",
       "14   2018-11-14T08:03:22  93            29                     0              \n",
       "15   2018-11-14T23:06:51  13            11                     0              \n",
       "16   2018-11-14T23:33:32  51            32                     0              \n",
       "17   2018-11-15T13:12:58  46             6                     0              \n",
       "18   2018-11-17T12:04:01 558            25                     0              \n",
       "19   2018-11-19T07:24:13  28             9                     0              \n",
       "20   2018-11-20T12:57:14  30            15                     0              \n",
       "21   2018-11-22T08:17:05  29             8                     0              \n",
       "22   2018-11-23T19:17:10   4             4                     0              \n",
       "23   2018-11-25T08:59:05  76            23                     0              \n",
       "24   2018-11-29T19:56:21   5             5                     0              \n",
       "25   2018-11-30T03:36:45 156            35                     0              \n",
       "26   2018-11-30T21:34:58  72             5                     0              \n",
       "27   2018-12-01T08:22:37  54             8                     0              \n",
       "28   2018-12-02T11:49:32  44             8                     0              \n",
       "29   2018-12-04T05:16:33  14             4                     0              \n",
       "30   2018-12-05T02:20:36  28            16                     0              \n",
       "⋮    ⋮                   ⋮              ⋮                      ⋮              \n",
       "4037 2020-01-14T15:34:34 10              5                     0              \n",
       "4038 2020-01-15T08:09:38  8              7                     0              \n",
       "4039 2020-01-15T11:41:18  5              5                     0              \n",
       "4040 2020-01-15T17:04:53 10              7                     0              \n",
       "4041 2020-01-15T19:34:24  4              4                     0              \n",
       "4042 2020-01-16T08:39:17  8              6                     0              \n",
       "4043 2020-01-16T10:40:07 15             12                     0              \n",
       "4044 2020-01-16T10:40:17 11              4                     0              \n",
       "4045 2020-01-16T10:40:29 24             12                     0              \n",
       "4046 2020-01-16T10:40:33 18             12                     0              \n",
       "4047 2020-01-16T10:40:38  8              4                     0              \n",
       "4048 2020-01-16T10:40:43 15             11                     0              \n",
       "4049 2020-01-16T10:40:50  7              5                     0              \n",
       "4050 2020-01-16T10:41:02 15             11                     0              \n",
       "4051 2020-01-16T10:41:05 15             11                     0              \n",
       "4052 2020-01-16T10:41:28 15             12                     0              \n",
       "4053 2020-01-16T10:42:53 19             13                     0              \n",
       "4054 2020-01-16T16:20:45  7              5                     0              \n",
       "4055 2020-01-16T21:40:09  4              4                     0              \n",
       "4056 2020-01-17T08:56:36  5              5                     0              \n",
       "4057 2020-01-17T13:32:33 10              8                     0              \n",
       "4058 2020-01-17T13:53:14  6              6                     0              \n",
       "4059 2020-01-17T16:58:28  6              6                     0              \n",
       "4060 2020-01-18T10:40:19 18             10                     0              \n",
       "4061 2020-01-18T12:47:51 12             10                     0              \n",
       "4062 2020-01-18T15:02:20 76              8                     0              \n",
       "4063 2020-01-18T15:08:55  4              4                     0              \n",
       "4064 2020-01-18T18:44:53 19             18                     0              \n",
       "4065 2020-01-18T20:30:14  7              6                     0              \n",
       "4066 2020-01-20T11:01:13 17             13                     0              \n",
       "     thanks_sent ⋯ user_completed user_included\n",
       "1    NA          ⋯ False          True         \n",
       "2    NA          ⋯ False          True         \n",
       "3    NA          ⋯ False          True         \n",
       "4    NA          ⋯ False          True         \n",
       "5    NA          ⋯ False          True         \n",
       "6    NA          ⋯ False          True         \n",
       "7    NA          ⋯ False          True         \n",
       "8    NA          ⋯ False          True         \n",
       "9    NA          ⋯ False          True         \n",
       "10   NA          ⋯ False          True         \n",
       "11   NA          ⋯ False          True         \n",
       "12   NA          ⋯ False          True         \n",
       "13   NA          ⋯ False          True         \n",
       "14   NA          ⋯ False          True         \n",
       "15   NA          ⋯ False          True         \n",
       "16   NA          ⋯ False          True         \n",
       "17   NA          ⋯ False          True         \n",
       "18   NA          ⋯ False          True         \n",
       "19   NA          ⋯ False          True         \n",
       "20   NA          ⋯ False          True         \n",
       "21   NA          ⋯ False          True         \n",
       "22   NA          ⋯ False          True         \n",
       "23   NA          ⋯ False          True         \n",
       "24   NA          ⋯ False          True         \n",
       "25   NA          ⋯ False          True         \n",
       "26   NA          ⋯ False          True         \n",
       "27   NA          ⋯ False          True         \n",
       "28   NA          ⋯ False          True         \n",
       "29   NA          ⋯ False          True         \n",
       "30   NA          ⋯ False          True         \n",
       "⋮    ⋮           ⋱ ⋮              ⋮            \n",
       "4037 NA          ⋯ False          True         \n",
       "4038 NA          ⋯ False          True         \n",
       "4039 NA          ⋯ False          True         \n",
       "4040 NA          ⋯ False          True         \n",
       "4041 NA          ⋯ False          True         \n",
       "4042 NA          ⋯ False          True         \n",
       "4043 NA          ⋯ False          True         \n",
       "4044 NA          ⋯ False          True         \n",
       "4045 NA          ⋯ False          True         \n",
       "4046 NA          ⋯ False          True         \n",
       "4047 NA          ⋯ False          True         \n",
       "4048 NA          ⋯ False          True         \n",
       "4049 NA          ⋯ False          True         \n",
       "4050 NA          ⋯ False          True         \n",
       "4051 NA          ⋯ False          True         \n",
       "4052 NA          ⋯ False          True         \n",
       "4053 NA          ⋯ False          True         \n",
       "4054 NA          ⋯ False          True         \n",
       "4055 NA          ⋯ False          True         \n",
       "4056 NA          ⋯ False          True         \n",
       "4057 NA          ⋯ False          True         \n",
       "4058 NA          ⋯ False          True         \n",
       "4059 NA          ⋯ False          True         \n",
       "4060 NA          ⋯ False          True         \n",
       "4061 NA          ⋯ False          True         \n",
       "4062 NA          ⋯ False          True         \n",
       "4063 NA          ⋯ False          True         \n",
       "4064 NA          ⋯ False          True         \n",
       "4065 NA          ⋯ False          True         \n",
       "4066 NA          ⋯ False          True         \n",
       "     anonymized_id                        newcomer lang_prev_experience\n",
       "1    42994612-7a0f-4078-86d4-778e91d54216 TRUE     ar 0                \n",
       "2    2db3f3ae-26dc-4e82-b221-065eab7cadc7 TRUE     ar 0                \n",
       "3    5f996a6b-90d1-4829-83dd-17ac82d304b2 TRUE     ar 0                \n",
       "4    7d2e9764-dbe4-4f8c-8262-af53fc0415e8 TRUE     ar 0                \n",
       "5    4e761f26-636a-4d2c-b9d1-f04c864ff313 TRUE     ar 0                \n",
       "6    c298fc95-c186-488d-9052-69622226e6d5 TRUE     ar 0                \n",
       "7    a3605357-a9ed-45b3-902a-a393899f5259 TRUE     ar 0                \n",
       "8    57ea38e2-ad0f-4121-a9df-b266f90e8cec TRUE     ar 0                \n",
       "9    b134690d-9798-4ef0-8f5d-aad34507b200 TRUE     ar 0                \n",
       "10   455a3eeb-f6a8-424c-829e-49f6af98bc8e TRUE     ar 0                \n",
       "11   93d0a4e0-4aa9-485b-82fa-1ea47336cc4b TRUE     ar 0                \n",
       "12   14837131-048e-49f9-a908-f55582f3c4bf TRUE     ar 0                \n",
       "13   cd7be276-416b-42ab-a0f1-b03af2f87f9d TRUE     ar 0                \n",
       "14   972d47f5-822b-4960-a0f2-eef3a2386abb TRUE     ar 0                \n",
       "15   0465e9ed-a09d-4ba6-9e74-2eb71a2bd13c TRUE     ar 0                \n",
       "16   0ada065b-697d-4dea-a92e-ae78f896c757 TRUE     ar 0                \n",
       "17   f1bfb9d4-54f5-4e58-be3b-55f28ecba29d TRUE     ar 0                \n",
       "18   62d36cd4-8160-4ec4-9445-65d547f57f5f TRUE     ar 0                \n",
       "19   9ceb6f51-eed6-450e-ac5d-75140768a272 TRUE     ar 0                \n",
       "20   04c21232-7ee0-4983-89bf-2660eec4baca TRUE     ar 0                \n",
       "21   642bb453-c510-4cfc-93c0-5593b6ddf1bb TRUE     ar 0                \n",
       "22   f21ea478-ab40-4ebc-9c22-4d2a4999700c TRUE     ar 0                \n",
       "23   9cb1eee8-3ac9-47bf-b529-a795b6c376e1 TRUE     ar 0                \n",
       "24   13f16ab5-b08c-4cd2-b872-8a6b07038205 TRUE     ar 0                \n",
       "25   07ae18d0-ab29-44cc-9725-be58fd289378 TRUE     ar 0                \n",
       "26   0c76a3d7-9c10-4025-9bf7-f3dac260ea29 TRUE     ar 0                \n",
       "27   5a60b534-a533-44d6-b332-67953ce6b571 TRUE     ar 0                \n",
       "28   a0914b08-87e0-4860-a166-7595e6b09e49 TRUE     ar 0                \n",
       "29   4c834f28-ecdc-41dc-b9f1-f4045850422c TRUE     ar 0                \n",
       "30   a32172e4-4ef9-40ac-a52d-b3b8007182fa TRUE     ar 0                \n",
       "⋮    ⋮                                    ⋮        ⋮                   \n",
       "4037 9234101e-fa68-4c6f-b07d-e43b6be0028c TRUE     pl 0                \n",
       "4038 a0752702-058a-4764-9b03-350d9b6bfe9c TRUE     pl 0                \n",
       "4039 a46d4788-8436-451e-b3a4-7c88aafe050d TRUE     pl 0                \n",
       "4040 9930a0cb-6875-4794-91a1-9e494b85ff34 TRUE     pl 0                \n",
       "4041 e38e78f5-02c6-4c2e-ac29-e95026a72eff TRUE     pl 0                \n",
       "4042 57ccb088-8a38-4a93-838f-efb46a5e8e98 TRUE     pl 0                \n",
       "4043 836ef38b-b156-4dbd-9c6e-3e7747ca8663 TRUE     pl 0                \n",
       "4044 f721d623-060d-4af9-9bbe-574fd1176825 TRUE     pl 0                \n",
       "4045 e9201df6-00ea-4b34-9906-51da295964a5 TRUE     pl 0                \n",
       "4046 353665e0-d2d9-457f-9390-d5a79bdf0400 TRUE     pl 0                \n",
       "4047 a8b5f593-30ac-473a-97f9-c9cc64fe06a3 TRUE     pl 0                \n",
       "4048 b73c2a7e-7150-4019-882f-676458dad54b TRUE     pl 0                \n",
       "4049 5a7398b3-f558-4ac7-a2fe-4bd1279bd42e TRUE     pl 0                \n",
       "4050 55e6fd3b-ad4a-4589-b85e-e6af38705d97 TRUE     pl 0                \n",
       "4051 ecc2661d-72dd-475f-9b4b-a542eeed1e7a TRUE     pl 0                \n",
       "4052 f89b88fe-f040-4e46-9f4f-58a755633c3e TRUE     pl 0                \n",
       "4053 b7905a85-209c-40d4-bb8b-f044a7f33527 TRUE     pl 0                \n",
       "4054 97d620e7-ebdd-403b-b8a0-cd5399000088 TRUE     pl 0                \n",
       "4055 4e766151-fadf-4ca2-b39b-571eb1eca51d TRUE     pl 0                \n",
       "4056 03fc828a-881b-438b-8682-5bc9712f6ca0 TRUE     pl 0                \n",
       "4057 32d7a41d-d19a-4497-b23c-9d060c4f264c TRUE     pl 0                \n",
       "4058 3df0324e-6005-4c7f-9698-91f308e3c953 TRUE     pl 0                \n",
       "4059 e1f0e0f8-3787-47fe-aa8f-89da1de0427e TRUE     pl 0                \n",
       "4060 ae337e06-04c0-4648-83c3-3fe5468ff966 TRUE     pl 0                \n",
       "4061 533a93b6-20a8-4c0d-92e1-f879164969f8 TRUE     pl 0                \n",
       "4062 f303043f-aa9d-4158-b732-01d166bf2362 TRUE     pl 0                \n",
       "4063 373748a8-1083-4380-88f2-bbb6eac70a6c TRUE     pl 0                \n",
       "4064 cb014024-e6f0-4fc7-b486-3c1c2002a711 TRUE     pl 0                \n",
       "4065 5c70119b-7392-4e1d-b12d-30d71b4934ba TRUE     pl 0                \n",
       "4066 ebe242a3-f4db-42e5-b30a-d7d9ac70729c TRUE     pl 0                \n",
       "     randomization_block_id randomization_block_size randomization_arm\n",
       "1    5987                   2                        0                \n",
       "2    6312                   2                        1                \n",
       "3    5852                   2                        1                \n",
       "4    6224                   2                        1                \n",
       "5    6247                   2                        0                \n",
       "6    6105                   2                        0                \n",
       "7    6408                   2                        0                \n",
       "8    6122                   2                        0                \n",
       "9    6413                   2                        0                \n",
       "10   6371                   2                        1                \n",
       "11   6387                   2                        0                \n",
       "12   6136                   2                        1                \n",
       "13   5969                   2                        1                \n",
       "14   6297                   2                        1                \n",
       "15   6285                   2                        1                \n",
       "16   6288                   2                        0                \n",
       "17   6347                   2                        1                \n",
       "18   6407                   2                        0                \n",
       "19   5988                   2                        1                \n",
       "20   6314                   2                        0                \n",
       "21   6072                   2                        1                \n",
       "22   6278                   2                        1                \n",
       "23   6381                   2                        0                \n",
       "24   5914                   2                        1                \n",
       "25   6402                   2                        1                \n",
       "26   6411                   2                        1                \n",
       "27   6353                   2                        0                \n",
       "28   6348                   2                        1                \n",
       "29   6258                   2                        0                \n",
       "30   6391                   2                        0                \n",
       "⋮    ⋮                      ⋮                        ⋮                \n",
       "4037 7717                   2                        0                \n",
       "4038 7871                   2                        1                \n",
       "4039 7635                   2                        0                \n",
       "4040 7720                   2                        1                \n",
       "4041 7747                   2                        0                \n",
       "4042 7601                   2                        0                \n",
       "4043 7760                   2                        1                \n",
       "4044 7671                   2                        1                \n",
       "4045 7805                   2                        0                \n",
       "4046 7829                   2                        0                \n",
       "4047 7725                   2                        1                \n",
       "4048 7838                   2                        1                \n",
       "4049 7768                   2                        1                \n",
       "4050 7768                   2                        0                \n",
       "4051 7690                   2                        1                \n",
       "4052 7841                   2                        0                \n",
       "4053 7838                   2                        0                \n",
       "4054 7863                   2                        1                \n",
       "4055 7786                   2                        0                \n",
       "4056 7651                   2                        1                \n",
       "4057 7619                   2                        1                \n",
       "4058 7679                   2                        1                \n",
       "4059 7665                   2                        1                \n",
       "4060 7861                   2                        1                \n",
       "4061 7597                   2                        1                \n",
       "4062 7862                   2                        0                \n",
       "4063 7770                   2                        1                \n",
       "4064 7697                   2                        0                \n",
       "4065 7649                   2                        1                \n",
       "4066 7606                   2                        0                \n",
       "     count.var initial.block.id\n",
       "1    1         160             \n",
       "2    1         485             \n",
       "3    1          25             \n",
       "4    1         397             \n",
       "5    1         420             \n",
       "6    1         278             \n",
       "7    1         581             \n",
       "8    1         295             \n",
       "9    1         586             \n",
       "10   1         544             \n",
       "11   1         560             \n",
       "12   1         309             \n",
       "13   1         142             \n",
       "14   1         470             \n",
       "15   1         458             \n",
       "16   1         461             \n",
       "17   1         520             \n",
       "18   1         580             \n",
       "19   1         161             \n",
       "20   1         487             \n",
       "21   1         245             \n",
       "22   1         451             \n",
       "23   1         554             \n",
       "24   1          87             \n",
       "25   1         575             \n",
       "26   1         584             \n",
       "27   1         526             \n",
       "28   1         521             \n",
       "29   1         431             \n",
       "30   1         564             \n",
       "⋮    ⋮         ⋮               \n",
       "4037 1         1890            \n",
       "4038 1         2044            \n",
       "4039 1         1808            \n",
       "4040 1         1893            \n",
       "4041 1         1920            \n",
       "4042 1         1774            \n",
       "4043 1         1933            \n",
       "4044 1         1844            \n",
       "4045 1         1978            \n",
       "4046 1         2002            \n",
       "4047 1         1898            \n",
       "4048 1         2011            \n",
       "4049 1         1941            \n",
       "4050 1         1941            \n",
       "4051 1         1863            \n",
       "4052 1         2014            \n",
       "4053 1         2011            \n",
       "4054 1         2036            \n",
       "4055 1         1959            \n",
       "4056 1         1824            \n",
       "4057 1         1792            \n",
       "4058 1         1852            \n",
       "4059 1         1838            \n",
       "4060 1         2034            \n",
       "4061 1         1770            \n",
       "4062 1         2035            \n",
       "4063 1         1943            \n",
       "4064 1         1870            \n",
       "4065 1         1822            \n",
       "4066 1         1779            "
      ]
     },
     "metadata": {},
     "output_type": "display_data"
    }
   ],
   "source": [
    "recipient.df.final.included"
   ]
  },
  {
   "cell_type": "markdown",
   "metadata": {},
   "source": [
    "### Sort by block ID"
   ]
  },
  {
   "cell_type": "code",
   "execution_count": 40,
   "metadata": {},
   "outputs": [],
   "source": [
    "recipient.df.final.included <- recipient.df.final.included[order(recipient.df.final.included$randomization_block_id),]"
   ]
  },
  {
   "cell_type": "code",
   "execution_count": 42,
   "metadata": {},
   "outputs": [
    {
     "name": "stdout",
     "output_type": "stream",
     "text": [
      "[1] \"Newcomers\"\n"
     ]
    },
    {
     "data": {
      "text/html": [
       "<dl class=dl-horizontal>\n",
       "\t<dt>ar</dt>\n",
       "\t\t<dd>1216</dd>\n",
       "\t<dt>de</dt>\n",
       "\t\t<dd>2000</dd>\n",
       "\t<dt>pl</dt>\n",
       "\t\t<dd>626</dd>\n",
       "</dl>\n"
      ],
      "text/latex": [
       "\\begin{description*}\n",
       "\\item[ar] 1216\n",
       "\\item[de] 2000\n",
       "\\item[pl] 626\n",
       "\\end{description*}\n"
      ],
      "text/markdown": [
       "ar\n",
       ":   1216de\n",
       ":   2000pl\n",
       ":   626\n",
       "\n"
      ],
      "text/plain": [
       "  ar   de   pl \n",
       "1216 2000  626 "
      ]
     },
     "metadata": {},
     "output_type": "display_data"
    },
    {
     "name": "stdout",
     "output_type": "stream",
     "text": [
      "[1] \"Experienced\"\n"
     ]
    },
    {
     "data": {
      "text/html": [
       "<dl class=dl-horizontal>\n",
       "\t<dt>ar</dt>\n",
       "\t\t<dd>0</dd>\n",
       "\t<dt>de</dt>\n",
       "\t\t<dd>0</dd>\n",
       "\t<dt>pl</dt>\n",
       "\t\t<dd>224</dd>\n",
       "</dl>\n"
      ],
      "text/latex": [
       "\\begin{description*}\n",
       "\\item[ar] 0\n",
       "\\item[de] 0\n",
       "\\item[pl] 224\n",
       "\\end{description*}\n"
      ],
      "text/markdown": [
       "ar\n",
       ":   0de\n",
       ":   0pl\n",
       ":   224\n",
       "\n"
      ],
      "text/plain": [
       " ar  de  pl \n",
       "  0   0 224 "
      ]
     },
     "metadata": {},
     "output_type": "display_data"
    }
   ],
   "source": [
    "print(\"Newcomers\")\n",
    "summary(subset(recipient.df.final.included, newcomer==1)$lang)\n",
    "print(\"Experienced\")\n",
    "summary(subset(recipient.df.final.included, newcomer==0)$lang)"
   ]
  },
  {
   "cell_type": "markdown",
   "metadata": {},
   "source": [
    "# Output and Archive Randomizations"
   ]
  },
  {
   "cell_type": "code",
   "execution_count": 44,
   "metadata": {},
   "outputs": [],
   "source": [
    "randomization.filename <- paste(\"thanks-recipient-randomizations-\", format(Sys.Date(), format=\"%Y%m%d\"), \".csv\", sep=\"\") \n",
    "write.csv(recipient.df.final.included, file = file.path(data.path, \"randomization_output\", randomization.filename))"
   ]
  },
  {
   "cell_type": "code",
   "execution_count": 45,
   "metadata": {},
   "outputs": [
    {
     "data": {
      "text/html": [
       "<ol class=list-inline>\n",
       "\t<li>'id'</li>\n",
       "\t<li>'created_at'</li>\n",
       "\t<li>'lang'</li>\n",
       "\t<li>'user_id'</li>\n",
       "\t<li>'user_name'</li>\n",
       "\t<li>'user_registration'</li>\n",
       "\t<li>'user_editcount'</li>\n",
       "\t<li>'user_editcount_quality'</li>\n",
       "\t<li>'prev_experience'</li>\n",
       "\t<li>'thanks_sent'</li>\n",
       "\t<li>'num_prev_thanks'</li>\n",
       "\t<li>'num_prev_thanks_90'</li>\n",
       "\t<li>'num_prev_thanks_pre_sample'</li>\n",
       "\t<li>'labor_hours_84_days_pre_sample'</li>\n",
       "\t<li>'has_email'</li>\n",
       "\t<li>'user_completed'</li>\n",
       "\t<li>'user_included'</li>\n",
       "\t<li>'anonymized_id'</li>\n",
       "\t<li>'newcomer'</li>\n",
       "\t<li>'lang_prev_experience'</li>\n",
       "\t<li>'randomization_block_id'</li>\n",
       "\t<li>'randomization_block_size'</li>\n",
       "\t<li>'randomization_arm'</li>\n",
       "\t<li>'count.var'</li>\n",
       "\t<li>'initial.block.id'</li>\n",
       "</ol>\n"
      ],
      "text/latex": [
       "\\begin{enumerate*}\n",
       "\\item 'id'\n",
       "\\item 'created\\_at'\n",
       "\\item 'lang'\n",
       "\\item 'user\\_id'\n",
       "\\item 'user\\_name'\n",
       "\\item 'user\\_registration'\n",
       "\\item 'user\\_editcount'\n",
       "\\item 'user\\_editcount\\_quality'\n",
       "\\item 'prev\\_experience'\n",
       "\\item 'thanks\\_sent'\n",
       "\\item 'num\\_prev\\_thanks'\n",
       "\\item 'num\\_prev\\_thanks\\_90'\n",
       "\\item 'num\\_prev\\_thanks\\_pre\\_sample'\n",
       "\\item 'labor\\_hours\\_84\\_days\\_pre\\_sample'\n",
       "\\item 'has\\_email'\n",
       "\\item 'user\\_completed'\n",
       "\\item 'user\\_included'\n",
       "\\item 'anonymized\\_id'\n",
       "\\item 'newcomer'\n",
       "\\item 'lang\\_prev\\_experience'\n",
       "\\item 'randomization\\_block\\_id'\n",
       "\\item 'randomization\\_block\\_size'\n",
       "\\item 'randomization\\_arm'\n",
       "\\item 'count.var'\n",
       "\\item 'initial.block.id'\n",
       "\\end{enumerate*}\n"
      ],
      "text/markdown": [
       "1. 'id'\n",
       "2. 'created_at'\n",
       "3. 'lang'\n",
       "4. 'user_id'\n",
       "5. 'user_name'\n",
       "6. 'user_registration'\n",
       "7. 'user_editcount'\n",
       "8. 'user_editcount_quality'\n",
       "9. 'prev_experience'\n",
       "10. 'thanks_sent'\n",
       "11. 'num_prev_thanks'\n",
       "12. 'num_prev_thanks_90'\n",
       "13. 'num_prev_thanks_pre_sample'\n",
       "14. 'labor_hours_84_days_pre_sample'\n",
       "15. 'has_email'\n",
       "16. 'user_completed'\n",
       "17. 'user_included'\n",
       "18. 'anonymized_id'\n",
       "19. 'newcomer'\n",
       "20. 'lang_prev_experience'\n",
       "21. 'randomization_block_id'\n",
       "22. 'randomization_block_size'\n",
       "23. 'randomization_arm'\n",
       "24. 'count.var'\n",
       "25. 'initial.block.id'\n",
       "\n",
       "\n"
      ],
      "text/plain": [
       " [1] \"id\"                             \"created_at\"                    \n",
       " [3] \"lang\"                           \"user_id\"                       \n",
       " [5] \"user_name\"                      \"user_registration\"             \n",
       " [7] \"user_editcount\"                 \"user_editcount_quality\"        \n",
       " [9] \"prev_experience\"                \"thanks_sent\"                   \n",
       "[11] \"num_prev_thanks\"                \"num_prev_thanks_90\"            \n",
       "[13] \"num_prev_thanks_pre_sample\"     \"labor_hours_84_days_pre_sample\"\n",
       "[15] \"has_email\"                      \"user_completed\"                \n",
       "[17] \"user_included\"                  \"anonymized_id\"                 \n",
       "[19] \"newcomer\"                       \"lang_prev_experience\"          \n",
       "[21] \"randomization_block_id\"         \"randomization_block_size\"      \n",
       "[23] \"randomization_arm\"              \"count.var\"                     \n",
       "[25] \"initial.block.id\"              "
      ]
     },
     "metadata": {},
     "output_type": "display_data"
    }
   ],
   "source": [
    "colnames(recipient.df.final.included)"
   ]
  },
  {
   "cell_type": "code",
   "execution_count": null,
   "metadata": {},
   "outputs": [],
   "source": []
  }
 ],
 "metadata": {
  "kernelspec": {
   "display_name": "R",
   "language": "R",
   "name": "ir"
  },
  "language_info": {
   "codemirror_mode": "r",
   "file_extension": ".r",
   "mimetype": "text/x-r-source",
   "name": "R",
   "pygments_lexer": "r",
   "version": "3.5.1"
  }
 },
 "nbformat": 4,
 "nbformat_minor": 2
}
