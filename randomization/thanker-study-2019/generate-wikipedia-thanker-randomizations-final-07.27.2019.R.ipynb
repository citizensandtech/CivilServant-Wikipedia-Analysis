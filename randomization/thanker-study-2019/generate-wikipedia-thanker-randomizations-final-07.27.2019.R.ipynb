{
 "cells": [
  {
   "cell_type": "markdown",
   "metadata": {},
   "source": [
    "# Wikipedia Thanker Study Randomization \n",
    "[J. Nathan Matias](https://twitter.com/natematias)\n",
    "April 29, 2019\n",
    "\n",
    "This code takes as input data described in the [randomization data format](https://docs.google.com/document/d/1plhoDbQryYQ32vZMXu8YmlLSp30QTdup43k6uTePOT4/edit?usp=drive_web&ouid=117701977297551627494) and produces randomizations for the Thanker study."
   ]
  },
  {
   "cell_type": "code",
   "execution_count": 2,
   "metadata": {},
   "outputs": [
    {
     "data": {
      "text/plain": [
       "R version 3.5.1 (2018-07-02)\n",
       "Platform: x86_64-pc-linux-gnu (64-bit)\n",
       "Running under: Ubuntu 16.04.5 LTS\n",
       "\n",
       "Matrix products: default\n",
       "BLAS: /usr/lib/libblas/libblas.so.3.6.0\n",
       "LAPACK: /usr/lib/lapack/liblapack.so.3.6.0\n",
       "\n",
       "locale:\n",
       " [1] LC_CTYPE=en_US.UTF-8       LC_NUMERIC=C              \n",
       " [3] LC_TIME=en_US.UTF-8        LC_COLLATE=en_US.UTF-8    \n",
       " [5] LC_MONETARY=en_US.UTF-8    LC_MESSAGES=en_US.UTF-8   \n",
       " [7] LC_PAPER=en_US.UTF-8       LC_NAME=C                 \n",
       " [9] LC_ADDRESS=C               LC_TELEPHONE=C            \n",
       "[11] LC_MEASUREMENT=en_US.UTF-8 LC_IDENTIFICATION=C       \n",
       "\n",
       "attached base packages:\n",
       "[1] stats     graphics  grDevices utils     datasets  methods   base     \n",
       "\n",
       "other attached packages:\n",
       " [1] DeclareDesign_0.12.0 estimatr_0.14        fabricatr_0.6.0     \n",
       " [4] randomizr_0.16.1     corrplot_0.84        blockrand_1.3       \n",
       " [7] blockTools_0.6-3     viridis_0.5.1        viridisLite_0.3.0   \n",
       "[10] forcats_0.3.0        stringr_1.3.1        dplyr_0.7.8         \n",
       "[13] purrr_0.2.5          readr_1.2.1          tidyr_0.8.2         \n",
       "[16] tibble_1.4.2         tidyverse_1.2.1      rlang_0.3.0.1       \n",
       "[19] ggplot2_3.1.0       \n",
       "\n",
       "loaded via a namespace (and not attached):\n",
       " [1] pbdZMQ_0.3-3     tidyselect_0.2.5 repr_0.18        haven_2.0.0     \n",
       " [5] lattice_0.20-38  colorspace_1.3-2 generics_0.0.2   htmltools_0.3.6 \n",
       " [9] base64enc_0.1-3  pillar_1.3.0     glue_1.3.0       withr_2.1.2     \n",
       "[13] modelr_0.1.2     readxl_1.1.0     bindrcpp_0.2.2   uuid_0.1-2      \n",
       "[17] bindr_0.1.1      plyr_1.8.4       munsell_0.5.0    gtable_0.2.0    \n",
       "[21] cellranger_1.1.0 rvest_0.3.2      evaluate_0.12    broom_0.5.1     \n",
       "[25] IRdisplay_0.7.0  Rcpp_1.0.0       scales_1.0.0     backports_1.1.2 \n",
       "[29] IRkernel_0.8.14  jsonlite_1.6     gridExtra_2.3    hms_0.4.2       \n",
       "[33] digest_0.6.18    stringi_1.2.4    grid_3.5.1       cli_1.0.1       \n",
       "[37] tools_3.5.1      magrittr_1.5     lazyeval_0.2.1   Formula_1.2-3   \n",
       "[41] crayon_1.3.4     pkgconfig_2.0.2  MASS_7.3-51.1    xml2_1.2.0      \n",
       "[45] lubridate_1.7.4  assertthat_0.2.0 httr_1.3.1       rstudioapi_0.8  \n",
       "[49] R6_2.3.0         nlme_3.1-137     compiler_3.5.1  "
      ]
     },
     "metadata": {},
     "output_type": "display_data"
    }
   ],
   "source": [
    "options(\"scipen\"=9, \"digits\"=4)\n",
    "library(ggplot2)\n",
    "library(rlang)\n",
    "library(tidyverse)\n",
    "library(viridis)\n",
    "library(blockTools)\n",
    "library(blockrand)\n",
    "library(corrplot)\n",
    "library(DeclareDesign)\n",
    "options(repr.plot.width=7, repr.plot.height=3.5)\n",
    "sessionInfo()"
   ]
  },
  {
   "cell_type": "markdown",
   "metadata": {},
   "source": [
    "# Load Input Dataframe"
   ]
  },
  {
   "cell_type": "code",
   "execution_count": 3,
   "metadata": {},
   "outputs": [
    {
     "name": "stderr",
     "output_type": "stream",
     "text": [
      "Warning message in `[<-.factor`(`*tmp*`, ri, value = c(169, 213, 134, 103, 97, 323, :\n",
      "“invalid factor level, NA generated”Warning message in `[<-.factor`(`*tmp*`, ri, value = c(70, 81, 107, 410, 115, 115, :\n",
      "“invalid factor level, NA generated”Warning message in `[<-.factor`(`*tmp*`, ri, value = c(301, 120, 149, 191, 80, 150, :\n",
      "“invalid factor level, NA generated”"
     ]
    }
   ],
   "source": [
    "data.path <- \"~/Tresors/CivilServant/projects/wikipedia-integration/gratitude-study/Data Drills/thanker_hardlaunch/\"\n",
    "filename = paste(\"fa\", \"-merged-20190729.csv\", sep=\"\")\n",
    "initial.thanker.df <- read.csv(file.path(data.path, \"historical_survey_merged\", filename))\n",
    "initial.thanker.df$google_doc <- NULL\n",
    "initial.thanker.df$Qualtrics <- NULL\n",
    "initial.thanker.df$Google_form <- NULL\n",
    "\n",
    "languages = c(\"de\", \"pl\", \"ar\")\n",
    "files = list()\n",
    "for(lang in languages){\n",
    "    filename = paste(lang, \"-merged-20190729.csv\", sep=\"\")\n",
    "#    print(filename)\n",
    "    t.df <- read.csv(file.path(data.path, \"historical_survey_merged\", filename))\n",
    "    initial.thanker.df <- rbind(initial.thanker.df, t.df)\n",
    "}"
   ]
  },
  {
   "cell_type": "code",
   "execution_count": 4,
   "metadata": {},
   "outputs": [
    {
     "data": {
      "text/html": [
       "447"
      ],
      "text/latex": [
       "447"
      ],
      "text/markdown": [
       "447"
      ],
      "text/plain": [
       "[1] 447"
      ]
     },
     "metadata": {},
     "output_type": "display_data"
    }
   ],
   "source": [
    "nrow(initial.thanker.df)"
   ]
  },
  {
   "cell_type": "markdown",
   "metadata": {},
   "source": [
    "### Set up Account Age Variable"
   ]
  },
  {
   "cell_type": "code",
   "execution_count": 5,
   "metadata": {},
   "outputs": [],
   "source": [
    "initial.thanker.df$user_created <- as.Date(substring(initial.thanker.df$user_registration,1,10))\n",
    "\n",
    "initial.thanker.df$account.age <- round(as.integer(max(initial.thanker.df$user_created) - initial.thanker.df$user_created) / 365)"
   ]
  },
  {
   "cell_type": "code",
   "execution_count": 6,
   "metadata": {},
   "outputs": [
    {
     "data": {
      "image/png": "[encoded data removed]",
      "text/plain": [
       "Plot with title “Histogram of initial.thanker.df$account.age”"
      ]
     },
     "metadata": {},
     "output_type": "display_data"
    }
   ],
   "source": [
    "hist(initial.thanker.df$account.age)"
   ]
  },
  {
   "cell_type": "markdown",
   "metadata": {},
   "source": [
    "# Load List of Eligible Thankers\n",
    "\n",
    "This list is generated by the jupyter notebook script `\"Calculate Per-Language Counts of Thankers and Superthankers and Generate List of Thankers.py\"`"
   ]
  },
  {
   "cell_type": "code",
   "execution_count": 7,
   "metadata": {},
   "outputs": [],
   "source": [
    "all.thankers.df <- read.csv(file.path(data.path,\"thanker_email_recruitment/thanker_recruitment_emails-07.29.2019.csv\"))"
   ]
  },
  {
   "cell_type": "code",
   "execution_count": 8,
   "metadata": {},
   "outputs": [
    {
     "name": "stdout",
     "output_type": "stream",
     "text": [
      "[1] \"438 total eligible thankers\"\n",
      "[1] \"447 thankers in the full dataset\"\n",
      "[1] \"438 thankers in full dataset, constrained by eligible thankers\"\n"
     ]
    }
   ],
   "source": [
    "print(paste(nrow(all.thankers.df), \"total eligible thankers\"))\n",
    "print(paste(nrow(initial.thanker.df), \"thankers in the full dataset\"))\n",
    "\n",
    "\n",
    "print(paste(nrow(subset(\n",
    "                initial.thanker.df, anonymized_id %in% all.thankers.df$anon_id\n",
    "            )), \"thankers in full dataset, constrained by eligible thankers\"))"
   ]
  },
  {
   "cell_type": "markdown",
   "metadata": {},
   "source": [
    "# Include Only Eligible Thankers in the Randomizations"
   ]
  },
  {
   "cell_type": "code",
   "execution_count": 9,
   "metadata": {},
   "outputs": [
    {
     "data": {
      "text/html": [
       "438"
      ],
      "text/latex": [
       "438"
      ],
      "text/markdown": [
       "438"
      ],
      "text/plain": [
       "[1] 438"
      ]
     },
     "metadata": {},
     "output_type": "display_data"
    }
   ],
   "source": [
    "thanker.df <- subset(initial.thanker.df, anonymized_id %in% all.thankers.df$anon_id)\n",
    "nrow(thanker.df)"
   ]
  },
  {
   "cell_type": "markdown",
   "metadata": {},
   "source": [
    "### Create Supportive Variable"
   ]
  },
  {
   "cell_type": "code",
   "execution_count": 10,
   "metadata": {},
   "outputs": [
    {
     "name": "stdout",
     "output_type": "stream",
     "text": [
      "[1] \"Checking the presence of bots\"\n"
     ]
    },
    {
     "data": {
      "text/html": [
       "<strong>False:</strong> 438"
      ],
      "text/latex": [
       "\\textbf{False:} 438"
      ],
      "text/markdown": [
       "**False:** 438"
      ],
      "text/plain": [
       "False \n",
       "  438 "
      ]
     },
     "metadata": {},
     "output_type": "display_data"
    },
    {
     "data": {
      "text/plain": [
       "   Mode   FALSE \n",
       "logical     438 "
      ]
     },
     "metadata": {},
     "output_type": "display_data"
    }
   ],
   "source": [
    "thanker.df$supportive_84_pre_treatment <- rowSums(thanker.df[,\n",
    "                                                  c(\"support_talk_84_pre_treatment\",\n",
    "                                                    \"wikithank_84_pre_treatment\",\n",
    "                                                    \"project_talk_84_pre_treatment\")], na.rm=TRUE)\n",
    "print(\"Checking the presence of bots\")\n",
    "summary(thanker.df$is_official_bot)\n",
    "thanker.df$is_official_bot <- as.integer(thanker.df$is_official_bot) == \"True\"\n",
    "summary(thanker.df$is_official_bot)"
   ]
  },
  {
   "cell_type": "code",
   "execution_count": 11,
   "metadata": {},
   "outputs": [
    {
     "name": "stderr",
     "output_type": "stream",
     "text": [
      "`stat_bin()` using `bins = 30`. Pick better value with `binwidth`.\n"
     ]
    },
    {
     "data": {},
     "metadata": {},
     "output_type": "display_data"
    },
    {
     "data": {
      "image/png": "[encoded data removed]",
      "text/plain": [
       "plot without title"
      ]
     },
     "metadata": {},
     "output_type": "display_data"
    }
   ],
   "source": [
    "ggplot(thanker.df, aes(supportive_84_pre_treatment)) +\n",
    "    geom_histogram() +\n",
    "    facet_grid(. ~ lang ) +\n",
    "    ggtitle(\"Supportive Actions 84 days Before Treatment\")"
   ]
  },
  {
   "cell_type": "markdown",
   "metadata": {},
   "source": [
    "### Self-Reported Positive Feelings about Wikipedia"
   ]
  },
  {
   "cell_type": "code",
   "execution_count": 12,
   "metadata": {},
   "outputs": [
    {
     "data": {},
     "metadata": {},
     "output_type": "display_data"
    },
    {
     "data": {
      "image/png": "[encoded data removed]",
      "text/plain": [
       "plot without title"
      ]
     },
     "metadata": {},
     "output_type": "display_data"
    }
   ],
   "source": [
    "ggplot(thanker.df, aes(pre_feel_positive)) +\n",
    "    geom_histogram(bins=5) +\n",
    "    facet_grid(. ~ lang ) +\n",
    "    ggtitle(\"Self Reported Positive Feelings about Contributions to Wikipedia\")"
   ]
  },
  {
   "cell_type": "markdown",
   "metadata": {},
   "source": [
    "# Trim Randomizations"
   ]
  },
  {
   "cell_type": "markdown",
   "metadata": {},
   "source": [
    "### Remove Arabic Participants For Inclusion Later"
   ]
  },
  {
   "cell_type": "code",
   "execution_count": 14,
   "metadata": {},
   "outputs": [
    {
     "name": "stdout",
     "output_type": "stream",
     "text": [
      "[1] \"438 accounts in the thanker df\"\n",
      "[1] \"   27 accounts removed\"\n",
      "[1] \"   411 accounts in the thanker df after removing AR accounts\"\n"
     ]
    }
   ],
   "source": [
    "print(paste(nrow(thanker.df), \"accounts in the thanker df\"))\n",
    "thanker.df.not.randomized <- subset(thanker.df, lang==\"ar\")\n",
    "print(paste(\"  \", nrow(thanker.df.not.randomized), \"accounts removed\"))\n",
    "thanker.df <- subset(thanker.df, lang!=\"ar\")\n",
    "print(paste(\"  \", nrow(thanker.df), \"accounts in the thanker df after removing AR accounts\"))"
   ]
  },
  {
   "cell_type": "markdown",
   "metadata": {},
   "source": [
    "### Remove bots and subset values outside the 99% confidence intervals\n",
    "\n",
    "Decision July 27, 2019: JNM decided not to remove outliers, since it would have too much of an impact on  "
   ]
  },
  {
   "cell_type": "code",
   "execution_count": 15,
   "metadata": {},
   "outputs": [
    {
     "name": "stdout",
     "output_type": "stream",
     "text": [
      "[1] \"Removing 0 officially registered bots\"\n"
     ]
    },
    {
     "name": "stderr",
     "output_type": "stream",
     "text": [
      "Warning message in mean.default(thanker.df$protective_84_pre_treatment):\n",
      "“argument is not numeric or logical: returning NA”"
     ]
    },
    {
     "name": "stdout",
     "output_type": "stream",
     "text": [
      "[1] \"Removing 10 observations from the study and directing them to experience the treatment condition because their value for supportive_84_pre_treatment is above the 99% confidence interval.\"\n",
      "[1] \"Accounts Removed from Assignment per language:\"\n"
     ]
    },
    {
     "data": {
      "text/html": [
       "<dl class=dl-horizontal>\n",
       "\t<dt>fa</dt>\n",
       "\t\t<dd>0</dd>\n",
       "\t<dt>de</dt>\n",
       "\t\t<dd>8</dd>\n",
       "\t<dt>pl</dt>\n",
       "\t\t<dd>2</dd>\n",
       "\t<dt>ar</dt>\n",
       "\t\t<dd>27</dd>\n",
       "</dl>\n"
      ],
      "text/latex": [
       "\\begin{description*}\n",
       "\\item[fa] 0\n",
       "\\item[de] 8\n",
       "\\item[pl] 2\n",
       "\\item[ar] 27\n",
       "\\end{description*}\n"
      ],
      "text/markdown": [
       "fa\n",
       ":   0de\n",
       ":   8pl\n",
       ":   2ar\n",
       ":   27\n",
       "\n"
      ],
      "text/plain": [
       "fa de pl ar \n",
       " 0  8  2 27 "
      ]
     },
     "metadata": {},
     "output_type": "display_data"
    },
    {
     "name": "stdout",
     "output_type": "stream",
     "text": [
      "[1] \"401 total accounts included in randomizations\"\n"
     ]
    },
    {
     "data": {
      "text/html": [
       "<dl class=dl-horizontal>\n",
       "\t<dt>fa</dt>\n",
       "\t\t<dd>53</dd>\n",
       "\t<dt>de</dt>\n",
       "\t\t<dd>286</dd>\n",
       "\t<dt>pl</dt>\n",
       "\t\t<dd>62</dd>\n",
       "\t<dt>ar</dt>\n",
       "\t\t<dd>0</dd>\n",
       "</dl>\n"
      ],
      "text/latex": [
       "\\begin{description*}\n",
       "\\item[fa] 53\n",
       "\\item[de] 286\n",
       "\\item[pl] 62\n",
       "\\item[ar] 0\n",
       "\\end{description*}\n"
      ],
      "text/markdown": [
       "fa\n",
       ":   53de\n",
       ":   286pl\n",
       ":   62ar\n",
       ":   0\n",
       "\n"
      ],
      "text/plain": [
       " fa  de  pl  ar \n",
       " 53 286  62   0 "
      ]
     },
     "metadata": {},
     "output_type": "display_data"
    },
    {
     "name": "stdout",
     "output_type": "stream",
     "text": [
      "[1] \"^ In Persian and German, where there are odd numbers of participants, the matching algorithm will identify which observation matches least well, and we will remove that participant from the study and ensure they receive the treatment.\"\n"
     ]
    }
   ],
   "source": [
    "print(paste(\"Removing\", nrow(subset(thanker.df, is_official_bot==TRUE)), \"officially registered bots\"))\n",
    "thanker.df.final <- subset(thanker.df, is_official_bot != TRUE)\n",
    "\n",
    "## CALCULATE MEANS AND SDs before making any removals\n",
    "df.support.mean <- mean(thanker.df$supportive_84_pre_treatment)\n",
    "df.support.sd   <- sd(thanker.df$supportive_84_pre_treatment)\n",
    "df.protect.mean <- mean(thanker.df$protective_84_pre_treatment)\n",
    "df.protect.sd   <- sd(thanker.df$protective_84_pre_treatment)\n",
    "\n",
    "\n",
    "print(paste(\"Removing\", \n",
    "            nrow(subset(thanker.df, \n",
    "                        supportive_84_pre_treatment > df.support.mean + 2.58* df.support.sd)),\n",
    "           \"observations from the study and directing them to experience the treatment condition because their value for supportive_84_pre_treatment is above the 99% confidence interval.\"))\n",
    "\n",
    "thanker.df.not.randomized <- rbind(thanker.df.not.randomized, \n",
    "                                   subset(thanker.df.final, supportive_84_pre_treatment > df.support.mean + 2.58* df.support.sd))\n",
    "print(\"Accounts Removed from Assignment per language:\")\n",
    "summary(thanker.df.not.randomized$lang)\n",
    "\n",
    "thanker.df.final <- subset(thanker.df.final, supportive_84_pre_treatment <= df.support.mean + 2.58* df.support.sd)\n",
    "\n",
    "print(paste(nrow(thanker.df.final), \"total accounts included in randomizations\"))\n",
    "summary(thanker.df.final$lang)\n",
    "\n",
    "print(\"^ In Persian and German, where there are odd numbers of participants, the matching algorithm will identify which observation matches least well, and we will remove that participant from the study and ensure they receive the treatment.\")"
   ]
  },
  {
   "cell_type": "markdown",
   "metadata": {},
   "source": [
    "# Generate Randomization Blocks"
   ]
  },
  {
   "cell_type": "code",
   "execution_count": 17,
   "metadata": {
    "scrolled": false
   },
   "outputs": [],
   "source": [
    "## BLOCKING VARIABLES\n",
    "bv = c(\"supportive_84_pre_treatment\",\"account.age\", \"pre_feel_positive\")\n",
    "\n",
    "block.size = 2\n",
    "\n",
    "## TODO: CHECK TO SEE IF I CAN DO BALANCED RANDOMIZATION\n",
    "## WITHIN BLOCKS LARGER THAN 2\n",
    "blockobj = block(data=thanker.df.final,\n",
    "            n.tr = block.size,\n",
    "            groups = \"lang\",\n",
    "            id.vars=\"anonymized_id\",\n",
    "            block.vars = bv,\n",
    "            distance =\"mahalanobis\"\n",
    "            )\n",
    "## CHECK DISTANCES\n",
    "#print(blockobj)\n",
    "thanker.df.final$randomization_block_id <- createBlockIDs(blockobj,\n",
    "                                   data=thanker.df.final,\n",
    "                                   id.var = \"anonymized_id\")\n",
    "thanker.df.final$randomization_block_size = block.size"
   ]
  },
  {
   "cell_type": "markdown",
   "metadata": {},
   "source": [
    "### Identify Blocks with fewer than two participants and add them to thanker.df.not.randomized"
   ]
  },
  {
   "cell_type": "code",
   "execution_count": 18,
   "metadata": {},
   "outputs": [
    {
     "name": "stdout",
     "output_type": "stream",
     "text": [
      "[1] \"37 thankers not randomized before the addition of unmatched observations\"\n",
      "[1] \"400 thankers randomized\"\n",
      "[1] \"38 thankers not randomized\"\n"
     ]
    }
   ],
   "source": [
    "block.sizes <- aggregate(thanker.df.final$randomization_block_id, FUN=length, by=list(thanker.df.final$randomization_block_id))\n",
    "incomplete.blocks <- subset(block.sizes, x == 1)$Group.1\n",
    "\n",
    "print(paste(nrow(thanker.df.not.randomized), \"thankers not randomized before the addition of unmatched observations\"))\n",
    "\n",
    "thanker.df.not.randomized <- rbind(thanker.df.not.randomized, subset(thanker.df.final, randomization_block_id %in% incomplete.blocks)[colnames(thanker.df.not.randomized)])\n",
    "thanker.df.randomized <- subset(thanker.df.final, (randomization_block_id %in% incomplete.blocks)!=TRUE)\n",
    "\n",
    "print(paste(nrow(thanker.df.randomized), \"thankers randomized\"))\n",
    "print(paste(nrow(thanker.df.not.randomized), \"thankers not randomized\"))"
   ]
  },
  {
   "cell_type": "markdown",
   "metadata": {},
   "source": [
    "# Generate Randomizations"
   ]
  },
  {
   "cell_type": "code",
   "execution_count": 19,
   "metadata": {},
   "outputs": [],
   "source": [
    "## Seed generated by Brooklyn Integers\n",
    "# https://www.brooklynintegers.com/int/1394221459/\n",
    "set.seed(1394221459)"
   ]
  },
  {
   "cell_type": "code",
   "execution_count": 20,
   "metadata": {},
   "outputs": [],
   "source": [
    "assignments <- block_ra(blocks=thanker.df.randomized$randomization_block_id, \n",
    "                        prob=0.5)\n",
    "thanker.df.randomized$randomization_arm <- assignments "
   ]
  },
  {
   "cell_type": "markdown",
   "metadata": {},
   "source": [
    "### Check Balance"
   ]
  },
  {
   "cell_type": "code",
   "execution_count": 21,
   "metadata": {},
   "outputs": [
    {
     "data": {
      "text/html": [
       "<table>\n",
       "<thead><tr><th scope=col>Group.1</th><th scope=col>x</th></tr></thead>\n",
       "<tbody>\n",
       "\t<tr><td>fa </td><td>0.5</td></tr>\n",
       "\t<tr><td>de </td><td>0.5</td></tr>\n",
       "\t<tr><td>pl </td><td>0.5</td></tr>\n",
       "</tbody>\n",
       "</table>\n"
      ],
      "text/latex": [
       "\\begin{tabular}{r|ll}\n",
       " Group.1 & x\\\\\n",
       "\\hline\n",
       "\t fa  & 0.5\\\\\n",
       "\t de  & 0.5\\\\\n",
       "\t pl  & 0.5\\\\\n",
       "\\end{tabular}\n"
      ],
      "text/markdown": [
       "\n",
       "Group.1 | x | \n",
       "|---|---|---|\n",
       "| fa  | 0.5 | \n",
       "| de  | 0.5 | \n",
       "| pl  | 0.5 | \n",
       "\n",
       "\n"
      ],
      "text/plain": [
       "  Group.1 x  \n",
       "1 fa      0.5\n",
       "2 de      0.5\n",
       "3 pl      0.5"
      ]
     },
     "metadata": {},
     "output_type": "display_data"
    }
   ],
   "source": [
    "aggregate(thanker.df.randomized$randomization_arm, FUN=mean, by=list(thanker.df.randomized$lang))"
   ]
  },
  {
   "cell_type": "code",
   "execution_count": 22,
   "metadata": {},
   "outputs": [],
   "source": [
    "# add 'randomization_block_id' \n",
    "#     'randomization_block_size' \n",
    "#     'randomization_arm'\n",
    "thanker.df.not.randomized$randomization_block_id <- -1\n",
    "thanker.df.not.randomized$randomization_block_size <- -1\n",
    "thanker.df.not.randomized$randomization_arm <- 1"
   ]
  },
  {
   "cell_type": "markdown",
   "metadata": {},
   "source": [
    "# Output and Archive Randomizations"
   ]
  },
  {
   "cell_type": "code",
   "execution_count": 23,
   "metadata": {},
   "outputs": [],
   "source": [
    "write.csv(rbind(thanker.df.not.randomized, thanker.df.randomized), \n",
    "          file.path(data.path, \"randomization_output\", \n",
    "                    \"all-thanker-randomization-final-20190729.csv\"))"
   ]
  },
  {
   "cell_type": "markdown",
   "metadata": {},
   "source": [
    "### Load and analyzing randomization file"
   ]
  },
  {
   "cell_type": "code",
   "execution_count": 24,
   "metadata": {},
   "outputs": [],
   "source": [
    "randomization.data.df <- read.csv(file.path(data.path, \"randomization_output\", \n",
    "                    \"all-thanker-randomization-final-20190729.csv\"))"
   ]
  },
  {
   "cell_type": "code",
   "execution_count": 25,
   "metadata": {},
   "outputs": [
    {
     "name": "stdout",
     "output_type": "stream",
     "text": [
      "[1] \"438 total participants\"\n",
      "[1] \"400 randomized participants in file, corresponding to 400 participants expected to be randomized\"\n"
     ]
    }
   ],
   "source": [
    "print(paste(nrow(randomization.data.df), \"total participants\"))\n",
    "print(paste(nrow(subset(randomization.data.df, randomization_block_id >0 )), \"randomized participants in file, corresponding to\",\n",
    "            nrow(thanker.df.randomized), \"participants expected to be randomized\"))"
   ]
  },
  {
   "cell_type": "code",
   "execution_count": 26,
   "metadata": {},
   "outputs": [
    {
     "data": {
      "image/png": "[encoded data removed]",
      "text/plain": [
       "Plot with title “Histogram of thanker.df.randomized$supportive_84_pre_treatment”"
      ]
     },
     "metadata": {},
     "output_type": "display_data"
    },
    {
     "data": {
      "image/png": "[encoded data removed]",
      "text/plain": [
       "Plot with title “Histogram of thanker.df.randomized$pre_feel_positive”"
      ]
     },
     "metadata": {},
     "output_type": "display_data"
    },
    {
     "data": {
      "image/png": "[encoded data removed]",
      "text/plain": [
       "Plot with title “Histogram of thanker.df.randomized$account.age”"
      ]
     },
     "metadata": {},
     "output_type": "display_data"
    }
   ],
   "source": [
    "hist(thanker.df.randomized$supportive_84_pre_treatment)\n",
    "hist(thanker.df.randomized$pre_feel_positive)\n",
    "hist(thanker.df.randomized$account.age)"
   ]
  },
  {
   "cell_type": "code",
   "execution_count": 27,
   "metadata": {},
   "outputs": [
    {
     "data": {
      "text/html": [
       "<ol class=list-inline>\n",
       "\t<li>'X'</li>\n",
       "\t<li>'StartDate'</li>\n",
       "\t<li>'EndDate'</li>\n",
       "\t<li>'Status'</li>\n",
       "\t<li>'Progress'</li>\n",
       "\t<li>'Duration..in.seconds.'</li>\n",
       "\t<li>'Finished'</li>\n",
       "\t<li>'RecordedDate'</li>\n",
       "\t<li>'DistributionChannel'</li>\n",
       "\t<li>'UserLanguage'</li>\n",
       "\t<li>'user_name'</li>\n",
       "\t<li>'anonymized_id'</li>\n",
       "\t<li>'lang'</li>\n",
       "\t<li>'user_id'</li>\n",
       "\t<li>'user_id_basic_data'</li>\n",
       "\t<li>'user_registration'</li>\n",
       "\t<li>'user_editcount'</li>\n",
       "\t<li>'user_experience_level'</li>\n",
       "\t<li>'labor_hours_84_pre_treatment'</li>\n",
       "\t<li>'total_edits_84_pre_treatment'</li>\n",
       "\t<li>'num_reverts_84_pre_treatment'</li>\n",
       "\t<li>'project_talk_84_pre_treatment'</li>\n",
       "\t<li>'support_talk_84_pre_treatment'</li>\n",
       "\t<li>'is_official_bot'</li>\n",
       "\t<li>'wikithank_84_pre_treatment'</li>\n",
       "\t<li>'wikilove_84_pre_treatment'</li>\n",
       "\t<li>'block_actions_84_pre_treatment'</li>\n",
       "\t<li>'has_email'</li>\n",
       "\t<li>'StartDate__survey'</li>\n",
       "\t<li>'EndDate__survey'</li>\n",
       "\t<li>'Status__survey'</li>\n",
       "\t<li>'Progress__survey'</li>\n",
       "\t<li>'Duration..in.seconds.__survey'</li>\n",
       "\t<li>'Finished__survey'</li>\n",
       "\t<li>'RecordedDate__survey'</li>\n",
       "\t<li>'ResponseId__survey'</li>\n",
       "\t<li>'DistributionChannel__survey'</li>\n",
       "\t<li>'UserLanguage__survey'</li>\n",
       "\t<li>'overall_exp'</li>\n",
       "\t<li>'activities_1'</li>\n",
       "\t<li>'activities_2'</li>\n",
       "\t<li>'pre_monitoring_damaging_content'</li>\n",
       "\t<li>'pre_mentoring'</li>\n",
       "\t<li>'activities_5'</li>\n",
       "\t<li>'pre_newcomer_capability'</li>\n",
       "\t<li>'trust_2'</li>\n",
       "\t<li>'pre_newcomer_intent'</li>\n",
       "\t<li>'trust_4'</li>\n",
       "\t<li>'pre_emotionally_draining'</li>\n",
       "\t<li>'pre_feel_positive'</li>\n",
       "\t<li>'lang__survey'</li>\n",
       "\t<li>'user_created'</li>\n",
       "\t<li>'account.age'</li>\n",
       "\t<li>'supportive_84_pre_treatment'</li>\n",
       "\t<li>'randomization_block_id'</li>\n",
       "\t<li>'randomization_block_size'</li>\n",
       "\t<li>'randomization_arm'</li>\n",
       "</ol>\n"
      ],
      "text/latex": [
       "\\begin{enumerate*}\n",
       "\\item 'X'\n",
       "\\item 'StartDate'\n",
       "\\item 'EndDate'\n",
       "\\item 'Status'\n",
       "\\item 'Progress'\n",
       "\\item 'Duration..in.seconds.'\n",
       "\\item 'Finished'\n",
       "\\item 'RecordedDate'\n",
       "\\item 'DistributionChannel'\n",
       "\\item 'UserLanguage'\n",
       "\\item 'user\\_name'\n",
       "\\item 'anonymized\\_id'\n",
       "\\item 'lang'\n",
       "\\item 'user\\_id'\n",
       "\\item 'user\\_id\\_basic\\_data'\n",
       "\\item 'user\\_registration'\n",
       "\\item 'user\\_editcount'\n",
       "\\item 'user\\_experience\\_level'\n",
       "\\item 'labor\\_hours\\_84\\_pre\\_treatment'\n",
       "\\item 'total\\_edits\\_84\\_pre\\_treatment'\n",
       "\\item 'num\\_reverts\\_84\\_pre\\_treatment'\n",
       "\\item 'project\\_talk\\_84\\_pre\\_treatment'\n",
       "\\item 'support\\_talk\\_84\\_pre\\_treatment'\n",
       "\\item 'is\\_official\\_bot'\n",
       "\\item 'wikithank\\_84\\_pre\\_treatment'\n",
       "\\item 'wikilove\\_84\\_pre\\_treatment'\n",
       "\\item 'block\\_actions\\_84\\_pre\\_treatment'\n",
       "\\item 'has\\_email'\n",
       "\\item 'StartDate\\_\\_survey'\n",
       "\\item 'EndDate\\_\\_survey'\n",
       "\\item 'Status\\_\\_survey'\n",
       "\\item 'Progress\\_\\_survey'\n",
       "\\item 'Duration..in.seconds.\\_\\_survey'\n",
       "\\item 'Finished\\_\\_survey'\n",
       "\\item 'RecordedDate\\_\\_survey'\n",
       "\\item 'ResponseId\\_\\_survey'\n",
       "\\item 'DistributionChannel\\_\\_survey'\n",
       "\\item 'UserLanguage\\_\\_survey'\n",
       "\\item 'overall\\_exp'\n",
       "\\item 'activities\\_1'\n",
       "\\item 'activities\\_2'\n",
       "\\item 'pre\\_monitoring\\_damaging\\_content'\n",
       "\\item 'pre\\_mentoring'\n",
       "\\item 'activities\\_5'\n",
       "\\item 'pre\\_newcomer\\_capability'\n",
       "\\item 'trust\\_2'\n",
       "\\item 'pre\\_newcomer\\_intent'\n",
       "\\item 'trust\\_4'\n",
       "\\item 'pre\\_emotionally\\_draining'\n",
       "\\item 'pre\\_feel\\_positive'\n",
       "\\item 'lang\\_\\_survey'\n",
       "\\item 'user\\_created'\n",
       "\\item 'account.age'\n",
       "\\item 'supportive\\_84\\_pre\\_treatment'\n",
       "\\item 'randomization\\_block\\_id'\n",
       "\\item 'randomization\\_block\\_size'\n",
       "\\item 'randomization\\_arm'\n",
       "\\end{enumerate*}\n"
      ],
      "text/markdown": [
       "1. 'X'\n",
       "2. 'StartDate'\n",
       "3. 'EndDate'\n",
       "4. 'Status'\n",
       "5. 'Progress'\n",
       "6. 'Duration..in.seconds.'\n",
       "7. 'Finished'\n",
       "8. 'RecordedDate'\n",
       "9. 'DistributionChannel'\n",
       "10. 'UserLanguage'\n",
       "11. 'user_name'\n",
       "12. 'anonymized_id'\n",
       "13. 'lang'\n",
       "14. 'user_id'\n",
       "15. 'user_id_basic_data'\n",
       "16. 'user_registration'\n",
       "17. 'user_editcount'\n",
       "18. 'user_experience_level'\n",
       "19. 'labor_hours_84_pre_treatment'\n",
       "20. 'total_edits_84_pre_treatment'\n",
       "21. 'num_reverts_84_pre_treatment'\n",
       "22. 'project_talk_84_pre_treatment'\n",
       "23. 'support_talk_84_pre_treatment'\n",
       "24. 'is_official_bot'\n",
       "25. 'wikithank_84_pre_treatment'\n",
       "26. 'wikilove_84_pre_treatment'\n",
       "27. 'block_actions_84_pre_treatment'\n",
       "28. 'has_email'\n",
       "29. 'StartDate__survey'\n",
       "30. 'EndDate__survey'\n",
       "31. 'Status__survey'\n",
       "32. 'Progress__survey'\n",
       "33. 'Duration..in.seconds.__survey'\n",
       "34. 'Finished__survey'\n",
       "35. 'RecordedDate__survey'\n",
       "36. 'ResponseId__survey'\n",
       "37. 'DistributionChannel__survey'\n",
       "38. 'UserLanguage__survey'\n",
       "39. 'overall_exp'\n",
       "40. 'activities_1'\n",
       "41. 'activities_2'\n",
       "42. 'pre_monitoring_damaging_content'\n",
       "43. 'pre_mentoring'\n",
       "44. 'activities_5'\n",
       "45. 'pre_newcomer_capability'\n",
       "46. 'trust_2'\n",
       "47. 'pre_newcomer_intent'\n",
       "48. 'trust_4'\n",
       "49. 'pre_emotionally_draining'\n",
       "50. 'pre_feel_positive'\n",
       "51. 'lang__survey'\n",
       "52. 'user_created'\n",
       "53. 'account.age'\n",
       "54. 'supportive_84_pre_treatment'\n",
       "55. 'randomization_block_id'\n",
       "56. 'randomization_block_size'\n",
       "57. 'randomization_arm'\n",
       "\n",
       "\n"
      ],
      "text/plain": [
       " [1] \"X\"                               \"StartDate\"                      \n",
       " [3] \"EndDate\"                         \"Status\"                         \n",
       " [5] \"Progress\"                        \"Duration..in.seconds.\"          \n",
       " [7] \"Finished\"                        \"RecordedDate\"                   \n",
       " [9] \"DistributionChannel\"             \"UserLanguage\"                   \n",
       "[11] \"user_name\"                       \"anonymized_id\"                  \n",
       "[13] \"lang\"                            \"user_id\"                        \n",
       "[15] \"user_id_basic_data\"              \"user_registration\"              \n",
       "[17] \"user_editcount\"                  \"user_experience_level\"          \n",
       "[19] \"labor_hours_84_pre_treatment\"    \"total_edits_84_pre_treatment\"   \n",
       "[21] \"num_reverts_84_pre_treatment\"    \"project_talk_84_pre_treatment\"  \n",
       "[23] \"support_talk_84_pre_treatment\"   \"is_official_bot\"                \n",
       "[25] \"wikithank_84_pre_treatment\"      \"wikilove_84_pre_treatment\"      \n",
       "[27] \"block_actions_84_pre_treatment\"  \"has_email\"                      \n",
       "[29] \"StartDate__survey\"               \"EndDate__survey\"                \n",
       "[31] \"Status__survey\"                  \"Progress__survey\"               \n",
       "[33] \"Duration..in.seconds.__survey\"   \"Finished__survey\"               \n",
       "[35] \"RecordedDate__survey\"            \"ResponseId__survey\"             \n",
       "[37] \"DistributionChannel__survey\"     \"UserLanguage__survey\"           \n",
       "[39] \"overall_exp\"                     \"activities_1\"                   \n",
       "[41] \"activities_2\"                    \"pre_monitoring_damaging_content\"\n",
       "[43] \"pre_mentoring\"                   \"activities_5\"                   \n",
       "[45] \"pre_newcomer_capability\"         \"trust_2\"                        \n",
       "[47] \"pre_newcomer_intent\"             \"trust_4\"                        \n",
       "[49] \"pre_emotionally_draining\"        \"pre_feel_positive\"              \n",
       "[51] \"lang__survey\"                    \"user_created\"                   \n",
       "[53] \"account.age\"                     \"supportive_84_pre_treatment\"    \n",
       "[55] \"randomization_block_id\"          \"randomization_block_size\"       \n",
       "[57] \"randomization_arm\"              "
      ]
     },
     "metadata": {},
     "output_type": "display_data"
    }
   ],
   "source": [
    "colnames(randomization.data.df)"
   ]
  },
  {
   "cell_type": "code",
   "execution_count": null,
   "metadata": {},
   "outputs": [],
   "source": []
  }
 ],
 "metadata": {
  "kernelspec": {
   "display_name": "R",
   "language": "R",
   "name": "ir"
  },
  "language_info": {
   "codemirror_mode": "r",
   "file_extension": ".r",
   "mimetype": "text/x-r-source",
   "name": "R",
   "pygments_lexer": "r",
   "version": "3.5.1"
  }
 },
 "nbformat": 4,
 "nbformat_minor": 2
}
