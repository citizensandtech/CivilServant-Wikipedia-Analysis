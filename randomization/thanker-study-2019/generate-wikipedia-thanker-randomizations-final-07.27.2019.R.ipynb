{
 "cells": [
  {
   "cell_type": "markdown",
   "metadata": {},
   "source": [
    "# Wikipedia Thanker Study Randomization \n",
    "[J. Nathan Matias](https://twitter.com/natematias)\n",
    "April 27, 2019\n",
    "\n",
    "This code takes as input data described in the [randomization data format](https://docs.google.com/document/d/1plhoDbQryYQ32vZMXu8YmlLSp30QTdup43k6uTePOT4/edit?usp=drive_web&ouid=117701977297551627494) and produces randomizations for the Thanker study."
   ]
  },
  {
   "cell_type": "code",
   "execution_count": 168,
   "metadata": {},
   "outputs": [
    {
     "data": {
      "text/plain": [
       "R version 3.5.1 (2018-07-02)\n",
       "Platform: x86_64-pc-linux-gnu (64-bit)\n",
       "Running under: Ubuntu 16.04.5 LTS\n",
       "\n",
       "Matrix products: default\n",
       "BLAS: /usr/lib/libblas/libblas.so.3.6.0\n",
       "LAPACK: /usr/lib/lapack/liblapack.so.3.6.0\n",
       "\n",
       "locale:\n",
       " [1] LC_CTYPE=en_US.UTF-8       LC_NUMERIC=C              \n",
       " [3] LC_TIME=en_US.UTF-8        LC_COLLATE=en_US.UTF-8    \n",
       " [5] LC_MONETARY=en_US.UTF-8    LC_MESSAGES=en_US.UTF-8   \n",
       " [7] LC_PAPER=en_US.UTF-8       LC_NAME=C                 \n",
       " [9] LC_ADDRESS=C               LC_TELEPHONE=C            \n",
       "[11] LC_MEASUREMENT=en_US.UTF-8 LC_IDENTIFICATION=C       \n",
       "\n",
       "attached base packages:\n",
       "[1] stats     graphics  grDevices utils     datasets  methods   base     \n",
       "\n",
       "other attached packages:\n",
       " [1] DeclareDesign_0.12.0 estimatr_0.14        fabricatr_0.6.0     \n",
       " [4] randomizr_0.16.1     corrplot_0.84        blockrand_1.3       \n",
       " [7] blockTools_0.6-3     viridis_0.5.1        viridisLite_0.3.0   \n",
       "[10] forcats_0.3.0        stringr_1.3.1        dplyr_0.7.8         \n",
       "[13] purrr_0.2.5          readr_1.2.1          tidyr_0.8.2         \n",
       "[16] tibble_1.4.2         tidyverse_1.2.1      rlang_0.3.0.1       \n",
       "[19] ggplot2_3.1.0       \n",
       "\n",
       "loaded via a namespace (and not attached):\n",
       " [1] Rcpp_1.0.0       lubridate_1.7.4  lattice_0.20-38  assertthat_0.2.0\n",
       " [5] digest_0.6.18    IRdisplay_0.7.0  R6_2.3.0         cellranger_1.1.0\n",
       " [9] plyr_1.8.4       repr_0.18        backports_1.1.2  evaluate_0.12   \n",
       "[13] httr_1.3.1       pillar_1.3.0     lazyeval_0.2.1   uuid_0.1-2      \n",
       "[17] readxl_1.1.0     rstudioapi_0.8   labeling_0.3     munsell_0.5.0   \n",
       "[21] broom_0.5.1      compiler_3.5.1   modelr_0.1.2     pkgconfig_2.0.2 \n",
       "[25] base64enc_0.1-3  htmltools_0.3.6  tidyselect_0.2.5 gridExtra_2.3   \n",
       "[29] crayon_1.3.4     withr_2.1.2      MASS_7.3-51.1    grid_3.5.1      \n",
       "[33] nlme_3.1-137     jsonlite_1.6     gtable_0.2.0     magrittr_1.5    \n",
       "[37] scales_1.0.0     cli_1.0.1        stringi_1.2.4    reshape2_1.4.3  \n",
       "[41] bindrcpp_0.2.2   xml2_1.2.0       generics_0.0.2   IRkernel_0.8.14 \n",
       "[45] Formula_1.2-3    tools_3.5.1      glue_1.3.0       hms_0.4.2       \n",
       "[49] colorspace_1.3-2 rvest_0.3.2      pbdZMQ_0.3-3     bindr_0.1.1     \n",
       "[53] haven_2.0.0     "
      ]
     },
     "metadata": {},
     "output_type": "display_data"
    }
   ],
   "source": [
    "options(\"scipen\"=9, \"digits\"=4)\n",
    "library(ggplot2)\n",
    "library(rlang)\n",
    "library(tidyverse)\n",
    "library(viridis)\n",
    "library(blockTools)\n",
    "library(blockrand)\n",
    "library(corrplot)\n",
    "library(DeclareDesign)\n",
    "options(repr.plot.width=7, repr.plot.height=3.5)\n",
    "sessionInfo()"
   ]
  },
  {
   "cell_type": "markdown",
   "metadata": {},
   "source": [
    "# Load Input Dataframe"
   ]
  },
  {
   "cell_type": "code",
   "execution_count": 169,
   "metadata": {},
   "outputs": [
    {
     "name": "stderr",
     "output_type": "stream",
     "text": [
      "Warning message in `[<-.factor`(`*tmp*`, ri, value = c(169L, 213L, 134L, 103L, 97L, :\n",
      "“invalid factor level, NA generated”Warning message in `[<-.factor`(`*tmp*`, ri, value = c(70L, 81L, 107L, 410L, 115L, :\n",
      "“invalid factor level, NA generated”"
     ]
    }
   ],
   "source": [
    "data.path <- \"~/Tresors/CivilServant/projects/wikipedia-integration/gratitude-study/Data Drills/thanker_hardlaunch/\"\n",
    "filename = paste(\"fa\", \"-merged-20190717.csv\", sep=\"\")\n",
    "initial.thanker.df <- read.csv(file.path(data.path, \"historical_survey_merged\", filename))\n",
    "initial.thanker.df$google_doc <- NULL\n",
    "initial.thanker.df$Qualtrics <- NULL\n",
    "initial.thanker.df$Google_form <- NULL\n",
    "\n",
    "languages = c(\"de\", \"pl\")\n",
    "files = list()\n",
    "for(lang in languages){\n",
    "    filename = paste(lang, \"-merged-20190717.csv\", sep=\"\")\n",
    "    t.df <- read.csv(file.path(data.path, \"historical_survey_merged\", filename))\n",
    "    initial.thanker.df <- rbind(initial.thanker.df, t.df)\n",
    "}"
   ]
  },
  {
   "cell_type": "code",
   "execution_count": 170,
   "metadata": {},
   "outputs": [
    {
     "data": {
      "text/html": [
       "420"
      ],
      "text/latex": [
       "420"
      ],
      "text/markdown": [
       "420"
      ],
      "text/plain": [
       "[1] 420"
      ]
     },
     "metadata": {},
     "output_type": "display_data"
    }
   ],
   "source": [
    "nrow(initial.thanker.df)"
   ]
  },
  {
   "cell_type": "markdown",
   "metadata": {},
   "source": [
    "### Set up Account Age Variable"
   ]
  },
  {
   "cell_type": "code",
   "execution_count": 171,
   "metadata": {},
   "outputs": [],
   "source": [
    "initial.thanker.df$user_created <- as.Date(substring(initial.thanker.df$user_registration,1,10), \"%m/%d/%Y\")\n",
    "\n",
    "initial.thanker.df$account.age <- round(as.integer(max(initial.thanker.df$user_created) - initial.thanker.df$user_created) / 365)"
   ]
  },
  {
   "cell_type": "code",
   "execution_count": 172,
   "metadata": {},
   "outputs": [
    {
     "data": {
      "image/png": "[encoded data removed]",
      "text/plain": [
       "Plot with title “Histogram of initial.thanker.df$account.age”"
      ]
     },
     "metadata": {},
     "output_type": "display_data"
    }
   ],
   "source": [
    "hist(initial.thanker.df$account.age)"
   ]
  },
  {
   "cell_type": "markdown",
   "metadata": {},
   "source": [
    "# Load List of Eligible Thankers\n",
    "\n",
    "This list is generated by the jupyter notebook script `\"Calculate Per-Language Counts of Thankers and Superthankers and Generate List of Thankers.py\"`"
   ]
  },
  {
   "cell_type": "code",
   "execution_count": 173,
   "metadata": {},
   "outputs": [],
   "source": [
    "all.thankers.df <- read.csv(file.path(data.path,\"thanker_email_recruitment/thanker_recruitment_emails-07.26.2019.csv\"))"
   ]
  },
  {
   "cell_type": "code",
   "execution_count": 174,
   "metadata": {},
   "outputs": [
    {
     "name": "stdout",
     "output_type": "stream",
     "text": [
      "[1] \"413 total eligible thankers\"\n",
      "[1] \"420 thankers in the full dataset\"\n",
      "[1] \"413 thankers in full dataset, constrained by eligible thankers\"\n"
     ]
    }
   ],
   "source": [
    "print(paste(nrow(all.thankers.df), \"total eligible thankers\"))\n",
    "print(paste(nrow(initial.thanker.df), \"thankers in the full dataset\"))\n",
    "\n",
    "\n",
    "print(paste(nrow(subset(\n",
    "                initial.thanker.df, anonymized_id %in% all.thankers.df$anon_id\n",
    "            )), \"thankers in full dataset, constrained by eligible thankers\"))"
   ]
  },
  {
   "cell_type": "markdown",
   "metadata": {},
   "source": [
    "# Include Only Eligible Thankers in the Randomizations"
   ]
  },
  {
   "cell_type": "code",
   "execution_count": 175,
   "metadata": {},
   "outputs": [
    {
     "data": {
      "text/html": [
       "413"
      ],
      "text/latex": [
       "413"
      ],
      "text/markdown": [
       "413"
      ],
      "text/plain": [
       "[1] 413"
      ]
     },
     "metadata": {},
     "output_type": "display_data"
    }
   ],
   "source": [
    "thanker.df <- subset(initial.thanker.df, anonymized_id %in% all.thankers.df$anon_id)\n",
    "nrow(thanker.df)"
   ]
  },
  {
   "cell_type": "markdown",
   "metadata": {},
   "source": [
    "### Create Supportive Variable"
   ]
  },
  {
   "cell_type": "code",
   "execution_count": 176,
   "metadata": {},
   "outputs": [],
   "source": [
    "thanker.df$supportive_84_pre_treatment <- rowSums(thanker.df[,\n",
    "                                                  c(\"support_talk_84_pre_treatment\",\n",
    "                                                    \"wikithank_84_pre_treatment\",\n",
    "                                                    \"project_talk_84_pre_treatment\")], na.rm=TRUE)\n",
    "\n",
    "thanker.df$is_official_bot <- as.integer(thanker.df$is_official_bot) == 1"
   ]
  },
  {
   "cell_type": "code",
   "execution_count": 177,
   "metadata": {},
   "outputs": [
    {
     "name": "stderr",
     "output_type": "stream",
     "text": [
      "`stat_bin()` using `bins = 30`. Pick better value with `binwidth`.\n"
     ]
    },
    {
     "data": {},
     "metadata": {},
     "output_type": "display_data"
    },
    {
     "data": {
      "image/png": "[encoded data removed]",
      "text/plain": [
       "plot without title"
      ]
     },
     "metadata": {},
     "output_type": "display_data"
    }
   ],
   "source": [
    "ggplot(thanker.df, aes(supportive_84_pre_treatment)) +\n",
    "    geom_histogram() +\n",
    "    facet_grid(. ~ lang ) +\n",
    "    ggtitle(\"Supportive Actions 84 days Before Treatment\")"
   ]
  },
  {
   "cell_type": "markdown",
   "metadata": {},
   "source": [
    "### Self-Reported Positive Feelings about Wikipedia"
   ]
  },
  {
   "cell_type": "code",
   "execution_count": 178,
   "metadata": {},
   "outputs": [
    {
     "data": {},
     "metadata": {},
     "output_type": "display_data"
    },
    {
     "data": {
      "image/png": "[encoded data removed]",
      "text/plain": [
       "plot without title"
      ]
     },
     "metadata": {},
     "output_type": "display_data"
    }
   ],
   "source": [
    "ggplot(thanker.df, aes(pre_feel_positive)) +\n",
    "    geom_histogram(bins=5) +\n",
    "    facet_grid(. ~ lang ) +\n",
    "    ggtitle(\"Self Reported Positive Feelings about Contributions to Wikipedia\")"
   ]
  },
  {
   "cell_type": "markdown",
   "metadata": {},
   "source": [
    "### Remove bots and subset values outside the 99% confidence intervals\n",
    "\n",
    "Decision July 27, 2019: JNM decided not to remove outliers, since it would have too much of an impact on  "
   ]
  },
  {
   "cell_type": "code",
   "execution_count": 179,
   "metadata": {},
   "outputs": [
    {
     "name": "stdout",
     "output_type": "stream",
     "text": [
      "[1] \"Removing 0 officially registered bots\"\n"
     ]
    },
    {
     "name": "stderr",
     "output_type": "stream",
     "text": [
      "Warning message in mean.default(thanker.df$protective_84_pre_treatment):\n",
      "“argument is not numeric or logical: returning NA”"
     ]
    },
    {
     "name": "stdout",
     "output_type": "stream",
     "text": [
      "[1] \"Removing 11 observations from the study and directing them to experience the treatment condition because their value for supportive_84_pre_treatment is above the 99% confidence interval.\"\n",
      "[1] \"Accounts Removed from Assignment  per language:\"\n"
     ]
    },
    {
     "data": {
      "text/html": [
       "<dl class=dl-horizontal>\n",
       "\t<dt>fa</dt>\n",
       "\t\t<dd>1</dd>\n",
       "\t<dt>de</dt>\n",
       "\t\t<dd>8</dd>\n",
       "\t<dt>pl</dt>\n",
       "\t\t<dd>2</dd>\n",
       "</dl>\n"
      ],
      "text/latex": [
       "\\begin{description*}\n",
       "\\item[fa] 1\n",
       "\\item[de] 8\n",
       "\\item[pl] 2\n",
       "\\end{description*}\n"
      ],
      "text/markdown": [
       "fa\n",
       ":   1de\n",
       ":   8pl\n",
       ":   2\n",
       "\n"
      ],
      "text/plain": [
       "fa de pl \n",
       " 1  8  2 "
      ]
     },
     "metadata": {},
     "output_type": "display_data"
    },
    {
     "name": "stdout",
     "output_type": "stream",
     "text": [
      "[1] \"402 total accounts included in randomizations\"\n"
     ]
    },
    {
     "data": {
      "text/html": [
       "<dl class=dl-horizontal>\n",
       "\t<dt>fa</dt>\n",
       "\t\t<dd>53</dd>\n",
       "\t<dt>de</dt>\n",
       "\t\t<dd>287</dd>\n",
       "\t<dt>pl</dt>\n",
       "\t\t<dd>62</dd>\n",
       "</dl>\n"
      ],
      "text/latex": [
       "\\begin{description*}\n",
       "\\item[fa] 53\n",
       "\\item[de] 287\n",
       "\\item[pl] 62\n",
       "\\end{description*}\n"
      ],
      "text/markdown": [
       "fa\n",
       ":   53de\n",
       ":   287pl\n",
       ":   62\n",
       "\n"
      ],
      "text/plain": [
       " fa  de  pl \n",
       " 53 287  62 "
      ]
     },
     "metadata": {},
     "output_type": "display_data"
    },
    {
     "name": "stdout",
     "output_type": "stream",
     "text": [
      "[1] \"^ In Persian and German, where there are odd numbers of participants, the matching algorithm will identify which observation matches least well, and we will remove that participant from the study and ensure they receive the treatment.\"\n"
     ]
    }
   ],
   "source": [
    "print(paste(\"Removing\", nrow(subset(thanker.df, is_official_bot==TRUE)), \"officially registered bots\"))\n",
    "thanker.df.final <- subset(thanker.df, is_official_bot != TRUE)\n",
    "\n",
    "## CALCULATE MEANS AND SDs before making any removals\n",
    "df.support.mean <- mean(thanker.df$supportive_84_pre_treatment)\n",
    "df.support.sd   <- sd(thanker.df$supportive_84_pre_treatment)\n",
    "df.protect.mean <- mean(thanker.df$protective_84_pre_treatment)\n",
    "df.protect.sd   <- sd(thanker.df$protective_84_pre_treatment)\n",
    "\n",
    "\n",
    "print(paste(\"Removing\", \n",
    "            nrow(subset(thanker.df, \n",
    "                        supportive_84_pre_treatment > df.support.mean + 2.58* df.support.sd)),\n",
    "           \"observations from the study and directing them to experience the treatment condition because their value for supportive_84_pre_treatment is above the 99% confidence interval.\"))\n",
    "\n",
    "thanker.df.not.randomized <- subset(thanker.df.final, supportive_84_pre_treatment > df.support.mean + 2.58* df.support.sd)\n",
    "print(\"Accounts Removed from Assignment  per language:\")\n",
    "summary(thanker.df.not.randomized$lang)\n",
    "\n",
    "thanker.df.final <- subset(thanker.df.final, supportive_84_pre_treatment <= df.support.mean + 2.58* df.support.sd)\n",
    "\n",
    "print(paste(nrow(thanker.df.final), \"total accounts included in randomizations\"))\n",
    "summary(thanker.df.final$lang)\n",
    "\n",
    "print(\"^ In Persian and German, where there are odd numbers of participants, the matching algorithm will identify which observation matches least well, and we will remove that participant from the study and ensure they receive the treatment.\")"
   ]
  },
  {
   "cell_type": "markdown",
   "metadata": {},
   "source": [
    "# Generate Randomization Blocks"
   ]
  },
  {
   "cell_type": "code",
   "execution_count": 180,
   "metadata": {
    "scrolled": false
   },
   "outputs": [],
   "source": [
    "## BLOCKING VARIABLES\n",
    "bv = c(\"supportive_84_pre_treatment\",\"account.age\", \"pre_feel_positive\")\n",
    "\n",
    "block.size = 2\n",
    "\n",
    "## TODO: CHECK TO SEE IF I CAN DO BALANCED RANDOMIZATION\n",
    "## WITHIN BLOCKS LARGER THAN 2\n",
    "blockobj = block(data=thanker.df.final,\n",
    "            n.tr = block.size,\n",
    "            groups = \"lang\",\n",
    "            id.vars=\"anonymized_id\",\n",
    "            block.vars = bv,\n",
    "            distance =\"mahalanobis\"\n",
    "            )\n",
    "## CHECK DISTANCES\n",
    "#print(blockobj)\n",
    "thanker.df.final$randomization_block_id <- createBlockIDs(blockobj,\n",
    "                                   data=thanker.df.final,\n",
    "                                   id.var = \"anonymized_id\")\n",
    "thanker.df.final$randomization_block_size = block.size"
   ]
  },
  {
   "cell_type": "markdown",
   "metadata": {},
   "source": [
    "### Identify Blocks with fewer than two participants and add them to thanker.df.not.randomized"
   ]
  },
  {
   "cell_type": "code",
   "execution_count": 181,
   "metadata": {},
   "outputs": [
    {
     "name": "stdout",
     "output_type": "stream",
     "text": [
      "[1] \"11 thankers not randomized before the addition of unmatched observations\"\n",
      "[1] \"400 thankers randomized\"\n",
      "[1] \"13 thankers not randomized\"\n"
     ]
    }
   ],
   "source": [
    "block.sizes <- aggregate(thanker.df.final$randomization_block_id, FUN=length, by=list(thanker.df.final$randomization_block_id))\n",
    "incomplete.blocks <- subset(block.sizes, x == 1)$Group.1\n",
    "\n",
    "print(paste(nrow(thanker.df.not.randomized), \"thankers not randomized before the addition of unmatched observations\"))\n",
    "\n",
    "thanker.df.not.randomized <- rbind(thanker.df.not.randomized, subset(thanker.df.final, randomization_block_id %in% incomplete.blocks)[colnames(thanker.df.not.randomized)])\n",
    "thanker.df.randomized <- subset(thanker.df.final, (randomization_block_id %in% incomplete.blocks)!=TRUE)\n",
    "\n",
    "print(paste(nrow(thanker.df.randomized), \"thankers randomized\"))\n",
    "print(paste(nrow(thanker.df.not.randomized), \"thankers not randomized\"))"
   ]
  },
  {
   "cell_type": "markdown",
   "metadata": {},
   "source": [
    "# Generate Randomizations"
   ]
  },
  {
   "cell_type": "code",
   "execution_count": 187,
   "metadata": {},
   "outputs": [],
   "source": [
    "## Seed generated by Brooklyn Integers\n",
    "# https://www.brooklynintegers.com/int/1394221459/\n",
    "set.seed(1394221459)"
   ]
  },
  {
   "cell_type": "code",
   "execution_count": 191,
   "metadata": {},
   "outputs": [],
   "source": [
    "assignments <- block_ra(blocks=thanker.df.randomized$randomization_block_id, \n",
    "                        prob=0.5)\n",
    "thanker.df.randomized$randomization_arm <- assignments "
   ]
  },
  {
   "cell_type": "markdown",
   "metadata": {},
   "source": [
    "### Check Balance"
   ]
  },
  {
   "cell_type": "code",
   "execution_count": 193,
   "metadata": {},
   "outputs": [
    {
     "data": {
      "text/html": [
       "<table>\n",
       "<thead><tr><th scope=col>Group.1</th><th scope=col>x</th></tr></thead>\n",
       "<tbody>\n",
       "\t<tr><td>fa </td><td>0.5</td></tr>\n",
       "\t<tr><td>de </td><td>0.5</td></tr>\n",
       "\t<tr><td>pl </td><td>0.5</td></tr>\n",
       "</tbody>\n",
       "</table>\n"
      ],
      "text/latex": [
       "\\begin{tabular}{r|ll}\n",
       " Group.1 & x\\\\\n",
       "\\hline\n",
       "\t fa  & 0.5\\\\\n",
       "\t de  & 0.5\\\\\n",
       "\t pl  & 0.5\\\\\n",
       "\\end{tabular}\n"
      ],
      "text/markdown": [
       "\n",
       "Group.1 | x | \n",
       "|---|---|---|\n",
       "| fa  | 0.5 | \n",
       "| de  | 0.5 | \n",
       "| pl  | 0.5 | \n",
       "\n",
       "\n"
      ],
      "text/plain": [
       "  Group.1 x  \n",
       "1 fa      0.5\n",
       "2 de      0.5\n",
       "3 pl      0.5"
      ]
     },
     "metadata": {},
     "output_type": "display_data"
    }
   ],
   "source": [
    "aggregate(thanker.df.randomized$randomization_arm, FUN=mean, by=list(thanker.df.randomized$lang))"
   ]
  },
  {
   "cell_type": "code",
   "execution_count": 198,
   "metadata": {},
   "outputs": [],
   "source": [
    "# add 'randomization_block_id' \n",
    "#     'randomization_block_size' \n",
    "#     'randomization_arm'\n",
    "thanker.df.not.randomized$randomization_block_id <- -1\n",
    "thanker.df.not.randomized$randomization_block_size <- -1\n",
    "thanker.df.not.randomized$randomization_arm <- 1"
   ]
  },
  {
   "cell_type": "markdown",
   "metadata": {},
   "source": [
    "# Output and Archive Randomizations"
   ]
  },
  {
   "cell_type": "code",
   "execution_count": 17,
   "metadata": {},
   "outputs": [],
   "source": [
    "write.csv(rbind(thanker.df.not.randomized, thanker.df.randomized), \n",
    "          file.path(data.path, \"randomization_output\", \n",
    "                    \"all-thanker-randomization-final-20190727.csv\"))"
   ]
  },
  {
   "cell_type": "markdown",
   "metadata": {},
   "source": [
    "### Load and analyzing randomization file"
   ]
  },
  {
   "cell_type": "code",
   "execution_count": 20,
   "metadata": {},
   "outputs": [],
   "source": [
    "randomization.data.df <- read.csv(file.path(data.path, \"randomization_output\", \n",
    "                    \"all-thanker-randomization-final-20190727.csv\"))"
   ]
  },
  {
   "cell_type": "code",
   "execution_count": 29,
   "metadata": {},
   "outputs": [
    {
     "name": "stdout",
     "output_type": "stream",
     "text": [
      "[1] \"413 total participants\"\n",
      "[1] \"400 randomized participants in file, corresponding to 400 participants expected to be randomized\"\n"
     ]
    }
   ],
   "source": [
    "print(paste(nrow(randomization.data.df), \"total participants\"))\n",
    "print(paste(nrow(subset(randomization.data.df, randomization_block_id >0 )), \"randomized participants in file, corresponding to\",\n",
    "            nrow(thanker.df.randomized), \"participants expected to be randomized\"))"
   ]
  },
  {
   "cell_type": "code",
   "execution_count": null,
   "metadata": {},
   "outputs": [],
   "source": []
  }
 ],
 "metadata": {
  "kernelspec": {
   "display_name": "R",
   "language": "R",
   "name": "ir"
  },
  "language_info": {
   "codemirror_mode": "r",
   "file_extension": ".r",
   "mimetype": "text/x-r-source",
   "name": "R",
   "pygments_lexer": "r",
   "version": "3.5.1"
  }
 },
 "nbformat": 4,
 "nbformat_minor": 2
}
