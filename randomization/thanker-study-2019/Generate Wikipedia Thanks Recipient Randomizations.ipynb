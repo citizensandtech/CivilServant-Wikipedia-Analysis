{
 "cells": [
  {
   "cell_type": "markdown",
   "metadata": {},
   "source": [
    "# Wikipedia Thanks-Receiver Study Randomization \n",
    "[J. Nathan Matias](https://twitter.com/natematias)\n",
    "April 27, 2019\n",
    "\n",
    "This code takes as input data described in the [randomization data format](https://docs.google.com/document/d/1plhoDbQryYQ32vZMXu8YmlLSp30QTdup43k6uTePOT4/edit?usp=drive_web&ouid=117701977297551627494) and produces randomizations for the Thanker study."
   ]
  },
  {
   "cell_type": "code",
   "execution_count": 7,
   "metadata": {},
   "outputs": [
    {
     "data": {
      "text/plain": [
       "R version 3.5.1 (2018-07-02)\n",
       "Platform: x86_64-pc-linux-gnu (64-bit)\n",
       "Running under: Ubuntu 16.04.5 LTS\n",
       "\n",
       "Matrix products: default\n",
       "BLAS: /usr/lib/libblas/libblas.so.3.6.0\n",
       "LAPACK: /usr/lib/lapack/liblapack.so.3.6.0\n",
       "\n",
       "locale:\n",
       " [1] LC_CTYPE=en_US.UTF-8       LC_NUMERIC=C              \n",
       " [3] LC_TIME=en_US.UTF-8        LC_COLLATE=en_US.UTF-8    \n",
       " [5] LC_MONETARY=en_US.UTF-8    LC_MESSAGES=en_US.UTF-8   \n",
       " [7] LC_PAPER=en_US.UTF-8       LC_NAME=C                 \n",
       " [9] LC_ADDRESS=C               LC_TELEPHONE=C            \n",
       "[11] LC_MEASUREMENT=en_US.UTF-8 LC_IDENTIFICATION=C       \n",
       "\n",
       "attached base packages:\n",
       "[1] stats     graphics  grDevices utils     datasets  methods   base     \n",
       "\n",
       "other attached packages:\n",
       " [1] DeclareDesign_0.12.0 estimatr_0.14        fabricatr_0.6.0     \n",
       " [4] randomizr_0.16.1     blockrand_1.3        blockTools_0.6-3    \n",
       " [7] viridis_0.5.1        viridisLite_0.3.0    forcats_0.3.0       \n",
       "[10] stringr_1.3.1        dplyr_0.7.8          purrr_0.2.5         \n",
       "[13] readr_1.2.1          tidyr_0.8.2          tibble_1.4.2        \n",
       "[16] tidyverse_1.2.1      rlang_0.3.0.1        ggplot2_3.1.0       \n",
       "\n",
       "loaded via a namespace (and not attached):\n",
       " [1] pbdZMQ_0.3-3     tidyselect_0.2.5 repr_0.18        haven_2.0.0     \n",
       " [5] lattice_0.20-38  colorspace_1.3-2 generics_0.0.2   htmltools_0.3.6 \n",
       " [9] base64enc_0.1-3  pillar_1.3.0     glue_1.3.0       withr_2.1.2     \n",
       "[13] modelr_0.1.2     readxl_1.1.0     bindrcpp_0.2.2   uuid_0.1-2      \n",
       "[17] bindr_0.1.1      plyr_1.8.4       munsell_0.5.0    gtable_0.2.0    \n",
       "[21] cellranger_1.1.0 rvest_0.3.2      evaluate_0.12    broom_0.5.1     \n",
       "[25] IRdisplay_0.7.0  Rcpp_1.0.0       scales_1.0.0     backports_1.1.2 \n",
       "[29] IRkernel_0.8.14  jsonlite_1.6     gridExtra_2.3    hms_0.4.2       \n",
       "[33] digest_0.6.18    stringi_1.2.4    grid_3.5.1       cli_1.0.1       \n",
       "[37] tools_3.5.1      magrittr_1.5     lazyeval_0.2.1   Formula_1.2-3   \n",
       "[41] crayon_1.3.4     pkgconfig_2.0.2  MASS_7.3-51.1    xml2_1.2.0      \n",
       "[45] lubridate_1.7.4  assertthat_0.2.0 httr_1.3.1       rstudioapi_0.8  \n",
       "[49] R6_2.3.0         nlme_3.1-137     compiler_3.5.1  "
      ]
     },
     "metadata": {},
     "output_type": "display_data"
    }
   ],
   "source": [
    "options(\"scipen\"=9, \"digits\"=4)\n",
    "library(ggplot2)\n",
    "library(rlang)\n",
    "library(tidyverse)\n",
    "library(viridis)\n",
    "library(blockTools)\n",
    "library(blockrand)\n",
    "library(DeclareDesign)\n",
    "options(repr.plot.width=7, repr.plot.height=3.5)\n",
    "sessionInfo()"
   ]
  },
  {
   "cell_type": "markdown",
   "metadata": {},
   "source": [
    "# Load Input Dataframe"
   ]
  },
  {
   "cell_type": "code",
   "execution_count": null,
   "metadata": {},
   "outputs": [],
   "source": [
    "filename = \"FILENAME\"\n",
    "data.path <- \"~/Tresors/CivilServant/projects/wikipedia-integration/gratitude-study/datasets/power_analysis\"\n",
    "recipient.df <- read.csv(file.path(data.path, filename))"
   ]
  },
  {
   "cell_type": "markdown",
   "metadata": {},
   "source": [
    "### Subset values outside the 99% confidence intervals"
   ]
  },
  {
   "cell_type": "code",
   "execution_count": null,
   "metadata": {},
   "outputs": [],
   "source": [
    "## CALCULATE MEANS AND SDs before making any removals\n",
    "df.labor.mean <- mean(recipient.df$labor_hours_84_days_pre_sample)\n",
    "df.labor.sd   <- sd(recipient.df$labor_hours_84_days_pre_sample)\n",
    "\n",
    "print(paste(\"Removing\", \n",
    "            nrow(subset(recipient.df,\n",
    "                        labor_hours_84_days_pre_sample > df.labor.mean + 2.58* df.labor.sd), \"outliers\"),\n",
    "           \"observations because labor_hours_84_days_pre_sample is an outlier.\"))\n",
    "recipient.df.final <- subset(recipient.df, labor_hours_84_days_pre_sample <= df.labor.mean + 2.58* df.labor.sd)"
   ]
  },
  {
   "cell_type": "markdown",
   "metadata": {},
   "source": [
    "# Review and Generate Variables"
   ]
  },
  {
   "cell_type": "code",
   "execution_count": null,
   "metadata": {},
   "outputs": [],
   "source": [
    "## Add the newcomer field\n",
    "recipient.df.final$newcomer <- recipient.df.final$prev_experience == 0\n",
    "\n",
    "## Update the has_email field\n",
    "recipient.df.final$has_email <- recipient.df.final$has_email == \"True\"\n",
    "\n",
    "## PREVIOUS EXPERIENCE\n",
    "print(\"prev_experience\")\n",
    "print(summary(factor(recipient.df.final$prev_experience)))\n",
    "cat(\"\\n\")\n",
    "\n",
    "## SHOW LABOR HOURS BY EXPERIENCE GROUP:\n",
    "print(\"Aggregate labor_hours_84_days_pre_sample\")\n",
    "print(aggregate(recipient.df.final[c(\"labor_hours_84_days_pre_sample\")],\n",
    "          FUN=mean, by = list(recipient.df.final$prev_experience)))\n",
    "cat(\"\\n\")\n",
    "\n",
    "print(\"NEWCOMERS AND EMAILS\")\n",
    "print(\"--------------------\")\n",
    "print(CrossTable(recipient.df.final$has_email, recipient.df.final$newcomer, \n",
    "       prop.r = FALSE, prop.c=TRUE, prop.t = FALSE, prop.chisq = FALSE))\n",
    "\n",
    "# VARIABLE: num_prev_thanks_pre_treatment\n",
    "print(\"num_prev_thanks_pre_sample\")\n",
    "print(summary(recipient.df.final$num_prev_thanks_pre_sample))\n",
    "cat(\"\\n\")\n",
    "    \n",
    "## SHOW PREVIOUS THANKS BY EXPERIENCE GROUP:\n",
    "print(\"num_prev_thanks_pre_sample by prev_experience\")\n",
    "print(aggregate(recipient.df.final[c(\"num_prev_thanks_pre_sample\")],\n",
    "      FUN=mean, by = list(recipient.df.final$prev_experience)))\n",
    "cat(\"\\n\")"
   ]
  },
  {
   "cell_type": "markdown",
   "metadata": {},
   "source": [
    "# Generate Randomization Blocks"
   ]
  },
  {
   "cell_type": "code",
   "execution_count": null,
   "metadata": {},
   "outputs": [],
   "source": [
    "## BLOCKING VARIABLES\n",
    "bv = c(\"labor_hours_90_pre_treatment\", \"num_prev_thanks_pre_treatment\")\n",
    "#bv = c(\"labor_hours_90_pre_treatment\", \"num_prev_thanks_pre_treatment\", \"has_email\")\n",
    "\n",
    "block.size = 2\n",
    "\n",
    "## TODO: CHECK TO SEE IF I CAN DO BALANCED RANDOMIZATION\n",
    "## WITHIN BLOCKS LARGER THAN 2\n",
    "blockobj = block(data=recipient.df.final,\n",
    "            n.tr = block.size,\n",
    "            groups = recipient.df.final$prev_experience,\n",
    "            id.vars=\"id\",\n",
    "            block.vars = bv,\n",
    "            distance =\"mahalanobis\"\n",
    "            )\n",
    "## CHECK DISTANCES\n",
    "print(blockobj)\n",
    "recipient.df.final$randomization_block_id <- createBlockIDs(blockobj,\n",
    "                                   data=recipient.df.final,\n",
    "                                   id.var = \"id\")\n",
    "recipient.df.final$randomization_block_size = block.size"
   ]
  },
  {
   "cell_type": "markdown",
   "metadata": {},
   "source": [
    "# Generate Randomizations"
   ]
  },
  {
   "cell_type": "code",
   "execution_count": 11,
   "metadata": {},
   "outputs": [],
   "source": [
    "## Seed generated by Brooklyn Integers\n",
    "# https://www.brooklynintegers.com/int/1377549523/\n",
    "set.seed(1377549523)"
   ]
  },
  {
   "cell_type": "code",
   "execution_count": null,
   "metadata": {},
   "outputs": [],
   "source": [
    "assignments <- block_ra(blocks=recipient.df.final$randomization_block_id, \n",
    "                           block_prob=0.5, num_arms = 2)\n",
    "recipient.df.final$randomization_arm <- assignments "
   ]
  },
  {
   "cell_type": "markdown",
   "metadata": {},
   "source": [
    "### Check Balance"
   ]
  },
  {
   "cell_type": "code",
   "execution_count": null,
   "metadata": {},
   "outputs": [],
   "source": [
    "## TODO"
   ]
  },
  {
   "cell_type": "markdown",
   "metadata": {},
   "source": [
    "# Output and Archive Randomizations"
   ]
  },
  {
   "cell_type": "code",
   "execution_count": null,
   "metadata": {},
   "outputs": [],
   "source": []
  }
 ],
 "metadata": {
  "kernelspec": {
   "display_name": "R",
   "language": "R",
   "name": "ir"
  },
  "language_info": {
   "codemirror_mode": "r",
   "file_extension": ".r",
   "mimetype": "text/x-r-source",
   "name": "R",
   "pygments_lexer": "r",
   "version": "3.5.1"
  }
 },
 "nbformat": 4,
 "nbformat_minor": 2
}
